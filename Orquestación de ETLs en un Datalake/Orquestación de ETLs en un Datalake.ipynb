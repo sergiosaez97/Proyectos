{
 "cells": [
  {
   "cell_type": "markdown",
   "id": "7da1a07b-4098-4103-a45c-378507024872",
   "metadata": {},
   "source": [
    "<img src=\"http://www.cidaen.es/assets/img/mCIDaeNnb.png\" alt=\"Logo CiDAEN\" align=\"right\">\n",
    "\n",
    "\n",
    "\n",
    "\n",
    "<br><br><br>\n",
    "<h2><font color=\"#00586D\" size=4>Módulo 13: Almacenes de datos: Datalakes</font></h2>\n",
    "\n",
    "\n",
    "\n",
    "<h1><font color=\"#00586D\" size=5>Capstone XIII - Orquestación de ETLs en un Datalake</font></h1>\n",
    "\n",
    "<br><br><br>\n",
    "<div style=\"text-align: right\">\n",
    "<font color=\"#00586D\" size=3>Javier Cózar</font><br>\n",
    "<font color=\"#00586D\" size=3>Máster en Ciencia de Datos e Ingeniería de Datos en la Nube</font><br>\n",
    "<font color=\"#00586D\" size=3>Universidad de Castilla-La Mancha</font>\n",
    "\n",
    "</div>"
   ]
  },
  {
   "cell_type": "markdown",
   "id": "e5a78671-d6c0-4ab1-b889-aad58ee4d12f",
   "metadata": {},
   "source": [
    "## NobelPrice\n",
    "\n",
    "En este capstone vamos a trabajar con los datos de las celebraciones de premios Nobel y las personas y entidades laureadas. Para ello haremos uso de la API de [nobelprize.org](https://www.nobelprize.org/about/developer-zone-2/). Esta API tiene documentación en formato OpenAPI alojado en la plataforma [swaggerhub](https://app.swaggerhub.com/apis/NobelMedia/NobelMasterData/2.1), que es un estandar bastante extendido y como podréis comprobar es muy cómodo e interesante de explorar!\n",
    "\n",
    "Vamos a crear un datalake usando **AWS S3**, a implementar nuestras ETLs en **AWS Lambda**, y a orquestar su ejecución a través de **Prefect**, ejecutando el flujo localmente. A continuación describimos qué ETLs implementar y los pasos a seguir para orquestar las ETLs con Prefect.\n",
    "\n",
    "\n",
    "### Descripción\n",
    "\n",
    "Los premios Nobel se celebran anualmente (salvo algún problema, como ocurrió durante _la segunda guerra mundial_). Vamos a automatizar la extracción de los datos todos los **1 de enero de cada año** haciendo lo siguiente:\n",
    "- Descargaremos los datos **del año anterior para todas las categorías** (`che`, `eco`, `lit`, `pea`, `phy`, `med`)\n",
    "- Almacenaremos en el datalake (prefijo `raw`) estos datos en formato parquet\n",
    "- Ejecutaremos las ETL implementadas (bronze y silver)\n",
    "\n",
    "Finalmente, usaremos la libreta de jupyter para acceder a las tablas generadas por la ETL y **responder ciertas preguntas de analítica**."
   ]
  },
  {
   "cell_type": "markdown",
   "id": "b524b8ef-8833-43f2-8b71-ef05997ca19e",
   "metadata": {
    "tags": []
   },
   "source": [
    "## Ejercicio 1. Crear el bucket de S3 que será nuestro datalake\n",
    "\n",
    "Vamos a crear un bucket de S3 en nuestra cuenta de AWS Academy. Este bucket contendrá los prefijos:\n",
    "\n",
    "- **raw**: contendrá los datos en crudo extraídos de la API.\n",
    "- **bronze**: contendrá tablas que serán uniones de tablas con nombres de columnas posiblemente modificadas y tipos de columnas casteadas.\n",
    "- **silver**: contendrá tablas de alto nivel que serán utilizadas para acceder a la información granularmente."
   ]
  },
  {
   "cell_type": "markdown",
   "id": "ad4bfdef-bd90-4ba5-b352-34825ac73063",
   "metadata": {},
   "source": [
    "## Ejercicio 2. Crear la layer para AWS Lambda\n",
    "\n",
    "Vamos a utilizar `pandas`, `pyarrow`, `requests` y `s3fs` en todas nuestras lambdas. La consola tiene un límite de 50MB por zip, pero nuestra layer es mayor. Para poder crearla hay que subir el zip `layer.zip` a un bucket de S3 y crear la layer a partir de la S3 URI. La layer está creada para `python 3.8` y arquitectura `x86_64`.\n",
    "\n",
    "**NOTA**: podéis ver las versiones de los paquetes utilizados en las layers para lambda en el fichero `requirements_lambda.txt`. Hay que usar la misma versión de python y de los paquetes para desarrollar en local y así evitar errores (podéis probar el código dentro de una imagen de docker si fuese necesario)."
   ]
  },
  {
   "cell_type": "markdown",
   "id": "13b3a230-0e12-427f-8925-a818ac6726e2",
   "metadata": {
    "tags": []
   },
   "source": [
    "## Ejercicio 3. Crear las AWS Lambdas de extracción\n",
    "\n",
    "Las funciones deben extraer información de `nobelPrizes` y `laureates`, es decir, premios Nobel y laureados o personas premiadas. Para ello:\n",
    "\n",
    "1. Usar el endpoint `http://api.nobelprize.org/2.1/nobelPrize/{category}/{year}` para obtener la información de todos los premios Nobel para una categoría y un año concreto.\n",
    "2. Usar el endpoint `http://api.nobelprize.org/2.1/laureate/{laureateID}` para obtener la información de un laureado en base a su ID.\n",
    "\n",
    "Los datos serán almacenados en el datalake en formato parquet, que permite leer cómodamente varios ficheros con una llamada `pd.read_parquet` y podríamos ejecutar procesos de compactación de datos cuando fuese necesario. Sin embargo, hay ciertas estructuras complejas que parquet no tiene implementado en su versión en python (algunas de ellas nos las encontramos en las respuestas de estas APIs). Por ello, en lugar de almacenar los datos directamente en crudo los procesaremos ligeramente con el fin de generar datos estructurados. Es importante destacar que esto se realiza **para simplificar el proceso**, ya que es importante almacenar los datos en crudo, tal cual los extraemos, para su posterior uso. Una práctica más realista sería almacenar el json tal cual como raw, y usar una lambda para crear un raw_processed que sería el parquet que estamos generando ahora.\n",
    "\n",
    "**Importante**: selecciona la arquitectura `x86_64` y la versión de python 3.8. Finalmente, debes seleccionar el **rol de Iam** existente llamado `LabRole`. También configuraremos el timeout de la lambda a 1 minuto y 2048 MB de RAM para asegurarnos que le da tiempo a ejecutarse correctamente."
   ]
  },
  {
   "cell_type": "markdown",
   "id": "351efd28-631e-431b-b8d6-0994b904fc27",
   "metadata": {
    "tags": []
   },
   "source": [
    "### Ejercicio 3.1 AWS Lambda `extractNobelPrizes`\n",
    "\n",
    "La función debe recibir en el evento la categoría y el año a extraer y hacer uso del endpoint `http://api.nobelprize.org/2.1/nobelPrize/{category}/{year}` para extraer la información. Una vez obtenido, vamos a construir un DataFrame con pandas de una sola fila (manualmente a partir de una estructura de python). Este dataframe tendrá las siguientes columnas:\n",
    "\n",
    "- **awardYear**: el campo `awardYear`. Si no existe dejar un NA\n",
    "- **category**: el campo `en` dentro de `category`. Si no existe dejar un NA\n",
    "- **categoryFullName**: el campo `en` dentro de `categoryFullName`. Si no existe dejar un NA\n",
    "- **dateAwarded**: el campo `dateAwarded`. Si no existe dejar un NA\n",
    "- **prizeAmount**: el campo `prizeAmount`. Si no existe dejar un NA\n",
    "- **prizeAmountAdjusted**: el campo `prizeAmountAdjusted`. Si no existe dejar un NA\n",
    "- **laureates_id**: una lista de laureate id's, correspondiente con el campo `id` de cada elemento de la lista de `laureates`\n",
    "- **laureates_portion**: una lista de strings correspondientes con el valor interno `portion` de cada elemento de la lista de `laureates`\n",
    "\n",
    "Posteriormente vamos a almacenar el DataFrame en el bucket del datalake en formato parquet (con el nombre `raw/nobelPrizes/{category}-{year}.parquet`).\n",
    "\n",
    "Además la función debe **devolver una lista que contenaga los IDs de los laureados** implicados en los premios Nobel obtenidos (lista de id's de la columna `laureates`).\n",
    "\n",
    "Puedes ver si la lambda funciona usando uno de los siguientes códigos como categoría `che`, `eco`, `lit`, `pea`, `phy`, `med` y un año a tu elección (por ejemplo 2010)."
   ]
  },
  {
   "cell_type": "raw",
   "id": "484e0372-9561-4f9a-bf82-194d16105287",
   "metadata": {},
   "source": [
    "import json\n",
    "import pandas as pd\n",
    "import requests\n",
    "import boto3\n",
    "\n",
    "def lambda_handler(event, context):\n",
    "    category = event['category']\n",
    "    year = event['year']\n",
    "    \n",
    "    # Construir la URL de la API\n",
    "    url = f\"http://api.nobelprize.org/2.1/nobelPrize/{category}/{year}\"\n",
    "    \n",
    "    # Realizar la solicitud GET a la API\n",
    "    response = requests.get(url)\n",
    "    data = response.json()\n",
    "    \n",
    "    # Extraer la información necesaria\n",
    "    awardYear = data[0]['awardYear'] if data else 'NA'\n",
    "    categoryFullName = data[0]['categoryFullName']['en'] if data and 'categoryFullName' in data[0] and 'en' in data[0]['categoryFullName'] else 'NA'\n",
    "    dateAwarded = data[0]['dateAwarded'] if data else 'NA'\n",
    "    prizeAmount = data[0]['prizeAmount'] if data else 'NA'\n",
    "    prizeAmountAdjusted = data[0]['prizeAmountAdjusted'] if data else 'NA'\n",
    "    \n",
    "    laureates = data[0]['laureates'] if data else []\n",
    "    laureates_ids = [str(laureate['id']) for laureate in laureates]\n",
    "    laureates_portion = [str(laureate['portion']) for laureate in laureates]\n",
    "    \n",
    "    # Construir el DataFrame\n",
    "    df = pd.DataFrame({\n",
    "        'awardYear': [awardYear],\n",
    "        'category': [category],\n",
    "        'categoryFullName': [categoryFullName],\n",
    "        'dateAwarded': [dateAwarded],\n",
    "        'prizeAmount': [prizeAmount],\n",
    "        'prizeAmountAdjusted': [prizeAmountAdjusted],\n",
    "        'laureates_id': [laureates_ids],\n",
    "        'laureates_portion': [laureates_portion]\n",
    "    })\n",
    "    \n",
    "    # Almacenar el DataFrame en formato parquet en S3\n",
    "    s3 = boto3.client('s3')\n",
    "    bucket = 'datalake-sergiosaez-capstone13'\n",
    "    key = f'raw/nobelPrizes/{event[\"category\"]}-{year}.parquet'\n",
    "    \n",
    "    df.to_parquet(f\"s3://{bucket}/{key}\", engine='fastparquet')\n",
    "    \n",
    "    return laureates_ids"
   ]
  },
  {
   "cell_type": "markdown",
   "id": "4cb916d6-dff2-4c8a-98ed-62d422d9100d",
   "metadata": {
    "tags": []
   },
   "source": [
    "### Ejercicio 3.2 AWS Lambda `extractLaureate`\n",
    "\n",
    "La función debe recibir en el evento el ID del laureado a extraer y hacer uso del endpoint `http://api.nobelprize.org/2.1/laureate/{laureateID}` para extraer la información. Una vez obtenido, vamos a construir un DataFrame con pandas de una sola fila (manualmente a partir de una estructura de python). Este dataframe tendrá las siguientes columnas:\n",
    "\n",
    "- **id**: el campo `id`. Si no existe dejar un NA\n",
    "- **fullName**: el campo `en` dentro de `fullName`. Si no existe dejar un NA\n",
    "- **fileName**: el campo `fileName`. Si no existe dejar un NA\n",
    "- **gender**: el campo `gender`. Si no existe dejar un NA\n",
    "- **birth**: el campo `date` dentro de `birth`. Si no existe dejar un NA\n",
    "\n",
    "Posteriormente vamos a almacenar el DataFrame en el bucket del datalake en formato parquet (con el nombre `raw/laureates/{laureateID}.parquet`).\n",
    "\n",
    "Puedes ver si la lambda funciona usando uno de los id's de la llamada anterior (por ejemplo 851).\n",
    "\n",
    "**Importante**: selecciona la arquitectura `x86_64` y la versión de python 3.8. Finalmente, debes seleccionar el **rol de Iam** existente llamado `LabRole`. También configuraremos el timeout de la lambda a 1 minuto y 2048 MB de RAM para asegurarnos que le da tiempo a ejecutarse correctamente."
   ]
  },
  {
   "cell_type": "raw",
   "id": "b54078e4-3149-4668-b091-5c6d87283c1f",
   "metadata": {},
   "source": [
    "# Completar: introducir el código de la lambda aquí\n",
    "\n",
    "import json\n",
    "import pandas as pd\n",
    "import requests\n",
    "import boto3\n",
    "\n",
    "def lambda_handler(event, context):\n",
    "    laureateID = event['laureateID']\n",
    "    \n",
    "    # Construir la URL de la API\n",
    "    url = f\"http://api.nobelprize.org/2.1/laureate/{laureateID}\"\n",
    "    \n",
    "    # Realizar la solicitud GET a la API\n",
    "    response = requests.get(url)\n",
    "    data = response.json()\n",
    "    \n",
    "    laureate = data[0] if data else {}\n",
    "    \n",
    "    # Extraer la información necesaria\n",
    "    id = laureate['id'] if 'id' in laureate else 'NA'\n",
    "    fullName = laureate['fullName']['en'] if 'fullName' in laureate and 'en' in laureate['fullName'] else 'NA'\n",
    "    fileName = laureate['fileName'] if 'fileName' in laureate else 'NA'\n",
    "    gender = laureate['gender'] if 'gender' in laureate else 'NA'\n",
    "    birth = laureate['birth']['date'] if 'birth' in laureate and 'date' in laureate['birth'] else 'NA'\n",
    "    \n",
    "    # Construir el DataFrame\n",
    "    df = pd.DataFrame({\n",
    "        'id': [id],\n",
    "        'fullName': [fullName],\n",
    "        'fileName': [fileName],\n",
    "        'gender': [gender],\n",
    "        'birth': [birth],\n",
    "    })\n",
    "    \n",
    "    # Almacenar el DataFrame en formato parquet en S3\n",
    "    s3 = boto3.client('s3')\n",
    "    bucket = 'datalake-sergiosaez-capstone13'\n",
    "    key = f'raw/laureates/{laureateID}.parquet'\n",
    "    \n",
    "    df.to_parquet(f\"s3://{bucket}/{key}\", engine='fastparquet')\n",
    "    \n",
    "    return id"
   ]
  },
  {
   "cell_type": "markdown",
   "id": "0227133a-39a1-48c7-b99a-3aa61282a631",
   "metadata": {
    "jp-MarkdownHeadingCollapsed": true,
    "tags": []
   },
   "source": [
    "## Combinación de premios Nobel y laureados\n",
    "\n",
    "Como los datos en `raw/nobelPrizes` y `raw/laureates` son ficheros parquet, podemos leer todos de una y crear un único `pd.DataFrame` usando `pd.read_parquet(\"s3://{bucket-datalake}/raw/nobelPrizes\")` y `pd.read_parquet(\"s3://{bucket-datalake}/raw/laureates\")` respectivamente.\n",
    "\n",
    "A continuación vamos a implementar dos funciones AWS Lambda para generar una tabla `bronze` y una tabla `silver`.\n",
    "\n",
    "**NOTA**: Para desarrollar localmente el código de estas dos ETL podéis usar los ficheros `nobelPrizes-1901-2019.parquet` y `laureates-1901-2019.parquet` disponibles en campus virtual, que contienen los datos exportados desde 1901 hasta 2019 (usando los endpoints de la API que dan todos los datos existentes paginados). Pero recordad que la lambda debe leer finalmente directamente del bucket de S3. En adelante nos referiremos a los datos de nobel prizes como `df_nobel_prizes` y a los datos de laureates como `df_laureates`."
   ]
  },
  {
   "cell_type": "markdown",
   "id": "96e0e8e1-587e-481d-8d9d-4a12e6f0e9d2",
   "metadata": {},
   "source": [
    "## Ejercicio 4. ETL bronze\n",
    "\n",
    "En esta ETL vamos a analizar los datos en crudo que tenemos delante, limpiarlos, reestructurarlos y combinarlos.\n",
    "\n",
    "### Procesar el dataframe `df_nobel_prizes`\n",
    "\n",
    "1. Vamos a explorar el contenido del dataframe y la completitud de los datos. ¿Hay nobels sin asignar? (es decir, `laureates` con valores perdidos). **Descartaremos esas filas en las que hay nobeks sin asignar**.\n",
    "2. Un mismo premio puede ser compartido por varios laureados, esto se indica a través de las columnas `laureates_id` y `laureates_portion`, que son listas. Utilizar [explode](https://pandas.pydata.org/docs/reference/api/pandas.DataFrame.explode.html) para transformar el dataframe y tener un solo laureado por fila.\n",
    "3. Vamos a castear la columna `laureates_id` para que sea un valor entero\n",
    "\n",
    "### Procesar el dataframe `df_laureates`\n",
    "\n",
    "4. Hemos detectado que alguna de las columnas de interés no tiene un nombrado consistente. Renombrar las columnas:\n",
    "    - `fileName` por `file_name`\n",
    "5. Vamos a castear la columna `id` para que sea un valor entero\n",
    "\n",
    "### Combinar ambos dataframes\n",
    "\n",
    "6. Combinar ambos dataframes por medio de la columna del id del laureado. Usar un inner join.\n",
    "\n",
    "### Implementar la AWS Lambda que ejecute la ETL bronze\n",
    "\n",
    "7. La lambda debe y genere en el datalake un fichero parquet resultante de escribir el dataframe de pandas (path `bronze/bronze_laureates.parquet`).\n",
    "8. Al igual que antes utiliza la layer. Selecciona la arquitectura `x86_64` y la versión de python 3.8. Finalmente, debes seleccionar el **rol de Iam** existente llamado `LabRole`. También configuraremos el timeout de la lambda a 5 minutos y 2048 MB de RAM para asegurarnos que le da tiempo a ejecutarse correctamente.\n",
    "\n",
    "\n",
    "**Nota**: el resultado de aplicar la ETL debería ser similar al que mostramos a continuación."
   ]
  },
  {
   "cell_type": "markdown",
   "id": "2c7101c5-644e-4cfd-a8e7-2120a668390a",
   "metadata": {},
   "source": [
    "|    |   awardYear | category   | categoryFullName             | dateAwarded   |   prizeAmount |   prizeAmountAdjusted |   laureates_id | laureates_portion   | fullName        | fileName   | gender   | birth      |\n",
    "|---:|------------:|:-----------|:-----------------------------|:--------------|--------------:|----------------------:|---------------:|:--------------------|:----------------|:-----------|:---------|:-----------|\n",
    "|  0 |        2010 | Chemistry  | The Nobel Prize in Chemistry | 2010-10-06    |      10000000 |              11015580 |            851 | 1/3                 | Richard F. Heck | heck       | male     | 1931-08-15 |\n",
    "|  1 |        2010 | Chemistry  | The Nobel Prize in Chemistry | 2010-10-06    |      10000000 |              11015580 |            851 | 1/3                 | Richard F. Heck | heck       | male     | 1931-08-15 |"
   ]
  },
  {
   "cell_type": "raw",
   "id": "986e8465-2f8c-4056-a594-d843d337e6cd",
   "metadata": {},
   "source": [
    "# Completar: introducir el código de la lambda aquí\n",
    "import pandas as pd\n",
    "import boto3\n",
    "\n",
    "def lambda_handler(event, context):\n",
    "    # Lectura del archivo parquet de nobelPrizes desde el bucket del datalake\n",
    "    bucket = 'datalake-sergiosaez-capstone13'\n",
    "    nobel_prizes_key = 'raw/nobelPrizes/*.parquet'\n",
    "    laureates_key = 'raw/laureates/*.parquet'\n",
    "\n",
    "    s3 = boto3.client('s3')\n",
    "    df_nobel_prizes = pd.read_parquet(f\"s3://{bucket}/{nobel_prizes_key}\")\n",
    "    df_laureates = pd.read_parquet(f\"s3://{bucket}/{laureates_key}\")\n",
    "    \n",
    "    # Procesar el dataframe df_nobel_prizes\n",
    "    df_nobel_prizes.dropna(subset=['laureates_id'], inplace=True)\n",
    "    df_nobel_prizes = df_nobel_prizes.explode(['laureates_id','laureates_portion'])\n",
    "    df_nobel_prizes['laureates_id'] = df_nobel_prizes['laureates_id'].astype(int)\n",
    "    \n",
    "    # Procesar el dataframe df_laureates\n",
    "    df_laureates.rename(columns={'fileName': 'file_name'}, inplace=True)\n",
    "    df_laureates['id'] = df_laureates['id'].astype(int)\n",
    "    \n",
    "    # Combinar ambos dataframes\n",
    "    bronze_df = pd.merge(df_nobel_prizes, df_laureates, left_on='laureates_id', right_on='id', how='inner')\n",
    "    \n",
    "    # Eliminar columnas innecesarias\n",
    "    bronze_df.drop(['id'], axis=1, inplace=True)\n",
    "    \n",
    "    # Almacenar el DataFrame en formato parquet en S3\n",
    "    bronze_key = 'bronze/bronze_laureates.parquet'\n",
    "    bronze_df.to_parquet(f\"s3://{bucket}/{bronze_key}\", engine='fastparquet', index=False)\n",
    "    \n",
    "    return \"ETL bronze ejecutada con éxito\""
   ]
  },
  {
   "cell_type": "code",
   "execution_count": 1,
   "id": "c34609b0-d431-4bd6-a954-f70d5b0551d0",
   "metadata": {},
   "outputs": [
    {
     "data": {
      "text/html": [
       "<div>\n",
       "<style scoped>\n",
       "    .dataframe tbody tr th:only-of-type {\n",
       "        vertical-align: middle;\n",
       "    }\n",
       "\n",
       "    .dataframe tbody tr th {\n",
       "        vertical-align: top;\n",
       "    }\n",
       "\n",
       "    .dataframe thead th {\n",
       "        text-align: right;\n",
       "    }\n",
       "</style>\n",
       "<table border=\"1\" class=\"dataframe\">\n",
       "  <thead>\n",
       "    <tr style=\"text-align: right;\">\n",
       "      <th></th>\n",
       "      <th>awardYear</th>\n",
       "      <th>category</th>\n",
       "      <th>categoryFullName</th>\n",
       "      <th>dateAwarded</th>\n",
       "      <th>prizeAmount</th>\n",
       "      <th>prizeAmountAdjusted</th>\n",
       "      <th>laureates_id</th>\n",
       "      <th>laureates_portion</th>\n",
       "      <th>fullName</th>\n",
       "      <th>file_name</th>\n",
       "      <th>gender</th>\n",
       "      <th>birth</th>\n",
       "    </tr>\n",
       "  </thead>\n",
       "  <tbody>\n",
       "    <tr>\n",
       "      <th>0</th>\n",
       "      <td>2010</td>\n",
       "      <td>che</td>\n",
       "      <td>The Nobel Prize in Chemistry</td>\n",
       "      <td>2010-10-06</td>\n",
       "      <td>10000000</td>\n",
       "      <td>11015580</td>\n",
       "      <td>851</td>\n",
       "      <td>1/3</td>\n",
       "      <td>Richard F. Heck</td>\n",
       "      <td>heck</td>\n",
       "      <td>male</td>\n",
       "      <td>1931-08-15</td>\n",
       "    </tr>\n",
       "    <tr>\n",
       "      <th>1</th>\n",
       "      <td>2010</td>\n",
       "      <td>che</td>\n",
       "      <td>The Nobel Prize in Chemistry</td>\n",
       "      <td>2010-10-06</td>\n",
       "      <td>10000000</td>\n",
       "      <td>11015580</td>\n",
       "      <td>852</td>\n",
       "      <td>1/3</td>\n",
       "      <td>Ei-ichi Negishi</td>\n",
       "      <td>negishi</td>\n",
       "      <td>male</td>\n",
       "      <td>1935-07-14</td>\n",
       "    </tr>\n",
       "    <tr>\n",
       "      <th>2</th>\n",
       "      <td>2010</td>\n",
       "      <td>che</td>\n",
       "      <td>The Nobel Prize in Chemistry</td>\n",
       "      <td>2010-10-06</td>\n",
       "      <td>10000000</td>\n",
       "      <td>11015580</td>\n",
       "      <td>853</td>\n",
       "      <td>1/3</td>\n",
       "      <td>Akira Suzuki</td>\n",
       "      <td>suzuki</td>\n",
       "      <td>male</td>\n",
       "      <td>1930-09-12</td>\n",
       "    </tr>\n",
       "  </tbody>\n",
       "</table>\n",
       "</div>"
      ],
      "text/plain": [
       "  awardYear category              categoryFullName dateAwarded  prizeAmount  \\\n",
       "0      2010      che  The Nobel Prize in Chemistry  2010-10-06     10000000   \n",
       "1      2010      che  The Nobel Prize in Chemistry  2010-10-06     10000000   \n",
       "2      2010      che  The Nobel Prize in Chemistry  2010-10-06     10000000   \n",
       "\n",
       "   prizeAmountAdjusted  laureates_id laureates_portion         fullName  \\\n",
       "0             11015580           851               1/3  Richard F. Heck   \n",
       "1             11015580           852               1/3  Ei-ichi Negishi   \n",
       "2             11015580           853               1/3     Akira Suzuki   \n",
       "\n",
       "  file_name gender       birth  \n",
       "0      heck   male  1931-08-15  \n",
       "1   negishi   male  1935-07-14  \n",
       "2    suzuki   male  1930-09-12  "
      ]
     },
     "execution_count": 1,
     "metadata": {},
     "output_type": "execute_result"
    }
   ],
   "source": [
    "import pandas as pd\n",
    "import s3fs\n",
    "\n",
    "\n",
    "# Lee el archivo Parquet desde S3 y crea el DataFrame\n",
    "bronze = pd.read_parquet('s3://datalake-sergiosaez-capstone13/bronze/bronze_laureates.parquet')\n",
    "\n",
    "# Muestra el DataFrame en forma de tabla\n",
    "bronze.head()"
   ]
  },
  {
   "cell_type": "markdown",
   "id": "74621b95-ce31-4cd0-b967-7785c31f155d",
   "metadata": {},
   "source": [
    "## Ejercicio 5. ETL silver\n",
    "\n",
    "En esta ETL vamos a procesar el dataframe bronze `df_bronze_laureates` y a construir nuevas variables.\n",
    "\n",
    "### Procesar el dataframe `df_bronze_laureates`\n",
    "\n",
    "\n",
    "1. Tras analizar el dataframe bronze hemos evaluado el nombre de las columnas y algunas de ellas no nos parece un nombrado consistente. Renombrar las columnas para que tengan un formato uniforme:\n",
    "    - `prizeAmount` por `prize_amount`\n",
    "    - `awardYear` por `year`\n",
    "    - `fileName` por `file_name`\n",
    "    - `laureates_id` por `laureate_id`\n",
    "    - `laureates_portion` por `laureate_portion`\n",
    "    - `categoryFullName` por `category_full_name`\n",
    "    - `dateAwarded` por `date_awarded`\n",
    "    - `prizeAmountAdjusted` port `prize_amount_adjusted`\n",
    "    - `fullName` por `full_name`\n",
    " \n",
    "2. Una de las columnas que hemos creado anteriormente, `laureate_portion`, es un string que representa una fracción. Nos interesa disponer del valor en formato numérico para crear una nueva columna `prize_amount_real` que represente el premio real recibido por cada laureado (al repartir el premio se divide económicamente en base a `laureate_portion`). Vamos a crear dos columnas más:\n",
    "\n",
    "  - `laureate_portion`: Vamos a sobreescribir esta columna, que es una fracción en formato string, para que sea un número decimal. Usar el código `from fractions import Fraction`, y aplicar un casting a `float` del `Fraction(texto)` para convertirlo a valor numérico\n",
    "\n",
    "```python\n",
    "from fractions import Fraction\n",
    "float(Fraction(\"1/3\"))\n",
    "```\n",
    "\n",
    "  - `prize_amount_real`: Esta columna representa el valor real ganado por cada laureado. Se calcula como `prize_amount` multiplicado por `laureate_portion`\n",
    "  \n",
    "### Implementar la AWS Lambda que ejecute la ETL silver\n",
    "\n",
    "3. La lambda debe y genere en el datalake un fichero parquet resultante de escribir el dataframe de pandas (path `silver/silver_laureates.parquet`).\n",
    "4. Al igual que antes utiliza la layer. Selecciona la arquitectura `x86_64` y la versión de python 3.8. Finalmente, debes seleccionar el **rol de Iam** existente llamado `LabRole`. También configuraremos el timeout de la lambda a 5 minutos y 2048 MB de RAM para asegurarnos que le da tiempo a ejecutarse correctamente.\n",
    "\n",
    "\n",
    "**Nota**: el resultado de aplicar la ETL debería ser similar al que mostramos a continuación."
   ]
  },
  {
   "cell_type": "code",
   "execution_count": 2,
   "id": "fba2d64d-fb38-4584-9245-e2f7e87fb5d2",
   "metadata": {},
   "outputs": [
    {
     "data": {
      "text/html": [
       "<div>\n",
       "<style scoped>\n",
       "    .dataframe tbody tr th:only-of-type {\n",
       "        vertical-align: middle;\n",
       "    }\n",
       "\n",
       "    .dataframe tbody tr th {\n",
       "        vertical-align: top;\n",
       "    }\n",
       "\n",
       "    .dataframe thead th {\n",
       "        text-align: right;\n",
       "    }\n",
       "</style>\n",
       "<table border=\"1\" class=\"dataframe\">\n",
       "  <thead>\n",
       "    <tr style=\"text-align: right;\">\n",
       "      <th></th>\n",
       "      <th>year</th>\n",
       "      <th>category</th>\n",
       "      <th>category_full_name</th>\n",
       "      <th>date_awarded</th>\n",
       "      <th>prize_amount</th>\n",
       "      <th>prize_amount_adjusted</th>\n",
       "      <th>laureate_id</th>\n",
       "      <th>laureate_portion</th>\n",
       "      <th>full_name</th>\n",
       "      <th>file_name</th>\n",
       "      <th>gender</th>\n",
       "      <th>birth</th>\n",
       "      <th>prize_amount_real</th>\n",
       "    </tr>\n",
       "  </thead>\n",
       "  <tbody>\n",
       "    <tr>\n",
       "      <th>0</th>\n",
       "      <td>2010</td>\n",
       "      <td>che</td>\n",
       "      <td>The Nobel Prize in Chemistry</td>\n",
       "      <td>2010-10-06</td>\n",
       "      <td>10000000</td>\n",
       "      <td>11015580</td>\n",
       "      <td>851</td>\n",
       "      <td>0.333333</td>\n",
       "      <td>Richard F. Heck</td>\n",
       "      <td>heck</td>\n",
       "      <td>male</td>\n",
       "      <td>1931-08-15</td>\n",
       "      <td>3.333333e+06</td>\n",
       "    </tr>\n",
       "    <tr>\n",
       "      <th>1</th>\n",
       "      <td>2010</td>\n",
       "      <td>che</td>\n",
       "      <td>The Nobel Prize in Chemistry</td>\n",
       "      <td>2010-10-06</td>\n",
       "      <td>10000000</td>\n",
       "      <td>11015580</td>\n",
       "      <td>852</td>\n",
       "      <td>0.333333</td>\n",
       "      <td>Ei-ichi Negishi</td>\n",
       "      <td>negishi</td>\n",
       "      <td>male</td>\n",
       "      <td>1935-07-14</td>\n",
       "      <td>3.333333e+06</td>\n",
       "    </tr>\n",
       "    <tr>\n",
       "      <th>2</th>\n",
       "      <td>2010</td>\n",
       "      <td>che</td>\n",
       "      <td>The Nobel Prize in Chemistry</td>\n",
       "      <td>2010-10-06</td>\n",
       "      <td>10000000</td>\n",
       "      <td>11015580</td>\n",
       "      <td>853</td>\n",
       "      <td>0.333333</td>\n",
       "      <td>Akira Suzuki</td>\n",
       "      <td>suzuki</td>\n",
       "      <td>male</td>\n",
       "      <td>1930-09-12</td>\n",
       "      <td>3.333333e+06</td>\n",
       "    </tr>\n",
       "  </tbody>\n",
       "</table>\n",
       "</div>"
      ],
      "text/plain": [
       "   year category            category_full_name date_awarded  prize_amount  \\\n",
       "0  2010      che  The Nobel Prize in Chemistry   2010-10-06      10000000   \n",
       "1  2010      che  The Nobel Prize in Chemistry   2010-10-06      10000000   \n",
       "2  2010      che  The Nobel Prize in Chemistry   2010-10-06      10000000   \n",
       "\n",
       "   prize_amount_adjusted  laureate_id  laureate_portion        full_name  \\\n",
       "0               11015580          851          0.333333  Richard F. Heck   \n",
       "1               11015580          852          0.333333  Ei-ichi Negishi   \n",
       "2               11015580          853          0.333333     Akira Suzuki   \n",
       "\n",
       "  file_name gender       birth  prize_amount_real  \n",
       "0      heck   male  1931-08-15       3.333333e+06  \n",
       "1   negishi   male  1935-07-14       3.333333e+06  \n",
       "2    suzuki   male  1930-09-12       3.333333e+06  "
      ]
     },
     "execution_count": 2,
     "metadata": {},
     "output_type": "execute_result"
    }
   ],
   "source": [
    "import pandas as pd\n",
    "import s3fs\n",
    "\n",
    "\n",
    "# Lee el archivo Parquet desde S3 y crea el DataFrame\n",
    "silver = pd.read_parquet('s3://datalake-sergiosaez-capstone13/silver/silver_laureates.parquet')\n",
    "\n",
    "# Muestra el DataFrame en forma de tabla\n",
    "silver.head()"
   ]
  },
  {
   "cell_type": "code",
   "execution_count": null,
   "id": "6fb16a2d-1ceb-4e97-80b1-4ad2a5c592e0",
   "metadata": {},
   "outputs": [],
   "source": []
  },
  {
   "cell_type": "markdown",
   "id": "6de5c02e-efbc-4586-a084-dd22a14dc40d",
   "metadata": {},
   "source": [
    "|    |   year | category   | categoryFullName             | dateAwarded   |   prize_amount |   prizeAmountAdjusted |   laureate_id |   laureate_portion | fullName        | file_name   | gender   | birth      |   prize_amount_real |\n",
    "|---:|-------:|:-----------|:-----------------------------|:--------------|---------------:|----------------------:|--------------:|-------------------:|:----------------|:------------|:---------|:-----------|--------------------:|\n",
    "|  0 |   2010 | Chemistry  | The Nobel Prize in Chemistry | 2010-10-06    |       10000000 |              11015580 |           851 |           0.333333 | Richard F. Heck | heck        | male     | 1931-08-15 |         3.33333e+06 |\n",
    "|  1 |   2010 | Chemistry  | The Nobel Prize in Chemistry | 2010-10-06    |       10000000 |              11015580 |           851 |           0.333333 | Richard F. Heck | heck        | male     | 1931-08-15 |         3.33333e+06 |"
   ]
  },
  {
   "cell_type": "raw",
   "id": "5df04448-a6e9-46cc-bb2b-a70d730fefac",
   "metadata": {},
   "source": [
    "# Completar: introducir el código de la lambda aquí\n",
    "import pandas as pd\n",
    "from fractions import Fraction\n",
    "import boto3\n",
    "\n",
    "def lambda_handler(event, context):\n",
    "    # Lectura del archivo parquet bronze df_bronze_laureates desde el bucket del datalake\n",
    "    bucket = 'datalake-sergiosaez-capstone13'\n",
    "    bronze_key = 'bronze/bronze_laureates.parquet'\n",
    "\n",
    "    s3 = boto3.client('s3')\n",
    "    df_bronze_laureates = pd.read_parquet(f\"s3://{bucket}/{bronze_key}\")\n",
    "    \n",
    "    # Procesar el dataframe df_bronze_laureates\n",
    "    df_bronze_laureates.rename(columns={'prizeAmount': 'prize_amount',\n",
    "                                        'awardYear': 'year',\n",
    "                                        'fileName': 'file_name',\n",
    "                                        'laureates_id': 'laureate_id',\n",
    "                                        'laureates_portion': 'laureate_portion',\n",
    "                                        'categoryFullName': 'category_full_name',\n",
    "                                        'dateAwarded': 'date_awarded',\n",
    "                                        'prizeAmountAdjusted': 'prize_amount_adjusted',\n",
    "                                        'fullName': 'full_name'}, inplace=True)\n",
    "\n",
    "    df_bronze_laureates['laureate_portion'] = df_bronze_laureates['laureate_portion'].apply(lambda x: float(Fraction(x)))\n",
    "    df_bronze_laureates['prize_amount_real'] = df_bronze_laureates['prize_amount'] * df_bronze_laureates['laureate_portion']\n",
    "    \n",
    "    # Almacenar el DataFrame en formato parquet en S3\n",
    "    silver_key = 'silver/silver_laureates.parquet'\n",
    "    df_bronze_laureates.to_parquet(f\"s3://{bucket}/{silver_key}\", engine='fastparquet', index=False)\n",
    "    \n",
    "    return \"ETL Silver ejecutada con éxito\""
   ]
  },
  {
   "cell_type": "markdown",
   "id": "5a5dab24-0cec-4f39-ab18-59231727cc9e",
   "metadata": {},
   "source": [
    "## Ejercicio 6. Orquestar con prefect core\n",
    "\n",
    "Ahora vamos a escribir un flujo con prefect para que:\n",
    "\n",
    "1. Exporte los datos del año anterior invocando la lambda `extractNobelPrizes` con lun parámetro indicando la categoría a exportar (`che`, `eco`, `lit`, `pea`, `phy` o `med`). Es decir, se realizarán 6 invocaciones, una por categoría. Para obtener en el año anterior obtendremos del contexto la fecha actual (`prefect.runtime.flow_run.scheduled_start_time.year`), que es un objeto `pendulum.datetime.DateTime`, accederemos al campo `year` y le restaremos 1.\n",
    "2. Por cada invocación de la lambda `extractNobelPrizes` se realizarán `N` invocaciones de la lambda `extractLaureate`, usando la funcionalidad de `map` para que por cada id de laureado devuelto por la lambda `extractNobelPrizes` (lista de ids de laureados) se ejecute la lambda `extractLaureate` con el parámetro `laureateId `correspondiente.\n",
    "3. Tras extraer todos los datos del año anterior, ahora deberemos ejecutar la ETL bronze (lambda `bronze_laureates`).\n",
    "4. Finalmente, deberemos ejecutar la ETL bronze (lambda `bronze_laureates`).\n",
    "\n",
    "**Nota**: para invocar las AWS Lambda usaremos boto3. Podemos ver la documentación en este [link](https://boto3.amazonaws.com/v1/documentation/api/latest/reference/services/lambda.html#Lambda.Client.invoke).\n",
    "\n",
    "**Tip**: recuerda que puedes ejecutar tareas de prefect accediendo al atributo `fn` y los flujos ejecutándolos como si fueran funciones. Si necesitas establecer un contexto específico, como es el caso de la tarea `extract_nobel_prizes` con respecto a la fecha actual, puedes usar variables de entorno tal y como se indica en la [documentación oficial](https://docs.prefect.io/latest/concepts/runtime-context/).\n",
    "\n",
    "```python\n",
    "import os\n",
    "os.environ[\"PREFECT__RUNTIME__FLOW_RUN__SCHEDULED_START_TIME\"] = \"2020-01-01 00:00:00\"\n",
    "# si queremos deshacer el cambio, basta con borrar esta variable de entorno\n",
    "# del os.environ[\"PREFECT__RUNTIME__FLOW_RUN__SCHEDULED_START_TIME\"] \n",
    "```\n",
    "\n",
    "En este caso el elemento `prefect.runtime.flow_run.scheduled_start_time` será un string. Podemos usar el siguiente código en nuestra tarea de `extract_nobel_prizes` para que si estamos mockeando el valor de `scheduled_start_time` y es un string convertirlo a `DateTime`, y si no dejarlo como está:\n",
    "\n",
    "```python\n",
    "if isinstance(prefect.runtime.flow_run.scheduled_start_time, str):\n",
    "    year = pendulum.from_format(prefect.runtime.flow_run.scheduled_start_time, \"YYYY-MM-DD HH:mm:ss\").year\n",
    "else:\n",
    "    year = prefect.runtime.flow_run.scheduled_start_time.year\n",
    "```"
   ]
  },
  {
   "cell_type": "code",
   "execution_count": 26,
   "id": "825157f7-91b3-48e0-aa15-e62786a003a1",
   "metadata": {},
   "outputs": [],
   "source": [
    "#!pip install prefect"
   ]
  },
  {
   "cell_type": "markdown",
   "id": "95cf6962-b54a-4f22-b38a-2ca6dbe3362a",
   "metadata": {},
   "source": [
    "<font color=\"red\">IMPORTANTE: HE TENIDO QUE INSTALAR LA VERSIÓN DE BOTOCORE 1.31.7 DEBIDO A LA INCOMPATIBILIDAD CON BOTO3</font>"
   ]
  },
  {
   "cell_type": "code",
   "execution_count": 1,
   "id": "4acad849-cd5b-4a6b-a6fd-aa620efadae1",
   "metadata": {},
   "outputs": [],
   "source": [
    "import os\n",
    "os.environ[\"PREFECT__RUNTIME__FLOW_RUN__SCHEDULED_START_TIME\"] = \"2020-01-01 00:00:00\""
   ]
  },
  {
   "cell_type": "code",
   "execution_count": 1,
   "id": "727a7bff-a035-4daf-b34a-cb8fab3d3238",
   "metadata": {},
   "outputs": [],
   "source": [
    "import prefect\n",
    "from prefect import flow, task, unmapped\n",
    "import boto3\n",
    "import pendulum\n",
    "import json\n",
    "\n",
    "client = boto3.client('lambda',region_name='us-east-1')\n",
    "\n",
    "@task(name='extract_nobel_prizes_')\n",
    "def extract_nobel_prizes(category, year):\n",
    "    payload = json.dumps({'category': category, 'year': year})\n",
    "    print(payload)\n",
    "    # Invocar la función 'extractNobelPrizes' con la carga útil serializada\n",
    "    response = client.invoke(FunctionName='extractNobelPrizes', Payload=payload)\n",
    "    # Decodificar y cargar la respuesta de bytes a un diccionario JSON\n",
    "    response_data = json.loads(response['Payload'].read().decode('utf-8'))\n",
    "    return response_data\n",
    "    \n",
    "@task(name='extract_laureate_')\n",
    "def extract_laureate(laureates_ids):\n",
    "    for laureate_id in laureates_ids:\n",
    "        payload = json.dumps({'laureateID' : laureate_id})\n",
    "        print(payload)\n",
    "        response = client.invoke(FunctionName='extractLaureate', Payload=payload)\n",
    "        response_body = json.loads(response['Payload'].read().decode('utf-8'))\n",
    "\n",
    "@task(name='etl_bronze_')\n",
    "\n",
    "def etl_bronze():\n",
    "    # Invoke bronze_laureates Lambda function\n",
    "    response = client.invoke(FunctionName='etlBronze', Payload='{}')\n",
    "    response_body = json.loads(response['Payload'].read().decode('utf-8'))\n",
    "    print(response_body)\n",
    "\n",
    "@flow(name='nobel_prizes_etl')\n",
    "def nobel_prizes_etl(log_prints=True):\n",
    "    # Prepare etl\n",
    "    if isinstance(prefect.runtime.flow_run.scheduled_start_time, str):\n",
    "        year = pendulum.from_format(prefect.runtime.flow_run.scheduled_start_time, \"YYYY-MM-DD HH:mm:ss\").year\n",
    "    else:\n",
    "        year = prefect.runtime.flow_run.scheduled_start_time.year\n",
    "    previous_year = year - 1\n",
    "    \n",
    "    categories = [\"che\", \"eco\", \"lit\", \"pea\", \"phy\", \"med\"]\n",
    "    \n",
    "    # Extract prizes\n",
    "    extracted_prizes = extract_nobel_prizes.map(categories, unmapped(previous_year))\n",
    "\n",
    "    # Extract laureate data for each Nobel Prize\n",
    "    extracted_laureates = extract_laureate.map(extracted_prizes)\n",
    "\n",
    "    # Run bronze_laureates ETL\n",
    "    bronze_task = etl_bronze(wait_for=[extracted_prizes, extracted_laureates])"
   ]
  },
  {
   "cell_type": "code",
   "execution_count": 3,
   "id": "1c884cde-a561-44d7-91b4-2f899b7fbff4",
   "metadata": {
    "scrolled": true
   },
   "outputs": [
    {
     "data": {
      "text/html": [
       "<pre style=\"white-space:pre;overflow-x:auto;line-height:normal;font-family:Menlo,'DejaVu Sans Mono',consolas,'Courier New',monospace\">19:45:02.551 | <span style=\"color: #008080; text-decoration-color: #008080\">INFO</span>    | prefect.engine - Created flow run<span style=\"color: #800080; text-decoration-color: #800080\"> 'remarkable-mink'</span> for flow<span style=\"color: #800080; text-decoration-color: #800080; font-weight: bold\"> 'nobel_prizes_etl'</span>\n",
       "</pre>\n"
      ],
      "text/plain": [
       "19:45:02.551 | \u001b[36mINFO\u001b[0m    | prefect.engine - Created flow run\u001b[35m 'remarkable-mink'\u001b[0m for flow\u001b[1;35m 'nobel_prizes_etl'\u001b[0m\n"
      ]
     },
     "metadata": {},
     "output_type": "display_data"
    },
    {
     "data": {
      "text/html": [
       "<pre style=\"white-space:pre;overflow-x:auto;line-height:normal;font-family:Menlo,'DejaVu Sans Mono',consolas,'Courier New',monospace\">19:45:03.584 | <span style=\"color: #008080; text-decoration-color: #008080\">INFO</span>    | Flow run<span style=\"color: #800080; text-decoration-color: #800080\"> 'remarkable-mink'</span> - Created task run 'extract_nobel_prizes_-3' for task 'extract_nobel_prizes_'\n",
       "</pre>\n"
      ],
      "text/plain": [
       "19:45:03.584 | \u001b[36mINFO\u001b[0m    | Flow run\u001b[35m 'remarkable-mink'\u001b[0m - Created task run 'extract_nobel_prizes_-3' for task 'extract_nobel_prizes_'\n"
      ]
     },
     "metadata": {},
     "output_type": "display_data"
    },
    {
     "data": {
      "text/html": [
       "<pre style=\"white-space:pre;overflow-x:auto;line-height:normal;font-family:Menlo,'DejaVu Sans Mono',consolas,'Courier New',monospace\">19:45:03.590 | <span style=\"color: #008080; text-decoration-color: #008080\">INFO</span>    | Flow run<span style=\"color: #800080; text-decoration-color: #800080\"> 'remarkable-mink'</span> - Submitted task run 'extract_nobel_prizes_-3' for execution.\n",
       "</pre>\n"
      ],
      "text/plain": [
       "19:45:03.590 | \u001b[36mINFO\u001b[0m    | Flow run\u001b[35m 'remarkable-mink'\u001b[0m - Submitted task run 'extract_nobel_prizes_-3' for execution.\n"
      ]
     },
     "metadata": {},
     "output_type": "display_data"
    },
    {
     "data": {
      "text/html": [
       "<pre style=\"white-space:pre;overflow-x:auto;line-height:normal;font-family:Menlo,'DejaVu Sans Mono',consolas,'Courier New',monospace\">19:45:03.674 | <span style=\"color: #008080; text-decoration-color: #008080\">INFO</span>    | Flow run<span style=\"color: #800080; text-decoration-color: #800080\"> 'remarkable-mink'</span> - Created task run 'extract_nobel_prizes_-4' for task 'extract_nobel_prizes_'\n",
       "</pre>\n"
      ],
      "text/plain": [
       "19:45:03.674 | \u001b[36mINFO\u001b[0m    | Flow run\u001b[35m 'remarkable-mink'\u001b[0m - Created task run 'extract_nobel_prizes_-4' for task 'extract_nobel_prizes_'\n"
      ]
     },
     "metadata": {},
     "output_type": "display_data"
    },
    {
     "data": {
      "text/html": [
       "<pre style=\"white-space:pre;overflow-x:auto;line-height:normal;font-family:Menlo,'DejaVu Sans Mono',consolas,'Courier New',monospace\">19:45:03.682 | <span style=\"color: #008080; text-decoration-color: #008080\">INFO</span>    | Flow run<span style=\"color: #800080; text-decoration-color: #800080\"> 'remarkable-mink'</span> - Submitted task run 'extract_nobel_prizes_-4' for execution.\n",
       "</pre>\n"
      ],
      "text/plain": [
       "19:45:03.682 | \u001b[36mINFO\u001b[0m    | Flow run\u001b[35m 'remarkable-mink'\u001b[0m - Submitted task run 'extract_nobel_prizes_-4' for execution.\n"
      ]
     },
     "metadata": {},
     "output_type": "display_data"
    },
    {
     "data": {
      "text/html": [
       "<pre style=\"white-space:pre;overflow-x:auto;line-height:normal;font-family:Menlo,'DejaVu Sans Mono',consolas,'Courier New',monospace\">19:45:03.800 | <span style=\"color: #008080; text-decoration-color: #008080\">INFO</span>    | Flow run<span style=\"color: #800080; text-decoration-color: #800080\"> 'remarkable-mink'</span> - Created task run 'extract_nobel_prizes_-1' for task 'extract_nobel_prizes_'\n",
       "</pre>\n"
      ],
      "text/plain": [
       "19:45:03.800 | \u001b[36mINFO\u001b[0m    | Flow run\u001b[35m 'remarkable-mink'\u001b[0m - Created task run 'extract_nobel_prizes_-1' for task 'extract_nobel_prizes_'\n"
      ]
     },
     "metadata": {},
     "output_type": "display_data"
    },
    {
     "data": {
      "text/html": [
       "<pre style=\"white-space:pre;overflow-x:auto;line-height:normal;font-family:Menlo,'DejaVu Sans Mono',consolas,'Courier New',monospace\">19:45:03.806 | <span style=\"color: #008080; text-decoration-color: #008080\">INFO</span>    | Flow run<span style=\"color: #800080; text-decoration-color: #800080\"> 'remarkable-mink'</span> - Submitted task run 'extract_nobel_prizes_-1' for execution.\n",
       "</pre>\n"
      ],
      "text/plain": [
       "19:45:03.806 | \u001b[36mINFO\u001b[0m    | Flow run\u001b[35m 'remarkable-mink'\u001b[0m - Submitted task run 'extract_nobel_prizes_-1' for execution.\n"
      ]
     },
     "metadata": {},
     "output_type": "display_data"
    },
    {
     "data": {
      "text/html": [
       "<pre style=\"white-space:pre;overflow-x:auto;line-height:normal;font-family:Menlo,'DejaVu Sans Mono',consolas,'Courier New',monospace\">19:45:03.957 | <span style=\"color: #008080; text-decoration-color: #008080\">INFO</span>    | Flow run<span style=\"color: #800080; text-decoration-color: #800080\"> 'remarkable-mink'</span> - Created task run 'extract_nobel_prizes_-5' for task 'extract_nobel_prizes_'\n",
       "</pre>\n"
      ],
      "text/plain": [
       "19:45:03.957 | \u001b[36mINFO\u001b[0m    | Flow run\u001b[35m 'remarkable-mink'\u001b[0m - Created task run 'extract_nobel_prizes_-5' for task 'extract_nobel_prizes_'\n"
      ]
     },
     "metadata": {},
     "output_type": "display_data"
    },
    {
     "data": {
      "text/html": [
       "<pre style=\"white-space:pre;overflow-x:auto;line-height:normal;font-family:Menlo,'DejaVu Sans Mono',consolas,'Courier New',monospace\">19:45:03.964 | <span style=\"color: #008080; text-decoration-color: #008080\">INFO</span>    | Flow run<span style=\"color: #800080; text-decoration-color: #800080\"> 'remarkable-mink'</span> - Submitted task run 'extract_nobel_prizes_-5' for execution.\n",
       "</pre>\n"
      ],
      "text/plain": [
       "19:45:03.964 | \u001b[36mINFO\u001b[0m    | Flow run\u001b[35m 'remarkable-mink'\u001b[0m - Submitted task run 'extract_nobel_prizes_-5' for execution.\n"
      ]
     },
     "metadata": {},
     "output_type": "display_data"
    },
    {
     "data": {
      "text/html": [
       "<pre style=\"white-space:pre;overflow-x:auto;line-height:normal;font-family:Menlo,'DejaVu Sans Mono',consolas,'Courier New',monospace\">19:45:04.092 | <span style=\"color: #008080; text-decoration-color: #008080\">INFO</span>    | Flow run<span style=\"color: #800080; text-decoration-color: #800080\"> 'remarkable-mink'</span> - Created task run 'extract_nobel_prizes_-2' for task 'extract_nobel_prizes_'\n",
       "</pre>\n"
      ],
      "text/plain": [
       "19:45:04.092 | \u001b[36mINFO\u001b[0m    | Flow run\u001b[35m 'remarkable-mink'\u001b[0m - Created task run 'extract_nobel_prizes_-2' for task 'extract_nobel_prizes_'\n"
      ]
     },
     "metadata": {},
     "output_type": "display_data"
    },
    {
     "data": {
      "text/html": [
       "<pre style=\"white-space:pre;overflow-x:auto;line-height:normal;font-family:Menlo,'DejaVu Sans Mono',consolas,'Courier New',monospace\">19:45:04.101 | <span style=\"color: #008080; text-decoration-color: #008080\">INFO</span>    | Flow run<span style=\"color: #800080; text-decoration-color: #800080\"> 'remarkable-mink'</span> - Submitted task run 'extract_nobel_prizes_-2' for execution.\n",
       "</pre>\n"
      ],
      "text/plain": [
       "19:45:04.101 | \u001b[36mINFO\u001b[0m    | Flow run\u001b[35m 'remarkable-mink'\u001b[0m - Submitted task run 'extract_nobel_prizes_-2' for execution.\n"
      ]
     },
     "metadata": {},
     "output_type": "display_data"
    },
    {
     "data": {
      "text/html": [
       "<pre style=\"white-space:pre;overflow-x:auto;line-height:normal;font-family:Menlo,'DejaVu Sans Mono',consolas,'Courier New',monospace\">19:45:04.268 | <span style=\"color: #008080; text-decoration-color: #008080\">INFO</span>    | Flow run<span style=\"color: #800080; text-decoration-color: #800080\"> 'remarkable-mink'</span> - Created task run 'extract_laureate_-1' for task 'extract_laureate_'\n",
       "</pre>\n"
      ],
      "text/plain": [
       "19:45:04.268 | \u001b[36mINFO\u001b[0m    | Flow run\u001b[35m 'remarkable-mink'\u001b[0m - Created task run 'extract_laureate_-1' for task 'extract_laureate_'\n"
      ]
     },
     "metadata": {},
     "output_type": "display_data"
    },
    {
     "data": {
      "text/html": [
       "<pre style=\"white-space:pre;overflow-x:auto;line-height:normal;font-family:Menlo,'DejaVu Sans Mono',consolas,'Courier New',monospace\">19:45:04.274 | <span style=\"color: #008080; text-decoration-color: #008080\">INFO</span>    | Flow run<span style=\"color: #800080; text-decoration-color: #800080\"> 'remarkable-mink'</span> - Submitted task run 'extract_laureate_-1' for execution.\n",
       "</pre>\n"
      ],
      "text/plain": [
       "19:45:04.274 | \u001b[36mINFO\u001b[0m    | Flow run\u001b[35m 'remarkable-mink'\u001b[0m - Submitted task run 'extract_laureate_-1' for execution.\n"
      ]
     },
     "metadata": {},
     "output_type": "display_data"
    },
    {
     "data": {
      "text/html": [
       "<pre style=\"white-space:pre;overflow-x:auto;line-height:normal;font-family:Menlo,'DejaVu Sans Mono',consolas,'Courier New',monospace\">19:45:04.400 | <span style=\"color: #008080; text-decoration-color: #008080\">INFO</span>    | Flow run<span style=\"color: #800080; text-decoration-color: #800080\"> 'remarkable-mink'</span> - Created task run 'extract_laureate_-5' for task 'extract_laureate_'\n",
       "</pre>\n"
      ],
      "text/plain": [
       "19:45:04.400 | \u001b[36mINFO\u001b[0m    | Flow run\u001b[35m 'remarkable-mink'\u001b[0m - Created task run 'extract_laureate_-5' for task 'extract_laureate_'\n"
      ]
     },
     "metadata": {},
     "output_type": "display_data"
    },
    {
     "data": {
      "text/html": [
       "<pre style=\"white-space:pre;overflow-x:auto;line-height:normal;font-family:Menlo,'DejaVu Sans Mono',consolas,'Courier New',monospace\">19:45:04.406 | <span style=\"color: #008080; text-decoration-color: #008080\">INFO</span>    | Flow run<span style=\"color: #800080; text-decoration-color: #800080\"> 'remarkable-mink'</span> - Submitted task run 'extract_laureate_-5' for execution.\n",
       "</pre>\n"
      ],
      "text/plain": [
       "19:45:04.406 | \u001b[36mINFO\u001b[0m    | Flow run\u001b[35m 'remarkable-mink'\u001b[0m - Submitted task run 'extract_laureate_-5' for execution.\n"
      ]
     },
     "metadata": {},
     "output_type": "display_data"
    },
    {
     "name": "stdout",
     "output_type": "stream",
     "text": [
      "{\"category\": \"pea\", \"year\": 2019}\n",
      "{\"category\": \"eco\", \"year\": 2019}\n"
     ]
    },
    {
     "data": {
      "text/html": [
       "<pre style=\"white-space:pre;overflow-x:auto;line-height:normal;font-family:Menlo,'DejaVu Sans Mono',consolas,'Courier New',monospace\">19:45:04.938 | <span style=\"color: #008080; text-decoration-color: #008080\">INFO</span>    | Flow run<span style=\"color: #800080; text-decoration-color: #800080\"> 'remarkable-mink'</span> - Created task run 'extract_laureate_-4' for task 'extract_laureate_'\n",
       "</pre>\n"
      ],
      "text/plain": [
       "19:45:04.938 | \u001b[36mINFO\u001b[0m    | Flow run\u001b[35m 'remarkable-mink'\u001b[0m - Created task run 'extract_laureate_-4' for task 'extract_laureate_'\n"
      ]
     },
     "metadata": {},
     "output_type": "display_data"
    },
    {
     "data": {
      "text/html": [
       "<pre style=\"white-space:pre;overflow-x:auto;line-height:normal;font-family:Menlo,'DejaVu Sans Mono',consolas,'Courier New',monospace\">19:45:04.951 | <span style=\"color: #008080; text-decoration-color: #008080\">INFO</span>    | Flow run<span style=\"color: #800080; text-decoration-color: #800080\"> 'remarkable-mink'</span> - Submitted task run 'extract_laureate_-4' for execution.\n",
       "</pre>\n"
      ],
      "text/plain": [
       "19:45:04.951 | \u001b[36mINFO\u001b[0m    | Flow run\u001b[35m 'remarkable-mink'\u001b[0m - Submitted task run 'extract_laureate_-4' for execution.\n"
      ]
     },
     "metadata": {},
     "output_type": "display_data"
    },
    {
     "name": "stdout",
     "output_type": "stream",
     "text": [
      "{\"category\": \"lit\", \"year\": 2019}\n"
     ]
    },
    {
     "data": {
      "text/html": [
       "<pre style=\"white-space:pre;overflow-x:auto;line-height:normal;font-family:Menlo,'DejaVu Sans Mono',consolas,'Courier New',monospace\">19:45:05.167 | <span style=\"color: #008080; text-decoration-color: #008080\">INFO</span>    | Flow run<span style=\"color: #800080; text-decoration-color: #800080\"> 'remarkable-mink'</span> - Created task run 'extract_laureate_-2' for task 'extract_laureate_'\n",
       "</pre>\n"
      ],
      "text/plain": [
       "19:45:05.167 | \u001b[36mINFO\u001b[0m    | Flow run\u001b[35m 'remarkable-mink'\u001b[0m - Created task run 'extract_laureate_-2' for task 'extract_laureate_'\n"
      ]
     },
     "metadata": {},
     "output_type": "display_data"
    },
    {
     "data": {
      "text/html": [
       "<pre style=\"white-space:pre;overflow-x:auto;line-height:normal;font-family:Menlo,'DejaVu Sans Mono',consolas,'Courier New',monospace\">19:45:05.175 | <span style=\"color: #008080; text-decoration-color: #008080\">INFO</span>    | Flow run<span style=\"color: #800080; text-decoration-color: #800080\"> 'remarkable-mink'</span> - Submitted task run 'extract_laureate_-2' for execution.\n",
       "</pre>\n"
      ],
      "text/plain": [
       "19:45:05.175 | \u001b[36mINFO\u001b[0m    | Flow run\u001b[35m 'remarkable-mink'\u001b[0m - Submitted task run 'extract_laureate_-2' for execution.\n"
      ]
     },
     "metadata": {},
     "output_type": "display_data"
    },
    {
     "name": "stdout",
     "output_type": "stream",
     "text": [
      "{\"category\": \"med\", \"year\": 2019}\n"
     ]
    },
    {
     "data": {
      "text/html": [
       "<pre style=\"white-space:pre;overflow-x:auto;line-height:normal;font-family:Menlo,'DejaVu Sans Mono',consolas,'Courier New',monospace\">19:45:05.287 | <span style=\"color: #008080; text-decoration-color: #008080\">INFO</span>    | Flow run<span style=\"color: #800080; text-decoration-color: #800080\"> 'remarkable-mink'</span> - Created task run 'extract_nobel_prizes_-0' for task 'extract_nobel_prizes_'\n",
       "</pre>\n"
      ],
      "text/plain": [
       "19:45:05.287 | \u001b[36mINFO\u001b[0m    | Flow run\u001b[35m 'remarkable-mink'\u001b[0m - Created task run 'extract_nobel_prizes_-0' for task 'extract_nobel_prizes_'\n"
      ]
     },
     "metadata": {},
     "output_type": "display_data"
    },
    {
     "data": {
      "text/html": [
       "<pre style=\"white-space:pre;overflow-x:auto;line-height:normal;font-family:Menlo,'DejaVu Sans Mono',consolas,'Courier New',monospace\">19:45:05.292 | <span style=\"color: #008080; text-decoration-color: #008080\">INFO</span>    | Flow run<span style=\"color: #800080; text-decoration-color: #800080\"> 'remarkable-mink'</span> - Submitted task run 'extract_nobel_prizes_-0' for execution.\n",
       "</pre>\n"
      ],
      "text/plain": [
       "19:45:05.292 | \u001b[36mINFO\u001b[0m    | Flow run\u001b[35m 'remarkable-mink'\u001b[0m - Submitted task run 'extract_nobel_prizes_-0' for execution.\n"
      ]
     },
     "metadata": {},
     "output_type": "display_data"
    },
    {
     "data": {
      "text/html": [
       "<pre style=\"white-space:pre;overflow-x:auto;line-height:normal;font-family:Menlo,'DejaVu Sans Mono',consolas,'Courier New',monospace\">19:45:05.407 | <span style=\"color: #008080; text-decoration-color: #008080\">INFO</span>    | Flow run<span style=\"color: #800080; text-decoration-color: #800080\"> 'remarkable-mink'</span> - Created task run 'extract_laureate_-3' for task 'extract_laureate_'\n",
       "</pre>\n"
      ],
      "text/plain": [
       "19:45:05.407 | \u001b[36mINFO\u001b[0m    | Flow run\u001b[35m 'remarkable-mink'\u001b[0m - Created task run 'extract_laureate_-3' for task 'extract_laureate_'\n"
      ]
     },
     "metadata": {},
     "output_type": "display_data"
    },
    {
     "data": {
      "text/html": [
       "<pre style=\"white-space:pre;overflow-x:auto;line-height:normal;font-family:Menlo,'DejaVu Sans Mono',consolas,'Courier New',monospace\">19:45:05.415 | <span style=\"color: #008080; text-decoration-color: #008080\">INFO</span>    | Flow run<span style=\"color: #800080; text-decoration-color: #800080\"> 'remarkable-mink'</span> - Submitted task run 'extract_laureate_-3' for execution.\n",
       "</pre>\n"
      ],
      "text/plain": [
       "19:45:05.415 | \u001b[36mINFO\u001b[0m    | Flow run\u001b[35m 'remarkable-mink'\u001b[0m - Submitted task run 'extract_laureate_-3' for execution.\n"
      ]
     },
     "metadata": {},
     "output_type": "display_data"
    },
    {
     "data": {
      "text/html": [
       "<pre style=\"white-space:pre;overflow-x:auto;line-height:normal;font-family:Menlo,'DejaVu Sans Mono',consolas,'Courier New',monospace\">19:45:05.536 | <span style=\"color: #008080; text-decoration-color: #008080\">INFO</span>    | Flow run<span style=\"color: #800080; text-decoration-color: #800080\"> 'remarkable-mink'</span> - Created task run 'extract_laureate_-0' for task 'extract_laureate_'\n",
       "</pre>\n"
      ],
      "text/plain": [
       "19:45:05.536 | \u001b[36mINFO\u001b[0m    | Flow run\u001b[35m 'remarkable-mink'\u001b[0m - Created task run 'extract_laureate_-0' for task 'extract_laureate_'\n"
      ]
     },
     "metadata": {},
     "output_type": "display_data"
    },
    {
     "data": {
      "text/html": [
       "<pre style=\"white-space:pre;overflow-x:auto;line-height:normal;font-family:Menlo,'DejaVu Sans Mono',consolas,'Courier New',monospace\">19:45:05.542 | <span style=\"color: #008080; text-decoration-color: #008080\">INFO</span>    | Flow run<span style=\"color: #800080; text-decoration-color: #800080\"> 'remarkable-mink'</span> - Submitted task run 'extract_laureate_-0' for execution.\n",
       "</pre>\n"
      ],
      "text/plain": [
       "19:45:05.542 | \u001b[36mINFO\u001b[0m    | Flow run\u001b[35m 'remarkable-mink'\u001b[0m - Submitted task run 'extract_laureate_-0' for execution.\n"
      ]
     },
     "metadata": {},
     "output_type": "display_data"
    },
    {
     "name": "stdout",
     "output_type": "stream",
     "text": [
      "{\"category\": \"phy\", \"year\": 2019}\n"
     ]
    },
    {
     "data": {
      "text/html": [
       "<pre style=\"white-space:pre;overflow-x:auto;line-height:normal;font-family:Menlo,'DejaVu Sans Mono',consolas,'Courier New',monospace\">19:45:05.950 | <span style=\"color: #008080; text-decoration-color: #008080\">INFO</span>    | Flow run<span style=\"color: #800080; text-decoration-color: #800080\"> 'remarkable-mink'</span> - Created task run 'etl_bronze_-0' for task 'etl_bronze_'\n",
       "</pre>\n"
      ],
      "text/plain": [
       "19:45:05.950 | \u001b[36mINFO\u001b[0m    | Flow run\u001b[35m 'remarkable-mink'\u001b[0m - Created task run 'etl_bronze_-0' for task 'etl_bronze_'\n"
      ]
     },
     "metadata": {},
     "output_type": "display_data"
    },
    {
     "data": {
      "text/html": [
       "<pre style=\"white-space:pre;overflow-x:auto;line-height:normal;font-family:Menlo,'DejaVu Sans Mono',consolas,'Courier New',monospace\">19:45:05.956 | <span style=\"color: #008080; text-decoration-color: #008080\">INFO</span>    | Flow run<span style=\"color: #800080; text-decoration-color: #800080\"> 'remarkable-mink'</span> - Executing 'etl_bronze_-0' immediately...\n",
       "</pre>\n"
      ],
      "text/plain": [
       "19:45:05.956 | \u001b[36mINFO\u001b[0m    | Flow run\u001b[35m 'remarkable-mink'\u001b[0m - Executing 'etl_bronze_-0' immediately...\n"
      ]
     },
     "metadata": {},
     "output_type": "display_data"
    },
    {
     "name": "stdout",
     "output_type": "stream",
     "text": [
      "{\"category\": \"che\", \"year\": 2019}\n"
     ]
    },
    {
     "data": {
      "text/html": [
       "<pre style=\"white-space:pre;overflow-x:auto;line-height:normal;font-family:Menlo,'DejaVu Sans Mono',consolas,'Courier New',monospace\">19:45:06.157 | <span style=\"color: #008080; text-decoration-color: #008080\">INFO</span>    | Task run 'extract_nobel_prizes_-1' - Finished in state <span style=\"color: #008000; text-decoration-color: #008000\">Completed</span>()\n",
       "</pre>\n"
      ],
      "text/plain": [
       "19:45:06.157 | \u001b[36mINFO\u001b[0m    | Task run 'extract_nobel_prizes_-1' - Finished in state \u001b[32mCompleted\u001b[0m()\n"
      ]
     },
     "metadata": {},
     "output_type": "display_data"
    },
    {
     "name": "stdout",
     "output_type": "stream",
     "text": [
      "{\"laureateID\": \"982\"}\n",
      "{\"laureateID\": \"983\"}\n",
      "{\"laureateID\": \"984\"}\n"
     ]
    },
    {
     "data": {
      "text/html": [
       "<pre style=\"white-space:pre;overflow-x:auto;line-height:normal;font-family:Menlo,'DejaVu Sans Mono',consolas,'Courier New',monospace\">19:45:07.684 | <span style=\"color: #008080; text-decoration-color: #008080\">INFO</span>    | Task run 'extract_laureate_-1' - Finished in state <span style=\"color: #008000; text-decoration-color: #008000\">Completed</span>()\n",
       "</pre>\n"
      ],
      "text/plain": [
       "19:45:07.684 | \u001b[36mINFO\u001b[0m    | Task run 'extract_laureate_-1' - Finished in state \u001b[32mCompleted\u001b[0m()\n"
      ]
     },
     "metadata": {},
     "output_type": "display_data"
    },
    {
     "data": {
      "text/html": [
       "<pre style=\"white-space:pre;overflow-x:auto;line-height:normal;font-family:Menlo,'DejaVu Sans Mono',consolas,'Courier New',monospace\">19:45:08.568 | <span style=\"color: #008080; text-decoration-color: #008080\">INFO</span>    | Task run 'extract_nobel_prizes_-5' - Finished in state <span style=\"color: #008000; text-decoration-color: #008000\">Completed</span>()\n",
       "</pre>\n"
      ],
      "text/plain": [
       "19:45:08.568 | \u001b[36mINFO\u001b[0m    | Task run 'extract_nobel_prizes_-5' - Finished in state \u001b[32mCompleted\u001b[0m()\n"
      ]
     },
     "metadata": {},
     "output_type": "display_data"
    },
    {
     "data": {
      "text/html": [
       "<pre style=\"white-space:pre;overflow-x:auto;line-height:normal;font-family:Menlo,'DejaVu Sans Mono',consolas,'Courier New',monospace\">19:45:08.688 | <span style=\"color: #008080; text-decoration-color: #008080\">INFO</span>    | Task run 'extract_nobel_prizes_-3' - Finished in state <span style=\"color: #008000; text-decoration-color: #008000\">Completed</span>()\n",
       "</pre>\n"
      ],
      "text/plain": [
       "19:45:08.688 | \u001b[36mINFO\u001b[0m    | Task run 'extract_nobel_prizes_-3' - Finished in state \u001b[32mCompleted\u001b[0m()\n"
      ]
     },
     "metadata": {},
     "output_type": "display_data"
    },
    {
     "name": "stdout",
     "output_type": "stream",
     "text": [
      "{\"laureateID\": \"970\"}\n",
      "{\"laureateID\": \"981\"}\n"
     ]
    },
    {
     "data": {
      "text/html": [
       "<pre style=\"white-space:pre;overflow-x:auto;line-height:normal;font-family:Menlo,'DejaVu Sans Mono',consolas,'Courier New',monospace\">19:45:09.085 | <span style=\"color: #008080; text-decoration-color: #008080\">INFO</span>    | Task run 'extract_nobel_prizes_-2' - Finished in state <span style=\"color: #008000; text-decoration-color: #008000\">Completed</span>()\n",
       "</pre>\n"
      ],
      "text/plain": [
       "19:45:09.085 | \u001b[36mINFO\u001b[0m    | Task run 'extract_nobel_prizes_-2' - Finished in state \u001b[32mCompleted\u001b[0m()\n"
      ]
     },
     "metadata": {},
     "output_type": "display_data"
    },
    {
     "name": "stdout",
     "output_type": "stream",
     "text": [
      "{\"laureateID\": \"971\"}\n"
     ]
    },
    {
     "data": {
      "text/html": [
       "<pre style=\"white-space:pre;overflow-x:auto;line-height:normal;font-family:Menlo,'DejaVu Sans Mono',consolas,'Courier New',monospace\">19:45:09.269 | <span style=\"color: #008080; text-decoration-color: #008080\">INFO</span>    | Task run 'extract_nobel_prizes_-4' - Finished in state <span style=\"color: #008000; text-decoration-color: #008000\">Completed</span>()\n",
       "</pre>\n"
      ],
      "text/plain": [
       "19:45:09.269 | \u001b[36mINFO\u001b[0m    | Task run 'extract_nobel_prizes_-4' - Finished in state \u001b[32mCompleted\u001b[0m()\n"
      ]
     },
     "metadata": {},
     "output_type": "display_data"
    },
    {
     "name": "stdout",
     "output_type": "stream",
     "text": [
      "{\"laureateID\": \"972\"}{\"laureateID\": \"980\"}\n",
      "\n",
      "{\"laureateID\": \"973\"}\n"
     ]
    },
    {
     "data": {
      "text/html": [
       "<pre style=\"white-space:pre;overflow-x:auto;line-height:normal;font-family:Menlo,'DejaVu Sans Mono',consolas,'Courier New',monospace\">19:45:09.851 | <span style=\"color: #008080; text-decoration-color: #008080\">INFO</span>    | Task run 'extract_laureate_-2' - Finished in state <span style=\"color: #008000; text-decoration-color: #008000\">Completed</span>()\n",
       "</pre>\n"
      ],
      "text/plain": [
       "19:45:09.851 | \u001b[36mINFO\u001b[0m    | Task run 'extract_laureate_-2' - Finished in state \u001b[32mCompleted\u001b[0m()\n"
      ]
     },
     "metadata": {},
     "output_type": "display_data"
    },
    {
     "data": {
      "text/html": [
       "<pre style=\"white-space:pre;overflow-x:auto;line-height:normal;font-family:Menlo,'DejaVu Sans Mono',consolas,'Courier New',monospace\">19:45:12.523 | <span style=\"color: #008080; text-decoration-color: #008080\">INFO</span>    | Task run 'extract_laureate_-3' - Finished in state <span style=\"color: #008000; text-decoration-color: #008000\">Completed</span>()\n",
       "</pre>\n"
      ],
      "text/plain": [
       "19:45:12.523 | \u001b[36mINFO\u001b[0m    | Task run 'extract_laureate_-3' - Finished in state \u001b[32mCompleted\u001b[0m()\n"
      ]
     },
     "metadata": {},
     "output_type": "display_data"
    },
    {
     "name": "stdout",
     "output_type": "stream",
     "text": [
      "{\"laureateID\": \"974\"}\n",
      "{\"laureateID\": \"975\"}\n"
     ]
    },
    {
     "data": {
      "text/html": [
       "<pre style=\"white-space:pre;overflow-x:auto;line-height:normal;font-family:Menlo,'DejaVu Sans Mono',consolas,'Courier New',monospace\">19:45:13.505 | <span style=\"color: #008080; text-decoration-color: #008080\">INFO</span>    | Task run 'extract_nobel_prizes_-0' - Finished in state <span style=\"color: #008000; text-decoration-color: #008000\">Completed</span>()\n",
       "</pre>\n"
      ],
      "text/plain": [
       "19:45:13.505 | \u001b[36mINFO\u001b[0m    | Task run 'extract_nobel_prizes_-0' - Finished in state \u001b[32mCompleted\u001b[0m()\n"
      ]
     },
     "metadata": {},
     "output_type": "display_data"
    },
    {
     "name": "stdout",
     "output_type": "stream",
     "text": [
      "{\"laureateID\": \"976\"}\n",
      "{\"laureateID\": \"977\"}\n",
      "{\"laureateID\": \"978\"}\n"
     ]
    },
    {
     "data": {
      "text/html": [
       "<pre style=\"white-space:pre;overflow-x:auto;line-height:normal;font-family:Menlo,'DejaVu Sans Mono',consolas,'Courier New',monospace\">19:45:15.251 | <span style=\"color: #008080; text-decoration-color: #008080\">INFO</span>    | Task run 'extract_laureate_-5' - Finished in state <span style=\"color: #008000; text-decoration-color: #008000\">Completed</span>()\n",
       "</pre>\n"
      ],
      "text/plain": [
       "19:45:15.251 | \u001b[36mINFO\u001b[0m    | Task run 'extract_laureate_-5' - Finished in state \u001b[32mCompleted\u001b[0m()\n"
      ]
     },
     "metadata": {},
     "output_type": "display_data"
    },
    {
     "data": {
      "text/html": [
       "<pre style=\"white-space:pre;overflow-x:auto;line-height:normal;font-family:Menlo,'DejaVu Sans Mono',consolas,'Courier New',monospace\">19:45:16.272 | <span style=\"color: #008080; text-decoration-color: #008080\">INFO</span>    | Task run 'extract_laureate_-4' - Finished in state <span style=\"color: #008000; text-decoration-color: #008000\">Completed</span>()\n",
       "</pre>\n"
      ],
      "text/plain": [
       "19:45:16.272 | \u001b[36mINFO\u001b[0m    | Task run 'extract_laureate_-4' - Finished in state \u001b[32mCompleted\u001b[0m()\n"
      ]
     },
     "metadata": {},
     "output_type": "display_data"
    },
    {
     "data": {
      "text/html": [
       "<pre style=\"white-space:pre;overflow-x:auto;line-height:normal;font-family:Menlo,'DejaVu Sans Mono',consolas,'Courier New',monospace\">19:45:17.466 | <span style=\"color: #008080; text-decoration-color: #008080\">INFO</span>    | Task run 'extract_laureate_-0' - Finished in state <span style=\"color: #008000; text-decoration-color: #008000\">Completed</span>()\n",
       "</pre>\n"
      ],
      "text/plain": [
       "19:45:17.466 | \u001b[36mINFO\u001b[0m    | Task run 'extract_laureate_-0' - Finished in state \u001b[32mCompleted\u001b[0m()\n"
      ]
     },
     "metadata": {},
     "output_type": "display_data"
    },
    {
     "name": "stdout",
     "output_type": "stream",
     "text": [
      "ETL bronze ejecutada con éxito\n"
     ]
    },
    {
     "data": {
      "text/html": [
       "<pre style=\"white-space:pre;overflow-x:auto;line-height:normal;font-family:Menlo,'DejaVu Sans Mono',consolas,'Courier New',monospace\">19:45:21.768 | <span style=\"color: #008080; text-decoration-color: #008080\">INFO</span>    | Task run 'etl_bronze_-0' - Finished in state <span style=\"color: #008000; text-decoration-color: #008000\">Completed</span>()\n",
       "</pre>\n"
      ],
      "text/plain": [
       "19:45:21.768 | \u001b[36mINFO\u001b[0m    | Task run 'etl_bronze_-0' - Finished in state \u001b[32mCompleted\u001b[0m()\n"
      ]
     },
     "metadata": {},
     "output_type": "display_data"
    },
    {
     "data": {
      "text/html": [
       "<pre style=\"white-space:pre;overflow-x:auto;line-height:normal;font-family:Menlo,'DejaVu Sans Mono',consolas,'Courier New',monospace\">19:45:21.923 | <span style=\"color: #008080; text-decoration-color: #008080\">INFO</span>    | Flow run<span style=\"color: #800080; text-decoration-color: #800080\"> 'remarkable-mink'</span> - Finished in state <span style=\"color: #008000; text-decoration-color: #008000\">Completed</span>('All states completed.')\n",
       "</pre>\n"
      ],
      "text/plain": [
       "19:45:21.923 | \u001b[36mINFO\u001b[0m    | Flow run\u001b[35m 'remarkable-mink'\u001b[0m - Finished in state \u001b[32mCompleted\u001b[0m('All states completed.')\n"
      ]
     },
     "metadata": {},
     "output_type": "display_data"
    },
    {
     "data": {
      "text/plain": [
       "[Completed(message=None, type=COMPLETED, result=UnpersistedResult(type='unpersisted', artifact_type='result', artifact_description='Unpersisted result of type `list`')),\n",
       " Completed(message=None, type=COMPLETED, result=UnpersistedResult(type='unpersisted', artifact_type='result', artifact_description='Unpersisted result of type `list`')),\n",
       " Completed(message=None, type=COMPLETED, result=UnpersistedResult(type='unpersisted', artifact_type='result', artifact_description='Unpersisted result of type `list`')),\n",
       " Completed(message=None, type=COMPLETED, result=UnpersistedResult(type='unpersisted', artifact_type='result', artifact_description='Unpersisted result of type `list`')),\n",
       " Completed(message=None, type=COMPLETED, result=UnpersistedResult(type='unpersisted', artifact_type='result', artifact_description='Unpersisted result of type `list`')),\n",
       " Completed(message=None, type=COMPLETED, result=UnpersistedResult(type='unpersisted', artifact_type='result', artifact_description='Unpersisted result of type `list`')),\n",
       " Completed(message=None, type=COMPLETED, result=UnpersistedResult(type='unpersisted', artifact_type='result', artifact_description='Unpersisted result of type `NoneType`')),\n",
       " Completed(message=None, type=COMPLETED, result=UnpersistedResult(type='unpersisted', artifact_type='result', artifact_description='Unpersisted result of type `NoneType`')),\n",
       " Completed(message=None, type=COMPLETED, result=UnpersistedResult(type='unpersisted', artifact_type='result', artifact_description='Unpersisted result of type `NoneType`')),\n",
       " Completed(message=None, type=COMPLETED, result=UnpersistedResult(type='unpersisted', artifact_type='result', artifact_description='Unpersisted result of type `NoneType`')),\n",
       " Completed(message=None, type=COMPLETED, result=UnpersistedResult(type='unpersisted', artifact_type='result', artifact_description='Unpersisted result of type `NoneType`')),\n",
       " Completed(message=None, type=COMPLETED, result=UnpersistedResult(type='unpersisted', artifact_type='result', artifact_description='Unpersisted result of type `NoneType`')),\n",
       " Completed(message=None, type=COMPLETED, result=UnpersistedResult(type='unpersisted', artifact_type='result', artifact_description='Unpersisted result of type `NoneType`'))]"
      ]
     },
     "execution_count": 3,
     "metadata": {},
     "output_type": "execute_result"
    }
   ],
   "source": [
    "nobel_prizes_etl()"
   ]
  },
  {
   "cell_type": "code",
   "execution_count": 4,
   "id": "1e4649f7-a956-4767-9bc8-09ba47b93ff3",
   "metadata": {},
   "outputs": [
    {
     "data": {
      "text/html": [
       "<div>\n",
       "<style scoped>\n",
       "    .dataframe tbody tr th:only-of-type {\n",
       "        vertical-align: middle;\n",
       "    }\n",
       "\n",
       "    .dataframe tbody tr th {\n",
       "        vertical-align: top;\n",
       "    }\n",
       "\n",
       "    .dataframe thead th {\n",
       "        text-align: right;\n",
       "    }\n",
       "</style>\n",
       "<table border=\"1\" class=\"dataframe\">\n",
       "  <thead>\n",
       "    <tr style=\"text-align: right;\">\n",
       "      <th></th>\n",
       "      <th>awardYear</th>\n",
       "      <th>category</th>\n",
       "      <th>categoryFullName</th>\n",
       "      <th>dateAwarded</th>\n",
       "      <th>prizeAmount</th>\n",
       "      <th>prizeAmountAdjusted</th>\n",
       "      <th>laureates_id</th>\n",
       "      <th>laureates_portion</th>\n",
       "      <th>fullName</th>\n",
       "      <th>file_name</th>\n",
       "      <th>gender</th>\n",
       "      <th>birth</th>\n",
       "    </tr>\n",
       "  </thead>\n",
       "  <tbody>\n",
       "    <tr>\n",
       "      <th>0</th>\n",
       "      <td>2019</td>\n",
       "      <td>che</td>\n",
       "      <td>The Nobel Prize in Chemistry</td>\n",
       "      <td>2019-10-09</td>\n",
       "      <td>9000000</td>\n",
       "      <td>9000000</td>\n",
       "      <td>976</td>\n",
       "      <td>1/3</td>\n",
       "      <td>John B. Goodenough</td>\n",
       "      <td>goodenough</td>\n",
       "      <td>male</td>\n",
       "      <td>1922-07-25</td>\n",
       "    </tr>\n",
       "    <tr>\n",
       "      <th>1</th>\n",
       "      <td>2019</td>\n",
       "      <td>che</td>\n",
       "      <td>The Nobel Prize in Chemistry</td>\n",
       "      <td>2019-10-09</td>\n",
       "      <td>9000000</td>\n",
       "      <td>9000000</td>\n",
       "      <td>977</td>\n",
       "      <td>1/3</td>\n",
       "      <td>M. Stanley Whittingham</td>\n",
       "      <td>whittingham</td>\n",
       "      <td>male</td>\n",
       "      <td>1941-12-22</td>\n",
       "    </tr>\n",
       "    <tr>\n",
       "      <th>2</th>\n",
       "      <td>2019</td>\n",
       "      <td>che</td>\n",
       "      <td>The Nobel Prize in Chemistry</td>\n",
       "      <td>2019-10-09</td>\n",
       "      <td>9000000</td>\n",
       "      <td>9000000</td>\n",
       "      <td>978</td>\n",
       "      <td>1/3</td>\n",
       "      <td>Akira Yoshino</td>\n",
       "      <td>yoshino</td>\n",
       "      <td>male</td>\n",
       "      <td>1948-01-30</td>\n",
       "    </tr>\n",
       "    <tr>\n",
       "      <th>3</th>\n",
       "      <td>2019</td>\n",
       "      <td>eco</td>\n",
       "      <td>The Sveriges Riksbank Prize in Economic Scienc...</td>\n",
       "      <td>2019-10-14</td>\n",
       "      <td>9000000</td>\n",
       "      <td>9000000</td>\n",
       "      <td>982</td>\n",
       "      <td>1/3</td>\n",
       "      <td>Abhijit Banerjee</td>\n",
       "      <td>banerjee</td>\n",
       "      <td>male</td>\n",
       "      <td>1961-02-21</td>\n",
       "    </tr>\n",
       "    <tr>\n",
       "      <th>4</th>\n",
       "      <td>2019</td>\n",
       "      <td>eco</td>\n",
       "      <td>The Sveriges Riksbank Prize in Economic Scienc...</td>\n",
       "      <td>2019-10-14</td>\n",
       "      <td>9000000</td>\n",
       "      <td>9000000</td>\n",
       "      <td>983</td>\n",
       "      <td>1/3</td>\n",
       "      <td>Esther Duflo</td>\n",
       "      <td>duflo</td>\n",
       "      <td>female</td>\n",
       "      <td>1972-10-25</td>\n",
       "    </tr>\n",
       "    <tr>\n",
       "      <th>5</th>\n",
       "      <td>2019</td>\n",
       "      <td>eco</td>\n",
       "      <td>The Sveriges Riksbank Prize in Economic Scienc...</td>\n",
       "      <td>2019-10-14</td>\n",
       "      <td>9000000</td>\n",
       "      <td>9000000</td>\n",
       "      <td>984</td>\n",
       "      <td>1/3</td>\n",
       "      <td>Michael Kremer</td>\n",
       "      <td>kremer</td>\n",
       "      <td>male</td>\n",
       "      <td>1964-11-12</td>\n",
       "    </tr>\n",
       "    <tr>\n",
       "      <th>6</th>\n",
       "      <td>2019</td>\n",
       "      <td>lit</td>\n",
       "      <td>The Nobel Prize in Literature</td>\n",
       "      <td>2019-10-10</td>\n",
       "      <td>9000000</td>\n",
       "      <td>9000000</td>\n",
       "      <td>980</td>\n",
       "      <td>1</td>\n",
       "      <td>Peter Handke</td>\n",
       "      <td>handke</td>\n",
       "      <td>male</td>\n",
       "      <td>1942-12-06</td>\n",
       "    </tr>\n",
       "    <tr>\n",
       "      <th>7</th>\n",
       "      <td>2019</td>\n",
       "      <td>med</td>\n",
       "      <td>The Nobel Prize in Physiology or Medicine</td>\n",
       "      <td>2019-10-07</td>\n",
       "      <td>9000000</td>\n",
       "      <td>9000000</td>\n",
       "      <td>970</td>\n",
       "      <td>1/3</td>\n",
       "      <td>William G. Kaelin Jr</td>\n",
       "      <td>kaelin</td>\n",
       "      <td>male</td>\n",
       "      <td>1957-11-23</td>\n",
       "    </tr>\n",
       "    <tr>\n",
       "      <th>8</th>\n",
       "      <td>2019</td>\n",
       "      <td>med</td>\n",
       "      <td>The Nobel Prize in Physiology or Medicine</td>\n",
       "      <td>2019-10-07</td>\n",
       "      <td>9000000</td>\n",
       "      <td>9000000</td>\n",
       "      <td>971</td>\n",
       "      <td>1/3</td>\n",
       "      <td>Sir Peter J. Ratcliffe</td>\n",
       "      <td>ratcliffe</td>\n",
       "      <td>male</td>\n",
       "      <td>1954-05-14</td>\n",
       "    </tr>\n",
       "    <tr>\n",
       "      <th>9</th>\n",
       "      <td>2019</td>\n",
       "      <td>med</td>\n",
       "      <td>The Nobel Prize in Physiology or Medicine</td>\n",
       "      <td>2019-10-07</td>\n",
       "      <td>9000000</td>\n",
       "      <td>9000000</td>\n",
       "      <td>972</td>\n",
       "      <td>1/3</td>\n",
       "      <td>Gregg L. Semenza</td>\n",
       "      <td>semenza</td>\n",
       "      <td>male</td>\n",
       "      <td>1956-07-12</td>\n",
       "    </tr>\n",
       "    <tr>\n",
       "      <th>10</th>\n",
       "      <td>2019</td>\n",
       "      <td>pea</td>\n",
       "      <td>The Nobel Peace Prize</td>\n",
       "      <td>2019-10-11</td>\n",
       "      <td>9000000</td>\n",
       "      <td>9000000</td>\n",
       "      <td>981</td>\n",
       "      <td>1</td>\n",
       "      <td>Abiy Ahmed Ali</td>\n",
       "      <td>abiy</td>\n",
       "      <td>male</td>\n",
       "      <td>1976-08-15</td>\n",
       "    </tr>\n",
       "    <tr>\n",
       "      <th>11</th>\n",
       "      <td>2019</td>\n",
       "      <td>phy</td>\n",
       "      <td>The Nobel Prize in Physics</td>\n",
       "      <td>2019-10-08</td>\n",
       "      <td>9000000</td>\n",
       "      <td>9000000</td>\n",
       "      <td>973</td>\n",
       "      <td>1/2</td>\n",
       "      <td>James Peebles</td>\n",
       "      <td>peebles</td>\n",
       "      <td>male</td>\n",
       "      <td>1935-04-25</td>\n",
       "    </tr>\n",
       "    <tr>\n",
       "      <th>12</th>\n",
       "      <td>2019</td>\n",
       "      <td>phy</td>\n",
       "      <td>The Nobel Prize in Physics</td>\n",
       "      <td>2019-10-08</td>\n",
       "      <td>9000000</td>\n",
       "      <td>9000000</td>\n",
       "      <td>974</td>\n",
       "      <td>1/4</td>\n",
       "      <td>Michel Mayor</td>\n",
       "      <td>mayor</td>\n",
       "      <td>male</td>\n",
       "      <td>1942-01-12</td>\n",
       "    </tr>\n",
       "    <tr>\n",
       "      <th>13</th>\n",
       "      <td>2019</td>\n",
       "      <td>phy</td>\n",
       "      <td>The Nobel Prize in Physics</td>\n",
       "      <td>2019-10-08</td>\n",
       "      <td>9000000</td>\n",
       "      <td>9000000</td>\n",
       "      <td>975</td>\n",
       "      <td>1/4</td>\n",
       "      <td>Didier Queloz</td>\n",
       "      <td>queloz</td>\n",
       "      <td>male</td>\n",
       "      <td>1966-02-23</td>\n",
       "    </tr>\n",
       "  </tbody>\n",
       "</table>\n",
       "</div>"
      ],
      "text/plain": [
       "   awardYear category                                   categoryFullName  \\\n",
       "0       2019      che                       The Nobel Prize in Chemistry   \n",
       "1       2019      che                       The Nobel Prize in Chemistry   \n",
       "2       2019      che                       The Nobel Prize in Chemistry   \n",
       "3       2019      eco  The Sveriges Riksbank Prize in Economic Scienc...   \n",
       "4       2019      eco  The Sveriges Riksbank Prize in Economic Scienc...   \n",
       "5       2019      eco  The Sveriges Riksbank Prize in Economic Scienc...   \n",
       "6       2019      lit                      The Nobel Prize in Literature   \n",
       "7       2019      med          The Nobel Prize in Physiology or Medicine   \n",
       "8       2019      med          The Nobel Prize in Physiology or Medicine   \n",
       "9       2019      med          The Nobel Prize in Physiology or Medicine   \n",
       "10      2019      pea                              The Nobel Peace Prize   \n",
       "11      2019      phy                         The Nobel Prize in Physics   \n",
       "12      2019      phy                         The Nobel Prize in Physics   \n",
       "13      2019      phy                         The Nobel Prize in Physics   \n",
       "\n",
       "   dateAwarded  prizeAmount  prizeAmountAdjusted  laureates_id  \\\n",
       "0   2019-10-09      9000000              9000000           976   \n",
       "1   2019-10-09      9000000              9000000           977   \n",
       "2   2019-10-09      9000000              9000000           978   \n",
       "3   2019-10-14      9000000              9000000           982   \n",
       "4   2019-10-14      9000000              9000000           983   \n",
       "5   2019-10-14      9000000              9000000           984   \n",
       "6   2019-10-10      9000000              9000000           980   \n",
       "7   2019-10-07      9000000              9000000           970   \n",
       "8   2019-10-07      9000000              9000000           971   \n",
       "9   2019-10-07      9000000              9000000           972   \n",
       "10  2019-10-11      9000000              9000000           981   \n",
       "11  2019-10-08      9000000              9000000           973   \n",
       "12  2019-10-08      9000000              9000000           974   \n",
       "13  2019-10-08      9000000              9000000           975   \n",
       "\n",
       "   laureates_portion                fullName    file_name  gender       birth  \n",
       "0                1/3      John B. Goodenough   goodenough    male  1922-07-25  \n",
       "1                1/3  M. Stanley Whittingham  whittingham    male  1941-12-22  \n",
       "2                1/3           Akira Yoshino      yoshino    male  1948-01-30  \n",
       "3                1/3        Abhijit Banerjee     banerjee    male  1961-02-21  \n",
       "4                1/3            Esther Duflo        duflo  female  1972-10-25  \n",
       "5                1/3          Michael Kremer       kremer    male  1964-11-12  \n",
       "6                  1            Peter Handke       handke    male  1942-12-06  \n",
       "7                1/3    William G. Kaelin Jr       kaelin    male  1957-11-23  \n",
       "8                1/3  Sir Peter J. Ratcliffe    ratcliffe    male  1954-05-14  \n",
       "9                1/3        Gregg L. Semenza      semenza    male  1956-07-12  \n",
       "10                 1          Abiy Ahmed Ali         abiy    male  1976-08-15  \n",
       "11               1/2           James Peebles      peebles    male  1935-04-25  \n",
       "12               1/4            Michel Mayor        mayor    male  1942-01-12  \n",
       "13               1/4           Didier Queloz       queloz    male  1966-02-23  "
      ]
     },
     "execution_count": 4,
     "metadata": {},
     "output_type": "execute_result"
    }
   ],
   "source": [
    "import pandas as pd\n",
    "import s3fs\n",
    "\n",
    "\n",
    "# Lee el archivo Parquet desde S3 y crea el DataFrame\n",
    "bronze_prefect = pd.read_parquet('s3://datalake-sergiosaez-capstone13/bronze/bronze_laureates.parquet')\n",
    "\n",
    "# Muestra el DataFrame en forma de tabla\n",
    "bronze_prefect"
   ]
  },
  {
   "cell_type": "markdown",
   "id": "b8c95906-eedc-4f38-986f-1f9cc280bd37",
   "metadata": {},
   "source": [
    "## Ejercicio 7. Backfill\n",
    "\n",
    "La forma ideal de exportar todos los datos desde 1901 hasta la fecha no es ejecutar nuestro flujo para cada año simulando su ejecución normal año a año, ya que supondría muchas llamadas API y sería un proceso muy lento y costoso. Lo ideal es hacer uso de los endpoints de la API para obtener todos los datos en bloque y hacer ese proceso de captura de los datos en bloque una sola vez, y a partir de ahí ya se encargaría nuestro flujo de actualizar los datos año a año, así como de ejecutar las ETLs correspondientes.\n",
    "\n",
    "Los ficheros `nobelPrizes-1901-2019.parquet` y `laureates-1901-2019.parquet` (en el fichero `data.zip`) disponibles en campus virtual contienen los datos exportados desde 1901 hasta 2019 usando los endpoints de la API que dan todos los datos existentes paginados. Vamos a:\n",
    "\n",
    "1. Asegurarnos de que nuestro bucket del datalake está vacío. Borrar todos los ficheros generados por las ejecuciones anteriores.\n",
    "2. Subir los ficheros `nobelPrizes-1901-2019.parquet` y `laureates-1901-2019.parquet` al bucket del datalake a los prefijos `raw/nobelPrizes` y `raw/laureates` respectivamente.\n",
    "3. Ejecutar el flujo manualmente simulando que es el 1 de enero desde el año 2021 hasta el año actual usando la variable de entorno descrita anteriormente (`2021-01-01`, `2022-01-01`, ...)."
   ]
  },
  {
   "cell_type": "code",
   "execution_count": 2,
   "id": "466820e4-6952-4074-8054-f81cc404baeb",
   "metadata": {
    "scrolled": true
   },
   "outputs": [
    {
     "data": {
      "text/html": [
       "<pre style=\"white-space:pre;overflow-x:auto;line-height:normal;font-family:Menlo,'DejaVu Sans Mono',consolas,'Courier New',monospace\">19:58:26.746 | <span style=\"color: #008080; text-decoration-color: #008080\">INFO</span>    | prefect.engine - Created flow run<span style=\"color: #800080; text-decoration-color: #800080\"> 'taupe-zebu'</span> for flow<span style=\"color: #800080; text-decoration-color: #800080; font-weight: bold\"> 'nobel_prizes_etl'</span>\n",
       "</pre>\n"
      ],
      "text/plain": [
       "19:58:26.746 | \u001b[36mINFO\u001b[0m    | prefect.engine - Created flow run\u001b[35m 'taupe-zebu'\u001b[0m for flow\u001b[1;35m 'nobel_prizes_etl'\u001b[0m\n"
      ]
     },
     "metadata": {},
     "output_type": "display_data"
    },
    {
     "data": {
      "text/html": [
       "<pre style=\"white-space:pre;overflow-x:auto;line-height:normal;font-family:Menlo,'DejaVu Sans Mono',consolas,'Courier New',monospace\">19:58:27.729 | <span style=\"color: #008080; text-decoration-color: #008080\">INFO</span>    | Flow run<span style=\"color: #800080; text-decoration-color: #800080\"> 'taupe-zebu'</span> - Created task run 'extract_nobel_prizes_-1' for task 'extract_nobel_prizes_'\n",
       "</pre>\n"
      ],
      "text/plain": [
       "19:58:27.729 | \u001b[36mINFO\u001b[0m    | Flow run\u001b[35m 'taupe-zebu'\u001b[0m - Created task run 'extract_nobel_prizes_-1' for task 'extract_nobel_prizes_'\n"
      ]
     },
     "metadata": {},
     "output_type": "display_data"
    },
    {
     "data": {
      "text/html": [
       "<pre style=\"white-space:pre;overflow-x:auto;line-height:normal;font-family:Menlo,'DejaVu Sans Mono',consolas,'Courier New',monospace\">19:58:27.736 | <span style=\"color: #008080; text-decoration-color: #008080\">INFO</span>    | Flow run<span style=\"color: #800080; text-decoration-color: #800080\"> 'taupe-zebu'</span> - Submitted task run 'extract_nobel_prizes_-1' for execution.\n",
       "</pre>\n"
      ],
      "text/plain": [
       "19:58:27.736 | \u001b[36mINFO\u001b[0m    | Flow run\u001b[35m 'taupe-zebu'\u001b[0m - Submitted task run 'extract_nobel_prizes_-1' for execution.\n"
      ]
     },
     "metadata": {},
     "output_type": "display_data"
    },
    {
     "data": {
      "text/html": [
       "<pre style=\"white-space:pre;overflow-x:auto;line-height:normal;font-family:Menlo,'DejaVu Sans Mono',consolas,'Courier New',monospace\">19:58:27.822 | <span style=\"color: #008080; text-decoration-color: #008080\">INFO</span>    | Flow run<span style=\"color: #800080; text-decoration-color: #800080\"> 'taupe-zebu'</span> - Created task run 'extract_nobel_prizes_-0' for task 'extract_nobel_prizes_'\n",
       "</pre>\n"
      ],
      "text/plain": [
       "19:58:27.822 | \u001b[36mINFO\u001b[0m    | Flow run\u001b[35m 'taupe-zebu'\u001b[0m - Created task run 'extract_nobel_prizes_-0' for task 'extract_nobel_prizes_'\n"
      ]
     },
     "metadata": {},
     "output_type": "display_data"
    },
    {
     "data": {
      "text/html": [
       "<pre style=\"white-space:pre;overflow-x:auto;line-height:normal;font-family:Menlo,'DejaVu Sans Mono',consolas,'Courier New',monospace\">19:58:27.830 | <span style=\"color: #008080; text-decoration-color: #008080\">INFO</span>    | Flow run<span style=\"color: #800080; text-decoration-color: #800080\"> 'taupe-zebu'</span> - Submitted task run 'extract_nobel_prizes_-0' for execution.\n",
       "</pre>\n"
      ],
      "text/plain": [
       "19:58:27.830 | \u001b[36mINFO\u001b[0m    | Flow run\u001b[35m 'taupe-zebu'\u001b[0m - Submitted task run 'extract_nobel_prizes_-0' for execution.\n"
      ]
     },
     "metadata": {},
     "output_type": "display_data"
    },
    {
     "data": {
      "text/html": [
       "<pre style=\"white-space:pre;overflow-x:auto;line-height:normal;font-family:Menlo,'DejaVu Sans Mono',consolas,'Courier New',monospace\">19:58:27.991 | <span style=\"color: #008080; text-decoration-color: #008080\">INFO</span>    | Flow run<span style=\"color: #800080; text-decoration-color: #800080\"> 'taupe-zebu'</span> - Created task run 'extract_nobel_prizes_-5' for task 'extract_nobel_prizes_'\n",
       "</pre>\n"
      ],
      "text/plain": [
       "19:58:27.991 | \u001b[36mINFO\u001b[0m    | Flow run\u001b[35m 'taupe-zebu'\u001b[0m - Created task run 'extract_nobel_prizes_-5' for task 'extract_nobel_prizes_'\n"
      ]
     },
     "metadata": {},
     "output_type": "display_data"
    },
    {
     "data": {
      "text/html": [
       "<pre style=\"white-space:pre;overflow-x:auto;line-height:normal;font-family:Menlo,'DejaVu Sans Mono',consolas,'Courier New',monospace\">19:58:28.000 | <span style=\"color: #008080; text-decoration-color: #008080\">INFO</span>    | Flow run<span style=\"color: #800080; text-decoration-color: #800080\"> 'taupe-zebu'</span> - Submitted task run 'extract_nobel_prizes_-5' for execution.\n",
       "</pre>\n"
      ],
      "text/plain": [
       "19:58:28.000 | \u001b[36mINFO\u001b[0m    | Flow run\u001b[35m 'taupe-zebu'\u001b[0m - Submitted task run 'extract_nobel_prizes_-5' for execution.\n"
      ]
     },
     "metadata": {},
     "output_type": "display_data"
    },
    {
     "data": {
      "text/html": [
       "<pre style=\"white-space:pre;overflow-x:auto;line-height:normal;font-family:Menlo,'DejaVu Sans Mono',consolas,'Courier New',monospace\">19:58:28.153 | <span style=\"color: #008080; text-decoration-color: #008080\">INFO</span>    | Flow run<span style=\"color: #800080; text-decoration-color: #800080\"> 'taupe-zebu'</span> - Created task run 'extract_nobel_prizes_-2' for task 'extract_nobel_prizes_'\n",
       "</pre>\n"
      ],
      "text/plain": [
       "19:58:28.153 | \u001b[36mINFO\u001b[0m    | Flow run\u001b[35m 'taupe-zebu'\u001b[0m - Created task run 'extract_nobel_prizes_-2' for task 'extract_nobel_prizes_'\n"
      ]
     },
     "metadata": {},
     "output_type": "display_data"
    },
    {
     "data": {
      "text/html": [
       "<pre style=\"white-space:pre;overflow-x:auto;line-height:normal;font-family:Menlo,'DejaVu Sans Mono',consolas,'Courier New',monospace\">19:58:28.161 | <span style=\"color: #008080; text-decoration-color: #008080\">INFO</span>    | Flow run<span style=\"color: #800080; text-decoration-color: #800080\"> 'taupe-zebu'</span> - Submitted task run 'extract_nobel_prizes_-2' for execution.\n",
       "</pre>\n"
      ],
      "text/plain": [
       "19:58:28.161 | \u001b[36mINFO\u001b[0m    | Flow run\u001b[35m 'taupe-zebu'\u001b[0m - Submitted task run 'extract_nobel_prizes_-2' for execution.\n"
      ]
     },
     "metadata": {},
     "output_type": "display_data"
    },
    {
     "data": {
      "text/html": [
       "<pre style=\"white-space:pre;overflow-x:auto;line-height:normal;font-family:Menlo,'DejaVu Sans Mono',consolas,'Courier New',monospace\">19:58:28.314 | <span style=\"color: #008080; text-decoration-color: #008080\">INFO</span>    | Flow run<span style=\"color: #800080; text-decoration-color: #800080\"> 'taupe-zebu'</span> - Created task run 'extract_laureate_-0' for task 'extract_laureate_'\n",
       "</pre>\n"
      ],
      "text/plain": [
       "19:58:28.314 | \u001b[36mINFO\u001b[0m    | Flow run\u001b[35m 'taupe-zebu'\u001b[0m - Created task run 'extract_laureate_-0' for task 'extract_laureate_'\n"
      ]
     },
     "metadata": {},
     "output_type": "display_data"
    },
    {
     "data": {
      "text/html": [
       "<pre style=\"white-space:pre;overflow-x:auto;line-height:normal;font-family:Menlo,'DejaVu Sans Mono',consolas,'Courier New',monospace\">19:58:28.320 | <span style=\"color: #008080; text-decoration-color: #008080\">INFO</span>    | Flow run<span style=\"color: #800080; text-decoration-color: #800080\"> 'taupe-zebu'</span> - Submitted task run 'extract_laureate_-0' for execution.\n",
       "</pre>\n"
      ],
      "text/plain": [
       "19:58:28.320 | \u001b[36mINFO\u001b[0m    | Flow run\u001b[35m 'taupe-zebu'\u001b[0m - Submitted task run 'extract_laureate_-0' for execution.\n"
      ]
     },
     "metadata": {},
     "output_type": "display_data"
    },
    {
     "data": {
      "text/html": [
       "<pre style=\"white-space:pre;overflow-x:auto;line-height:normal;font-family:Menlo,'DejaVu Sans Mono',consolas,'Courier New',monospace\">19:58:28.553 | <span style=\"color: #008080; text-decoration-color: #008080\">INFO</span>    | Flow run<span style=\"color: #800080; text-decoration-color: #800080\"> 'taupe-zebu'</span> - Created task run 'extract_laureate_-1' for task 'extract_laureate_'\n",
       "</pre>\n"
      ],
      "text/plain": [
       "19:58:28.553 | \u001b[36mINFO\u001b[0m    | Flow run\u001b[35m 'taupe-zebu'\u001b[0m - Created task run 'extract_laureate_-1' for task 'extract_laureate_'\n"
      ]
     },
     "metadata": {},
     "output_type": "display_data"
    },
    {
     "data": {
      "text/html": [
       "<pre style=\"white-space:pre;overflow-x:auto;line-height:normal;font-family:Menlo,'DejaVu Sans Mono',consolas,'Courier New',monospace\">19:58:28.561 | <span style=\"color: #008080; text-decoration-color: #008080\">INFO</span>    | Flow run<span style=\"color: #800080; text-decoration-color: #800080\"> 'taupe-zebu'</span> - Submitted task run 'extract_laureate_-1' for execution.\n",
       "</pre>\n"
      ],
      "text/plain": [
       "19:58:28.561 | \u001b[36mINFO\u001b[0m    | Flow run\u001b[35m 'taupe-zebu'\u001b[0m - Submitted task run 'extract_laureate_-1' for execution.\n"
      ]
     },
     "metadata": {},
     "output_type": "display_data"
    },
    {
     "name": "stdout",
     "output_type": "stream",
     "text": [
      "{\"category\": \"che\", \"year\": 2020}\n",
      "{\"category\": \"eco\", \"year\": 2020}\n",
      "{\"category\": \"lit\", \"year\": 2020}\n"
     ]
    },
    {
     "data": {
      "text/html": [
       "<pre style=\"white-space:pre;overflow-x:auto;line-height:normal;font-family:Menlo,'DejaVu Sans Mono',consolas,'Courier New',monospace\">19:58:29.043 | <span style=\"color: #008080; text-decoration-color: #008080\">INFO</span>    | Flow run<span style=\"color: #800080; text-decoration-color: #800080\"> 'taupe-zebu'</span> - Created task run 'extract_nobel_prizes_-4' for task 'extract_nobel_prizes_'\n",
       "</pre>\n"
      ],
      "text/plain": [
       "19:58:29.043 | \u001b[36mINFO\u001b[0m    | Flow run\u001b[35m 'taupe-zebu'\u001b[0m - Created task run 'extract_nobel_prizes_-4' for task 'extract_nobel_prizes_'\n"
      ]
     },
     "metadata": {},
     "output_type": "display_data"
    },
    {
     "data": {
      "text/html": [
       "<pre style=\"white-space:pre;overflow-x:auto;line-height:normal;font-family:Menlo,'DejaVu Sans Mono',consolas,'Courier New',monospace\">19:58:29.053 | <span style=\"color: #008080; text-decoration-color: #008080\">INFO</span>    | Flow run<span style=\"color: #800080; text-decoration-color: #800080\"> 'taupe-zebu'</span> - Submitted task run 'extract_nobel_prizes_-4' for execution.\n",
       "</pre>\n"
      ],
      "text/plain": [
       "19:58:29.053 | \u001b[36mINFO\u001b[0m    | Flow run\u001b[35m 'taupe-zebu'\u001b[0m - Submitted task run 'extract_nobel_prizes_-4' for execution.\n"
      ]
     },
     "metadata": {},
     "output_type": "display_data"
    },
    {
     "name": "stdout",
     "output_type": "stream",
     "text": [
      "{\"category\": \"med\", \"year\": 2020}\n"
     ]
    },
    {
     "data": {
      "text/html": [
       "<pre style=\"white-space:pre;overflow-x:auto;line-height:normal;font-family:Menlo,'DejaVu Sans Mono',consolas,'Courier New',monospace\">19:58:29.212 | <span style=\"color: #008080; text-decoration-color: #008080\">INFO</span>    | Flow run<span style=\"color: #800080; text-decoration-color: #800080\"> 'taupe-zebu'</span> - Created task run 'extract_nobel_prizes_-3' for task 'extract_nobel_prizes_'\n",
       "</pre>\n"
      ],
      "text/plain": [
       "19:58:29.212 | \u001b[36mINFO\u001b[0m    | Flow run\u001b[35m 'taupe-zebu'\u001b[0m - Created task run 'extract_nobel_prizes_-3' for task 'extract_nobel_prizes_'\n"
      ]
     },
     "metadata": {},
     "output_type": "display_data"
    },
    {
     "data": {
      "text/html": [
       "<pre style=\"white-space:pre;overflow-x:auto;line-height:normal;font-family:Menlo,'DejaVu Sans Mono',consolas,'Courier New',monospace\">19:58:29.218 | <span style=\"color: #008080; text-decoration-color: #008080\">INFO</span>    | Flow run<span style=\"color: #800080; text-decoration-color: #800080\"> 'taupe-zebu'</span> - Submitted task run 'extract_nobel_prizes_-3' for execution.\n",
       "</pre>\n"
      ],
      "text/plain": [
       "19:58:29.218 | \u001b[36mINFO\u001b[0m    | Flow run\u001b[35m 'taupe-zebu'\u001b[0m - Submitted task run 'extract_nobel_prizes_-3' for execution.\n"
      ]
     },
     "metadata": {},
     "output_type": "display_data"
    },
    {
     "data": {
      "text/html": [
       "<pre style=\"white-space:pre;overflow-x:auto;line-height:normal;font-family:Menlo,'DejaVu Sans Mono',consolas,'Courier New',monospace\">19:58:29.357 | <span style=\"color: #008080; text-decoration-color: #008080\">INFO</span>    | Flow run<span style=\"color: #800080; text-decoration-color: #800080\"> 'taupe-zebu'</span> - Created task run 'extract_laureate_-2' for task 'extract_laureate_'\n",
       "</pre>\n"
      ],
      "text/plain": [
       "19:58:29.357 | \u001b[36mINFO\u001b[0m    | Flow run\u001b[35m 'taupe-zebu'\u001b[0m - Created task run 'extract_laureate_-2' for task 'extract_laureate_'\n"
      ]
     },
     "metadata": {},
     "output_type": "display_data"
    },
    {
     "data": {
      "text/html": [
       "<pre style=\"white-space:pre;overflow-x:auto;line-height:normal;font-family:Menlo,'DejaVu Sans Mono',consolas,'Courier New',monospace\">19:58:29.365 | <span style=\"color: #008080; text-decoration-color: #008080\">INFO</span>    | Flow run<span style=\"color: #800080; text-decoration-color: #800080\"> 'taupe-zebu'</span> - Submitted task run 'extract_laureate_-2' for execution.\n",
       "</pre>\n"
      ],
      "text/plain": [
       "19:58:29.365 | \u001b[36mINFO\u001b[0m    | Flow run\u001b[35m 'taupe-zebu'\u001b[0m - Submitted task run 'extract_laureate_-2' for execution.\n"
      ]
     },
     "metadata": {},
     "output_type": "display_data"
    },
    {
     "data": {
      "text/html": [
       "<pre style=\"white-space:pre;overflow-x:auto;line-height:normal;font-family:Menlo,'DejaVu Sans Mono',consolas,'Courier New',monospace\">19:58:29.542 | <span style=\"color: #008080; text-decoration-color: #008080\">INFO</span>    | Flow run<span style=\"color: #800080; text-decoration-color: #800080\"> 'taupe-zebu'</span> - Created task run 'extract_laureate_-3' for task 'extract_laureate_'\n",
       "</pre>\n"
      ],
      "text/plain": [
       "19:58:29.542 | \u001b[36mINFO\u001b[0m    | Flow run\u001b[35m 'taupe-zebu'\u001b[0m - Created task run 'extract_laureate_-3' for task 'extract_laureate_'\n"
      ]
     },
     "metadata": {},
     "output_type": "display_data"
    },
    {
     "data": {
      "text/html": [
       "<pre style=\"white-space:pre;overflow-x:auto;line-height:normal;font-family:Menlo,'DejaVu Sans Mono',consolas,'Courier New',monospace\">19:58:29.551 | <span style=\"color: #008080; text-decoration-color: #008080\">INFO</span>    | Flow run<span style=\"color: #800080; text-decoration-color: #800080\"> 'taupe-zebu'</span> - Submitted task run 'extract_laureate_-3' for execution.\n",
       "</pre>\n"
      ],
      "text/plain": [
       "19:58:29.551 | \u001b[36mINFO\u001b[0m    | Flow run\u001b[35m 'taupe-zebu'\u001b[0m - Submitted task run 'extract_laureate_-3' for execution.\n"
      ]
     },
     "metadata": {},
     "output_type": "display_data"
    },
    {
     "name": "stdout",
     "output_type": "stream",
     "text": [
      "{\"category\": \"phy\", \"year\": 2020}\n"
     ]
    },
    {
     "data": {
      "text/html": [
       "<pre style=\"white-space:pre;overflow-x:auto;line-height:normal;font-family:Menlo,'DejaVu Sans Mono',consolas,'Courier New',monospace\">19:58:29.862 | <span style=\"color: #008080; text-decoration-color: #008080\">INFO</span>    | Task run 'extract_nobel_prizes_-2' - Finished in state <span style=\"color: #008000; text-decoration-color: #008000\">Completed</span>()\n",
       "</pre>\n"
      ],
      "text/plain": [
       "19:58:29.862 | \u001b[36mINFO\u001b[0m    | Task run 'extract_nobel_prizes_-2' - Finished in state \u001b[32mCompleted\u001b[0m()\n"
      ]
     },
     "metadata": {},
     "output_type": "display_data"
    },
    {
     "data": {
      "text/html": [
       "<pre style=\"white-space:pre;overflow-x:auto;line-height:normal;font-family:Menlo,'DejaVu Sans Mono',consolas,'Courier New',monospace\">19:58:29.983 | <span style=\"color: #008080; text-decoration-color: #008080\">INFO</span>    | Task run 'extract_nobel_prizes_-0' - Finished in state <span style=\"color: #008000; text-decoration-color: #008000\">Completed</span>()\n",
       "</pre>\n"
      ],
      "text/plain": [
       "19:58:29.983 | \u001b[36mINFO\u001b[0m    | Task run 'extract_nobel_prizes_-0' - Finished in state \u001b[32mCompleted\u001b[0m()\n"
      ]
     },
     "metadata": {},
     "output_type": "display_data"
    },
    {
     "name": "stdout",
     "output_type": "stream",
     "text": [
      "{\"laureateID\": \"993\"}\n",
      "{\"laureateID\": \"991\"}\n"
     ]
    },
    {
     "data": {
      "text/html": [
       "<pre style=\"white-space:pre;overflow-x:auto;line-height:normal;font-family:Menlo,'DejaVu Sans Mono',consolas,'Courier New',monospace\">19:58:30.307 | <span style=\"color: #008080; text-decoration-color: #008080\">INFO</span>    | Flow run<span style=\"color: #800080; text-decoration-color: #800080\"> 'taupe-zebu'</span> - Created task run 'extract_laureate_-5' for task 'extract_laureate_'\n",
       "</pre>\n"
      ],
      "text/plain": [
       "19:58:30.307 | \u001b[36mINFO\u001b[0m    | Flow run\u001b[35m 'taupe-zebu'\u001b[0m - Created task run 'extract_laureate_-5' for task 'extract_laureate_'\n"
      ]
     },
     "metadata": {},
     "output_type": "display_data"
    },
    {
     "data": {
      "text/html": [
       "<pre style=\"white-space:pre;overflow-x:auto;line-height:normal;font-family:Menlo,'DejaVu Sans Mono',consolas,'Courier New',monospace\">19:58:30.316 | <span style=\"color: #008080; text-decoration-color: #008080\">INFO</span>    | Flow run<span style=\"color: #800080; text-decoration-color: #800080\"> 'taupe-zebu'</span> - Submitted task run 'extract_laureate_-5' for execution.\n",
       "</pre>\n"
      ],
      "text/plain": [
       "19:58:30.316 | \u001b[36mINFO\u001b[0m    | Flow run\u001b[35m 'taupe-zebu'\u001b[0m - Submitted task run 'extract_laureate_-5' for execution.\n"
      ]
     },
     "metadata": {},
     "output_type": "display_data"
    },
    {
     "data": {
      "text/html": [
       "<pre style=\"white-space:pre;overflow-x:auto;line-height:normal;font-family:Menlo,'DejaVu Sans Mono',consolas,'Courier New',monospace\">19:58:30.382 | <span style=\"color: #008080; text-decoration-color: #008080\">INFO</span>    | Flow run<span style=\"color: #800080; text-decoration-color: #800080\"> 'taupe-zebu'</span> - Created task run 'extract_laureate_-4' for task 'extract_laureate_'\n",
       "</pre>\n"
      ],
      "text/plain": [
       "19:58:30.382 | \u001b[36mINFO\u001b[0m    | Flow run\u001b[35m 'taupe-zebu'\u001b[0m - Created task run 'extract_laureate_-4' for task 'extract_laureate_'\n"
      ]
     },
     "metadata": {},
     "output_type": "display_data"
    },
    {
     "data": {
      "text/html": [
       "<pre style=\"white-space:pre;overflow-x:auto;line-height:normal;font-family:Menlo,'DejaVu Sans Mono',consolas,'Courier New',monospace\">19:58:30.388 | <span style=\"color: #008080; text-decoration-color: #008080\">INFO</span>    | Flow run<span style=\"color: #800080; text-decoration-color: #800080\"> 'taupe-zebu'</span> - Submitted task run 'extract_laureate_-4' for execution.\n",
       "</pre>\n"
      ],
      "text/plain": [
       "19:58:30.388 | \u001b[36mINFO\u001b[0m    | Flow run\u001b[35m 'taupe-zebu'\u001b[0m - Submitted task run 'extract_laureate_-4' for execution.\n"
      ]
     },
     "metadata": {},
     "output_type": "display_data"
    },
    {
     "data": {
      "text/html": [
       "<pre style=\"white-space:pre;overflow-x:auto;line-height:normal;font-family:Menlo,'DejaVu Sans Mono',consolas,'Courier New',monospace\">19:58:30.645 | <span style=\"color: #008080; text-decoration-color: #008080\">INFO</span>    | Flow run<span style=\"color: #800080; text-decoration-color: #800080\"> 'taupe-zebu'</span> - Created task run 'etl_bronze_-0' for task 'etl_bronze_'\n",
       "</pre>\n"
      ],
      "text/plain": [
       "19:58:30.645 | \u001b[36mINFO\u001b[0m    | Flow run\u001b[35m 'taupe-zebu'\u001b[0m - Created task run 'etl_bronze_-0' for task 'etl_bronze_'\n"
      ]
     },
     "metadata": {},
     "output_type": "display_data"
    },
    {
     "data": {
      "text/html": [
       "<pre style=\"white-space:pre;overflow-x:auto;line-height:normal;font-family:Menlo,'DejaVu Sans Mono',consolas,'Courier New',monospace\">19:58:30.650 | <span style=\"color: #008080; text-decoration-color: #008080\">INFO</span>    | Flow run<span style=\"color: #800080; text-decoration-color: #800080\"> 'taupe-zebu'</span> - Executing 'etl_bronze_-0' immediately...\n",
       "</pre>\n"
      ],
      "text/plain": [
       "19:58:30.650 | \u001b[36mINFO\u001b[0m    | Flow run\u001b[35m 'taupe-zebu'\u001b[0m - Executing 'etl_bronze_-0' immediately...\n"
      ]
     },
     "metadata": {},
     "output_type": "display_data"
    },
    {
     "name": "stdout",
     "output_type": "stream",
     "text": [
      "{\"category\": \"pea\", \"year\": 2020}\n"
     ]
    },
    {
     "data": {
      "text/html": [
       "<pre style=\"white-space:pre;overflow-x:auto;line-height:normal;font-family:Menlo,'DejaVu Sans Mono',consolas,'Courier New',monospace\">19:58:30.851 | <span style=\"color: #008080; text-decoration-color: #008080\">INFO</span>    | Task run 'extract_laureate_-2' - Finished in state <span style=\"color: #008000; text-decoration-color: #008000\">Completed</span>()\n",
       "</pre>\n"
      ],
      "text/plain": [
       "19:58:30.851 | \u001b[36mINFO\u001b[0m    | Task run 'extract_laureate_-2' - Finished in state \u001b[32mCompleted\u001b[0m()\n"
      ]
     },
     "metadata": {},
     "output_type": "display_data"
    },
    {
     "name": "stdout",
     "output_type": "stream",
     "text": [
      "{\"laureateID\": \"992\"}\n"
     ]
    },
    {
     "data": {
      "text/html": [
       "<pre style=\"white-space:pre;overflow-x:auto;line-height:normal;font-family:Menlo,'DejaVu Sans Mono',consolas,'Courier New',monospace\">19:58:33.488 | <span style=\"color: #008080; text-decoration-color: #008080\">INFO</span>    | Task run 'extract_nobel_prizes_-1' - Finished in state <span style=\"color: #008000; text-decoration-color: #008000\">Completed</span>()\n",
       "</pre>\n"
      ],
      "text/plain": [
       "19:58:33.488 | \u001b[36mINFO\u001b[0m    | Task run 'extract_nobel_prizes_-1' - Finished in state \u001b[32mCompleted\u001b[0m()\n"
      ]
     },
     "metadata": {},
     "output_type": "display_data"
    },
    {
     "name": "stdout",
     "output_type": "stream",
     "text": [
      "{\"laureateID\": \"995\"}\n"
     ]
    },
    {
     "data": {
      "text/html": [
       "<pre style=\"white-space:pre;overflow-x:auto;line-height:normal;font-family:Menlo,'DejaVu Sans Mono',consolas,'Courier New',monospace\">19:58:33.998 | <span style=\"color: #008080; text-decoration-color: #008080\">INFO</span>    | Task run 'extract_nobel_prizes_-3' - Finished in state <span style=\"color: #008000; text-decoration-color: #008000\">Completed</span>()\n",
       "</pre>\n"
      ],
      "text/plain": [
       "19:58:33.998 | \u001b[36mINFO\u001b[0m    | Task run 'extract_nobel_prizes_-3' - Finished in state \u001b[32mCompleted\u001b[0m()\n"
      ]
     },
     "metadata": {},
     "output_type": "display_data"
    },
    {
     "name": "stdout",
     "output_type": "stream",
     "text": [
      "{\"laureateID\": \"994\"}\n"
     ]
    },
    {
     "data": {
      "text/html": [
       "<pre style=\"white-space:pre;overflow-x:auto;line-height:normal;font-family:Menlo,'DejaVu Sans Mono',consolas,'Courier New',monospace\">19:58:34.300 | <span style=\"color: #008080; text-decoration-color: #008080\">INFO</span>    | Task run 'extract_nobel_prizes_-5' - Finished in state <span style=\"color: #008000; text-decoration-color: #008000\">Completed</span>()\n",
       "</pre>\n"
      ],
      "text/plain": [
       "19:58:34.300 | \u001b[36mINFO\u001b[0m    | Task run 'extract_nobel_prizes_-5' - Finished in state \u001b[32mCompleted\u001b[0m()\n"
      ]
     },
     "metadata": {},
     "output_type": "display_data"
    },
    {
     "name": "stdout",
     "output_type": "stream",
     "text": [
      "{\"laureateID\": \"985\"}\n"
     ]
    },
    {
     "data": {
      "text/html": [
       "<pre style=\"white-space:pre;overflow-x:auto;line-height:normal;font-family:Menlo,'DejaVu Sans Mono',consolas,'Courier New',monospace\">19:58:34.597 | <span style=\"color: #008080; text-decoration-color: #008080\">INFO</span>    | Task run 'extract_nobel_prizes_-4' - Finished in state <span style=\"color: #008000; text-decoration-color: #008000\">Completed</span>()\n",
       "</pre>\n"
      ],
      "text/plain": [
       "19:58:34.597 | \u001b[36mINFO\u001b[0m    | Task run 'extract_nobel_prizes_-4' - Finished in state \u001b[32mCompleted\u001b[0m()\n"
      ]
     },
     "metadata": {},
     "output_type": "display_data"
    },
    {
     "data": {
      "text/html": [
       "<pre style=\"white-space:pre;overflow-x:auto;line-height:normal;font-family:Menlo,'DejaVu Sans Mono',consolas,'Courier New',monospace\">19:58:34.715 | <span style=\"color: #008080; text-decoration-color: #008080\">INFO</span>    | Task run 'extract_laureate_-0' - Finished in state <span style=\"color: #008000; text-decoration-color: #008000\">Completed</span>()\n",
       "</pre>\n"
      ],
      "text/plain": [
       "19:58:34.715 | \u001b[36mINFO\u001b[0m    | Task run 'extract_laureate_-0' - Finished in state \u001b[32mCompleted\u001b[0m()\n"
      ]
     },
     "metadata": {},
     "output_type": "display_data"
    },
    {
     "name": "stdout",
     "output_type": "stream",
     "text": [
      "{\"laureateID\": \"986\"}\n",
      "{\"laureateID\": \"988\"}\n",
      "{\"laureateID\": \"987\"}\n"
     ]
    },
    {
     "data": {
      "text/html": [
       "<pre style=\"white-space:pre;overflow-x:auto;line-height:normal;font-family:Menlo,'DejaVu Sans Mono',consolas,'Courier New',monospace\">19:58:37.354 | <span style=\"color: #008080; text-decoration-color: #008080\">INFO</span>    | Task run 'extract_laureate_-5' - Finished in state <span style=\"color: #008000; text-decoration-color: #008000\">Completed</span>()\n",
       "</pre>\n"
      ],
      "text/plain": [
       "19:58:37.354 | \u001b[36mINFO\u001b[0m    | Task run 'extract_laureate_-5' - Finished in state \u001b[32mCompleted\u001b[0m()\n"
      ]
     },
     "metadata": {},
     "output_type": "display_data"
    },
    {
     "name": "stdout",
     "output_type": "stream",
     "text": [
      "{\"laureateID\": \"996\"}\n"
     ]
    },
    {
     "data": {
      "text/html": [
       "<pre style=\"white-space:pre;overflow-x:auto;line-height:normal;font-family:Menlo,'DejaVu Sans Mono',consolas,'Courier New',monospace\">19:58:37.760 | <span style=\"color: #008080; text-decoration-color: #008080\">INFO</span>    | Task run 'extract_laureate_-1' - Finished in state <span style=\"color: #008000; text-decoration-color: #008000\">Completed</span>()\n",
       "</pre>\n"
      ],
      "text/plain": [
       "19:58:37.760 | \u001b[36mINFO\u001b[0m    | Task run 'extract_laureate_-1' - Finished in state \u001b[32mCompleted\u001b[0m()\n"
      ]
     },
     "metadata": {},
     "output_type": "display_data"
    },
    {
     "name": "stdout",
     "output_type": "stream",
     "text": [
      "{\"laureateID\": \"989\"}\n"
     ]
    },
    {
     "data": {
      "text/html": [
       "<pre style=\"white-space:pre;overflow-x:auto;line-height:normal;font-family:Menlo,'DejaVu Sans Mono',consolas,'Courier New',monospace\">19:58:39.299 | <span style=\"color: #008080; text-decoration-color: #008080\">INFO</span>    | Task run 'extract_laureate_-3' - Finished in state <span style=\"color: #008000; text-decoration-color: #008000\">Completed</span>()\n",
       "</pre>\n"
      ],
      "text/plain": [
       "19:58:39.299 | \u001b[36mINFO\u001b[0m    | Task run 'extract_laureate_-3' - Finished in state \u001b[32mCompleted\u001b[0m()\n"
      ]
     },
     "metadata": {},
     "output_type": "display_data"
    },
    {
     "name": "stdout",
     "output_type": "stream",
     "text": [
      "{\"laureateID\": \"990\"}\n"
     ]
    },
    {
     "data": {
      "text/html": [
       "<pre style=\"white-space:pre;overflow-x:auto;line-height:normal;font-family:Menlo,'DejaVu Sans Mono',consolas,'Courier New',monospace\">19:58:41.691 | <span style=\"color: #008080; text-decoration-color: #008080\">INFO</span>    | Task run 'extract_laureate_-4' - Finished in state <span style=\"color: #008000; text-decoration-color: #008000\">Completed</span>()\n",
       "</pre>\n"
      ],
      "text/plain": [
       "19:58:41.691 | \u001b[36mINFO\u001b[0m    | Task run 'extract_laureate_-4' - Finished in state \u001b[32mCompleted\u001b[0m()\n"
      ]
     },
     "metadata": {},
     "output_type": "display_data"
    },
    {
     "name": "stdout",
     "output_type": "stream",
     "text": [
      "ETL bronze ejecutada con éxito\n"
     ]
    },
    {
     "data": {
      "text/html": [
       "<pre style=\"white-space:pre;overflow-x:auto;line-height:normal;font-family:Menlo,'DejaVu Sans Mono',consolas,'Courier New',monospace\">19:58:45.963 | <span style=\"color: #008080; text-decoration-color: #008080\">INFO</span>    | Task run 'etl_bronze_-0' - Finished in state <span style=\"color: #008000; text-decoration-color: #008000\">Completed</span>()\n",
       "</pre>\n"
      ],
      "text/plain": [
       "19:58:45.963 | \u001b[36mINFO\u001b[0m    | Task run 'etl_bronze_-0' - Finished in state \u001b[32mCompleted\u001b[0m()\n"
      ]
     },
     "metadata": {},
     "output_type": "display_data"
    },
    {
     "data": {
      "text/html": [
       "<pre style=\"white-space:pre;overflow-x:auto;line-height:normal;font-family:Menlo,'DejaVu Sans Mono',consolas,'Courier New',monospace\">19:58:46.118 | <span style=\"color: #008080; text-decoration-color: #008080\">INFO</span>    | Flow run<span style=\"color: #800080; text-decoration-color: #800080\"> 'taupe-zebu'</span> - Finished in state <span style=\"color: #008000; text-decoration-color: #008000\">Completed</span>('All states completed.')\n",
       "</pre>\n"
      ],
      "text/plain": [
       "19:58:46.118 | \u001b[36mINFO\u001b[0m    | Flow run\u001b[35m 'taupe-zebu'\u001b[0m - Finished in state \u001b[32mCompleted\u001b[0m('All states completed.')\n"
      ]
     },
     "metadata": {},
     "output_type": "display_data"
    },
    {
     "data": {
      "text/html": [
       "<pre style=\"white-space:pre;overflow-x:auto;line-height:normal;font-family:Menlo,'DejaVu Sans Mono',consolas,'Courier New',monospace\">19:58:46.739 | <span style=\"color: #008080; text-decoration-color: #008080\">INFO</span>    | prefect.engine - Created flow run<span style=\"color: #800080; text-decoration-color: #800080\"> 'certain-dinosaur'</span> for flow<span style=\"color: #800080; text-decoration-color: #800080; font-weight: bold\"> 'nobel_prizes_etl'</span>\n",
       "</pre>\n"
      ],
      "text/plain": [
       "19:58:46.739 | \u001b[36mINFO\u001b[0m    | prefect.engine - Created flow run\u001b[35m 'certain-dinosaur'\u001b[0m for flow\u001b[1;35m 'nobel_prizes_etl'\u001b[0m\n"
      ]
     },
     "metadata": {},
     "output_type": "display_data"
    },
    {
     "data": {
      "text/html": [
       "<pre style=\"white-space:pre;overflow-x:auto;line-height:normal;font-family:Menlo,'DejaVu Sans Mono',consolas,'Courier New',monospace\">19:58:47.418 | <span style=\"color: #008080; text-decoration-color: #008080\">INFO</span>    | Flow run<span style=\"color: #800080; text-decoration-color: #800080\"> 'certain-dinosaur'</span> - Created task run 'extract_nobel_prizes_-1' for task 'extract_nobel_prizes_'\n",
       "</pre>\n"
      ],
      "text/plain": [
       "19:58:47.418 | \u001b[36mINFO\u001b[0m    | Flow run\u001b[35m 'certain-dinosaur'\u001b[0m - Created task run 'extract_nobel_prizes_-1' for task 'extract_nobel_prizes_'\n"
      ]
     },
     "metadata": {},
     "output_type": "display_data"
    },
    {
     "data": {
      "text/html": [
       "<pre style=\"white-space:pre;overflow-x:auto;line-height:normal;font-family:Menlo,'DejaVu Sans Mono',consolas,'Courier New',monospace\">19:58:47.427 | <span style=\"color: #008080; text-decoration-color: #008080\">INFO</span>    | Flow run<span style=\"color: #800080; text-decoration-color: #800080\"> 'certain-dinosaur'</span> - Submitted task run 'extract_nobel_prizes_-1' for execution.\n",
       "</pre>\n"
      ],
      "text/plain": [
       "19:58:47.427 | \u001b[36mINFO\u001b[0m    | Flow run\u001b[35m 'certain-dinosaur'\u001b[0m - Submitted task run 'extract_nobel_prizes_-1' for execution.\n"
      ]
     },
     "metadata": {},
     "output_type": "display_data"
    },
    {
     "data": {
      "text/html": [
       "<pre style=\"white-space:pre;overflow-x:auto;line-height:normal;font-family:Menlo,'DejaVu Sans Mono',consolas,'Courier New',monospace\">19:58:47.518 | <span style=\"color: #008080; text-decoration-color: #008080\">INFO</span>    | Flow run<span style=\"color: #800080; text-decoration-color: #800080\"> 'certain-dinosaur'</span> - Created task run 'extract_nobel_prizes_-5' for task 'extract_nobel_prizes_'\n",
       "</pre>\n"
      ],
      "text/plain": [
       "19:58:47.518 | \u001b[36mINFO\u001b[0m    | Flow run\u001b[35m 'certain-dinosaur'\u001b[0m - Created task run 'extract_nobel_prizes_-5' for task 'extract_nobel_prizes_'\n"
      ]
     },
     "metadata": {},
     "output_type": "display_data"
    },
    {
     "data": {
      "text/html": [
       "<pre style=\"white-space:pre;overflow-x:auto;line-height:normal;font-family:Menlo,'DejaVu Sans Mono',consolas,'Courier New',monospace\">19:58:47.527 | <span style=\"color: #008080; text-decoration-color: #008080\">INFO</span>    | Flow run<span style=\"color: #800080; text-decoration-color: #800080\"> 'certain-dinosaur'</span> - Submitted task run 'extract_nobel_prizes_-5' for execution.\n",
       "</pre>\n"
      ],
      "text/plain": [
       "19:58:47.527 | \u001b[36mINFO\u001b[0m    | Flow run\u001b[35m 'certain-dinosaur'\u001b[0m - Submitted task run 'extract_nobel_prizes_-5' for execution.\n"
      ]
     },
     "metadata": {},
     "output_type": "display_data"
    },
    {
     "data": {
      "text/html": [
       "<pre style=\"white-space:pre;overflow-x:auto;line-height:normal;font-family:Menlo,'DejaVu Sans Mono',consolas,'Courier New',monospace\">19:58:47.652 | <span style=\"color: #008080; text-decoration-color: #008080\">INFO</span>    | Flow run<span style=\"color: #800080; text-decoration-color: #800080\"> 'certain-dinosaur'</span> - Created task run 'extract_nobel_prizes_-3' for task 'extract_nobel_prizes_'\n",
       "</pre>\n"
      ],
      "text/plain": [
       "19:58:47.652 | \u001b[36mINFO\u001b[0m    | Flow run\u001b[35m 'certain-dinosaur'\u001b[0m - Created task run 'extract_nobel_prizes_-3' for task 'extract_nobel_prizes_'\n"
      ]
     },
     "metadata": {},
     "output_type": "display_data"
    },
    {
     "data": {
      "text/html": [
       "<pre style=\"white-space:pre;overflow-x:auto;line-height:normal;font-family:Menlo,'DejaVu Sans Mono',consolas,'Courier New',monospace\">19:58:47.660 | <span style=\"color: #008080; text-decoration-color: #008080\">INFO</span>    | Flow run<span style=\"color: #800080; text-decoration-color: #800080\"> 'certain-dinosaur'</span> - Submitted task run 'extract_nobel_prizes_-3' for execution.\n",
       "</pre>\n"
      ],
      "text/plain": [
       "19:58:47.660 | \u001b[36mINFO\u001b[0m    | Flow run\u001b[35m 'certain-dinosaur'\u001b[0m - Submitted task run 'extract_nobel_prizes_-3' for execution.\n"
      ]
     },
     "metadata": {},
     "output_type": "display_data"
    },
    {
     "data": {
      "text/html": [
       "<pre style=\"white-space:pre;overflow-x:auto;line-height:normal;font-family:Menlo,'DejaVu Sans Mono',consolas,'Courier New',monospace\">19:58:47.787 | <span style=\"color: #008080; text-decoration-color: #008080\">INFO</span>    | Flow run<span style=\"color: #800080; text-decoration-color: #800080\"> 'certain-dinosaur'</span> - Created task run 'extract_nobel_prizes_-2' for task 'extract_nobel_prizes_'\n",
       "</pre>\n"
      ],
      "text/plain": [
       "19:58:47.787 | \u001b[36mINFO\u001b[0m    | Flow run\u001b[35m 'certain-dinosaur'\u001b[0m - Created task run 'extract_nobel_prizes_-2' for task 'extract_nobel_prizes_'\n"
      ]
     },
     "metadata": {},
     "output_type": "display_data"
    },
    {
     "data": {
      "text/html": [
       "<pre style=\"white-space:pre;overflow-x:auto;line-height:normal;font-family:Menlo,'DejaVu Sans Mono',consolas,'Courier New',monospace\">19:58:47.796 | <span style=\"color: #008080; text-decoration-color: #008080\">INFO</span>    | Flow run<span style=\"color: #800080; text-decoration-color: #800080\"> 'certain-dinosaur'</span> - Submitted task run 'extract_nobel_prizes_-2' for execution.\n",
       "</pre>\n"
      ],
      "text/plain": [
       "19:58:47.796 | \u001b[36mINFO\u001b[0m    | Flow run\u001b[35m 'certain-dinosaur'\u001b[0m - Submitted task run 'extract_nobel_prizes_-2' for execution.\n"
      ]
     },
     "metadata": {},
     "output_type": "display_data"
    },
    {
     "data": {
      "text/html": [
       "<pre style=\"white-space:pre;overflow-x:auto;line-height:normal;font-family:Menlo,'DejaVu Sans Mono',consolas,'Courier New',monospace\">19:58:47.962 | <span style=\"color: #008080; text-decoration-color: #008080\">INFO</span>    | Flow run<span style=\"color: #800080; text-decoration-color: #800080\"> 'certain-dinosaur'</span> - Created task run 'extract_laureate_-5' for task 'extract_laureate_'\n",
       "</pre>\n"
      ],
      "text/plain": [
       "19:58:47.962 | \u001b[36mINFO\u001b[0m    | Flow run\u001b[35m 'certain-dinosaur'\u001b[0m - Created task run 'extract_laureate_-5' for task 'extract_laureate_'\n"
      ]
     },
     "metadata": {},
     "output_type": "display_data"
    },
    {
     "data": {
      "text/html": [
       "<pre style=\"white-space:pre;overflow-x:auto;line-height:normal;font-family:Menlo,'DejaVu Sans Mono',consolas,'Courier New',monospace\">19:58:47.968 | <span style=\"color: #008080; text-decoration-color: #008080\">INFO</span>    | Flow run<span style=\"color: #800080; text-decoration-color: #800080\"> 'certain-dinosaur'</span> - Submitted task run 'extract_laureate_-5' for execution.\n",
       "</pre>\n"
      ],
      "text/plain": [
       "19:58:47.968 | \u001b[36mINFO\u001b[0m    | Flow run\u001b[35m 'certain-dinosaur'\u001b[0m - Submitted task run 'extract_laureate_-5' for execution.\n"
      ]
     },
     "metadata": {},
     "output_type": "display_data"
    },
    {
     "data": {
      "text/html": [
       "<pre style=\"white-space:pre;overflow-x:auto;line-height:normal;font-family:Menlo,'DejaVu Sans Mono',consolas,'Courier New',monospace\">19:58:48.088 | <span style=\"color: #008080; text-decoration-color: #008080\">INFO</span>    | Flow run<span style=\"color: #800080; text-decoration-color: #800080\"> 'certain-dinosaur'</span> - Created task run 'extract_laureate_-3' for task 'extract_laureate_'\n",
       "</pre>\n"
      ],
      "text/plain": [
       "19:58:48.088 | \u001b[36mINFO\u001b[0m    | Flow run\u001b[35m 'certain-dinosaur'\u001b[0m - Created task run 'extract_laureate_-3' for task 'extract_laureate_'\n"
      ]
     },
     "metadata": {},
     "output_type": "display_data"
    },
    {
     "data": {
      "text/html": [
       "<pre style=\"white-space:pre;overflow-x:auto;line-height:normal;font-family:Menlo,'DejaVu Sans Mono',consolas,'Courier New',monospace\">19:58:48.096 | <span style=\"color: #008080; text-decoration-color: #008080\">INFO</span>    | Flow run<span style=\"color: #800080; text-decoration-color: #800080\"> 'certain-dinosaur'</span> - Submitted task run 'extract_laureate_-3' for execution.\n",
       "</pre>\n"
      ],
      "text/plain": [
       "19:58:48.096 | \u001b[36mINFO\u001b[0m    | Flow run\u001b[35m 'certain-dinosaur'\u001b[0m - Submitted task run 'extract_laureate_-3' for execution.\n"
      ]
     },
     "metadata": {},
     "output_type": "display_data"
    },
    {
     "data": {
      "text/html": [
       "<pre style=\"white-space:pre;overflow-x:auto;line-height:normal;font-family:Menlo,'DejaVu Sans Mono',consolas,'Courier New',monospace\">19:58:48.313 | <span style=\"color: #008080; text-decoration-color: #008080\">INFO</span>    | Flow run<span style=\"color: #800080; text-decoration-color: #800080\"> 'certain-dinosaur'</span> - Created task run 'extract_nobel_prizes_-0' for task 'extract_nobel_prizes_'\n",
       "</pre>\n"
      ],
      "text/plain": [
       "19:58:48.313 | \u001b[36mINFO\u001b[0m    | Flow run\u001b[35m 'certain-dinosaur'\u001b[0m - Created task run 'extract_nobel_prizes_-0' for task 'extract_nobel_prizes_'\n"
      ]
     },
     "metadata": {},
     "output_type": "display_data"
    },
    {
     "data": {
      "text/html": [
       "<pre style=\"white-space:pre;overflow-x:auto;line-height:normal;font-family:Menlo,'DejaVu Sans Mono',consolas,'Courier New',monospace\">19:58:48.319 | <span style=\"color: #008080; text-decoration-color: #008080\">INFO</span>    | Flow run<span style=\"color: #800080; text-decoration-color: #800080\"> 'certain-dinosaur'</span> - Submitted task run 'extract_nobel_prizes_-0' for execution.\n",
       "</pre>\n"
      ],
      "text/plain": [
       "19:58:48.319 | \u001b[36mINFO\u001b[0m    | Flow run\u001b[35m 'certain-dinosaur'\u001b[0m - Submitted task run 'extract_nobel_prizes_-0' for execution.\n"
      ]
     },
     "metadata": {},
     "output_type": "display_data"
    },
    {
     "name": "stdout",
     "output_type": "stream",
     "text": [
      "{\"category\": \"med\", \"year\": 2021}\n"
     ]
    },
    {
     "data": {
      "text/html": [
       "<pre style=\"white-space:pre;overflow-x:auto;line-height:normal;font-family:Menlo,'DejaVu Sans Mono',consolas,'Courier New',monospace\">19:58:48.670 | <span style=\"color: #008080; text-decoration-color: #008080\">INFO</span>    | Flow run<span style=\"color: #800080; text-decoration-color: #800080\"> 'certain-dinosaur'</span> - Created task run 'extract_laureate_-0' for task 'extract_laureate_'\n",
       "</pre>\n"
      ],
      "text/plain": [
       "19:58:48.670 | \u001b[36mINFO\u001b[0m    | Flow run\u001b[35m 'certain-dinosaur'\u001b[0m - Created task run 'extract_laureate_-0' for task 'extract_laureate_'\n"
      ]
     },
     "metadata": {},
     "output_type": "display_data"
    },
    {
     "data": {
      "text/html": [
       "<pre style=\"white-space:pre;overflow-x:auto;line-height:normal;font-family:Menlo,'DejaVu Sans Mono',consolas,'Courier New',monospace\">19:58:48.679 | <span style=\"color: #008080; text-decoration-color: #008080\">INFO</span>    | Flow run<span style=\"color: #800080; text-decoration-color: #800080\"> 'certain-dinosaur'</span> - Submitted task run 'extract_laureate_-0' for execution.\n",
       "</pre>\n"
      ],
      "text/plain": [
       "19:58:48.679 | \u001b[36mINFO\u001b[0m    | Flow run\u001b[35m 'certain-dinosaur'\u001b[0m - Submitted task run 'extract_laureate_-0' for execution.\n"
      ]
     },
     "metadata": {},
     "output_type": "display_data"
    },
    {
     "name": "stdout",
     "output_type": "stream",
     "text": [
      "{\"category\": \"lit\", \"year\": 2021}\n"
     ]
    },
    {
     "data": {
      "text/html": [
       "<pre style=\"white-space:pre;overflow-x:auto;line-height:normal;font-family:Menlo,'DejaVu Sans Mono',consolas,'Courier New',monospace\">19:58:48.777 | <span style=\"color: #008080; text-decoration-color: #008080\">INFO</span>    | Flow run<span style=\"color: #800080; text-decoration-color: #800080\"> 'certain-dinosaur'</span> - Created task run 'extract_laureate_-2' for task 'extract_laureate_'\n",
       "</pre>\n"
      ],
      "text/plain": [
       "19:58:48.777 | \u001b[36mINFO\u001b[0m    | Flow run\u001b[35m 'certain-dinosaur'\u001b[0m - Created task run 'extract_laureate_-2' for task 'extract_laureate_'\n"
      ]
     },
     "metadata": {},
     "output_type": "display_data"
    },
    {
     "data": {
      "text/html": [
       "<pre style=\"white-space:pre;overflow-x:auto;line-height:normal;font-family:Menlo,'DejaVu Sans Mono',consolas,'Courier New',monospace\">19:58:48.784 | <span style=\"color: #008080; text-decoration-color: #008080\">INFO</span>    | Flow run<span style=\"color: #800080; text-decoration-color: #800080\"> 'certain-dinosaur'</span> - Submitted task run 'extract_laureate_-2' for execution.\n",
       "</pre>\n"
      ],
      "text/plain": [
       "19:58:48.784 | \u001b[36mINFO\u001b[0m    | Flow run\u001b[35m 'certain-dinosaur'\u001b[0m - Submitted task run 'extract_laureate_-2' for execution.\n"
      ]
     },
     "metadata": {},
     "output_type": "display_data"
    },
    {
     "name": "stdout",
     "output_type": "stream",
     "text": [
      "{\"category\": \"eco\", \"year\": 2021}\n"
     ]
    },
    {
     "data": {
      "text/html": [
       "<pre style=\"white-space:pre;overflow-x:auto;line-height:normal;font-family:Menlo,'DejaVu Sans Mono',consolas,'Courier New',monospace\">19:58:49.134 | <span style=\"color: #008080; text-decoration-color: #008080\">INFO</span>    | Flow run<span style=\"color: #800080; text-decoration-color: #800080\"> 'certain-dinosaur'</span> - Created task run 'extract_laureate_-1' for task 'extract_laureate_'\n",
       "</pre>\n"
      ],
      "text/plain": [
       "19:58:49.134 | \u001b[36mINFO\u001b[0m    | Flow run\u001b[35m 'certain-dinosaur'\u001b[0m - Created task run 'extract_laureate_-1' for task 'extract_laureate_'\n"
      ]
     },
     "metadata": {},
     "output_type": "display_data"
    },
    {
     "data": {
      "text/html": [
       "<pre style=\"white-space:pre;overflow-x:auto;line-height:normal;font-family:Menlo,'DejaVu Sans Mono',consolas,'Courier New',monospace\">19:58:49.144 | <span style=\"color: #008080; text-decoration-color: #008080\">INFO</span>    | Flow run<span style=\"color: #800080; text-decoration-color: #800080\"> 'certain-dinosaur'</span> - Submitted task run 'extract_laureate_-1' for execution.\n",
       "</pre>\n"
      ],
      "text/plain": [
       "19:58:49.144 | \u001b[36mINFO\u001b[0m    | Flow run\u001b[35m 'certain-dinosaur'\u001b[0m - Submitted task run 'extract_laureate_-1' for execution.\n"
      ]
     },
     "metadata": {},
     "output_type": "display_data"
    },
    {
     "name": "stdout",
     "output_type": "stream",
     "text": [
      "{\"category\": \"pea\", \"year\": 2021}\n"
     ]
    },
    {
     "data": {
      "text/html": [
       "<pre style=\"white-space:pre;overflow-x:auto;line-height:normal;font-family:Menlo,'DejaVu Sans Mono',consolas,'Courier New',monospace\">19:58:49.255 | <span style=\"color: #008080; text-decoration-color: #008080\">INFO</span>    | Flow run<span style=\"color: #800080; text-decoration-color: #800080\"> 'certain-dinosaur'</span> - Created task run 'extract_nobel_prizes_-4' for task 'extract_nobel_prizes_'\n",
       "</pre>\n"
      ],
      "text/plain": [
       "19:58:49.255 | \u001b[36mINFO\u001b[0m    | Flow run\u001b[35m 'certain-dinosaur'\u001b[0m - Created task run 'extract_nobel_prizes_-4' for task 'extract_nobel_prizes_'\n"
      ]
     },
     "metadata": {},
     "output_type": "display_data"
    },
    {
     "data": {
      "text/html": [
       "<pre style=\"white-space:pre;overflow-x:auto;line-height:normal;font-family:Menlo,'DejaVu Sans Mono',consolas,'Courier New',monospace\">19:58:49.267 | <span style=\"color: #008080; text-decoration-color: #008080\">INFO</span>    | Flow run<span style=\"color: #800080; text-decoration-color: #800080\"> 'certain-dinosaur'</span> - Submitted task run 'extract_nobel_prizes_-4' for execution.\n",
       "</pre>\n"
      ],
      "text/plain": [
       "19:58:49.267 | \u001b[36mINFO\u001b[0m    | Flow run\u001b[35m 'certain-dinosaur'\u001b[0m - Submitted task run 'extract_nobel_prizes_-4' for execution.\n"
      ]
     },
     "metadata": {},
     "output_type": "display_data"
    },
    {
     "data": {
      "text/html": [
       "<pre style=\"white-space:pre;overflow-x:auto;line-height:normal;font-family:Menlo,'DejaVu Sans Mono',consolas,'Courier New',monospace\">19:58:49.460 | <span style=\"color: #008080; text-decoration-color: #008080\">INFO</span>    | Task run 'extract_nobel_prizes_-5' - Finished in state <span style=\"color: #008000; text-decoration-color: #008000\">Completed</span>()\n",
       "</pre>\n"
      ],
      "text/plain": [
       "19:58:49.460 | \u001b[36mINFO\u001b[0m    | Task run 'extract_nobel_prizes_-5' - Finished in state \u001b[32mCompleted\u001b[0m()\n"
      ]
     },
     "metadata": {},
     "output_type": "display_data"
    },
    {
     "name": "stdout",
     "output_type": "stream",
     "text": [
      "{\"category\": \"che\", \"year\": 2021}\n",
      "{\"category\": \"phy\", \"year\": 2021}\n",
      "{\"laureateID\": \"997\"}\n"
     ]
    },
    {
     "data": {
      "text/html": [
       "<pre style=\"white-space:pre;overflow-x:auto;line-height:normal;font-family:Menlo,'DejaVu Sans Mono',consolas,'Courier New',monospace\">19:58:50.051 | <span style=\"color: #008080; text-decoration-color: #008080\">INFO</span>    | Flow run<span style=\"color: #800080; text-decoration-color: #800080\"> 'certain-dinosaur'</span> - Created task run 'extract_laureate_-4' for task 'extract_laureate_'\n",
       "</pre>\n"
      ],
      "text/plain": [
       "19:58:50.051 | \u001b[36mINFO\u001b[0m    | Flow run\u001b[35m 'certain-dinosaur'\u001b[0m - Created task run 'extract_laureate_-4' for task 'extract_laureate_'\n"
      ]
     },
     "metadata": {},
     "output_type": "display_data"
    },
    {
     "data": {
      "text/html": [
       "<pre style=\"white-space:pre;overflow-x:auto;line-height:normal;font-family:Menlo,'DejaVu Sans Mono',consolas,'Courier New',monospace\">19:58:50.060 | <span style=\"color: #008080; text-decoration-color: #008080\">INFO</span>    | Flow run<span style=\"color: #800080; text-decoration-color: #800080\"> 'certain-dinosaur'</span> - Submitted task run 'extract_laureate_-4' for execution.\n",
       "</pre>\n"
      ],
      "text/plain": [
       "19:58:50.060 | \u001b[36mINFO\u001b[0m    | Flow run\u001b[35m 'certain-dinosaur'\u001b[0m - Submitted task run 'extract_laureate_-4' for execution.\n"
      ]
     },
     "metadata": {},
     "output_type": "display_data"
    },
    {
     "data": {
      "text/html": [
       "<pre style=\"white-space:pre;overflow-x:auto;line-height:normal;font-family:Menlo,'DejaVu Sans Mono',consolas,'Courier New',monospace\">19:58:50.471 | <span style=\"color: #008080; text-decoration-color: #008080\">INFO</span>    | Task run 'extract_nobel_prizes_-0' - Finished in state <span style=\"color: #008000; text-decoration-color: #008000\">Completed</span>()\n",
       "</pre>\n"
      ],
      "text/plain": [
       "19:58:50.471 | \u001b[36mINFO\u001b[0m    | Task run 'extract_nobel_prizes_-0' - Finished in state \u001b[32mCompleted\u001b[0m()\n"
      ]
     },
     "metadata": {},
     "output_type": "display_data"
    },
    {
     "data": {
      "text/html": [
       "<pre style=\"white-space:pre;overflow-x:auto;line-height:normal;font-family:Menlo,'DejaVu Sans Mono',consolas,'Courier New',monospace\">19:58:50.583 | <span style=\"color: #008080; text-decoration-color: #008080\">INFO</span>    | Task run 'extract_nobel_prizes_-4' - Finished in state <span style=\"color: #008000; text-decoration-color: #008000\">Completed</span>()\n",
       "</pre>\n"
      ],
      "text/plain": [
       "19:58:50.583 | \u001b[36mINFO\u001b[0m    | Task run 'extract_nobel_prizes_-4' - Finished in state \u001b[32mCompleted\u001b[0m()\n"
      ]
     },
     "metadata": {},
     "output_type": "display_data"
    },
    {
     "name": "stdout",
     "output_type": "stream",
     "text": [
      "{\"laureateID\": \"998\"}\n",
      "{\"laureateID\": \"1002\"}\n"
     ]
    },
    {
     "data": {
      "text/html": [
       "<pre style=\"white-space:pre;overflow-x:auto;line-height:normal;font-family:Menlo,'DejaVu Sans Mono',consolas,'Courier New',monospace\">19:58:50.871 | <span style=\"color: #008080; text-decoration-color: #008080\">INFO</span>    | Flow run<span style=\"color: #800080; text-decoration-color: #800080\"> 'certain-dinosaur'</span> - Created task run 'etl_bronze_-0' for task 'etl_bronze_'\n",
       "</pre>\n"
      ],
      "text/plain": [
       "19:58:50.871 | \u001b[36mINFO\u001b[0m    | Flow run\u001b[35m 'certain-dinosaur'\u001b[0m - Created task run 'etl_bronze_-0' for task 'etl_bronze_'\n"
      ]
     },
     "metadata": {},
     "output_type": "display_data"
    },
    {
     "data": {
      "text/html": [
       "<pre style=\"white-space:pre;overflow-x:auto;line-height:normal;font-family:Menlo,'DejaVu Sans Mono',consolas,'Courier New',monospace\">19:58:50.878 | <span style=\"color: #008080; text-decoration-color: #008080\">INFO</span>    | Flow run<span style=\"color: #800080; text-decoration-color: #800080\"> 'certain-dinosaur'</span> - Executing 'etl_bronze_-0' immediately...\n",
       "</pre>\n"
      ],
      "text/plain": [
       "19:58:50.878 | \u001b[36mINFO\u001b[0m    | Flow run\u001b[35m 'certain-dinosaur'\u001b[0m - Executing 'etl_bronze_-0' immediately...\n"
      ]
     },
     "metadata": {},
     "output_type": "display_data"
    },
    {
     "name": "stdout",
     "output_type": "stream",
     "text": [
      "{\"laureateID\": \"999\"}\n"
     ]
    },
    {
     "data": {
      "text/html": [
       "<pre style=\"white-space:pre;overflow-x:auto;line-height:normal;font-family:Menlo,'DejaVu Sans Mono',consolas,'Courier New',monospace\">19:58:51.138 | <span style=\"color: #008080; text-decoration-color: #008080\">INFO</span>    | Task run 'extract_laureate_-5' - Finished in state <span style=\"color: #008000; text-decoration-color: #008000\">Completed</span>()\n",
       "</pre>\n"
      ],
      "text/plain": [
       "19:58:51.138 | \u001b[36mINFO\u001b[0m    | Task run 'extract_laureate_-5' - Finished in state \u001b[32mCompleted\u001b[0m()\n"
      ]
     },
     "metadata": {},
     "output_type": "display_data"
    },
    {
     "name": "stdout",
     "output_type": "stream",
     "text": [
      "{\"laureateID\": \"1000\"}\n"
     ]
    },
    {
     "data": {
      "text/html": [
       "<pre style=\"white-space:pre;overflow-x:auto;line-height:normal;font-family:Menlo,'DejaVu Sans Mono',consolas,'Courier New',monospace\">19:58:54.318 | <span style=\"color: #008080; text-decoration-color: #008080\">INFO</span>    | Task run 'extract_nobel_prizes_-2' - Finished in state <span style=\"color: #008000; text-decoration-color: #008000\">Completed</span>()\n",
       "</pre>\n"
      ],
      "text/plain": [
       "19:58:54.318 | \u001b[36mINFO\u001b[0m    | Task run 'extract_nobel_prizes_-2' - Finished in state \u001b[32mCompleted\u001b[0m()\n"
      ]
     },
     "metadata": {},
     "output_type": "display_data"
    },
    {
     "name": "stdout",
     "output_type": "stream",
     "text": [
      "{\"laureateID\": \"1004\"}\n"
     ]
    },
    {
     "data": {
      "text/html": [
       "<pre style=\"white-space:pre;overflow-x:auto;line-height:normal;font-family:Menlo,'DejaVu Sans Mono',consolas,'Courier New',monospace\">19:58:54.901 | <span style=\"color: #008080; text-decoration-color: #008080\">INFO</span>    | Task run 'extract_laureate_-2' - Finished in state <span style=\"color: #008000; text-decoration-color: #008000\">Completed</span>()\n",
       "</pre>\n"
      ],
      "text/plain": [
       "19:58:54.901 | \u001b[36mINFO\u001b[0m    | Task run 'extract_laureate_-2' - Finished in state \u001b[32mCompleted\u001b[0m()\n"
      ]
     },
     "metadata": {},
     "output_type": "display_data"
    },
    {
     "name": "stdout",
     "output_type": "stream",
     "text": [
      "{\"laureateID\": \"1001\"}\n"
     ]
    },
    {
     "data": {
      "text/html": [
       "<pre style=\"white-space:pre;overflow-x:auto;line-height:normal;font-family:Menlo,'DejaVu Sans Mono',consolas,'Courier New',monospace\">19:58:55.730 | <span style=\"color: #008080; text-decoration-color: #008080\">INFO</span>    | Task run 'extract_nobel_prizes_-3' - Finished in state <span style=\"color: #008000; text-decoration-color: #008000\">Completed</span>()\n",
       "</pre>\n"
      ],
      "text/plain": [
       "19:58:55.730 | \u001b[36mINFO\u001b[0m    | Task run 'extract_nobel_prizes_-3' - Finished in state \u001b[32mCompleted\u001b[0m()\n"
      ]
     },
     "metadata": {},
     "output_type": "display_data"
    },
    {
     "name": "stdout",
     "output_type": "stream",
     "text": [
      "{\"laureateID\": \"1003\"}\n"
     ]
    },
    {
     "data": {
      "text/html": [
       "<pre style=\"white-space:pre;overflow-x:auto;line-height:normal;font-family:Menlo,'DejaVu Sans Mono',consolas,'Courier New',monospace\">19:58:55.881 | <span style=\"color: #008080; text-decoration-color: #008080\">INFO</span>    | Task run 'extract_laureate_-4' - Finished in state <span style=\"color: #008000; text-decoration-color: #008000\">Completed</span>()\n",
       "</pre>\n"
      ],
      "text/plain": [
       "19:58:55.881 | \u001b[36mINFO\u001b[0m    | Task run 'extract_laureate_-4' - Finished in state \u001b[32mCompleted\u001b[0m()\n"
      ]
     },
     "metadata": {},
     "output_type": "display_data"
    },
    {
     "name": "stdout",
     "output_type": "stream",
     "text": [
      "{\"laureateID\": \"1005\"}\n"
     ]
    },
    {
     "data": {
      "text/html": [
       "<pre style=\"white-space:pre;overflow-x:auto;line-height:normal;font-family:Menlo,'DejaVu Sans Mono',consolas,'Courier New',monospace\">19:58:56.191 | <span style=\"color: #008080; text-decoration-color: #008080\">INFO</span>    | Task run 'extract_nobel_prizes_-1' - Finished in state <span style=\"color: #008000; text-decoration-color: #008000\">Completed</span>()\n",
       "</pre>\n"
      ],
      "text/plain": [
       "19:58:56.191 | \u001b[36mINFO\u001b[0m    | Task run 'extract_nobel_prizes_-1' - Finished in state \u001b[32mCompleted\u001b[0m()\n"
      ]
     },
     "metadata": {},
     "output_type": "display_data"
    },
    {
     "data": {
      "text/html": [
       "<pre style=\"white-space:pre;overflow-x:auto;line-height:normal;font-family:Menlo,'DejaVu Sans Mono',consolas,'Courier New',monospace\">19:58:56.315 | <span style=\"color: #008080; text-decoration-color: #008080\">INFO</span>    | Task run 'extract_laureate_-0' - Finished in state <span style=\"color: #008000; text-decoration-color: #008000\">Completed</span>()\n",
       "</pre>\n"
      ],
      "text/plain": [
       "19:58:56.315 | \u001b[36mINFO\u001b[0m    | Task run 'extract_laureate_-0' - Finished in state \u001b[32mCompleted\u001b[0m()\n"
      ]
     },
     "metadata": {},
     "output_type": "display_data"
    },
    {
     "name": "stdout",
     "output_type": "stream",
     "text": [
      "{\"laureateID\": \"1007\"}\n",
      "{\"laureateID\": \"1008\"}\n",
      "{\"laureateID\": \"1006\"}\n"
     ]
    },
    {
     "data": {
      "text/html": [
       "<pre style=\"white-space:pre;overflow-x:auto;line-height:normal;font-family:Menlo,'DejaVu Sans Mono',consolas,'Courier New',monospace\">19:58:59.330 | <span style=\"color: #008080; text-decoration-color: #008080\">INFO</span>    | Task run 'extract_laureate_-3' - Finished in state <span style=\"color: #008000; text-decoration-color: #008000\">Completed</span>()\n",
       "</pre>\n"
      ],
      "text/plain": [
       "19:58:59.330 | \u001b[36mINFO\u001b[0m    | Task run 'extract_laureate_-3' - Finished in state \u001b[32mCompleted\u001b[0m()\n"
      ]
     },
     "metadata": {},
     "output_type": "display_data"
    },
    {
     "name": "stdout",
     "output_type": "stream",
     "text": [
      "{\"laureateID\": \"1009\"}\n"
     ]
    },
    {
     "data": {
      "text/html": [
       "<pre style=\"white-space:pre;overflow-x:auto;line-height:normal;font-family:Menlo,'DejaVu Sans Mono',consolas,'Courier New',monospace\">19:59:01.544 | <span style=\"color: #008080; text-decoration-color: #008080\">INFO</span>    | Task run 'extract_laureate_-1' - Finished in state <span style=\"color: #008000; text-decoration-color: #008000\">Completed</span>()\n",
       "</pre>\n"
      ],
      "text/plain": [
       "19:59:01.544 | \u001b[36mINFO\u001b[0m    | Task run 'extract_laureate_-1' - Finished in state \u001b[32mCompleted\u001b[0m()\n"
      ]
     },
     "metadata": {},
     "output_type": "display_data"
    },
    {
     "name": "stdout",
     "output_type": "stream",
     "text": [
      "ETL bronze ejecutada con éxito\n"
     ]
    },
    {
     "data": {
      "text/html": [
       "<pre style=\"white-space:pre;overflow-x:auto;line-height:normal;font-family:Menlo,'DejaVu Sans Mono',consolas,'Courier New',monospace\">19:59:02.898 | <span style=\"color: #008080; text-decoration-color: #008080\">INFO</span>    | Task run 'etl_bronze_-0' - Finished in state <span style=\"color: #008000; text-decoration-color: #008000\">Completed</span>()\n",
       "</pre>\n"
      ],
      "text/plain": [
       "19:59:02.898 | \u001b[36mINFO\u001b[0m    | Task run 'etl_bronze_-0' - Finished in state \u001b[32mCompleted\u001b[0m()\n"
      ]
     },
     "metadata": {},
     "output_type": "display_data"
    },
    {
     "data": {
      "text/html": [
       "<pre style=\"white-space:pre;overflow-x:auto;line-height:normal;font-family:Menlo,'DejaVu Sans Mono',consolas,'Courier New',monospace\">19:59:03.051 | <span style=\"color: #008080; text-decoration-color: #008080\">INFO</span>    | Flow run<span style=\"color: #800080; text-decoration-color: #800080\"> 'certain-dinosaur'</span> - Finished in state <span style=\"color: #008000; text-decoration-color: #008000\">Completed</span>('All states completed.')\n",
       "</pre>\n"
      ],
      "text/plain": [
       "19:59:03.051 | \u001b[36mINFO\u001b[0m    | Flow run\u001b[35m 'certain-dinosaur'\u001b[0m - Finished in state \u001b[32mCompleted\u001b[0m('All states completed.')\n"
      ]
     },
     "metadata": {},
     "output_type": "display_data"
    },
    {
     "data": {
      "text/html": [
       "<pre style=\"white-space:pre;overflow-x:auto;line-height:normal;font-family:Menlo,'DejaVu Sans Mono',consolas,'Courier New',monospace\">19:59:03.686 | <span style=\"color: #008080; text-decoration-color: #008080\">INFO</span>    | prefect.engine - Created flow run<span style=\"color: #800080; text-decoration-color: #800080\"> 'prompt-toucan'</span> for flow<span style=\"color: #800080; text-decoration-color: #800080; font-weight: bold\"> 'nobel_prizes_etl'</span>\n",
       "</pre>\n"
      ],
      "text/plain": [
       "19:59:03.686 | \u001b[36mINFO\u001b[0m    | prefect.engine - Created flow run\u001b[35m 'prompt-toucan'\u001b[0m for flow\u001b[1;35m 'nobel_prizes_etl'\u001b[0m\n"
      ]
     },
     "metadata": {},
     "output_type": "display_data"
    },
    {
     "data": {
      "text/html": [
       "<pre style=\"white-space:pre;overflow-x:auto;line-height:normal;font-family:Menlo,'DejaVu Sans Mono',consolas,'Courier New',monospace\">19:59:04.362 | <span style=\"color: #008080; text-decoration-color: #008080\">INFO</span>    | Flow run<span style=\"color: #800080; text-decoration-color: #800080\"> 'prompt-toucan'</span> - Created task run 'extract_nobel_prizes_-2' for task 'extract_nobel_prizes_'\n",
       "</pre>\n"
      ],
      "text/plain": [
       "19:59:04.362 | \u001b[36mINFO\u001b[0m    | Flow run\u001b[35m 'prompt-toucan'\u001b[0m - Created task run 'extract_nobel_prizes_-2' for task 'extract_nobel_prizes_'\n"
      ]
     },
     "metadata": {},
     "output_type": "display_data"
    },
    {
     "data": {
      "text/html": [
       "<pre style=\"white-space:pre;overflow-x:auto;line-height:normal;font-family:Menlo,'DejaVu Sans Mono',consolas,'Courier New',monospace\">19:59:04.368 | <span style=\"color: #008080; text-decoration-color: #008080\">INFO</span>    | Flow run<span style=\"color: #800080; text-decoration-color: #800080\"> 'prompt-toucan'</span> - Submitted task run 'extract_nobel_prizes_-2' for execution.\n",
       "</pre>\n"
      ],
      "text/plain": [
       "19:59:04.368 | \u001b[36mINFO\u001b[0m    | Flow run\u001b[35m 'prompt-toucan'\u001b[0m - Submitted task run 'extract_nobel_prizes_-2' for execution.\n"
      ]
     },
     "metadata": {},
     "output_type": "display_data"
    },
    {
     "data": {
      "text/html": [
       "<pre style=\"white-space:pre;overflow-x:auto;line-height:normal;font-family:Menlo,'DejaVu Sans Mono',consolas,'Courier New',monospace\">19:59:04.452 | <span style=\"color: #008080; text-decoration-color: #008080\">INFO</span>    | Flow run<span style=\"color: #800080; text-decoration-color: #800080\"> 'prompt-toucan'</span> - Created task run 'extract_nobel_prizes_-3' for task 'extract_nobel_prizes_'\n",
       "</pre>\n"
      ],
      "text/plain": [
       "19:59:04.452 | \u001b[36mINFO\u001b[0m    | Flow run\u001b[35m 'prompt-toucan'\u001b[0m - Created task run 'extract_nobel_prizes_-3' for task 'extract_nobel_prizes_'\n"
      ]
     },
     "metadata": {},
     "output_type": "display_data"
    },
    {
     "data": {
      "text/html": [
       "<pre style=\"white-space:pre;overflow-x:auto;line-height:normal;font-family:Menlo,'DejaVu Sans Mono',consolas,'Courier New',monospace\">19:59:04.460 | <span style=\"color: #008080; text-decoration-color: #008080\">INFO</span>    | Flow run<span style=\"color: #800080; text-decoration-color: #800080\"> 'prompt-toucan'</span> - Submitted task run 'extract_nobel_prizes_-3' for execution.\n",
       "</pre>\n"
      ],
      "text/plain": [
       "19:59:04.460 | \u001b[36mINFO\u001b[0m    | Flow run\u001b[35m 'prompt-toucan'\u001b[0m - Submitted task run 'extract_nobel_prizes_-3' for execution.\n"
      ]
     },
     "metadata": {},
     "output_type": "display_data"
    },
    {
     "data": {
      "text/html": [
       "<pre style=\"white-space:pre;overflow-x:auto;line-height:normal;font-family:Menlo,'DejaVu Sans Mono',consolas,'Courier New',monospace\">19:59:04.595 | <span style=\"color: #008080; text-decoration-color: #008080\">INFO</span>    | Flow run<span style=\"color: #800080; text-decoration-color: #800080\"> 'prompt-toucan'</span> - Created task run 'extract_nobel_prizes_-1' for task 'extract_nobel_prizes_'\n",
       "</pre>\n"
      ],
      "text/plain": [
       "19:59:04.595 | \u001b[36mINFO\u001b[0m    | Flow run\u001b[35m 'prompt-toucan'\u001b[0m - Created task run 'extract_nobel_prizes_-1' for task 'extract_nobel_prizes_'\n"
      ]
     },
     "metadata": {},
     "output_type": "display_data"
    },
    {
     "data": {
      "text/html": [
       "<pre style=\"white-space:pre;overflow-x:auto;line-height:normal;font-family:Menlo,'DejaVu Sans Mono',consolas,'Courier New',monospace\">19:59:04.607 | <span style=\"color: #008080; text-decoration-color: #008080\">INFO</span>    | Flow run<span style=\"color: #800080; text-decoration-color: #800080\"> 'prompt-toucan'</span> - Submitted task run 'extract_nobel_prizes_-1' for execution.\n",
       "</pre>\n"
      ],
      "text/plain": [
       "19:59:04.607 | \u001b[36mINFO\u001b[0m    | Flow run\u001b[35m 'prompt-toucan'\u001b[0m - Submitted task run 'extract_nobel_prizes_-1' for execution.\n"
      ]
     },
     "metadata": {},
     "output_type": "display_data"
    },
    {
     "data": {
      "text/html": [
       "<pre style=\"white-space:pre;overflow-x:auto;line-height:normal;font-family:Menlo,'DejaVu Sans Mono',consolas,'Courier New',monospace\">19:59:04.746 | <span style=\"color: #008080; text-decoration-color: #008080\">INFO</span>    | Flow run<span style=\"color: #800080; text-decoration-color: #800080\"> 'prompt-toucan'</span> - Created task run 'extract_nobel_prizes_-4' for task 'extract_nobel_prizes_'\n",
       "</pre>\n"
      ],
      "text/plain": [
       "19:59:04.746 | \u001b[36mINFO\u001b[0m    | Flow run\u001b[35m 'prompt-toucan'\u001b[0m - Created task run 'extract_nobel_prizes_-4' for task 'extract_nobel_prizes_'\n"
      ]
     },
     "metadata": {},
     "output_type": "display_data"
    },
    {
     "data": {
      "text/html": [
       "<pre style=\"white-space:pre;overflow-x:auto;line-height:normal;font-family:Menlo,'DejaVu Sans Mono',consolas,'Courier New',monospace\">19:59:04.751 | <span style=\"color: #008080; text-decoration-color: #008080\">INFO</span>    | Flow run<span style=\"color: #800080; text-decoration-color: #800080\"> 'prompt-toucan'</span> - Submitted task run 'extract_nobel_prizes_-4' for execution.\n",
       "</pre>\n"
      ],
      "text/plain": [
       "19:59:04.751 | \u001b[36mINFO\u001b[0m    | Flow run\u001b[35m 'prompt-toucan'\u001b[0m - Submitted task run 'extract_nobel_prizes_-4' for execution.\n"
      ]
     },
     "metadata": {},
     "output_type": "display_data"
    },
    {
     "data": {
      "text/html": [
       "<pre style=\"white-space:pre;overflow-x:auto;line-height:normal;font-family:Menlo,'DejaVu Sans Mono',consolas,'Courier New',monospace\">19:59:04.908 | <span style=\"color: #008080; text-decoration-color: #008080\">INFO</span>    | Flow run<span style=\"color: #800080; text-decoration-color: #800080\"> 'prompt-toucan'</span> - Created task run 'extract_laureate_-2' for task 'extract_laureate_'\n",
       "</pre>\n"
      ],
      "text/plain": [
       "19:59:04.908 | \u001b[36mINFO\u001b[0m    | Flow run\u001b[35m 'prompt-toucan'\u001b[0m - Created task run 'extract_laureate_-2' for task 'extract_laureate_'\n"
      ]
     },
     "metadata": {},
     "output_type": "display_data"
    },
    {
     "data": {
      "text/html": [
       "<pre style=\"white-space:pre;overflow-x:auto;line-height:normal;font-family:Menlo,'DejaVu Sans Mono',consolas,'Courier New',monospace\">19:59:04.914 | <span style=\"color: #008080; text-decoration-color: #008080\">INFO</span>    | Flow run<span style=\"color: #800080; text-decoration-color: #800080\"> 'prompt-toucan'</span> - Submitted task run 'extract_laureate_-2' for execution.\n",
       "</pre>\n"
      ],
      "text/plain": [
       "19:59:04.914 | \u001b[36mINFO\u001b[0m    | Flow run\u001b[35m 'prompt-toucan'\u001b[0m - Submitted task run 'extract_laureate_-2' for execution.\n"
      ]
     },
     "metadata": {},
     "output_type": "display_data"
    },
    {
     "data": {
      "text/html": [
       "<pre style=\"white-space:pre;overflow-x:auto;line-height:normal;font-family:Menlo,'DejaVu Sans Mono',consolas,'Courier New',monospace\">19:59:05.041 | <span style=\"color: #008080; text-decoration-color: #008080\">INFO</span>    | Flow run<span style=\"color: #800080; text-decoration-color: #800080\"> 'prompt-toucan'</span> - Created task run 'extract_laureate_-1' for task 'extract_laureate_'\n",
       "</pre>\n"
      ],
      "text/plain": [
       "19:59:05.041 | \u001b[36mINFO\u001b[0m    | Flow run\u001b[35m 'prompt-toucan'\u001b[0m - Created task run 'extract_laureate_-1' for task 'extract_laureate_'\n"
      ]
     },
     "metadata": {},
     "output_type": "display_data"
    },
    {
     "data": {
      "text/html": [
       "<pre style=\"white-space:pre;overflow-x:auto;line-height:normal;font-family:Menlo,'DejaVu Sans Mono',consolas,'Courier New',monospace\">19:59:05.047 | <span style=\"color: #008080; text-decoration-color: #008080\">INFO</span>    | Flow run<span style=\"color: #800080; text-decoration-color: #800080\"> 'prompt-toucan'</span> - Submitted task run 'extract_laureate_-1' for execution.\n",
       "</pre>\n"
      ],
      "text/plain": [
       "19:59:05.047 | \u001b[36mINFO\u001b[0m    | Flow run\u001b[35m 'prompt-toucan'\u001b[0m - Submitted task run 'extract_laureate_-1' for execution.\n"
      ]
     },
     "metadata": {},
     "output_type": "display_data"
    },
    {
     "name": "stdout",
     "output_type": "stream",
     "text": [
      "{\"category\": \"eco\", \"year\": 2022}\n"
     ]
    },
    {
     "data": {
      "text/html": [
       "<pre style=\"white-space:pre;overflow-x:auto;line-height:normal;font-family:Menlo,'DejaVu Sans Mono',consolas,'Courier New',monospace\">19:59:05.397 | <span style=\"color: #008080; text-decoration-color: #008080\">INFO</span>    | Flow run<span style=\"color: #800080; text-decoration-color: #800080\"> 'prompt-toucan'</span> - Created task run 'extract_laureate_-3' for task 'extract_laureate_'\n",
       "</pre>\n"
      ],
      "text/plain": [
       "19:59:05.397 | \u001b[36mINFO\u001b[0m    | Flow run\u001b[35m 'prompt-toucan'\u001b[0m - Created task run 'extract_laureate_-3' for task 'extract_laureate_'\n"
      ]
     },
     "metadata": {},
     "output_type": "display_data"
    },
    {
     "data": {
      "text/html": [
       "<pre style=\"white-space:pre;overflow-x:auto;line-height:normal;font-family:Menlo,'DejaVu Sans Mono',consolas,'Courier New',monospace\">19:59:05.406 | <span style=\"color: #008080; text-decoration-color: #008080\">INFO</span>    | Flow run<span style=\"color: #800080; text-decoration-color: #800080\"> 'prompt-toucan'</span> - Submitted task run 'extract_laureate_-3' for execution.\n",
       "</pre>\n"
      ],
      "text/plain": [
       "19:59:05.406 | \u001b[36mINFO\u001b[0m    | Flow run\u001b[35m 'prompt-toucan'\u001b[0m - Submitted task run 'extract_laureate_-3' for execution.\n"
      ]
     },
     "metadata": {},
     "output_type": "display_data"
    },
    {
     "name": "stdout",
     "output_type": "stream",
     "text": [
      "{\"category\": \"pea\", \"year\": 2022}\n"
     ]
    },
    {
     "data": {
      "text/html": [
       "<pre style=\"white-space:pre;overflow-x:auto;line-height:normal;font-family:Menlo,'DejaVu Sans Mono',consolas,'Courier New',monospace\">19:59:05.735 | <span style=\"color: #008080; text-decoration-color: #008080\">INFO</span>    | Flow run<span style=\"color: #800080; text-decoration-color: #800080\"> 'prompt-toucan'</span> - Created task run 'extract_nobel_prizes_-0' for task 'extract_nobel_prizes_'\n",
       "</pre>\n"
      ],
      "text/plain": [
       "19:59:05.735 | \u001b[36mINFO\u001b[0m    | Flow run\u001b[35m 'prompt-toucan'\u001b[0m - Created task run 'extract_nobel_prizes_-0' for task 'extract_nobel_prizes_'\n"
      ]
     },
     "metadata": {},
     "output_type": "display_data"
    },
    {
     "data": {
      "text/html": [
       "<pre style=\"white-space:pre;overflow-x:auto;line-height:normal;font-family:Menlo,'DejaVu Sans Mono',consolas,'Courier New',monospace\">19:59:05.749 | <span style=\"color: #008080; text-decoration-color: #008080\">INFO</span>    | Flow run<span style=\"color: #800080; text-decoration-color: #800080\"> 'prompt-toucan'</span> - Submitted task run 'extract_nobel_prizes_-0' for execution.\n",
       "</pre>\n"
      ],
      "text/plain": [
       "19:59:05.749 | \u001b[36mINFO\u001b[0m    | Flow run\u001b[35m 'prompt-toucan'\u001b[0m - Submitted task run 'extract_nobel_prizes_-0' for execution.\n"
      ]
     },
     "metadata": {},
     "output_type": "display_data"
    },
    {
     "name": "stdout",
     "output_type": "stream",
     "text": [
      "{\"category\": \"phy\", \"year\": 2022}\n"
     ]
    },
    {
     "data": {
      "text/html": [
       "<pre style=\"white-space:pre;overflow-x:auto;line-height:normal;font-family:Menlo,'DejaVu Sans Mono',consolas,'Courier New',monospace\">19:59:06.023 | <span style=\"color: #008080; text-decoration-color: #008080\">INFO</span>    | Task run 'extract_nobel_prizes_-1' - Finished in state <span style=\"color: #008000; text-decoration-color: #008000\">Completed</span>()\n",
       "</pre>\n"
      ],
      "text/plain": [
       "19:59:06.023 | \u001b[36mINFO\u001b[0m    | Task run 'extract_nobel_prizes_-1' - Finished in state \u001b[32mCompleted\u001b[0m()\n"
      ]
     },
     "metadata": {},
     "output_type": "display_data"
    },
    {
     "name": "stdout",
     "output_type": "stream",
     "text": [
      "{\"category\": \"lit\", \"year\": 2022}\n",
      "{\"laureateID\": \"1021\"}\n"
     ]
    },
    {
     "data": {
      "text/html": [
       "<pre style=\"white-space:pre;overflow-x:auto;line-height:normal;font-family:Menlo,'DejaVu Sans Mono',consolas,'Courier New',monospace\">19:59:06.446 | <span style=\"color: #008080; text-decoration-color: #008080\">INFO</span>    | Task run 'extract_nobel_prizes_-4' - Finished in state <span style=\"color: #008000; text-decoration-color: #008000\">Completed</span>()\n",
       "</pre>\n"
      ],
      "text/plain": [
       "19:59:06.446 | \u001b[36mINFO\u001b[0m    | Task run 'extract_nobel_prizes_-4' - Finished in state \u001b[32mCompleted\u001b[0m()\n"
      ]
     },
     "metadata": {},
     "output_type": "display_data"
    },
    {
     "data": {
      "text/html": [
       "<pre style=\"white-space:pre;overflow-x:auto;line-height:normal;font-family:Menlo,'DejaVu Sans Mono',consolas,'Courier New',monospace\">19:59:06.519 | <span style=\"color: #008080; text-decoration-color: #008080\">INFO</span>    | Flow run<span style=\"color: #800080; text-decoration-color: #800080\"> 'prompt-toucan'</span> - Created task run 'extract_laureate_-4' for task 'extract_laureate_'\n",
       "</pre>\n"
      ],
      "text/plain": [
       "19:59:06.519 | \u001b[36mINFO\u001b[0m    | Flow run\u001b[35m 'prompt-toucan'\u001b[0m - Created task run 'extract_laureate_-4' for task 'extract_laureate_'\n"
      ]
     },
     "metadata": {},
     "output_type": "display_data"
    },
    {
     "data": {
      "text/html": [
       "<pre style=\"white-space:pre;overflow-x:auto;line-height:normal;font-family:Menlo,'DejaVu Sans Mono',consolas,'Courier New',monospace\">19:59:06.527 | <span style=\"color: #008080; text-decoration-color: #008080\">INFO</span>    | Flow run<span style=\"color: #800080; text-decoration-color: #800080\"> 'prompt-toucan'</span> - Submitted task run 'extract_laureate_-4' for execution.\n",
       "</pre>\n"
      ],
      "text/plain": [
       "19:59:06.527 | \u001b[36mINFO\u001b[0m    | Flow run\u001b[35m 'prompt-toucan'\u001b[0m - Submitted task run 'extract_laureate_-4' for execution.\n"
      ]
     },
     "metadata": {},
     "output_type": "display_data"
    },
    {
     "name": "stdout",
     "output_type": "stream",
     "text": [
      "{\"laureateID\": \"1022\"}\n",
      "{\"category\": \"che\", \"year\": 2022}\n"
     ]
    },
    {
     "data": {
      "text/html": [
       "<pre style=\"white-space:pre;overflow-x:auto;line-height:normal;font-family:Menlo,'DejaVu Sans Mono',consolas,'Courier New',monospace\">19:59:06.835 | <span style=\"color: #008080; text-decoration-color: #008080\">INFO</span>    | Task run 'extract_nobel_prizes_-2' - Finished in state <span style=\"color: #008000; text-decoration-color: #008000\">Completed</span>()\n",
       "</pre>\n"
      ],
      "text/plain": [
       "19:59:06.835 | \u001b[36mINFO\u001b[0m    | Task run 'extract_nobel_prizes_-2' - Finished in state \u001b[32mCompleted\u001b[0m()\n"
      ]
     },
     "metadata": {},
     "output_type": "display_data"
    },
    {
     "data": {
      "text/html": [
       "<pre style=\"white-space:pre;overflow-x:auto;line-height:normal;font-family:Menlo,'DejaVu Sans Mono',consolas,'Courier New',monospace\">19:59:06.913 | <span style=\"color: #008080; text-decoration-color: #008080\">INFO</span>    | Flow run<span style=\"color: #800080; text-decoration-color: #800080\"> 'prompt-toucan'</span> - Created task run 'extract_nobel_prizes_-5' for task 'extract_nobel_prizes_'\n",
       "</pre>\n"
      ],
      "text/plain": [
       "19:59:06.913 | \u001b[36mINFO\u001b[0m    | Flow run\u001b[35m 'prompt-toucan'\u001b[0m - Created task run 'extract_nobel_prizes_-5' for task 'extract_nobel_prizes_'\n"
      ]
     },
     "metadata": {},
     "output_type": "display_data"
    },
    {
     "data": {
      "text/html": [
       "<pre style=\"white-space:pre;overflow-x:auto;line-height:normal;font-family:Menlo,'DejaVu Sans Mono',consolas,'Courier New',monospace\">19:59:06.918 | <span style=\"color: #008080; text-decoration-color: #008080\">INFO</span>    | Flow run<span style=\"color: #800080; text-decoration-color: #800080\"> 'prompt-toucan'</span> - Submitted task run 'extract_nobel_prizes_-5' for execution.\n",
       "</pre>\n"
      ],
      "text/plain": [
       "19:59:06.918 | \u001b[36mINFO\u001b[0m    | Flow run\u001b[35m 'prompt-toucan'\u001b[0m - Submitted task run 'extract_nobel_prizes_-5' for execution.\n"
      ]
     },
     "metadata": {},
     "output_type": "display_data"
    },
    {
     "name": "stdout",
     "output_type": "stream",
     "text": [
      "{\"laureateID\": \"1023\"}\n"
     ]
    },
    {
     "data": {
      "text/html": [
       "<pre style=\"white-space:pre;overflow-x:auto;line-height:normal;font-family:Menlo,'DejaVu Sans Mono',consolas,'Courier New',monospace\">19:59:07.203 | <span style=\"color: #008080; text-decoration-color: #008080\">INFO</span>    | Flow run<span style=\"color: #800080; text-decoration-color: #800080\"> 'prompt-toucan'</span> - Created task run 'extract_laureate_-5' for task 'extract_laureate_'\n",
       "</pre>\n"
      ],
      "text/plain": [
       "19:59:07.203 | \u001b[36mINFO\u001b[0m    | Flow run\u001b[35m 'prompt-toucan'\u001b[0m - Created task run 'extract_laureate_-5' for task 'extract_laureate_'\n"
      ]
     },
     "metadata": {},
     "output_type": "display_data"
    },
    {
     "data": {
      "text/html": [
       "<pre style=\"white-space:pre;overflow-x:auto;line-height:normal;font-family:Menlo,'DejaVu Sans Mono',consolas,'Courier New',monospace\">19:59:07.212 | <span style=\"color: #008080; text-decoration-color: #008080\">INFO</span>    | Flow run<span style=\"color: #800080; text-decoration-color: #800080\"> 'prompt-toucan'</span> - Submitted task run 'extract_laureate_-5' for execution.\n",
       "</pre>\n"
      ],
      "text/plain": [
       "19:59:07.212 | \u001b[36mINFO\u001b[0m    | Flow run\u001b[35m 'prompt-toucan'\u001b[0m - Submitted task run 'extract_laureate_-5' for execution.\n"
      ]
     },
     "metadata": {},
     "output_type": "display_data"
    },
    {
     "name": "stdout",
     "output_type": "stream",
     "text": [
      "{\"laureateID\": \"1012\"}\n"
     ]
    },
    {
     "data": {
      "text/html": [
       "<pre style=\"white-space:pre;overflow-x:auto;line-height:normal;font-family:Menlo,'DejaVu Sans Mono',consolas,'Courier New',monospace\">19:59:07.536 | <span style=\"color: #008080; text-decoration-color: #008080\">INFO</span>    | Task run 'extract_laureate_-1' - Finished in state <span style=\"color: #008000; text-decoration-color: #008000\">Completed</span>()\n",
       "</pre>\n"
      ],
      "text/plain": [
       "19:59:07.536 | \u001b[36mINFO\u001b[0m    | Task run 'extract_laureate_-1' - Finished in state \u001b[32mCompleted\u001b[0m()\n"
      ]
     },
     "metadata": {},
     "output_type": "display_data"
    },
    {
     "name": "stdout",
     "output_type": "stream",
     "text": [
      "{\"category\": \"med\", \"year\": 2022}\n",
      "{\"laureateID\": \"1013\"}\n"
     ]
    },
    {
     "data": {
      "text/html": [
       "<pre style=\"white-space:pre;overflow-x:auto;line-height:normal;font-family:Menlo,'DejaVu Sans Mono',consolas,'Courier New',monospace\">19:59:07.669 | <span style=\"color: #008080; text-decoration-color: #008080\">INFO</span>    | Task run 'extract_nobel_prizes_-0' - Finished in state <span style=\"color: #008000; text-decoration-color: #008000\">Completed</span>()\n",
       "</pre>\n"
      ],
      "text/plain": [
       "19:59:07.669 | \u001b[36mINFO\u001b[0m    | Task run 'extract_nobel_prizes_-0' - Finished in state \u001b[32mCompleted\u001b[0m()\n"
      ]
     },
     "metadata": {},
     "output_type": "display_data"
    },
    {
     "data": {
      "text/html": [
       "<pre style=\"white-space:pre;overflow-x:auto;line-height:normal;font-family:Menlo,'DejaVu Sans Mono',consolas,'Courier New',monospace\">19:59:07.749 | <span style=\"color: #008080; text-decoration-color: #008080\">INFO</span>    | Flow run<span style=\"color: #800080; text-decoration-color: #800080\"> 'prompt-toucan'</span> - Created task run 'extract_laureate_-0' for task 'extract_laureate_'\n",
       "</pre>\n"
      ],
      "text/plain": [
       "19:59:07.749 | \u001b[36mINFO\u001b[0m    | Flow run\u001b[35m 'prompt-toucan'\u001b[0m - Created task run 'extract_laureate_-0' for task 'extract_laureate_'\n"
      ]
     },
     "metadata": {},
     "output_type": "display_data"
    },
    {
     "data": {
      "text/html": [
       "<pre style=\"white-space:pre;overflow-x:auto;line-height:normal;font-family:Menlo,'DejaVu Sans Mono',consolas,'Courier New',monospace\">19:59:07.757 | <span style=\"color: #008080; text-decoration-color: #008080\">INFO</span>    | Flow run<span style=\"color: #800080; text-decoration-color: #800080\"> 'prompt-toucan'</span> - Submitted task run 'extract_laureate_-0' for execution.\n",
       "</pre>\n"
      ],
      "text/plain": [
       "19:59:07.757 | \u001b[36mINFO\u001b[0m    | Flow run\u001b[35m 'prompt-toucan'\u001b[0m - Submitted task run 'extract_laureate_-0' for execution.\n"
      ]
     },
     "metadata": {},
     "output_type": "display_data"
    },
    {
     "name": "stdout",
     "output_type": "stream",
     "text": [
      "{\"laureateID\": \"1014\"}\n"
     ]
    },
    {
     "data": {
      "text/html": [
       "<pre style=\"white-space:pre;overflow-x:auto;line-height:normal;font-family:Menlo,'DejaVu Sans Mono',consolas,'Courier New',monospace\">19:59:07.994 | <span style=\"color: #008080; text-decoration-color: #008080\">INFO</span>    | Task run 'extract_nobel_prizes_-3' - Finished in state <span style=\"color: #008000; text-decoration-color: #008000\">Completed</span>()\n",
       "</pre>\n"
      ],
      "text/plain": [
       "19:59:07.994 | \u001b[36mINFO\u001b[0m    | Task run 'extract_nobel_prizes_-3' - Finished in state \u001b[32mCompleted\u001b[0m()\n"
      ]
     },
     "metadata": {},
     "output_type": "display_data"
    },
    {
     "data": {
      "text/html": [
       "<pre style=\"white-space:pre;overflow-x:auto;line-height:normal;font-family:Menlo,'DejaVu Sans Mono',consolas,'Courier New',monospace\">19:59:08.116 | <span style=\"color: #008080; text-decoration-color: #008080\">INFO</span>    | Task run 'extract_nobel_prizes_-5' - Finished in state <span style=\"color: #008000; text-decoration-color: #008000\">Completed</span>()\n",
       "</pre>\n"
      ],
      "text/plain": [
       "19:59:08.116 | \u001b[36mINFO\u001b[0m    | Task run 'extract_nobel_prizes_-5' - Finished in state \u001b[32mCompleted\u001b[0m()\n"
      ]
     },
     "metadata": {},
     "output_type": "display_data"
    },
    {
     "name": "stdout",
     "output_type": "stream",
     "text": [
      "{\"laureateID\": \"1015\"}\n",
      "{\"laureateID\": \"1011\"}\n",
      "{\"laureateID\": \"1017\"}\n",
      "{\"laureateID\": \"1016\"}\n"
     ]
    },
    {
     "data": {
      "text/html": [
       "<pre style=\"white-space:pre;overflow-x:auto;line-height:normal;font-family:Menlo,'DejaVu Sans Mono',consolas,'Courier New',monospace\">19:59:08.652 | <span style=\"color: #008080; text-decoration-color: #008080\">INFO</span>    | Task run 'extract_laureate_-4' - Finished in state <span style=\"color: #008000; text-decoration-color: #008000\">Completed</span>()\n",
       "</pre>\n"
      ],
      "text/plain": [
       "19:59:08.652 | \u001b[36mINFO\u001b[0m    | Task run 'extract_laureate_-4' - Finished in state \u001b[32mCompleted\u001b[0m()\n"
      ]
     },
     "metadata": {},
     "output_type": "display_data"
    },
    {
     "data": {
      "text/html": [
       "<pre style=\"white-space:pre;overflow-x:auto;line-height:normal;font-family:Menlo,'DejaVu Sans Mono',consolas,'Courier New',monospace\">19:59:08.817 | <span style=\"color: #008080; text-decoration-color: #008080\">INFO</span>    | Flow run<span style=\"color: #800080; text-decoration-color: #800080\"> 'prompt-toucan'</span> - Created task run 'etl_bronze_-0' for task 'etl_bronze_'\n",
       "</pre>\n"
      ],
      "text/plain": [
       "19:59:08.817 | \u001b[36mINFO\u001b[0m    | Flow run\u001b[35m 'prompt-toucan'\u001b[0m - Created task run 'etl_bronze_-0' for task 'etl_bronze_'\n"
      ]
     },
     "metadata": {},
     "output_type": "display_data"
    },
    {
     "data": {
      "text/html": [
       "<pre style=\"white-space:pre;overflow-x:auto;line-height:normal;font-family:Menlo,'DejaVu Sans Mono',consolas,'Courier New',monospace\">19:59:08.824 | <span style=\"color: #008080; text-decoration-color: #008080\">INFO</span>    | Flow run<span style=\"color: #800080; text-decoration-color: #800080\"> 'prompt-toucan'</span> - Executing 'etl_bronze_-0' immediately...\n",
       "</pre>\n"
      ],
      "text/plain": [
       "19:59:08.824 | \u001b[36mINFO\u001b[0m    | Flow run\u001b[35m 'prompt-toucan'\u001b[0m - Executing 'etl_bronze_-0' immediately...\n"
      ]
     },
     "metadata": {},
     "output_type": "display_data"
    },
    {
     "name": "stdout",
     "output_type": "stream",
     "text": [
      "{\"laureateID\": \"743\"}\n",
      "{\"laureateID\": \"1018\"}\n"
     ]
    },
    {
     "data": {
      "text/html": [
       "<pre style=\"white-space:pre;overflow-x:auto;line-height:normal;font-family:Menlo,'DejaVu Sans Mono',consolas,'Courier New',monospace\">19:59:09.001 | <span style=\"color: #008080; text-decoration-color: #008080\">INFO</span>    | Task run 'extract_laureate_-5' - Finished in state <span style=\"color: #008000; text-decoration-color: #008000\">Completed</span>()\n",
       "</pre>\n"
      ],
      "text/plain": [
       "19:59:09.001 | \u001b[36mINFO\u001b[0m    | Task run 'extract_laureate_-5' - Finished in state \u001b[32mCompleted\u001b[0m()\n"
      ]
     },
     "metadata": {},
     "output_type": "display_data"
    },
    {
     "data": {
      "text/html": [
       "<pre style=\"white-space:pre;overflow-x:auto;line-height:normal;font-family:Menlo,'DejaVu Sans Mono',consolas,'Courier New',monospace\">19:59:09.152 | <span style=\"color: #008080; text-decoration-color: #008080\">INFO</span>    | Task run 'extract_laureate_-2' - Finished in state <span style=\"color: #008000; text-decoration-color: #008000\">Completed</span>()\n",
       "</pre>\n"
      ],
      "text/plain": [
       "19:59:09.152 | \u001b[36mINFO\u001b[0m    | Task run 'extract_laureate_-2' - Finished in state \u001b[32mCompleted\u001b[0m()\n"
      ]
     },
     "metadata": {},
     "output_type": "display_data"
    },
    {
     "name": "stdout",
     "output_type": "stream",
     "text": [
      "{\"laureateID\": \"1019\"}\n"
     ]
    },
    {
     "data": {
      "text/html": [
       "<pre style=\"white-space:pre;overflow-x:auto;line-height:normal;font-family:Menlo,'DejaVu Sans Mono',consolas,'Courier New',monospace\">19:59:09.318 | <span style=\"color: #008080; text-decoration-color: #008080\">INFO</span>    | Task run 'extract_laureate_-0' - Finished in state <span style=\"color: #008000; text-decoration-color: #008000\">Completed</span>()\n",
       "</pre>\n"
      ],
      "text/plain": [
       "19:59:09.318 | \u001b[36mINFO\u001b[0m    | Task run 'extract_laureate_-0' - Finished in state \u001b[32mCompleted\u001b[0m()\n"
      ]
     },
     "metadata": {},
     "output_type": "display_data"
    },
    {
     "name": "stdout",
     "output_type": "stream",
     "text": [
      "{\"laureateID\": \"1020\"}\n"
     ]
    },
    {
     "data": {
      "text/html": [
       "<pre style=\"white-space:pre;overflow-x:auto;line-height:normal;font-family:Menlo,'DejaVu Sans Mono',consolas,'Courier New',monospace\">19:59:09.845 | <span style=\"color: #008080; text-decoration-color: #008080\">INFO</span>    | Task run 'extract_laureate_-3' - Finished in state <span style=\"color: #008000; text-decoration-color: #008000\">Completed</span>()\n",
       "</pre>\n"
      ],
      "text/plain": [
       "19:59:09.845 | \u001b[36mINFO\u001b[0m    | Task run 'extract_laureate_-3' - Finished in state \u001b[32mCompleted\u001b[0m()\n"
      ]
     },
     "metadata": {},
     "output_type": "display_data"
    },
    {
     "name": "stdout",
     "output_type": "stream",
     "text": [
      "ETL bronze ejecutada con éxito\n"
     ]
    },
    {
     "data": {
      "text/html": [
       "<pre style=\"white-space:pre;overflow-x:auto;line-height:normal;font-family:Menlo,'DejaVu Sans Mono',consolas,'Courier New',monospace\">19:59:11.302 | <span style=\"color: #008080; text-decoration-color: #008080\">INFO</span>    | Task run 'etl_bronze_-0' - Finished in state <span style=\"color: #008000; text-decoration-color: #008000\">Completed</span>()\n",
       "</pre>\n"
      ],
      "text/plain": [
       "19:59:11.302 | \u001b[36mINFO\u001b[0m    | Task run 'etl_bronze_-0' - Finished in state \u001b[32mCompleted\u001b[0m()\n"
      ]
     },
     "metadata": {},
     "output_type": "display_data"
    },
    {
     "data": {
      "text/html": [
       "<pre style=\"white-space:pre;overflow-x:auto;line-height:normal;font-family:Menlo,'DejaVu Sans Mono',consolas,'Courier New',monospace\">19:59:11.478 | <span style=\"color: #008080; text-decoration-color: #008080\">INFO</span>    | Flow run<span style=\"color: #800080; text-decoration-color: #800080\"> 'prompt-toucan'</span> - Finished in state <span style=\"color: #008000; text-decoration-color: #008000\">Completed</span>('All states completed.')\n",
       "</pre>\n"
      ],
      "text/plain": [
       "19:59:11.478 | \u001b[36mINFO\u001b[0m    | Flow run\u001b[35m 'prompt-toucan'\u001b[0m - Finished in state \u001b[32mCompleted\u001b[0m('All states completed.')\n"
      ]
     },
     "metadata": {},
     "output_type": "display_data"
    },
    {
     "data": {
      "text/plain": [
       "[Completed(message=None, type=COMPLETED, result=UnpersistedResult(type='unpersisted', artifact_type='result', artifact_description='Unpersisted result of type `list`')),\n",
       " Completed(message=None, type=COMPLETED, result=UnpersistedResult(type='unpersisted', artifact_type='result', artifact_description='Unpersisted result of type `list`')),\n",
       " Completed(message=None, type=COMPLETED, result=UnpersistedResult(type='unpersisted', artifact_type='result', artifact_description='Unpersisted result of type `list`')),\n",
       " Completed(message=None, type=COMPLETED, result=UnpersistedResult(type='unpersisted', artifact_type='result', artifact_description='Unpersisted result of type `list`')),\n",
       " Completed(message=None, type=COMPLETED, result=UnpersistedResult(type='unpersisted', artifact_type='result', artifact_description='Unpersisted result of type `list`')),\n",
       " Completed(message=None, type=COMPLETED, result=UnpersistedResult(type='unpersisted', artifact_type='result', artifact_description='Unpersisted result of type `list`')),\n",
       " Completed(message=None, type=COMPLETED, result=UnpersistedResult(type='unpersisted', artifact_type='result', artifact_description='Unpersisted result of type `NoneType`')),\n",
       " Completed(message=None, type=COMPLETED, result=UnpersistedResult(type='unpersisted', artifact_type='result', artifact_description='Unpersisted result of type `NoneType`')),\n",
       " Completed(message=None, type=COMPLETED, result=UnpersistedResult(type='unpersisted', artifact_type='result', artifact_description='Unpersisted result of type `NoneType`')),\n",
       " Completed(message=None, type=COMPLETED, result=UnpersistedResult(type='unpersisted', artifact_type='result', artifact_description='Unpersisted result of type `NoneType`')),\n",
       " Completed(message=None, type=COMPLETED, result=UnpersistedResult(type='unpersisted', artifact_type='result', artifact_description='Unpersisted result of type `NoneType`')),\n",
       " Completed(message=None, type=COMPLETED, result=UnpersistedResult(type='unpersisted', artifact_type='result', artifact_description='Unpersisted result of type `NoneType`')),\n",
       " Completed(message=None, type=COMPLETED, result=UnpersistedResult(type='unpersisted', artifact_type='result', artifact_description='Unpersisted result of type `NoneType`'))]"
      ]
     },
     "execution_count": 2,
     "metadata": {},
     "output_type": "execute_result"
    }
   ],
   "source": [
    "# completar\n",
    "import os\n",
    "os.environ[\"PREFECT__RUNTIME__FLOW_RUN__SCHEDULED_START_TIME\"] = \"2021-01-01 00:00:00\"\n",
    "\n",
    "nobel_prizes_etl()\n",
    "\n",
    "os.environ[\"PREFECT__RUNTIME__FLOW_RUN__SCHEDULED_START_TIME\"] = \"2022-01-01 00:00:00\"\n",
    "\n",
    "nobel_prizes_etl()\n",
    "\n",
    "os.environ[\"PREFECT__RUNTIME__FLOW_RUN__SCHEDULED_START_TIME\"] = \"2023-01-01 00:00:00\"\n",
    "\n",
    "nobel_prizes_etl()"
   ]
  },
  {
   "cell_type": "code",
   "execution_count": 4,
   "id": "b179db74-db11-4d6b-8f50-7a62c18cde91",
   "metadata": {},
   "outputs": [
    {
     "data": {
      "text/html": [
       "<div>\n",
       "<style scoped>\n",
       "    .dataframe tbody tr th:only-of-type {\n",
       "        vertical-align: middle;\n",
       "    }\n",
       "\n",
       "    .dataframe tbody tr th {\n",
       "        vertical-align: top;\n",
       "    }\n",
       "\n",
       "    .dataframe thead th {\n",
       "        text-align: right;\n",
       "    }\n",
       "</style>\n",
       "<table border=\"1\" class=\"dataframe\">\n",
       "  <thead>\n",
       "    <tr style=\"text-align: right;\">\n",
       "      <th></th>\n",
       "      <th>awardYear</th>\n",
       "      <th>category</th>\n",
       "      <th>categoryFullName</th>\n",
       "      <th>dateAwarded</th>\n",
       "      <th>prizeAmount</th>\n",
       "      <th>prizeAmountAdjusted</th>\n",
       "      <th>laureates_id</th>\n",
       "      <th>laureates_portion</th>\n",
       "      <th>fullName</th>\n",
       "      <th>file_name</th>\n",
       "      <th>gender</th>\n",
       "      <th>birth</th>\n",
       "    </tr>\n",
       "  </thead>\n",
       "  <tbody>\n",
       "    <tr>\n",
       "      <th>0</th>\n",
       "      <td>2020</td>\n",
       "      <td>che</td>\n",
       "      <td>The Nobel Prize in Chemistry</td>\n",
       "      <td>2020-10-07</td>\n",
       "      <td>10000000</td>\n",
       "      <td>10000000</td>\n",
       "      <td>991</td>\n",
       "      <td>1/2</td>\n",
       "      <td>Emmanuelle Charpentier</td>\n",
       "      <td>charpentier</td>\n",
       "      <td>female</td>\n",
       "      <td>1968-12-11</td>\n",
       "    </tr>\n",
       "    <tr>\n",
       "      <th>1</th>\n",
       "      <td>2020</td>\n",
       "      <td>che</td>\n",
       "      <td>The Nobel Prize in Chemistry</td>\n",
       "      <td>2020-10-07</td>\n",
       "      <td>10000000</td>\n",
       "      <td>10000000</td>\n",
       "      <td>992</td>\n",
       "      <td>1/2</td>\n",
       "      <td>Jennifer A. Doudna</td>\n",
       "      <td>doudna</td>\n",
       "      <td>female</td>\n",
       "      <td>1964-02-19</td>\n",
       "    </tr>\n",
       "    <tr>\n",
       "      <th>2</th>\n",
       "      <td>2020</td>\n",
       "      <td>eco</td>\n",
       "      <td>The Sveriges Riksbank Prize in Economic Scienc...</td>\n",
       "      <td>2020-10-12</td>\n",
       "      <td>10000000</td>\n",
       "      <td>10000000</td>\n",
       "      <td>995</td>\n",
       "      <td>1/2</td>\n",
       "      <td>Paul R. Milgrom</td>\n",
       "      <td>milgrom</td>\n",
       "      <td>male</td>\n",
       "      <td>1948-04-20</td>\n",
       "    </tr>\n",
       "    <tr>\n",
       "      <th>3</th>\n",
       "      <td>2020</td>\n",
       "      <td>eco</td>\n",
       "      <td>The Sveriges Riksbank Prize in Economic Scienc...</td>\n",
       "      <td>2020-10-12</td>\n",
       "      <td>10000000</td>\n",
       "      <td>10000000</td>\n",
       "      <td>996</td>\n",
       "      <td>1/2</td>\n",
       "      <td>Robert B. Wilson</td>\n",
       "      <td>wilson</td>\n",
       "      <td>male</td>\n",
       "      <td>1937-05-16</td>\n",
       "    </tr>\n",
       "    <tr>\n",
       "      <th>4</th>\n",
       "      <td>2020</td>\n",
       "      <td>lit</td>\n",
       "      <td>The Nobel Prize in Literature</td>\n",
       "      <td>2020-10-08</td>\n",
       "      <td>10000000</td>\n",
       "      <td>10000000</td>\n",
       "      <td>993</td>\n",
       "      <td>1</td>\n",
       "      <td>Louise Glück</td>\n",
       "      <td>gluck</td>\n",
       "      <td>female</td>\n",
       "      <td>1943-04-22</td>\n",
       "    </tr>\n",
       "  </tbody>\n",
       "</table>\n",
       "</div>"
      ],
      "text/plain": [
       "  awardYear category                                   categoryFullName  \\\n",
       "0      2020      che                       The Nobel Prize in Chemistry   \n",
       "1      2020      che                       The Nobel Prize in Chemistry   \n",
       "2      2020      eco  The Sveriges Riksbank Prize in Economic Scienc...   \n",
       "3      2020      eco  The Sveriges Riksbank Prize in Economic Scienc...   \n",
       "4      2020      lit                      The Nobel Prize in Literature   \n",
       "\n",
       "  dateAwarded  prizeAmount  prizeAmountAdjusted  laureates_id  \\\n",
       "0  2020-10-07     10000000             10000000           991   \n",
       "1  2020-10-07     10000000             10000000           992   \n",
       "2  2020-10-12     10000000             10000000           995   \n",
       "3  2020-10-12     10000000             10000000           996   \n",
       "4  2020-10-08     10000000             10000000           993   \n",
       "\n",
       "  laureates_portion                fullName    file_name  gender       birth  \n",
       "0               1/2  Emmanuelle Charpentier  charpentier  female  1968-12-11  \n",
       "1               1/2      Jennifer A. Doudna       doudna  female  1964-02-19  \n",
       "2               1/2         Paul R. Milgrom      milgrom    male  1948-04-20  \n",
       "3               1/2        Robert B. Wilson       wilson    male  1937-05-16  \n",
       "4                 1            Louise Glück        gluck  female  1943-04-22  "
      ]
     },
     "execution_count": 4,
     "metadata": {},
     "output_type": "execute_result"
    }
   ],
   "source": [
    "import pandas as pd\n",
    "import s3fs\n",
    "\n",
    "\n",
    "# Lee el archivo Parquet desde S3 y crea el DataFrame\n",
    "bronze_prefect_2 = pd.read_parquet('s3://datalake-sergiosaez-capstone13/bronze/bronze_laureates.parquet')\n",
    "\n",
    "# Muestra el DataFrame en forma de tabla\n",
    "bronze_prefect_2.head()"
   ]
  },
  {
   "cell_type": "markdown",
   "id": "3fa158b7-2c01-484a-b454-6b4098c96981",
   "metadata": {
    "tags": []
   },
   "source": [
    "## 8. Responder a preguntas de analítica\n",
    "\n",
    "## Analítica de datos\n",
    "\n",
    "Tenemos un conjunto de datos muy valioso. Vamos a leerlo localmente con pandas usando `pd.read_parquet(\"s3://{bucket-datalake}/silver/silver_laureates.parquet\")` y a vamos a responder a las siguientes preguntas para ganar insight acerca de los datos que estamos manejando. Responder a cada pregunta usando celdas de **código** y/o **markdown** según se considere necesario.\n",
    "\n",
    "1. ¿Quién es el laureado que más ha cobrado? (en caso de empate dar el más antiguo)\n",
    "2. Generar una gráfica de línea en la que se muestre la inversión total por año (suma de `prize_amount_real`). ¿Cuál ha sido la tendencia?\n",
    "3. ¿Hay algún laureado que haya recibido más de dos premios? Muestra el top 5.\n",
    "4. ¿Qué categoría es la que más premios ha recibido? ¿Y que más dinero ha entregado?"
   ]
  },
  {
   "cell_type": "code",
   "execution_count": 5,
   "id": "6b9f7789-da31-4594-8b2f-a5c8a7859740",
   "metadata": {},
   "outputs": [
    {
     "name": "stdout",
     "output_type": "stream",
     "text": [
      "ETL Silver ejecutada con éxito\n"
     ]
    }
   ],
   "source": [
    "import boto3\n",
    "import os\n",
    "import pandas as pd\n",
    "\n",
    "# vamos a ejecutar el silver antes\n",
    "client = boto3.client('lambda',region_name='us-east-1')\n",
    "response = client.invoke(FunctionName='etlSilver', Payload='{}')\n",
    "response_body = json.loads(response['Payload'].read().decode('utf-8'))\n",
    "print(response_body)"
   ]
  },
  {
   "cell_type": "code",
   "execution_count": 9,
   "id": "a30807fb-5c5d-42c5-a6d7-81285632fb64",
   "metadata": {},
   "outputs": [
    {
     "data": {
      "text/html": [
       "<div>\n",
       "<style scoped>\n",
       "    .dataframe tbody tr th:only-of-type {\n",
       "        vertical-align: middle;\n",
       "    }\n",
       "\n",
       "    .dataframe tbody tr th {\n",
       "        vertical-align: top;\n",
       "    }\n",
       "\n",
       "    .dataframe thead th {\n",
       "        text-align: right;\n",
       "    }\n",
       "</style>\n",
       "<table border=\"1\" class=\"dataframe\">\n",
       "  <thead>\n",
       "    <tr style=\"text-align: right;\">\n",
       "      <th></th>\n",
       "      <th>year</th>\n",
       "      <th>category</th>\n",
       "      <th>category_full_name</th>\n",
       "      <th>date_awarded</th>\n",
       "      <th>prize_amount</th>\n",
       "      <th>prize_amount_adjusted</th>\n",
       "      <th>laureate_id</th>\n",
       "      <th>laureate_portion</th>\n",
       "      <th>full_name</th>\n",
       "      <th>file_name</th>\n",
       "      <th>gender</th>\n",
       "      <th>birth</th>\n",
       "      <th>prize_amount_real</th>\n",
       "    </tr>\n",
       "  </thead>\n",
       "  <tbody>\n",
       "    <tr>\n",
       "      <th>0</th>\n",
       "      <td>2020</td>\n",
       "      <td>che</td>\n",
       "      <td>The Nobel Prize in Chemistry</td>\n",
       "      <td>2020-10-07</td>\n",
       "      <td>10000000</td>\n",
       "      <td>10000000</td>\n",
       "      <td>991</td>\n",
       "      <td>0.5</td>\n",
       "      <td>Emmanuelle Charpentier</td>\n",
       "      <td>charpentier</td>\n",
       "      <td>female</td>\n",
       "      <td>1968-12-11</td>\n",
       "      <td>5000000.0</td>\n",
       "    </tr>\n",
       "    <tr>\n",
       "      <th>1</th>\n",
       "      <td>2020</td>\n",
       "      <td>che</td>\n",
       "      <td>The Nobel Prize in Chemistry</td>\n",
       "      <td>2020-10-07</td>\n",
       "      <td>10000000</td>\n",
       "      <td>10000000</td>\n",
       "      <td>992</td>\n",
       "      <td>0.5</td>\n",
       "      <td>Jennifer A. Doudna</td>\n",
       "      <td>doudna</td>\n",
       "      <td>female</td>\n",
       "      <td>1964-02-19</td>\n",
       "      <td>5000000.0</td>\n",
       "    </tr>\n",
       "    <tr>\n",
       "      <th>2</th>\n",
       "      <td>2020</td>\n",
       "      <td>eco</td>\n",
       "      <td>The Sveriges Riksbank Prize in Economic Scienc...</td>\n",
       "      <td>2020-10-12</td>\n",
       "      <td>10000000</td>\n",
       "      <td>10000000</td>\n",
       "      <td>995</td>\n",
       "      <td>0.5</td>\n",
       "      <td>Paul R. Milgrom</td>\n",
       "      <td>milgrom</td>\n",
       "      <td>male</td>\n",
       "      <td>1948-04-20</td>\n",
       "      <td>5000000.0</td>\n",
       "    </tr>\n",
       "    <tr>\n",
       "      <th>3</th>\n",
       "      <td>2020</td>\n",
       "      <td>eco</td>\n",
       "      <td>The Sveriges Riksbank Prize in Economic Scienc...</td>\n",
       "      <td>2020-10-12</td>\n",
       "      <td>10000000</td>\n",
       "      <td>10000000</td>\n",
       "      <td>996</td>\n",
       "      <td>0.5</td>\n",
       "      <td>Robert B. Wilson</td>\n",
       "      <td>wilson</td>\n",
       "      <td>male</td>\n",
       "      <td>1937-05-16</td>\n",
       "      <td>5000000.0</td>\n",
       "    </tr>\n",
       "    <tr>\n",
       "      <th>4</th>\n",
       "      <td>2020</td>\n",
       "      <td>lit</td>\n",
       "      <td>The Nobel Prize in Literature</td>\n",
       "      <td>2020-10-08</td>\n",
       "      <td>10000000</td>\n",
       "      <td>10000000</td>\n",
       "      <td>993</td>\n",
       "      <td>1.0</td>\n",
       "      <td>Louise Glück</td>\n",
       "      <td>gluck</td>\n",
       "      <td>female</td>\n",
       "      <td>1943-04-22</td>\n",
       "      <td>10000000.0</td>\n",
       "    </tr>\n",
       "  </tbody>\n",
       "</table>\n",
       "</div>"
      ],
      "text/plain": [
       "   year category                                 category_full_name  \\\n",
       "0  2020      che                       The Nobel Prize in Chemistry   \n",
       "1  2020      che                       The Nobel Prize in Chemistry   \n",
       "2  2020      eco  The Sveriges Riksbank Prize in Economic Scienc...   \n",
       "3  2020      eco  The Sveriges Riksbank Prize in Economic Scienc...   \n",
       "4  2020      lit                      The Nobel Prize in Literature   \n",
       "\n",
       "  date_awarded  prize_amount  prize_amount_adjusted  laureate_id  \\\n",
       "0   2020-10-07      10000000               10000000          991   \n",
       "1   2020-10-07      10000000               10000000          992   \n",
       "2   2020-10-12      10000000               10000000          995   \n",
       "3   2020-10-12      10000000               10000000          996   \n",
       "4   2020-10-08      10000000               10000000          993   \n",
       "\n",
       "   laureate_portion               full_name    file_name  gender       birth  \\\n",
       "0               0.5  Emmanuelle Charpentier  charpentier  female  1968-12-11   \n",
       "1               0.5      Jennifer A. Doudna       doudna  female  1964-02-19   \n",
       "2               0.5         Paul R. Milgrom      milgrom    male  1948-04-20   \n",
       "3               0.5        Robert B. Wilson       wilson    male  1937-05-16   \n",
       "4               1.0            Louise Glück        gluck  female  1943-04-22   \n",
       "\n",
       "   prize_amount_real  \n",
       "0          5000000.0  \n",
       "1          5000000.0  \n",
       "2          5000000.0  \n",
       "3          5000000.0  \n",
       "4         10000000.0  "
      ]
     },
     "execution_count": 9,
     "metadata": {},
     "output_type": "execute_result"
    }
   ],
   "source": [
    "import pandas as pd\n",
    "import s3fs\n",
    "\n",
    "\n",
    "# Lee el archivo Parquet desde S3 y crea el DataFrame\n",
    "silver = pd.read_parquet('s3://datalake-sergiosaez-capstone13/silver/silver_laureates.parquet')\n",
    "\n",
    "# Muestra el DataFrame en forma de tabla\n",
    "silver.head()"
   ]
  },
  {
   "cell_type": "code",
   "execution_count": 10,
   "id": "a5541149-239e-47f7-bd5c-5080e852546a",
   "metadata": {},
   "outputs": [
    {
     "data": {
      "text/plain": [
       "'Doris Lessing'"
      ]
     },
     "execution_count": 10,
     "metadata": {},
     "output_type": "execute_result"
    }
   ],
   "source": [
    "\"¿Quién es el laureado que más ha cobrado? (en caso de empate dar el más antiguo)\"\n",
    "# Ordenar el DataFrame por prize_amount_real en orden descendente y luego por birth en orden ascendente\n",
    "sorted_df = silver.sort_values(by=['prize_amount_real', 'birth'], ascending=[False, True])\n",
    "\n",
    "# Obtener el laureado con la mayor cantidad de premio\n",
    "laureado_mayor_cobro = sorted_df.iloc[0]['full_name']\n",
    "\n",
    "laureado_mayor_cobro"
   ]
  },
  {
   "cell_type": "code",
   "execution_count": 27,
   "id": "55482f63-ae81-4043-a8aa-ee67d0d2e00f",
   "metadata": {},
   "outputs": [],
   "source": [
    "#!pip install matplotlib"
   ]
  },
  {
   "cell_type": "code",
   "execution_count": 11,
   "id": "319534c9-e1ca-4877-a2e3-becf44d2aa07",
   "metadata": {},
   "outputs": [
    {
     "data": {
      "image/png": "[encoded data removed]",
      "text/plain": [
       "<Figure size 2000x800 with 1 Axes>"
      ]
     },
     "metadata": {},
     "output_type": "display_data"
    }
   ],
   "source": [
    "import matplotlib.pyplot as plt\n",
    "\n",
    "# Agrupar los datos por año y calcular la suma de prize_amount_real\n",
    "inversion_total_por_año = silver.groupby('year')['prize_amount_real'].sum()\n",
    "\n",
    "# Generar la gráfica de línea\n",
    "plt.figure(figsize=(20, 8))\n",
    "plt.plot(inversion_total_por_año.index, inversion_total_por_año.values, marker=\"x\")\n",
    "plt.xticks(rotation='vertical')\n",
    "plt.xlabel('Año')\n",
    "plt.ylabel('Inversión total')\n",
    "plt.title('Inversión total por año')\n",
    "plt.show()"
   ]
  },
  {
   "cell_type": "markdown",
   "id": "eb668f57-e812-4d11-986c-76bf9df0eb70",
   "metadata": {},
   "source": [
    "Podemos observar que año a año la inversión ha ido aumentando. Aunque parece que desde el año 2000 se ha mantenido y no se ha invertido más."
   ]
  },
  {
   "cell_type": "code",
   "execution_count": 12,
   "id": "96d2fc9d-e0f4-4434-a8a8-329421787030",
   "metadata": {},
   "outputs": [
    {
     "data": {
      "text/plain": [
       "John Bardeen                   4\n",
       "Marie Curie, née Sklodowska    4\n",
       "Frederick Sanger               4\n",
       "Linus Carl Pauling             4\n",
       "Name: full_name, dtype: int64"
      ]
     },
     "execution_count": 12,
     "metadata": {},
     "output_type": "execute_result"
    }
   ],
   "source": [
    "\"¿Hay algún laureado que haya recibido más de dos premios? Muestra el top 5.\"\n",
    "\n",
    "# Contar el número de premios recibidos por cada laureado\n",
    "premios_por_laureado = silver['full_name'].value_counts()\n",
    "\n",
    "# Filtrar los laureados que han recibido más de dos premios\n",
    "laureados_con_mas_de_dos_premios = premios_por_laureado[premios_por_laureado > 2]\n",
    "\n",
    "# Obtener el top 5 de laureados con más premios\n",
    "top_5_laureados = laureados_con_mas_de_dos_premios.head(5)\n",
    "\n",
    "top_5_laureados"
   ]
  },
  {
   "cell_type": "code",
   "execution_count": 13,
   "id": "5cee3cce-8ca5-40f4-aa81-fe5816a50769",
   "metadata": {},
   "outputs": [
    {
     "name": "stdout",
     "output_type": "stream",
     "text": [
      "La categoría que más premios ha recibido es: The Nobel Prize in Physiology or Medicine\n",
      "\n",
      "La categoría que más dinero ha entregado es: The Nobel Prize in Chemistry\n"
     ]
    }
   ],
   "source": [
    "\"¿Qué categoría es la que más premios ha recibido? ¿Y que más dinero ha entregado?\"\n",
    "\n",
    "# Calcular el número de premios por categoría\n",
    "premios_por_categoria = silver['category_full_name'].value_counts()\n",
    "\n",
    "# Calcular la suma de prize_amount_real por categoría\n",
    "dinero_por_categoria = silver.groupby('category_full_name')['prize_amount_real'].sum()\n",
    "\n",
    "# Obtener la categoría con más premios\n",
    "categoria_mas_premios = premios_por_categoria.idxmax()\n",
    "\n",
    "# Obtener la categoría que ha entregado más dinero\n",
    "categoria_mas_dinero = dinero_por_categoria.idxmax()\n",
    "\n",
    "print(\"La categoría que más premios ha recibido es:\", categoria_mas_premios)\n",
    "print(\"\")\n",
    "print(\"La categoría que más dinero ha entregado es:\", categoria_mas_dinero)"
   ]
  }
 ],
 "metadata": {
  "kernelspec": {
   "display_name": "Python 3 (ipykernel)",
   "language": "python",
   "name": "python3"
  },
  "language_info": {
   "codemirror_mode": {
    "name": "ipython",
    "version": 3
   },
   "file_extension": ".py",
   "mimetype": "text/x-python",
   "name": "python",
   "nbconvert_exporter": "python",
   "pygments_lexer": "ipython3",
   "version": "3.9.12"
  }
 },
 "nbformat": 4,
 "nbformat_minor": 5
}
