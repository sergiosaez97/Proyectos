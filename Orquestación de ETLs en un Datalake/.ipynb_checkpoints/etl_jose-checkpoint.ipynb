{
 "cells": [
  {
   "cell_type": "markdown",
   "id": "7da1a07b-4098-4103-a45c-378507024872",
   "metadata": {},
   "source": [
    "<img src=\"http://www.cidaen.es/assets/img/mCIDaeNnb.png\" alt=\"Logo CiDAEN\" align=\"right\">\n",
    "\n",
    "\n",
    "\n",
    "\n",
    "<br><br><br>\n",
    "<h2><font color=\"#00586D\" size=4>Módulo 13: Almacenes de datos: Datalakes</font></h2>\n",
    "\n",
    "\n",
    "\n",
    "<h1><font color=\"#00586D\" size=5>Capstone XIII - Orquestación de ETLs en un Datalake</font></h1>\n",
    "\n",
    "<br><br><br>\n",
    "<div style=\"text-align: right\">\n",
    "<font color=\"#00586D\" size=3>Javier Cózar</font><br>\n",
    "<font color=\"#00586D\" size=3>Máster en Ciencia de Datos e Ingeniería de Datos en la Nube</font><br>\n",
    "<font color=\"#00586D\" size=3>Universidad de Castilla-La Mancha</font>\n",
    "\n",
    "</div>"
   ]
  },
  {
   "cell_type": "markdown",
   "id": "e5a78671-d6c0-4ab1-b889-aad58ee4d12f",
   "metadata": {},
   "source": [
    "## NobelPrice\n",
    "\n",
    "En este capstone vamos a trabajar con los datos de las celebraciones de premios Nobel y las personas y entidades laureadas. Para ello haremos uso de la API de [nobelprize.org](https://www.nobelprize.org/about/developer-zone-2/). Esta API tiene documentación en formato OpenAPI alojado en la plataforma [swaggerhub](https://app.swaggerhub.com/apis/NobelMedia/NobelMasterData/2.1), que es un estandar bastante extendido y como podréis comprobar es muy cómodo e interesante de explorar!\n",
    "\n",
    "Vamos a crear un datalake usando **AWS S3**, a implementar nuestras ETLs en **AWS Lambda**, y a orquestar su ejecución a través de **Prefect**, ejecutando el flujo localmente. A continuación describimos qué ETLs implementar y los pasos a seguir para orquestar las ETLs con Prefect.\n",
    "\n",
    "\n",
    "### Descripción\n",
    "\n",
    "Los premios Nobel se celebran anualmente (salvo algún problema, como ocurrió durante _la segunda guerra mundial_). Vamos a automatizar la extracción de los datos todos los **1 de enero de cada año** haciendo lo siguiente:\n",
    "- Descargaremos los datos **del año anterior para todas las categorías** (`che`, `eco`, `lit`, `pea`, `phy`, `med`)\n",
    "- Almacenaremos en el datalake (prefijo `raw`) estos datos en formato parquet\n",
    "- Ejecutaremos las ETL implementadas (bronze y silver)\n",
    "\n",
    "Finalmente, usaremos la libreta de jupyter para acceder a las tablas generadas por la ETL y **responder ciertas preguntas de analítica**."
   ]
  },
  {
   "cell_type": "markdown",
   "id": "b524b8ef-8833-43f2-8b71-ef05997ca19e",
   "metadata": {},
   "source": [
    "## Ejercicio 1. Crear el bucket de S3 que será nuestro datalake\n",
    "\n",
    "Vamos a crear un bucket de S3 en nuestra cuenta de AWS Academy. Este bucket contendrá los prefijos:\n",
    "\n",
    "- **raw**: contendrá los datos en crudo extraídos de la API.\n",
    "- **bronze**: contendrá tablas que serán uniones de tablas con nombres de columnas posiblemente modificadas y tipos de columnas casteadas.\n",
    "- **silver**: contendrá tablas de alto nivel que serán utilizadas para acceder a la información granularmente.\n",
    "\n",
    "<div style=\"background-color:yellow\">RESPUESTA DEL ALUMNO\n",
    "\n",
    "He creado el bucket \"jlmendo11-cs13datalake\" con las 3 carpetas: \"raw\", \"bronze\" y \"silver\"\n",
    "</div>"
   ]
  },
  {
   "cell_type": "code",
   "execution_count": 1,
   "id": "e37269c0",
   "metadata": {},
   "outputs": [],
   "source": [
    "BUCKET_NAME = \"jlmendo11-cs13datalake\""
   ]
  },
  {
   "cell_type": "markdown",
   "id": "ad4bfdef-bd90-4ba5-b352-34825ac73063",
   "metadata": {},
   "source": [
    "## Ejercicio 2. Crear la layer para AWS Lambda\n",
    "\n",
    "Vamos a utilizar `pandas`, `pyarrow`, `requests` y `s3fs` en todas nuestras lambdas. La consola tiene un límite de 50MB por zip, pero nuestra layer es mayor. Para poder crearla hay que subir el zip `layer.zip` a un bucket de S3 y crear la layer a partir de la S3 URI. La layer está creada para `python 3.8` y arquitectura `x86_64`.\n",
    "\n",
    "**NOTA**: podéis ver las versiones de los paquetes utilizados en las layers para lambda en el fichero `requirements_lambda.txt`. Hay que usar la misma versión de python y de los paquetes para desarrollar en local y así evitar errores (podéis probar el código dentro de una imagen de docker si fuese necesario).\n",
    "\n",
    "<div style=\"background-color:yellow\">RESPUESTA DEL ALUMNO\n",
    "\n",
    "Layer URI s3://jlmendo11-cs13datalake/lambda-layers/cs13-lambda-layer1.zip\n",
    "</div>"
   ]
  },
  {
   "cell_type": "markdown",
   "id": "13b3a230-0e12-427f-8925-a818ac6726e2",
   "metadata": {
    "tags": []
   },
   "source": [
    "## Ejercicio 3. Crear las AWS Lambdas de extracción\n",
    "\n",
    "Las funciones deben extraer información de `nobelPrizes` y `laureates`, es decir, premios Nobel y laureados o personas premiadas. Para ello:\n",
    "\n",
    "1. Usar el endpoint `http://api.nobelprize.org/2.1/nobelPrize/{category}/{year}` para obtener la información de todos los premios Nobel para una categoría y un año concreto.\n",
    "2. Usar el endpoint `http://api.nobelprize.org/2.1/laureate/{laureateID}` para obtener la información de un laureado en base a su ID.\n",
    "\n",
    "Los datos serán almacenados en el datalake en formato parquet, que permite leer cómodamente varios ficheros con una llamada `pd.read_parquet` y podríamos ejecutar procesos de compactación de datos cuando fuese necesario. Sin embargo, hay ciertas estructuras complejas que parquet no tiene implementado en su versión en python (algunas de ellas nos las encontramos en las respuestas de estas APIs). Por ello, en lugar de almacenar los datos directamente en crudo los procesaremos ligeramente con el fin de generar datos estructurados. Es importante destacar que esto se realiza **para simplificar el proceso**, ya que es importante almacenar los datos en crudo, tal cual los extraemos, para su posterior uso. Una práctica más realista sería almacenar el json tal cual como raw, y usar una lambda para crear un raw_processed que sería el parquet que estamos generando ahora.\n",
    "\n",
    "**Importante**: selecciona la arquitectura `x86_64` y la versión de python 3.8. Finalmente, debes seleccionar el **rol de Iam** existente llamado `LabRole`. También configuraremos el timeout de la lambda a 1 minuto y 2048 MB de RAM para asegurarnos que le da tiempo a ejecutarse correctamente."
   ]
  },
  {
   "cell_type": "markdown",
   "id": "351efd28-631e-431b-b8d6-0994b904fc27",
   "metadata": {
    "tags": []
   },
   "source": [
    "### Ejercicio 3.1 AWS Lambda `extractNobelPrizes`\n",
    "\n",
    "La función debe recibir en el evento la categoría y el año a extraer y hacer uso del endpoint `http://api.nobelprize.org/2.1/nobelPrize/{category}/{year}` para extraer la información. Una vez obtenido, vamos a construir un DataFrame con pandas de una sola fila (manualmente a partir de una estructura de python). Este dataframe tendrá las siguientes columnas:\n",
    "\n",
    "- **awardYear**: el campo `awardYear`. Si no existe dejar un NA\n",
    "- **category**: el campo `en` dentro de `category`. Si no existe dejar un NA\n",
    "- **categoryFullName**: el campo `en` dentro de `categoryFullName`. Si no existe dejar un NA\n",
    "- **dateAwarded**: el campo `dateAwarded`. Si no existe dejar un NA\n",
    "- **prizeAmount**: el campo `prizeAmount`. Si no existe dejar un NA\n",
    "- **prizeAmountAdjusted**: el campo `prizeAmountAdjusted`. Si no existe dejar un NA\n",
    "- **laureates_id**: una lista de laureate id's, correspondiente con el campo `id` de cada elemento de la lista de `laureates`\n",
    "- **laureates_portion**: una lista de strings correspondientes con el valor interno `portion` de cada elemento de la lista de `laureates`\n",
    "\n",
    "Posteriormente vamos a almacenar el DataFrame en el bucket del datalake en formato parquet (con el nombre `raw/nobelPrizes/{category}-{year}.parquet`).\n",
    "\n",
    "Además la función debe **devolver una lista que contenaga los IDs de los laureados** implicados en los premios Nobel obtenidos (lista de id's de la columna `laureates`).\n",
    "\n",
    "Puedes ver si la lambda funciona usando uno de los siguientes códigos como categoría `che`, `eco`, `lit`, `pea`, `phy`, `med` y un año a tu elección (por ejemplo 2010)."
   ]
  },
  {
   "cell_type": "code",
   "execution_count": 2,
   "id": "fa73b580",
   "metadata": {},
   "outputs": [
    {
     "data": {
      "text/html": [
       "<div>\n",
       "<style scoped>\n",
       "    .dataframe tbody tr th:only-of-type {\n",
       "        vertical-align: middle;\n",
       "    }\n",
       "\n",
       "    .dataframe tbody tr th {\n",
       "        vertical-align: top;\n",
       "    }\n",
       "\n",
       "    .dataframe thead th {\n",
       "        text-align: right;\n",
       "    }\n",
       "</style>\n",
       "<table border=\"1\" class=\"dataframe\">\n",
       "  <thead>\n",
       "    <tr style=\"text-align: right;\">\n",
       "      <th></th>\n",
       "      <th>awardYear</th>\n",
       "      <th>category</th>\n",
       "      <th>categoryFullName</th>\n",
       "      <th>dateAwarded</th>\n",
       "      <th>prizeAmount</th>\n",
       "      <th>prizeAmountAdjusted</th>\n",
       "      <th>laureates_id</th>\n",
       "      <th>laureates_portion</th>\n",
       "    </tr>\n",
       "  </thead>\n",
       "  <tbody>\n",
       "    <tr>\n",
       "      <th>0</th>\n",
       "      <td>2022</td>\n",
       "      <td>Physics</td>\n",
       "      <td>The Nobel Prize in Physics</td>\n",
       "      <td>2022-10-04</td>\n",
       "      <td>10000000</td>\n",
       "      <td>10000000</td>\n",
       "      <td>[1012, 1013, 1014]</td>\n",
       "      <td>[1/3, 1/3, 1/3]</td>\n",
       "    </tr>\n",
       "  </tbody>\n",
       "</table>\n",
       "</div>"
      ],
      "text/plain": [
       "  awardYear category            categoryFullName dateAwarded  prizeAmount  \\\n",
       "0      2022  Physics  The Nobel Prize in Physics  2022-10-04     10000000   \n",
       "\n",
       "   prizeAmountAdjusted        laureates_id laureates_portion  \n",
       "0             10000000  [1012, 1013, 1014]   [1/3, 1/3, 1/3]  "
      ]
     },
     "execution_count": 2,
     "metadata": {},
     "output_type": "execute_result"
    }
   ],
   "source": [
    "import json\n",
    "import boto3\n",
    "import requests\n",
    "import pandas as pd\n",
    "\n",
    "# PARA VER COMO FUNCIONA: EJECUTAR ESTO SIN MAS\n",
    "def get_nobel_data(category, year):\n",
    "    \"\"\"\n",
    "    Retrieves Nobel Prize data for a specific category and year from the Nobel Prize API.\n",
    "\n",
    "    Parameters:\n",
    "    - category (str): The category of the Nobel Prize. Valid values are 'che', 'eco', 'lit', 'pea', 'phy', 'med'.\n",
    "    - year (int): The year of the Nobel Prize in the format 'YYYY'.\n",
    "\n",
    "    Returns:\n",
    "    - pandas.DataFrame: A DataFrame containing the extracted Nobel Prize data.\n",
    "\n",
    "    Raises:\n",
    "    - ValueError: If the category is not one of the valid values or if the year is not an integer with format 'YYYY'.\n",
    "    \"\"\"\n",
    "        \n",
    "    # Check category and year\n",
    "    available_categories = ['che', 'eco', 'lit', 'pea', 'phy', 'med']\n",
    "    if category not in available_categories:\n",
    "        raise ValueError(f\"Invalid category. Available categories: {', '.join(available_categories)}\")\n",
    "    if not isinstance(year, int) or len(str(year)) != 4:\n",
    "        raise ValueError(\"Invalid year. Year must be an integer with format 'YYYY'.\")\n",
    "    \n",
    "    # Get\n",
    "    url = f'http://api.nobelprize.org/2.1/nobelPrize/{category}/{year}'\n",
    "    response = requests.get(url)\n",
    "    data = response.json()\n",
    "    \n",
    "    # Extract from response\n",
    "    laureates = data[0].get('laureates', [])\n",
    "    nobel_data = {\n",
    "        'awardYear' : data[0].get('awardYear', 'NA'),\n",
    "        'category' : data[0].get('category', {}).get('en', 'NA'),\n",
    "        'categoryFullName' : data[0].get('categoryFullName', {}).get('en', 'NA'),\n",
    "        'dateAwarded' : data[0].get('dateAwarded', 'NA'),\n",
    "        'prizeAmount' : data[0].get('prizeAmount', 'NA'),\n",
    "        'prizeAmountAdjusted' : data[0].get('prizeAmountAdjusted', 'NA'),\n",
    "        'laureates_id' : [laureate.get('id', 'NA') for laureate in laureates],\n",
    "        'laureates_portion' : [laureate.get('portion', 'NA') for laureate in laureates]\n",
    "    }\n",
    "\n",
    "    \n",
    "    # DF to return\n",
    "    return pd.DataFrame([nobel_data])\n",
    "\n",
    "get_nobel_data('phy', 2022)"
   ]
  },
  {
   "cell_type": "code",
   "execution_count": 3,
   "id": "b8afd9ab-8755-4e58-be83-baf122b31b09",
   "metadata": {},
   "outputs": [],
   "source": [
    "import json\n",
    "import boto3\n",
    "import requests\n",
    "import pandas as pd\n",
    "\n",
    "BUCKET_NAME = \"jlmendo11-cs13datalake\"\n",
    "\n",
    "def get_nobel_data(category, year):\n",
    "    \"\"\"\n",
    "    Retrieves Nobel Prize data for a specific category and year from the Nobel Prize API.\n",
    "\n",
    "    Parameters:\n",
    "    - category (str): The category of the Nobel Prize. Valid values are 'che', 'eco', 'lit', 'pea', 'phy', 'med'.\n",
    "    - year (int): The year of the Nobel Prize in the format 'YYYY'.\n",
    "\n",
    "    Returns:\n",
    "    - pandas.DataFrame: A DataFrame containing the extracted Nobel Prize data.\n",
    "\n",
    "    Raises:\n",
    "    - ValueError: If the category is not one of the valid values or if the year is not an integer with format 'YYYY'.\n",
    "    \"\"\"\n",
    "        \n",
    "    # Check category and year\n",
    "    available_categories = ['che', 'eco', 'lit', 'pea', 'phy', 'med']\n",
    "    if category not in available_categories:\n",
    "        raise ValueError(f\"Invalid category. Available categories: {', '.join(available_categories)}\")\n",
    "    if not isinstance(year, int) or len(str(year)) != 4:\n",
    "        raise ValueError(\"Invalid year. Year must be an integer with format 'YYYY'.\")\n",
    "    \n",
    "    # Get\n",
    "    url = f'http://api.nobelprize.org/2.1/nobelPrize/{category}/{year}'\n",
    "    response = requests.get(url)\n",
    "    data = response.json()\n",
    "    \n",
    "    # Extract from response\n",
    "    laureates = data[0].get('laureates', [])\n",
    "    nobel_data = {\n",
    "        'awardYear' : data[0].get('awardYear', 'NA'),\n",
    "        'category' : data[0].get('category', {}).get('en', 'NA'),\n",
    "        'categoryFullName' : data[0].get('categoryFullName', {}).get('en', 'NA'),\n",
    "        'dateAwarded' : data[0].get('dateAwarded', 'NA'),\n",
    "        'prizeAmount' : data[0].get('prizeAmount', 'NA'),\n",
    "        'prizeAmountAdjusted' : data[0].get('prizeAmountAdjusted', 'NA'),\n",
    "        'laureates_id' : [laureate.get('id', 'NA') for laureate in laureates],\n",
    "        'laureates_portion' : [laureate.get('portion', 'NA') for laureate in laureates]\n",
    "    }\n",
    "\n",
    "    \n",
    "    # DF to return\n",
    "    return pd.DataFrame([nobel_data])\n",
    "    \n",
    "\n",
    "def lambda_handler(event, context):\n",
    "    category = event['category']\n",
    "    year = event['year']\n",
    "    \n",
    "    try:\n",
    "        # Get the Nobel Prize data\n",
    "        print(f\"Trying to retrieve Nobel Prize data for category: {category} and year: {year}\")\n",
    "        df_result = get_nobel_data(category, year)\n",
    "        print(f\"Sucessfully retrieved\")\n",
    "        \n",
    "        # Store the Parquet file\n",
    "        s3_path = f's3://{BUCKET_NAME}/raw/nobelPrizes/{category}-{year}.parquet'\n",
    "        df_result.to_parquet(s3_path)\n",
    "        print(f\"Written into {s3_path}\")\n",
    "        \n",
    "        # Get the list of laureate IDs\n",
    "        laureate_ids = df_result.iloc[0]['laureates_id']\n",
    "        print(f\"Returning laureate_ids = [{', '.join(laureate_ids)}]\")\n",
    "        \n",
    "        return {\n",
    "            'statusCode': 200,\n",
    "            'body': json.dumps(laureate_ids)\n",
    "        }\n",
    "    except ValueError as e:\n",
    "        return {\n",
    "            'statusCode': 400,\n",
    "            'body': str(e)\n",
    "        }\n"
   ]
  },
  {
   "cell_type": "markdown",
   "id": "4cb916d6-dff2-4c8a-98ed-62d422d9100d",
   "metadata": {
    "tags": []
   },
   "source": [
    "### Ejercicio 3.2 AWS Lambda `extractLaureate`\n",
    "\n",
    "La función debe recibir en el evento el ID del laureado a extraer y hacer uso del endpoint `http://api.nobelprize.org/2.1/laureate/{laureateID}` para extraer la información. Una vez obtenido, vamos a construir un DataFrame con pandas de una sola fila (manualmente a partir de una estructura de python). Este dataframe tendrá las siguientes columnas:\n",
    "\n",
    "- **id**: el campo `id`. Si no existe dejar un NA\n",
    "- **fullName**: el campo `en` dentro de `fullName`. Si no existe dejar un NA\n",
    "- **fileName**: el campo `fileName`. Si no existe dejar un NA\n",
    "- **gender**: el campo `gender`. Si no existe dejar un NA\n",
    "- **birth**: el campo `date` dentro de `birth`. Si no existe dejar un NA\n",
    "\n",
    "Posteriormente vamos a almacenar el DataFrame en el bucket del datalake en formato parquet (con el nombre `raw/laureates/{laureateID}.parquet`).\n",
    "\n",
    "Puedes ver si la lambda funciona usando uno de los id's de la llamada anterior (por ejemplo 851).\n",
    "\n",
    "**Importante**: selecciona la arquitectura `x86_64` y la versión de python 3.8. Finalmente, debes seleccionar el **rol de Iam** existente llamado `LabRole`. También configuraremos el timeout de la lambda a 1 minuto y 2048 MB de RAM para asegurarnos que le da tiempo a ejecutarse correctamente."
   ]
  },
  {
   "cell_type": "code",
   "execution_count": 4,
   "id": "2e5ef97d",
   "metadata": {},
   "outputs": [
    {
     "data": {
      "text/html": [
       "<div>\n",
       "<style scoped>\n",
       "    .dataframe tbody tr th:only-of-type {\n",
       "        vertical-align: middle;\n",
       "    }\n",
       "\n",
       "    .dataframe tbody tr th {\n",
       "        vertical-align: top;\n",
       "    }\n",
       "\n",
       "    .dataframe thead th {\n",
       "        text-align: right;\n",
       "    }\n",
       "</style>\n",
       "<table border=\"1\" class=\"dataframe\">\n",
       "  <thead>\n",
       "    <tr style=\"text-align: right;\">\n",
       "      <th></th>\n",
       "      <th>id</th>\n",
       "      <th>fullName</th>\n",
       "      <th>fileName</th>\n",
       "      <th>gender</th>\n",
       "      <th>birth</th>\n",
       "    </tr>\n",
       "  </thead>\n",
       "  <tbody>\n",
       "    <tr>\n",
       "      <th>0</th>\n",
       "      <td>1022</td>\n",
       "      <td>Douglas W. Diamond</td>\n",
       "      <td>diamond</td>\n",
       "      <td>male</td>\n",
       "      <td>1953-10-25</td>\n",
       "    </tr>\n",
       "  </tbody>\n",
       "</table>\n",
       "</div>"
      ],
      "text/plain": [
       "     id            fullName fileName gender       birth\n",
       "0  1022  Douglas W. Diamond  diamond   male  1953-10-25"
      ]
     },
     "execution_count": 4,
     "metadata": {},
     "output_type": "execute_result"
    }
   ],
   "source": [
    "def extract_laureate_data(laureate_id):\n",
    "    \"\"\"\n",
    "    Extracts laureate data for a specific laureate ID.\n",
    "\n",
    "    Parameters:\n",
    "    - laureate_id (str): The ID of the laureate to extract data for.\n",
    "\n",
    "    Returns:\n",
    "    - pandas.DataFrame: A DataFrame containing the extracted laureate data.\n",
    "    \"\"\"\n",
    "    try:\n",
    "        # Retrieve laureate data\n",
    "        url = f'http://api.nobelprize.org/2.1/laureate/{laureate_id}'\n",
    "        response = requests.get(url)\n",
    "        data = response.json()\n",
    "\n",
    "        # Extract relevant fields\n",
    "        laureate_data = {\n",
    "            'id': data[0].get('id', 'NA'),\n",
    "            'fullName': data[0].get('fullName', {}).get('en', 'NA'),\n",
    "            'fileName': data[0].get('fileName', 'NA'),\n",
    "            'gender': data[0].get('gender', 'NA'),\n",
    "            'birth': data[0].get('birth', {}).get('date', 'NA')\n",
    "        }\n",
    "        \n",
    "        # Create DataFrame\n",
    "        df = pd.DataFrame([laureate_data])\n",
    "\n",
    "        return df\n",
    "    except Exception as e:\n",
    "        raise ValueError(f\"Error extracting laureate data: {str(e)}\")\n",
    "        \n",
    "extract_laureate_data(1022)"
   ]
  },
  {
   "cell_type": "code",
   "execution_count": 5,
   "id": "0ba13dc6",
   "metadata": {},
   "outputs": [],
   "source": [
    "import json\n",
    "import boto3\n",
    "import requests\n",
    "import pandas as pd\n",
    "\n",
    "BUCKET_NAME = \"jlmendo11-cs13datalake\"\n",
    "\n",
    "def extract_laureate_data(laureate_id):\n",
    "    \"\"\"\n",
    "    Extracts laureate data for a specific laureate ID.\n",
    "\n",
    "    Parameters:\n",
    "    - laureate_id (str): The ID of the laureate to extract data for.\n",
    "\n",
    "    Returns:\n",
    "    - pandas.DataFrame: A DataFrame containing the extracted laureate data.\n",
    "    \"\"\"\n",
    "    try:\n",
    "        # Retrieve laureate data\n",
    "        url = f'http://api.nobelprize.org/2.1/laureate/{laureate_id}'\n",
    "        response = requests.get(url)\n",
    "        data = response.json()\n",
    "\n",
    "        # Extract relevant fields\n",
    "        laureate_data = {\n",
    "            'id': data[0].get('id', 'NA'),\n",
    "            'fullName': data[0].get('fullName', {}).get('en', 'NA'),\n",
    "            'fileName': data[0].get('fileName', 'NA'),\n",
    "            'gender': data[0].get('gender', 'NA'),\n",
    "            'birth': data[0].get('birth', {}).get('date', 'NA')\n",
    "        }\n",
    "        \n",
    "        # Create DataFrame\n",
    "        df = pd.DataFrame([laureate_data])\n",
    "\n",
    "        return df\n",
    "    except Exception as e:\n",
    "        raise ValueError(f\"Error extracting laureate data: {str(e)}\")\n",
    "        \n",
    "\n",
    "def lambda_handler(event, context):\n",
    "    laureate_id = event['laureateID']\n",
    "\n",
    "    try:\n",
    "        # Extract laureate data\n",
    "        print(f\"Trying to retrieve information for the laureate with laureateID {laureate_id }\")\n",
    "        df_result = extract_laureate_data(laureate_id)\n",
    "        print(f\"Sucessfully retrieved\")\n",
    "\n",
    "        # Store the Parquet file in S3 bucket\n",
    "        s3_path = f's3://{BUCKET_NAME}/raw/laureates/{laureate_id}.parquet'\n",
    "        df_result.to_parquet(s3_path)\n",
    "        print(f\"Written into {s3_path}\")\n",
    "\n",
    "        return {\n",
    "            'statusCode': 200,\n",
    "            'body': 'Extraction successful'\n",
    "        }\n",
    "    except ValueError as e:\n",
    "        return {\n",
    "            'statusCode': 400,\n",
    "            'body': str(e)\n",
    "        }\n"
   ]
  },
  {
   "cell_type": "markdown",
   "id": "0227133a-39a1-48c7-b99a-3aa61282a631",
   "metadata": {
    "tags": []
   },
   "source": [
    "## Combinación de premios Nobel y laureados\n",
    "\n",
    "Como los datos en `raw/nobelPrizes` y `raw/laureates` son ficheros parquet, podemos leer todos de una y crear un único `pd.DataFrame` usando `pd.read_parquet(\"s3://{bucket-datalake}/raw/nobelPrizes\")` y `pd.read_parquet(\"s3://{bucket-datalake}/raw/laureates\")` respectivamente.\n",
    "\n",
    "A continuación vamos a implementar dos funciones AWS Lambda para generar una tabla `bronze` y una tabla `silver`.\n",
    "\n",
    "**NOTA**: Para desarrollar localmente el código de estas dos ETL podéis usar los ficheros `nobelPrizes-1901-2019.parquet` y `laureates-1901-2019.parquet` disponibles en campus virtual, que contienen los datos exportados desde 1901 hasta 2019 (usando los endpoints de la API que dan todos los datos existentes paginados). Pero recordad que la lambda debe leer finalmente directamente del bucket de S3. En adelante nos referiremos a los datos de nobel prizes como `df_nobel_prizes` y a los datos de laureates como `df_laureates`."
   ]
  },
  {
   "cell_type": "markdown",
   "id": "96e0e8e1-587e-481d-8d9d-4a12e6f0e9d2",
   "metadata": {},
   "source": [
    "## Ejercicio 4. ETL bronze\n",
    "\n",
    "En esta ETL vamos a analizar los datos en crudo que tenemos delante, limpiarlos, reestructurarlos y combinarlos.\n",
    "\n",
    "### Procesar el dataframe `df_nobel_prizes`\n",
    "\n",
    "1. Vamos a explorar el contenido del dataframe y la completitud de los datos. ¿Hay nobels sin asignar? (es decir, `laureates` con valores perdidos). **Descartaremos esas filas en las que hay nobeks sin asignar**.\n",
    "2. Un mismo premio puede ser compartido por varios laureados, esto se indica a través de las columnas `laureates_id` y `laureates_portion`, que son listas. Utilizar [explode](https://pandas.pydata.org/docs/reference/api/pandas.DataFrame.explode.html) para transformar el dataframe y tener un solo laureado por fila.\n",
    "3. Vamos a castear la columna `laureates_id` para que sea un valor entero\n",
    "\n",
    "### Procesar el dataframe `df_laureates`\n",
    "\n",
    "4. Hemos detectado que alguna de las columnas de interés no tiene un nombrado consistente. Renombrar las columnas:\n",
    "    - `fileName` por `file_name`\n",
    "5. Vamos a castear la columna `id` para que sea un valor entero\n",
    "\n",
    "### Combinar ambos dataframes\n",
    "\n",
    "6. Combinar ambos dataframes por medio de la columna del id del laureado. Usar un inner join.\n",
    "\n",
    "### Implementar la AWS Lambda que ejecute la ETL bronze\n",
    "\n",
    "7. La lambda debe y genere en el datalake un fichero parquet resultante de escribir el dataframe de pandas (path `bronze/bronze_laureates.parquet`).\n",
    "8. Al igual que antes utiliza la layer. Selecciona la arquitectura `x86_64` y la versión de python 3.8. Finalmente, debes seleccionar el **rol de Iam** existente llamado `LabRole`. También configuraremos el timeout de la lambda a 5 minutos y 2048 MB de RAM para asegurarnos que le da tiempo a ejecutarse correctamente.\n",
    "\n",
    "\n",
    "**Nota**: el resultado de aplicar la ETL debería ser similar al que mostramos a continuación."
   ]
  },
  {
   "cell_type": "markdown",
   "id": "2c7101c5-644e-4cfd-a8e7-2120a668390a",
   "metadata": {},
   "source": [
    "|    |   awardYear | category   | categoryFullName             | dateAwarded   |   prizeAmount |   prizeAmountAdjusted |   laureates_id | laureates_portion   | fullName        | fileName   | gender   | birth      |\n",
    "|---:|------------:|:-----------|:-----------------------------|:--------------|--------------:|----------------------:|---------------:|:--------------------|:----------------|:-----------|:---------|:-----------|\n",
    "|  0 |        2010 | Chemistry  | The Nobel Prize in Chemistry | 2010-10-06    |      10000000 |              11015580 |            851 | 1/3                 | Richard F. Heck | heck       | male     | 1931-08-15 |\n",
    "|  1 |        2010 | Chemistry  | The Nobel Prize in Chemistry | 2010-10-06    |      10000000 |              11015580 |            851 | 1/3                 | Richard F. Heck | heck       | male     | 1931-08-15 |"
   ]
  },
  {
   "cell_type": "code",
   "execution_count": 6,
   "id": "67e5f4c6",
   "metadata": {},
   "outputs": [],
   "source": [
    "import json\n",
    "import pandas as pd\n",
    "\n",
    "BUCKET_NAME = \"jlmendo11-cs13datalake\"\n",
    "NOBEL_PRIZES_PATH = \"nobelPrizes-1901-2019.parquet\" \n",
    "LAUREATES_PATH = \"laureates-1901-2019.parquet\"\n",
    "\n",
    "# Read both dfs\n",
    "df_nobel_prizes = pd.read_parquet(NOBEL_PRIZES_PATH)\n",
    "df_laureates = pd.read_parquet(LAUREATES_PATH)\n",
    "\n",
    "# Process df_nobel_prizes\n",
    "df_nobel_prizes = df_nobel_prizes.dropna(subset=['laureates_id'])\n",
    "df_nobel_prizes = df_nobel_prizes.explode(['laureates_id', 'laureates_portion'])\n",
    "df_nobel_prizes['laureates_id'] = df_nobel_prizes['laureates_id'].astype(int)\n",
    "\n",
    "# Process df_laureates dataframe\n",
    "df_laureates = df_laureates.rename(columns={'fileName': 'file_name', 'id': 'id'})\n",
    "df_laureates['id'] = df_laureates['id'].astype(int)\n",
    "\n",
    "# Merge\n",
    "df_combined = pd.merge(df_nobel_prizes, df_laureates, left_on='laureates_id', right_on='id', how='inner')\n"
   ]
  },
  {
   "cell_type": "code",
   "execution_count": 23,
   "id": "e23b5429",
   "metadata": {},
   "outputs": [
    {
     "data": {
      "text/html": [
       "<div>\n",
       "<style scoped>\n",
       "    .dataframe tbody tr th:only-of-type {\n",
       "        vertical-align: middle;\n",
       "    }\n",
       "\n",
       "    .dataframe tbody tr th {\n",
       "        vertical-align: top;\n",
       "    }\n",
       "\n",
       "    .dataframe thead th {\n",
       "        text-align: right;\n",
       "    }\n",
       "</style>\n",
       "<table border=\"1\" class=\"dataframe\">\n",
       "  <thead>\n",
       "    <tr style=\"text-align: right;\">\n",
       "      <th></th>\n",
       "      <th>awardYear</th>\n",
       "      <th>category</th>\n",
       "      <th>categoryFullName</th>\n",
       "      <th>dateAwarded</th>\n",
       "      <th>prizeAmount</th>\n",
       "      <th>prizeAmountAdjusted</th>\n",
       "      <th>laureates_id</th>\n",
       "      <th>laureates_portion</th>\n",
       "      <th>id</th>\n",
       "      <th>fullName</th>\n",
       "      <th>file_name</th>\n",
       "      <th>gender</th>\n",
       "      <th>birth</th>\n",
       "    </tr>\n",
       "  </thead>\n",
       "  <tbody>\n",
       "    <tr>\n",
       "      <th>25</th>\n",
       "      <td>1904</td>\n",
       "      <td>Literature</td>\n",
       "      <td>The Nobel Prize in Literature</td>\n",
       "      <td>None</td>\n",
       "      <td>140859</td>\n",
       "      <td>7908819</td>\n",
       "      <td>574</td>\n",
       "      <td>1/2</td>\n",
       "      <td>574</td>\n",
       "      <td>José Echegaray y Eizaguirre</td>\n",
       "      <td>eizaguirre</td>\n",
       "      <td>male</td>\n",
       "      <td>1832-04-19</td>\n",
       "    </tr>\n",
       "    <tr>\n",
       "      <th>39</th>\n",
       "      <td>1906</td>\n",
       "      <td>Physiology or Medicine</td>\n",
       "      <td>The Nobel Prize in Physiology or Medicine</td>\n",
       "      <td>None</td>\n",
       "      <td>138536</td>\n",
       "      <td>7556149</td>\n",
       "      <td>299</td>\n",
       "      <td>1/2</td>\n",
       "      <td>299</td>\n",
       "      <td>Santiago Ramón y Cajal</td>\n",
       "      <td>cajal</td>\n",
       "      <td>male</td>\n",
       "      <td>1852-05-01</td>\n",
       "    </tr>\n",
       "    <tr>\n",
       "      <th>118</th>\n",
       "      <td>1922</td>\n",
       "      <td>Literature</td>\n",
       "      <td>The Nobel Prize in Literature</td>\n",
       "      <td>None</td>\n",
       "      <td>122483</td>\n",
       "      <td>3203014</td>\n",
       "      <td>592</td>\n",
       "      <td>1</td>\n",
       "      <td>592</td>\n",
       "      <td>Jacinto Benavente</td>\n",
       "      <td>benavente</td>\n",
       "      <td>male</td>\n",
       "      <td>1866-08-12</td>\n",
       "    </tr>\n",
       "    <tr>\n",
       "      <th>308</th>\n",
       "      <td>1956</td>\n",
       "      <td>Literature</td>\n",
       "      <td>The Nobel Prize in Literature</td>\n",
       "      <td>None</td>\n",
       "      <td>200123</td>\n",
       "      <td>2748452</td>\n",
       "      <td>627</td>\n",
       "      <td>1</td>\n",
       "      <td>627</td>\n",
       "      <td>Juan Ramón Jiménez</td>\n",
       "      <td>jimenez</td>\n",
       "      <td>male</td>\n",
       "      <td>1881-12-24</td>\n",
       "    </tr>\n",
       "    <tr>\n",
       "      <th>341</th>\n",
       "      <td>1959</td>\n",
       "      <td>Physiology or Medicine</td>\n",
       "      <td>The Nobel Prize in Physiology or Medicine</td>\n",
       "      <td>None</td>\n",
       "      <td>220678</td>\n",
       "      <td>2753427</td>\n",
       "      <td>367</td>\n",
       "      <td>1/2</td>\n",
       "      <td>367</td>\n",
       "      <td>Severo Ochoa</td>\n",
       "      <td>ochoa</td>\n",
       "      <td>male</td>\n",
       "      <td>1905-09-24</td>\n",
       "    </tr>\n",
       "    <tr>\n",
       "      <th>493</th>\n",
       "      <td>1977</td>\n",
       "      <td>Literature</td>\n",
       "      <td>The Nobel Prize in Literature</td>\n",
       "      <td>None</td>\n",
       "      <td>700000</td>\n",
       "      <td>3136854</td>\n",
       "      <td>653</td>\n",
       "      <td>1</td>\n",
       "      <td>653</td>\n",
       "      <td>Vicente Aleixandre</td>\n",
       "      <td>aleixandre</td>\n",
       "      <td>male</td>\n",
       "      <td>1898-04-26</td>\n",
       "    </tr>\n",
       "    <tr>\n",
       "      <th>611</th>\n",
       "      <td>1989</td>\n",
       "      <td>Literature</td>\n",
       "      <td>The Nobel Prize in Literature</td>\n",
       "      <td>None</td>\n",
       "      <td>3000000</td>\n",
       "      <td>5337372</td>\n",
       "      <td>666</td>\n",
       "      <td>1</td>\n",
       "      <td>666</td>\n",
       "      <td>Camilo José Cela</td>\n",
       "      <td>cela</td>\n",
       "      <td>male</td>\n",
       "      <td>1916-05-11</td>\n",
       "    </tr>\n",
       "  </tbody>\n",
       "</table>\n",
       "</div>"
      ],
      "text/plain": [
       "    awardYear                category  \\\n",
       "25       1904              Literature   \n",
       "39       1906  Physiology or Medicine   \n",
       "118      1922              Literature   \n",
       "308      1956              Literature   \n",
       "341      1959  Physiology or Medicine   \n",
       "493      1977              Literature   \n",
       "611      1989              Literature   \n",
       "\n",
       "                              categoryFullName dateAwarded  prizeAmount  \\\n",
       "25               The Nobel Prize in Literature        None       140859   \n",
       "39   The Nobel Prize in Physiology or Medicine        None       138536   \n",
       "118              The Nobel Prize in Literature        None       122483   \n",
       "308              The Nobel Prize in Literature        None       200123   \n",
       "341  The Nobel Prize in Physiology or Medicine        None       220678   \n",
       "493              The Nobel Prize in Literature        None       700000   \n",
       "611              The Nobel Prize in Literature        None      3000000   \n",
       "\n",
       "     prizeAmountAdjusted  laureates_id laureates_portion   id  \\\n",
       "25               7908819           574               1/2  574   \n",
       "39               7556149           299               1/2  299   \n",
       "118              3203014           592                 1  592   \n",
       "308              2748452           627                 1  627   \n",
       "341              2753427           367               1/2  367   \n",
       "493              3136854           653                 1  653   \n",
       "611              5337372           666                 1  666   \n",
       "\n",
       "                        fullName   file_name gender       birth  \n",
       "25   José Echegaray y Eizaguirre  eizaguirre   male  1832-04-19  \n",
       "39        Santiago Ramón y Cajal       cajal   male  1852-05-01  \n",
       "118            Jacinto Benavente   benavente   male  1866-08-12  \n",
       "308           Juan Ramón Jiménez     jimenez   male  1881-12-24  \n",
       "341                 Severo Ochoa       ochoa   male  1905-09-24  \n",
       "493           Vicente Aleixandre  aleixandre   male  1898-04-26  \n",
       "611             Camilo José Cela        cela   male  1916-05-11  "
      ]
     },
     "execution_count": 23,
     "metadata": {},
     "output_type": "execute_result"
    }
   ],
   "source": [
    "# :)\n",
    "spanish_laureates_indices = [25, 39, 118, 308, 341, 493, 611]\n",
    "df_spanish_laureates = df_combined.loc[spanish_laureates_indices]\n",
    "spanish_laureates_laureates_id = list(df_spanish_laureates.laureates_id.unique())\n",
    "df_spanish_laureates\n"
   ]
  },
  {
   "cell_type": "code",
   "execution_count": 8,
   "id": "51f2d929-c158-42a0-a808-b695c79b76e9",
   "metadata": {},
   "outputs": [],
   "source": [
    "# Completar: introducir el código de la lambda aquí\n",
    "import json\n",
    "import pandas as pd\n",
    "\n",
    "BUCKET_NAME = \"jlmendo11-cs13datalake\"\n",
    "NOBEL_PRIZES_PATH = f\"s3://{BUCKET_NAME}/raw/nobelPrizes\" \n",
    "LAUREATES_PATH =  f\"s3://{BUCKET_NAME}/raw/laureates\" \n",
    "BRONZE_OUTPUT_PATH = f\"s3://{BUCKET_NAME}/bronze/bronze_laureates.parquet\"\n",
    "\n",
    "def process_dfs(df_nobel_prizes, df_laureates):\n",
    "    # Process df_nobel_prizes\n",
    "    df_nobel_prizes = df_nobel_prizes.dropna(subset=['laureates_id'])\n",
    "    df_nobel_prizes = df_nobel_prizes.explode(['laureates_id', 'laureates_portion'])\n",
    "    df_nobel_prizes['laureates_id'] = df_nobel_prizes['laureates_id'].astype(int)\n",
    "\n",
    "    # Process df_laureates \n",
    "    df_laureates = df_laureates.rename(columns={'fileName': 'file_name', 'id': 'id'})\n",
    "    df_laureates['id'] = df_laureates['id'].astype(int)\n",
    "\n",
    "    # Merge \n",
    "    df_combined = pd.merge(df_nobel_prizes, df_laureates, left_on='laureates_id', right_on='id', how='inner')\n",
    "    \n",
    "    return df_combined\n",
    "\n",
    "def lambda_handler(event, context):\n",
    "    try:\n",
    "        # Read both DataFrames\n",
    "        df_nobel_prizes = pd.read_parquet(NOBEL_PRIZES_PATH)\n",
    "        df_laureates = pd.read_parquet(LAUREATES_PATH)\n",
    "        print(\"DFs successfully retrieved\")\n",
    "        \n",
    "        # Process the data and save to Parquet\n",
    "        df_combined = process_dfs(df_nobel_prizes, df_laureates)\n",
    "        \n",
    "        # Save df_combined to Parquet format\n",
    "        df_combined.to_parquet(BRONZE_OUTPUT_PATH)\n",
    "        print(\"Data processed and saved successfully\")\n",
    "        print(f\"Output saved to: {BRONZE_OUTPUT_PATH}\")\n",
    "        \n",
    "        return {\n",
    "            'statusCode': 200,\n",
    "            'body': json.dumps(\"Data processed and saved successfully\")\n",
    "        }\n",
    "    except Exception as e:\n",
    "        return {\n",
    "            'statusCode': 400,\n",
    "            'body': json.dumps(f\"Error processing data: {str(e)}\")\n",
    "        }\n",
    "\n"
   ]
  },
  {
   "cell_type": "markdown",
   "id": "74621b95-ce31-4cd0-b967-7785c31f155d",
   "metadata": {},
   "source": [
    "## Ejercicio 5. ETL silver\n",
    "\n",
    "En esta ETL vamos a procesar el dataframe bronze `df_bronze_laureates` y a construir nuevas variables.\n",
    "\n",
    "### Procesar el dataframe `df_bronze_laureates`\n",
    "\n",
    "\n",
    "1. Tras analizar el dataframe bronze hemos evaluado el nombre de las columnas y algunas de ellas no nos parece un nombrado consistente. Renombrar las columnas para que tengan un formato uniforme:\n",
    "    - `prizeAmount` por `prize_amount`\n",
    "    - `awardYear` por `year`\n",
    "    - `fileName` por `file_name`\n",
    "    - `laureates_id` por `laureate_id`\n",
    "    - `laureates_portion` por `laureate_portion`\n",
    "    - `categoryFullName` por `category_full_name`\n",
    "    - `dateAwarded` por `date_awarded`\n",
    "    - `prizeAmountAdjusted` port `prize_amount_adjusted`\n",
    "    - `fullName` por `full_name`\n",
    " \n",
    "2. Una de las columnas que hemos creado anteriormente, `laureate_portion`, es un string que representa una fracción. Nos interesa disponer del valor en formato numérico para crear una nueva columna `prize_amount_real` que represente el premio real recibido por cada laureado (al repartir el premio se divide económicamente en base a `laureate_portion`). Vamos a crear dos columnas más:\n",
    "\n",
    "  - `laureate_portion`: Vamos a sobreescribir esta columna, que es una fracción en formato string, para que sea un número decimal. Usar el código `from fractions import Fraction`, y aplicar un casting a `float` del `Fraction(texto)` para convertirlo a valor numérico\n",
    "\n",
    "```python\n",
    "from fractions import Fraction\n",
    "float(Fraction(\"1/3\"))\n",
    "```\n",
    "\n",
    "  - `prize_amount_real`: Esta columna representa el valor real ganado por cada laureado. Se calcula como `prize_amount` multiplicado por `laureate_portion`\n",
    "  \n",
    "### Implementar la AWS Lambda que ejecute la ETL silver\n",
    "\n",
    "3. La lambda debe y genere en el datalake un fichero parquet resultante de escribir el dataframe de pandas (path `silver/silver_laureates.parquet`).\n",
    "4. Al igual que antes utiliza la layer. Selecciona la arquitectura `x86_64` y la versión de python 3.8. Finalmente, debes seleccionar el **rol de Iam** existente llamado `LabRole`. También configuraremos el timeout de la lambda a 5 minutos y 2048 MB de RAM para asegurarnos que le da tiempo a ejecutarse correctamente.\n",
    "\n",
    "\n",
    "**Nota**: el resultado de aplicar la ETL debería ser similar al que mostramos a continuación."
   ]
  },
  {
   "cell_type": "markdown",
   "id": "6de5c02e-efbc-4586-a084-dd22a14dc40d",
   "metadata": {},
   "source": [
    "|    |   year | category   | categoryFullName             | dateAwarded   |   prize_amount |   prizeAmountAdjusted |   laureate_id |   laureate_portion | fullName        | file_name   | gender   | birth      |   prize_amount_real |\n",
    "|---:|-------:|:-----------|:-----------------------------|:--------------|---------------:|----------------------:|--------------:|-------------------:|:----------------|:------------|:---------|:-----------|--------------------:|\n",
    "|  0 |   2010 | Chemistry  | The Nobel Prize in Chemistry | 2010-10-06    |       10000000 |              11015580 |           851 |           0.333333 | Richard F. Heck | heck        | male     | 1931-08-15 |         3.33333e+06 |\n",
    "|  1 |   2010 | Chemistry  | The Nobel Prize in Chemistry | 2010-10-06    |       10000000 |              11015580 |           851 |           0.333333 | Richard F. Heck | heck        | male     | 1931-08-15 |         3.33333e+06 |"
   ]
  },
  {
   "cell_type": "code",
   "execution_count": 9,
   "id": "993d8622",
   "metadata": {},
   "outputs": [],
   "source": [
    "df_bronze_laureates = df_combined"
   ]
  },
  {
   "cell_type": "code",
   "execution_count": 10,
   "id": "be85feec",
   "metadata": {},
   "outputs": [
    {
     "data": {
      "text/html": [
       "<div>\n",
       "<style scoped>\n",
       "    .dataframe tbody tr th:only-of-type {\n",
       "        vertical-align: middle;\n",
       "    }\n",
       "\n",
       "    .dataframe tbody tr th {\n",
       "        vertical-align: top;\n",
       "    }\n",
       "\n",
       "    .dataframe thead th {\n",
       "        text-align: right;\n",
       "    }\n",
       "</style>\n",
       "<table border=\"1\" class=\"dataframe\">\n",
       "  <thead>\n",
       "    <tr style=\"text-align: right;\">\n",
       "      <th></th>\n",
       "      <th>year</th>\n",
       "      <th>category</th>\n",
       "      <th>category_full_name</th>\n",
       "      <th>date_awarded</th>\n",
       "      <th>prize_amount</th>\n",
       "      <th>prize_amount_adjusted</th>\n",
       "      <th>laureate_id</th>\n",
       "      <th>laureate_portion</th>\n",
       "      <th>id</th>\n",
       "      <th>full_name</th>\n",
       "      <th>file_name</th>\n",
       "      <th>gender</th>\n",
       "      <th>birth</th>\n",
       "      <th>prize_amount_real</th>\n",
       "    </tr>\n",
       "  </thead>\n",
       "  <tbody>\n",
       "    <tr>\n",
       "      <th>0</th>\n",
       "      <td>1901</td>\n",
       "      <td>Chemistry</td>\n",
       "      <td>The Nobel Prize in Chemistry</td>\n",
       "      <td>None</td>\n",
       "      <td>150782</td>\n",
       "      <td>8722510</td>\n",
       "      <td>160</td>\n",
       "      <td>1.000000</td>\n",
       "      <td>160</td>\n",
       "      <td>Jacobus Henricus van 't Hoff</td>\n",
       "      <td>hoff</td>\n",
       "      <td>male</td>\n",
       "      <td>1852-08-30</td>\n",
       "      <td>150782.0</td>\n",
       "    </tr>\n",
       "    <tr>\n",
       "      <th>1</th>\n",
       "      <td>1901</td>\n",
       "      <td>Literature</td>\n",
       "      <td>The Nobel Prize in Literature</td>\n",
       "      <td>None</td>\n",
       "      <td>150782</td>\n",
       "      <td>8722510</td>\n",
       "      <td>569</td>\n",
       "      <td>1.000000</td>\n",
       "      <td>569</td>\n",
       "      <td>Sully Prudhomme</td>\n",
       "      <td>prudhomme</td>\n",
       "      <td>male</td>\n",
       "      <td>1839-03-16</td>\n",
       "      <td>150782.0</td>\n",
       "    </tr>\n",
       "    <tr>\n",
       "      <th>2</th>\n",
       "      <td>1901</td>\n",
       "      <td>Peace</td>\n",
       "      <td>The Nobel Peace Prize</td>\n",
       "      <td>1901-12-10</td>\n",
       "      <td>150782</td>\n",
       "      <td>8722510</td>\n",
       "      <td>462</td>\n",
       "      <td>0.500000</td>\n",
       "      <td>462</td>\n",
       "      <td>Jean Henry Dunant</td>\n",
       "      <td>dunant</td>\n",
       "      <td>male</td>\n",
       "      <td>1828-05-08</td>\n",
       "      <td>75391.0</td>\n",
       "    </tr>\n",
       "    <tr>\n",
       "      <th>3</th>\n",
       "      <td>1901</td>\n",
       "      <td>Peace</td>\n",
       "      <td>The Nobel Peace Prize</td>\n",
       "      <td>1901-12-10</td>\n",
       "      <td>150782</td>\n",
       "      <td>8722510</td>\n",
       "      <td>463</td>\n",
       "      <td>0.500000</td>\n",
       "      <td>463</td>\n",
       "      <td>Frédéric Passy</td>\n",
       "      <td>passy</td>\n",
       "      <td>male</td>\n",
       "      <td>1822-05-20</td>\n",
       "      <td>75391.0</td>\n",
       "    </tr>\n",
       "    <tr>\n",
       "      <th>4</th>\n",
       "      <td>1901</td>\n",
       "      <td>Physics</td>\n",
       "      <td>The Nobel Prize in Physics</td>\n",
       "      <td>None</td>\n",
       "      <td>150782</td>\n",
       "      <td>8722510</td>\n",
       "      <td>1</td>\n",
       "      <td>1.000000</td>\n",
       "      <td>1</td>\n",
       "      <td>Wilhelm Conrad Röntgen</td>\n",
       "      <td>rontgen</td>\n",
       "      <td>male</td>\n",
       "      <td>1845-03-27</td>\n",
       "      <td>150782.0</td>\n",
       "    </tr>\n",
       "    <tr>\n",
       "      <th>...</th>\n",
       "      <td>...</td>\n",
       "      <td>...</td>\n",
       "      <td>...</td>\n",
       "      <td>...</td>\n",
       "      <td>...</td>\n",
       "      <td>...</td>\n",
       "      <td>...</td>\n",
       "      <td>...</td>\n",
       "      <td>...</td>\n",
       "      <td>...</td>\n",
       "      <td>...</td>\n",
       "      <td>...</td>\n",
       "      <td>...</td>\n",
       "      <td>...</td>\n",
       "    </tr>\n",
       "    <tr>\n",
       "      <th>961</th>\n",
       "      <td>2019</td>\n",
       "      <td>Physics</td>\n",
       "      <td>The Nobel Prize in Physics</td>\n",
       "      <td>2019-10-08</td>\n",
       "      <td>9000000</td>\n",
       "      <td>9000000</td>\n",
       "      <td>974</td>\n",
       "      <td>0.250000</td>\n",
       "      <td>974</td>\n",
       "      <td>Michel Mayor</td>\n",
       "      <td>mayor</td>\n",
       "      <td>male</td>\n",
       "      <td>1942-01-12</td>\n",
       "      <td>2250000.0</td>\n",
       "    </tr>\n",
       "    <tr>\n",
       "      <th>962</th>\n",
       "      <td>2019</td>\n",
       "      <td>Physics</td>\n",
       "      <td>The Nobel Prize in Physics</td>\n",
       "      <td>2019-10-08</td>\n",
       "      <td>9000000</td>\n",
       "      <td>9000000</td>\n",
       "      <td>975</td>\n",
       "      <td>0.250000</td>\n",
       "      <td>975</td>\n",
       "      <td>Didier Queloz</td>\n",
       "      <td>queloz</td>\n",
       "      <td>male</td>\n",
       "      <td>1966-02-23</td>\n",
       "      <td>2250000.0</td>\n",
       "    </tr>\n",
       "    <tr>\n",
       "      <th>963</th>\n",
       "      <td>2019</td>\n",
       "      <td>Physiology or Medicine</td>\n",
       "      <td>The Nobel Prize in Physiology or Medicine</td>\n",
       "      <td>2019-10-07</td>\n",
       "      <td>9000000</td>\n",
       "      <td>9000000</td>\n",
       "      <td>970</td>\n",
       "      <td>0.333333</td>\n",
       "      <td>970</td>\n",
       "      <td>William G. Kaelin Jr</td>\n",
       "      <td>kaelin</td>\n",
       "      <td>male</td>\n",
       "      <td>1957-11-23</td>\n",
       "      <td>3000000.0</td>\n",
       "    </tr>\n",
       "    <tr>\n",
       "      <th>964</th>\n",
       "      <td>2019</td>\n",
       "      <td>Physiology or Medicine</td>\n",
       "      <td>The Nobel Prize in Physiology or Medicine</td>\n",
       "      <td>2019-10-07</td>\n",
       "      <td>9000000</td>\n",
       "      <td>9000000</td>\n",
       "      <td>971</td>\n",
       "      <td>0.333333</td>\n",
       "      <td>971</td>\n",
       "      <td>Sir Peter J. Ratcliffe</td>\n",
       "      <td>ratcliffe</td>\n",
       "      <td>male</td>\n",
       "      <td>1954-05-14</td>\n",
       "      <td>3000000.0</td>\n",
       "    </tr>\n",
       "    <tr>\n",
       "      <th>965</th>\n",
       "      <td>2019</td>\n",
       "      <td>Physiology or Medicine</td>\n",
       "      <td>The Nobel Prize in Physiology or Medicine</td>\n",
       "      <td>2019-10-07</td>\n",
       "      <td>9000000</td>\n",
       "      <td>9000000</td>\n",
       "      <td>972</td>\n",
       "      <td>0.333333</td>\n",
       "      <td>972</td>\n",
       "      <td>Gregg L. Semenza</td>\n",
       "      <td>semenza</td>\n",
       "      <td>male</td>\n",
       "      <td>1956-07-12</td>\n",
       "      <td>3000000.0</td>\n",
       "    </tr>\n",
       "  </tbody>\n",
       "</table>\n",
       "<p>966 rows × 14 columns</p>\n",
       "</div>"
      ],
      "text/plain": [
       "     year                category                         category_full_name  \\\n",
       "0    1901               Chemistry               The Nobel Prize in Chemistry   \n",
       "1    1901              Literature              The Nobel Prize in Literature   \n",
       "2    1901                   Peace                      The Nobel Peace Prize   \n",
       "3    1901                   Peace                      The Nobel Peace Prize   \n",
       "4    1901                 Physics                 The Nobel Prize in Physics   \n",
       "..    ...                     ...                                        ...   \n",
       "961  2019                 Physics                 The Nobel Prize in Physics   \n",
       "962  2019                 Physics                 The Nobel Prize in Physics   \n",
       "963  2019  Physiology or Medicine  The Nobel Prize in Physiology or Medicine   \n",
       "964  2019  Physiology or Medicine  The Nobel Prize in Physiology or Medicine   \n",
       "965  2019  Physiology or Medicine  The Nobel Prize in Physiology or Medicine   \n",
       "\n",
       "    date_awarded  prize_amount  prize_amount_adjusted  laureate_id  \\\n",
       "0           None        150782                8722510          160   \n",
       "1           None        150782                8722510          569   \n",
       "2     1901-12-10        150782                8722510          462   \n",
       "3     1901-12-10        150782                8722510          463   \n",
       "4           None        150782                8722510            1   \n",
       "..           ...           ...                    ...          ...   \n",
       "961   2019-10-08       9000000                9000000          974   \n",
       "962   2019-10-08       9000000                9000000          975   \n",
       "963   2019-10-07       9000000                9000000          970   \n",
       "964   2019-10-07       9000000                9000000          971   \n",
       "965   2019-10-07       9000000                9000000          972   \n",
       "\n",
       "     laureate_portion   id                     full_name  file_name gender  \\\n",
       "0            1.000000  160  Jacobus Henricus van 't Hoff       hoff   male   \n",
       "1            1.000000  569               Sully Prudhomme  prudhomme   male   \n",
       "2            0.500000  462             Jean Henry Dunant     dunant   male   \n",
       "3            0.500000  463                Frédéric Passy      passy   male   \n",
       "4            1.000000    1        Wilhelm Conrad Röntgen    rontgen   male   \n",
       "..                ...  ...                           ...        ...    ...   \n",
       "961          0.250000  974                  Michel Mayor      mayor   male   \n",
       "962          0.250000  975                 Didier Queloz     queloz   male   \n",
       "963          0.333333  970          William G. Kaelin Jr     kaelin   male   \n",
       "964          0.333333  971        Sir Peter J. Ratcliffe  ratcliffe   male   \n",
       "965          0.333333  972              Gregg L. Semenza    semenza   male   \n",
       "\n",
       "          birth  prize_amount_real  \n",
       "0    1852-08-30           150782.0  \n",
       "1    1839-03-16           150782.0  \n",
       "2    1828-05-08            75391.0  \n",
       "3    1822-05-20            75391.0  \n",
       "4    1845-03-27           150782.0  \n",
       "..          ...                ...  \n",
       "961  1942-01-12          2250000.0  \n",
       "962  1966-02-23          2250000.0  \n",
       "963  1957-11-23          3000000.0  \n",
       "964  1954-05-14          3000000.0  \n",
       "965  1956-07-12          3000000.0  \n",
       "\n",
       "[966 rows x 14 columns]"
      ]
     },
     "execution_count": 10,
     "metadata": {},
     "output_type": "execute_result"
    }
   ],
   "source": [
    "import json\n",
    "import pandas as pd\n",
    "from fractions import Fraction\n",
    "\n",
    "BUCKET_NAME = \"jlmendo11-cs13datalake\"\n",
    "BRONZE_PATH = f\"s3://{BUCKET_NAME}/bronze/bronze_laureates.parquet\"\n",
    "SILVER_OUTPUT_PATH = f\"s3://{BUCKET_NAME}/silver/silver_laureates.parquet\"\n",
    "\n",
    "# Process\n",
    "df_bronze_laureates = df_bronze_laureates.rename(columns={\n",
    "    'prizeAmount': 'prize_amount',\n",
    "    'awardYear': 'year',\n",
    "    'fileName': 'file_name',\n",
    "    'laureates_id': 'laureate_id',\n",
    "    'laureates_portion': 'laureate_portion',\n",
    "    'categoryFullName': 'category_full_name',\n",
    "    'dateAwarded': 'date_awarded',\n",
    "    'prizeAmountAdjusted': 'prize_amount_adjusted',\n",
    "    'fullName': 'full_name'\n",
    "})\n",
    "df_bronze_laureates['laureate_portion'] = df_bronze_laureates['laureate_portion'].apply(lambda x: float(Fraction(x)))\n",
    "df_bronze_laureates['prize_amount_real'] = df_bronze_laureates['prize_amount'] * df_bronze_laureates['laureate_portion']\n",
    "\n",
    "df_bronze_laureates"
   ]
  },
  {
   "cell_type": "code",
   "execution_count": 11,
   "id": "bda300c2-380a-485e-b5f0-b3185188559a",
   "metadata": {},
   "outputs": [],
   "source": [
    "# Completar: introducir el código de la lambda aquí\n",
    "import json\n",
    "import pandas as pd\n",
    "from fractions import Fraction\n",
    "\n",
    "BUCKET_NAME = \"jlmendo11-cs13datalake\"\n",
    "BRONZE_PATH = f\"s3://{BUCKET_NAME}/bronze/bronze_laureates.parquet\"\n",
    "SILVER_OUTPUT_PATH = f\"s3://{BUCKET_NAME}/silver/silver_laureates.parquet\"\n",
    "\n",
    "def process_df_bronze_laureates(df_bronze_laureates):\n",
    "    # Process\n",
    "    df_bronze_laureates = df_bronze_laureates.rename(columns={\n",
    "        'prizeAmount': 'prize_amount',\n",
    "        'awardYear': 'year',\n",
    "        'fileName': 'file_name',\n",
    "        'laureates_id': 'laureate_id',\n",
    "        'laureates_portion': 'laureate_portion',\n",
    "        'categoryFullName': 'category_full_name',\n",
    "        'dateAwarded': 'date_awarded',\n",
    "        'prizeAmountAdjusted': 'prize_amount_adjusted',\n",
    "        'fullName': 'full_name'\n",
    "    })\n",
    "    df_bronze_laureates['laureate_portion'] = df_bronze_laureates['laureate_portion'].apply(lambda x: float(Fraction(x)))\n",
    "    df_bronze_laureates['prize_amount_real'] = df_bronze_laureates['prize_amount'] * df_bronze_laureates['laureate_portion']\n",
    "\n",
    "    return df_bronze_laureates\n",
    "\n",
    "\n",
    "def lambda_handler(event, context):\n",
    "    try:\n",
    "        print(\"Reading df_bronze_laureates from Parquet...\")\n",
    "        df_bronze_laureates = pd.read_parquet(BRONZE_PATH)\n",
    "\n",
    "        print(\"Processing df_bronze_laureates...\")\n",
    "        df_processed = process_df_bronze_laureates(df_bronze_laureates)\n",
    "\n",
    "        print(\"Saving processed DataFrame to Parquet...\")\n",
    "        df_processed.to_parquet(SILVER_OUTPUT_PATH)\n",
    "        print(f\"Saved in {SILVER_OUTPUT_PATH}\")\n",
    "        \n",
    "        return {\n",
    "            'statusCode': 200,\n",
    "            'body': json.dumps(\"Data processed and saved successfully\")\n",
    "        }\n",
    "    except Exception as e:\n",
    "        return {\n",
    "            'statusCode': 400,\n",
    "            'body': json.dumps(f\"Error processing data: {str(e)}\")\n",
    "        }\n"
   ]
  },
  {
   "cell_type": "markdown",
   "id": "5a5dab24-0cec-4f39-ab18-59231727cc9e",
   "metadata": {},
   "source": [
    "## Ejercicio 6. Orquestar con prefect core\n",
    "\n",
    "Ahora vamos a escribir un flujo con prefect para que:\n",
    "\n",
    "1. Exporte los datos del año anterior invocando la lambda `extractNobelPrizes` con lun parámetro indicando la categoría a exportar (`che`, `eco`, `lit`, `pea`, `phy` o `med`). Es decir, se realizarán 6 invocaciones, una por categoría. Para obtener en el año anterior obtendremos del contexto la fecha actual (`prefect.runtime.flow_run.scheduled_start_time.year`), que es un objeto `pendulum.datetime.DateTime`, accederemos al campo `year` y le restaremos 1.\n",
    "2. Por cada invocación de la lambda `extractNobelPrizes` se realizarán `N` invocaciones de la lambda `extractLaureate`, usando la funcionalidad de `map` para que por cada id de laureado devuelto por la lambda `extractNobelPrizes` (lista de ids de laureados) se ejecute la lambda `extractLaureate` con el parámetro `laureateId `correspondiente.\n",
    "3. Tras extraer todos los datos del año anterior, ahora deberemos ejecutar la ETL bronze (lambda `bronze_laureates`).\n",
    "4. Finalmente, deberemos ejecutar la ETL bronze (lambda `bronze_laureates`).\n",
    "\n",
    "**Nota**: para invocar las AWS Lambda usaremos boto3. Podemos ver la documentación en este [link](https://boto3.amazonaws.com/v1/documentation/api/latest/reference/services/lambda.html#Lambda.Client.invoke).\n",
    "\n",
    "**Tip**: recuerda que puedes ejecutar tareas de prefect accediendo al atributo `fn` y los flujos ejecutándolos como si fueran funciones. Si necesitas establecer un contexto específico, como es el caso de la tarea `extract_nobel_prizes` con respecto a la fecha actual, puedes usar variables de entorno tal y como se indica en la [documentación oficial](https://docs.prefect.io/latest/concepts/runtime-context/).\n",
    "\n",
    "```python\n",
    "import os\n",
    "os.environ[\"PREFECT__RUNTIME__FLOW_RUN__SCHEDULED_START_TIME\"] = \"2020-01-01 00:00:00\"\n",
    "# si queremos deshacer el cambio, basta con borrar esta variable de entorno\n",
    "# del os.environ[\"PREFECT__RUNTIME__FLOW_RUN__SCHEDULED_START_TIME\"] \n",
    "```\n",
    "\n",
    "En este caso el elemento `prefect.runtime.flow_run.scheduled_start_time` será un string. Podemos usar el siguiente código en nuestra tarea de `extract_nobel_prizes` para que si estamos mockeando el valor de `scheduled_start_time` y es un string convertirlo a `DateTime`, y si no dejarlo como está:\n",
    "\n",
    "```python\n",
    "if isinstance(prefect.runtime.flow_run.scheduled_start_time, str):\n",
    "    year = pendulum.from_format(prefect.runtime.flow_run.scheduled_start_time, \"YYYY-MM-DD HH:mm:ss\").year\n",
    "else:\n",
    "    year = prefect.runtime.flow_run.scheduled_start_time.year\n",
    "```"
   ]
  },
  {
   "cell_type": "code",
   "execution_count": 12,
   "id": "4693687e",
   "metadata": {},
   "outputs": [],
   "source": [
    "import os\n",
    "os.environ[\"PREFECT__RUNTIME__FLOW_RUN__SCHEDULED_START_TIME\"] = \"2020-01-01 00:00:00\""
   ]
  },
  {
   "cell_type": "code",
   "execution_count": 13,
   "id": "fa5f947b",
   "metadata": {},
   "outputs": [],
   "source": [
    "import prefect\n",
    "from prefect import flow, task, unmapped\n",
    "import boto3\n",
    "import pendulum\n",
    "import json \n",
    "import ast\n",
    "\n",
    "# Set up AWS Lambda client\n",
    "lambda_client = boto3.client('lambda')\n",
    "\n",
    "@task(name='t_extract_nobel_prizes')\n",
    "def extract_nobel_prizes(category, year):\n",
    "    print(f\"extractNobelPrizes category={category}, year={year}\")\n",
    "    payload = json.dumps({'category' : category, 'year': year})\n",
    "    response = lambda_client.invoke(FunctionName='extractNobelPrizes', Payload=payload)\n",
    "    response_body = json.loads(response['Payload'].read().decode('utf-8'))\n",
    "    print(f\"extractNobelPrizes response status code: {response_body['statusCode']}\")\n",
    "    print(response_body)\n",
    "    laureate_ids = ast.literal_eval(response_body['body'])\n",
    "    return laureate_ids\n",
    "\n",
    "@task(name='t_extract_laureate')\n",
    "def extract_laureate(laureate_id_list):\n",
    "    print(f'extractLaureate laureate_id_list={laureate_id_list}')\n",
    "    for laureate_id in laureate_id_list:\n",
    "        print(f'extractLaureate laureate_id={laureate_id}')\n",
    "        payload = json.dumps({'laureateID' : laureate_id})\n",
    "        response = lambda_client.invoke(FunctionName='extractLaureate', Payload=payload)\n",
    "        response_body = json.loads(response['Payload'].read().decode('utf-8'))\n",
    "        print(f\"extractLaureate response status code: {response_body['statusCode']}\")\n",
    "        print(response_body)\n",
    "    return 1\n",
    "\n",
    "@task(name='t_bronze_laureates')\n",
    "def bronze_laureates():\n",
    "    # Invoke bronze_laureates Lambda function\n",
    "    print(\"Beginning getBronzeLaureates\")\n",
    "    response = lambda_client.invoke(FunctionName='getBronzeLaureates', Payload='{}')\n",
    "    response_body = json.loads(response['Payload'].read().decode('utf-8'))\n",
    "    print(f\"getBronzeLaureates response status code: {response_body['statusCode']}\")\n",
    "    print(response_body)\n",
    "    return response\n",
    "\n",
    "@flow(name='f_nobel_prizes_etl')\n",
    "def nobel_prizes_etl(log_prints=True):\n",
    "    # Prepare etl\n",
    "    if isinstance(prefect.runtime.flow_run.scheduled_start_time, str):\n",
    "        year = pendulum.from_format(prefect.runtime.flow_run.scheduled_start_time, \"YYYY-MM-DD HH:mm:ss\").year\n",
    "    else:\n",
    "        year = prefect.runtime.flow_run.scheduled_start_time.year\n",
    "    previous_year = year - 1\n",
    "    print(f\"Taking previous_year as {previous_year}\")\n",
    "    categories = [\"che\", \"eco\", \"lit\", \"pea\", \"phy\", \"med\"]\n",
    "    \n",
    "    # Extract prizes\n",
    "    extracted_prizes = extract_nobel_prizes.map(categories, unmapped(previous_year))\n",
    "\n",
    "    # Extract laureate data for each Nobel Prize\n",
    "    extracted_laureates = extract_laureate.map(extracted_prizes)\n",
    "\n",
    "    # Run bronze_laureates ETL\n",
    "    bronze_task = bronze_laureates(wait_for=[extracted_prizes, extracted_laureates])\n",
    "\n",
    "# Set up and run the flow\n",
    "# flow.executor = LocalExecutor()\n",
    "# flow.run()\n"
   ]
  },
  {
   "cell_type": "code",
   "execution_count": 14,
   "id": "f95dc438",
   "metadata": {
    "scrolled": true
   },
   "outputs": [
    {
     "data": {
      "text/html": [
       "<pre style=\"white-space:pre;overflow-x:auto;line-height:normal;font-family:Menlo,'DejaVu Sans Mono',consolas,'Courier New',monospace\">22:36:18.168 | <span style=\"color: #008080; text-decoration-color: #008080\">INFO</span>    | prefect.engine - Created flow run<span style=\"color: #800080; text-decoration-color: #800080\"> 'attractive-silkworm'</span> for flow<span style=\"color: #800080; text-decoration-color: #800080; font-weight: bold\"> 'f_nobel_prizes_etl'</span>\n",
       "</pre>\n"
      ],
      "text/plain": [
       "22:36:18.168 | \u001b[36mINFO\u001b[0m    | prefect.engine - Created flow run\u001b[35m 'attractive-silkworm'\u001b[0m for flow\u001b[1;35m 'f_nobel_prizes_etl'\u001b[0m\n"
      ]
     },
     "metadata": {},
     "output_type": "display_data"
    },
    {
     "name": "stdout",
     "output_type": "stream",
     "text": [
      "Taking previous_year as 2019\n"
     ]
    },
    {
     "data": {
      "text/html": [
       "<pre style=\"white-space:pre;overflow-x:auto;line-height:normal;font-family:Menlo,'DejaVu Sans Mono',consolas,'Courier New',monospace\">22:36:19.261 | <span style=\"color: #008080; text-decoration-color: #008080\">INFO</span>    | Flow run<span style=\"color: #800080; text-decoration-color: #800080\"> 'attractive-silkworm'</span> - Created task run 't_extract_nobel_prizes-3' for task 't_extract_nobel_prizes'\n",
       "</pre>\n"
      ],
      "text/plain": [
       "22:36:19.261 | \u001b[36mINFO\u001b[0m    | Flow run\u001b[35m 'attractive-silkworm'\u001b[0m - Created task run 't_extract_nobel_prizes-3' for task 't_extract_nobel_prizes'\n"
      ]
     },
     "metadata": {},
     "output_type": "display_data"
    },
    {
     "data": {
      "text/html": [
       "<pre style=\"white-space:pre;overflow-x:auto;line-height:normal;font-family:Menlo,'DejaVu Sans Mono',consolas,'Courier New',monospace\">22:36:19.269 | <span style=\"color: #008080; text-decoration-color: #008080\">INFO</span>    | Flow run<span style=\"color: #800080; text-decoration-color: #800080\"> 'attractive-silkworm'</span> - Submitted task run 't_extract_nobel_prizes-3' for execution.\n",
       "</pre>\n"
      ],
      "text/plain": [
       "22:36:19.269 | \u001b[36mINFO\u001b[0m    | Flow run\u001b[35m 'attractive-silkworm'\u001b[0m - Submitted task run 't_extract_nobel_prizes-3' for execution.\n"
      ]
     },
     "metadata": {},
     "output_type": "display_data"
    },
    {
     "data": {
      "text/html": [
       "<pre style=\"white-space:pre;overflow-x:auto;line-height:normal;font-family:Menlo,'DejaVu Sans Mono',consolas,'Courier New',monospace\">22:36:19.445 | <span style=\"color: #008080; text-decoration-color: #008080\">INFO</span>    | Flow run<span style=\"color: #800080; text-decoration-color: #800080\"> 'attractive-silkworm'</span> - Created task run 't_extract_nobel_prizes-1' for task 't_extract_nobel_prizes'\n",
       "</pre>\n"
      ],
      "text/plain": [
       "22:36:19.445 | \u001b[36mINFO\u001b[0m    | Flow run\u001b[35m 'attractive-silkworm'\u001b[0m - Created task run 't_extract_nobel_prizes-1' for task 't_extract_nobel_prizes'\n"
      ]
     },
     "metadata": {},
     "output_type": "display_data"
    },
    {
     "data": {
      "text/html": [
       "<pre style=\"white-space:pre;overflow-x:auto;line-height:normal;font-family:Menlo,'DejaVu Sans Mono',consolas,'Courier New',monospace\">22:36:19.454 | <span style=\"color: #008080; text-decoration-color: #008080\">INFO</span>    | Flow run<span style=\"color: #800080; text-decoration-color: #800080\"> 'attractive-silkworm'</span> - Submitted task run 't_extract_nobel_prizes-1' for execution.\n",
       "</pre>\n"
      ],
      "text/plain": [
       "22:36:19.454 | \u001b[36mINFO\u001b[0m    | Flow run\u001b[35m 'attractive-silkworm'\u001b[0m - Submitted task run 't_extract_nobel_prizes-1' for execution.\n"
      ]
     },
     "metadata": {},
     "output_type": "display_data"
    },
    {
     "data": {
      "text/html": [
       "<pre style=\"white-space:pre;overflow-x:auto;line-height:normal;font-family:Menlo,'DejaVu Sans Mono',consolas,'Courier New',monospace\">22:36:19.766 | <span style=\"color: #008080; text-decoration-color: #008080\">INFO</span>    | Flow run<span style=\"color: #800080; text-decoration-color: #800080\"> 'attractive-silkworm'</span> - Created task run 't_extract_nobel_prizes-4' for task 't_extract_nobel_prizes'\n",
       "</pre>\n"
      ],
      "text/plain": [
       "22:36:19.766 | \u001b[36mINFO\u001b[0m    | Flow run\u001b[35m 'attractive-silkworm'\u001b[0m - Created task run 't_extract_nobel_prizes-4' for task 't_extract_nobel_prizes'\n"
      ]
     },
     "metadata": {},
     "output_type": "display_data"
    },
    {
     "data": {
      "text/html": [
       "<pre style=\"white-space:pre;overflow-x:auto;line-height:normal;font-family:Menlo,'DejaVu Sans Mono',consolas,'Courier New',monospace\">22:36:19.776 | <span style=\"color: #008080; text-decoration-color: #008080\">INFO</span>    | Flow run<span style=\"color: #800080; text-decoration-color: #800080\"> 'attractive-silkworm'</span> - Submitted task run 't_extract_nobel_prizes-4' for execution.\n",
       "</pre>\n"
      ],
      "text/plain": [
       "22:36:19.776 | \u001b[36mINFO\u001b[0m    | Flow run\u001b[35m 'attractive-silkworm'\u001b[0m - Submitted task run 't_extract_nobel_prizes-4' for execution.\n"
      ]
     },
     "metadata": {},
     "output_type": "display_data"
    },
    {
     "data": {
      "text/html": [
       "<pre style=\"white-space:pre;overflow-x:auto;line-height:normal;font-family:Menlo,'DejaVu Sans Mono',consolas,'Courier New',monospace\">22:36:19.992 | <span style=\"color: #008080; text-decoration-color: #008080\">INFO</span>    | Flow run<span style=\"color: #800080; text-decoration-color: #800080\"> 'attractive-silkworm'</span> - Created task run 't_extract_laureate-3' for task 't_extract_laureate'\n",
       "</pre>\n"
      ],
      "text/plain": [
       "22:36:19.992 | \u001b[36mINFO\u001b[0m    | Flow run\u001b[35m 'attractive-silkworm'\u001b[0m - Created task run 't_extract_laureate-3' for task 't_extract_laureate'\n"
      ]
     },
     "metadata": {},
     "output_type": "display_data"
    },
    {
     "data": {
      "text/html": [
       "<pre style=\"white-space:pre;overflow-x:auto;line-height:normal;font-family:Menlo,'DejaVu Sans Mono',consolas,'Courier New',monospace\">22:36:20.003 | <span style=\"color: #008080; text-decoration-color: #008080\">INFO</span>    | Flow run<span style=\"color: #800080; text-decoration-color: #800080\"> 'attractive-silkworm'</span> - Submitted task run 't_extract_laureate-3' for execution.\n",
       "</pre>\n"
      ],
      "text/plain": [
       "22:36:20.003 | \u001b[36mINFO\u001b[0m    | Flow run\u001b[35m 'attractive-silkworm'\u001b[0m - Submitted task run 't_extract_laureate-3' for execution.\n"
      ]
     },
     "metadata": {},
     "output_type": "display_data"
    },
    {
     "data": {
      "text/html": [
       "<pre style=\"white-space:pre;overflow-x:auto;line-height:normal;font-family:Menlo,'DejaVu Sans Mono',consolas,'Courier New',monospace\">22:36:20.231 | <span style=\"color: #008080; text-decoration-color: #008080\">INFO</span>    | Flow run<span style=\"color: #800080; text-decoration-color: #800080\"> 'attractive-silkworm'</span> - Created task run 't_extract_nobel_prizes-5' for task 't_extract_nobel_prizes'\n",
       "</pre>\n"
      ],
      "text/plain": [
       "22:36:20.231 | \u001b[36mINFO\u001b[0m    | Flow run\u001b[35m 'attractive-silkworm'\u001b[0m - Created task run 't_extract_nobel_prizes-5' for task 't_extract_nobel_prizes'\n"
      ]
     },
     "metadata": {},
     "output_type": "display_data"
    },
    {
     "data": {
      "text/html": [
       "<pre style=\"white-space:pre;overflow-x:auto;line-height:normal;font-family:Menlo,'DejaVu Sans Mono',consolas,'Courier New',monospace\">22:36:20.236 | <span style=\"color: #008080; text-decoration-color: #008080\">INFO</span>    | Flow run<span style=\"color: #800080; text-decoration-color: #800080\"> 'attractive-silkworm'</span> - Submitted task run 't_extract_nobel_prizes-5' for execution.\n",
       "</pre>\n"
      ],
      "text/plain": [
       "22:36:20.236 | \u001b[36mINFO\u001b[0m    | Flow run\u001b[35m 'attractive-silkworm'\u001b[0m - Submitted task run 't_extract_nobel_prizes-5' for execution.\n"
      ]
     },
     "metadata": {},
     "output_type": "display_data"
    },
    {
     "data": {
      "text/html": [
       "<pre style=\"white-space:pre;overflow-x:auto;line-height:normal;font-family:Menlo,'DejaVu Sans Mono',consolas,'Courier New',monospace\">22:36:20.542 | <span style=\"color: #008080; text-decoration-color: #008080\">INFO</span>    | Flow run<span style=\"color: #800080; text-decoration-color: #800080\"> 'attractive-silkworm'</span> - Created task run 't_extract_laureate-4' for task 't_extract_laureate'\n",
       "</pre>\n"
      ],
      "text/plain": [
       "22:36:20.542 | \u001b[36mINFO\u001b[0m    | Flow run\u001b[35m 'attractive-silkworm'\u001b[0m - Created task run 't_extract_laureate-4' for task 't_extract_laureate'\n"
      ]
     },
     "metadata": {},
     "output_type": "display_data"
    },
    {
     "data": {
      "text/html": [
       "<pre style=\"white-space:pre;overflow-x:auto;line-height:normal;font-family:Menlo,'DejaVu Sans Mono',consolas,'Courier New',monospace\">22:36:20.555 | <span style=\"color: #008080; text-decoration-color: #008080\">INFO</span>    | Flow run<span style=\"color: #800080; text-decoration-color: #800080\"> 'attractive-silkworm'</span> - Submitted task run 't_extract_laureate-4' for execution.\n",
       "</pre>\n"
      ],
      "text/plain": [
       "22:36:20.555 | \u001b[36mINFO\u001b[0m    | Flow run\u001b[35m 'attractive-silkworm'\u001b[0m - Submitted task run 't_extract_laureate-4' for execution.\n"
      ]
     },
     "metadata": {},
     "output_type": "display_data"
    },
    {
     "name": "stdout",
     "output_type": "stream",
     "text": [
      "extractNobelPrizes category=eco, year=2019\n"
     ]
    },
    {
     "data": {
      "text/html": [
       "<pre style=\"white-space:pre;overflow-x:auto;line-height:normal;font-family:Menlo,'DejaVu Sans Mono',consolas,'Courier New',monospace\">22:36:21.556 | <span style=\"color: #008080; text-decoration-color: #008080\">INFO</span>    | Flow run<span style=\"color: #800080; text-decoration-color: #800080\"> 'attractive-silkworm'</span> - Created task run 't_extract_nobel_prizes-0' for task 't_extract_nobel_prizes'\n",
       "</pre>\n"
      ],
      "text/plain": [
       "22:36:21.556 | \u001b[36mINFO\u001b[0m    | Flow run\u001b[35m 'attractive-silkworm'\u001b[0m - Created task run 't_extract_nobel_prizes-0' for task 't_extract_nobel_prizes'\n"
      ]
     },
     "metadata": {},
     "output_type": "display_data"
    },
    {
     "data": {
      "text/html": [
       "<pre style=\"white-space:pre;overflow-x:auto;line-height:normal;font-family:Menlo,'DejaVu Sans Mono',consolas,'Courier New',monospace\">22:36:21.575 | <span style=\"color: #008080; text-decoration-color: #008080\">INFO</span>    | Flow run<span style=\"color: #800080; text-decoration-color: #800080\"> 'attractive-silkworm'</span> - Submitted task run 't_extract_nobel_prizes-0' for execution.\n",
       "</pre>\n"
      ],
      "text/plain": [
       "22:36:21.575 | \u001b[36mINFO\u001b[0m    | Flow run\u001b[35m 'attractive-silkworm'\u001b[0m - Submitted task run 't_extract_nobel_prizes-0' for execution.\n"
      ]
     },
     "metadata": {},
     "output_type": "display_data"
    },
    {
     "name": "stdout",
     "output_type": "stream",
     "text": [
      "extractNobelPrizes category=phy, year=2019\n",
      "extractNobelPrizes response status code: 200\n",
      "{'statusCode': 200, 'body': '[\"982\", \"983\", \"984\"]'}\n",
      "extractNobelPrizes category=med, year=2019\n"
     ]
    },
    {
     "data": {
      "text/html": [
       "<pre style=\"white-space:pre;overflow-x:auto;line-height:normal;font-family:Menlo,'DejaVu Sans Mono',consolas,'Courier New',monospace\">22:36:22.458 | <span style=\"color: #008080; text-decoration-color: #008080\">INFO</span>    | Flow run<span style=\"color: #800080; text-decoration-color: #800080\"> 'attractive-silkworm'</span> - Created task run 't_extract_nobel_prizes-2' for task 't_extract_nobel_prizes'\n",
       "</pre>\n"
      ],
      "text/plain": [
       "22:36:22.458 | \u001b[36mINFO\u001b[0m    | Flow run\u001b[35m 'attractive-silkworm'\u001b[0m - Created task run 't_extract_nobel_prizes-2' for task 't_extract_nobel_prizes'\n"
      ]
     },
     "metadata": {},
     "output_type": "display_data"
    },
    {
     "data": {
      "text/html": [
       "<pre style=\"white-space:pre;overflow-x:auto;line-height:normal;font-family:Menlo,'DejaVu Sans Mono',consolas,'Courier New',monospace\">22:36:22.467 | <span style=\"color: #008080; text-decoration-color: #008080\">INFO</span>    | Flow run<span style=\"color: #800080; text-decoration-color: #800080\"> 'attractive-silkworm'</span> - Submitted task run 't_extract_nobel_prizes-2' for execution.\n",
       "</pre>\n"
      ],
      "text/plain": [
       "22:36:22.467 | \u001b[36mINFO\u001b[0m    | Flow run\u001b[35m 'attractive-silkworm'\u001b[0m - Submitted task run 't_extract_nobel_prizes-2' for execution.\n"
      ]
     },
     "metadata": {},
     "output_type": "display_data"
    },
    {
     "name": "stdout",
     "output_type": "stream",
     "text": [
      "extractNobelPrizes response status code: 200\n",
      "{'statusCode': 200, 'body': '[\"973\", \"974\", \"975\"]'}\n",
      "extractNobelPrizes response status code: 200\n",
      "{'statusCode': 200, 'body': '[\"970\", \"971\", \"972\"]'}\n",
      "extractNobelPrizes category=pea, year=2019\n"
     ]
    },
    {
     "data": {
      "text/html": [
       "<pre style=\"white-space:pre;overflow-x:auto;line-height:normal;font-family:Menlo,'DejaVu Sans Mono',consolas,'Courier New',monospace\">22:36:22.839 | <span style=\"color: #008080; text-decoration-color: #008080\">INFO</span>    | Flow run<span style=\"color: #800080; text-decoration-color: #800080\"> 'attractive-silkworm'</span> - Created task run 't_extract_laureate-5' for task 't_extract_laureate'\n",
       "</pre>\n"
      ],
      "text/plain": [
       "22:36:22.839 | \u001b[36mINFO\u001b[0m    | Flow run\u001b[35m 'attractive-silkworm'\u001b[0m - Created task run 't_extract_laureate-5' for task 't_extract_laureate'\n"
      ]
     },
     "metadata": {},
     "output_type": "display_data"
    },
    {
     "data": {
      "text/html": [
       "<pre style=\"white-space:pre;overflow-x:auto;line-height:normal;font-family:Menlo,'DejaVu Sans Mono',consolas,'Courier New',monospace\">22:36:22.857 | <span style=\"color: #008080; text-decoration-color: #008080\">INFO</span>    | Flow run<span style=\"color: #800080; text-decoration-color: #800080\"> 'attractive-silkworm'</span> - Submitted task run 't_extract_laureate-5' for execution.\n",
       "</pre>\n"
      ],
      "text/plain": [
       "22:36:22.857 | \u001b[36mINFO\u001b[0m    | Flow run\u001b[35m 'attractive-silkworm'\u001b[0m - Submitted task run 't_extract_laureate-5' for execution.\n"
      ]
     },
     "metadata": {},
     "output_type": "display_data"
    },
    {
     "name": "stdout",
     "output_type": "stream",
     "text": [
      "extractNobelPrizes response status code: 200\n",
      "{'statusCode': 200, 'body': '[\"981\"]'}\n"
     ]
    },
    {
     "data": {
      "text/html": [
       "<pre style=\"white-space:pre;overflow-x:auto;line-height:normal;font-family:Menlo,'DejaVu Sans Mono',consolas,'Courier New',monospace\">22:36:23.378 | <span style=\"color: #008080; text-decoration-color: #008080\">INFO</span>    | Task run 't_extract_nobel_prizes-1' - Finished in state <span style=\"color: #008000; text-decoration-color: #008000\">Completed</span>()\n",
       "</pre>\n"
      ],
      "text/plain": [
       "22:36:23.378 | \u001b[36mINFO\u001b[0m    | Task run 't_extract_nobel_prizes-1' - Finished in state \u001b[32mCompleted\u001b[0m()\n"
      ]
     },
     "metadata": {},
     "output_type": "display_data"
    },
    {
     "name": "stdout",
     "output_type": "stream",
     "text": [
      "extractNobelPrizes category=lit, year=2019\n",
      "extractNobelPrizes response status code: 200\n",
      "{'statusCode': 200, 'body': '[\"980\"]'}\n",
      "extractNobelPrizes category=che, year=2019\n"
     ]
    },
    {
     "data": {
      "text/html": [
       "<pre style=\"white-space:pre;overflow-x:auto;line-height:normal;font-family:Menlo,'DejaVu Sans Mono',consolas,'Courier New',monospace\">22:36:24.056 | <span style=\"color: #008080; text-decoration-color: #008080\">INFO</span>    | Task run 't_extract_nobel_prizes-4' - Finished in state <span style=\"color: #008000; text-decoration-color: #008000\">Completed</span>()\n",
       "</pre>\n"
      ],
      "text/plain": [
       "22:36:24.056 | \u001b[36mINFO\u001b[0m    | Task run 't_extract_nobel_prizes-4' - Finished in state \u001b[32mCompleted\u001b[0m()\n"
      ]
     },
     "metadata": {},
     "output_type": "display_data"
    },
    {
     "name": "stdout",
     "output_type": "stream",
     "text": [
      "extractNobelPrizes response status code: 200\n",
      "{'statusCode': 200, 'body': '[\"976\", \"977\", \"978\"]'}\n"
     ]
    },
    {
     "data": {
      "text/html": [
       "<pre style=\"white-space:pre;overflow-x:auto;line-height:normal;font-family:Menlo,'DejaVu Sans Mono',consolas,'Courier New',monospace\">22:36:24.498 | <span style=\"color: #008080; text-decoration-color: #008080\">INFO</span>    | Task run 't_extract_nobel_prizes-5' - Finished in state <span style=\"color: #008000; text-decoration-color: #008000\">Completed</span>()\n",
       "</pre>\n"
      ],
      "text/plain": [
       "22:36:24.498 | \u001b[36mINFO\u001b[0m    | Task run 't_extract_nobel_prizes-5' - Finished in state \u001b[32mCompleted\u001b[0m()\n"
      ]
     },
     "metadata": {},
     "output_type": "display_data"
    },
    {
     "name": "stdout",
     "output_type": "stream",
     "text": [
      "extractLaureate laureate_id_list=['973', '974', '975']\n",
      "extractLaureate laureate_id=973\n"
     ]
    },
    {
     "data": {
      "text/html": [
       "<pre style=\"white-space:pre;overflow-x:auto;line-height:normal;font-family:Menlo,'DejaVu Sans Mono',consolas,'Courier New',monospace\">22:36:24.868 | <span style=\"color: #008080; text-decoration-color: #008080\">INFO</span>    | Flow run<span style=\"color: #800080; text-decoration-color: #800080\"> 'attractive-silkworm'</span> - Created task run 't_extract_laureate-0' for task 't_extract_laureate'\n",
       "</pre>\n"
      ],
      "text/plain": [
       "22:36:24.868 | \u001b[36mINFO\u001b[0m    | Flow run\u001b[35m 'attractive-silkworm'\u001b[0m - Created task run 't_extract_laureate-0' for task 't_extract_laureate'\n"
      ]
     },
     "metadata": {},
     "output_type": "display_data"
    },
    {
     "data": {
      "text/html": [
       "<pre style=\"white-space:pre;overflow-x:auto;line-height:normal;font-family:Menlo,'DejaVu Sans Mono',consolas,'Courier New',monospace\">22:36:24.884 | <span style=\"color: #008080; text-decoration-color: #008080\">INFO</span>    | Flow run<span style=\"color: #800080; text-decoration-color: #800080\"> 'attractive-silkworm'</span> - Submitted task run 't_extract_laureate-0' for execution.\n",
       "</pre>\n"
      ],
      "text/plain": [
       "22:36:24.884 | \u001b[36mINFO\u001b[0m    | Flow run\u001b[35m 'attractive-silkworm'\u001b[0m - Submitted task run 't_extract_laureate-0' for execution.\n"
      ]
     },
     "metadata": {},
     "output_type": "display_data"
    },
    {
     "name": "stdout",
     "output_type": "stream",
     "text": [
      "extractLaureate laureate_id_list=['970', '971', '972']\n",
      "extractLaureate laureate_id=970\n",
      "extractLaureate response status code: 200\n",
      "{'statusCode': 200, 'body': 'Extraction successful'}\n",
      "extractLaureate laureate_id=974\n"
     ]
    },
    {
     "data": {
      "text/html": [
       "<pre style=\"white-space:pre;overflow-x:auto;line-height:normal;font-family:Menlo,'DejaVu Sans Mono',consolas,'Courier New',monospace\">22:36:25.116 | <span style=\"color: #008080; text-decoration-color: #008080\">INFO</span>    | Flow run<span style=\"color: #800080; text-decoration-color: #800080\"> 'attractive-silkworm'</span> - Created task run 't_extract_laureate-2' for task 't_extract_laureate'\n",
       "</pre>\n"
      ],
      "text/plain": [
       "22:36:25.116 | \u001b[36mINFO\u001b[0m    | Flow run\u001b[35m 'attractive-silkworm'\u001b[0m - Created task run 't_extract_laureate-2' for task 't_extract_laureate'\n"
      ]
     },
     "metadata": {},
     "output_type": "display_data"
    },
    {
     "data": {
      "text/html": [
       "<pre style=\"white-space:pre;overflow-x:auto;line-height:normal;font-family:Menlo,'DejaVu Sans Mono',consolas,'Courier New',monospace\">22:36:25.128 | <span style=\"color: #008080; text-decoration-color: #008080\">INFO</span>    | Flow run<span style=\"color: #800080; text-decoration-color: #800080\"> 'attractive-silkworm'</span> - Submitted task run 't_extract_laureate-2' for execution.\n",
       "</pre>\n"
      ],
      "text/plain": [
       "22:36:25.128 | \u001b[36mINFO\u001b[0m    | Flow run\u001b[35m 'attractive-silkworm'\u001b[0m - Submitted task run 't_extract_laureate-2' for execution.\n"
      ]
     },
     "metadata": {},
     "output_type": "display_data"
    },
    {
     "data": {
      "text/html": [
       "<pre style=\"white-space:pre;overflow-x:auto;line-height:normal;font-family:Menlo,'DejaVu Sans Mono',consolas,'Courier New',monospace\">22:36:25.355 | <span style=\"color: #008080; text-decoration-color: #008080\">INFO</span>    | Task run 't_extract_nobel_prizes-2' - Finished in state <span style=\"color: #008000; text-decoration-color: #008000\">Completed</span>()\n",
       "</pre>\n"
      ],
      "text/plain": [
       "22:36:25.355 | \u001b[36mINFO\u001b[0m    | Task run 't_extract_nobel_prizes-2' - Finished in state \u001b[32mCompleted\u001b[0m()\n"
      ]
     },
     "metadata": {},
     "output_type": "display_data"
    },
    {
     "data": {
      "text/html": [
       "<pre style=\"white-space:pre;overflow-x:auto;line-height:normal;font-family:Menlo,'DejaVu Sans Mono',consolas,'Courier New',monospace\">22:36:25.443 | <span style=\"color: #008080; text-decoration-color: #008080\">INFO</span>    | Flow run<span style=\"color: #800080; text-decoration-color: #800080\"> 'attractive-silkworm'</span> - Created task run 't_extract_laureate-1' for task 't_extract_laureate'\n",
       "</pre>\n"
      ],
      "text/plain": [
       "22:36:25.443 | \u001b[36mINFO\u001b[0m    | Flow run\u001b[35m 'attractive-silkworm'\u001b[0m - Created task run 't_extract_laureate-1' for task 't_extract_laureate'\n"
      ]
     },
     "metadata": {},
     "output_type": "display_data"
    },
    {
     "data": {
      "text/html": [
       "<pre style=\"white-space:pre;overflow-x:auto;line-height:normal;font-family:Menlo,'DejaVu Sans Mono',consolas,'Courier New',monospace\">22:36:25.448 | <span style=\"color: #008080; text-decoration-color: #008080\">INFO</span>    | Flow run<span style=\"color: #800080; text-decoration-color: #800080\"> 'attractive-silkworm'</span> - Submitted task run 't_extract_laureate-1' for execution.\n",
       "</pre>\n"
      ],
      "text/plain": [
       "22:36:25.448 | \u001b[36mINFO\u001b[0m    | Flow run\u001b[35m 'attractive-silkworm'\u001b[0m - Submitted task run 't_extract_laureate-1' for execution.\n"
      ]
     },
     "metadata": {},
     "output_type": "display_data"
    },
    {
     "name": "stdout",
     "output_type": "stream",
     "text": [
      "extractLaureate response status code: 200\n",
      "{'statusCode': 200, 'body': 'Extraction successful'}\n",
      "extractLaureate laureate_id=975\n",
      "extractLaureate response status code: 200\n",
      "{'statusCode': 200, 'body': 'Extraction successful'}\n",
      "extractLaureate laureate_id=971\n",
      "extractLaureate response status code: 200\n",
      "{'statusCode': 200, 'body': 'Extraction successful'}\n"
     ]
    },
    {
     "data": {
      "text/html": [
       "<pre style=\"white-space:pre;overflow-x:auto;line-height:normal;font-family:Menlo,'DejaVu Sans Mono',consolas,'Courier New',monospace\">22:36:25.925 | <span style=\"color: #008080; text-decoration-color: #008080\">INFO</span>    | Task run 't_extract_nobel_prizes-3' - Finished in state <span style=\"color: #008000; text-decoration-color: #008000\">Completed</span>()\n",
       "</pre>\n"
      ],
      "text/plain": [
       "22:36:25.925 | \u001b[36mINFO\u001b[0m    | Task run 't_extract_nobel_prizes-3' - Finished in state \u001b[32mCompleted\u001b[0m()\n"
      ]
     },
     "metadata": {},
     "output_type": "display_data"
    },
    {
     "name": "stdout",
     "output_type": "stream",
     "text": [
      "extractLaureate response status code: 200\n",
      "{'statusCode': 200, 'body': 'Extraction successful'}\n",
      "extractLaureate laureate_id=972\n"
     ]
    },
    {
     "data": {
      "text/html": [
       "<pre style=\"white-space:pre;overflow-x:auto;line-height:normal;font-family:Menlo,'DejaVu Sans Mono',consolas,'Courier New',monospace\">22:36:26.195 | <span style=\"color: #008080; text-decoration-color: #008080\">INFO</span>    | Flow run<span style=\"color: #800080; text-decoration-color: #800080\"> 'attractive-silkworm'</span> - Created task run 't_bronze_laureates-0' for task 't_bronze_laureates'\n",
       "</pre>\n"
      ],
      "text/plain": [
       "22:36:26.195 | \u001b[36mINFO\u001b[0m    | Flow run\u001b[35m 'attractive-silkworm'\u001b[0m - Created task run 't_bronze_laureates-0' for task 't_bronze_laureates'\n"
      ]
     },
     "metadata": {},
     "output_type": "display_data"
    },
    {
     "data": {
      "text/html": [
       "<pre style=\"white-space:pre;overflow-x:auto;line-height:normal;font-family:Menlo,'DejaVu Sans Mono',consolas,'Courier New',monospace\">22:36:26.219 | <span style=\"color: #008080; text-decoration-color: #008080\">INFO</span>    | Flow run<span style=\"color: #800080; text-decoration-color: #800080\"> 'attractive-silkworm'</span> - Executing 't_bronze_laureates-0' immediately...\n",
       "</pre>\n"
      ],
      "text/plain": [
       "22:36:26.219 | \u001b[36mINFO\u001b[0m    | Flow run\u001b[35m 'attractive-silkworm'\u001b[0m - Executing 't_bronze_laureates-0' immediately...\n"
      ]
     },
     "metadata": {},
     "output_type": "display_data"
    },
    {
     "name": "stdout",
     "output_type": "stream",
     "text": [
      "extractLaureate response status code: 200\n",
      "{'statusCode': 200, 'body': 'Extraction successful'}\n",
      "extractLaureate laureate_id_list=['980']\n",
      "extractLaureate laureate_id=980\n"
     ]
    },
    {
     "data": {
      "text/html": [
       "<pre style=\"white-space:pre;overflow-x:auto;line-height:normal;font-family:Menlo,'DejaVu Sans Mono',consolas,'Courier New',monospace\">22:36:26.962 | <span style=\"color: #008080; text-decoration-color: #008080\">INFO</span>    | Task run 't_extract_nobel_prizes-0' - Finished in state <span style=\"color: #008000; text-decoration-color: #008000\">Completed</span>()\n",
       "</pre>\n"
      ],
      "text/plain": [
       "22:36:26.962 | \u001b[36mINFO\u001b[0m    | Task run 't_extract_nobel_prizes-0' - Finished in state \u001b[32mCompleted\u001b[0m()\n"
      ]
     },
     "metadata": {},
     "output_type": "display_data"
    },
    {
     "name": "stdout",
     "output_type": "stream",
     "text": [
      "extractLaureate response status code: 200\n",
      "{'statusCode': 200, 'body': 'Extraction successful'}\n",
      "extractLaureate laureate_id_list=['982', '983', '984']\n",
      "extractLaureate laureate_id=982\n"
     ]
    },
    {
     "data": {
      "text/html": [
       "<pre style=\"white-space:pre;overflow-x:auto;line-height:normal;font-family:Menlo,'DejaVu Sans Mono',consolas,'Courier New',monospace\">22:36:27.345 | <span style=\"color: #008080; text-decoration-color: #008080\">INFO</span>    | Task run 't_extract_laureate-4' - Finished in state <span style=\"color: #008000; text-decoration-color: #008000\">Completed</span>()\n",
       "</pre>\n"
      ],
      "text/plain": [
       "22:36:27.345 | \u001b[36mINFO\u001b[0m    | Task run 't_extract_laureate-4' - Finished in state \u001b[32mCompleted\u001b[0m()\n"
      ]
     },
     "metadata": {},
     "output_type": "display_data"
    },
    {
     "name": "stdout",
     "output_type": "stream",
     "text": [
      "extractLaureate response status code: 200\n",
      "{'statusCode': 200, 'body': 'Extraction successful'}\n",
      "extractLaureate laureate_id=983\n",
      "extractLaureate laureate_id_list=['976', '977', '978']\n",
      "extractLaureate laureate_id=976\n"
     ]
    },
    {
     "data": {
      "text/html": [
       "<pre style=\"white-space:pre;overflow-x:auto;line-height:normal;font-family:Menlo,'DejaVu Sans Mono',consolas,'Courier New',monospace\">22:36:27.677 | <span style=\"color: #008080; text-decoration-color: #008080\">INFO</span>    | Task run 't_extract_laureate-2' - Finished in state <span style=\"color: #008000; text-decoration-color: #008000\">Completed</span>()\n",
       "</pre>\n"
      ],
      "text/plain": [
       "22:36:27.677 | \u001b[36mINFO\u001b[0m    | Task run 't_extract_laureate-2' - Finished in state \u001b[32mCompleted\u001b[0m()\n"
      ]
     },
     "metadata": {},
     "output_type": "display_data"
    },
    {
     "data": {
      "text/html": [
       "<pre style=\"white-space:pre;overflow-x:auto;line-height:normal;font-family:Menlo,'DejaVu Sans Mono',consolas,'Courier New',monospace\">22:36:27.825 | <span style=\"color: #008080; text-decoration-color: #008080\">INFO</span>    | Task run 't_extract_laureate-5' - Finished in state <span style=\"color: #008000; text-decoration-color: #008000\">Completed</span>()\n",
       "</pre>\n"
      ],
      "text/plain": [
       "22:36:27.825 | \u001b[36mINFO\u001b[0m    | Task run 't_extract_laureate-5' - Finished in state \u001b[32mCompleted\u001b[0m()\n"
      ]
     },
     "metadata": {},
     "output_type": "display_data"
    },
    {
     "name": "stdout",
     "output_type": "stream",
     "text": [
      "extractLaureate response status code: 200\n",
      "{'statusCode': 200, 'body': 'Extraction successful'}\n",
      "extractLaureate laureate_id=984\n",
      "extractLaureate response status code: 200\n",
      "{'statusCode': 200, 'body': 'Extraction successful'}\n",
      "extractLaureate laureate_id_list=['981']\n",
      "extractLaureate laureate_id=981\n",
      "extractLaureate response status code: 200\n",
      "{'statusCode': 200, 'body': 'Extraction successful'}\n",
      "extractLaureate laureate_id=977\n",
      "extractLaureate response status code: 200\n",
      "{'statusCode': 200, 'body': 'Extraction successful'}\n"
     ]
    },
    {
     "data": {
      "text/html": [
       "<pre style=\"white-space:pre;overflow-x:auto;line-height:normal;font-family:Menlo,'DejaVu Sans Mono',consolas,'Courier New',monospace\">22:36:28.546 | <span style=\"color: #008080; text-decoration-color: #008080\">INFO</span>    | Task run 't_extract_laureate-1' - Finished in state <span style=\"color: #008000; text-decoration-color: #008000\">Completed</span>()\n",
       "</pre>\n"
      ],
      "text/plain": [
       "22:36:28.546 | \u001b[36mINFO\u001b[0m    | Task run 't_extract_laureate-1' - Finished in state \u001b[32mCompleted\u001b[0m()\n"
      ]
     },
     "metadata": {},
     "output_type": "display_data"
    },
    {
     "name": "stdout",
     "output_type": "stream",
     "text": [
      "extractLaureate response status code: 200\n",
      "{'statusCode': 200, 'body': 'Extraction successful'}\n",
      "extractLaureate laureate_id=978\n"
     ]
    },
    {
     "data": {
      "text/html": [
       "<pre style=\"white-space:pre;overflow-x:auto;line-height:normal;font-family:Menlo,'DejaVu Sans Mono',consolas,'Courier New',monospace\">22:36:28.793 | <span style=\"color: #008080; text-decoration-color: #008080\">INFO</span>    | Task run 't_extract_laureate-3' - Finished in state <span style=\"color: #008000; text-decoration-color: #008000\">Completed</span>()\n",
       "</pre>\n"
      ],
      "text/plain": [
       "22:36:28.793 | \u001b[36mINFO\u001b[0m    | Task run 't_extract_laureate-3' - Finished in state \u001b[32mCompleted\u001b[0m()\n"
      ]
     },
     "metadata": {},
     "output_type": "display_data"
    },
    {
     "name": "stdout",
     "output_type": "stream",
     "text": [
      "extractLaureate response status code: 200\n",
      "{'statusCode': 200, 'body': 'Extraction successful'}\n"
     ]
    },
    {
     "data": {
      "text/html": [
       "<pre style=\"white-space:pre;overflow-x:auto;line-height:normal;font-family:Menlo,'DejaVu Sans Mono',consolas,'Courier New',monospace\">22:36:29.099 | <span style=\"color: #008080; text-decoration-color: #008080\">INFO</span>    | Task run 't_extract_laureate-0' - Finished in state <span style=\"color: #008000; text-decoration-color: #008000\">Completed</span>()\n",
       "</pre>\n"
      ],
      "text/plain": [
       "22:36:29.099 | \u001b[36mINFO\u001b[0m    | Task run 't_extract_laureate-0' - Finished in state \u001b[32mCompleted\u001b[0m()\n"
      ]
     },
     "metadata": {},
     "output_type": "display_data"
    },
    {
     "name": "stdout",
     "output_type": "stream",
     "text": [
      "Beginning getBronzeLaureates\n",
      "getBronzeLaureates response status code: 200\n",
      "{'statusCode': 200, 'body': '\"Data processed and saved successfully\"'}\n"
     ]
    },
    {
     "data": {
      "text/html": [
       "<pre style=\"white-space:pre;overflow-x:auto;line-height:normal;font-family:Menlo,'DejaVu Sans Mono',consolas,'Courier New',monospace\">22:36:30.826 | <span style=\"color: #008080; text-decoration-color: #008080\">INFO</span>    | Task run 't_bronze_laureates-0' - Finished in state <span style=\"color: #008000; text-decoration-color: #008000\">Completed</span>()\n",
       "</pre>\n"
      ],
      "text/plain": [
       "22:36:30.826 | \u001b[36mINFO\u001b[0m    | Task run 't_bronze_laureates-0' - Finished in state \u001b[32mCompleted\u001b[0m()\n"
      ]
     },
     "metadata": {},
     "output_type": "display_data"
    },
    {
     "data": {
      "text/html": [
       "<pre style=\"white-space:pre;overflow-x:auto;line-height:normal;font-family:Menlo,'DejaVu Sans Mono',consolas,'Courier New',monospace\">22:36:31.362 | <span style=\"color: #008080; text-decoration-color: #008080\">INFO</span>    | Flow run<span style=\"color: #800080; text-decoration-color: #800080\"> 'attractive-silkworm'</span> - Finished in state <span style=\"color: #008000; text-decoration-color: #008000\">Completed</span>('All states completed.')\n",
       "</pre>\n"
      ],
      "text/plain": [
       "22:36:31.362 | \u001b[36mINFO\u001b[0m    | Flow run\u001b[35m 'attractive-silkworm'\u001b[0m - Finished in state \u001b[32mCompleted\u001b[0m('All states completed.')\n"
      ]
     },
     "metadata": {},
     "output_type": "display_data"
    },
    {
     "data": {
      "text/plain": [
       "[Completed(message=None, type=COMPLETED, result=UnpersistedResult(type='unpersisted', artifact_type='result', artifact_description='Unpersisted result of type `list`')),\n",
       " Completed(message=None, type=COMPLETED, result=UnpersistedResult(type='unpersisted', artifact_type='result', artifact_description='Unpersisted result of type `list`')),\n",
       " Completed(message=None, type=COMPLETED, result=UnpersistedResult(type='unpersisted', artifact_type='result', artifact_description='Unpersisted result of type `list`')),\n",
       " Completed(message=None, type=COMPLETED, result=UnpersistedResult(type='unpersisted', artifact_type='result', artifact_description='Unpersisted result of type `list`')),\n",
       " Completed(message=None, type=COMPLETED, result=UnpersistedResult(type='unpersisted', artifact_type='result', artifact_description='Unpersisted result of type `list`')),\n",
       " Completed(message=None, type=COMPLETED, result=UnpersistedResult(type='unpersisted', artifact_type='result', artifact_description='Unpersisted result of type `list`')),\n",
       " Completed(message=None, type=COMPLETED, result=UnpersistedResult(type='unpersisted', artifact_type='result', artifact_description='Unpersisted result of type `int`')),\n",
       " Completed(message=None, type=COMPLETED, result=UnpersistedResult(type='unpersisted', artifact_type='result', artifact_description='Unpersisted result of type `int`')),\n",
       " Completed(message=None, type=COMPLETED, result=UnpersistedResult(type='unpersisted', artifact_type='result', artifact_description='Unpersisted result of type `int`')),\n",
       " Completed(message=None, type=COMPLETED, result=UnpersistedResult(type='unpersisted', artifact_type='result', artifact_description='Unpersisted result of type `int`')),\n",
       " Completed(message=None, type=COMPLETED, result=UnpersistedResult(type='unpersisted', artifact_type='result', artifact_description='Unpersisted result of type `int`')),\n",
       " Completed(message=None, type=COMPLETED, result=UnpersistedResult(type='unpersisted', artifact_type='result', artifact_description='Unpersisted result of type `int`')),\n",
       " Completed(message=None, type=COMPLETED, result=UnpersistedResult(type='unpersisted', artifact_type='result', artifact_description='Unpersisted result of type `dict`'))]"
      ]
     },
     "execution_count": 14,
     "metadata": {},
     "output_type": "execute_result"
    }
   ],
   "source": [
    "nobel_prizes_etl()"
   ]
  },
  {
   "cell_type": "code",
   "execution_count": 15,
   "id": "bc7f17f2",
   "metadata": {},
   "outputs": [],
   "source": [
    "import os\n",
    "import pandas as pd\n",
    "\n",
    "# CHECK:\n",
    "BUCKET_NAME = \"jlmendo11-cs13datalake\"\n",
    "BRONZE_PATH = f's3://{BUCKET_NAME}/bronze/bronze_laureates.parquet'\n",
    "s3_client = boto3.client('s3')\n",
    "\n",
    "# DOWNLOAD AS LOCAL FILE AND READ IT\n",
    "local_file_path = 'bronze_laureates.parquet'\n",
    "s3_client.download_file(BUCKET_NAME, 'bronze/bronze_laureates.parquet', local_file_path)\n",
    "df = pd.read_parquet(local_file_path)\n",
    "\n",
    "# DELETE FILE\n",
    "os.remove(local_file_path)\n",
    "df\n"
   ]
  },
  {
   "cell_type": "markdown",
   "id": "b8c95906-eedc-4f38-986f-1f9cc280bd37",
   "metadata": {},
   "source": [
    "## Ejercicio 7. Backfill\n",
    "\n",
    "La forma ideal de exportar todos los datos desde 1901 hasta la fecha no es ejecutar nuestro flujo para cada año simulando su ejecución normal año a año, ya que supondría muchas llamadas API y sería un proceso muy lento y costoso. Lo ideal es hacer uso de los endpoints de la API para obtener todos los datos en bloque y hacer ese proceso de captura de los datos en bloque una sola vez, y a partir de ahí ya se encargaría nuestro flujo de actualizar los datos año a año, así como de ejecutar las ETLs correspondientes.\n",
    "\n",
    "Los ficheros `nobelPrizes-1901-2019.parquet` y `laureates-1901-2019.parquet` (en el fichero `data.zip`) disponibles en campus virtual contienen los datos exportados desde 1901 hasta 2019 usando los endpoints de la API que dan todos los datos existentes paginados. Vamos a:\n",
    "\n",
    "1. Asegurarnos de que nuestro bucket del datalake está vacío. Borrar todos los ficheros generados por las ejecuciones anteriores.\n",
    "2. Subir los ficheros `nobelPrizes-1901-2019.parquet` y `laureates-1901-2019.parquet` al bucket del datalake a los prefijos `raw/nobelPrizes` y `raw/laureates` respectivamente.\n",
    "3. Ejecutar el flujo manualmente simulando que es el 1 de enero desde el año 2021 hasta el año actual usando la variable de entorno descrita anteriormente (`2021-01-01`, `2022-01-01`, ...)."
   ]
  },
  {
   "cell_type": "code",
   "execution_count": 16,
   "id": "466820e4-6952-4074-8054-f81cc404baeb",
   "metadata": {},
   "outputs": [],
   "source": [
    "import boto3\n",
    "\n",
    "BUCKET_NAME = \"jlmendo11-cs13datalake\"\n",
    "\n",
    "def delete_s3_folder(folder_path):\n",
    "    s3 = boto3.resource(\"s3\")\n",
    "    bucket = s3.Bucket(BUCKET_NAME)\n",
    "    \n",
    "    objects_to_delete = []\n",
    "    \n",
    "    for obj in bucket.objects.filter(Prefix=folder_path):\n",
    "        objects_to_delete.append({'Key': obj.key})\n",
    "    \n",
    "    if objects_to_delete:\n",
    "        bucket.delete_objects(Delete={'Objects': objects_to_delete})\n",
    "    \n",
    "    # Recursively delete subfolders\n",
    "    for prefix in bucket.objects.filter(Prefix=folder_path):\n",
    "        if prefix.key[-1] == '/':\n",
    "            delete_s3_folder(prefix.key)\n",
    "\n",
    "# Delete folders\n",
    "delete_s3_folder(\"raw/\")\n",
    "delete_s3_folder(\"bronze/\")\n",
    "delete_s3_folder(\"silver/\")\n"
   ]
  },
  {
   "cell_type": "code",
   "execution_count": 18,
   "id": "afc0aa17",
   "metadata": {},
   "outputs": [],
   "source": [
    "import boto3\n",
    "\n",
    "BUCKET_NAME = \"jlmendo11-cs13datalake\"\n",
    "NOBEL_PRIZES_FILE = \"nobelPrizes-1901-2019.parquet\"\n",
    "LAUREATES_FILE = \"laureates-1901-2019.parquet\"\n",
    "\n",
    "s3 = boto3.resource(\"s3\")\n",
    "\n",
    "s3.meta.client.upload_file(NOBEL_PRIZES_FILE, BUCKET_NAME, f\"raw/nobelPrizes/{NOBEL_PRIZES_FILE}\")\n",
    "s3.meta.client.upload_file(LAUREATES_FILE, BUCKET_NAME, f\"raw/laureates/{LAUREATES_FILE}\")\n"
   ]
  },
  {
   "cell_type": "code",
   "execution_count": 19,
   "id": "2b05a269",
   "metadata": {
    "scrolled": true
   },
   "outputs": [
    {
     "data": {
      "text/html": [
       "<pre style=\"white-space:pre;overflow-x:auto;line-height:normal;font-family:Menlo,'DejaVu Sans Mono',consolas,'Courier New',monospace\">22:37:16.805 | <span style=\"color: #008080; text-decoration-color: #008080\">INFO</span>    | prefect.engine - Created flow run<span style=\"color: #800080; text-decoration-color: #800080\"> 'statuesque-swift'</span> for flow<span style=\"color: #800080; text-decoration-color: #800080; font-weight: bold\"> 'f_nobel_prizes_etl'</span>\n",
       "</pre>\n"
      ],
      "text/plain": [
       "22:37:16.805 | \u001b[36mINFO\u001b[0m    | prefect.engine - Created flow run\u001b[35m 'statuesque-swift'\u001b[0m for flow\u001b[1;35m 'f_nobel_prizes_etl'\u001b[0m\n"
      ]
     },
     "metadata": {},
     "output_type": "display_data"
    },
    {
     "name": "stdout",
     "output_type": "stream",
     "text": [
      "Taking previous_year as 2020\n"
     ]
    },
    {
     "data": {
      "text/html": [
       "<pre style=\"white-space:pre;overflow-x:auto;line-height:normal;font-family:Menlo,'DejaVu Sans Mono',consolas,'Courier New',monospace\">22:37:18.418 | <span style=\"color: #008080; text-decoration-color: #008080\">INFO</span>    | Flow run<span style=\"color: #800080; text-decoration-color: #800080\"> 'statuesque-swift'</span> - Created task run 't_extract_nobel_prizes-2' for task 't_extract_nobel_prizes'\n",
       "</pre>\n"
      ],
      "text/plain": [
       "22:37:18.418 | \u001b[36mINFO\u001b[0m    | Flow run\u001b[35m 'statuesque-swift'\u001b[0m - Created task run 't_extract_nobel_prizes-2' for task 't_extract_nobel_prizes'\n"
      ]
     },
     "metadata": {},
     "output_type": "display_data"
    },
    {
     "data": {
      "text/html": [
       "<pre style=\"white-space:pre;overflow-x:auto;line-height:normal;font-family:Menlo,'DejaVu Sans Mono',consolas,'Courier New',monospace\">22:37:18.425 | <span style=\"color: #008080; text-decoration-color: #008080\">INFO</span>    | Flow run<span style=\"color: #800080; text-decoration-color: #800080\"> 'statuesque-swift'</span> - Submitted task run 't_extract_nobel_prizes-2' for execution.\n",
       "</pre>\n"
      ],
      "text/plain": [
       "22:37:18.425 | \u001b[36mINFO\u001b[0m    | Flow run\u001b[35m 'statuesque-swift'\u001b[0m - Submitted task run 't_extract_nobel_prizes-2' for execution.\n"
      ]
     },
     "metadata": {},
     "output_type": "display_data"
    },
    {
     "data": {
      "text/html": [
       "<pre style=\"white-space:pre;overflow-x:auto;line-height:normal;font-family:Menlo,'DejaVu Sans Mono',consolas,'Courier New',monospace\">22:37:18.600 | <span style=\"color: #008080; text-decoration-color: #008080\">INFO</span>    | Flow run<span style=\"color: #800080; text-decoration-color: #800080\"> 'statuesque-swift'</span> - Created task run 't_extract_nobel_prizes-1' for task 't_extract_nobel_prizes'\n",
       "</pre>\n"
      ],
      "text/plain": [
       "22:37:18.600 | \u001b[36mINFO\u001b[0m    | Flow run\u001b[35m 'statuesque-swift'\u001b[0m - Created task run 't_extract_nobel_prizes-1' for task 't_extract_nobel_prizes'\n"
      ]
     },
     "metadata": {},
     "output_type": "display_data"
    },
    {
     "data": {
      "text/html": [
       "<pre style=\"white-space:pre;overflow-x:auto;line-height:normal;font-family:Menlo,'DejaVu Sans Mono',consolas,'Courier New',monospace\">22:37:18.621 | <span style=\"color: #008080; text-decoration-color: #008080\">INFO</span>    | Flow run<span style=\"color: #800080; text-decoration-color: #800080\"> 'statuesque-swift'</span> - Submitted task run 't_extract_nobel_prizes-1' for execution.\n",
       "</pre>\n"
      ],
      "text/plain": [
       "22:37:18.621 | \u001b[36mINFO\u001b[0m    | Flow run\u001b[35m 'statuesque-swift'\u001b[0m - Submitted task run 't_extract_nobel_prizes-1' for execution.\n"
      ]
     },
     "metadata": {},
     "output_type": "display_data"
    },
    {
     "data": {
      "text/html": [
       "<pre style=\"white-space:pre;overflow-x:auto;line-height:normal;font-family:Menlo,'DejaVu Sans Mono',consolas,'Courier New',monospace\">22:37:19.056 | <span style=\"color: #008080; text-decoration-color: #008080\">INFO</span>    | Flow run<span style=\"color: #800080; text-decoration-color: #800080\"> 'statuesque-swift'</span> - Created task run 't_extract_nobel_prizes-4' for task 't_extract_nobel_prizes'\n",
       "</pre>\n"
      ],
      "text/plain": [
       "22:37:19.056 | \u001b[36mINFO\u001b[0m    | Flow run\u001b[35m 'statuesque-swift'\u001b[0m - Created task run 't_extract_nobel_prizes-4' for task 't_extract_nobel_prizes'\n"
      ]
     },
     "metadata": {},
     "output_type": "display_data"
    },
    {
     "data": {
      "text/html": [
       "<pre style=\"white-space:pre;overflow-x:auto;line-height:normal;font-family:Menlo,'DejaVu Sans Mono',consolas,'Courier New',monospace\">22:37:19.082 | <span style=\"color: #008080; text-decoration-color: #008080\">INFO</span>    | Flow run<span style=\"color: #800080; text-decoration-color: #800080\"> 'statuesque-swift'</span> - Submitted task run 't_extract_nobel_prizes-4' for execution.\n",
       "</pre>\n"
      ],
      "text/plain": [
       "22:37:19.082 | \u001b[36mINFO\u001b[0m    | Flow run\u001b[35m 'statuesque-swift'\u001b[0m - Submitted task run 't_extract_nobel_prizes-4' for execution.\n"
      ]
     },
     "metadata": {},
     "output_type": "display_data"
    },
    {
     "data": {
      "text/html": [
       "<pre style=\"white-space:pre;overflow-x:auto;line-height:normal;font-family:Menlo,'DejaVu Sans Mono',consolas,'Courier New',monospace\">22:37:19.495 | <span style=\"color: #008080; text-decoration-color: #008080\">INFO</span>    | Flow run<span style=\"color: #800080; text-decoration-color: #800080\"> 'statuesque-swift'</span> - Created task run 't_extract_laureate-2' for task 't_extract_laureate'\n",
       "</pre>\n"
      ],
      "text/plain": [
       "22:37:19.495 | \u001b[36mINFO\u001b[0m    | Flow run\u001b[35m 'statuesque-swift'\u001b[0m - Created task run 't_extract_laureate-2' for task 't_extract_laureate'\n"
      ]
     },
     "metadata": {},
     "output_type": "display_data"
    },
    {
     "data": {
      "text/html": [
       "<pre style=\"white-space:pre;overflow-x:auto;line-height:normal;font-family:Menlo,'DejaVu Sans Mono',consolas,'Courier New',monospace\">22:37:19.521 | <span style=\"color: #008080; text-decoration-color: #008080\">INFO</span>    | Flow run<span style=\"color: #800080; text-decoration-color: #800080\"> 'statuesque-swift'</span> - Submitted task run 't_extract_laureate-2' for execution.\n",
       "</pre>\n"
      ],
      "text/plain": [
       "22:37:19.521 | \u001b[36mINFO\u001b[0m    | Flow run\u001b[35m 'statuesque-swift'\u001b[0m - Submitted task run 't_extract_laureate-2' for execution.\n"
      ]
     },
     "metadata": {},
     "output_type": "display_data"
    },
    {
     "data": {
      "text/html": [
       "<pre style=\"white-space:pre;overflow-x:auto;line-height:normal;font-family:Menlo,'DejaVu Sans Mono',consolas,'Courier New',monospace\">22:37:19.969 | <span style=\"color: #008080; text-decoration-color: #008080\">INFO</span>    | Flow run<span style=\"color: #800080; text-decoration-color: #800080\"> 'statuesque-swift'</span> - Created task run 't_extract_laureate-1' for task 't_extract_laureate'\n",
       "</pre>\n"
      ],
      "text/plain": [
       "22:37:19.969 | \u001b[36mINFO\u001b[0m    | Flow run\u001b[35m 'statuesque-swift'\u001b[0m - Created task run 't_extract_laureate-1' for task 't_extract_laureate'\n"
      ]
     },
     "metadata": {},
     "output_type": "display_data"
    },
    {
     "data": {
      "text/html": [
       "<pre style=\"white-space:pre;overflow-x:auto;line-height:normal;font-family:Menlo,'DejaVu Sans Mono',consolas,'Courier New',monospace\">22:37:19.980 | <span style=\"color: #008080; text-decoration-color: #008080\">INFO</span>    | Flow run<span style=\"color: #800080; text-decoration-color: #800080\"> 'statuesque-swift'</span> - Submitted task run 't_extract_laureate-1' for execution.\n",
       "</pre>\n"
      ],
      "text/plain": [
       "22:37:19.980 | \u001b[36mINFO\u001b[0m    | Flow run\u001b[35m 'statuesque-swift'\u001b[0m - Submitted task run 't_extract_laureate-1' for execution.\n"
      ]
     },
     "metadata": {},
     "output_type": "display_data"
    },
    {
     "data": {
      "text/html": [
       "<pre style=\"white-space:pre;overflow-x:auto;line-height:normal;font-family:Menlo,'DejaVu Sans Mono',consolas,'Courier New',monospace\">22:37:20.333 | <span style=\"color: #008080; text-decoration-color: #008080\">INFO</span>    | Flow run<span style=\"color: #800080; text-decoration-color: #800080\"> 'statuesque-swift'</span> - Created task run 't_extract_laureate-4' for task 't_extract_laureate'\n",
       "</pre>\n"
      ],
      "text/plain": [
       "22:37:20.333 | \u001b[36mINFO\u001b[0m    | Flow run\u001b[35m 'statuesque-swift'\u001b[0m - Created task run 't_extract_laureate-4' for task 't_extract_laureate'\n"
      ]
     },
     "metadata": {},
     "output_type": "display_data"
    },
    {
     "data": {
      "text/html": [
       "<pre style=\"white-space:pre;overflow-x:auto;line-height:normal;font-family:Menlo,'DejaVu Sans Mono',consolas,'Courier New',monospace\">22:37:20.352 | <span style=\"color: #008080; text-decoration-color: #008080\">INFO</span>    | Flow run<span style=\"color: #800080; text-decoration-color: #800080\"> 'statuesque-swift'</span> - Submitted task run 't_extract_laureate-4' for execution.\n",
       "</pre>\n"
      ],
      "text/plain": [
       "22:37:20.352 | \u001b[36mINFO\u001b[0m    | Flow run\u001b[35m 'statuesque-swift'\u001b[0m - Submitted task run 't_extract_laureate-4' for execution.\n"
      ]
     },
     "metadata": {},
     "output_type": "display_data"
    },
    {
     "data": {
      "text/html": [
       "<pre style=\"white-space:pre;overflow-x:auto;line-height:normal;font-family:Menlo,'DejaVu Sans Mono',consolas,'Courier New',monospace\">22:37:21.032 | <span style=\"color: #008080; text-decoration-color: #008080\">INFO</span>    | Flow run<span style=\"color: #800080; text-decoration-color: #800080\"> 'statuesque-swift'</span> - Created task run 't_extract_nobel_prizes-3' for task 't_extract_nobel_prizes'\n",
       "</pre>\n"
      ],
      "text/plain": [
       "22:37:21.032 | \u001b[36mINFO\u001b[0m    | Flow run\u001b[35m 'statuesque-swift'\u001b[0m - Created task run 't_extract_nobel_prizes-3' for task 't_extract_nobel_prizes'\n"
      ]
     },
     "metadata": {},
     "output_type": "display_data"
    },
    {
     "data": {
      "text/html": [
       "<pre style=\"white-space:pre;overflow-x:auto;line-height:normal;font-family:Menlo,'DejaVu Sans Mono',consolas,'Courier New',monospace\">22:37:21.044 | <span style=\"color: #008080; text-decoration-color: #008080\">INFO</span>    | Flow run<span style=\"color: #800080; text-decoration-color: #800080\"> 'statuesque-swift'</span> - Submitted task run 't_extract_nobel_prizes-3' for execution.\n",
       "</pre>\n"
      ],
      "text/plain": [
       "22:37:21.044 | \u001b[36mINFO\u001b[0m    | Flow run\u001b[35m 'statuesque-swift'\u001b[0m - Submitted task run 't_extract_nobel_prizes-3' for execution.\n"
      ]
     },
     "metadata": {},
     "output_type": "display_data"
    },
    {
     "name": "stdout",
     "output_type": "stream",
     "text": [
      "extractNobelPrizes category=eco, year=2020\n",
      "extractNobelPrizes response status code: 200\n",
      "{'statusCode': 200, 'body': '[\"995\", \"996\"]'}\n"
     ]
    },
    {
     "data": {
      "text/html": [
       "<pre style=\"white-space:pre;overflow-x:auto;line-height:normal;font-family:Menlo,'DejaVu Sans Mono',consolas,'Courier New',monospace\">22:37:21.877 | <span style=\"color: #008080; text-decoration-color: #008080\">INFO</span>    | Flow run<span style=\"color: #800080; text-decoration-color: #800080\"> 'statuesque-swift'</span> - Created task run 't_extract_laureate-3' for task 't_extract_laureate'\n",
       "</pre>\n"
      ],
      "text/plain": [
       "22:37:21.877 | \u001b[36mINFO\u001b[0m    | Flow run\u001b[35m 'statuesque-swift'\u001b[0m - Created task run 't_extract_laureate-3' for task 't_extract_laureate'\n"
      ]
     },
     "metadata": {},
     "output_type": "display_data"
    },
    {
     "data": {
      "text/html": [
       "<pre style=\"white-space:pre;overflow-x:auto;line-height:normal;font-family:Menlo,'DejaVu Sans Mono',consolas,'Courier New',monospace\">22:37:21.896 | <span style=\"color: #008080; text-decoration-color: #008080\">INFO</span>    | Flow run<span style=\"color: #800080; text-decoration-color: #800080\"> 'statuesque-swift'</span> - Submitted task run 't_extract_laureate-3' for execution.\n",
       "</pre>\n"
      ],
      "text/plain": [
       "22:37:21.896 | \u001b[36mINFO\u001b[0m    | Flow run\u001b[35m 'statuesque-swift'\u001b[0m - Submitted task run 't_extract_laureate-3' for execution.\n"
      ]
     },
     "metadata": {},
     "output_type": "display_data"
    },
    {
     "name": "stdout",
     "output_type": "stream",
     "text": [
      "extractNobelPrizes category=phy, year=2020\n",
      "extractNobelPrizes category=pea, year=2020\n",
      "extractNobelPrizes response status code: 200\n",
      "{'statusCode': 200, 'body': '[\"988\", \"989\", \"990\"]'}\n",
      "extractNobelPrizes category=lit, year=2020\n"
     ]
    },
    {
     "data": {
      "text/html": [
       "<pre style=\"white-space:pre;overflow-x:auto;line-height:normal;font-family:Menlo,'DejaVu Sans Mono',consolas,'Courier New',monospace\">22:37:23.246 | <span style=\"color: #008080; text-decoration-color: #008080\">INFO</span>    | Task run 't_extract_nobel_prizes-1' - Finished in state <span style=\"color: #008000; text-decoration-color: #008000\">Completed</span>()\n",
       "</pre>\n"
      ],
      "text/plain": [
       "22:37:23.246 | \u001b[36mINFO\u001b[0m    | Task run 't_extract_nobel_prizes-1' - Finished in state \u001b[32mCompleted\u001b[0m()\n"
      ]
     },
     "metadata": {},
     "output_type": "display_data"
    },
    {
     "name": "stdout",
     "output_type": "stream",
     "text": [
      "extractNobelPrizes response status code: 200\n",
      "{'statusCode': 200, 'body': '[\"994\"]'}\n"
     ]
    },
    {
     "data": {
      "text/html": [
       "<pre style=\"white-space:pre;overflow-x:auto;line-height:normal;font-family:Menlo,'DejaVu Sans Mono',consolas,'Courier New',monospace\">22:37:23.590 | <span style=\"color: #008080; text-decoration-color: #008080\">INFO</span>    | Flow run<span style=\"color: #800080; text-decoration-color: #800080\"> 'statuesque-swift'</span> - Created task run 't_extract_nobel_prizes-0' for task 't_extract_nobel_prizes'\n",
       "</pre>\n"
      ],
      "text/plain": [
       "22:37:23.590 | \u001b[36mINFO\u001b[0m    | Flow run\u001b[35m 'statuesque-swift'\u001b[0m - Created task run 't_extract_nobel_prizes-0' for task 't_extract_nobel_prizes'\n"
      ]
     },
     "metadata": {},
     "output_type": "display_data"
    },
    {
     "data": {
      "text/html": [
       "<pre style=\"white-space:pre;overflow-x:auto;line-height:normal;font-family:Menlo,'DejaVu Sans Mono',consolas,'Courier New',monospace\">22:37:23.597 | <span style=\"color: #008080; text-decoration-color: #008080\">INFO</span>    | Flow run<span style=\"color: #800080; text-decoration-color: #800080\"> 'statuesque-swift'</span> - Submitted task run 't_extract_nobel_prizes-0' for execution.\n",
       "</pre>\n"
      ],
      "text/plain": [
       "22:37:23.597 | \u001b[36mINFO\u001b[0m    | Flow run\u001b[35m 'statuesque-swift'\u001b[0m - Submitted task run 't_extract_nobel_prizes-0' for execution.\n"
      ]
     },
     "metadata": {},
     "output_type": "display_data"
    },
    {
     "data": {
      "text/html": [
       "<pre style=\"white-space:pre;overflow-x:auto;line-height:normal;font-family:Menlo,'DejaVu Sans Mono',consolas,'Courier New',monospace\">22:37:23.881 | <span style=\"color: #008080; text-decoration-color: #008080\">INFO</span>    | Task run 't_extract_nobel_prizes-4' - Finished in state <span style=\"color: #008000; text-decoration-color: #008000\">Completed</span>()\n",
       "</pre>\n"
      ],
      "text/plain": [
       "22:37:23.881 | \u001b[36mINFO\u001b[0m    | Task run 't_extract_nobel_prizes-4' - Finished in state \u001b[32mCompleted\u001b[0m()\n"
      ]
     },
     "metadata": {},
     "output_type": "display_data"
    },
    {
     "name": "stdout",
     "output_type": "stream",
     "text": [
      "extractNobelPrizes response status code: 200\n",
      "{'statusCode': 200, 'body': '[\"993\"]'}\n",
      "extractLaureate laureate_id_list=['995', '996']\n",
      "extractLaureate laureate_id=995\n",
      "extractNobelPrizes category=che, year=2020\n"
     ]
    },
    {
     "data": {
      "text/html": [
       "<pre style=\"white-space:pre;overflow-x:auto;line-height:normal;font-family:Menlo,'DejaVu Sans Mono',consolas,'Courier New',monospace\">22:37:24.491 | <span style=\"color: #008080; text-decoration-color: #008080\">INFO</span>    | Task run 't_extract_nobel_prizes-3' - Finished in state <span style=\"color: #008000; text-decoration-color: #008000\">Completed</span>()\n",
       "</pre>\n"
      ],
      "text/plain": [
       "22:37:24.491 | \u001b[36mINFO\u001b[0m    | Task run 't_extract_nobel_prizes-3' - Finished in state \u001b[32mCompleted\u001b[0m()\n"
      ]
     },
     "metadata": {},
     "output_type": "display_data"
    },
    {
     "name": "stdout",
     "output_type": "stream",
     "text": [
      "extractLaureate response status code: 200\n",
      "{'statusCode': 200, 'body': 'Extraction successful'}\n",
      "extractLaureate laureate_id=996\n"
     ]
    },
    {
     "data": {
      "text/html": [
       "<pre style=\"white-space:pre;overflow-x:auto;line-height:normal;font-family:Menlo,'DejaVu Sans Mono',consolas,'Courier New',monospace\">22:37:24.745 | <span style=\"color: #008080; text-decoration-color: #008080\">INFO</span>    | Task run 't_extract_nobel_prizes-2' - Finished in state <span style=\"color: #008000; text-decoration-color: #008000\">Completed</span>()\n",
       "</pre>\n"
      ],
      "text/plain": [
       "22:37:24.745 | \u001b[36mINFO\u001b[0m    | Task run 't_extract_nobel_prizes-2' - Finished in state \u001b[32mCompleted\u001b[0m()\n"
      ]
     },
     "metadata": {},
     "output_type": "display_data"
    },
    {
     "name": "stdout",
     "output_type": "stream",
     "text": [
      "extractNobelPrizes response status code: 200\n",
      "{'statusCode': 200, 'body': '[\"991\", \"992\"]'}\n",
      "extractLaureate response status code: 200\n",
      "{'statusCode': 200, 'body': 'Extraction successful'}\n"
     ]
    },
    {
     "data": {
      "text/html": [
       "<pre style=\"white-space:pre;overflow-x:auto;line-height:normal;font-family:Menlo,'DejaVu Sans Mono',consolas,'Courier New',monospace\">22:37:25.254 | <span style=\"color: #008080; text-decoration-color: #008080\">INFO</span>    | Flow run<span style=\"color: #800080; text-decoration-color: #800080\"> 'statuesque-swift'</span> - Created task run 't_extract_laureate-0' for task 't_extract_laureate'\n",
       "</pre>\n"
      ],
      "text/plain": [
       "22:37:25.254 | \u001b[36mINFO\u001b[0m    | Flow run\u001b[35m 'statuesque-swift'\u001b[0m - Created task run 't_extract_laureate-0' for task 't_extract_laureate'\n"
      ]
     },
     "metadata": {},
     "output_type": "display_data"
    },
    {
     "data": {
      "text/html": [
       "<pre style=\"white-space:pre;overflow-x:auto;line-height:normal;font-family:Menlo,'DejaVu Sans Mono',consolas,'Courier New',monospace\">22:37:25.267 | <span style=\"color: #008080; text-decoration-color: #008080\">INFO</span>    | Flow run<span style=\"color: #800080; text-decoration-color: #800080\"> 'statuesque-swift'</span> - Submitted task run 't_extract_laureate-0' for execution.\n",
       "</pre>\n"
      ],
      "text/plain": [
       "22:37:25.267 | \u001b[36mINFO\u001b[0m    | Flow run\u001b[35m 'statuesque-swift'\u001b[0m - Submitted task run 't_extract_laureate-0' for execution.\n"
      ]
     },
     "metadata": {},
     "output_type": "display_data"
    },
    {
     "name": "stdout",
     "output_type": "stream",
     "text": [
      "extractLaureate laureate_id_list=['994']\n",
      "extractLaureate laureate_id=994\n"
     ]
    },
    {
     "data": {
      "text/html": [
       "<pre style=\"white-space:pre;overflow-x:auto;line-height:normal;font-family:Menlo,'DejaVu Sans Mono',consolas,'Courier New',monospace\">22:37:25.544 | <span style=\"color: #008080; text-decoration-color: #008080\">INFO</span>    | Flow run<span style=\"color: #800080; text-decoration-color: #800080\"> 'statuesque-swift'</span> - Created task run 't_extract_nobel_prizes-5' for task 't_extract_nobel_prizes'\n",
       "</pre>\n"
      ],
      "text/plain": [
       "22:37:25.544 | \u001b[36mINFO\u001b[0m    | Flow run\u001b[35m 'statuesque-swift'\u001b[0m - Created task run 't_extract_nobel_prizes-5' for task 't_extract_nobel_prizes'\n"
      ]
     },
     "metadata": {},
     "output_type": "display_data"
    },
    {
     "data": {
      "text/html": [
       "<pre style=\"white-space:pre;overflow-x:auto;line-height:normal;font-family:Menlo,'DejaVu Sans Mono',consolas,'Courier New',monospace\">22:37:25.549 | <span style=\"color: #008080; text-decoration-color: #008080\">INFO</span>    | Flow run<span style=\"color: #800080; text-decoration-color: #800080\"> 'statuesque-swift'</span> - Submitted task run 't_extract_nobel_prizes-5' for execution.\n",
       "</pre>\n"
      ],
      "text/plain": [
       "22:37:25.549 | \u001b[36mINFO\u001b[0m    | Flow run\u001b[35m 'statuesque-swift'\u001b[0m - Submitted task run 't_extract_nobel_prizes-5' for execution.\n"
      ]
     },
     "metadata": {},
     "output_type": "display_data"
    },
    {
     "data": {
      "text/html": [
       "<pre style=\"white-space:pre;overflow-x:auto;line-height:normal;font-family:Menlo,'DejaVu Sans Mono',consolas,'Courier New',monospace\">22:37:25.945 | <span style=\"color: #008080; text-decoration-color: #008080\">INFO</span>    | Task run 't_extract_nobel_prizes-0' - Finished in state <span style=\"color: #008000; text-decoration-color: #008000\">Completed</span>()\n",
       "</pre>\n"
      ],
      "text/plain": [
       "22:37:25.945 | \u001b[36mINFO\u001b[0m    | Task run 't_extract_nobel_prizes-0' - Finished in state \u001b[32mCompleted\u001b[0m()\n"
      ]
     },
     "metadata": {},
     "output_type": "display_data"
    },
    {
     "name": "stdout",
     "output_type": "stream",
     "text": [
      "extractLaureate response status code: 200\n",
      "{'statusCode': 200, 'body': 'Extraction successful'}\n"
     ]
    },
    {
     "data": {
      "text/html": [
       "<pre style=\"white-space:pre;overflow-x:auto;line-height:normal;font-family:Menlo,'DejaVu Sans Mono',consolas,'Courier New',monospace\">22:37:26.172 | <span style=\"color: #008080; text-decoration-color: #008080\">INFO</span>    | Flow run<span style=\"color: #800080; text-decoration-color: #800080\"> 'statuesque-swift'</span> - Created task run 't_extract_laureate-5' for task 't_extract_laureate'\n",
       "</pre>\n"
      ],
      "text/plain": [
       "22:37:26.172 | \u001b[36mINFO\u001b[0m    | Flow run\u001b[35m 'statuesque-swift'\u001b[0m - Created task run 't_extract_laureate-5' for task 't_extract_laureate'\n"
      ]
     },
     "metadata": {},
     "output_type": "display_data"
    },
    {
     "data": {
      "text/html": [
       "<pre style=\"white-space:pre;overflow-x:auto;line-height:normal;font-family:Menlo,'DejaVu Sans Mono',consolas,'Courier New',monospace\">22:37:26.208 | <span style=\"color: #008080; text-decoration-color: #008080\">INFO</span>    | Flow run<span style=\"color: #800080; text-decoration-color: #800080\"> 'statuesque-swift'</span> - Submitted task run 't_extract_laureate-5' for execution.\n",
       "</pre>\n"
      ],
      "text/plain": [
       "22:37:26.208 | \u001b[36mINFO\u001b[0m    | Flow run\u001b[35m 'statuesque-swift'\u001b[0m - Submitted task run 't_extract_laureate-5' for execution.\n"
      ]
     },
     "metadata": {},
     "output_type": "display_data"
    },
    {
     "name": "stdout",
     "output_type": "stream",
     "text": [
      "extractLaureate laureate_id_list=['993']\n",
      "extractLaureate laureate_id=993\n"
     ]
    },
    {
     "data": {
      "text/html": [
       "<pre style=\"white-space:pre;overflow-x:auto;line-height:normal;font-family:Menlo,'DejaVu Sans Mono',consolas,'Courier New',monospace\">22:37:27.168 | <span style=\"color: #008080; text-decoration-color: #008080\">INFO</span>    | Task run 't_extract_laureate-1' - Finished in state <span style=\"color: #008000; text-decoration-color: #008000\">Completed</span>()\n",
       "</pre>\n"
      ],
      "text/plain": [
       "22:37:27.168 | \u001b[36mINFO\u001b[0m    | Task run 't_extract_laureate-1' - Finished in state \u001b[32mCompleted\u001b[0m()\n"
      ]
     },
     "metadata": {},
     "output_type": "display_data"
    },
    {
     "name": "stdout",
     "output_type": "stream",
     "text": [
      "extractNobelPrizes category=med, year=2020\n",
      "extractLaureate response status code: 200\n",
      "{'statusCode': 200, 'body': 'Extraction successful'}\n",
      "extractLaureate laureate_id_list=['988', '989', '990']\n",
      "extractLaureate laureate_id=988\n"
     ]
    },
    {
     "data": {
      "text/html": [
       "<pre style=\"white-space:pre;overflow-x:auto;line-height:normal;font-family:Menlo,'DejaVu Sans Mono',consolas,'Courier New',monospace\">22:37:27.982 | <span style=\"color: #008080; text-decoration-color: #008080\">INFO</span>    | Task run 't_extract_laureate-3' - Finished in state <span style=\"color: #008000; text-decoration-color: #008000\">Completed</span>()\n",
       "</pre>\n"
      ],
      "text/plain": [
       "22:37:27.982 | \u001b[36mINFO\u001b[0m    | Task run 't_extract_laureate-3' - Finished in state \u001b[32mCompleted\u001b[0m()\n"
      ]
     },
     "metadata": {},
     "output_type": "display_data"
    },
    {
     "data": {
      "text/html": [
       "<pre style=\"white-space:pre;overflow-x:auto;line-height:normal;font-family:Menlo,'DejaVu Sans Mono',consolas,'Courier New',monospace\">22:37:28.132 | <span style=\"color: #008080; text-decoration-color: #008080\">INFO</span>    | Task run 't_extract_laureate-2' - Finished in state <span style=\"color: #008000; text-decoration-color: #008000\">Completed</span>()\n",
       "</pre>\n"
      ],
      "text/plain": [
       "22:37:28.132 | \u001b[36mINFO\u001b[0m    | Task run 't_extract_laureate-2' - Finished in state \u001b[32mCompleted\u001b[0m()\n"
      ]
     },
     "metadata": {},
     "output_type": "display_data"
    },
    {
     "name": "stdout",
     "output_type": "stream",
     "text": [
      "extractLaureate response status code: 200\n",
      "{'statusCode': 200, 'body': 'Extraction successful'}\n",
      "extractLaureate laureate_id=989\n",
      "extractNobelPrizes response status code: 200\n",
      "{'statusCode': 200, 'body': '[\"985\", \"986\", \"987\"]'}\n"
     ]
    },
    {
     "data": {
      "text/html": [
       "<pre style=\"white-space:pre;overflow-x:auto;line-height:normal;font-family:Menlo,'DejaVu Sans Mono',consolas,'Courier New',monospace\">22:37:28.553 | <span style=\"color: #008080; text-decoration-color: #008080\">INFO</span>    | Flow run<span style=\"color: #800080; text-decoration-color: #800080\"> 'statuesque-swift'</span> - Created task run 't_bronze_laureates-0' for task 't_bronze_laureates'\n",
       "</pre>\n"
      ],
      "text/plain": [
       "22:37:28.553 | \u001b[36mINFO\u001b[0m    | Flow run\u001b[35m 'statuesque-swift'\u001b[0m - Created task run 't_bronze_laureates-0' for task 't_bronze_laureates'\n"
      ]
     },
     "metadata": {},
     "output_type": "display_data"
    },
    {
     "data": {
      "text/html": [
       "<pre style=\"white-space:pre;overflow-x:auto;line-height:normal;font-family:Menlo,'DejaVu Sans Mono',consolas,'Courier New',monospace\">22:37:28.566 | <span style=\"color: #008080; text-decoration-color: #008080\">INFO</span>    | Flow run<span style=\"color: #800080; text-decoration-color: #800080\"> 'statuesque-swift'</span> - Executing 't_bronze_laureates-0' immediately...\n",
       "</pre>\n"
      ],
      "text/plain": [
       "22:37:28.566 | \u001b[36mINFO\u001b[0m    | Flow run\u001b[35m 'statuesque-swift'\u001b[0m - Executing 't_bronze_laureates-0' immediately...\n"
      ]
     },
     "metadata": {},
     "output_type": "display_data"
    },
    {
     "name": "stdout",
     "output_type": "stream",
     "text": [
      "extractLaureate laureate_id_list=['991', '992']\n",
      "extractLaureate laureate_id=991\n"
     ]
    },
    {
     "data": {
      "text/html": [
       "<pre style=\"white-space:pre;overflow-x:auto;line-height:normal;font-family:Menlo,'DejaVu Sans Mono',consolas,'Courier New',monospace\">22:37:28.861 | <span style=\"color: #008080; text-decoration-color: #008080\">INFO</span>    | Task run 't_extract_nobel_prizes-5' - Finished in state <span style=\"color: #008000; text-decoration-color: #008000\">Completed</span>()\n",
       "</pre>\n"
      ],
      "text/plain": [
       "22:37:28.861 | \u001b[36mINFO\u001b[0m    | Task run 't_extract_nobel_prizes-5' - Finished in state \u001b[32mCompleted\u001b[0m()\n"
      ]
     },
     "metadata": {},
     "output_type": "display_data"
    },
    {
     "name": "stdout",
     "output_type": "stream",
     "text": [
      "extractLaureate response status code: 200\n",
      "{'statusCode': 200, 'body': 'Extraction successful'}\n",
      "extractLaureate laureate_id=990\n",
      "extractLaureate laureate_id_list=['985', '986', '987']\n",
      "extractLaureate laureate_id=985\n",
      "extractLaureate response status code: 200\n",
      "{'statusCode': 200, 'body': 'Extraction successful'}\n",
      "extractLaureate laureate_id=992\n",
      "extractLaureate response status code: 200\n",
      "{'statusCode': 200, 'body': 'Extraction successful'}\n"
     ]
    },
    {
     "data": {
      "text/html": [
       "<pre style=\"white-space:pre;overflow-x:auto;line-height:normal;font-family:Menlo,'DejaVu Sans Mono',consolas,'Courier New',monospace\">22:37:29.911 | <span style=\"color: #008080; text-decoration-color: #008080\">INFO</span>    | Task run 't_extract_laureate-4' - Finished in state <span style=\"color: #008000; text-decoration-color: #008000\">Completed</span>()\n",
       "</pre>\n"
      ],
      "text/plain": [
       "22:37:29.911 | \u001b[36mINFO\u001b[0m    | Task run 't_extract_laureate-4' - Finished in state \u001b[32mCompleted\u001b[0m()\n"
      ]
     },
     "metadata": {},
     "output_type": "display_data"
    },
    {
     "name": "stdout",
     "output_type": "stream",
     "text": [
      "extractLaureate response status code: 200\n",
      "{'statusCode': 200, 'body': 'Extraction successful'}\n",
      "extractLaureate response status code: 200\n",
      "{'statusCode': 200, 'body': 'Extraction successful'}\n",
      "extractLaureate laureate_id=986\n"
     ]
    },
    {
     "data": {
      "text/html": [
       "<pre style=\"white-space:pre;overflow-x:auto;line-height:normal;font-family:Menlo,'DejaVu Sans Mono',consolas,'Courier New',monospace\">22:37:30.323 | <span style=\"color: #008080; text-decoration-color: #008080\">INFO</span>    | Task run 't_extract_laureate-0' - Finished in state <span style=\"color: #008000; text-decoration-color: #008000\">Completed</span>()\n",
       "</pre>\n"
      ],
      "text/plain": [
       "22:37:30.323 | \u001b[36mINFO\u001b[0m    | Task run 't_extract_laureate-0' - Finished in state \u001b[32mCompleted\u001b[0m()\n"
      ]
     },
     "metadata": {},
     "output_type": "display_data"
    },
    {
     "name": "stdout",
     "output_type": "stream",
     "text": [
      "extractLaureate response status code: 200\n",
      "{'statusCode': 200, 'body': 'Extraction successful'}\n",
      "extractLaureate laureate_id=987\n",
      "extractLaureate response status code: 200\n",
      "{'statusCode': 200, 'body': 'Extraction successful'}\n"
     ]
    },
    {
     "data": {
      "text/html": [
       "<pre style=\"white-space:pre;overflow-x:auto;line-height:normal;font-family:Menlo,'DejaVu Sans Mono',consolas,'Courier New',monospace\">22:37:31.919 | <span style=\"color: #008080; text-decoration-color: #008080\">INFO</span>    | Task run 't_extract_laureate-5' - Finished in state <span style=\"color: #008000; text-decoration-color: #008000\">Completed</span>()\n",
       "</pre>\n"
      ],
      "text/plain": [
       "22:37:31.919 | \u001b[36mINFO\u001b[0m    | Task run 't_extract_laureate-5' - Finished in state \u001b[32mCompleted\u001b[0m()\n"
      ]
     },
     "metadata": {},
     "output_type": "display_data"
    },
    {
     "name": "stdout",
     "output_type": "stream",
     "text": [
      "Beginning getBronzeLaureates\n",
      "getBronzeLaureates response status code: 200\n",
      "{'statusCode': 200, 'body': '\"Data processed and saved successfully\"'}\n"
     ]
    },
    {
     "data": {
      "text/html": [
       "<pre style=\"white-space:pre;overflow-x:auto;line-height:normal;font-family:Menlo,'DejaVu Sans Mono',consolas,'Courier New',monospace\">22:37:33.860 | <span style=\"color: #008080; text-decoration-color: #008080\">INFO</span>    | Task run 't_bronze_laureates-0' - Finished in state <span style=\"color: #008000; text-decoration-color: #008000\">Completed</span>()\n",
       "</pre>\n"
      ],
      "text/plain": [
       "22:37:33.860 | \u001b[36mINFO\u001b[0m    | Task run 't_bronze_laureates-0' - Finished in state \u001b[32mCompleted\u001b[0m()\n"
      ]
     },
     "metadata": {},
     "output_type": "display_data"
    },
    {
     "data": {
      "text/html": [
       "<pre style=\"white-space:pre;overflow-x:auto;line-height:normal;font-family:Menlo,'DejaVu Sans Mono',consolas,'Courier New',monospace\">22:37:34.116 | <span style=\"color: #008080; text-decoration-color: #008080\">INFO</span>    | Flow run<span style=\"color: #800080; text-decoration-color: #800080\"> 'statuesque-swift'</span> - Finished in state <span style=\"color: #008000; text-decoration-color: #008000\">Completed</span>('All states completed.')\n",
       "</pre>\n"
      ],
      "text/plain": [
       "22:37:34.116 | \u001b[36mINFO\u001b[0m    | Flow run\u001b[35m 'statuesque-swift'\u001b[0m - Finished in state \u001b[32mCompleted\u001b[0m('All states completed.')\n"
      ]
     },
     "metadata": {},
     "output_type": "display_data"
    },
    {
     "data": {
      "text/html": [
       "<pre style=\"white-space:pre;overflow-x:auto;line-height:normal;font-family:Menlo,'DejaVu Sans Mono',consolas,'Courier New',monospace\">22:37:35.219 | <span style=\"color: #008080; text-decoration-color: #008080\">INFO</span>    | prefect.engine - Created flow run<span style=\"color: #800080; text-decoration-color: #800080\"> 'friendly-vulture'</span> for flow<span style=\"color: #800080; text-decoration-color: #800080; font-weight: bold\"> 'f_nobel_prizes_etl'</span>\n",
       "</pre>\n"
      ],
      "text/plain": [
       "22:37:35.219 | \u001b[36mINFO\u001b[0m    | prefect.engine - Created flow run\u001b[35m 'friendly-vulture'\u001b[0m for flow\u001b[1;35m 'f_nobel_prizes_etl'\u001b[0m\n"
      ]
     },
     "metadata": {},
     "output_type": "display_data"
    },
    {
     "name": "stdout",
     "output_type": "stream",
     "text": [
      "Taking previous_year as 2021\n"
     ]
    },
    {
     "data": {
      "text/html": [
       "<pre style=\"white-space:pre;overflow-x:auto;line-height:normal;font-family:Menlo,'DejaVu Sans Mono',consolas,'Courier New',monospace\">22:37:36.115 | <span style=\"color: #008080; text-decoration-color: #008080\">INFO</span>    | Flow run<span style=\"color: #800080; text-decoration-color: #800080\"> 'friendly-vulture'</span> - Created task run 't_extract_nobel_prizes-3' for task 't_extract_nobel_prizes'\n",
       "</pre>\n"
      ],
      "text/plain": [
       "22:37:36.115 | \u001b[36mINFO\u001b[0m    | Flow run\u001b[35m 'friendly-vulture'\u001b[0m - Created task run 't_extract_nobel_prizes-3' for task 't_extract_nobel_prizes'\n"
      ]
     },
     "metadata": {},
     "output_type": "display_data"
    },
    {
     "data": {
      "text/html": [
       "<pre style=\"white-space:pre;overflow-x:auto;line-height:normal;font-family:Menlo,'DejaVu Sans Mono',consolas,'Courier New',monospace\">22:37:36.121 | <span style=\"color: #008080; text-decoration-color: #008080\">INFO</span>    | Flow run<span style=\"color: #800080; text-decoration-color: #800080\"> 'friendly-vulture'</span> - Submitted task run 't_extract_nobel_prizes-3' for execution.\n",
       "</pre>\n"
      ],
      "text/plain": [
       "22:37:36.121 | \u001b[36mINFO\u001b[0m    | Flow run\u001b[35m 'friendly-vulture'\u001b[0m - Submitted task run 't_extract_nobel_prizes-3' for execution.\n"
      ]
     },
     "metadata": {},
     "output_type": "display_data"
    },
    {
     "data": {
      "text/html": [
       "<pre style=\"white-space:pre;overflow-x:auto;line-height:normal;font-family:Menlo,'DejaVu Sans Mono',consolas,'Courier New',monospace\">22:37:36.320 | <span style=\"color: #008080; text-decoration-color: #008080\">INFO</span>    | Flow run<span style=\"color: #800080; text-decoration-color: #800080\"> 'friendly-vulture'</span> - Created task run 't_extract_nobel_prizes-0' for task 't_extract_nobel_prizes'\n",
       "</pre>\n"
      ],
      "text/plain": [
       "22:37:36.320 | \u001b[36mINFO\u001b[0m    | Flow run\u001b[35m 'friendly-vulture'\u001b[0m - Created task run 't_extract_nobel_prizes-0' for task 't_extract_nobel_prizes'\n"
      ]
     },
     "metadata": {},
     "output_type": "display_data"
    },
    {
     "data": {
      "text/html": [
       "<pre style=\"white-space:pre;overflow-x:auto;line-height:normal;font-family:Menlo,'DejaVu Sans Mono',consolas,'Courier New',monospace\">22:37:36.325 | <span style=\"color: #008080; text-decoration-color: #008080\">INFO</span>    | Flow run<span style=\"color: #800080; text-decoration-color: #800080\"> 'friendly-vulture'</span> - Submitted task run 't_extract_nobel_prizes-0' for execution.\n",
       "</pre>\n"
      ],
      "text/plain": [
       "22:37:36.325 | \u001b[36mINFO\u001b[0m    | Flow run\u001b[35m 'friendly-vulture'\u001b[0m - Submitted task run 't_extract_nobel_prizes-0' for execution.\n"
      ]
     },
     "metadata": {},
     "output_type": "display_data"
    },
    {
     "data": {
      "text/html": [
       "<pre style=\"white-space:pre;overflow-x:auto;line-height:normal;font-family:Menlo,'DejaVu Sans Mono',consolas,'Courier New',monospace\">22:37:36.792 | <span style=\"color: #008080; text-decoration-color: #008080\">INFO</span>    | Flow run<span style=\"color: #800080; text-decoration-color: #800080\"> 'friendly-vulture'</span> - Created task run 't_extract_nobel_prizes-4' for task 't_extract_nobel_prizes'\n",
       "</pre>\n"
      ],
      "text/plain": [
       "22:37:36.792 | \u001b[36mINFO\u001b[0m    | Flow run\u001b[35m 'friendly-vulture'\u001b[0m - Created task run 't_extract_nobel_prizes-4' for task 't_extract_nobel_prizes'\n"
      ]
     },
     "metadata": {},
     "output_type": "display_data"
    },
    {
     "data": {
      "text/html": [
       "<pre style=\"white-space:pre;overflow-x:auto;line-height:normal;font-family:Menlo,'DejaVu Sans Mono',consolas,'Courier New',monospace\">22:37:36.801 | <span style=\"color: #008080; text-decoration-color: #008080\">INFO</span>    | Flow run<span style=\"color: #800080; text-decoration-color: #800080\"> 'friendly-vulture'</span> - Submitted task run 't_extract_nobel_prizes-4' for execution.\n",
       "</pre>\n"
      ],
      "text/plain": [
       "22:37:36.801 | \u001b[36mINFO\u001b[0m    | Flow run\u001b[35m 'friendly-vulture'\u001b[0m - Submitted task run 't_extract_nobel_prizes-4' for execution.\n"
      ]
     },
     "metadata": {},
     "output_type": "display_data"
    },
    {
     "data": {
      "text/html": [
       "<pre style=\"white-space:pre;overflow-x:auto;line-height:normal;font-family:Menlo,'DejaVu Sans Mono',consolas,'Courier New',monospace\">22:37:37.206 | <span style=\"color: #008080; text-decoration-color: #008080\">INFO</span>    | Flow run<span style=\"color: #800080; text-decoration-color: #800080\"> 'friendly-vulture'</span> - Created task run 't_extract_laureate-3' for task 't_extract_laureate'\n",
       "</pre>\n"
      ],
      "text/plain": [
       "22:37:37.206 | \u001b[36mINFO\u001b[0m    | Flow run\u001b[35m 'friendly-vulture'\u001b[0m - Created task run 't_extract_laureate-3' for task 't_extract_laureate'\n"
      ]
     },
     "metadata": {},
     "output_type": "display_data"
    },
    {
     "data": {
      "text/html": [
       "<pre style=\"white-space:pre;overflow-x:auto;line-height:normal;font-family:Menlo,'DejaVu Sans Mono',consolas,'Courier New',monospace\">22:37:37.218 | <span style=\"color: #008080; text-decoration-color: #008080\">INFO</span>    | Flow run<span style=\"color: #800080; text-decoration-color: #800080\"> 'friendly-vulture'</span> - Submitted task run 't_extract_laureate-3' for execution.\n",
       "</pre>\n"
      ],
      "text/plain": [
       "22:37:37.218 | \u001b[36mINFO\u001b[0m    | Flow run\u001b[35m 'friendly-vulture'\u001b[0m - Submitted task run 't_extract_laureate-3' for execution.\n"
      ]
     },
     "metadata": {},
     "output_type": "display_data"
    },
    {
     "name": "stdout",
     "output_type": "stream",
     "text": [
      "extractNobelPrizes category=pea, year=2021\n"
     ]
    },
    {
     "data": {
      "text/html": [
       "<pre style=\"white-space:pre;overflow-x:auto;line-height:normal;font-family:Menlo,'DejaVu Sans Mono',consolas,'Courier New',monospace\">22:37:38.456 | <span style=\"color: #008080; text-decoration-color: #008080\">INFO</span>    | Flow run<span style=\"color: #800080; text-decoration-color: #800080\"> 'friendly-vulture'</span> - Created task run 't_extract_nobel_prizes-1' for task 't_extract_nobel_prizes'\n",
       "</pre>\n"
      ],
      "text/plain": [
       "22:37:38.456 | \u001b[36mINFO\u001b[0m    | Flow run\u001b[35m 'friendly-vulture'\u001b[0m - Created task run 't_extract_nobel_prizes-1' for task 't_extract_nobel_prizes'\n"
      ]
     },
     "metadata": {},
     "output_type": "display_data"
    },
    {
     "data": {
      "text/html": [
       "<pre style=\"white-space:pre;overflow-x:auto;line-height:normal;font-family:Menlo,'DejaVu Sans Mono',consolas,'Courier New',monospace\">22:37:38.464 | <span style=\"color: #008080; text-decoration-color: #008080\">INFO</span>    | Flow run<span style=\"color: #800080; text-decoration-color: #800080\"> 'friendly-vulture'</span> - Submitted task run 't_extract_nobel_prizes-1' for execution.\n",
       "</pre>\n"
      ],
      "text/plain": [
       "22:37:38.464 | \u001b[36mINFO\u001b[0m    | Flow run\u001b[35m 'friendly-vulture'\u001b[0m - Submitted task run 't_extract_nobel_prizes-1' for execution.\n"
      ]
     },
     "metadata": {},
     "output_type": "display_data"
    },
    {
     "name": "stdout",
     "output_type": "stream",
     "text": [
      "extractNobelPrizes category=phy, year=2021\n"
     ]
    },
    {
     "data": {
      "text/html": [
       "<pre style=\"white-space:pre;overflow-x:auto;line-height:normal;font-family:Menlo,'DejaVu Sans Mono',consolas,'Courier New',monospace\">22:37:38.786 | <span style=\"color: #008080; text-decoration-color: #008080\">INFO</span>    | Flow run<span style=\"color: #800080; text-decoration-color: #800080\"> 'friendly-vulture'</span> - Created task run 't_extract_laureate-4' for task 't_extract_laureate'\n",
       "</pre>\n"
      ],
      "text/plain": [
       "22:37:38.786 | \u001b[36mINFO\u001b[0m    | Flow run\u001b[35m 'friendly-vulture'\u001b[0m - Created task run 't_extract_laureate-4' for task 't_extract_laureate'\n"
      ]
     },
     "metadata": {},
     "output_type": "display_data"
    },
    {
     "data": {
      "text/html": [
       "<pre style=\"white-space:pre;overflow-x:auto;line-height:normal;font-family:Menlo,'DejaVu Sans Mono',consolas,'Courier New',monospace\">22:37:38.872 | <span style=\"color: #008080; text-decoration-color: #008080\">INFO</span>    | Flow run<span style=\"color: #800080; text-decoration-color: #800080\"> 'friendly-vulture'</span> - Submitted task run 't_extract_laureate-4' for execution.\n",
       "</pre>\n"
      ],
      "text/plain": [
       "22:37:38.872 | \u001b[36mINFO\u001b[0m    | Flow run\u001b[35m 'friendly-vulture'\u001b[0m - Submitted task run 't_extract_laureate-4' for execution.\n"
      ]
     },
     "metadata": {},
     "output_type": "display_data"
    },
    {
     "name": "stdout",
     "output_type": "stream",
     "text": [
      "extractNobelPrizes response status code: 200\n",
      "{'statusCode': 200, 'body': '[\"1005\", \"1006\"]'}\n"
     ]
    },
    {
     "data": {
      "text/html": [
       "<pre style=\"white-space:pre;overflow-x:auto;line-height:normal;font-family:Menlo,'DejaVu Sans Mono',consolas,'Courier New',monospace\">22:37:39.253 | <span style=\"color: #008080; text-decoration-color: #008080\">INFO</span>    | Flow run<span style=\"color: #800080; text-decoration-color: #800080\"> 'friendly-vulture'</span> - Created task run 't_extract_nobel_prizes-5' for task 't_extract_nobel_prizes'\n",
       "</pre>\n"
      ],
      "text/plain": [
       "22:37:39.253 | \u001b[36mINFO\u001b[0m    | Flow run\u001b[35m 'friendly-vulture'\u001b[0m - Created task run 't_extract_nobel_prizes-5' for task 't_extract_nobel_prizes'\n"
      ]
     },
     "metadata": {},
     "output_type": "display_data"
    },
    {
     "data": {
      "text/html": [
       "<pre style=\"white-space:pre;overflow-x:auto;line-height:normal;font-family:Menlo,'DejaVu Sans Mono',consolas,'Courier New',monospace\">22:37:39.258 | <span style=\"color: #008080; text-decoration-color: #008080\">INFO</span>    | Flow run<span style=\"color: #800080; text-decoration-color: #800080\"> 'friendly-vulture'</span> - Submitted task run 't_extract_nobel_prizes-5' for execution.\n",
       "</pre>\n"
      ],
      "text/plain": [
       "22:37:39.258 | \u001b[36mINFO\u001b[0m    | Flow run\u001b[35m 'friendly-vulture'\u001b[0m - Submitted task run 't_extract_nobel_prizes-5' for execution.\n"
      ]
     },
     "metadata": {},
     "output_type": "display_data"
    },
    {
     "data": {
      "text/html": [
       "<pre style=\"white-space:pre;overflow-x:auto;line-height:normal;font-family:Menlo,'DejaVu Sans Mono',consolas,'Courier New',monospace\">22:37:39.508 | <span style=\"color: #008080; text-decoration-color: #008080\">INFO</span>    | Flow run<span style=\"color: #800080; text-decoration-color: #800080\"> 'friendly-vulture'</span> - Created task run 't_extract_laureate-1' for task 't_extract_laureate'\n",
       "</pre>\n"
      ],
      "text/plain": [
       "22:37:39.508 | \u001b[36mINFO\u001b[0m    | Flow run\u001b[35m 'friendly-vulture'\u001b[0m - Created task run 't_extract_laureate-1' for task 't_extract_laureate'\n"
      ]
     },
     "metadata": {},
     "output_type": "display_data"
    },
    {
     "data": {
      "text/html": [
       "<pre style=\"white-space:pre;overflow-x:auto;line-height:normal;font-family:Menlo,'DejaVu Sans Mono',consolas,'Courier New',monospace\">22:37:39.515 | <span style=\"color: #008080; text-decoration-color: #008080\">INFO</span>    | Flow run<span style=\"color: #800080; text-decoration-color: #800080\"> 'friendly-vulture'</span> - Submitted task run 't_extract_laureate-1' for execution.\n",
       "</pre>\n"
      ],
      "text/plain": [
       "22:37:39.515 | \u001b[36mINFO\u001b[0m    | Flow run\u001b[35m 'friendly-vulture'\u001b[0m - Submitted task run 't_extract_laureate-1' for execution.\n"
      ]
     },
     "metadata": {},
     "output_type": "display_data"
    },
    {
     "name": "stdout",
     "output_type": "stream",
     "text": [
      "extractNobelPrizes response status code: 200\n",
      "{'statusCode': 200, 'body': '[\"999\", \"1000\", \"1001\"]'}\n"
     ]
    },
    {
     "data": {
      "text/html": [
       "<pre style=\"white-space:pre;overflow-x:auto;line-height:normal;font-family:Menlo,'DejaVu Sans Mono',consolas,'Courier New',monospace\">22:37:39.783 | <span style=\"color: #008080; text-decoration-color: #008080\">INFO</span>    | Flow run<span style=\"color: #800080; text-decoration-color: #800080\"> 'friendly-vulture'</span> - Created task run 't_extract_laureate-0' for task 't_extract_laureate'\n",
       "</pre>\n"
      ],
      "text/plain": [
       "22:37:39.783 | \u001b[36mINFO\u001b[0m    | Flow run\u001b[35m 'friendly-vulture'\u001b[0m - Created task run 't_extract_laureate-0' for task 't_extract_laureate'\n"
      ]
     },
     "metadata": {},
     "output_type": "display_data"
    },
    {
     "data": {
      "text/html": [
       "<pre style=\"white-space:pre;overflow-x:auto;line-height:normal;font-family:Menlo,'DejaVu Sans Mono',consolas,'Courier New',monospace\">22:37:39.804 | <span style=\"color: #008080; text-decoration-color: #008080\">INFO</span>    | Flow run<span style=\"color: #800080; text-decoration-color: #800080\"> 'friendly-vulture'</span> - Submitted task run 't_extract_laureate-0' for execution.\n",
       "</pre>\n"
      ],
      "text/plain": [
       "22:37:39.804 | \u001b[36mINFO\u001b[0m    | Flow run\u001b[35m 'friendly-vulture'\u001b[0m - Submitted task run 't_extract_laureate-0' for execution.\n"
      ]
     },
     "metadata": {},
     "output_type": "display_data"
    },
    {
     "data": {
      "text/html": [
       "<pre style=\"white-space:pre;overflow-x:auto;line-height:normal;font-family:Menlo,'DejaVu Sans Mono',consolas,'Courier New',monospace\">22:37:40.224 | <span style=\"color: #008080; text-decoration-color: #008080\">INFO</span>    | Flow run<span style=\"color: #800080; text-decoration-color: #800080\"> 'friendly-vulture'</span> - Created task run 't_extract_laureate-5' for task 't_extract_laureate'\n",
       "</pre>\n"
      ],
      "text/plain": [
       "22:37:40.224 | \u001b[36mINFO\u001b[0m    | Flow run\u001b[35m 'friendly-vulture'\u001b[0m - Created task run 't_extract_laureate-5' for task 't_extract_laureate'\n"
      ]
     },
     "metadata": {},
     "output_type": "display_data"
    },
    {
     "data": {
      "text/html": [
       "<pre style=\"white-space:pre;overflow-x:auto;line-height:normal;font-family:Menlo,'DejaVu Sans Mono',consolas,'Courier New',monospace\">22:37:40.234 | <span style=\"color: #008080; text-decoration-color: #008080\">INFO</span>    | Flow run<span style=\"color: #800080; text-decoration-color: #800080\"> 'friendly-vulture'</span> - Submitted task run 't_extract_laureate-5' for execution.\n",
       "</pre>\n"
      ],
      "text/plain": [
       "22:37:40.234 | \u001b[36mINFO\u001b[0m    | Flow run\u001b[35m 'friendly-vulture'\u001b[0m - Submitted task run 't_extract_laureate-5' for execution.\n"
      ]
     },
     "metadata": {},
     "output_type": "display_data"
    },
    {
     "data": {
      "text/html": [
       "<pre style=\"white-space:pre;overflow-x:auto;line-height:normal;font-family:Menlo,'DejaVu Sans Mono',consolas,'Courier New',monospace\">22:37:40.741 | <span style=\"color: #008080; text-decoration-color: #008080\">INFO</span>    | Task run 't_extract_nobel_prizes-3' - Finished in state <span style=\"color: #008000; text-decoration-color: #008000\">Completed</span>()\n",
       "</pre>\n"
      ],
      "text/plain": [
       "22:37:40.741 | \u001b[36mINFO\u001b[0m    | Task run 't_extract_nobel_prizes-3' - Finished in state \u001b[32mCompleted\u001b[0m()\n"
      ]
     },
     "metadata": {},
     "output_type": "display_data"
    },
    {
     "name": "stdout",
     "output_type": "stream",
     "text": [
      "extractNobelPrizes category=med, year=2021\n"
     ]
    },
    {
     "data": {
      "text/html": [
       "<pre style=\"white-space:pre;overflow-x:auto;line-height:normal;font-family:Menlo,'DejaVu Sans Mono',consolas,'Courier New',monospace\">22:37:41.931 | <span style=\"color: #008080; text-decoration-color: #008080\">INFO</span>    | Task run 't_extract_nobel_prizes-4' - Finished in state <span style=\"color: #008000; text-decoration-color: #008000\">Completed</span>()\n",
       "</pre>\n"
      ],
      "text/plain": [
       "22:37:41.931 | \u001b[36mINFO\u001b[0m    | Task run 't_extract_nobel_prizes-4' - Finished in state \u001b[32mCompleted\u001b[0m()\n"
      ]
     },
     "metadata": {},
     "output_type": "display_data"
    },
    {
     "name": "stdout",
     "output_type": "stream",
     "text": [
      "extractLaureate laureate_id_list=['1005', '1006']\n",
      "extractLaureate laureate_id=1005\n",
      "extractNobelPrizes response status code: 200\n",
      "{'statusCode': 200, 'body': '[\"997\", \"998\"]'}\n",
      "extractNobelPrizes category=eco, year=2021\n",
      "extractLaureate response status code: 200\n",
      "{'statusCode': 200, 'body': 'Extraction successful'}\n",
      "extractLaureate laureate_id=1006\n",
      "extractNobelPrizes category=che, year=2021\n"
     ]
    },
    {
     "data": {
      "text/html": [
       "<pre style=\"white-space:pre;overflow-x:auto;line-height:normal;font-family:Menlo,'DejaVu Sans Mono',consolas,'Courier New',monospace\">22:37:42.680 | <span style=\"color: #008080; text-decoration-color: #008080\">INFO</span>    | Task run 't_extract_nobel_prizes-5' - Finished in state <span style=\"color: #008000; text-decoration-color: #008000\">Completed</span>()\n",
       "</pre>\n"
      ],
      "text/plain": [
       "22:37:42.680 | \u001b[36mINFO\u001b[0m    | Task run 't_extract_nobel_prizes-5' - Finished in state \u001b[32mCompleted\u001b[0m()\n"
      ]
     },
     "metadata": {},
     "output_type": "display_data"
    },
    {
     "data": {
      "text/html": [
       "<pre style=\"white-space:pre;overflow-x:auto;line-height:normal;font-family:Menlo,'DejaVu Sans Mono',consolas,'Courier New',monospace\">22:37:42.880 | <span style=\"color: #008080; text-decoration-color: #008080\">INFO</span>    | Flow run<span style=\"color: #800080; text-decoration-color: #800080\"> 'friendly-vulture'</span> - Created task run 't_extract_nobel_prizes-2' for task 't_extract_nobel_prizes'\n",
       "</pre>\n"
      ],
      "text/plain": [
       "22:37:42.880 | \u001b[36mINFO\u001b[0m    | Flow run\u001b[35m 'friendly-vulture'\u001b[0m - Created task run 't_extract_nobel_prizes-2' for task 't_extract_nobel_prizes'\n"
      ]
     },
     "metadata": {},
     "output_type": "display_data"
    },
    {
     "data": {
      "text/html": [
       "<pre style=\"white-space:pre;overflow-x:auto;line-height:normal;font-family:Menlo,'DejaVu Sans Mono',consolas,'Courier New',monospace\">22:37:42.888 | <span style=\"color: #008080; text-decoration-color: #008080\">INFO</span>    | Flow run<span style=\"color: #800080; text-decoration-color: #800080\"> 'friendly-vulture'</span> - Submitted task run 't_extract_nobel_prizes-2' for execution.\n",
       "</pre>\n"
      ],
      "text/plain": [
       "22:37:42.888 | \u001b[36mINFO\u001b[0m    | Flow run\u001b[35m 'friendly-vulture'\u001b[0m - Submitted task run 't_extract_nobel_prizes-2' for execution.\n"
      ]
     },
     "metadata": {},
     "output_type": "display_data"
    },
    {
     "name": "stdout",
     "output_type": "stream",
     "text": [
      "extractNobelPrizes response status code: 200\n",
      "{'statusCode': 200, 'body': '[\"1007\", \"1008\", \"1009\"]'}\n",
      "extractLaureate response status code: 200\n",
      "{'statusCode': 200, 'body': 'Extraction successful'}\n",
      "extractNobelPrizes response status code: 200\n",
      "{'statusCode': 200, 'body': '[\"1002\", \"1003\"]'}\n"
     ]
    },
    {
     "data": {
      "text/html": [
       "<pre style=\"white-space:pre;overflow-x:auto;line-height:normal;font-family:Menlo,'DejaVu Sans Mono',consolas,'Courier New',monospace\">22:37:43.887 | <span style=\"color: #008080; text-decoration-color: #008080\">INFO</span>    | Flow run<span style=\"color: #800080; text-decoration-color: #800080\"> 'friendly-vulture'</span> - Created task run 't_extract_laureate-2' for task 't_extract_laureate'\n",
       "</pre>\n"
      ],
      "text/plain": [
       "22:37:43.887 | \u001b[36mINFO\u001b[0m    | Flow run\u001b[35m 'friendly-vulture'\u001b[0m - Created task run 't_extract_laureate-2' for task 't_extract_laureate'\n"
      ]
     },
     "metadata": {},
     "output_type": "display_data"
    },
    {
     "data": {
      "text/html": [
       "<pre style=\"white-space:pre;overflow-x:auto;line-height:normal;font-family:Menlo,'DejaVu Sans Mono',consolas,'Courier New',monospace\">22:37:43.894 | <span style=\"color: #008080; text-decoration-color: #008080\">INFO</span>    | Flow run<span style=\"color: #800080; text-decoration-color: #800080\"> 'friendly-vulture'</span> - Submitted task run 't_extract_laureate-2' for execution.\n",
       "</pre>\n"
      ],
      "text/plain": [
       "22:37:43.894 | \u001b[36mINFO\u001b[0m    | Flow run\u001b[35m 'friendly-vulture'\u001b[0m - Submitted task run 't_extract_laureate-2' for execution.\n"
      ]
     },
     "metadata": {},
     "output_type": "display_data"
    },
    {
     "name": "stdout",
     "output_type": "stream",
     "text": [
      "extractLaureate laureate_id_list=['999', '1000', '1001']\n",
      "extractLaureate laureate_id=999\n"
     ]
    },
    {
     "data": {
      "text/html": [
       "<pre style=\"white-space:pre;overflow-x:auto;line-height:normal;font-family:Menlo,'DejaVu Sans Mono',consolas,'Courier New',monospace\">22:37:44.637 | <span style=\"color: #008080; text-decoration-color: #008080\">INFO</span>    | Flow run<span style=\"color: #800080; text-decoration-color: #800080\"> 'friendly-vulture'</span> - Created task run 't_bronze_laureates-0' for task 't_bronze_laureates'\n",
       "</pre>\n"
      ],
      "text/plain": [
       "22:37:44.637 | \u001b[36mINFO\u001b[0m    | Flow run\u001b[35m 'friendly-vulture'\u001b[0m - Created task run 't_bronze_laureates-0' for task 't_bronze_laureates'\n"
      ]
     },
     "metadata": {},
     "output_type": "display_data"
    },
    {
     "data": {
      "text/html": [
       "<pre style=\"white-space:pre;overflow-x:auto;line-height:normal;font-family:Menlo,'DejaVu Sans Mono',consolas,'Courier New',monospace\">22:37:44.646 | <span style=\"color: #008080; text-decoration-color: #008080\">INFO</span>    | Flow run<span style=\"color: #800080; text-decoration-color: #800080\"> 'friendly-vulture'</span> - Executing 't_bronze_laureates-0' immediately...\n",
       "</pre>\n"
      ],
      "text/plain": [
       "22:37:44.646 | \u001b[36mINFO\u001b[0m    | Flow run\u001b[35m 'friendly-vulture'\u001b[0m - Executing 't_bronze_laureates-0' immediately...\n"
      ]
     },
     "metadata": {},
     "output_type": "display_data"
    },
    {
     "name": "stdout",
     "output_type": "stream",
     "text": [
      "extractNobelPrizes category=lit, year=2021\n",
      "extractLaureate response status code: 200\n",
      "{'statusCode': 200, 'body': 'Extraction successful'}\n",
      "extractLaureate laureate_id=1000\n"
     ]
    },
    {
     "data": {
      "text/html": [
       "<pre style=\"white-space:pre;overflow-x:auto;line-height:normal;font-family:Menlo,'DejaVu Sans Mono',consolas,'Courier New',monospace\">22:37:45.448 | <span style=\"color: #008080; text-decoration-color: #008080\">INFO</span>    | Task run 't_extract_nobel_prizes-0' - Finished in state <span style=\"color: #008000; text-decoration-color: #008000\">Completed</span>()\n",
       "</pre>\n"
      ],
      "text/plain": [
       "22:37:45.448 | \u001b[36mINFO\u001b[0m    | Task run 't_extract_nobel_prizes-0' - Finished in state \u001b[32mCompleted\u001b[0m()\n"
      ]
     },
     "metadata": {},
     "output_type": "display_data"
    },
    {
     "name": "stdout",
     "output_type": "stream",
     "text": [
      "extractLaureate laureate_id_list=['997', '998']\n",
      "extractLaureate laureate_id=997\n",
      "extractLaureate response status code: 200\n",
      "{'statusCode': 200, 'body': 'Extraction successful'}\n",
      "extractLaureate laureate_id=1001\n",
      "extractNobelPrizes response status code: 200\n",
      "{'statusCode': 200, 'body': '[\"1004\"]'}\n"
     ]
    },
    {
     "data": {
      "text/html": [
       "<pre style=\"white-space:pre;overflow-x:auto;line-height:normal;font-family:Menlo,'DejaVu Sans Mono',consolas,'Courier New',monospace\">22:37:45.995 | <span style=\"color: #008080; text-decoration-color: #008080\">INFO</span>    | Task run 't_extract_nobel_prizes-1' - Finished in state <span style=\"color: #008000; text-decoration-color: #008000\">Completed</span>()\n",
       "</pre>\n"
      ],
      "text/plain": [
       "22:37:45.995 | \u001b[36mINFO\u001b[0m    | Task run 't_extract_nobel_prizes-1' - Finished in state \u001b[32mCompleted\u001b[0m()\n"
      ]
     },
     "metadata": {},
     "output_type": "display_data"
    },
    {
     "name": "stdout",
     "output_type": "stream",
     "text": [
      "extractLaureate response status code: 200\n",
      "{'statusCode': 200, 'body': 'Extraction successful'}\n",
      "extractLaureate laureate_id=998\n",
      "extractLaureate response status code: 200\n",
      "{'statusCode': 200, 'body': 'Extraction successful'}\n"
     ]
    },
    {
     "data": {
      "text/html": [
       "<pre style=\"white-space:pre;overflow-x:auto;line-height:normal;font-family:Menlo,'DejaVu Sans Mono',consolas,'Courier New',monospace\">22:37:46.411 | <span style=\"color: #008080; text-decoration-color: #008080\">INFO</span>    | Task run 't_extract_nobel_prizes-2' - Finished in state <span style=\"color: #008000; text-decoration-color: #008000\">Completed</span>()\n",
       "</pre>\n"
      ],
      "text/plain": [
       "22:37:46.411 | \u001b[36mINFO\u001b[0m    | Task run 't_extract_nobel_prizes-2' - Finished in state \u001b[32mCompleted\u001b[0m()\n"
      ]
     },
     "metadata": {},
     "output_type": "display_data"
    },
    {
     "name": "stdout",
     "output_type": "stream",
     "text": [
      "extractLaureate response status code: 200\n",
      "{'statusCode': 200, 'body': 'Extraction successful'}\n",
      "extractLaureate laureate_id_list=['1007', '1008', '1009']\n",
      "extractLaureate laureate_id=1007\n",
      "extractLaureate laureate_id_list=['1004']\n",
      "extractLaureate laureate_id=1004\n"
     ]
    },
    {
     "data": {
      "text/html": [
       "<pre style=\"white-space:pre;overflow-x:auto;line-height:normal;font-family:Menlo,'DejaVu Sans Mono',consolas,'Courier New',monospace\">22:37:47.560 | <span style=\"color: #008080; text-decoration-color: #008080\">INFO</span>    | Task run 't_extract_laureate-5' - Finished in state <span style=\"color: #008000; text-decoration-color: #008000\">Completed</span>()\n",
       "</pre>\n"
      ],
      "text/plain": [
       "22:37:47.560 | \u001b[36mINFO\u001b[0m    | Task run 't_extract_laureate-5' - Finished in state \u001b[32mCompleted\u001b[0m()\n"
      ]
     },
     "metadata": {},
     "output_type": "display_data"
    },
    {
     "data": {
      "text/html": [
       "<pre style=\"white-space:pre;overflow-x:auto;line-height:normal;font-family:Menlo,'DejaVu Sans Mono',consolas,'Courier New',monospace\">22:37:47.884 | <span style=\"color: #008080; text-decoration-color: #008080\">INFO</span>    | Task run 't_extract_laureate-4' - Finished in state <span style=\"color: #008000; text-decoration-color: #008000\">Completed</span>()\n",
       "</pre>\n"
      ],
      "text/plain": [
       "22:37:47.884 | \u001b[36mINFO\u001b[0m    | Task run 't_extract_laureate-4' - Finished in state \u001b[32mCompleted\u001b[0m()\n"
      ]
     },
     "metadata": {},
     "output_type": "display_data"
    },
    {
     "name": "stdout",
     "output_type": "stream",
     "text": [
      "extractLaureate response status code: 200\n",
      "{'statusCode': 200, 'body': 'Extraction successful'}\n",
      "extractLaureate laureate_id=1008\n",
      "extractLaureate response status code: 200\n",
      "{'statusCode': 200, 'body': 'Extraction successful'}\n",
      "extractLaureate laureate_id_list=['1002', '1003']\n",
      "extractLaureate laureate_id=1002\n",
      "extractLaureate response status code: 200\n",
      "{'statusCode': 200, 'body': 'Extraction successful'}\n",
      "extractLaureate laureate_id=1009\n"
     ]
    },
    {
     "data": {
      "text/html": [
       "<pre style=\"white-space:pre;overflow-x:auto;line-height:normal;font-family:Menlo,'DejaVu Sans Mono',consolas,'Courier New',monospace\">22:37:48.706 | <span style=\"color: #008080; text-decoration-color: #008080\">INFO</span>    | Task run 't_extract_laureate-3' - Finished in state <span style=\"color: #008000; text-decoration-color: #008000\">Completed</span>()\n",
       "</pre>\n"
      ],
      "text/plain": [
       "22:37:48.706 | \u001b[36mINFO\u001b[0m    | Task run 't_extract_laureate-3' - Finished in state \u001b[32mCompleted\u001b[0m()\n"
      ]
     },
     "metadata": {},
     "output_type": "display_data"
    },
    {
     "data": {
      "text/html": [
       "<pre style=\"white-space:pre;overflow-x:auto;line-height:normal;font-family:Menlo,'DejaVu Sans Mono',consolas,'Courier New',monospace\">22:37:49.089 | <span style=\"color: #008080; text-decoration-color: #008080\">INFO</span>    | Task run 't_extract_laureate-2' - Finished in state <span style=\"color: #008000; text-decoration-color: #008000\">Completed</span>()\n",
       "</pre>\n"
      ],
      "text/plain": [
       "22:37:49.089 | \u001b[36mINFO\u001b[0m    | Task run 't_extract_laureate-2' - Finished in state \u001b[32mCompleted\u001b[0m()\n"
      ]
     },
     "metadata": {},
     "output_type": "display_data"
    },
    {
     "name": "stdout",
     "output_type": "stream",
     "text": [
      "extractLaureate response status code: 200\n",
      "{'statusCode': 200, 'body': 'Extraction successful'}\n",
      "extractLaureate laureate_id=1003\n",
      "extractLaureate response status code: 200\n",
      "{'statusCode': 200, 'body': 'Extraction successful'}\n"
     ]
    },
    {
     "data": {
      "text/html": [
       "<pre style=\"white-space:pre;overflow-x:auto;line-height:normal;font-family:Menlo,'DejaVu Sans Mono',consolas,'Courier New',monospace\">22:37:49.680 | <span style=\"color: #008080; text-decoration-color: #008080\">INFO</span>    | Task run 't_extract_laureate-1' - Finished in state <span style=\"color: #008000; text-decoration-color: #008000\">Completed</span>()\n",
       "</pre>\n"
      ],
      "text/plain": [
       "22:37:49.680 | \u001b[36mINFO\u001b[0m    | Task run 't_extract_laureate-1' - Finished in state \u001b[32mCompleted\u001b[0m()\n"
      ]
     },
     "metadata": {},
     "output_type": "display_data"
    },
    {
     "name": "stdout",
     "output_type": "stream",
     "text": [
      "extractLaureate response status code: 200\n",
      "{'statusCode': 200, 'body': 'Extraction successful'}\n"
     ]
    },
    {
     "data": {
      "text/html": [
       "<pre style=\"white-space:pre;overflow-x:auto;line-height:normal;font-family:Menlo,'DejaVu Sans Mono',consolas,'Courier New',monospace\">22:37:50.397 | <span style=\"color: #008080; text-decoration-color: #008080\">INFO</span>    | Task run 't_extract_laureate-0' - Finished in state <span style=\"color: #008000; text-decoration-color: #008000\">Completed</span>()\n",
       "</pre>\n"
      ],
      "text/plain": [
       "22:37:50.397 | \u001b[36mINFO\u001b[0m    | Task run 't_extract_laureate-0' - Finished in state \u001b[32mCompleted\u001b[0m()\n"
      ]
     },
     "metadata": {},
     "output_type": "display_data"
    },
    {
     "name": "stdout",
     "output_type": "stream",
     "text": [
      "Beginning getBronzeLaureates\n",
      "getBronzeLaureates response status code: 400\n",
      "{'statusCode': 400, 'body': '\"Error processing data: jlmendo11-cs13datalake/raw/nobelPrizes/che-2021.parquet\"'}\n"
     ]
    },
    {
     "data": {
      "text/html": [
       "<pre style=\"white-space:pre;overflow-x:auto;line-height:normal;font-family:Menlo,'DejaVu Sans Mono',consolas,'Courier New',monospace\">22:37:51.556 | <span style=\"color: #008080; text-decoration-color: #008080\">INFO</span>    | Task run 't_bronze_laureates-0' - Finished in state <span style=\"color: #008000; text-decoration-color: #008000\">Completed</span>()\n",
       "</pre>\n"
      ],
      "text/plain": [
       "22:37:51.556 | \u001b[36mINFO\u001b[0m    | Task run 't_bronze_laureates-0' - Finished in state \u001b[32mCompleted\u001b[0m()\n"
      ]
     },
     "metadata": {},
     "output_type": "display_data"
    },
    {
     "data": {
      "text/html": [
       "<pre style=\"white-space:pre;overflow-x:auto;line-height:normal;font-family:Menlo,'DejaVu Sans Mono',consolas,'Courier New',monospace\">22:37:51.920 | <span style=\"color: #008080; text-decoration-color: #008080\">INFO</span>    | Flow run<span style=\"color: #800080; text-decoration-color: #800080\"> 'friendly-vulture'</span> - Finished in state <span style=\"color: #008000; text-decoration-color: #008000\">Completed</span>('All states completed.')\n",
       "</pre>\n"
      ],
      "text/plain": [
       "22:37:51.920 | \u001b[36mINFO\u001b[0m    | Flow run\u001b[35m 'friendly-vulture'\u001b[0m - Finished in state \u001b[32mCompleted\u001b[0m('All states completed.')\n"
      ]
     },
     "metadata": {},
     "output_type": "display_data"
    },
    {
     "data": {
      "text/html": [
       "<pre style=\"white-space:pre;overflow-x:auto;line-height:normal;font-family:Menlo,'DejaVu Sans Mono',consolas,'Courier New',monospace\">22:37:52.886 | <span style=\"color: #008080; text-decoration-color: #008080\">INFO</span>    | prefect.engine - Created flow run<span style=\"color: #800080; text-decoration-color: #800080\"> 'cornflower-grasshopper'</span> for flow<span style=\"color: #800080; text-decoration-color: #800080; font-weight: bold\"> 'f_nobel_prizes_etl'</span>\n",
       "</pre>\n"
      ],
      "text/plain": [
       "22:37:52.886 | \u001b[36mINFO\u001b[0m    | prefect.engine - Created flow run\u001b[35m 'cornflower-grasshopper'\u001b[0m for flow\u001b[1;35m 'f_nobel_prizes_etl'\u001b[0m\n"
      ]
     },
     "metadata": {},
     "output_type": "display_data"
    },
    {
     "name": "stdout",
     "output_type": "stream",
     "text": [
      "Taking previous_year as 2022\n"
     ]
    },
    {
     "data": {
      "text/html": [
       "<pre style=\"white-space:pre;overflow-x:auto;line-height:normal;font-family:Menlo,'DejaVu Sans Mono',consolas,'Courier New',monospace\">22:37:53.874 | <span style=\"color: #008080; text-decoration-color: #008080\">INFO</span>    | Flow run<span style=\"color: #800080; text-decoration-color: #800080\"> 'cornflower-grasshopper'</span> - Created task run 't_extract_nobel_prizes-5' for task 't_extract_nobel_prizes'\n",
       "</pre>\n"
      ],
      "text/plain": [
       "22:37:53.874 | \u001b[36mINFO\u001b[0m    | Flow run\u001b[35m 'cornflower-grasshopper'\u001b[0m - Created task run 't_extract_nobel_prizes-5' for task 't_extract_nobel_prizes'\n"
      ]
     },
     "metadata": {},
     "output_type": "display_data"
    },
    {
     "data": {
      "text/html": [
       "<pre style=\"white-space:pre;overflow-x:auto;line-height:normal;font-family:Menlo,'DejaVu Sans Mono',consolas,'Courier New',monospace\">22:37:53.883 | <span style=\"color: #008080; text-decoration-color: #008080\">INFO</span>    | Flow run<span style=\"color: #800080; text-decoration-color: #800080\"> 'cornflower-grasshopper'</span> - Submitted task run 't_extract_nobel_prizes-5' for execution.\n",
       "</pre>\n"
      ],
      "text/plain": [
       "22:37:53.883 | \u001b[36mINFO\u001b[0m    | Flow run\u001b[35m 'cornflower-grasshopper'\u001b[0m - Submitted task run 't_extract_nobel_prizes-5' for execution.\n"
      ]
     },
     "metadata": {},
     "output_type": "display_data"
    },
    {
     "data": {
      "text/html": [
       "<pre style=\"white-space:pre;overflow-x:auto;line-height:normal;font-family:Menlo,'DejaVu Sans Mono',consolas,'Courier New',monospace\">22:37:54.117 | <span style=\"color: #008080; text-decoration-color: #008080\">INFO</span>    | Flow run<span style=\"color: #800080; text-decoration-color: #800080\"> 'cornflower-grasshopper'</span> - Created task run 't_extract_nobel_prizes-2' for task 't_extract_nobel_prizes'\n",
       "</pre>\n"
      ],
      "text/plain": [
       "22:37:54.117 | \u001b[36mINFO\u001b[0m    | Flow run\u001b[35m 'cornflower-grasshopper'\u001b[0m - Created task run 't_extract_nobel_prizes-2' for task 't_extract_nobel_prizes'\n"
      ]
     },
     "metadata": {},
     "output_type": "display_data"
    },
    {
     "data": {
      "text/html": [
       "<pre style=\"white-space:pre;overflow-x:auto;line-height:normal;font-family:Menlo,'DejaVu Sans Mono',consolas,'Courier New',monospace\">22:37:54.127 | <span style=\"color: #008080; text-decoration-color: #008080\">INFO</span>    | Flow run<span style=\"color: #800080; text-decoration-color: #800080\"> 'cornflower-grasshopper'</span> - Submitted task run 't_extract_nobel_prizes-2' for execution.\n",
       "</pre>\n"
      ],
      "text/plain": [
       "22:37:54.127 | \u001b[36mINFO\u001b[0m    | Flow run\u001b[35m 'cornflower-grasshopper'\u001b[0m - Submitted task run 't_extract_nobel_prizes-2' for execution.\n"
      ]
     },
     "metadata": {},
     "output_type": "display_data"
    },
    {
     "data": {
      "text/html": [
       "<pre style=\"white-space:pre;overflow-x:auto;line-height:normal;font-family:Menlo,'DejaVu Sans Mono',consolas,'Courier New',monospace\">22:37:54.452 | <span style=\"color: #008080; text-decoration-color: #008080\">INFO</span>    | Flow run<span style=\"color: #800080; text-decoration-color: #800080\"> 'cornflower-grasshopper'</span> - Created task run 't_extract_nobel_prizes-3' for task 't_extract_nobel_prizes'\n",
       "</pre>\n"
      ],
      "text/plain": [
       "22:37:54.452 | \u001b[36mINFO\u001b[0m    | Flow run\u001b[35m 'cornflower-grasshopper'\u001b[0m - Created task run 't_extract_nobel_prizes-3' for task 't_extract_nobel_prizes'\n"
      ]
     },
     "metadata": {},
     "output_type": "display_data"
    },
    {
     "data": {
      "text/html": [
       "<pre style=\"white-space:pre;overflow-x:auto;line-height:normal;font-family:Menlo,'DejaVu Sans Mono',consolas,'Courier New',monospace\">22:37:54.462 | <span style=\"color: #008080; text-decoration-color: #008080\">INFO</span>    | Flow run<span style=\"color: #800080; text-decoration-color: #800080\"> 'cornflower-grasshopper'</span> - Submitted task run 't_extract_nobel_prizes-3' for execution.\n",
       "</pre>\n"
      ],
      "text/plain": [
       "22:37:54.462 | \u001b[36mINFO\u001b[0m    | Flow run\u001b[35m 'cornflower-grasshopper'\u001b[0m - Submitted task run 't_extract_nobel_prizes-3' for execution.\n"
      ]
     },
     "metadata": {},
     "output_type": "display_data"
    },
    {
     "data": {
      "text/html": [
       "<pre style=\"white-space:pre;overflow-x:auto;line-height:normal;font-family:Menlo,'DejaVu Sans Mono',consolas,'Courier New',monospace\">22:37:54.723 | <span style=\"color: #008080; text-decoration-color: #008080\">INFO</span>    | Flow run<span style=\"color: #800080; text-decoration-color: #800080\"> 'cornflower-grasshopper'</span> - Created task run 't_extract_laureate-5' for task 't_extract_laureate'\n",
       "</pre>\n"
      ],
      "text/plain": [
       "22:37:54.723 | \u001b[36mINFO\u001b[0m    | Flow run\u001b[35m 'cornflower-grasshopper'\u001b[0m - Created task run 't_extract_laureate-5' for task 't_extract_laureate'\n"
      ]
     },
     "metadata": {},
     "output_type": "display_data"
    },
    {
     "data": {
      "text/html": [
       "<pre style=\"white-space:pre;overflow-x:auto;line-height:normal;font-family:Menlo,'DejaVu Sans Mono',consolas,'Courier New',monospace\">22:37:54.734 | <span style=\"color: #008080; text-decoration-color: #008080\">INFO</span>    | Flow run<span style=\"color: #800080; text-decoration-color: #800080\"> 'cornflower-grasshopper'</span> - Submitted task run 't_extract_laureate-5' for execution.\n",
       "</pre>\n"
      ],
      "text/plain": [
       "22:37:54.734 | \u001b[36mINFO\u001b[0m    | Flow run\u001b[35m 'cornflower-grasshopper'\u001b[0m - Submitted task run 't_extract_laureate-5' for execution.\n"
      ]
     },
     "metadata": {},
     "output_type": "display_data"
    },
    {
     "name": "stdout",
     "output_type": "stream",
     "text": [
      "extractNobelPrizes category=med, year=2022\n"
     ]
    },
    {
     "data": {
      "text/html": [
       "<pre style=\"white-space:pre;overflow-x:auto;line-height:normal;font-family:Menlo,'DejaVu Sans Mono',consolas,'Courier New',monospace\">22:37:55.855 | <span style=\"color: #008080; text-decoration-color: #008080\">INFO</span>    | Flow run<span style=\"color: #800080; text-decoration-color: #800080\"> 'cornflower-grasshopper'</span> - Created task run 't_extract_nobel_prizes-4' for task 't_extract_nobel_prizes'\n",
       "</pre>\n"
      ],
      "text/plain": [
       "22:37:55.855 | \u001b[36mINFO\u001b[0m    | Flow run\u001b[35m 'cornflower-grasshopper'\u001b[0m - Created task run 't_extract_nobel_prizes-4' for task 't_extract_nobel_prizes'\n"
      ]
     },
     "metadata": {},
     "output_type": "display_data"
    },
    {
     "data": {
      "text/html": [
       "<pre style=\"white-space:pre;overflow-x:auto;line-height:normal;font-family:Menlo,'DejaVu Sans Mono',consolas,'Courier New',monospace\">22:37:55.893 | <span style=\"color: #008080; text-decoration-color: #008080\">INFO</span>    | Flow run<span style=\"color: #800080; text-decoration-color: #800080\"> 'cornflower-grasshopper'</span> - Submitted task run 't_extract_nobel_prizes-4' for execution.\n",
       "</pre>\n"
      ],
      "text/plain": [
       "22:37:55.893 | \u001b[36mINFO\u001b[0m    | Flow run\u001b[35m 'cornflower-grasshopper'\u001b[0m - Submitted task run 't_extract_nobel_prizes-4' for execution.\n"
      ]
     },
     "metadata": {},
     "output_type": "display_data"
    },
    {
     "name": "stdout",
     "output_type": "stream",
     "text": [
      "extractNobelPrizes category=pea, year=2022\n"
     ]
    },
    {
     "data": {
      "text/html": [
       "<pre style=\"white-space:pre;overflow-x:auto;line-height:normal;font-family:Menlo,'DejaVu Sans Mono',consolas,'Courier New',monospace\">22:37:56.336 | <span style=\"color: #008080; text-decoration-color: #008080\">INFO</span>    | Flow run<span style=\"color: #800080; text-decoration-color: #800080\"> 'cornflower-grasshopper'</span> - Created task run 't_extract_laureate-2' for task 't_extract_laureate'\n",
       "</pre>\n"
      ],
      "text/plain": [
       "22:37:56.336 | \u001b[36mINFO\u001b[0m    | Flow run\u001b[35m 'cornflower-grasshopper'\u001b[0m - Created task run 't_extract_laureate-2' for task 't_extract_laureate'\n"
      ]
     },
     "metadata": {},
     "output_type": "display_data"
    },
    {
     "data": {
      "text/html": [
       "<pre style=\"white-space:pre;overflow-x:auto;line-height:normal;font-family:Menlo,'DejaVu Sans Mono',consolas,'Courier New',monospace\">22:37:56.359 | <span style=\"color: #008080; text-decoration-color: #008080\">INFO</span>    | Flow run<span style=\"color: #800080; text-decoration-color: #800080\"> 'cornflower-grasshopper'</span> - Submitted task run 't_extract_laureate-2' for execution.\n",
       "</pre>\n"
      ],
      "text/plain": [
       "22:37:56.359 | \u001b[36mINFO\u001b[0m    | Flow run\u001b[35m 'cornflower-grasshopper'\u001b[0m - Submitted task run 't_extract_laureate-2' for execution.\n"
      ]
     },
     "metadata": {},
     "output_type": "display_data"
    },
    {
     "name": "stdout",
     "output_type": "stream",
     "text": [
      "extractNobelPrizes response status code: 200\n",
      "{'statusCode': 200, 'body': '[\"1011\"]'}\n"
     ]
    },
    {
     "data": {
      "text/html": [
       "<pre style=\"white-space:pre;overflow-x:auto;line-height:normal;font-family:Menlo,'DejaVu Sans Mono',consolas,'Courier New',monospace\">22:37:56.676 | <span style=\"color: #008080; text-decoration-color: #008080\">INFO</span>    | Flow run<span style=\"color: #800080; text-decoration-color: #800080\"> 'cornflower-grasshopper'</span> - Created task run 't_extract_laureate-3' for task 't_extract_laureate'\n",
       "</pre>\n"
      ],
      "text/plain": [
       "22:37:56.676 | \u001b[36mINFO\u001b[0m    | Flow run\u001b[35m 'cornflower-grasshopper'\u001b[0m - Created task run 't_extract_laureate-3' for task 't_extract_laureate'\n"
      ]
     },
     "metadata": {},
     "output_type": "display_data"
    },
    {
     "data": {
      "text/html": [
       "<pre style=\"white-space:pre;overflow-x:auto;line-height:normal;font-family:Menlo,'DejaVu Sans Mono',consolas,'Courier New',monospace\">22:37:56.684 | <span style=\"color: #008080; text-decoration-color: #008080\">INFO</span>    | Flow run<span style=\"color: #800080; text-decoration-color: #800080\"> 'cornflower-grasshopper'</span> - Submitted task run 't_extract_laureate-3' for execution.\n",
       "</pre>\n"
      ],
      "text/plain": [
       "22:37:56.684 | \u001b[36mINFO\u001b[0m    | Flow run\u001b[35m 'cornflower-grasshopper'\u001b[0m - Submitted task run 't_extract_laureate-3' for execution.\n"
      ]
     },
     "metadata": {},
     "output_type": "display_data"
    },
    {
     "data": {
      "text/html": [
       "<pre style=\"white-space:pre;overflow-x:auto;line-height:normal;font-family:Menlo,'DejaVu Sans Mono',consolas,'Courier New',monospace\">22:37:56.948 | <span style=\"color: #008080; text-decoration-color: #008080\">INFO</span>    | Flow run<span style=\"color: #800080; text-decoration-color: #800080\"> 'cornflower-grasshopper'</span> - Created task run 't_extract_laureate-4' for task 't_extract_laureate'\n",
       "</pre>\n"
      ],
      "text/plain": [
       "22:37:56.948 | \u001b[36mINFO\u001b[0m    | Flow run\u001b[35m 'cornflower-grasshopper'\u001b[0m - Created task run 't_extract_laureate-4' for task 't_extract_laureate'\n"
      ]
     },
     "metadata": {},
     "output_type": "display_data"
    },
    {
     "data": {
      "text/html": [
       "<pre style=\"white-space:pre;overflow-x:auto;line-height:normal;font-family:Menlo,'DejaVu Sans Mono',consolas,'Courier New',monospace\">22:37:56.957 | <span style=\"color: #008080; text-decoration-color: #008080\">INFO</span>    | Flow run<span style=\"color: #800080; text-decoration-color: #800080\"> 'cornflower-grasshopper'</span> - Submitted task run 't_extract_laureate-4' for execution.\n",
       "</pre>\n"
      ],
      "text/plain": [
       "22:37:56.957 | \u001b[36mINFO\u001b[0m    | Flow run\u001b[35m 'cornflower-grasshopper'\u001b[0m - Submitted task run 't_extract_laureate-4' for execution.\n"
      ]
     },
     "metadata": {},
     "output_type": "display_data"
    },
    {
     "name": "stdout",
     "output_type": "stream",
     "text": [
      "extractNobelPrizes response status code: 200\n",
      "{'statusCode': 200, 'body': '[\"1018\", \"1019\", \"1020\"]'}\n"
     ]
    },
    {
     "data": {
      "text/html": [
       "<pre style=\"white-space:pre;overflow-x:auto;line-height:normal;font-family:Menlo,'DejaVu Sans Mono',consolas,'Courier New',monospace\">22:37:57.404 | <span style=\"color: #008080; text-decoration-color: #008080\">INFO</span>    | Task run 't_extract_nobel_prizes-5' - Finished in state <span style=\"color: #008000; text-decoration-color: #008000\">Completed</span>()\n",
       "</pre>\n"
      ],
      "text/plain": [
       "22:37:57.404 | \u001b[36mINFO\u001b[0m    | Task run 't_extract_nobel_prizes-5' - Finished in state \u001b[32mCompleted\u001b[0m()\n"
      ]
     },
     "metadata": {},
     "output_type": "display_data"
    },
    {
     "data": {
      "text/html": [
       "<pre style=\"white-space:pre;overflow-x:auto;line-height:normal;font-family:Menlo,'DejaVu Sans Mono',consolas,'Courier New',monospace\">22:37:57.604 | <span style=\"color: #008080; text-decoration-color: #008080\">INFO</span>    | Task run 't_extract_nobel_prizes-3' - Finished in state <span style=\"color: #008000; text-decoration-color: #008000\">Completed</span>()\n",
       "</pre>\n"
      ],
      "text/plain": [
       "22:37:57.604 | \u001b[36mINFO\u001b[0m    | Task run 't_extract_nobel_prizes-3' - Finished in state \u001b[32mCompleted\u001b[0m()\n"
      ]
     },
     "metadata": {},
     "output_type": "display_data"
    },
    {
     "name": "stdout",
     "output_type": "stream",
     "text": [
      "extractLaureate laureate_id_list=['1011']\n",
      "extractLaureate laureate_id=1011\n",
      "extractLaureate laureate_id_list=['1018', '1019', '1020']\n",
      "extractLaureate laureate_id=1018\n",
      "extractNobelPrizes category=phy, year=2022\n",
      "extractLaureate response status code: 200\n",
      "{'statusCode': 200, 'body': 'Extraction successful'}\n"
     ]
    },
    {
     "data": {
      "text/html": [
       "<pre style=\"white-space:pre;overflow-x:auto;line-height:normal;font-family:Menlo,'DejaVu Sans Mono',consolas,'Courier New',monospace\">22:37:59.109 | <span style=\"color: #008080; text-decoration-color: #008080\">INFO</span>    | Flow run<span style=\"color: #800080; text-decoration-color: #800080\"> 'cornflower-grasshopper'</span> - Created task run 't_extract_nobel_prizes-1' for task 't_extract_nobel_prizes'\n",
       "</pre>\n"
      ],
      "text/plain": [
       "22:37:59.109 | \u001b[36mINFO\u001b[0m    | Flow run\u001b[35m 'cornflower-grasshopper'\u001b[0m - Created task run 't_extract_nobel_prizes-1' for task 't_extract_nobel_prizes'\n"
      ]
     },
     "metadata": {},
     "output_type": "display_data"
    },
    {
     "data": {
      "text/html": [
       "<pre style=\"white-space:pre;overflow-x:auto;line-height:normal;font-family:Menlo,'DejaVu Sans Mono',consolas,'Courier New',monospace\">22:37:59.121 | <span style=\"color: #008080; text-decoration-color: #008080\">INFO</span>    | Flow run<span style=\"color: #800080; text-decoration-color: #800080\"> 'cornflower-grasshopper'</span> - Submitted task run 't_extract_nobel_prizes-1' for execution.\n",
       "</pre>\n"
      ],
      "text/plain": [
       "22:37:59.121 | \u001b[36mINFO\u001b[0m    | Flow run\u001b[35m 'cornflower-grasshopper'\u001b[0m - Submitted task run 't_extract_nobel_prizes-1' for execution.\n"
      ]
     },
     "metadata": {},
     "output_type": "display_data"
    },
    {
     "name": "stdout",
     "output_type": "stream",
     "text": [
      "extractLaureate response status code: 200\n",
      "{'statusCode': 200, 'body': 'Extraction successful'}\n",
      "extractLaureate laureate_id=1019\n",
      "extractNobelPrizes category=lit, year=2022\n",
      "extractNobelPrizes response status code: 200\n",
      "{'statusCode': 200, 'body': '[\"1012\", \"1013\", \"1014\"]'}\n"
     ]
    },
    {
     "data": {
      "text/html": [
       "<pre style=\"white-space:pre;overflow-x:auto;line-height:normal;font-family:Menlo,'DejaVu Sans Mono',consolas,'Courier New',monospace\">22:37:59.616 | <span style=\"color: #008080; text-decoration-color: #008080\">INFO</span>    | Task run 't_extract_laureate-5' - Finished in state <span style=\"color: #008000; text-decoration-color: #008000\">Completed</span>()\n",
       "</pre>\n"
      ],
      "text/plain": [
       "22:37:59.616 | \u001b[36mINFO\u001b[0m    | Task run 't_extract_laureate-5' - Finished in state \u001b[32mCompleted\u001b[0m()\n"
      ]
     },
     "metadata": {},
     "output_type": "display_data"
    },
    {
     "name": "stdout",
     "output_type": "stream",
     "text": [
      "extractLaureate response status code: 200\n",
      "{'statusCode': 200, 'body': 'Extraction successful'}\n",
      "extractLaureate laureate_id=1020\n",
      "extractNobelPrizes response status code: 200\n",
      "{'statusCode': 200, 'body': '[\"1017\"]'}\n"
     ]
    },
    {
     "data": {
      "text/html": [
       "<pre style=\"white-space:pre;overflow-x:auto;line-height:normal;font-family:Menlo,'DejaVu Sans Mono',consolas,'Courier New',monospace\">22:38:00.811 | <span style=\"color: #008080; text-decoration-color: #008080\">INFO</span>    | Flow run<span style=\"color: #800080; text-decoration-color: #800080\"> 'cornflower-grasshopper'</span> - Created task run 't_extract_laureate-1' for task 't_extract_laureate'\n",
       "</pre>\n"
      ],
      "text/plain": [
       "22:38:00.811 | \u001b[36mINFO\u001b[0m    | Flow run\u001b[35m 'cornflower-grasshopper'\u001b[0m - Created task run 't_extract_laureate-1' for task 't_extract_laureate'\n"
      ]
     },
     "metadata": {},
     "output_type": "display_data"
    },
    {
     "data": {
      "text/html": [
       "<pre style=\"white-space:pre;overflow-x:auto;line-height:normal;font-family:Menlo,'DejaVu Sans Mono',consolas,'Courier New',monospace\">22:38:00.911 | <span style=\"color: #008080; text-decoration-color: #008080\">INFO</span>    | Flow run<span style=\"color: #800080; text-decoration-color: #800080\"> 'cornflower-grasshopper'</span> - Submitted task run 't_extract_laureate-1' for execution.\n",
       "</pre>\n"
      ],
      "text/plain": [
       "22:38:00.911 | \u001b[36mINFO\u001b[0m    | Flow run\u001b[35m 'cornflower-grasshopper'\u001b[0m - Submitted task run 't_extract_laureate-1' for execution.\n"
      ]
     },
     "metadata": {},
     "output_type": "display_data"
    },
    {
     "name": "stdout",
     "output_type": "stream",
     "text": [
      "extractLaureate response status code: 200\n",
      "{'statusCode': 200, 'body': 'Extraction successful'}\n"
     ]
    },
    {
     "data": {
      "text/html": [
       "<pre style=\"white-space:pre;overflow-x:auto;line-height:normal;font-family:Menlo,'DejaVu Sans Mono',consolas,'Courier New',monospace\">22:38:01.496 | <span style=\"color: #008080; text-decoration-color: #008080\">INFO</span>    | Flow run<span style=\"color: #800080; text-decoration-color: #800080\"> 'cornflower-grasshopper'</span> - Created task run 't_extract_nobel_prizes-0' for task 't_extract_nobel_prizes'\n",
       "</pre>\n"
      ],
      "text/plain": [
       "22:38:01.496 | \u001b[36mINFO\u001b[0m    | Flow run\u001b[35m 'cornflower-grasshopper'\u001b[0m - Created task run 't_extract_nobel_prizes-0' for task 't_extract_nobel_prizes'\n"
      ]
     },
     "metadata": {},
     "output_type": "display_data"
    },
    {
     "data": {
      "text/html": [
       "<pre style=\"white-space:pre;overflow-x:auto;line-height:normal;font-family:Menlo,'DejaVu Sans Mono',consolas,'Courier New',monospace\">22:38:01.504 | <span style=\"color: #008080; text-decoration-color: #008080\">INFO</span>    | Flow run<span style=\"color: #800080; text-decoration-color: #800080\"> 'cornflower-grasshopper'</span> - Submitted task run 't_extract_nobel_prizes-0' for execution.\n",
       "</pre>\n"
      ],
      "text/plain": [
       "22:38:01.504 | \u001b[36mINFO\u001b[0m    | Flow run\u001b[35m 'cornflower-grasshopper'\u001b[0m - Submitted task run 't_extract_nobel_prizes-0' for execution.\n"
      ]
     },
     "metadata": {},
     "output_type": "display_data"
    },
    {
     "data": {
      "text/html": [
       "<pre style=\"white-space:pre;overflow-x:auto;line-height:normal;font-family:Menlo,'DejaVu Sans Mono',consolas,'Courier New',monospace\">22:38:01.813 | <span style=\"color: #008080; text-decoration-color: #008080\">INFO</span>    | Task run 't_extract_nobel_prizes-2' - Finished in state <span style=\"color: #008000; text-decoration-color: #008000\">Completed</span>()\n",
       "</pre>\n"
      ],
      "text/plain": [
       "22:38:01.813 | \u001b[36mINFO\u001b[0m    | Task run 't_extract_nobel_prizes-2' - Finished in state \u001b[32mCompleted\u001b[0m()\n"
      ]
     },
     "metadata": {},
     "output_type": "display_data"
    },
    {
     "data": {
      "text/html": [
       "<pre style=\"white-space:pre;overflow-x:auto;line-height:normal;font-family:Menlo,'DejaVu Sans Mono',consolas,'Courier New',monospace\">22:38:01.923 | <span style=\"color: #008080; text-decoration-color: #008080\">INFO</span>    | Flow run<span style=\"color: #800080; text-decoration-color: #800080\"> 'cornflower-grasshopper'</span> - Created task run 't_extract_laureate-0' for task 't_extract_laureate'\n",
       "</pre>\n"
      ],
      "text/plain": [
       "22:38:01.923 | \u001b[36mINFO\u001b[0m    | Flow run\u001b[35m 'cornflower-grasshopper'\u001b[0m - Created task run 't_extract_laureate-0' for task 't_extract_laureate'\n"
      ]
     },
     "metadata": {},
     "output_type": "display_data"
    },
    {
     "data": {
      "text/html": [
       "<pre style=\"white-space:pre;overflow-x:auto;line-height:normal;font-family:Menlo,'DejaVu Sans Mono',consolas,'Courier New',monospace\">22:38:01.928 | <span style=\"color: #008080; text-decoration-color: #008080\">INFO</span>    | Flow run<span style=\"color: #800080; text-decoration-color: #800080\"> 'cornflower-grasshopper'</span> - Submitted task run 't_extract_laureate-0' for execution.\n",
       "</pre>\n"
      ],
      "text/plain": [
       "22:38:01.928 | \u001b[36mINFO\u001b[0m    | Flow run\u001b[35m 'cornflower-grasshopper'\u001b[0m - Submitted task run 't_extract_laureate-0' for execution.\n"
      ]
     },
     "metadata": {},
     "output_type": "display_data"
    },
    {
     "data": {
      "text/html": [
       "<pre style=\"white-space:pre;overflow-x:auto;line-height:normal;font-family:Menlo,'DejaVu Sans Mono',consolas,'Courier New',monospace\">22:38:02.795 | <span style=\"color: #008080; text-decoration-color: #008080\">INFO</span>    | Flow run<span style=\"color: #800080; text-decoration-color: #800080\"> 'cornflower-grasshopper'</span> - Created task run 't_bronze_laureates-0' for task 't_bronze_laureates'\n",
       "</pre>\n"
      ],
      "text/plain": [
       "22:38:02.795 | \u001b[36mINFO\u001b[0m    | Flow run\u001b[35m 'cornflower-grasshopper'\u001b[0m - Created task run 't_bronze_laureates-0' for task 't_bronze_laureates'\n"
      ]
     },
     "metadata": {},
     "output_type": "display_data"
    },
    {
     "data": {
      "text/html": [
       "<pre style=\"white-space:pre;overflow-x:auto;line-height:normal;font-family:Menlo,'DejaVu Sans Mono',consolas,'Courier New',monospace\">22:38:02.824 | <span style=\"color: #008080; text-decoration-color: #008080\">INFO</span>    | Flow run<span style=\"color: #800080; text-decoration-color: #800080\"> 'cornflower-grasshopper'</span> - Executing 't_bronze_laureates-0' immediately...\n",
       "</pre>\n"
      ],
      "text/plain": [
       "22:38:02.824 | \u001b[36mINFO\u001b[0m    | Flow run\u001b[35m 'cornflower-grasshopper'\u001b[0m - Executing 't_bronze_laureates-0' immediately...\n"
      ]
     },
     "metadata": {},
     "output_type": "display_data"
    },
    {
     "name": "stdout",
     "output_type": "stream",
     "text": [
      "extractNobelPrizes category=che, year=2022\n"
     ]
    },
    {
     "data": {
      "text/html": [
       "<pre style=\"white-space:pre;overflow-x:auto;line-height:normal;font-family:Menlo,'DejaVu Sans Mono',consolas,'Courier New',monospace\">22:38:03.264 | <span style=\"color: #008080; text-decoration-color: #008080\">INFO</span>    | Task run 't_extract_nobel_prizes-4' - Finished in state <span style=\"color: #008000; text-decoration-color: #008000\">Completed</span>()\n",
       "</pre>\n"
      ],
      "text/plain": [
       "22:38:03.264 | \u001b[36mINFO\u001b[0m    | Task run 't_extract_nobel_prizes-4' - Finished in state \u001b[32mCompleted\u001b[0m()\n"
      ]
     },
     "metadata": {},
     "output_type": "display_data"
    },
    {
     "name": "stdout",
     "output_type": "stream",
     "text": [
      "extractLaureate laureate_id_list=['1017']\n",
      "extractLaureate laureate_id=1017\n",
      "extractNobelPrizes response status code: 200\n",
      "{'statusCode': 200, 'body': '[\"1015\", \"1016\", \"743\"]'}\n",
      "extractLaureate laureate_id_list=['1012', '1013', '1014']\n",
      "extractLaureate laureate_id=1012\n",
      "extractNobelPrizes category=eco, year=2022\n",
      "extractLaureate response status code: 200\n",
      "{'statusCode': 200, 'body': 'Extraction successful'}\n",
      "extractLaureate laureate_id=1013\n",
      "extractLaureate response status code: 200\n",
      "{'statusCode': 200, 'body': 'Extraction successful'}\n"
     ]
    },
    {
     "data": {
      "text/html": [
       "<pre style=\"white-space:pre;overflow-x:auto;line-height:normal;font-family:Menlo,'DejaVu Sans Mono',consolas,'Courier New',monospace\">22:38:14.728 | <span style=\"color: #008080; text-decoration-color: #008080\">INFO</span>    | Task run 't_extract_nobel_prizes-0' - Finished in state <span style=\"color: #008000; text-decoration-color: #008000\">Completed</span>()\n",
       "</pre>\n"
      ],
      "text/plain": [
       "22:38:14.728 | \u001b[36mINFO\u001b[0m    | Task run 't_extract_nobel_prizes-0' - Finished in state \u001b[32mCompleted\u001b[0m()\n"
      ]
     },
     "metadata": {},
     "output_type": "display_data"
    },
    {
     "data": {
      "text/html": [
       "<pre style=\"white-space:pre;overflow-x:auto;line-height:normal;font-family:Menlo,'DejaVu Sans Mono',consolas,'Courier New',monospace\">22:38:15.237 | <span style=\"color: #008080; text-decoration-color: #008080\">INFO</span>    | Task run 't_extract_laureate-3' - Finished in state <span style=\"color: #008000; text-decoration-color: #008000\">Completed</span>()\n",
       "</pre>\n"
      ],
      "text/plain": [
       "22:38:15.237 | \u001b[36mINFO\u001b[0m    | Task run 't_extract_laureate-3' - Finished in state \u001b[32mCompleted\u001b[0m()\n"
      ]
     },
     "metadata": {},
     "output_type": "display_data"
    },
    {
     "data": {
      "text/html": [
       "<pre style=\"white-space:pre;overflow-x:auto;line-height:normal;font-family:Menlo,'DejaVu Sans Mono',consolas,'Courier New',monospace\">22:38:15.416 | <span style=\"color: #008080; text-decoration-color: #008080\">INFO</span>    | Task run 't_extract_laureate-2' - Finished in state <span style=\"color: #008000; text-decoration-color: #008000\">Completed</span>()\n",
       "</pre>\n"
      ],
      "text/plain": [
       "22:38:15.416 | \u001b[36mINFO\u001b[0m    | Task run 't_extract_laureate-2' - Finished in state \u001b[32mCompleted\u001b[0m()\n"
      ]
     },
     "metadata": {},
     "output_type": "display_data"
    },
    {
     "name": "stdout",
     "output_type": "stream",
     "text": [
      "extractLaureate laureate_id_list=['1015', '1016', '743']\n",
      "extractLaureate laureate_id=1015\n",
      "extractLaureate response status code: 200\n",
      "{'statusCode': 200, 'body': 'Extraction successful'}\n",
      "extractLaureate laureate_id=1014\n",
      "extractNobelPrizes response status code: 200\n",
      "{'statusCode': 200, 'body': '[\"1021\", \"1022\", \"1023\"]'}\n"
     ]
    },
    {
     "data": {
      "text/html": [
       "<pre style=\"white-space:pre;overflow-x:auto;line-height:normal;font-family:Menlo,'DejaVu Sans Mono',consolas,'Courier New',monospace\">22:38:20.491 | <span style=\"color: #008080; text-decoration-color: #008080\">INFO</span>    | Task run 't_extract_nobel_prizes-1' - Finished in state <span style=\"color: #008000; text-decoration-color: #008000\">Completed</span>()\n",
       "</pre>\n"
      ],
      "text/plain": [
       "22:38:20.491 | \u001b[36mINFO\u001b[0m    | Task run 't_extract_nobel_prizes-1' - Finished in state \u001b[32mCompleted\u001b[0m()\n"
      ]
     },
     "metadata": {},
     "output_type": "display_data"
    },
    {
     "name": "stdout",
     "output_type": "stream",
     "text": [
      "extractLaureate laureate_id_list=['1021', '1022', '1023']\n",
      "extractLaureate laureate_id=1021\n",
      "extractLaureate response status code: 200\n",
      "{'statusCode': 200, 'body': 'Extraction successful'}\n"
     ]
    },
    {
     "data": {
      "text/html": [
       "<pre style=\"white-space:pre;overflow-x:auto;line-height:normal;font-family:Menlo,'DejaVu Sans Mono',consolas,'Courier New',monospace\">22:38:21.248 | <span style=\"color: #008080; text-decoration-color: #008080\">INFO</span>    | Task run 't_extract_laureate-4' - Finished in state <span style=\"color: #008000; text-decoration-color: #008000\">Completed</span>()\n",
       "</pre>\n"
      ],
      "text/plain": [
       "22:38:21.248 | \u001b[36mINFO\u001b[0m    | Task run 't_extract_laureate-4' - Finished in state \u001b[32mCompleted\u001b[0m()\n"
      ]
     },
     "metadata": {},
     "output_type": "display_data"
    },
    {
     "name": "stdout",
     "output_type": "stream",
     "text": [
      "extractLaureate response status code: 200\n",
      "{'statusCode': 200, 'body': 'Extraction successful'}\n",
      "extractLaureate laureate_id=1016\n",
      "extractLaureate response status code: 200\n",
      "{'statusCode': 200, 'body': 'Extraction successful'}\n",
      "extractLaureate laureate_id=743\n",
      "extractLaureate response status code: 200\n",
      "{'statusCode': 200, 'body': 'Extraction successful'}\n",
      "extractLaureate laureate_id=1022\n",
      "extractLaureate response status code: 200\n",
      "{'statusCode': 200, 'body': 'Extraction successful'}\n",
      "extractLaureate laureate_id=1023\n",
      "extractLaureate response status code: 200\n",
      "{'statusCode': 200, 'body': 'Extraction successful'}\n"
     ]
    },
    {
     "data": {
      "text/html": [
       "<pre style=\"white-space:pre;overflow-x:auto;line-height:normal;font-family:Menlo,'DejaVu Sans Mono',consolas,'Courier New',monospace\">22:38:29.218 | <span style=\"color: #008080; text-decoration-color: #008080\">INFO</span>    | Task run 't_extract_laureate-0' - Finished in state <span style=\"color: #008000; text-decoration-color: #008000\">Completed</span>()\n",
       "</pre>\n"
      ],
      "text/plain": [
       "22:38:29.218 | \u001b[36mINFO\u001b[0m    | Task run 't_extract_laureate-0' - Finished in state \u001b[32mCompleted\u001b[0m()\n"
      ]
     },
     "metadata": {},
     "output_type": "display_data"
    },
    {
     "name": "stdout",
     "output_type": "stream",
     "text": [
      "extractLaureate response status code: 200\n",
      "{'statusCode': 200, 'body': 'Extraction successful'}\n"
     ]
    },
    {
     "data": {
      "text/html": [
       "<pre style=\"white-space:pre;overflow-x:auto;line-height:normal;font-family:Menlo,'DejaVu Sans Mono',consolas,'Courier New',monospace\">22:38:29.825 | <span style=\"color: #008080; text-decoration-color: #008080\">INFO</span>    | Task run 't_extract_laureate-1' - Finished in state <span style=\"color: #008000; text-decoration-color: #008000\">Completed</span>()\n",
       "</pre>\n"
      ],
      "text/plain": [
       "22:38:29.825 | \u001b[36mINFO\u001b[0m    | Task run 't_extract_laureate-1' - Finished in state \u001b[32mCompleted\u001b[0m()\n"
      ]
     },
     "metadata": {},
     "output_type": "display_data"
    },
    {
     "name": "stdout",
     "output_type": "stream",
     "text": [
      "Beginning getBronzeLaureates\n",
      "getBronzeLaureates response status code: 400\n",
      "{'statusCode': 400, 'body': '\"Error processing data: jlmendo11-cs13datalake/raw/nobelPrizes/che-2021.parquet\"'}\n"
     ]
    },
    {
     "data": {
      "text/html": [
       "<pre style=\"white-space:pre;overflow-x:auto;line-height:normal;font-family:Menlo,'DejaVu Sans Mono',consolas,'Courier New',monospace\">22:38:30.762 | <span style=\"color: #008080; text-decoration-color: #008080\">INFO</span>    | Task run 't_bronze_laureates-0' - Finished in state <span style=\"color: #008000; text-decoration-color: #008000\">Completed</span>()\n",
       "</pre>\n"
      ],
      "text/plain": [
       "22:38:30.762 | \u001b[36mINFO\u001b[0m    | Task run 't_bronze_laureates-0' - Finished in state \u001b[32mCompleted\u001b[0m()\n"
      ]
     },
     "metadata": {},
     "output_type": "display_data"
    },
    {
     "data": {
      "text/html": [
       "<pre style=\"white-space:pre;overflow-x:auto;line-height:normal;font-family:Menlo,'DejaVu Sans Mono',consolas,'Courier New',monospace\">22:38:30.958 | <span style=\"color: #008080; text-decoration-color: #008080\">INFO</span>    | Flow run<span style=\"color: #800080; text-decoration-color: #800080\"> 'cornflower-grasshopper'</span> - Finished in state <span style=\"color: #008000; text-decoration-color: #008000\">Completed</span>('All states completed.')\n",
       "</pre>\n"
      ],
      "text/plain": [
       "22:38:30.958 | \u001b[36mINFO\u001b[0m    | Flow run\u001b[35m 'cornflower-grasshopper'\u001b[0m - Finished in state \u001b[32mCompleted\u001b[0m('All states completed.')\n"
      ]
     },
     "metadata": {},
     "output_type": "display_data"
    },
    {
     "data": {
      "text/plain": [
       "[Completed(message=None, type=COMPLETED, result=UnpersistedResult(type='unpersisted', artifact_type='result', artifact_description='Unpersisted result of type `list`')),\n",
       " Completed(message=None, type=COMPLETED, result=UnpersistedResult(type='unpersisted', artifact_type='result', artifact_description='Unpersisted result of type `list`')),\n",
       " Completed(message=None, type=COMPLETED, result=UnpersistedResult(type='unpersisted', artifact_type='result', artifact_description='Unpersisted result of type `list`')),\n",
       " Completed(message=None, type=COMPLETED, result=UnpersistedResult(type='unpersisted', artifact_type='result', artifact_description='Unpersisted result of type `list`')),\n",
       " Completed(message=None, type=COMPLETED, result=UnpersistedResult(type='unpersisted', artifact_type='result', artifact_description='Unpersisted result of type `list`')),\n",
       " Completed(message=None, type=COMPLETED, result=UnpersistedResult(type='unpersisted', artifact_type='result', artifact_description='Unpersisted result of type `list`')),\n",
       " Completed(message=None, type=COMPLETED, result=UnpersistedResult(type='unpersisted', artifact_type='result', artifact_description='Unpersisted result of type `int`')),\n",
       " Completed(message=None, type=COMPLETED, result=UnpersistedResult(type='unpersisted', artifact_type='result', artifact_description='Unpersisted result of type `int`')),\n",
       " Completed(message=None, type=COMPLETED, result=UnpersistedResult(type='unpersisted', artifact_type='result', artifact_description='Unpersisted result of type `int`')),\n",
       " Completed(message=None, type=COMPLETED, result=UnpersistedResult(type='unpersisted', artifact_type='result', artifact_description='Unpersisted result of type `int`')),\n",
       " Completed(message=None, type=COMPLETED, result=UnpersistedResult(type='unpersisted', artifact_type='result', artifact_description='Unpersisted result of type `int`')),\n",
       " Completed(message=None, type=COMPLETED, result=UnpersistedResult(type='unpersisted', artifact_type='result', artifact_description='Unpersisted result of type `int`')),\n",
       " Completed(message=None, type=COMPLETED, result=UnpersistedResult(type='unpersisted', artifact_type='result', artifact_description='Unpersisted result of type `dict`'))]"
      ]
     },
     "execution_count": 19,
     "metadata": {},
     "output_type": "execute_result"
    }
   ],
   "source": [
    "import os\n",
    "os.environ[\"PREFECT__RUNTIME__FLOW_RUN__SCHEDULED_START_TIME\"] = \"2021-01-01 00:00:00\"\n",
    "\n",
    "nobel_prizes_etl()\n",
    "\n",
    "os.environ[\"PREFECT__RUNTIME__FLOW_RUN__SCHEDULED_START_TIME\"] = \"2022-01-01 00:00:00\"\n",
    "\n",
    "nobel_prizes_etl()\n",
    "\n",
    "os.environ[\"PREFECT__RUNTIME__FLOW_RUN__SCHEDULED_START_TIME\"] = \"2023-01-01 00:00:00\"\n",
    "\n",
    "nobel_prizes_etl()\n"
   ]
  },
  {
   "cell_type": "code",
   "execution_count": 21,
   "id": "cce20a6c",
   "metadata": {},
   "outputs": [
    {
     "data": {
      "text/html": [
       "<div>\n",
       "<style scoped>\n",
       "    .dataframe tbody tr th:only-of-type {\n",
       "        vertical-align: middle;\n",
       "    }\n",
       "\n",
       "    .dataframe tbody tr th {\n",
       "        vertical-align: top;\n",
       "    }\n",
       "\n",
       "    .dataframe thead th {\n",
       "        text-align: right;\n",
       "    }\n",
       "</style>\n",
       "<table border=\"1\" class=\"dataframe\">\n",
       "  <thead>\n",
       "    <tr style=\"text-align: right;\">\n",
       "      <th></th>\n",
       "      <th>awardYear</th>\n",
       "      <th>category</th>\n",
       "      <th>categoryFullName</th>\n",
       "      <th>dateAwarded</th>\n",
       "      <th>prizeAmount</th>\n",
       "      <th>prizeAmountAdjusted</th>\n",
       "      <th>laureates_id</th>\n",
       "      <th>laureates_portion</th>\n",
       "      <th>id</th>\n",
       "      <th>fullName</th>\n",
       "      <th>file_name</th>\n",
       "      <th>gender</th>\n",
       "      <th>birth</th>\n",
       "    </tr>\n",
       "    <tr>\n",
       "      <th>index</th>\n",
       "      <th></th>\n",
       "      <th></th>\n",
       "      <th></th>\n",
       "      <th></th>\n",
       "      <th></th>\n",
       "      <th></th>\n",
       "      <th></th>\n",
       "      <th></th>\n",
       "      <th></th>\n",
       "      <th></th>\n",
       "      <th></th>\n",
       "      <th></th>\n",
       "      <th></th>\n",
       "    </tr>\n",
       "  </thead>\n",
       "  <tbody>\n",
       "    <tr>\n",
       "      <th>0</th>\n",
       "      <td>2020</td>\n",
       "      <td>Chemistry</td>\n",
       "      <td>The Nobel Prize in Chemistry</td>\n",
       "      <td>2020-10-07</td>\n",
       "      <td>10000000</td>\n",
       "      <td>10000000</td>\n",
       "      <td>991</td>\n",
       "      <td>1/2</td>\n",
       "      <td>991</td>\n",
       "      <td>Emmanuelle Charpentier</td>\n",
       "      <td>charpentier</td>\n",
       "      <td>female</td>\n",
       "      <td>1968-12-11</td>\n",
       "    </tr>\n",
       "    <tr>\n",
       "      <th>1</th>\n",
       "      <td>2020</td>\n",
       "      <td>Chemistry</td>\n",
       "      <td>The Nobel Prize in Chemistry</td>\n",
       "      <td>2020-10-07</td>\n",
       "      <td>10000000</td>\n",
       "      <td>10000000</td>\n",
       "      <td>992</td>\n",
       "      <td>1/2</td>\n",
       "      <td>992</td>\n",
       "      <td>Jennifer A. Doudna</td>\n",
       "      <td>doudna</td>\n",
       "      <td>female</td>\n",
       "      <td>1964-02-19</td>\n",
       "    </tr>\n",
       "    <tr>\n",
       "      <th>2</th>\n",
       "      <td>2020</td>\n",
       "      <td>Economic Sciences</td>\n",
       "      <td>The Sveriges Riksbank Prize in Economic Scienc...</td>\n",
       "      <td>2020-10-12</td>\n",
       "      <td>10000000</td>\n",
       "      <td>10000000</td>\n",
       "      <td>995</td>\n",
       "      <td>1/2</td>\n",
       "      <td>995</td>\n",
       "      <td>Paul R. Milgrom</td>\n",
       "      <td>milgrom</td>\n",
       "      <td>male</td>\n",
       "      <td>1948-04-20</td>\n",
       "    </tr>\n",
       "    <tr>\n",
       "      <th>3</th>\n",
       "      <td>2020</td>\n",
       "      <td>Economic Sciences</td>\n",
       "      <td>The Sveriges Riksbank Prize in Economic Scienc...</td>\n",
       "      <td>2020-10-12</td>\n",
       "      <td>10000000</td>\n",
       "      <td>10000000</td>\n",
       "      <td>996</td>\n",
       "      <td>1/2</td>\n",
       "      <td>996</td>\n",
       "      <td>Robert B. Wilson</td>\n",
       "      <td>wilson</td>\n",
       "      <td>male</td>\n",
       "      <td>1937-05-16</td>\n",
       "    </tr>\n",
       "    <tr>\n",
       "      <th>4</th>\n",
       "      <td>2020</td>\n",
       "      <td>Literature</td>\n",
       "      <td>The Nobel Prize in Literature</td>\n",
       "      <td>2020-10-08</td>\n",
       "      <td>10000000</td>\n",
       "      <td>10000000</td>\n",
       "      <td>993</td>\n",
       "      <td>1</td>\n",
       "      <td>993</td>\n",
       "      <td>Louise Glück</td>\n",
       "      <td>gluck</td>\n",
       "      <td>female</td>\n",
       "      <td>1943-04-22</td>\n",
       "    </tr>\n",
       "    <tr>\n",
       "      <th>...</th>\n",
       "      <td>...</td>\n",
       "      <td>...</td>\n",
       "      <td>...</td>\n",
       "      <td>...</td>\n",
       "      <td>...</td>\n",
       "      <td>...</td>\n",
       "      <td>...</td>\n",
       "      <td>...</td>\n",
       "      <td>...</td>\n",
       "      <td>...</td>\n",
       "      <td>...</td>\n",
       "      <td>...</td>\n",
       "      <td>...</td>\n",
       "    </tr>\n",
       "    <tr>\n",
       "      <th>973</th>\n",
       "      <td>2019</td>\n",
       "      <td>Physiology or Medicine</td>\n",
       "      <td>The Nobel Prize in Physiology or Medicine</td>\n",
       "      <td>2019-10-07</td>\n",
       "      <td>9000000</td>\n",
       "      <td>9000000</td>\n",
       "      <td>972</td>\n",
       "      <td>1/3</td>\n",
       "      <td>972</td>\n",
       "      <td>Gregg L. Semenza</td>\n",
       "      <td>semenza</td>\n",
       "      <td>male</td>\n",
       "      <td>1956-07-12</td>\n",
       "    </tr>\n",
       "    <tr>\n",
       "      <th>974</th>\n",
       "      <td>2020</td>\n",
       "      <td>Peace</td>\n",
       "      <td>The Nobel Peace Prize</td>\n",
       "      <td>2020-10-09</td>\n",
       "      <td>10000000</td>\n",
       "      <td>10000000</td>\n",
       "      <td>994</td>\n",
       "      <td>1</td>\n",
       "      <td>994</td>\n",
       "      <td>NA</td>\n",
       "      <td>wfp</td>\n",
       "      <td>NA</td>\n",
       "      <td>NA</td>\n",
       "    </tr>\n",
       "    <tr>\n",
       "      <th>975</th>\n",
       "      <td>2020</td>\n",
       "      <td>Physics</td>\n",
       "      <td>The Nobel Prize in Physics</td>\n",
       "      <td>2020-10-06</td>\n",
       "      <td>10000000</td>\n",
       "      <td>10000000</td>\n",
       "      <td>988</td>\n",
       "      <td>1/2</td>\n",
       "      <td>988</td>\n",
       "      <td>Roger Penrose</td>\n",
       "      <td>penrose</td>\n",
       "      <td>male</td>\n",
       "      <td>1931-08-08</td>\n",
       "    </tr>\n",
       "    <tr>\n",
       "      <th>976</th>\n",
       "      <td>2020</td>\n",
       "      <td>Physics</td>\n",
       "      <td>The Nobel Prize in Physics</td>\n",
       "      <td>2020-10-06</td>\n",
       "      <td>10000000</td>\n",
       "      <td>10000000</td>\n",
       "      <td>989</td>\n",
       "      <td>1/4</td>\n",
       "      <td>989</td>\n",
       "      <td>Reinhard Genzel</td>\n",
       "      <td>genzel</td>\n",
       "      <td>male</td>\n",
       "      <td>1952-03-24</td>\n",
       "    </tr>\n",
       "    <tr>\n",
       "      <th>977</th>\n",
       "      <td>2020</td>\n",
       "      <td>Physics</td>\n",
       "      <td>The Nobel Prize in Physics</td>\n",
       "      <td>2020-10-06</td>\n",
       "      <td>10000000</td>\n",
       "      <td>10000000</td>\n",
       "      <td>990</td>\n",
       "      <td>1/4</td>\n",
       "      <td>990</td>\n",
       "      <td>Andrea Ghez</td>\n",
       "      <td>ghez</td>\n",
       "      <td>female</td>\n",
       "      <td>1965-06-16</td>\n",
       "    </tr>\n",
       "  </tbody>\n",
       "</table>\n",
       "<p>978 rows × 13 columns</p>\n",
       "</div>"
      ],
      "text/plain": [
       "      awardYear                category  \\\n",
       "index                                     \n",
       "0          2020               Chemistry   \n",
       "1          2020               Chemistry   \n",
       "2          2020       Economic Sciences   \n",
       "3          2020       Economic Sciences   \n",
       "4          2020              Literature   \n",
       "...         ...                     ...   \n",
       "973        2019  Physiology or Medicine   \n",
       "974        2020                   Peace   \n",
       "975        2020                 Physics   \n",
       "976        2020                 Physics   \n",
       "977        2020                 Physics   \n",
       "\n",
       "                                        categoryFullName dateAwarded  \\\n",
       "index                                                                  \n",
       "0                           The Nobel Prize in Chemistry  2020-10-07   \n",
       "1                           The Nobel Prize in Chemistry  2020-10-07   \n",
       "2      The Sveriges Riksbank Prize in Economic Scienc...  2020-10-12   \n",
       "3      The Sveriges Riksbank Prize in Economic Scienc...  2020-10-12   \n",
       "4                          The Nobel Prize in Literature  2020-10-08   \n",
       "...                                                  ...         ...   \n",
       "973            The Nobel Prize in Physiology or Medicine  2019-10-07   \n",
       "974                                The Nobel Peace Prize  2020-10-09   \n",
       "975                           The Nobel Prize in Physics  2020-10-06   \n",
       "976                           The Nobel Prize in Physics  2020-10-06   \n",
       "977                           The Nobel Prize in Physics  2020-10-06   \n",
       "\n",
       "       prizeAmount  prizeAmountAdjusted  laureates_id laureates_portion   id  \\\n",
       "index                                                                          \n",
       "0         10000000             10000000           991               1/2  991   \n",
       "1         10000000             10000000           992               1/2  992   \n",
       "2         10000000             10000000           995               1/2  995   \n",
       "3         10000000             10000000           996               1/2  996   \n",
       "4         10000000             10000000           993                 1  993   \n",
       "...            ...                  ...           ...               ...  ...   \n",
       "973        9000000              9000000           972               1/3  972   \n",
       "974       10000000             10000000           994                 1  994   \n",
       "975       10000000             10000000           988               1/2  988   \n",
       "976       10000000             10000000           989               1/4  989   \n",
       "977       10000000             10000000           990               1/4  990   \n",
       "\n",
       "                     fullName    file_name  gender       birth  \n",
       "index                                                           \n",
       "0      Emmanuelle Charpentier  charpentier  female  1968-12-11  \n",
       "1          Jennifer A. Doudna       doudna  female  1964-02-19  \n",
       "2             Paul R. Milgrom      milgrom    male  1948-04-20  \n",
       "3            Robert B. Wilson       wilson    male  1937-05-16  \n",
       "4                Louise Glück        gluck  female  1943-04-22  \n",
       "...                       ...          ...     ...         ...  \n",
       "973          Gregg L. Semenza      semenza    male  1956-07-12  \n",
       "974                        NA          wfp      NA          NA  \n",
       "975             Roger Penrose      penrose    male  1931-08-08  \n",
       "976           Reinhard Genzel       genzel    male  1952-03-24  \n",
       "977               Andrea Ghez         ghez  female  1965-06-16  \n",
       "\n",
       "[978 rows x 13 columns]"
      ]
     },
     "execution_count": 21,
     "metadata": {},
     "output_type": "execute_result"
    }
   ],
   "source": [
    "import os\n",
    "import pandas as pd\n",
    "\n",
    "# CHECK:\n",
    "BUCKET_NAME = \"jlmendo11-cs13datalake\"\n",
    "BRONZE_PATH = f's3://{BUCKET_NAME}/bronze/bronze_laureates.parquet'\n",
    "s3_client = boto3.client('s3')\n",
    "\n",
    "# DOWNLOAD AS LOCAL FILE AND READ IT\n",
    "local_file_path = 'bronze_laureates.parquet'\n",
    "s3_client.download_file(BUCKET_NAME, 'bronze/bronze_laureates.parquet', local_file_path)\n",
    "df = pd.read_parquet(local_file_path)\n",
    "\n",
    "# DELETE FILE\n",
    "os.remove(local_file_path)\n",
    "df"
   ]
  },
  {
   "cell_type": "code",
   "execution_count": 22,
   "id": "8c27b898",
   "metadata": {},
   "outputs": [
    {
     "data": {
      "text/plain": [
       "2001    15\n",
       "2019    14\n",
       "2018    13\n",
       "2005    13\n",
       "1963    13\n",
       "        ..\n",
       "1915     4\n",
       "1914     3\n",
       "1924     3\n",
       "1918     2\n",
       "1916     1\n",
       "Name: awardYear, Length: 117, dtype: int64"
      ]
     },
     "execution_count": 22,
     "metadata": {},
     "output_type": "execute_result"
    }
   ],
   "source": [
    "df.awardYear.value_counts()"
   ]
  },
  {
   "cell_type": "code",
   "execution_count": 24,
   "id": "4f67b26d",
   "metadata": {},
   "outputs": [
    {
     "data": {
      "text/html": [
       "<div>\n",
       "<style scoped>\n",
       "    .dataframe tbody tr th:only-of-type {\n",
       "        vertical-align: middle;\n",
       "    }\n",
       "\n",
       "    .dataframe tbody tr th {\n",
       "        vertical-align: top;\n",
       "    }\n",
       "\n",
       "    .dataframe thead th {\n",
       "        text-align: right;\n",
       "    }\n",
       "</style>\n",
       "<table border=\"1\" class=\"dataframe\">\n",
       "  <thead>\n",
       "    <tr style=\"text-align: right;\">\n",
       "      <th></th>\n",
       "      <th>awardYear</th>\n",
       "      <th>category</th>\n",
       "      <th>categoryFullName</th>\n",
       "      <th>dateAwarded</th>\n",
       "      <th>prizeAmount</th>\n",
       "      <th>prizeAmountAdjusted</th>\n",
       "      <th>laureates_id</th>\n",
       "      <th>laureates_portion</th>\n",
       "      <th>id</th>\n",
       "      <th>fullName</th>\n",
       "      <th>file_name</th>\n",
       "      <th>gender</th>\n",
       "      <th>birth</th>\n",
       "    </tr>\n",
       "    <tr>\n",
       "      <th>index</th>\n",
       "      <th></th>\n",
       "      <th></th>\n",
       "      <th></th>\n",
       "      <th></th>\n",
       "      <th></th>\n",
       "      <th></th>\n",
       "      <th></th>\n",
       "      <th></th>\n",
       "      <th></th>\n",
       "      <th></th>\n",
       "      <th></th>\n",
       "      <th></th>\n",
       "      <th></th>\n",
       "    </tr>\n",
       "  </thead>\n",
       "  <tbody>\n",
       "    <tr>\n",
       "      <th>33</th>\n",
       "      <td>1904</td>\n",
       "      <td>Literature</td>\n",
       "      <td>The Nobel Prize in Literature</td>\n",
       "      <td>None</td>\n",
       "      <td>140859</td>\n",
       "      <td>7908819</td>\n",
       "      <td>574</td>\n",
       "      <td>1/2</td>\n",
       "      <td>574</td>\n",
       "      <td>José Echegaray y Eizaguirre</td>\n",
       "      <td>eizaguirre</td>\n",
       "      <td>male</td>\n",
       "      <td>1832-04-19</td>\n",
       "    </tr>\n",
       "    <tr>\n",
       "      <th>47</th>\n",
       "      <td>1906</td>\n",
       "      <td>Physiology or Medicine</td>\n",
       "      <td>The Nobel Prize in Physiology or Medicine</td>\n",
       "      <td>None</td>\n",
       "      <td>138536</td>\n",
       "      <td>7556149</td>\n",
       "      <td>299</td>\n",
       "      <td>1/2</td>\n",
       "      <td>299</td>\n",
       "      <td>Santiago Ramón y Cajal</td>\n",
       "      <td>cajal</td>\n",
       "      <td>male</td>\n",
       "      <td>1852-05-01</td>\n",
       "    </tr>\n",
       "    <tr>\n",
       "      <th>126</th>\n",
       "      <td>1922</td>\n",
       "      <td>Literature</td>\n",
       "      <td>The Nobel Prize in Literature</td>\n",
       "      <td>None</td>\n",
       "      <td>122483</td>\n",
       "      <td>3203014</td>\n",
       "      <td>592</td>\n",
       "      <td>1</td>\n",
       "      <td>592</td>\n",
       "      <td>Jacinto Benavente</td>\n",
       "      <td>benavente</td>\n",
       "      <td>male</td>\n",
       "      <td>1866-08-12</td>\n",
       "    </tr>\n",
       "    <tr>\n",
       "      <th>316</th>\n",
       "      <td>1956</td>\n",
       "      <td>Literature</td>\n",
       "      <td>The Nobel Prize in Literature</td>\n",
       "      <td>None</td>\n",
       "      <td>200123</td>\n",
       "      <td>2748452</td>\n",
       "      <td>627</td>\n",
       "      <td>1</td>\n",
       "      <td>627</td>\n",
       "      <td>Juan Ramón Jiménez</td>\n",
       "      <td>jimenez</td>\n",
       "      <td>male</td>\n",
       "      <td>1881-12-24</td>\n",
       "    </tr>\n",
       "    <tr>\n",
       "      <th>349</th>\n",
       "      <td>1959</td>\n",
       "      <td>Physiology or Medicine</td>\n",
       "      <td>The Nobel Prize in Physiology or Medicine</td>\n",
       "      <td>None</td>\n",
       "      <td>220678</td>\n",
       "      <td>2753427</td>\n",
       "      <td>367</td>\n",
       "      <td>1/2</td>\n",
       "      <td>367</td>\n",
       "      <td>Severo Ochoa</td>\n",
       "      <td>ochoa</td>\n",
       "      <td>male</td>\n",
       "      <td>1905-09-24</td>\n",
       "    </tr>\n",
       "    <tr>\n",
       "      <th>501</th>\n",
       "      <td>1977</td>\n",
       "      <td>Literature</td>\n",
       "      <td>The Nobel Prize in Literature</td>\n",
       "      <td>None</td>\n",
       "      <td>700000</td>\n",
       "      <td>3136854</td>\n",
       "      <td>653</td>\n",
       "      <td>1</td>\n",
       "      <td>653</td>\n",
       "      <td>Vicente Aleixandre</td>\n",
       "      <td>aleixandre</td>\n",
       "      <td>male</td>\n",
       "      <td>1898-04-26</td>\n",
       "    </tr>\n",
       "    <tr>\n",
       "      <th>619</th>\n",
       "      <td>1989</td>\n",
       "      <td>Literature</td>\n",
       "      <td>The Nobel Prize in Literature</td>\n",
       "      <td>None</td>\n",
       "      <td>3000000</td>\n",
       "      <td>5337372</td>\n",
       "      <td>666</td>\n",
       "      <td>1</td>\n",
       "      <td>666</td>\n",
       "      <td>Camilo José Cela</td>\n",
       "      <td>cela</td>\n",
       "      <td>male</td>\n",
       "      <td>1916-05-11</td>\n",
       "    </tr>\n",
       "  </tbody>\n",
       "</table>\n",
       "</div>"
      ],
      "text/plain": [
       "      awardYear                category  \\\n",
       "index                                     \n",
       "33         1904              Literature   \n",
       "47         1906  Physiology or Medicine   \n",
       "126        1922              Literature   \n",
       "316        1956              Literature   \n",
       "349        1959  Physiology or Medicine   \n",
       "501        1977              Literature   \n",
       "619        1989              Literature   \n",
       "\n",
       "                                categoryFullName dateAwarded  prizeAmount  \\\n",
       "index                                                                       \n",
       "33                 The Nobel Prize in Literature        None       140859   \n",
       "47     The Nobel Prize in Physiology or Medicine        None       138536   \n",
       "126                The Nobel Prize in Literature        None       122483   \n",
       "316                The Nobel Prize in Literature        None       200123   \n",
       "349    The Nobel Prize in Physiology or Medicine        None       220678   \n",
       "501                The Nobel Prize in Literature        None       700000   \n",
       "619                The Nobel Prize in Literature        None      3000000   \n",
       "\n",
       "       prizeAmountAdjusted  laureates_id laureates_portion   id  \\\n",
       "index                                                             \n",
       "33                 7908819           574               1/2  574   \n",
       "47                 7556149           299               1/2  299   \n",
       "126                3203014           592                 1  592   \n",
       "316                2748452           627                 1  627   \n",
       "349                2753427           367               1/2  367   \n",
       "501                3136854           653                 1  653   \n",
       "619                5337372           666                 1  666   \n",
       "\n",
       "                          fullName   file_name gender       birth  \n",
       "index                                                              \n",
       "33     José Echegaray y Eizaguirre  eizaguirre   male  1832-04-19  \n",
       "47          Santiago Ramón y Cajal       cajal   male  1852-05-01  \n",
       "126              Jacinto Benavente   benavente   male  1866-08-12  \n",
       "316             Juan Ramón Jiménez     jimenez   male  1881-12-24  \n",
       "349                   Severo Ochoa       ochoa   male  1905-09-24  \n",
       "501             Vicente Aleixandre  aleixandre   male  1898-04-26  \n",
       "619               Camilo José Cela        cela   male  1916-05-11  "
      ]
     },
     "execution_count": 24,
     "metadata": {},
     "output_type": "execute_result"
    }
   ],
   "source": [
    "# :)\n",
    "df.loc[df.laureates_id.isin(spanish_laureates_laureates_id)]"
   ]
  },
  {
   "cell_type": "markdown",
   "id": "3fa158b7-2c01-484a-b454-6b4098c96981",
   "metadata": {
    "tags": []
   },
   "source": [
    "## 8. Responder a preguntas de analítica\n",
    "\n",
    "## Analítica de datos\n",
    "\n",
    "Tenemos un conjunto de datos muy valioso. Vamos a leerlo localmente con pandas usando `pd.read_parquet(\"s3://{bucket-datalake}/silver/silver_laureates.parquet\")` y a vamos a responder a las siguientes preguntas para ganar insight acerca de los datos que estamos manejando. Responder a cada pregunta usando celdas de **código** y/o **markdown** según se considere necesario.\n",
    "\n",
    "1. ¿Quién es el laureado que más ha cobrado? (en caso de empate dar el más antiguo)\n",
    "2. Generar una gráfica de línea en la que se muestre la inversión total por año (suma de `prize_amount_real`). ¿Cuál ha sido la tendencia?\n",
    "3. ¿Hay algún laureado que haya recibido más de dos premios? Muestra el top 5.\n",
    "4. ¿Qué categoría es la que más premios ha recibido? ¿Y que más dinero ha entregado?"
   ]
  },
  {
   "cell_type": "code",
   "execution_count": 26,
   "id": "51117152",
   "metadata": {},
   "outputs": [
    {
     "name": "stdout",
     "output_type": "stream",
     "text": [
      "getSilverLaureates response status code: 200\n",
      "{'statusCode': 200, 'body': '\"Data processed and saved successfully\"'}\n"
     ]
    },
    {
     "data": {
      "text/html": [
       "<div>\n",
       "<style scoped>\n",
       "    .dataframe tbody tr th:only-of-type {\n",
       "        vertical-align: middle;\n",
       "    }\n",
       "\n",
       "    .dataframe tbody tr th {\n",
       "        vertical-align: top;\n",
       "    }\n",
       "\n",
       "    .dataframe thead th {\n",
       "        text-align: right;\n",
       "    }\n",
       "</style>\n",
       "<table border=\"1\" class=\"dataframe\">\n",
       "  <thead>\n",
       "    <tr style=\"text-align: right;\">\n",
       "      <th></th>\n",
       "      <th>year</th>\n",
       "      <th>category</th>\n",
       "      <th>category_full_name</th>\n",
       "      <th>date_awarded</th>\n",
       "      <th>prize_amount</th>\n",
       "      <th>prize_amount_adjusted</th>\n",
       "      <th>laureate_id</th>\n",
       "      <th>laureate_portion</th>\n",
       "      <th>id</th>\n",
       "      <th>full_name</th>\n",
       "      <th>file_name</th>\n",
       "      <th>gender</th>\n",
       "      <th>birth</th>\n",
       "      <th>prize_amount_real</th>\n",
       "    </tr>\n",
       "    <tr>\n",
       "      <th>index</th>\n",
       "      <th></th>\n",
       "      <th></th>\n",
       "      <th></th>\n",
       "      <th></th>\n",
       "      <th></th>\n",
       "      <th></th>\n",
       "      <th></th>\n",
       "      <th></th>\n",
       "      <th></th>\n",
       "      <th></th>\n",
       "      <th></th>\n",
       "      <th></th>\n",
       "      <th></th>\n",
       "      <th></th>\n",
       "    </tr>\n",
       "  </thead>\n",
       "  <tbody>\n",
       "    <tr>\n",
       "      <th>0</th>\n",
       "      <td>2020</td>\n",
       "      <td>Chemistry</td>\n",
       "      <td>The Nobel Prize in Chemistry</td>\n",
       "      <td>2020-10-07</td>\n",
       "      <td>10000000</td>\n",
       "      <td>10000000</td>\n",
       "      <td>991</td>\n",
       "      <td>0.500000</td>\n",
       "      <td>991</td>\n",
       "      <td>Emmanuelle Charpentier</td>\n",
       "      <td>charpentier</td>\n",
       "      <td>female</td>\n",
       "      <td>1968-12-11</td>\n",
       "      <td>5000000.0</td>\n",
       "    </tr>\n",
       "    <tr>\n",
       "      <th>1</th>\n",
       "      <td>2020</td>\n",
       "      <td>Chemistry</td>\n",
       "      <td>The Nobel Prize in Chemistry</td>\n",
       "      <td>2020-10-07</td>\n",
       "      <td>10000000</td>\n",
       "      <td>10000000</td>\n",
       "      <td>992</td>\n",
       "      <td>0.500000</td>\n",
       "      <td>992</td>\n",
       "      <td>Jennifer A. Doudna</td>\n",
       "      <td>doudna</td>\n",
       "      <td>female</td>\n",
       "      <td>1964-02-19</td>\n",
       "      <td>5000000.0</td>\n",
       "    </tr>\n",
       "    <tr>\n",
       "      <th>2</th>\n",
       "      <td>2020</td>\n",
       "      <td>Economic Sciences</td>\n",
       "      <td>The Sveriges Riksbank Prize in Economic Scienc...</td>\n",
       "      <td>2020-10-12</td>\n",
       "      <td>10000000</td>\n",
       "      <td>10000000</td>\n",
       "      <td>995</td>\n",
       "      <td>0.500000</td>\n",
       "      <td>995</td>\n",
       "      <td>Paul R. Milgrom</td>\n",
       "      <td>milgrom</td>\n",
       "      <td>male</td>\n",
       "      <td>1948-04-20</td>\n",
       "      <td>5000000.0</td>\n",
       "    </tr>\n",
       "    <tr>\n",
       "      <th>3</th>\n",
       "      <td>2020</td>\n",
       "      <td>Economic Sciences</td>\n",
       "      <td>The Sveriges Riksbank Prize in Economic Scienc...</td>\n",
       "      <td>2020-10-12</td>\n",
       "      <td>10000000</td>\n",
       "      <td>10000000</td>\n",
       "      <td>996</td>\n",
       "      <td>0.500000</td>\n",
       "      <td>996</td>\n",
       "      <td>Robert B. Wilson</td>\n",
       "      <td>wilson</td>\n",
       "      <td>male</td>\n",
       "      <td>1937-05-16</td>\n",
       "      <td>5000000.0</td>\n",
       "    </tr>\n",
       "    <tr>\n",
       "      <th>4</th>\n",
       "      <td>2020</td>\n",
       "      <td>Literature</td>\n",
       "      <td>The Nobel Prize in Literature</td>\n",
       "      <td>2020-10-08</td>\n",
       "      <td>10000000</td>\n",
       "      <td>10000000</td>\n",
       "      <td>993</td>\n",
       "      <td>1.000000</td>\n",
       "      <td>993</td>\n",
       "      <td>Louise Glück</td>\n",
       "      <td>gluck</td>\n",
       "      <td>female</td>\n",
       "      <td>1943-04-22</td>\n",
       "      <td>10000000.0</td>\n",
       "    </tr>\n",
       "    <tr>\n",
       "      <th>...</th>\n",
       "      <td>...</td>\n",
       "      <td>...</td>\n",
       "      <td>...</td>\n",
       "      <td>...</td>\n",
       "      <td>...</td>\n",
       "      <td>...</td>\n",
       "      <td>...</td>\n",
       "      <td>...</td>\n",
       "      <td>...</td>\n",
       "      <td>...</td>\n",
       "      <td>...</td>\n",
       "      <td>...</td>\n",
       "      <td>...</td>\n",
       "      <td>...</td>\n",
       "    </tr>\n",
       "    <tr>\n",
       "      <th>973</th>\n",
       "      <td>2019</td>\n",
       "      <td>Physiology or Medicine</td>\n",
       "      <td>The Nobel Prize in Physiology or Medicine</td>\n",
       "      <td>2019-10-07</td>\n",
       "      <td>9000000</td>\n",
       "      <td>9000000</td>\n",
       "      <td>972</td>\n",
       "      <td>0.333333</td>\n",
       "      <td>972</td>\n",
       "      <td>Gregg L. Semenza</td>\n",
       "      <td>semenza</td>\n",
       "      <td>male</td>\n",
       "      <td>1956-07-12</td>\n",
       "      <td>3000000.0</td>\n",
       "    </tr>\n",
       "    <tr>\n",
       "      <th>974</th>\n",
       "      <td>2020</td>\n",
       "      <td>Peace</td>\n",
       "      <td>The Nobel Peace Prize</td>\n",
       "      <td>2020-10-09</td>\n",
       "      <td>10000000</td>\n",
       "      <td>10000000</td>\n",
       "      <td>994</td>\n",
       "      <td>1.000000</td>\n",
       "      <td>994</td>\n",
       "      <td>NA</td>\n",
       "      <td>wfp</td>\n",
       "      <td>NA</td>\n",
       "      <td>NA</td>\n",
       "      <td>10000000.0</td>\n",
       "    </tr>\n",
       "    <tr>\n",
       "      <th>975</th>\n",
       "      <td>2020</td>\n",
       "      <td>Physics</td>\n",
       "      <td>The Nobel Prize in Physics</td>\n",
       "      <td>2020-10-06</td>\n",
       "      <td>10000000</td>\n",
       "      <td>10000000</td>\n",
       "      <td>988</td>\n",
       "      <td>0.500000</td>\n",
       "      <td>988</td>\n",
       "      <td>Roger Penrose</td>\n",
       "      <td>penrose</td>\n",
       "      <td>male</td>\n",
       "      <td>1931-08-08</td>\n",
       "      <td>5000000.0</td>\n",
       "    </tr>\n",
       "    <tr>\n",
       "      <th>976</th>\n",
       "      <td>2020</td>\n",
       "      <td>Physics</td>\n",
       "      <td>The Nobel Prize in Physics</td>\n",
       "      <td>2020-10-06</td>\n",
       "      <td>10000000</td>\n",
       "      <td>10000000</td>\n",
       "      <td>989</td>\n",
       "      <td>0.250000</td>\n",
       "      <td>989</td>\n",
       "      <td>Reinhard Genzel</td>\n",
       "      <td>genzel</td>\n",
       "      <td>male</td>\n",
       "      <td>1952-03-24</td>\n",
       "      <td>2500000.0</td>\n",
       "    </tr>\n",
       "    <tr>\n",
       "      <th>977</th>\n",
       "      <td>2020</td>\n",
       "      <td>Physics</td>\n",
       "      <td>The Nobel Prize in Physics</td>\n",
       "      <td>2020-10-06</td>\n",
       "      <td>10000000</td>\n",
       "      <td>10000000</td>\n",
       "      <td>990</td>\n",
       "      <td>0.250000</td>\n",
       "      <td>990</td>\n",
       "      <td>Andrea Ghez</td>\n",
       "      <td>ghez</td>\n",
       "      <td>female</td>\n",
       "      <td>1965-06-16</td>\n",
       "      <td>2500000.0</td>\n",
       "    </tr>\n",
       "  </tbody>\n",
       "</table>\n",
       "<p>978 rows × 14 columns</p>\n",
       "</div>"
      ],
      "text/plain": [
       "       year                category  \\\n",
       "index                                 \n",
       "0      2020               Chemistry   \n",
       "1      2020               Chemistry   \n",
       "2      2020       Economic Sciences   \n",
       "3      2020       Economic Sciences   \n",
       "4      2020              Literature   \n",
       "...     ...                     ...   \n",
       "973    2019  Physiology or Medicine   \n",
       "974    2020                   Peace   \n",
       "975    2020                 Physics   \n",
       "976    2020                 Physics   \n",
       "977    2020                 Physics   \n",
       "\n",
       "                                      category_full_name date_awarded  \\\n",
       "index                                                                   \n",
       "0                           The Nobel Prize in Chemistry   2020-10-07   \n",
       "1                           The Nobel Prize in Chemistry   2020-10-07   \n",
       "2      The Sveriges Riksbank Prize in Economic Scienc...   2020-10-12   \n",
       "3      The Sveriges Riksbank Prize in Economic Scienc...   2020-10-12   \n",
       "4                          The Nobel Prize in Literature   2020-10-08   \n",
       "...                                                  ...          ...   \n",
       "973            The Nobel Prize in Physiology or Medicine   2019-10-07   \n",
       "974                                The Nobel Peace Prize   2020-10-09   \n",
       "975                           The Nobel Prize in Physics   2020-10-06   \n",
       "976                           The Nobel Prize in Physics   2020-10-06   \n",
       "977                           The Nobel Prize in Physics   2020-10-06   \n",
       "\n",
       "       prize_amount  prize_amount_adjusted  laureate_id  laureate_portion  \\\n",
       "index                                                                       \n",
       "0          10000000               10000000          991          0.500000   \n",
       "1          10000000               10000000          992          0.500000   \n",
       "2          10000000               10000000          995          0.500000   \n",
       "3          10000000               10000000          996          0.500000   \n",
       "4          10000000               10000000          993          1.000000   \n",
       "...             ...                    ...          ...               ...   \n",
       "973         9000000                9000000          972          0.333333   \n",
       "974        10000000               10000000          994          1.000000   \n",
       "975        10000000               10000000          988          0.500000   \n",
       "976        10000000               10000000          989          0.250000   \n",
       "977        10000000               10000000          990          0.250000   \n",
       "\n",
       "        id               full_name    file_name  gender       birth  \\\n",
       "index                                                                 \n",
       "0      991  Emmanuelle Charpentier  charpentier  female  1968-12-11   \n",
       "1      992      Jennifer A. Doudna       doudna  female  1964-02-19   \n",
       "2      995         Paul R. Milgrom      milgrom    male  1948-04-20   \n",
       "3      996        Robert B. Wilson       wilson    male  1937-05-16   \n",
       "4      993            Louise Glück        gluck  female  1943-04-22   \n",
       "...    ...                     ...          ...     ...         ...   \n",
       "973    972        Gregg L. Semenza      semenza    male  1956-07-12   \n",
       "974    994                      NA          wfp      NA          NA   \n",
       "975    988           Roger Penrose      penrose    male  1931-08-08   \n",
       "976    989         Reinhard Genzel       genzel    male  1952-03-24   \n",
       "977    990             Andrea Ghez         ghez  female  1965-06-16   \n",
       "\n",
       "       prize_amount_real  \n",
       "index                     \n",
       "0              5000000.0  \n",
       "1              5000000.0  \n",
       "2              5000000.0  \n",
       "3              5000000.0  \n",
       "4             10000000.0  \n",
       "...                  ...  \n",
       "973            3000000.0  \n",
       "974           10000000.0  \n",
       "975            5000000.0  \n",
       "976            2500000.0  \n",
       "977            2500000.0  \n",
       "\n",
       "[978 rows x 14 columns]"
      ]
     },
     "execution_count": 26,
     "metadata": {},
     "output_type": "execute_result"
    }
   ],
   "source": [
    "import boto3\n",
    "import os\n",
    "import pandas as pd\n",
    "\n",
    "# vamos a ejecutar el silver antes\n",
    "lambda_client = boto3.client('lambda')\n",
    "response = lambda_client.invoke(FunctionName='getSilverLaureates', Payload='{}')\n",
    "response_body = json.loads(response['Payload'].read().decode('utf-8'))\n",
    "print(f\"getSilverLaureates response status code: {response_body['statusCode']}\")\n",
    "print(response_body)\n",
    "\n",
    "BUCKET_NAME = \"jlmendo11-cs13datalake\"\n",
    "SILVER_PATH = f's3://{BUCKET_NAME}/silver/silver_laureates.parquet'\n",
    "s3_client = boto3.client('s3')\n",
    "\n",
    "# DOWNLOAD AS LOCAL FILE AND READ IT\n",
    "local_file_path = 'silver_laureates.parquet'\n",
    "s3_client.download_file(BUCKET_NAME, 'silver/silver_laureates.parquet', local_file_path)\n",
    "df = pd.read_parquet(local_file_path)\n",
    "\n",
    "# DELETE FILE\n",
    "os.remove(local_file_path)\n",
    "df"
   ]
  },
  {
   "cell_type": "code",
   "execution_count": 29,
   "id": "a5541149-239e-47f7-bd5c-5080e852546a",
   "metadata": {},
   "outputs": [
    {
     "name": "stdout",
     "output_type": "stream",
     "text": [
      "El laureado que más ha cobrado: Doris Lessing\n"
     ]
    },
    {
     "data": {
      "text/plain": [
       "year                                              2007\n",
       "category                                    Literature\n",
       "category_full_name       The Nobel Prize in Literature\n",
       "date_awarded                                2007-10-11\n",
       "prize_amount                                  10000000\n",
       "prize_amount_adjusted                         11506932\n",
       "laureate_id                                        817\n",
       "laureate_portion                                   1.0\n",
       "id                                                 817\n",
       "full_name                                Doris Lessing\n",
       "file_name                                      lessing\n",
       "gender                                          female\n",
       "birth                                       1919-10-22\n",
       "prize_amount_real                           10000000.0\n",
       "Name: 820, dtype: object"
      ]
     },
     "execution_count": 29,
     "metadata": {},
     "output_type": "execute_result"
    }
   ],
   "source": [
    "# 1 Quién es el laureado que más ha cobrado? (en caso de empate dar el más antiguo)\n",
    "\n",
    "df = df.sort_values(by=[\"prize_amount_real\", \"birth\"], ascending=[False, True])\n",
    "highest_paid_laureate = df.iloc[0][\"full_name\"]\n",
    "\n",
    "print(f\"El laureado que más ha cobrado: {highest_paid_laureate}\")\n",
    "df.iloc[0]\n"
   ]
  },
  {
   "cell_type": "code",
   "execution_count": 42,
   "id": "02d3ca47",
   "metadata": {},
   "outputs": [
    {
     "data": {
      "image/png": "[encoded data removed]",
      "text/plain": [
       "<Figure size 1800x600 with 1 Axes>"
      ]
     },
     "metadata": {},
     "output_type": "display_data"
    },
    {
     "name": "stdout",
     "output_type": "stream",
     "text": [
      "RESPUESTA ALUMNO: La tendencia es que parece que hemos tocado techo desde los años 2000\n"
     ]
    }
   ],
   "source": [
    "# 2 Generar una gráfica de línea en la que se muestre la inversión total por año (suma de prize_amount_real). \n",
    "# ¿Cuál ha sido la tendencia?\n",
    "\n",
    "import seaborn as sns\n",
    "import matplotlib.pyplot as plt\n",
    "\n",
    "investment_by_year = df.groupby(\"year\")[\"prize_amount_real\"].sum().reset_index()\n",
    "investment_by_year[\"prize_amount_real_m\"] = investment_by_year[\"prize_amount_real\"] / 1000000\n",
    "# figure\n",
    "plt.figure(figsize=(18, 6))\n",
    "sns.lineplot(data=investment_by_year, x=\"year\", y=\"prize_amount_real_m\", marker=\"o\")\n",
    "plt.xticks(rotation=45)  # Rotar los xticks en 45 grados\n",
    "plt.xticks(range(0, len(investment_by_year), 5))\n",
    "plt.xlabel(\"Año\")\n",
    "plt.ylabel(\"Inversión total (en millones de USD)\")\n",
    "plt.title(\"Inversión por año\")\n",
    "\n",
    "# Mostrar la gráfica\n",
    "plt.show()\n",
    "print(\"RESPUESTA ALUMNO: La tendencia es que parece que hemos tocado techo desde los años 2000\")"
   ]
  },
  {
   "cell_type": "code",
   "execution_count": 47,
   "id": "f7ab611a",
   "metadata": {},
   "outputs": [
    {
     "name": "stdout",
     "output_type": "stream",
     "text": [
      "Top 5 laureados con más de dos premios:\n",
      "Marie Curie, née Sklodowska    4\n",
      "Linus Carl Pauling             4\n",
      "Frederick Sanger               4\n",
      "John Bardeen                   4\n",
      "Name: full_name, dtype: int64\n"
     ]
    }
   ],
   "source": [
    "# 3 ¿Hay algún laureado que haya recibido más de dos premios? Muestra el top 5.\n",
    "top_laureates = df[\"full_name\"].value_counts()\n",
    "top_laureates = top_laureates[top_laureates > 2].head(5)\n",
    "\n",
    "print(\"Top 5 laureados con más de dos premios:\")\n",
    "print(top_laureates)\n"
   ]
  },
  {
   "cell_type": "code",
   "execution_count": 50,
   "id": "2924b441",
   "metadata": {},
   "outputs": [
    {
     "name": "stdout",
     "output_type": "stream",
     "text": [
      "Categoría con más premios Nobel: Physiology or Medicine\n",
      "Número de premios Nobel: 222\n",
      "====================\n",
      "Categoría que ha entregado más dinero en premios: Chemistry\n",
      "Cantidad total de dinero entregado: 298797233.0\n"
     ]
    }
   ],
   "source": [
    "# 4 ¿Qué categoría es la que más premios ha recibido? ¿Y que más dinero ha entregado?\n",
    "# Más premios Nobel\n",
    "category_most_nobel = df['category'].value_counts().idxmax()\n",
    "count_most_nobel =    df['category'].value_counts().max()\n",
    "print(f\"Categoría con más premios Nobel: {category_most_nobel}\")\n",
    "print(f\"Número de premios Nobel: {count_most_nobel}\")\n",
    "\n",
    "print(\"====================\")\n",
    "\n",
    "# Más dinero en premios\n",
    "category_most_money = df.groupby('category')['prize_amount_real'].sum().idxmax()\n",
    "money_most_category = df.groupby('category')['prize_amount_real'].sum().max()\n",
    "print(f\"Categoría que ha entregado más dinero en premios: {category_most_money}\")\n",
    "print(f\"Cantidad total de dinero entregado: {money_most_category}\")\n"
   ]
  }
 ],
 "metadata": {
  "kernelspec": {
   "display_name": "Python 3 (ipykernel)",
   "language": "python",
   "name": "python3"
  },
  "language_info": {
   "codemirror_mode": {
    "name": "ipython",
    "version": 3
   },
   "file_extension": ".py",
   "mimetype": "text/x-python",
   "name": "python",
   "nbconvert_exporter": "python",
   "pygments_lexer": "ipython3",
   "version": "3.8.10"
  }
 },
 "nbformat": 4,
 "nbformat_minor": 5
}
