{
 "cells": [
  {
   "cell_type": "markdown",
   "metadata": {},
   "source": [
    "<img src=\"img/mCIDaeNnb.png\" alt=\"Logo CiDAEN\" align=\"right\">\n",
    "\n",
    "\n",
    "\n",
    "\n",
    "<br><br><br>\n",
    "<h2><font color=\"#00586D\" size=4>Módulo 7</font></h2>\n",
    "\n",
    "\n",
    "\n",
    "<h1><font color=\"#00586D\" size=5>Capstone 7. Parte 2: Pronóstico de demanda eléctrica</font></h1>\n",
    "\n",
    "<br><br><br>\n",
    "<div style=\"text-align: right\">\n",
    "<font color=\"#00586D\" size=3>Enrique González, Luis de la Ossa</font><br>\n",
    "<font color=\"#00586D\" size=3>Máster en Ciencia de Datos e Ingeniería de Datos en la Nube I </font><br>\n",
    "<font color=\"#00586D\" size=3>Universidad de Castilla-La Mancha</font>\n",
    "\n",
    "</div>"
   ]
  },
  {
   "cell_type": "markdown",
   "metadata": {},
   "source": [
    "---\n",
    "\n",
    "<a id=\"indice\"></a>\n",
    "<h2><font color=\"#00586D\" size=5>Índice</font></h2>\n",
    "\n",
    "\n",
    "* [1. Creación del modelo de pronóstico](#section1)\n",
    "* [2. Ingesta y visualización del pronóstico](#section2)"
   ]
  },
  {
   "cell_type": "code",
   "execution_count": 1,
   "metadata": {
    "tags": []
   },
   "outputs": [
    {
     "data": {
      "text/html": [
       "<style>.container { width:95% !important; }</style>"
      ],
      "text/plain": [
       "<IPython.core.display.HTML object>"
      ]
     },
     "metadata": {},
     "output_type": "display_data"
    }
   ],
   "source": [
    "import matplotlib.pyplot as plt\n",
    "from influxdb_client import InfluxDBClient, Point, WritePrecision\n",
    "from influxdb_client.client.write_api import SYNCHRONOUS\n",
    "import pandas as pd\n",
    "import numpy as np\n",
    "from sklearn.metrics import mean_absolute_error\n",
    "\n",
    "# Optimiza los gráficos para pantalla retina\n",
    "%config InlineBackend.figure_format = 'retina'\n",
    "# Por defecto usamos el backend inline\n",
    "%matplotlib inline\n",
    "\n",
    "# Oculta warnings\n",
    "import warnings\n",
    "warnings.simplefilter('ignore')\n",
    "\n",
    "# La libreta ocupa así el 95% de la pantalla\n",
    "from IPython.core.display import display, HTML\n",
    "display(HTML(\"<style>.container { width:95% !important; }</style>\"))"
   ]
  },
  {
   "cell_type": "markdown",
   "metadata": {},
   "source": [
    "En la siguiente parte del capstone crearéis un modelo de pronóstico a partir de los datos ingestados en InfluxDB e añadiréis el pronóstico a un día vista de vuelta a InfluxDB de forma que en el sistema prototipado se pueda ver el pronóstico del día. Específicamente, para la creación del modelo utilizaréis los datos hasta el último día completo de datos y el pronóstico incluirá el dia siguiente (que podrá tener datos o no en nuestro sistema, pero que no los usaremos para entrenar). "
   ]
  },
  {
   "cell_type": "markdown",
   "metadata": {},
   "source": [
    "---\n",
    "\n",
    "<a id=\"section1\"></a>\n",
    "## <font color=\"#00586D\"> 1. Creación del modelo de pronóstico</font>\n",
    "<br>"
   ]
  },
  {
   "cell_type": "markdown",
   "metadata": {},
   "source": [
    "Para la creación del modelo de pronóstico, necesitaremos descargarnos los datos de nuestra instancia para poder tener datos con los que entrenar. "
   ]
  },
  {
   "cell_type": "markdown",
   "metadata": {},
   "source": [
    "\n",
    "--- "
   ]
  },
  {
   "cell_type": "markdown",
   "metadata": {},
   "source": [
    "### <font color=\"#004D7F\"> <i class=\"fa fa-pencil-square-o\" aria-hidden=\"true\" style=\"color:#004D7F\"></i> Tarea 1</font>\n",
    "<br>\n",
    "\n",
    "Implementa la siguiente función que devuelve un DataFrame con todos los datos disponibles de demanda eléctrica almacenados en tu instancia de InfluxDB. Solo nos interesa la serie de demanda real, por lo que tendréis que filtrar el Forecast de red eléctrica usando Flux. \n",
    "\n",
    "Necesitaréis añadir la información de autenticación para vuestra instancia de InfluxDB a continuación. \n",
    "\n",
    "_Pista_: La práctica de InfluxDB que hicimos en este módulo os resultará útil para poder formar la consulta. "
   ]
  },
  {
   "cell_type": "code",
   "execution_count": 2,
   "metadata": {
    "tags": []
   },
   "outputs": [],
   "source": [
    "token = \"mcidaen_token\"\n",
    "org = \"mcidaen\"\n",
    "bucket = \"capstone7\"\n",
    "\n",
    "client = InfluxDBClient(url=\"http://influxdb:8086\", token=token)"
   ]
  },
  {
   "cell_type": "code",
   "execution_count": 3,
   "metadata": {
    "tags": []
   },
   "outputs": [],
   "source": [
    "def load_from_influxdb(client: InfluxDBClient, bucket: str, org: str) -> pd.DataFrame:\n",
    "    \"\"\"\n",
    "    Escribe el DataFrame en InfluxDB\n",
    "    \"\"\"\n",
    "    \n",
    "    query = f'from(bucket: \"{bucket}\") |> range(start: 0) |> filter(fn: (r) => r[\"_measurement\"] == \"demand\" and r[\"_field\"] == \"RealDemand\")'\n",
    "    result = client.query_api().query(org=org, query=query)\n",
    "    \n",
    "    records = []\n",
    "    for table in result:\n",
    "        for record in table.records:\n",
    "            records.append((record.get_time(), record.get_field(), record.get_value()))\n",
    "    \n",
    "    df = pd.DataFrame(records, columns=['_time', '_field', '_value'])\n",
    "    \n",
    "    df_query = df.loc[:, ['_time', '_value']]\n",
    "    df_query['datetime'] = pd.to_datetime(df_query['_time'], utc=True).dt.tz_localize(None)\n",
    "    df_query['RealDemand'] = df_query['_value']\n",
    "    df_query = df_query[['datetime', 'RealDemand']]\n",
    "    df_query.index = df_query['datetime']\n",
    "    return df_query['RealDemand'].sort_index()"
   ]
  },
  {
   "cell_type": "code",
   "execution_count": 4,
   "metadata": {
    "tags": []
   },
   "outputs": [
    {
     "data": {
      "text/plain": [
       "datetime\n",
       "2022-08-17 13:00:00    28558.1\n",
       "2022-03-22 20:00:00    32101.3\n",
       "2022-06-18 01:00:00    24592.2\n",
       "2022-02-23 22:00:00    27416.5\n",
       "2022-04-27 13:00:00    29158.5\n",
       "2022-03-29 07:00:00    30680.5\n",
       "2022-06-07 00:00:00    22885.6\n",
       "2022-03-10 12:00:00    31206.7\n",
       "2022-09-25 05:00:00    19363.2\n",
       "2022-08-19 17:00:00    28068.4\n",
       "2022-11-06 04:00:00    17734.4\n",
       "2022-08-19 05:00:00    23990.7\n",
       "2022-02-22 22:00:00    27137.0\n",
       "2022-10-19 03:00:00    21814.9\n",
       "2022-12-21 01:00:00    21955.2\n",
       "2022-04-28 04:00:00    24237.8\n",
       "2022-12-01 21:00:00    29663.8\n",
       "2022-07-19 18:00:00    33729.7\n",
       "2022-07-03 06:00:00    21313.8\n",
       "2022-02-19 00:00:00    24770.7\n",
       "Name: RealDemand, dtype: float64"
      ]
     },
     "execution_count": 4,
     "metadata": {},
     "output_type": "execute_result"
    }
   ],
   "source": [
    "df = load_from_influxdb(client, bucket, org)\n",
    "df['2022'].sample(20, random_state=0)"
   ]
  },
  {
   "cell_type": "markdown",
   "metadata": {},
   "source": [
    "Resultado esperado:\n",
    "\n",
    "| datetime            |   RealDemand |\n",
    "|:--------------------|-------------:|\n",
    "| 2022-08-17 13:00:00 |      28558.1 |\n",
    "| 2022-03-22 20:00:00 |      32101.3 |\n",
    "| 2022-06-18 01:00:00 |      24592.2 |\n",
    "| 2022-02-23 22:00:00 |      27416.5 |\n",
    "| 2022-04-27 13:00:00 |      29158.5 |\n",
    "| 2022-03-29 07:00:00 |      30680.5 |\n",
    "| 2022-06-07 00:00:00 |      22885.6 |\n",
    "| 2022-03-10 12:00:00 |      31206.7 |\n",
    "| 2022-09-25 05:00:00 |      19363.2 |\n",
    "| 2022-08-19 17:00:00 |      28068.4 |\n",
    "| 2022-11-06 04:00:00 |      17734.4 |\n",
    "| 2022-08-19 05:00:00 |      23990.7 |\n",
    "| 2022-02-22 22:00:00 |      27137   |\n",
    "| 2022-10-19 03:00:00 |      21814.9 |\n",
    "| 2022-12-21 01:00:00 |      21955.2 |\n",
    "| 2022-04-28 04:00:00 |      24237.8 |\n",
    "| 2022-12-01 21:00:00 |      29663.8 |\n",
    "| 2022-07-19 18:00:00 |      33729.7 |\n",
    "| 2022-07-03 06:00:00 |      21313.8 |\n",
    "| 2022-02-19 00:00:00 |      24770.7 |\n"
   ]
  },
  {
   "cell_type": "markdown",
   "metadata": {},
   "source": [
    "<div style=\"text-align: right\"><font size=4> <i class=\"fa fa-check-square-o\" aria-hidden=\"true\" style=\"color:#00586D\"></i></font></div>\n",
    "\n",
    "--- "
   ]
  },
  {
   "cell_type": "markdown",
   "metadata": {},
   "source": [
    "Con estos datos, el objetivo es crear un modelo de forecasting que nos permita pronosticar a un día vista la demanda de energía horaria. Aunque podéis usar el modelo que estiméis (siempre que funcione con el resto de componentes) en este caso hemos optado por crear un modelo de Prophet. \n",
    "\n",
    "Para facilitar su integración con el resto de código y poder ejecutar el modelo para pronosticar varios días, crearemos una función que entrene el modelo y realice un pronóstico para un conjunto de test. Para ello crearemos un modelo capaz de pronosticar, dado un histórico, la demanda de energía horaria del día siguiente al histórico. "
   ]
  },
  {
   "cell_type": "markdown",
   "metadata": {},
   "source": [
    "\n",
    "--- "
   ]
  },
  {
   "cell_type": "markdown",
   "metadata": {},
   "source": [
    "### <font color=\"#004D7F\"> <i class=\"fa fa-pencil-square-o\" aria-hidden=\"true\" style=\"color:#004D7F\"></i> Tarea 2</font>\n",
    "<br>\n",
    "\n",
    "Implementa la siguiente función que, dada la serie temporal de demanda anterior, _training_ y una lista de timestamps, _test_:\n",
    "- Entrena un modelo de Prophet con los datos de _training_\n",
    "- Pronostica las horas pasadas en _test_ \n",
    "\n",
    "Puedes asumir que el conjunto de datos tiene el formato de salida de la función de la tarea anterior.\n",
    "\n",
    "Opcional: Como trabajo opcional, puedes probar varios modelos de los expuestos durante el módulo para ver si puedes obtener un mejor resultado. Esto se tendrá en cuenta a la hora de evaluación del capstone. "
   ]
  },
  {
   "cell_type": "code",
   "execution_count": 53,
   "metadata": {
    "tags": []
   },
   "outputs": [],
   "source": [
    "import datetime\n",
    "from prophet import Prophet\n",
    "\n",
    "def train_forecast(training: pd.DataFrame, test: list) -> pd.DataFrame:\n",
    "    \"\"\"\n",
    "    Entrena con training y pronostica los datos de test\n",
    "    \"\"\"\n",
    "    \n",
    "    # Crear DataFrame de entrenamiento con las columnas 'ds' y 'y' requeridas por Prophet\n",
    "    train_data = pd.DataFrame()\n",
    "    train_data['ds'] = training.index\n",
    "    train_data['y'] = training.values\n",
    "    \n",
    "    # Crear modelo de Prophet y entrenar con los datos de entrenamiento\n",
    "    model = Prophet()\n",
    "    model.fit(train_data)\n",
    "    \n",
    "    # Crear DataFrame de pronóstico con las fechas de test\n",
    "    forecast_data = pd.DataFrame()\n",
    "    forecast_data['ds'] = test\n",
    "    \n",
    "    # Realizar el pronóstico con el modelo entrenado\n",
    "    forecast = model.predict(forecast_data)\n",
    "    \n",
    "     # Redondear los valores 'yhat' a un decimal\n",
    "    forecast['yhat'] = forecast['yhat'].round(1)\n",
    "    \n",
    "    # Devolver el DataFrame de pronóstico con las columnas 'ds' y 'yhat'\n",
    "    return forecast[['ds', 'yhat']].rename(columns={'ds': 'datetime'})"
   ]
  },
  {
   "cell_type": "code",
   "execution_count": 54,
   "metadata": {
    "tags": []
   },
   "outputs": [],
   "source": [
    "test = list(pd.date_range(start=datetime.datetime(2023, 2, 24), freq='H', periods=24))"
   ]
  },
  {
   "cell_type": "code",
   "execution_count": 55,
   "metadata": {
    "tags": []
   },
   "outputs": [
    {
     "name": "stderr",
     "output_type": "stream",
     "text": [
      "17:29:38 - cmdstanpy - INFO - Chain [1] start processing\n",
      "17:30:05 - cmdstanpy - INFO - Chain [1] done processing\n"
     ]
    }
   ],
   "source": [
    "result = train_forecast(df[:datetime.datetime(2023, 2, 24)], test)"
   ]
  },
  {
   "cell_type": "code",
   "execution_count": 56,
   "metadata": {
    "tags": []
   },
   "outputs": [
    {
     "data": {
      "text/html": [
       "<div>\n",
       "<style scoped>\n",
       "    .dataframe tbody tr th:only-of-type {\n",
       "        vertical-align: middle;\n",
       "    }\n",
       "\n",
       "    .dataframe tbody tr th {\n",
       "        vertical-align: top;\n",
       "    }\n",
       "\n",
       "    .dataframe thead th {\n",
       "        text-align: right;\n",
       "    }\n",
       "</style>\n",
       "<table border=\"1\" class=\"dataframe\">\n",
       "  <thead>\n",
       "    <tr style=\"text-align: right;\">\n",
       "      <th></th>\n",
       "      <th>datetime</th>\n",
       "      <th>yhat</th>\n",
       "    </tr>\n",
       "  </thead>\n",
       "  <tbody>\n",
       "    <tr>\n",
       "      <th>0</th>\n",
       "      <td>2023-02-24 00:00:00</td>\n",
       "      <td>26198.2</td>\n",
       "    </tr>\n",
       "    <tr>\n",
       "      <th>1</th>\n",
       "      <td>2023-02-24 01:00:00</td>\n",
       "      <td>25433.0</td>\n",
       "    </tr>\n",
       "    <tr>\n",
       "      <th>2</th>\n",
       "      <td>2023-02-24 02:00:00</td>\n",
       "      <td>24997.3</td>\n",
       "    </tr>\n",
       "    <tr>\n",
       "      <th>3</th>\n",
       "      <td>2023-02-24 03:00:00</td>\n",
       "      <td>25105.2</td>\n",
       "    </tr>\n",
       "    <tr>\n",
       "      <th>4</th>\n",
       "      <td>2023-02-24 04:00:00</td>\n",
       "      <td>26039.9</td>\n",
       "    </tr>\n",
       "    <tr>\n",
       "      <th>5</th>\n",
       "      <td>2023-02-24 05:00:00</td>\n",
       "      <td>27767.6</td>\n",
       "    </tr>\n",
       "    <tr>\n",
       "      <th>6</th>\n",
       "      <td>2023-02-24 06:00:00</td>\n",
       "      <td>29799.1</td>\n",
       "    </tr>\n",
       "    <tr>\n",
       "      <th>7</th>\n",
       "      <td>2023-02-24 07:00:00</td>\n",
       "      <td>31478.4</td>\n",
       "    </tr>\n",
       "    <tr>\n",
       "      <th>8</th>\n",
       "      <td>2023-02-24 08:00:00</td>\n",
       "      <td>32441.5</td>\n",
       "    </tr>\n",
       "    <tr>\n",
       "      <th>9</th>\n",
       "      <td>2023-02-24 09:00:00</td>\n",
       "      <td>32813.5</td>\n",
       "    </tr>\n",
       "    <tr>\n",
       "      <th>10</th>\n",
       "      <td>2023-02-24 10:00:00</td>\n",
       "      <td>32964.8</td>\n",
       "    </tr>\n",
       "    <tr>\n",
       "      <th>11</th>\n",
       "      <td>2023-02-24 11:00:00</td>\n",
       "      <td>33092.9</td>\n",
       "    </tr>\n",
       "    <tr>\n",
       "      <th>12</th>\n",
       "      <td>2023-02-24 12:00:00</td>\n",
       "      <td>33058.4</td>\n",
       "    </tr>\n",
       "    <tr>\n",
       "      <th>13</th>\n",
       "      <td>2023-02-24 13:00:00</td>\n",
       "      <td>32639.3</td>\n",
       "    </tr>\n",
       "    <tr>\n",
       "      <th>14</th>\n",
       "      <td>2023-02-24 14:00:00</td>\n",
       "      <td>31920.0</td>\n",
       "    </tr>\n",
       "    <tr>\n",
       "      <th>15</th>\n",
       "      <td>2023-02-24 15:00:00</td>\n",
       "      <td>31373.7</td>\n",
       "    </tr>\n",
       "    <tr>\n",
       "      <th>16</th>\n",
       "      <td>2023-02-24 16:00:00</td>\n",
       "      <td>31493.3</td>\n",
       "    </tr>\n",
       "    <tr>\n",
       "      <th>17</th>\n",
       "      <td>2023-02-24 17:00:00</td>\n",
       "      <td>32292.9</td>\n",
       "    </tr>\n",
       "    <tr>\n",
       "      <th>18</th>\n",
       "      <td>2023-02-24 18:00:00</td>\n",
       "      <td>33168.0</td>\n",
       "    </tr>\n",
       "    <tr>\n",
       "      <th>19</th>\n",
       "      <td>2023-02-24 19:00:00</td>\n",
       "      <td>33294.3</td>\n",
       "    </tr>\n",
       "    <tr>\n",
       "      <th>20</th>\n",
       "      <td>2023-02-24 20:00:00</td>\n",
       "      <td>32240.4</td>\n",
       "    </tr>\n",
       "    <tr>\n",
       "      <th>21</th>\n",
       "      <td>2023-02-24 21:00:00</td>\n",
       "      <td>30267.5</td>\n",
       "    </tr>\n",
       "    <tr>\n",
       "      <th>22</th>\n",
       "      <td>2023-02-24 22:00:00</td>\n",
       "      <td>28075.7</td>\n",
       "    </tr>\n",
       "    <tr>\n",
       "      <th>23</th>\n",
       "      <td>2023-02-24 23:00:00</td>\n",
       "      <td>26259.1</td>\n",
       "    </tr>\n",
       "  </tbody>\n",
       "</table>\n",
       "</div>"
      ],
      "text/plain": [
       "              datetime     yhat\n",
       "0  2023-02-24 00:00:00  26198.2\n",
       "1  2023-02-24 01:00:00  25433.0\n",
       "2  2023-02-24 02:00:00  24997.3\n",
       "3  2023-02-24 03:00:00  25105.2\n",
       "4  2023-02-24 04:00:00  26039.9\n",
       "5  2023-02-24 05:00:00  27767.6\n",
       "6  2023-02-24 06:00:00  29799.1\n",
       "7  2023-02-24 07:00:00  31478.4\n",
       "8  2023-02-24 08:00:00  32441.5\n",
       "9  2023-02-24 09:00:00  32813.5\n",
       "10 2023-02-24 10:00:00  32964.8\n",
       "11 2023-02-24 11:00:00  33092.9\n",
       "12 2023-02-24 12:00:00  33058.4\n",
       "13 2023-02-24 13:00:00  32639.3\n",
       "14 2023-02-24 14:00:00  31920.0\n",
       "15 2023-02-24 15:00:00  31373.7\n",
       "16 2023-02-24 16:00:00  31493.3\n",
       "17 2023-02-24 17:00:00  32292.9\n",
       "18 2023-02-24 18:00:00  33168.0\n",
       "19 2023-02-24 19:00:00  33294.3\n",
       "20 2023-02-24 20:00:00  32240.4\n",
       "21 2023-02-24 21:00:00  30267.5\n",
       "22 2023-02-24 22:00:00  28075.7\n",
       "23 2023-02-24 23:00:00  26259.1"
      ]
     },
     "execution_count": 56,
     "metadata": {},
     "output_type": "execute_result"
    }
   ],
   "source": [
    "result"
   ]
  },
  {
   "cell_type": "markdown",
   "metadata": {},
   "source": [
    "Resultado esperado (aprox.):\n",
    "    \n",
    "| datetime            |    yhat |\n",
    "|:--------------------|--------:|\n",
    "| 2023-02-24 00:00:00 | 26204   |\n",
    "| 2023-02-24 01:00:00 | 25438.5 |\n",
    "| 2023-02-24 02:00:00 | 25002.7 |\n",
    "| 2023-02-24 03:00:00 | 25110.6 |\n",
    "| 2023-02-24 04:00:00 | 26045.4 |\n",
    "| 2023-02-24 05:00:00 | 27773.1 |\n",
    "| 2023-02-24 06:00:00 | 29804.7 |\n",
    "| 2023-02-24 07:00:00 | 31483.9 |\n",
    "| 2023-02-24 08:00:00 | 32447   |\n",
    "| 2023-02-24 09:00:00 | 32819   |\n",
    "| 2023-02-24 10:00:00 | 32970.4 |\n",
    "| 2023-02-24 11:00:00 | 33098.5 |\n",
    "| 2023-02-24 12:00:00 | 33064   |\n",
    "| 2023-02-24 13:00:00 | 32644.8 |\n",
    "| 2023-02-24 14:00:00 | 31925.6 |\n",
    "| 2023-02-24 15:00:00 | 31379.3 |\n",
    "| 2023-02-24 16:00:00 | 31499   |\n",
    "| 2023-02-24 17:00:00 | 32298.6 |\n",
    "| 2023-02-24 18:00:00 | 33173.7 |\n",
    "| 2023-02-24 19:00:00 | 33299.9 |\n",
    "| 2023-02-24 20:00:00 | 32246   |\n",
    "| 2023-02-24 21:00:00 | 30273.3 |\n",
    "| 2023-02-24 22:00:00 | 28081.7 |\n",
    "| 2023-02-24 23:00:00 | 26265.2 |\n"
   ]
  },
  {
   "cell_type": "markdown",
   "metadata": {},
   "source": [
    "<div style=\"text-align: right\"><font size=4> <i class=\"fa fa-check-square-o\" aria-hidden=\"true\" style=\"color:#00586D\"></i></font></div>\n",
    "\n",
    "--- "
   ]
  },
  {
   "cell_type": "markdown",
   "metadata": {},
   "source": [
    "Con esta función ya podemos evaluar nuestro modelo. En este caso, debemos recordar que debemos evaluar nuestro modelo de forma diaria, ya que nuestro objetivo es hacer pronósticos a un día vista. Para ello podemos valernos de la función anterior y recorrer diariamente los valores de un conjunto de test, añadiendo en el training los valores hasta la fecha. Solo usaremos los primeros días del mes de enero para probar el método. Veamos como hacerlo. "
   ]
  },
  {
   "cell_type": "code",
   "execution_count": 57,
   "metadata": {
    "tags": []
   },
   "outputs": [],
   "source": [
    "test_dates = list(pd.date_range(start=datetime.datetime(2023, 1, 1), end=datetime.datetime(2023, 1, 10), freq='D'))"
   ]
  },
  {
   "cell_type": "code",
   "execution_count": 58,
   "metadata": {
    "tags": []
   },
   "outputs": [
    {
     "name": "stderr",
     "output_type": "stream",
     "text": [
      "17:30:20 - cmdstanpy - INFO - Chain [1] start processing\n",
      "17:30:47 - cmdstanpy - INFO - Chain [1] done processing\n",
      "17:30:48 - cmdstanpy - INFO - Chain [1] start processing\n",
      "17:31:15 - cmdstanpy - INFO - Chain [1] done processing\n",
      "17:31:17 - cmdstanpy - INFO - Chain [1] start processing\n",
      "17:31:43 - cmdstanpy - INFO - Chain [1] done processing\n",
      "17:31:45 - cmdstanpy - INFO - Chain [1] start processing\n",
      "17:32:11 - cmdstanpy - INFO - Chain [1] done processing\n",
      "17:32:13 - cmdstanpy - INFO - Chain [1] start processing\n",
      "17:32:40 - cmdstanpy - INFO - Chain [1] done processing\n",
      "17:32:41 - cmdstanpy - INFO - Chain [1] start processing\n",
      "17:33:10 - cmdstanpy - INFO - Chain [1] done processing\n",
      "17:33:11 - cmdstanpy - INFO - Chain [1] start processing\n",
      "17:33:38 - cmdstanpy - INFO - Chain [1] done processing\n",
      "17:33:39 - cmdstanpy - INFO - Chain [1] start processing\n",
      "17:34:05 - cmdstanpy - INFO - Chain [1] done processing\n",
      "17:34:07 - cmdstanpy - INFO - Chain [1] start processing\n",
      "17:34:34 - cmdstanpy - INFO - Chain [1] done processing\n",
      "17:34:36 - cmdstanpy - INFO - Chain [1] start processing\n",
      "17:35:02 - cmdstanpy - INFO - Chain [1] done processing\n"
     ]
    }
   ],
   "source": [
    "maes = []\n",
    "for test_date in test_dates:\n",
    "    training = df[:test_date-datetime.timedelta(minutes=1)]\n",
    "    test = df[test_date:test_date+datetime.timedelta(days=1, minutes=-1)]\n",
    "    result = train_forecast(df, test.index)\n",
    "    result = result['yhat']  \n",
    "    # Selecciono solo la columna 'yhat' me aparecia este error: The DType <class 'numpy.dtype[datetime64]'> could not be promoted by <class 'numpy.dtype[float64]'>. This means that no common DType exists for the given inputs. For example they cannot be stored in a single array unless the dtype is `object`. The full list of DTypes is: (<class 'numpy.dtype[datetime64]'>, <class 'numpy.dtype[float64]'>)\n",
    "    r = mean_absolute_error(test, result)\n",
    "    maes.append(r)"
   ]
  },
  {
   "cell_type": "code",
   "execution_count": 59,
   "metadata": {
    "tags": []
   },
   "outputs": [
    {
     "data": {
      "text/plain": [
       "1671.4029166666667"
      ]
     },
     "execution_count": 59,
     "metadata": {},
     "output_type": "execute_result"
    }
   ],
   "source": [
    "np.mean(maes)"
   ]
  },
  {
   "cell_type": "markdown",
   "metadata": {},
   "source": [
    "Con este modelo ya podemos añadir la información de pronóstico como un nuevo campo en nuestra serie en InfluxDB. Para ello seguiremos la siguiente estrategia:\n",
    "- Nos centraremos solo en el último més de datos disponible. Para el último día, que posiblemente no estará completo, deberemos añadir las horas que falten. \n",
    "- Generaremos un pronóstico para cada día usando el modelo que creamos anteriormente. \n",
    "- Subiremos este pronóstico directamente a InfluxDB"
   ]
  },
  {
   "cell_type": "markdown",
   "metadata": {},
   "source": [
    "Implementaremos este proceso por partes a continuación. "
   ]
  },
  {
   "cell_type": "markdown",
   "metadata": {},
   "source": [
    "\n",
    "--- "
   ]
  },
  {
   "cell_type": "markdown",
   "metadata": {},
   "source": [
    "### <font color=\"#004D7F\"> <i class=\"fa fa-pencil-square-o\" aria-hidden=\"true\" style=\"color:#004D7F\"></i> Tarea 3 </font>\n",
    "<br>\n",
    "\n",
    "Implementa la siguiente función que, dada una fecha, devuelve una lista con los timestamps ordenados de sus horas. "
   ]
  },
  {
   "cell_type": "code",
   "execution_count": 60,
   "metadata": {
    "tags": []
   },
   "outputs": [],
   "source": [
    "def get_hours(date: datetime.datetime) -> list :\n",
    "    return pd.date_range(start=date, end=date + datetime.timedelta(days=1, seconds=-1), freq='H').tolist()"
   ]
  },
  {
   "cell_type": "code",
   "execution_count": 61,
   "metadata": {
    "tags": []
   },
   "outputs": [
    {
     "data": {
      "text/plain": [
       "[Timestamp('2023-02-28 00:00:00', freq='H'),\n",
       " Timestamp('2023-02-28 01:00:00', freq='H'),\n",
       " Timestamp('2023-02-28 02:00:00', freq='H'),\n",
       " Timestamp('2023-02-28 03:00:00', freq='H'),\n",
       " Timestamp('2023-02-28 04:00:00', freq='H'),\n",
       " Timestamp('2023-02-28 05:00:00', freq='H'),\n",
       " Timestamp('2023-02-28 06:00:00', freq='H'),\n",
       " Timestamp('2023-02-28 07:00:00', freq='H'),\n",
       " Timestamp('2023-02-28 08:00:00', freq='H'),\n",
       " Timestamp('2023-02-28 09:00:00', freq='H'),\n",
       " Timestamp('2023-02-28 10:00:00', freq='H'),\n",
       " Timestamp('2023-02-28 11:00:00', freq='H'),\n",
       " Timestamp('2023-02-28 12:00:00', freq='H'),\n",
       " Timestamp('2023-02-28 13:00:00', freq='H'),\n",
       " Timestamp('2023-02-28 14:00:00', freq='H'),\n",
       " Timestamp('2023-02-28 15:00:00', freq='H'),\n",
       " Timestamp('2023-02-28 16:00:00', freq='H'),\n",
       " Timestamp('2023-02-28 17:00:00', freq='H'),\n",
       " Timestamp('2023-02-28 18:00:00', freq='H'),\n",
       " Timestamp('2023-02-28 19:00:00', freq='H'),\n",
       " Timestamp('2023-02-28 20:00:00', freq='H'),\n",
       " Timestamp('2023-02-28 21:00:00', freq='H'),\n",
       " Timestamp('2023-02-28 22:00:00', freq='H'),\n",
       " Timestamp('2023-02-28 23:00:00', freq='H')]"
      ]
     },
     "execution_count": 61,
     "metadata": {},
     "output_type": "execute_result"
    }
   ],
   "source": [
    "get_hours(datetime.datetime(2023, 2, 28))"
   ]
  },
  {
   "cell_type": "markdown",
   "metadata": {},
   "source": [
    "Resutado esperado:\n",
    "```\n",
    "[Timestamp('2023-02-28 00:00:00', freq='H'),\n",
    " Timestamp('2023-02-28 01:00:00', freq='H'),\n",
    " Timestamp('2023-02-28 02:00:00', freq='H'),\n",
    " Timestamp('2023-02-28 03:00:00', freq='H'),\n",
    " Timestamp('2023-02-28 04:00:00', freq='H'),\n",
    " Timestamp('2023-02-28 05:00:00', freq='H'),\n",
    " Timestamp('2023-02-28 06:00:00', freq='H'),\n",
    " Timestamp('2023-02-28 07:00:00', freq='H'),\n",
    " Timestamp('2023-02-28 08:00:00', freq='H'),\n",
    " Timestamp('2023-02-28 09:00:00', freq='H'),\n",
    " Timestamp('2023-02-28 10:00:00', freq='H'),\n",
    " Timestamp('2023-02-28 11:00:00', freq='H'),\n",
    " Timestamp('2023-02-28 12:00:00', freq='H'),\n",
    " Timestamp('2023-02-28 13:00:00', freq='H'),\n",
    " Timestamp('2023-02-28 14:00:00', freq='H'),\n",
    " Timestamp('2023-02-28 15:00:00', freq='H'),\n",
    " Timestamp('2023-02-28 16:00:00', freq='H'),\n",
    " Timestamp('2023-02-28 17:00:00', freq='H'),\n",
    " Timestamp('2023-02-28 18:00:00', freq='H'),\n",
    " Timestamp('2023-02-28 19:00:00', freq='H'),\n",
    " Timestamp('2023-02-28 20:00:00', freq='H'),\n",
    " Timestamp('2023-02-28 21:00:00', freq='H'),\n",
    " Timestamp('2023-02-28 22:00:00', freq='H'),\n",
    " Timestamp('2023-02-28 23:00:00', freq='H')]\n",
    "```"
   ]
  },
  {
   "cell_type": "markdown",
   "metadata": {},
   "source": [
    "<div style=\"text-align: right\"><font size=4> <i class=\"fa fa-check-square-o\" aria-hidden=\"true\" style=\"color:#00586D\"></i></font></div>\n",
    "\n",
    "--- "
   ]
  },
  {
   "cell_type": "markdown",
   "metadata": {},
   "source": [
    "Para ingestar el pronóstico en InfluxDB, podemos usar la siguiente función, similar a la función que utilizásteis en la primera práctica y que básicamente toma el pronóstico del modelo de Prophet y lo ingesta usando la API de escritura de InfluxDB. El pronóstico se ingestará en la misma medida que la demanda, pero con el campo `CP7Forecast`."
   ]
  },
  {
   "cell_type": "code",
   "execution_count": 62,
   "metadata": {
    "tags": []
   },
   "outputs": [],
   "source": [
    "def save_to_influxdb(df: pd.DataFrame, client: InfluxDBClient, bucket: str, org: str) -> pd.DataFrame:\n",
    "    \"\"\"\n",
    "    Escribe el pronóstico en InfluxDB\n",
    "    \"\"\"\n",
    "    df = df.reset_index()\n",
    "    df['time'] = df['datetime']\n",
    "    df['CP7Forecast'] = df['yhat']\n",
    "    to_write = df[['time', 'CP7Forecast']]\n",
    "    to_write = to_write.set_index('time')[['CP7Forecast']]\n",
    "    write_api = client.write_api(write_options=SYNCHRONOUS)\n",
    "    write_api.write(bucket, org, record=to_write, data_frame_measurement_name='demand')"
   ]
  },
  {
   "cell_type": "markdown",
   "metadata": {},
   "source": [
    "Con estas funciones ya tenemos todo lo necesario para poder escribir en InfluxDB los datos de pronóstico. Para ello, partiendo de un día inicial desde el que empezaremos a generar pronósticos, usaremos una estrategia similar al método de evaluación anterior, simplemente teniendo en cuenta que generaremos nosotros las horas en vez de usar las que aparecen en un conjunto de test. A continuación mostramos como ingestar los resultados a partir de un día determinado. Podéis ejecutar el código a continuación para añadir el pronóstico a vuestra instancia de InfluxDB."
   ]
  },
  {
   "cell_type": "code",
   "execution_count": 63,
   "metadata": {
    "tags": []
   },
   "outputs": [
    {
     "data": {
      "text/plain": [
       "DatetimeIndex(['2023-02-22', '2023-02-23', '2023-02-24', '2023-02-25',\n",
       "               '2023-02-26', '2023-02-27', '2023-02-28', '2023-03-01',\n",
       "               '2023-03-02', '2023-03-03',\n",
       "               ...\n",
       "               '2023-06-27', '2023-06-28', '2023-06-29', '2023-06-30',\n",
       "               '2023-07-01', '2023-07-02', '2023-07-03', '2023-07-04',\n",
       "               '2023-07-05', '2023-07-06'],\n",
       "              dtype='datetime64[ns]', length=135, freq='D')"
      ]
     },
     "execution_count": 63,
     "metadata": {},
     "output_type": "execute_result"
    }
   ],
   "source": [
    "begin = datetime.datetime(2023, 2, 22)\n",
    "dates_to_ingest = pd.date_range(start=begin, end=datetime.datetime.now().date(), freq='D')\n",
    "dates_to_ingest"
   ]
  },
  {
   "cell_type": "code",
   "execution_count": 64,
   "metadata": {
    "scrolled": true,
    "tags": []
   },
   "outputs": [
    {
     "name": "stdout",
     "output_type": "stream",
     "text": [
      "Ingesting for date: 2023-02-22 00:00:00\n"
     ]
    },
    {
     "name": "stderr",
     "output_type": "stream",
     "text": [
      "17:35:04 - cmdstanpy - INFO - Chain [1] start processing\n",
      "17:35:31 - cmdstanpy - INFO - Chain [1] done processing\n"
     ]
    },
    {
     "name": "stdout",
     "output_type": "stream",
     "text": [
      "Ingesting for date: 2023-02-23 00:00:00\n"
     ]
    },
    {
     "name": "stderr",
     "output_type": "stream",
     "text": [
      "17:35:32 - cmdstanpy - INFO - Chain [1] start processing\n",
      "17:35:59 - cmdstanpy - INFO - Chain [1] done processing\n"
     ]
    },
    {
     "name": "stdout",
     "output_type": "stream",
     "text": [
      "Ingesting for date: 2023-02-24 00:00:00\n"
     ]
    },
    {
     "name": "stderr",
     "output_type": "stream",
     "text": [
      "17:36:00 - cmdstanpy - INFO - Chain [1] start processing\n",
      "17:36:27 - cmdstanpy - INFO - Chain [1] done processing\n"
     ]
    },
    {
     "name": "stdout",
     "output_type": "stream",
     "text": [
      "Ingesting for date: 2023-02-25 00:00:00\n"
     ]
    },
    {
     "name": "stderr",
     "output_type": "stream",
     "text": [
      "17:36:28 - cmdstanpy - INFO - Chain [1] start processing\n",
      "17:36:55 - cmdstanpy - INFO - Chain [1] done processing\n"
     ]
    },
    {
     "name": "stdout",
     "output_type": "stream",
     "text": [
      "Ingesting for date: 2023-02-26 00:00:00\n"
     ]
    },
    {
     "name": "stderr",
     "output_type": "stream",
     "text": [
      "17:36:56 - cmdstanpy - INFO - Chain [1] start processing\n",
      "17:37:23 - cmdstanpy - INFO - Chain [1] done processing\n"
     ]
    },
    {
     "name": "stdout",
     "output_type": "stream",
     "text": [
      "Ingesting for date: 2023-02-27 00:00:00\n"
     ]
    },
    {
     "name": "stderr",
     "output_type": "stream",
     "text": [
      "17:37:24 - cmdstanpy - INFO - Chain [1] start processing\n",
      "17:37:51 - cmdstanpy - INFO - Chain [1] done processing\n"
     ]
    },
    {
     "name": "stdout",
     "output_type": "stream",
     "text": [
      "Ingesting for date: 2023-02-28 00:00:00\n"
     ]
    },
    {
     "name": "stderr",
     "output_type": "stream",
     "text": [
      "17:37:52 - cmdstanpy - INFO - Chain [1] start processing\n",
      "17:38:25 - cmdstanpy - INFO - Chain [1] done processing\n"
     ]
    },
    {
     "name": "stdout",
     "output_type": "stream",
     "text": [
      "Ingesting for date: 2023-03-01 00:00:00\n"
     ]
    },
    {
     "name": "stderr",
     "output_type": "stream",
     "text": [
      "17:38:28 - cmdstanpy - INFO - Chain [1] start processing\n",
      "17:39:01 - cmdstanpy - INFO - Chain [1] done processing\n"
     ]
    },
    {
     "name": "stdout",
     "output_type": "stream",
     "text": [
      "Ingesting for date: 2023-03-02 00:00:00\n"
     ]
    },
    {
     "name": "stderr",
     "output_type": "stream",
     "text": [
      "17:39:02 - cmdstanpy - INFO - Chain [1] start processing\n",
      "17:39:32 - cmdstanpy - INFO - Chain [1] done processing\n"
     ]
    },
    {
     "name": "stdout",
     "output_type": "stream",
     "text": [
      "Ingesting for date: 2023-03-03 00:00:00\n"
     ]
    },
    {
     "name": "stderr",
     "output_type": "stream",
     "text": [
      "17:39:34 - cmdstanpy - INFO - Chain [1] start processing\n",
      "17:40:01 - cmdstanpy - INFO - Chain [1] done processing\n"
     ]
    },
    {
     "name": "stdout",
     "output_type": "stream",
     "text": [
      "Ingesting for date: 2023-03-04 00:00:00\n"
     ]
    },
    {
     "name": "stderr",
     "output_type": "stream",
     "text": [
      "17:40:02 - cmdstanpy - INFO - Chain [1] start processing\n",
      "17:40:24 - cmdstanpy - INFO - Chain [1] done processing\n"
     ]
    },
    {
     "name": "stdout",
     "output_type": "stream",
     "text": [
      "Ingesting for date: 2023-03-05 00:00:00\n"
     ]
    },
    {
     "name": "stderr",
     "output_type": "stream",
     "text": [
      "17:40:25 - cmdstanpy - INFO - Chain [1] start processing\n",
      "17:40:46 - cmdstanpy - INFO - Chain [1] done processing\n"
     ]
    },
    {
     "name": "stdout",
     "output_type": "stream",
     "text": [
      "Ingesting for date: 2023-03-06 00:00:00\n"
     ]
    },
    {
     "name": "stderr",
     "output_type": "stream",
     "text": [
      "17:40:48 - cmdstanpy - INFO - Chain [1] start processing\n",
      "17:41:11 - cmdstanpy - INFO - Chain [1] done processing\n"
     ]
    },
    {
     "name": "stdout",
     "output_type": "stream",
     "text": [
      "Ingesting for date: 2023-03-07 00:00:00\n"
     ]
    },
    {
     "name": "stderr",
     "output_type": "stream",
     "text": [
      "17:41:12 - cmdstanpy - INFO - Chain [1] start processing\n",
      "17:41:33 - cmdstanpy - INFO - Chain [1] done processing\n"
     ]
    },
    {
     "name": "stdout",
     "output_type": "stream",
     "text": [
      "Ingesting for date: 2023-03-08 00:00:00\n"
     ]
    },
    {
     "name": "stderr",
     "output_type": "stream",
     "text": [
      "17:41:35 - cmdstanpy - INFO - Chain [1] start processing\n",
      "17:41:57 - cmdstanpy - INFO - Chain [1] done processing\n"
     ]
    },
    {
     "name": "stdout",
     "output_type": "stream",
     "text": [
      "Ingesting for date: 2023-03-09 00:00:00\n"
     ]
    },
    {
     "name": "stderr",
     "output_type": "stream",
     "text": [
      "17:41:58 - cmdstanpy - INFO - Chain [1] start processing\n",
      "17:42:19 - cmdstanpy - INFO - Chain [1] done processing\n"
     ]
    },
    {
     "name": "stdout",
     "output_type": "stream",
     "text": [
      "Ingesting for date: 2023-03-10 00:00:00\n"
     ]
    },
    {
     "name": "stderr",
     "output_type": "stream",
     "text": [
      "17:42:21 - cmdstanpy - INFO - Chain [1] start processing\n",
      "17:42:43 - cmdstanpy - INFO - Chain [1] done processing\n"
     ]
    },
    {
     "name": "stdout",
     "output_type": "stream",
     "text": [
      "Ingesting for date: 2023-03-11 00:00:00\n"
     ]
    },
    {
     "name": "stderr",
     "output_type": "stream",
     "text": [
      "17:42:44 - cmdstanpy - INFO - Chain [1] start processing\n",
      "17:43:05 - cmdstanpy - INFO - Chain [1] done processing\n"
     ]
    },
    {
     "name": "stdout",
     "output_type": "stream",
     "text": [
      "Ingesting for date: 2023-03-12 00:00:00\n"
     ]
    },
    {
     "name": "stderr",
     "output_type": "stream",
     "text": [
      "17:43:07 - cmdstanpy - INFO - Chain [1] start processing\n",
      "17:43:27 - cmdstanpy - INFO - Chain [1] done processing\n"
     ]
    },
    {
     "name": "stdout",
     "output_type": "stream",
     "text": [
      "Ingesting for date: 2023-03-13 00:00:00\n"
     ]
    },
    {
     "name": "stderr",
     "output_type": "stream",
     "text": [
      "17:43:29 - cmdstanpy - INFO - Chain [1] start processing\n",
      "17:43:49 - cmdstanpy - INFO - Chain [1] done processing\n"
     ]
    },
    {
     "name": "stdout",
     "output_type": "stream",
     "text": [
      "Ingesting for date: 2023-03-14 00:00:00\n"
     ]
    },
    {
     "name": "stderr",
     "output_type": "stream",
     "text": [
      "17:43:51 - cmdstanpy - INFO - Chain [1] start processing\n",
      "17:44:24 - cmdstanpy - INFO - Chain [1] done processing\n"
     ]
    },
    {
     "name": "stdout",
     "output_type": "stream",
     "text": [
      "Ingesting for date: 2023-03-15 00:00:00\n"
     ]
    },
    {
     "name": "stderr",
     "output_type": "stream",
     "text": [
      "17:44:25 - cmdstanpy - INFO - Chain [1] start processing\n",
      "17:44:56 - cmdstanpy - INFO - Chain [1] done processing\n"
     ]
    },
    {
     "name": "stdout",
     "output_type": "stream",
     "text": [
      "Ingesting for date: 2023-03-16 00:00:00\n"
     ]
    },
    {
     "name": "stderr",
     "output_type": "stream",
     "text": [
      "17:44:58 - cmdstanpy - INFO - Chain [1] start processing\n",
      "17:45:27 - cmdstanpy - INFO - Chain [1] done processing\n"
     ]
    },
    {
     "name": "stdout",
     "output_type": "stream",
     "text": [
      "Ingesting for date: 2023-03-17 00:00:00\n"
     ]
    },
    {
     "name": "stderr",
     "output_type": "stream",
     "text": [
      "17:45:29 - cmdstanpy - INFO - Chain [1] start processing\n",
      "17:45:56 - cmdstanpy - INFO - Chain [1] done processing\n"
     ]
    },
    {
     "name": "stdout",
     "output_type": "stream",
     "text": [
      "Ingesting for date: 2023-03-18 00:00:00\n"
     ]
    },
    {
     "name": "stderr",
     "output_type": "stream",
     "text": [
      "17:45:57 - cmdstanpy - INFO - Chain [1] start processing\n",
      "17:46:24 - cmdstanpy - INFO - Chain [1] done processing\n"
     ]
    },
    {
     "name": "stdout",
     "output_type": "stream",
     "text": [
      "Ingesting for date: 2023-03-19 00:00:00\n"
     ]
    },
    {
     "name": "stderr",
     "output_type": "stream",
     "text": [
      "17:46:26 - cmdstanpy - INFO - Chain [1] start processing\n",
      "17:46:52 - cmdstanpy - INFO - Chain [1] done processing\n"
     ]
    },
    {
     "name": "stdout",
     "output_type": "stream",
     "text": [
      "Ingesting for date: 2023-03-20 00:00:00\n"
     ]
    },
    {
     "name": "stderr",
     "output_type": "stream",
     "text": [
      "17:46:54 - cmdstanpy - INFO - Chain [1] start processing\n",
      "17:47:21 - cmdstanpy - INFO - Chain [1] done processing\n"
     ]
    },
    {
     "name": "stdout",
     "output_type": "stream",
     "text": [
      "Ingesting for date: 2023-03-21 00:00:00\n"
     ]
    },
    {
     "name": "stderr",
     "output_type": "stream",
     "text": [
      "17:47:23 - cmdstanpy - INFO - Chain [1] start processing\n",
      "17:47:53 - cmdstanpy - INFO - Chain [1] done processing\n"
     ]
    },
    {
     "name": "stdout",
     "output_type": "stream",
     "text": [
      "Ingesting for date: 2023-03-22 00:00:00\n"
     ]
    },
    {
     "name": "stderr",
     "output_type": "stream",
     "text": [
      "17:47:55 - cmdstanpy - INFO - Chain [1] start processing\n",
      "17:48:25 - cmdstanpy - INFO - Chain [1] done processing\n"
     ]
    },
    {
     "name": "stdout",
     "output_type": "stream",
     "text": [
      "Ingesting for date: 2023-03-23 00:00:00\n"
     ]
    },
    {
     "name": "stderr",
     "output_type": "stream",
     "text": [
      "17:48:27 - cmdstanpy - INFO - Chain [1] start processing\n",
      "17:48:58 - cmdstanpy - INFO - Chain [1] done processing\n"
     ]
    },
    {
     "name": "stdout",
     "output_type": "stream",
     "text": [
      "Ingesting for date: 2023-03-24 00:00:00\n"
     ]
    },
    {
     "name": "stderr",
     "output_type": "stream",
     "text": [
      "17:48:59 - cmdstanpy - INFO - Chain [1] start processing\n",
      "17:49:29 - cmdstanpy - INFO - Chain [1] done processing\n"
     ]
    },
    {
     "name": "stdout",
     "output_type": "stream",
     "text": [
      "Ingesting for date: 2023-03-25 00:00:00\n"
     ]
    },
    {
     "name": "stderr",
     "output_type": "stream",
     "text": [
      "17:49:31 - cmdstanpy - INFO - Chain [1] start processing\n",
      "17:50:02 - cmdstanpy - INFO - Chain [1] done processing\n"
     ]
    },
    {
     "name": "stdout",
     "output_type": "stream",
     "text": [
      "Ingesting for date: 2023-03-26 00:00:00\n"
     ]
    },
    {
     "name": "stderr",
     "output_type": "stream",
     "text": [
      "17:50:04 - cmdstanpy - INFO - Chain [1] start processing\n",
      "17:50:34 - cmdstanpy - INFO - Chain [1] done processing\n"
     ]
    },
    {
     "name": "stdout",
     "output_type": "stream",
     "text": [
      "Ingesting for date: 2023-03-27 00:00:00\n"
     ]
    },
    {
     "name": "stderr",
     "output_type": "stream",
     "text": [
      "17:50:36 - cmdstanpy - INFO - Chain [1] start processing\n",
      "17:51:07 - cmdstanpy - INFO - Chain [1] done processing\n"
     ]
    },
    {
     "name": "stdout",
     "output_type": "stream",
     "text": [
      "Ingesting for date: 2023-03-28 00:00:00\n"
     ]
    },
    {
     "name": "stderr",
     "output_type": "stream",
     "text": [
      "17:51:08 - cmdstanpy - INFO - Chain [1] start processing\n",
      "17:51:37 - cmdstanpy - INFO - Chain [1] done processing\n"
     ]
    },
    {
     "name": "stdout",
     "output_type": "stream",
     "text": [
      "Ingesting for date: 2023-03-29 00:00:00\n"
     ]
    },
    {
     "name": "stderr",
     "output_type": "stream",
     "text": [
      "17:51:39 - cmdstanpy - INFO - Chain [1] start processing\n",
      "17:52:06 - cmdstanpy - INFO - Chain [1] done processing\n"
     ]
    },
    {
     "name": "stdout",
     "output_type": "stream",
     "text": [
      "Ingesting for date: 2023-03-30 00:00:00\n"
     ]
    },
    {
     "name": "stderr",
     "output_type": "stream",
     "text": [
      "17:52:08 - cmdstanpy - INFO - Chain [1] start processing\n",
      "17:52:37 - cmdstanpy - INFO - Chain [1] done processing\n"
     ]
    },
    {
     "name": "stdout",
     "output_type": "stream",
     "text": [
      "Ingesting for date: 2023-03-31 00:00:00\n"
     ]
    },
    {
     "name": "stderr",
     "output_type": "stream",
     "text": [
      "17:52:38 - cmdstanpy - INFO - Chain [1] start processing\n",
      "17:53:08 - cmdstanpy - INFO - Chain [1] done processing\n"
     ]
    },
    {
     "name": "stdout",
     "output_type": "stream",
     "text": [
      "Ingesting for date: 2023-04-01 00:00:00\n"
     ]
    },
    {
     "name": "stderr",
     "output_type": "stream",
     "text": [
      "17:53:10 - cmdstanpy - INFO - Chain [1] start processing\n",
      "17:53:36 - cmdstanpy - INFO - Chain [1] done processing\n"
     ]
    },
    {
     "name": "stdout",
     "output_type": "stream",
     "text": [
      "Ingesting for date: 2023-04-02 00:00:00\n"
     ]
    },
    {
     "name": "stderr",
     "output_type": "stream",
     "text": [
      "17:53:38 - cmdstanpy - INFO - Chain [1] start processing\n",
      "17:54:06 - cmdstanpy - INFO - Chain [1] done processing\n"
     ]
    },
    {
     "name": "stdout",
     "output_type": "stream",
     "text": [
      "Ingesting for date: 2023-04-03 00:00:00\n"
     ]
    },
    {
     "name": "stderr",
     "output_type": "stream",
     "text": [
      "17:54:07 - cmdstanpy - INFO - Chain [1] start processing\n",
      "17:54:35 - cmdstanpy - INFO - Chain [1] done processing\n"
     ]
    },
    {
     "name": "stdout",
     "output_type": "stream",
     "text": [
      "Ingesting for date: 2023-04-04 00:00:00\n"
     ]
    },
    {
     "name": "stderr",
     "output_type": "stream",
     "text": [
      "17:54:37 - cmdstanpy - INFO - Chain [1] start processing\n",
      "17:55:04 - cmdstanpy - INFO - Chain [1] done processing\n"
     ]
    },
    {
     "name": "stdout",
     "output_type": "stream",
     "text": [
      "Ingesting for date: 2023-04-05 00:00:00\n"
     ]
    },
    {
     "name": "stderr",
     "output_type": "stream",
     "text": [
      "17:55:05 - cmdstanpy - INFO - Chain [1] start processing\n",
      "17:55:33 - cmdstanpy - INFO - Chain [1] done processing\n"
     ]
    },
    {
     "name": "stdout",
     "output_type": "stream",
     "text": [
      "Ingesting for date: 2023-04-06 00:00:00\n"
     ]
    },
    {
     "name": "stderr",
     "output_type": "stream",
     "text": [
      "17:55:34 - cmdstanpy - INFO - Chain [1] start processing\n",
      "17:56:01 - cmdstanpy - INFO - Chain [1] done processing\n"
     ]
    },
    {
     "name": "stdout",
     "output_type": "stream",
     "text": [
      "Ingesting for date: 2023-04-07 00:00:00\n"
     ]
    },
    {
     "name": "stderr",
     "output_type": "stream",
     "text": [
      "17:56:03 - cmdstanpy - INFO - Chain [1] start processing\n",
      "17:56:32 - cmdstanpy - INFO - Chain [1] done processing\n"
     ]
    },
    {
     "name": "stdout",
     "output_type": "stream",
     "text": [
      "Ingesting for date: 2023-04-08 00:00:00\n"
     ]
    },
    {
     "name": "stderr",
     "output_type": "stream",
     "text": [
      "17:56:34 - cmdstanpy - INFO - Chain [1] start processing\n",
      "17:57:01 - cmdstanpy - INFO - Chain [1] done processing\n"
     ]
    },
    {
     "name": "stdout",
     "output_type": "stream",
     "text": [
      "Ingesting for date: 2023-04-09 00:00:00\n"
     ]
    },
    {
     "name": "stderr",
     "output_type": "stream",
     "text": [
      "17:57:02 - cmdstanpy - INFO - Chain [1] start processing\n",
      "17:57:29 - cmdstanpy - INFO - Chain [1] done processing\n"
     ]
    },
    {
     "name": "stdout",
     "output_type": "stream",
     "text": [
      "Ingesting for date: 2023-04-10 00:00:00\n"
     ]
    },
    {
     "name": "stderr",
     "output_type": "stream",
     "text": [
      "17:57:30 - cmdstanpy - INFO - Chain [1] start processing\n",
      "17:57:57 - cmdstanpy - INFO - Chain [1] done processing\n"
     ]
    },
    {
     "name": "stdout",
     "output_type": "stream",
     "text": [
      "Ingesting for date: 2023-04-11 00:00:00\n"
     ]
    },
    {
     "name": "stderr",
     "output_type": "stream",
     "text": [
      "17:57:59 - cmdstanpy - INFO - Chain [1] start processing\n",
      "17:58:25 - cmdstanpy - INFO - Chain [1] done processing\n"
     ]
    },
    {
     "name": "stdout",
     "output_type": "stream",
     "text": [
      "Ingesting for date: 2023-04-12 00:00:00\n"
     ]
    },
    {
     "name": "stderr",
     "output_type": "stream",
     "text": [
      "17:58:27 - cmdstanpy - INFO - Chain [1] start processing\n",
      "17:58:54 - cmdstanpy - INFO - Chain [1] done processing\n"
     ]
    },
    {
     "name": "stdout",
     "output_type": "stream",
     "text": [
      "Ingesting for date: 2023-04-13 00:00:00\n"
     ]
    },
    {
     "name": "stderr",
     "output_type": "stream",
     "text": [
      "17:58:55 - cmdstanpy - INFO - Chain [1] start processing\n",
      "17:59:22 - cmdstanpy - INFO - Chain [1] done processing\n"
     ]
    },
    {
     "name": "stdout",
     "output_type": "stream",
     "text": [
      "Ingesting for date: 2023-04-14 00:00:00\n"
     ]
    },
    {
     "name": "stderr",
     "output_type": "stream",
     "text": [
      "17:59:24 - cmdstanpy - INFO - Chain [1] start processing\n",
      "17:59:51 - cmdstanpy - INFO - Chain [1] done processing\n"
     ]
    },
    {
     "name": "stdout",
     "output_type": "stream",
     "text": [
      "Ingesting for date: 2023-04-15 00:00:00\n"
     ]
    },
    {
     "name": "stderr",
     "output_type": "stream",
     "text": [
      "17:59:52 - cmdstanpy - INFO - Chain [1] start processing\n",
      "18:00:19 - cmdstanpy - INFO - Chain [1] done processing\n"
     ]
    },
    {
     "name": "stdout",
     "output_type": "stream",
     "text": [
      "Ingesting for date: 2023-04-16 00:00:00\n"
     ]
    },
    {
     "name": "stderr",
     "output_type": "stream",
     "text": [
      "18:00:20 - cmdstanpy - INFO - Chain [1] start processing\n",
      "18:00:47 - cmdstanpy - INFO - Chain [1] done processing\n"
     ]
    },
    {
     "name": "stdout",
     "output_type": "stream",
     "text": [
      "Ingesting for date: 2023-04-17 00:00:00\n"
     ]
    },
    {
     "name": "stderr",
     "output_type": "stream",
     "text": [
      "18:00:49 - cmdstanpy - INFO - Chain [1] start processing\n",
      "18:01:16 - cmdstanpy - INFO - Chain [1] done processing\n"
     ]
    },
    {
     "name": "stdout",
     "output_type": "stream",
     "text": [
      "Ingesting for date: 2023-04-18 00:00:00\n"
     ]
    },
    {
     "name": "stderr",
     "output_type": "stream",
     "text": [
      "18:01:18 - cmdstanpy - INFO - Chain [1] start processing\n",
      "18:01:44 - cmdstanpy - INFO - Chain [1] done processing\n"
     ]
    },
    {
     "name": "stdout",
     "output_type": "stream",
     "text": [
      "Ingesting for date: 2023-04-19 00:00:00\n"
     ]
    },
    {
     "name": "stderr",
     "output_type": "stream",
     "text": [
      "18:01:46 - cmdstanpy - INFO - Chain [1] start processing\n",
      "18:02:13 - cmdstanpy - INFO - Chain [1] done processing\n"
     ]
    },
    {
     "name": "stdout",
     "output_type": "stream",
     "text": [
      "Ingesting for date: 2023-04-20 00:00:00\n"
     ]
    },
    {
     "name": "stderr",
     "output_type": "stream",
     "text": [
      "18:02:14 - cmdstanpy - INFO - Chain [1] start processing\n",
      "18:02:41 - cmdstanpy - INFO - Chain [1] done processing\n"
     ]
    },
    {
     "name": "stdout",
     "output_type": "stream",
     "text": [
      "Ingesting for date: 2023-04-21 00:00:00\n"
     ]
    },
    {
     "name": "stderr",
     "output_type": "stream",
     "text": [
      "18:02:43 - cmdstanpy - INFO - Chain [1] start processing\n",
      "18:03:10 - cmdstanpy - INFO - Chain [1] done processing\n"
     ]
    },
    {
     "name": "stdout",
     "output_type": "stream",
     "text": [
      "Ingesting for date: 2023-04-22 00:00:00\n"
     ]
    },
    {
     "name": "stderr",
     "output_type": "stream",
     "text": [
      "18:03:11 - cmdstanpy - INFO - Chain [1] start processing\n",
      "18:03:38 - cmdstanpy - INFO - Chain [1] done processing\n"
     ]
    },
    {
     "name": "stdout",
     "output_type": "stream",
     "text": [
      "Ingesting for date: 2023-04-23 00:00:00\n"
     ]
    },
    {
     "name": "stderr",
     "output_type": "stream",
     "text": [
      "18:03:40 - cmdstanpy - INFO - Chain [1] start processing\n",
      "18:04:06 - cmdstanpy - INFO - Chain [1] done processing\n"
     ]
    },
    {
     "name": "stdout",
     "output_type": "stream",
     "text": [
      "Ingesting for date: 2023-04-24 00:00:00\n"
     ]
    },
    {
     "name": "stderr",
     "output_type": "stream",
     "text": [
      "18:04:08 - cmdstanpy - INFO - Chain [1] start processing\n",
      "18:04:34 - cmdstanpy - INFO - Chain [1] done processing\n"
     ]
    },
    {
     "name": "stdout",
     "output_type": "stream",
     "text": [
      "Ingesting for date: 2023-04-25 00:00:00\n"
     ]
    },
    {
     "name": "stderr",
     "output_type": "stream",
     "text": [
      "18:04:36 - cmdstanpy - INFO - Chain [1] start processing\n",
      "18:05:03 - cmdstanpy - INFO - Chain [1] done processing\n"
     ]
    },
    {
     "name": "stdout",
     "output_type": "stream",
     "text": [
      "Ingesting for date: 2023-04-26 00:00:00\n"
     ]
    },
    {
     "name": "stderr",
     "output_type": "stream",
     "text": [
      "18:05:05 - cmdstanpy - INFO - Chain [1] start processing\n",
      "18:05:31 - cmdstanpy - INFO - Chain [1] done processing\n"
     ]
    },
    {
     "name": "stdout",
     "output_type": "stream",
     "text": [
      "Ingesting for date: 2023-04-27 00:00:00\n"
     ]
    },
    {
     "name": "stderr",
     "output_type": "stream",
     "text": [
      "18:05:33 - cmdstanpy - INFO - Chain [1] start processing\n",
      "18:06:00 - cmdstanpy - INFO - Chain [1] done processing\n"
     ]
    },
    {
     "name": "stdout",
     "output_type": "stream",
     "text": [
      "Ingesting for date: 2023-04-28 00:00:00\n"
     ]
    },
    {
     "name": "stderr",
     "output_type": "stream",
     "text": [
      "18:06:01 - cmdstanpy - INFO - Chain [1] start processing\n",
      "18:06:31 - cmdstanpy - INFO - Chain [1] done processing\n"
     ]
    },
    {
     "name": "stdout",
     "output_type": "stream",
     "text": [
      "Ingesting for date: 2023-04-29 00:00:00\n"
     ]
    },
    {
     "name": "stderr",
     "output_type": "stream",
     "text": [
      "18:06:33 - cmdstanpy - INFO - Chain [1] start processing\n",
      "18:07:03 - cmdstanpy - INFO - Chain [1] done processing\n"
     ]
    },
    {
     "name": "stdout",
     "output_type": "stream",
     "text": [
      "Ingesting for date: 2023-04-30 00:00:00\n"
     ]
    },
    {
     "name": "stderr",
     "output_type": "stream",
     "text": [
      "18:07:05 - cmdstanpy - INFO - Chain [1] start processing\n",
      "18:07:35 - cmdstanpy - INFO - Chain [1] done processing\n"
     ]
    },
    {
     "name": "stdout",
     "output_type": "stream",
     "text": [
      "Ingesting for date: 2023-05-01 00:00:00\n"
     ]
    },
    {
     "name": "stderr",
     "output_type": "stream",
     "text": [
      "18:07:37 - cmdstanpy - INFO - Chain [1] start processing\n",
      "18:08:06 - cmdstanpy - INFO - Chain [1] done processing\n"
     ]
    },
    {
     "name": "stdout",
     "output_type": "stream",
     "text": [
      "Ingesting for date: 2023-05-02 00:00:00\n"
     ]
    },
    {
     "name": "stderr",
     "output_type": "stream",
     "text": [
      "18:08:08 - cmdstanpy - INFO - Chain [1] start processing\n",
      "18:08:34 - cmdstanpy - INFO - Chain [1] done processing\n"
     ]
    },
    {
     "name": "stdout",
     "output_type": "stream",
     "text": [
      "Ingesting for date: 2023-05-03 00:00:00\n"
     ]
    },
    {
     "name": "stderr",
     "output_type": "stream",
     "text": [
      "18:08:36 - cmdstanpy - INFO - Chain [1] start processing\n",
      "18:09:03 - cmdstanpy - INFO - Chain [1] done processing\n"
     ]
    },
    {
     "name": "stdout",
     "output_type": "stream",
     "text": [
      "Ingesting for date: 2023-05-04 00:00:00\n"
     ]
    },
    {
     "name": "stderr",
     "output_type": "stream",
     "text": [
      "18:09:05 - cmdstanpy - INFO - Chain [1] start processing\n",
      "18:09:31 - cmdstanpy - INFO - Chain [1] done processing\n"
     ]
    },
    {
     "name": "stdout",
     "output_type": "stream",
     "text": [
      "Ingesting for date: 2023-05-05 00:00:00\n"
     ]
    },
    {
     "name": "stderr",
     "output_type": "stream",
     "text": [
      "18:09:33 - cmdstanpy - INFO - Chain [1] start processing\n",
      "18:10:00 - cmdstanpy - INFO - Chain [1] done processing\n"
     ]
    },
    {
     "name": "stdout",
     "output_type": "stream",
     "text": [
      "Ingesting for date: 2023-05-06 00:00:00\n"
     ]
    },
    {
     "name": "stderr",
     "output_type": "stream",
     "text": [
      "18:10:01 - cmdstanpy - INFO - Chain [1] start processing\n",
      "18:10:28 - cmdstanpy - INFO - Chain [1] done processing\n"
     ]
    },
    {
     "name": "stdout",
     "output_type": "stream",
     "text": [
      "Ingesting for date: 2023-05-07 00:00:00\n"
     ]
    },
    {
     "name": "stderr",
     "output_type": "stream",
     "text": [
      "18:10:30 - cmdstanpy - INFO - Chain [1] start processing\n",
      "18:10:56 - cmdstanpy - INFO - Chain [1] done processing\n"
     ]
    },
    {
     "name": "stdout",
     "output_type": "stream",
     "text": [
      "Ingesting for date: 2023-05-08 00:00:00\n"
     ]
    },
    {
     "name": "stderr",
     "output_type": "stream",
     "text": [
      "18:10:58 - cmdstanpy - INFO - Chain [1] start processing\n",
      "18:11:25 - cmdstanpy - INFO - Chain [1] done processing\n"
     ]
    },
    {
     "name": "stdout",
     "output_type": "stream",
     "text": [
      "Ingesting for date: 2023-05-09 00:00:00\n"
     ]
    },
    {
     "name": "stderr",
     "output_type": "stream",
     "text": [
      "18:11:26 - cmdstanpy - INFO - Chain [1] start processing\n",
      "18:11:54 - cmdstanpy - INFO - Chain [1] done processing\n"
     ]
    },
    {
     "name": "stdout",
     "output_type": "stream",
     "text": [
      "Ingesting for date: 2023-05-10 00:00:00\n"
     ]
    },
    {
     "name": "stderr",
     "output_type": "stream",
     "text": [
      "18:11:56 - cmdstanpy - INFO - Chain [1] start processing\n",
      "18:12:23 - cmdstanpy - INFO - Chain [1] done processing\n"
     ]
    },
    {
     "name": "stdout",
     "output_type": "stream",
     "text": [
      "Ingesting for date: 2023-05-11 00:00:00\n"
     ]
    },
    {
     "name": "stderr",
     "output_type": "stream",
     "text": [
      "18:12:24 - cmdstanpy - INFO - Chain [1] start processing\n",
      "18:12:53 - cmdstanpy - INFO - Chain [1] done processing\n"
     ]
    },
    {
     "name": "stdout",
     "output_type": "stream",
     "text": [
      "Ingesting for date: 2023-05-12 00:00:00\n"
     ]
    },
    {
     "name": "stderr",
     "output_type": "stream",
     "text": [
      "18:12:55 - cmdstanpy - INFO - Chain [1] start processing\n",
      "18:13:23 - cmdstanpy - INFO - Chain [1] done processing\n"
     ]
    },
    {
     "name": "stdout",
     "output_type": "stream",
     "text": [
      "Ingesting for date: 2023-05-13 00:00:00\n"
     ]
    },
    {
     "name": "stderr",
     "output_type": "stream",
     "text": [
      "18:13:25 - cmdstanpy - INFO - Chain [1] start processing\n",
      "18:13:56 - cmdstanpy - INFO - Chain [1] done processing\n"
     ]
    },
    {
     "name": "stdout",
     "output_type": "stream",
     "text": [
      "Ingesting for date: 2023-05-14 00:00:00\n"
     ]
    },
    {
     "name": "stderr",
     "output_type": "stream",
     "text": [
      "18:13:58 - cmdstanpy - INFO - Chain [1] start processing\n",
      "18:14:26 - cmdstanpy - INFO - Chain [1] done processing\n"
     ]
    },
    {
     "name": "stdout",
     "output_type": "stream",
     "text": [
      "Ingesting for date: 2023-05-15 00:00:00\n"
     ]
    },
    {
     "name": "stderr",
     "output_type": "stream",
     "text": [
      "18:14:27 - cmdstanpy - INFO - Chain [1] start processing\n",
      "18:14:56 - cmdstanpy - INFO - Chain [1] done processing\n"
     ]
    },
    {
     "name": "stdout",
     "output_type": "stream",
     "text": [
      "Ingesting for date: 2023-05-16 00:00:00\n"
     ]
    },
    {
     "name": "stderr",
     "output_type": "stream",
     "text": [
      "18:14:57 - cmdstanpy - INFO - Chain [1] start processing\n",
      "18:15:26 - cmdstanpy - INFO - Chain [1] done processing\n"
     ]
    },
    {
     "name": "stdout",
     "output_type": "stream",
     "text": [
      "Ingesting for date: 2023-05-17 00:00:00\n"
     ]
    },
    {
     "name": "stderr",
     "output_type": "stream",
     "text": [
      "18:15:28 - cmdstanpy - INFO - Chain [1] start processing\n",
      "18:15:56 - cmdstanpy - INFO - Chain [1] done processing\n"
     ]
    },
    {
     "name": "stdout",
     "output_type": "stream",
     "text": [
      "Ingesting for date: 2023-05-18 00:00:00\n"
     ]
    },
    {
     "name": "stderr",
     "output_type": "stream",
     "text": [
      "18:15:58 - cmdstanpy - INFO - Chain [1] start processing\n",
      "18:16:26 - cmdstanpy - INFO - Chain [1] done processing\n"
     ]
    },
    {
     "name": "stdout",
     "output_type": "stream",
     "text": [
      "Ingesting for date: 2023-05-19 00:00:00\n"
     ]
    },
    {
     "name": "stderr",
     "output_type": "stream",
     "text": [
      "18:16:28 - cmdstanpy - INFO - Chain [1] start processing\n",
      "18:16:56 - cmdstanpy - INFO - Chain [1] done processing\n"
     ]
    },
    {
     "name": "stdout",
     "output_type": "stream",
     "text": [
      "Ingesting for date: 2023-05-20 00:00:00\n"
     ]
    },
    {
     "name": "stderr",
     "output_type": "stream",
     "text": [
      "18:16:58 - cmdstanpy - INFO - Chain [1] start processing\n",
      "18:17:26 - cmdstanpy - INFO - Chain [1] done processing\n"
     ]
    },
    {
     "name": "stdout",
     "output_type": "stream",
     "text": [
      "Ingesting for date: 2023-05-21 00:00:00\n"
     ]
    },
    {
     "name": "stderr",
     "output_type": "stream",
     "text": [
      "18:17:28 - cmdstanpy - INFO - Chain [1] start processing\n",
      "18:17:57 - cmdstanpy - INFO - Chain [1] done processing\n"
     ]
    },
    {
     "name": "stdout",
     "output_type": "stream",
     "text": [
      "Ingesting for date: 2023-05-22 00:00:00\n"
     ]
    },
    {
     "name": "stderr",
     "output_type": "stream",
     "text": [
      "18:17:59 - cmdstanpy - INFO - Chain [1] start processing\n",
      "18:18:28 - cmdstanpy - INFO - Chain [1] done processing\n"
     ]
    },
    {
     "name": "stdout",
     "output_type": "stream",
     "text": [
      "Ingesting for date: 2023-05-23 00:00:00\n"
     ]
    },
    {
     "name": "stderr",
     "output_type": "stream",
     "text": [
      "18:18:30 - cmdstanpy - INFO - Chain [1] start processing\n",
      "18:18:57 - cmdstanpy - INFO - Chain [1] done processing\n"
     ]
    },
    {
     "name": "stdout",
     "output_type": "stream",
     "text": [
      "Ingesting for date: 2023-05-24 00:00:00\n"
     ]
    },
    {
     "name": "stderr",
     "output_type": "stream",
     "text": [
      "18:18:59 - cmdstanpy - INFO - Chain [1] start processing\n",
      "18:19:26 - cmdstanpy - INFO - Chain [1] done processing\n"
     ]
    },
    {
     "name": "stdout",
     "output_type": "stream",
     "text": [
      "Ingesting for date: 2023-05-25 00:00:00\n"
     ]
    },
    {
     "name": "stderr",
     "output_type": "stream",
     "text": [
      "18:19:27 - cmdstanpy - INFO - Chain [1] start processing\n",
      "18:19:54 - cmdstanpy - INFO - Chain [1] done processing\n"
     ]
    },
    {
     "name": "stdout",
     "output_type": "stream",
     "text": [
      "Ingesting for date: 2023-05-26 00:00:00\n"
     ]
    },
    {
     "name": "stderr",
     "output_type": "stream",
     "text": [
      "18:19:56 - cmdstanpy - INFO - Chain [1] start processing\n",
      "18:20:23 - cmdstanpy - INFO - Chain [1] done processing\n"
     ]
    },
    {
     "name": "stdout",
     "output_type": "stream",
     "text": [
      "Ingesting for date: 2023-05-27 00:00:00\n"
     ]
    },
    {
     "name": "stderr",
     "output_type": "stream",
     "text": [
      "18:20:25 - cmdstanpy - INFO - Chain [1] start processing\n",
      "18:20:52 - cmdstanpy - INFO - Chain [1] done processing\n"
     ]
    },
    {
     "name": "stdout",
     "output_type": "stream",
     "text": [
      "Ingesting for date: 2023-05-28 00:00:00\n"
     ]
    },
    {
     "name": "stderr",
     "output_type": "stream",
     "text": [
      "18:20:54 - cmdstanpy - INFO - Chain [1] start processing\n",
      "18:21:21 - cmdstanpy - INFO - Chain [1] done processing\n"
     ]
    },
    {
     "name": "stdout",
     "output_type": "stream",
     "text": [
      "Ingesting for date: 2023-05-29 00:00:00\n"
     ]
    },
    {
     "name": "stderr",
     "output_type": "stream",
     "text": [
      "18:21:22 - cmdstanpy - INFO - Chain [1] start processing\n",
      "18:21:49 - cmdstanpy - INFO - Chain [1] done processing\n"
     ]
    },
    {
     "name": "stdout",
     "output_type": "stream",
     "text": [
      "Ingesting for date: 2023-05-30 00:00:00\n"
     ]
    },
    {
     "name": "stderr",
     "output_type": "stream",
     "text": [
      "18:21:51 - cmdstanpy - INFO - Chain [1] start processing\n",
      "18:22:18 - cmdstanpy - INFO - Chain [1] done processing\n"
     ]
    },
    {
     "name": "stdout",
     "output_type": "stream",
     "text": [
      "Ingesting for date: 2023-05-31 00:00:00\n"
     ]
    },
    {
     "name": "stderr",
     "output_type": "stream",
     "text": [
      "18:22:19 - cmdstanpy - INFO - Chain [1] start processing\n",
      "18:22:46 - cmdstanpy - INFO - Chain [1] done processing\n"
     ]
    },
    {
     "name": "stdout",
     "output_type": "stream",
     "text": [
      "Ingesting for date: 2023-06-01 00:00:00\n"
     ]
    },
    {
     "name": "stderr",
     "output_type": "stream",
     "text": [
      "18:22:48 - cmdstanpy - INFO - Chain [1] start processing\n",
      "18:23:15 - cmdstanpy - INFO - Chain [1] done processing\n"
     ]
    },
    {
     "name": "stdout",
     "output_type": "stream",
     "text": [
      "Ingesting for date: 2023-06-02 00:00:00\n"
     ]
    },
    {
     "name": "stderr",
     "output_type": "stream",
     "text": [
      "18:23:17 - cmdstanpy - INFO - Chain [1] start processing\n",
      "18:23:44 - cmdstanpy - INFO - Chain [1] done processing\n"
     ]
    },
    {
     "name": "stdout",
     "output_type": "stream",
     "text": [
      "Ingesting for date: 2023-06-03 00:00:00\n"
     ]
    },
    {
     "name": "stderr",
     "output_type": "stream",
     "text": [
      "18:23:46 - cmdstanpy - INFO - Chain [1] start processing\n",
      "18:24:12 - cmdstanpy - INFO - Chain [1] done processing\n"
     ]
    },
    {
     "name": "stdout",
     "output_type": "stream",
     "text": [
      "Ingesting for date: 2023-06-04 00:00:00\n"
     ]
    },
    {
     "name": "stderr",
     "output_type": "stream",
     "text": [
      "18:24:14 - cmdstanpy - INFO - Chain [1] start processing\n",
      "18:24:41 - cmdstanpy - INFO - Chain [1] done processing\n"
     ]
    },
    {
     "name": "stdout",
     "output_type": "stream",
     "text": [
      "Ingesting for date: 2023-06-05 00:00:00\n"
     ]
    },
    {
     "name": "stderr",
     "output_type": "stream",
     "text": [
      "18:24:43 - cmdstanpy - INFO - Chain [1] start processing\n",
      "18:25:09 - cmdstanpy - INFO - Chain [1] done processing\n"
     ]
    },
    {
     "name": "stdout",
     "output_type": "stream",
     "text": [
      "Ingesting for date: 2023-06-06 00:00:00\n"
     ]
    },
    {
     "name": "stderr",
     "output_type": "stream",
     "text": [
      "18:25:11 - cmdstanpy - INFO - Chain [1] start processing\n",
      "18:25:42 - cmdstanpy - INFO - Chain [1] done processing\n"
     ]
    },
    {
     "name": "stdout",
     "output_type": "stream",
     "text": [
      "Ingesting for date: 2023-06-07 00:00:00\n"
     ]
    },
    {
     "name": "stderr",
     "output_type": "stream",
     "text": [
      "18:25:44 - cmdstanpy - INFO - Chain [1] start processing\n",
      "18:26:11 - cmdstanpy - INFO - Chain [1] done processing\n"
     ]
    },
    {
     "name": "stdout",
     "output_type": "stream",
     "text": [
      "Ingesting for date: 2023-06-08 00:00:00\n"
     ]
    },
    {
     "name": "stderr",
     "output_type": "stream",
     "text": [
      "18:26:12 - cmdstanpy - INFO - Chain [1] start processing\n",
      "18:26:39 - cmdstanpy - INFO - Chain [1] done processing\n"
     ]
    },
    {
     "name": "stdout",
     "output_type": "stream",
     "text": [
      "Ingesting for date: 2023-06-09 00:00:00\n"
     ]
    },
    {
     "name": "stderr",
     "output_type": "stream",
     "text": [
      "18:26:41 - cmdstanpy - INFO - Chain [1] start processing\n",
      "18:27:08 - cmdstanpy - INFO - Chain [1] done processing\n"
     ]
    },
    {
     "name": "stdout",
     "output_type": "stream",
     "text": [
      "Ingesting for date: 2023-06-10 00:00:00\n"
     ]
    },
    {
     "name": "stderr",
     "output_type": "stream",
     "text": [
      "18:27:09 - cmdstanpy - INFO - Chain [1] start processing\n",
      "18:27:36 - cmdstanpy - INFO - Chain [1] done processing\n"
     ]
    },
    {
     "name": "stdout",
     "output_type": "stream",
     "text": [
      "Ingesting for date: 2023-06-11 00:00:00\n"
     ]
    },
    {
     "name": "stderr",
     "output_type": "stream",
     "text": [
      "18:27:38 - cmdstanpy - INFO - Chain [1] start processing\n",
      "18:28:08 - cmdstanpy - INFO - Chain [1] done processing\n"
     ]
    },
    {
     "name": "stdout",
     "output_type": "stream",
     "text": [
      "Ingesting for date: 2023-06-12 00:00:00\n"
     ]
    },
    {
     "name": "stderr",
     "output_type": "stream",
     "text": [
      "18:28:10 - cmdstanpy - INFO - Chain [1] start processing\n",
      "18:28:36 - cmdstanpy - INFO - Chain [1] done processing\n"
     ]
    },
    {
     "name": "stdout",
     "output_type": "stream",
     "text": [
      "Ingesting for date: 2023-06-13 00:00:00\n"
     ]
    },
    {
     "name": "stderr",
     "output_type": "stream",
     "text": [
      "18:28:38 - cmdstanpy - INFO - Chain [1] start processing\n",
      "18:29:05 - cmdstanpy - INFO - Chain [1] done processing\n"
     ]
    },
    {
     "name": "stdout",
     "output_type": "stream",
     "text": [
      "Ingesting for date: 2023-06-14 00:00:00\n"
     ]
    },
    {
     "name": "stderr",
     "output_type": "stream",
     "text": [
      "18:29:06 - cmdstanpy - INFO - Chain [1] start processing\n",
      "18:29:33 - cmdstanpy - INFO - Chain [1] done processing\n"
     ]
    },
    {
     "name": "stdout",
     "output_type": "stream",
     "text": [
      "Ingesting for date: 2023-06-15 00:00:00\n"
     ]
    },
    {
     "name": "stderr",
     "output_type": "stream",
     "text": [
      "18:29:35 - cmdstanpy - INFO - Chain [1] start processing\n",
      "18:30:02 - cmdstanpy - INFO - Chain [1] done processing\n"
     ]
    },
    {
     "name": "stdout",
     "output_type": "stream",
     "text": [
      "Ingesting for date: 2023-06-16 00:00:00\n"
     ]
    },
    {
     "name": "stderr",
     "output_type": "stream",
     "text": [
      "18:30:04 - cmdstanpy - INFO - Chain [1] start processing\n",
      "18:30:30 - cmdstanpy - INFO - Chain [1] done processing\n"
     ]
    },
    {
     "name": "stdout",
     "output_type": "stream",
     "text": [
      "Ingesting for date: 2023-06-17 00:00:00\n"
     ]
    },
    {
     "name": "stderr",
     "output_type": "stream",
     "text": [
      "18:30:32 - cmdstanpy - INFO - Chain [1] start processing\n",
      "18:30:59 - cmdstanpy - INFO - Chain [1] done processing\n"
     ]
    },
    {
     "name": "stdout",
     "output_type": "stream",
     "text": [
      "Ingesting for date: 2023-06-18 00:00:00\n"
     ]
    },
    {
     "name": "stderr",
     "output_type": "stream",
     "text": [
      "18:31:00 - cmdstanpy - INFO - Chain [1] start processing\n",
      "18:31:28 - cmdstanpy - INFO - Chain [1] done processing\n"
     ]
    },
    {
     "name": "stdout",
     "output_type": "stream",
     "text": [
      "Ingesting for date: 2023-06-19 00:00:00\n"
     ]
    },
    {
     "name": "stderr",
     "output_type": "stream",
     "text": [
      "18:31:30 - cmdstanpy - INFO - Chain [1] start processing\n",
      "18:31:57 - cmdstanpy - INFO - Chain [1] done processing\n"
     ]
    },
    {
     "name": "stdout",
     "output_type": "stream",
     "text": [
      "Ingesting for date: 2023-06-20 00:00:00\n"
     ]
    },
    {
     "name": "stderr",
     "output_type": "stream",
     "text": [
      "18:31:58 - cmdstanpy - INFO - Chain [1] start processing\n",
      "18:32:25 - cmdstanpy - INFO - Chain [1] done processing\n"
     ]
    },
    {
     "name": "stdout",
     "output_type": "stream",
     "text": [
      "Ingesting for date: 2023-06-21 00:00:00\n"
     ]
    },
    {
     "name": "stderr",
     "output_type": "stream",
     "text": [
      "18:32:27 - cmdstanpy - INFO - Chain [1] start processing\n",
      "18:32:54 - cmdstanpy - INFO - Chain [1] done processing\n"
     ]
    },
    {
     "name": "stdout",
     "output_type": "stream",
     "text": [
      "Ingesting for date: 2023-06-22 00:00:00\n"
     ]
    },
    {
     "name": "stderr",
     "output_type": "stream",
     "text": [
      "18:32:55 - cmdstanpy - INFO - Chain [1] start processing\n",
      "18:33:23 - cmdstanpy - INFO - Chain [1] done processing\n"
     ]
    },
    {
     "name": "stdout",
     "output_type": "stream",
     "text": [
      "Ingesting for date: 2023-06-23 00:00:00\n"
     ]
    },
    {
     "name": "stderr",
     "output_type": "stream",
     "text": [
      "18:33:24 - cmdstanpy - INFO - Chain [1] start processing\n",
      "18:33:51 - cmdstanpy - INFO - Chain [1] done processing\n"
     ]
    },
    {
     "name": "stdout",
     "output_type": "stream",
     "text": [
      "Ingesting for date: 2023-06-24 00:00:00\n"
     ]
    },
    {
     "name": "stderr",
     "output_type": "stream",
     "text": [
      "18:33:52 - cmdstanpy - INFO - Chain [1] start processing\n",
      "18:34:19 - cmdstanpy - INFO - Chain [1] done processing\n"
     ]
    },
    {
     "name": "stdout",
     "output_type": "stream",
     "text": [
      "Ingesting for date: 2023-06-25 00:00:00\n"
     ]
    },
    {
     "name": "stderr",
     "output_type": "stream",
     "text": [
      "18:34:21 - cmdstanpy - INFO - Chain [1] start processing\n",
      "18:34:48 - cmdstanpy - INFO - Chain [1] done processing\n"
     ]
    },
    {
     "name": "stdout",
     "output_type": "stream",
     "text": [
      "Ingesting for date: 2023-06-26 00:00:00\n"
     ]
    },
    {
     "name": "stderr",
     "output_type": "stream",
     "text": [
      "18:34:49 - cmdstanpy - INFO - Chain [1] start processing\n",
      "18:35:16 - cmdstanpy - INFO - Chain [1] done processing\n"
     ]
    },
    {
     "name": "stdout",
     "output_type": "stream",
     "text": [
      "Ingesting for date: 2023-06-27 00:00:00\n"
     ]
    },
    {
     "name": "stderr",
     "output_type": "stream",
     "text": [
      "18:35:18 - cmdstanpy - INFO - Chain [1] start processing\n",
      "18:35:45 - cmdstanpy - INFO - Chain [1] done processing\n"
     ]
    },
    {
     "name": "stdout",
     "output_type": "stream",
     "text": [
      "Ingesting for date: 2023-06-28 00:00:00\n"
     ]
    },
    {
     "name": "stderr",
     "output_type": "stream",
     "text": [
      "18:35:46 - cmdstanpy - INFO - Chain [1] start processing\n",
      "18:36:13 - cmdstanpy - INFO - Chain [1] done processing\n"
     ]
    },
    {
     "name": "stdout",
     "output_type": "stream",
     "text": [
      "Ingesting for date: 2023-06-29 00:00:00\n"
     ]
    },
    {
     "name": "stderr",
     "output_type": "stream",
     "text": [
      "18:36:15 - cmdstanpy - INFO - Chain [1] start processing\n",
      "18:36:42 - cmdstanpy - INFO - Chain [1] done processing\n"
     ]
    },
    {
     "name": "stdout",
     "output_type": "stream",
     "text": [
      "Ingesting for date: 2023-06-30 00:00:00\n"
     ]
    },
    {
     "name": "stderr",
     "output_type": "stream",
     "text": [
      "18:36:43 - cmdstanpy - INFO - Chain [1] start processing\n",
      "18:37:10 - cmdstanpy - INFO - Chain [1] done processing\n"
     ]
    },
    {
     "name": "stdout",
     "output_type": "stream",
     "text": [
      "Ingesting for date: 2023-07-01 00:00:00\n"
     ]
    },
    {
     "name": "stderr",
     "output_type": "stream",
     "text": [
      "18:37:12 - cmdstanpy - INFO - Chain [1] start processing\n",
      "18:37:39 - cmdstanpy - INFO - Chain [1] done processing\n"
     ]
    },
    {
     "name": "stdout",
     "output_type": "stream",
     "text": [
      "Ingesting for date: 2023-07-02 00:00:00\n"
     ]
    },
    {
     "name": "stderr",
     "output_type": "stream",
     "text": [
      "18:37:41 - cmdstanpy - INFO - Chain [1] start processing\n",
      "18:38:08 - cmdstanpy - INFO - Chain [1] done processing\n"
     ]
    },
    {
     "name": "stdout",
     "output_type": "stream",
     "text": [
      "Ingesting for date: 2023-07-03 00:00:00\n"
     ]
    },
    {
     "name": "stderr",
     "output_type": "stream",
     "text": [
      "18:38:10 - cmdstanpy - INFO - Chain [1] start processing\n",
      "18:38:36 - cmdstanpy - INFO - Chain [1] done processing\n"
     ]
    },
    {
     "name": "stdout",
     "output_type": "stream",
     "text": [
      "Ingesting for date: 2023-07-04 00:00:00\n"
     ]
    },
    {
     "name": "stderr",
     "output_type": "stream",
     "text": [
      "18:38:38 - cmdstanpy - INFO - Chain [1] start processing\n",
      "18:39:05 - cmdstanpy - INFO - Chain [1] done processing\n"
     ]
    },
    {
     "name": "stdout",
     "output_type": "stream",
     "text": [
      "Ingesting for date: 2023-07-05 00:00:00\n"
     ]
    },
    {
     "name": "stderr",
     "output_type": "stream",
     "text": [
      "18:39:06 - cmdstanpy - INFO - Chain [1] start processing\n",
      "18:39:33 - cmdstanpy - INFO - Chain [1] done processing\n"
     ]
    },
    {
     "name": "stdout",
     "output_type": "stream",
     "text": [
      "Ingesting for date: 2023-07-06 00:00:00\n"
     ]
    },
    {
     "name": "stderr",
     "output_type": "stream",
     "text": [
      "18:39:35 - cmdstanpy - INFO - Chain [1] start processing\n",
      "18:40:02 - cmdstanpy - INFO - Chain [1] done processing\n"
     ]
    }
   ],
   "source": [
    "for dt in dates_to_ingest:\n",
    "    hours = get_hours(dt)\n",
    "    print(f\"Ingesting for date: {dt}\")\n",
    "    training = df[:dt-datetime.timedelta(minutes=1)]\n",
    "    result = train_forecast(df, hours)\n",
    "    save_to_influxdb(result, client, bucket, org)"
   ]
  },
  {
   "cell_type": "markdown",
   "metadata": {},
   "source": [
    "Cuando acabe el proceso anterior ya deberíais tener los resultados en InfluxDB. Solo quedaría adaptar el dashboard anterior para visualizar también los datos de pronóstico. "
   ]
  },
  {
   "cell_type": "markdown",
   "metadata": {},
   "source": [
    "\n",
    "--- "
   ]
  },
  {
   "cell_type": "markdown",
   "metadata": {},
   "source": [
    "### <font color=\"#004D7F\"> <i class=\"fa fa-pencil-square-o\" aria-hidden=\"true\" style=\"color:#004D7F\"></i> Tarea 4</font>\n",
    "<br>\n",
    "\n",
    "Añade a la celda tipo graph del dashboard que creaste en la primera parte del capstone la serie predicha por el modelo que hemos entrenado.\n",
    "\n",
    "Para visualizar el pronóstico a futuro, necesitarás modificar el filtro de tiempo para incluir el día en curso. \n",
    "\n",
    "**Añade una captura de tu dashboard a continuación (incluyéndo el dashboard con la entrega)**. \n"
   ]
  },
  {
   "cell_type": "markdown",
   "metadata": {},
   "source": [
    "Dashboard:\n",
    "\n",
    "![tarea4](img/Captura2.png)"
   ]
  },
  {
   "cell_type": "markdown",
   "metadata": {},
   "source": [
    "Resultado esperado (aprox):\n",
    "\n",
    "![tarea4](img/p2tarea4.png)"
   ]
  },
  {
   "cell_type": "markdown",
   "metadata": {},
   "source": [
    "<div style=\"text-align: right\"><font size=4> <i class=\"fa fa-check-square-o\" aria-hidden=\"true\" style=\"color:#00586D\"></i></font></div>\n",
    "\n",
    "--- "
   ]
  },
  {
   "cell_type": "code",
   "execution_count": null,
   "metadata": {},
   "outputs": [],
   "source": []
  }
 ],
 "metadata": {
  "kernelspec": {
   "display_name": "Python 3 (ipykernel)",
   "language": "python",
   "name": "python3"
  },
  "language_info": {
   "codemirror_mode": {
    "name": "ipython",
    "version": 3
   },
   "file_extension": ".py",
   "mimetype": "text/x-python",
   "name": "python",
   "nbconvert_exporter": "python",
   "pygments_lexer": "ipython3",
   "version": "3.11.4"
  }
 },
 "nbformat": 4,
 "nbformat_minor": 4
}
