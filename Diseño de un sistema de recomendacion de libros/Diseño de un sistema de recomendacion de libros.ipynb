{
 "cells": [
  {
   "cell_type": "markdown",
   "metadata": {},
   "source": [
    "<img src=\"http://www.cidaen.es/assets/img/mCIDaeNnb.png\" alt=\"Logo CiDAEN\" align=\"right\">\n",
    "\n",
    "\n",
    "\n",
    "\n",
    "<br><br><br>\n",
    "<h2><font color=\"#00586D\" size=4>Módulo 8</font></h2>\n",
    "\n",
    "\n",
    "\n",
    "<h1><font color=\"#00586D\" size=5>Sistema de recomendación de libros</font></h1>\n",
    "\n",
    "<br><br><br>\n",
    "<div style=\"text-align: right\">\n",
    "<font color=\"#00586D\" size=3>Luis de la Ossa</font><br>\n",
    "<font color=\"#00586D\" size=3>Máster en Ciencia de Datos e Ingeniería de Datos en la Nube</font><br>\n",
    "<font color=\"#00586D\" size=3>Universidad de Castilla-La Mancha</font>\n",
    "\n",
    "</div>"
   ]
  },
  {
   "cell_type": "markdown",
   "metadata": {},
   "source": [
    "---\n",
    "\n",
    "<a id=\"indice\"></a>\n",
    "<h2><font color=\"#00586D\" size=5>Índice</font></h2>\n",
    "\n",
    "\n",
    "* [1. Introducción](#section1)\n",
    "   * [Lectura de las revisiones](#section11)\n",
    "   * [Etiquetas](#section12)\n",
    "   * [Preparación de los datos](#section13)\n",
    "* [2. Limpieza del texto](#section2)\n",
    "* [3. Búsqueda por similaridad de la representación tf-idf](#section3)\n",
    "* [4. Recomendación basada en contenido](#section4)\n",
    "   * [Selección de libros preferidos por el usuario](#section41)\n",
    "   * [Búsqueda de libros similares](#section42)\n",
    "   * [Priorización de resultados y recomendación](#section43)\n",
    "* [5. Sistema híbrido de recomendación](#section5)  \n",
    "* [6. LDA y búsqueda por similaridad](#section6)\n",
    "<br>"
   ]
  },
  {
   "cell_type": "code",
   "execution_count": 1,
   "metadata": {},
   "outputs": [
    {
     "data": {
      "text/html": [
       "<style>.container { width:95% !important; }</style>"
      ],
      "text/plain": [
       "<IPython.core.display.HTML object>"
      ]
     },
     "metadata": {},
     "output_type": "display_data"
    }
   ],
   "source": [
    "from IPython.display import display, HTML\n",
    "display(HTML(\"<style>.container { width:95% !important; }</style>\"))\n",
    "\n",
    "import warnings\n",
    "warnings.filterwarnings('ignore')"
   ]
  },
  {
   "cell_type": "markdown",
   "metadata": {},
   "source": [
    "<a id=\"section1\"></a>\n",
    "## <font color=\"#00586D\"> 1. Introducción</font>\n",
    "<br>\n",
    "\n",
    "Los sistemas de recomendación basados en filtrado colaborativo utilizan de manera exclusiva los perfiles de votación de usuarios/items, y no consideran el contenido. Como se vió en clase,  permiten obtener resultados que, si bien cualitativamente son aceptables, pueden llegar a desconcertar al no corresponderse con lo esperado. \n",
    "\n",
    "En este proyecto se diseñará un pequeño sistema de recomendación de libros basado en contenido. Para ello, será necesario hacer uso de algunos de los conceptos relaccionados con aprendizaje automático sobre información textual (_Text Mining_) que han sido tratados también a lo largo del módulo. \n",
    "\n",
    "Como punto de partida, se partirá del conjunto de datos [goodbooks-10k](https://www.kaggle.com/zygmunt/goodbooks-10k) disponible en [kaggle](https://www.kaggle.com). Éste contiene información relativa a 10000 libros obtenida de la red social  [goodreads](http://goodreads.com), que actualmente es el sitio de referencia en la red para aficcionados a la lectura. Además de títulos y autores, el conjunto de datos incluye votos y etiquetas aportadas por más de 53000 usuarios. \n",
    "\n",
    "<div class=\"alert alert-block alert-warning\">\n",
    "<i class=\"fa fa-exclamation-circle\" aria-hidden=\"true\"></i>\n",
    "Se han hecho algunas modificaciones con respecto a la base original para que sea menos tedioso manejar los distintos índices e identificadores. \n",
    "</div>"
   ]
  },
  {
   "cell_type": "code",
   "execution_count": 2,
   "metadata": {},
   "outputs": [
    {
     "data": {
      "text/html": [
       "<div>\n",
       "<style scoped>\n",
       "    .dataframe tbody tr th:only-of-type {\n",
       "        vertical-align: middle;\n",
       "    }\n",
       "\n",
       "    .dataframe tbody tr th {\n",
       "        vertical-align: top;\n",
       "    }\n",
       "\n",
       "    .dataframe thead th {\n",
       "        text-align: right;\n",
       "    }\n",
       "</style>\n",
       "<table border=\"1\" class=\"dataframe\">\n",
       "  <thead>\n",
       "    <tr style=\"text-align: right;\">\n",
       "      <th></th>\n",
       "      <th>gr_book_id</th>\n",
       "      <th>gr_best_book_id</th>\n",
       "      <th>work_id</th>\n",
       "      <th>books_count</th>\n",
       "      <th>isbn</th>\n",
       "      <th>isbn13</th>\n",
       "      <th>authors</th>\n",
       "      <th>original_publication_year</th>\n",
       "      <th>original_title</th>\n",
       "      <th>title</th>\n",
       "      <th>...</th>\n",
       "      <th>ratings_count</th>\n",
       "      <th>work_ratings_count</th>\n",
       "      <th>work_text_reviews_count</th>\n",
       "      <th>ratings_1</th>\n",
       "      <th>ratings_2</th>\n",
       "      <th>ratings_3</th>\n",
       "      <th>ratings_4</th>\n",
       "      <th>ratings_5</th>\n",
       "      <th>image_url</th>\n",
       "      <th>small_image_url</th>\n",
       "    </tr>\n",
       "    <tr>\n",
       "      <th>book_id</th>\n",
       "      <th></th>\n",
       "      <th></th>\n",
       "      <th></th>\n",
       "      <th></th>\n",
       "      <th></th>\n",
       "      <th></th>\n",
       "      <th></th>\n",
       "      <th></th>\n",
       "      <th></th>\n",
       "      <th></th>\n",
       "      <th></th>\n",
       "      <th></th>\n",
       "      <th></th>\n",
       "      <th></th>\n",
       "      <th></th>\n",
       "      <th></th>\n",
       "      <th></th>\n",
       "      <th></th>\n",
       "      <th></th>\n",
       "      <th></th>\n",
       "      <th></th>\n",
       "    </tr>\n",
       "  </thead>\n",
       "  <tbody>\n",
       "    <tr>\n",
       "      <th>0</th>\n",
       "      <td>2767052</td>\n",
       "      <td>2767052</td>\n",
       "      <td>2792775</td>\n",
       "      <td>272</td>\n",
       "      <td>439023483</td>\n",
       "      <td>9.780439e+12</td>\n",
       "      <td>Suzanne Collins</td>\n",
       "      <td>2008.0</td>\n",
       "      <td>The Hunger Games</td>\n",
       "      <td>The Hunger Games (The Hunger Games, #1)</td>\n",
       "      <td>...</td>\n",
       "      <td>4780653</td>\n",
       "      <td>4942365</td>\n",
       "      <td>155254</td>\n",
       "      <td>66715</td>\n",
       "      <td>127936</td>\n",
       "      <td>560092</td>\n",
       "      <td>1481305</td>\n",
       "      <td>2706317</td>\n",
       "      <td>https://images.gr-assets.com/books/1447303603m...</td>\n",
       "      <td>https://images.gr-assets.com/books/1447303603s...</td>\n",
       "    </tr>\n",
       "    <tr>\n",
       "      <th>1</th>\n",
       "      <td>3</td>\n",
       "      <td>3</td>\n",
       "      <td>4640799</td>\n",
       "      <td>491</td>\n",
       "      <td>439554934</td>\n",
       "      <td>9.780440e+12</td>\n",
       "      <td>J.K. Rowling, Mary GrandPré</td>\n",
       "      <td>1997.0</td>\n",
       "      <td>Harry Potter and the Philosopher's Stone</td>\n",
       "      <td>Harry Potter and the Sorcerer's Stone (Harry P...</td>\n",
       "      <td>...</td>\n",
       "      <td>4602479</td>\n",
       "      <td>4800065</td>\n",
       "      <td>75867</td>\n",
       "      <td>75504</td>\n",
       "      <td>101676</td>\n",
       "      <td>455024</td>\n",
       "      <td>1156318</td>\n",
       "      <td>3011543</td>\n",
       "      <td>https://images.gr-assets.com/books/1474154022m...</td>\n",
       "      <td>https://images.gr-assets.com/books/1474154022s...</td>\n",
       "    </tr>\n",
       "  </tbody>\n",
       "</table>\n",
       "<p>2 rows × 22 columns</p>\n",
       "</div>"
      ],
      "text/plain": [
       "         gr_book_id  gr_best_book_id  work_id  books_count       isbn  \\\n",
       "book_id                                                                 \n",
       "0           2767052          2767052  2792775          272  439023483   \n",
       "1                 3                3  4640799          491  439554934   \n",
       "\n",
       "               isbn13                      authors  original_publication_year  \\\n",
       "book_id                                                                         \n",
       "0        9.780439e+12              Suzanne Collins                     2008.0   \n",
       "1        9.780440e+12  J.K. Rowling, Mary GrandPré                     1997.0   \n",
       "\n",
       "                                   original_title  \\\n",
       "book_id                                             \n",
       "0                                The Hunger Games   \n",
       "1        Harry Potter and the Philosopher's Stone   \n",
       "\n",
       "                                                     title  ... ratings_count  \\\n",
       "book_id                                                     ...                 \n",
       "0                  The Hunger Games (The Hunger Games, #1)  ...       4780653   \n",
       "1        Harry Potter and the Sorcerer's Stone (Harry P...  ...       4602479   \n",
       "\n",
       "         work_ratings_count  work_text_reviews_count  ratings_1  ratings_2  \\\n",
       "book_id                                                                      \n",
       "0                   4942365                   155254      66715     127936   \n",
       "1                   4800065                    75867      75504     101676   \n",
       "\n",
       "         ratings_3  ratings_4  ratings_5  \\\n",
       "book_id                                    \n",
       "0           560092    1481305    2706317   \n",
       "1           455024    1156318    3011543   \n",
       "\n",
       "                                                 image_url  \\\n",
       "book_id                                                      \n",
       "0        https://images.gr-assets.com/books/1447303603m...   \n",
       "1        https://images.gr-assets.com/books/1474154022m...   \n",
       "\n",
       "                                           small_image_url  \n",
       "book_id                                                     \n",
       "0        https://images.gr-assets.com/books/1447303603s...  \n",
       "1        https://images.gr-assets.com/books/1474154022s...  \n",
       "\n",
       "[2 rows x 22 columns]"
      ]
     },
     "execution_count": 2,
     "metadata": {},
     "output_type": "execute_result"
    }
   ],
   "source": [
    "import pandas as pd\n",
    "import numpy as np\n",
    "\n",
    "df_goodreads = pd.read_csv('data/books.csv', sep=\"\\t\", index_col=0)\n",
    "df_goodreads.head(2)"
   ]
  },
  {
   "cell_type": "markdown",
   "metadata": {},
   "source": [
    "<div style=\"text-align: right\">\n",
    "<a href=\"#indice\"><font size=5><i class=\"fa fa-arrow-circle-up\" aria-hidden=\"true\" style=\"color:#00586D\"></i></font></a>\n",
    "</div>\n",
    "\n",
    "---\n",
    "\n",
    "<a id=\"section11\"></a> \n",
    "###  <font color=\"#00586D\"> Lectura de las revisiones </font>\n",
    "<br>\n",
    "\n",
    "Los datos de la tabla apenas contienen información relativa al contenido de cada libro. Sin embargo, es posible acceder a los resúmenes almacenados en la propia web [GoodReads](www.goodreads.com) que, en cierto grado, aportan esta información. En el [anexo](#Anexo) se adjunta la función utilizada para obtenerlos. \n",
    "\n",
    "El resumen de cada libro ha sido almacenado en un archivo de texto denominado `./data/overviews/bookid.txt`, donde _bookid_ corresponde al identificador del libro (columna `book_id` de `df_goodreads`). \n",
    "\n",
    "<font color=\"#00586D\"> <i class=\"fa fa-pencil-square-o\" aria-hidden=\"true\" style=\"color:#00586D\"></i></font> Implementar una función, denominada `get_overview(gr_book_id)`, que reciba el identificador de un libro, lea el archivo de texto que contiene el resumen correspondiente y lo devuelva en un _String_ (o devuelva `None` si este resumen no existe). "
   ]
  },
  {
   "cell_type": "code",
   "execution_count": 3,
   "metadata": {},
   "outputs": [
    {
     "data": {
      "text/plain": [
       "'(Book Jacket Status: Jacketed)The brilliant, bestselling, landmark novel that tells the story of the Buendia family, and chronicles the irreconcilable conflict between the desire for solitude and the need for love—in rich, imaginative prose that has come to define an entire genre known as \"magical realism.\"'"
      ]
     },
     "execution_count": 3,
     "metadata": {},
     "output_type": "execute_result"
    }
   ],
   "source": [
    "import os\n",
    "def get_overview(gr_book_id):\n",
    "    try:\n",
    "        file_path = os.path.join('./data/overviews/', str(gr_book_id) + '.txt')\n",
    "        \n",
    "        with open(file_path, 'r', encoding='utf-8') as file:\n",
    "            resumen = file.read()\n",
    "        \n",
    "        return resumen\n",
    "    except:\n",
    "        return None\n",
    "    \n",
    "get_overview(320) # Cien años de soledad (Gabriel García Márquez)"
   ]
  },
  {
   "cell_type": "markdown",
   "metadata": {},
   "source": [
    "<div><font size=3 color=#00586D> <i class=\"fa fa-check-square-o\" aria-hidden=\"true\"></i></font></div>\n",
    "\n",
    "<!--comment -->"
   ]
  },
  {
   "cell_type": "markdown",
   "metadata": {},
   "source": [
    "<font color=\"#00586D\"> <i class=\"fa fa-pencil-square-o\" aria-hidden=\"true\"></i></font> Crear una columna en `df_goodreads`, denominada `overview`, que contenga la revisión del libro correspondiente. Rellenar los valores vacíos de esa columna con un _String_ de longitud cero (\"\")."
   ]
  },
  {
   "cell_type": "code",
   "execution_count": 4,
   "metadata": {},
   "outputs": [],
   "source": [
    "df_goodreads['overview'] = df_goodreads['gr_book_id'].apply(lambda x: get_overview(x)).fillna(\"\")"
   ]
  },
  {
   "cell_type": "code",
   "execution_count": 5,
   "metadata": {},
   "outputs": [
    {
     "data": {
      "text/html": [
       "<div>\n",
       "<style scoped>\n",
       "    .dataframe tbody tr th:only-of-type {\n",
       "        vertical-align: middle;\n",
       "    }\n",
       "\n",
       "    .dataframe tbody tr th {\n",
       "        vertical-align: top;\n",
       "    }\n",
       "\n",
       "    .dataframe thead th {\n",
       "        text-align: right;\n",
       "    }\n",
       "</style>\n",
       "<table border=\"1\" class=\"dataframe\">\n",
       "  <thead>\n",
       "    <tr style=\"text-align: right;\">\n",
       "      <th></th>\n",
       "      <th>gr_book_id</th>\n",
       "      <th>gr_best_book_id</th>\n",
       "      <th>work_id</th>\n",
       "      <th>books_count</th>\n",
       "      <th>isbn</th>\n",
       "      <th>isbn13</th>\n",
       "      <th>authors</th>\n",
       "      <th>original_publication_year</th>\n",
       "      <th>original_title</th>\n",
       "      <th>title</th>\n",
       "      <th>...</th>\n",
       "      <th>work_ratings_count</th>\n",
       "      <th>work_text_reviews_count</th>\n",
       "      <th>ratings_1</th>\n",
       "      <th>ratings_2</th>\n",
       "      <th>ratings_3</th>\n",
       "      <th>ratings_4</th>\n",
       "      <th>ratings_5</th>\n",
       "      <th>image_url</th>\n",
       "      <th>small_image_url</th>\n",
       "      <th>overview</th>\n",
       "    </tr>\n",
       "    <tr>\n",
       "      <th>book_id</th>\n",
       "      <th></th>\n",
       "      <th></th>\n",
       "      <th></th>\n",
       "      <th></th>\n",
       "      <th></th>\n",
       "      <th></th>\n",
       "      <th></th>\n",
       "      <th></th>\n",
       "      <th></th>\n",
       "      <th></th>\n",
       "      <th></th>\n",
       "      <th></th>\n",
       "      <th></th>\n",
       "      <th></th>\n",
       "      <th></th>\n",
       "      <th></th>\n",
       "      <th></th>\n",
       "      <th></th>\n",
       "      <th></th>\n",
       "      <th></th>\n",
       "      <th></th>\n",
       "    </tr>\n",
       "  </thead>\n",
       "  <tbody>\n",
       "    <tr>\n",
       "      <th>0</th>\n",
       "      <td>2767052</td>\n",
       "      <td>2767052</td>\n",
       "      <td>2792775</td>\n",
       "      <td>272</td>\n",
       "      <td>439023483</td>\n",
       "      <td>9.780439e+12</td>\n",
       "      <td>Suzanne Collins</td>\n",
       "      <td>2008.0</td>\n",
       "      <td>The Hunger Games</td>\n",
       "      <td>The Hunger Games (The Hunger Games, #1)</td>\n",
       "      <td>...</td>\n",
       "      <td>4942365</td>\n",
       "      <td>155254</td>\n",
       "      <td>66715</td>\n",
       "      <td>127936</td>\n",
       "      <td>560092</td>\n",
       "      <td>1481305</td>\n",
       "      <td>2706317</td>\n",
       "      <td>https://images.gr-assets.com/books/1447303603m...</td>\n",
       "      <td>https://images.gr-assets.com/books/1447303603s...</td>\n",
       "      <td>Winning will make you famous. Losing means cer...</td>\n",
       "    </tr>\n",
       "    <tr>\n",
       "      <th>1</th>\n",
       "      <td>3</td>\n",
       "      <td>3</td>\n",
       "      <td>4640799</td>\n",
       "      <td>491</td>\n",
       "      <td>439554934</td>\n",
       "      <td>9.780440e+12</td>\n",
       "      <td>J.K. Rowling, Mary GrandPré</td>\n",
       "      <td>1997.0</td>\n",
       "      <td>Harry Potter and the Philosopher's Stone</td>\n",
       "      <td>Harry Potter and the Sorcerer's Stone (Harry P...</td>\n",
       "      <td>...</td>\n",
       "      <td>4800065</td>\n",
       "      <td>75867</td>\n",
       "      <td>75504</td>\n",
       "      <td>101676</td>\n",
       "      <td>455024</td>\n",
       "      <td>1156318</td>\n",
       "      <td>3011543</td>\n",
       "      <td>https://images.gr-assets.com/books/1474154022m...</td>\n",
       "      <td>https://images.gr-assets.com/books/1474154022s...</td>\n",
       "      <td>Harry Potter's life is miserable. His parents ...</td>\n",
       "    </tr>\n",
       "  </tbody>\n",
       "</table>\n",
       "<p>2 rows × 23 columns</p>\n",
       "</div>"
      ],
      "text/plain": [
       "         gr_book_id  gr_best_book_id  work_id  books_count       isbn  \\\n",
       "book_id                                                                 \n",
       "0           2767052          2767052  2792775          272  439023483   \n",
       "1                 3                3  4640799          491  439554934   \n",
       "\n",
       "               isbn13                      authors  original_publication_year  \\\n",
       "book_id                                                                         \n",
       "0        9.780439e+12              Suzanne Collins                     2008.0   \n",
       "1        9.780440e+12  J.K. Rowling, Mary GrandPré                     1997.0   \n",
       "\n",
       "                                   original_title  \\\n",
       "book_id                                             \n",
       "0                                The Hunger Games   \n",
       "1        Harry Potter and the Philosopher's Stone   \n",
       "\n",
       "                                                     title  ...  \\\n",
       "book_id                                                     ...   \n",
       "0                  The Hunger Games (The Hunger Games, #1)  ...   \n",
       "1        Harry Potter and the Sorcerer's Stone (Harry P...  ...   \n",
       "\n",
       "        work_ratings_count  work_text_reviews_count  ratings_1  ratings_2  \\\n",
       "book_id                                                                     \n",
       "0                  4942365                   155254      66715     127936   \n",
       "1                  4800065                    75867      75504     101676   \n",
       "\n",
       "         ratings_3  ratings_4  ratings_5  \\\n",
       "book_id                                    \n",
       "0           560092    1481305    2706317   \n",
       "1           455024    1156318    3011543   \n",
       "\n",
       "                                                 image_url  \\\n",
       "book_id                                                      \n",
       "0        https://images.gr-assets.com/books/1447303603m...   \n",
       "1        https://images.gr-assets.com/books/1474154022m...   \n",
       "\n",
       "                                           small_image_url  \\\n",
       "book_id                                                      \n",
       "0        https://images.gr-assets.com/books/1447303603s...   \n",
       "1        https://images.gr-assets.com/books/1474154022s...   \n",
       "\n",
       "                                                  overview  \n",
       "book_id                                                     \n",
       "0        Winning will make you famous. Losing means cer...  \n",
       "1        Harry Potter's life is miserable. His parents ...  \n",
       "\n",
       "[2 rows x 23 columns]"
      ]
     },
     "execution_count": 5,
     "metadata": {},
     "output_type": "execute_result"
    }
   ],
   "source": [
    "df_goodreads.head(2)"
   ]
  },
  {
   "cell_type": "markdown",
   "metadata": {},
   "source": [
    "<div><font size=3 color=#00586D> <i class=\"fa fa-check-square-o\" aria-hidden=\"true\"></i></font></div>\n",
    "\n",
    "<!--comment -->"
   ]
  },
  {
   "cell_type": "markdown",
   "metadata": {},
   "source": [
    "<div style=\"text-align: right\">\n",
    "<a href=\"#indice\"><font size=5><i class=\"fa fa-arrow-circle-up\" aria-hidden=\"true\" style=\"color:#00586D\"></i></font></a>\n",
    "</div>\n",
    "\n",
    "---\n",
    "\n",
    "<a id=\"section12\"></a> \n",
    "###  <font color=\"#00586D\">Etiquetas </font>\n",
    "<br>\n",
    "\n",
    "\n",
    "En el conjunto de datos se proporcionan etiquetas relativas a cada libro que han sido aportadas por los usuarios. Esta información está incluída en dos archivos. El primero de ellos, `tags.csv`, contiene el identificador de cada etiqueta y el código correspondiente. El segundo, `book_tags.csv` contiene las etiquetas relativas a cada libro. Se almacenarán, respectivamente, en los _DataFrame_ `df_tags` y `df_book_tags`."
   ]
  },
  {
   "cell_type": "code",
   "execution_count": 6,
   "metadata": {},
   "outputs": [],
   "source": [
    "df_tags = pd.read_csv('./data/tags.csv')\n",
    "df_book_tags = pd.read_csv('./data/book_tags.csv')"
   ]
  },
  {
   "cell_type": "markdown",
   "metadata": {},
   "source": [
    "Etiquetas"
   ]
  },
  {
   "cell_type": "code",
   "execution_count": 7,
   "metadata": {},
   "outputs": [
    {
     "data": {
      "text/html": [
       "<div>\n",
       "<style scoped>\n",
       "    .dataframe tbody tr th:only-of-type {\n",
       "        vertical-align: middle;\n",
       "    }\n",
       "\n",
       "    .dataframe tbody tr th {\n",
       "        vertical-align: top;\n",
       "    }\n",
       "\n",
       "    .dataframe thead th {\n",
       "        text-align: right;\n",
       "    }\n",
       "</style>\n",
       "<table border=\"1\" class=\"dataframe\">\n",
       "  <thead>\n",
       "    <tr style=\"text-align: right;\">\n",
       "      <th></th>\n",
       "      <th>tag_id</th>\n",
       "      <th>tag_name</th>\n",
       "    </tr>\n",
       "  </thead>\n",
       "  <tbody>\n",
       "    <tr>\n",
       "      <th>2000</th>\n",
       "      <td>2000</td>\n",
       "      <td>alex-read</td>\n",
       "    </tr>\n",
       "    <tr>\n",
       "      <th>2001</th>\n",
       "      <td>2001</td>\n",
       "      <td>alex-rider</td>\n",
       "    </tr>\n",
       "  </tbody>\n",
       "</table>\n",
       "</div>"
      ],
      "text/plain": [
       "      tag_id    tag_name\n",
       "2000    2000   alex-read\n",
       "2001    2001  alex-rider"
      ]
     },
     "execution_count": 7,
     "metadata": {},
     "output_type": "execute_result"
    }
   ],
   "source": [
    "df_tags.iloc[2000:2002]"
   ]
  },
  {
   "cell_type": "markdown",
   "metadata": {},
   "source": [
    "Etiquetas por libro"
   ]
  },
  {
   "cell_type": "code",
   "execution_count": 8,
   "metadata": {},
   "outputs": [
    {
     "data": {
      "text/html": [
       "<div>\n",
       "<style scoped>\n",
       "    .dataframe tbody tr th:only-of-type {\n",
       "        vertical-align: middle;\n",
       "    }\n",
       "\n",
       "    .dataframe tbody tr th {\n",
       "        vertical-align: top;\n",
       "    }\n",
       "\n",
       "    .dataframe thead th {\n",
       "        text-align: right;\n",
       "    }\n",
       "</style>\n",
       "<table border=\"1\" class=\"dataframe\">\n",
       "  <thead>\n",
       "    <tr style=\"text-align: right;\">\n",
       "      <th></th>\n",
       "      <th>gr_book_id</th>\n",
       "      <th>tag_id</th>\n",
       "      <th>count</th>\n",
       "    </tr>\n",
       "  </thead>\n",
       "  <tbody>\n",
       "    <tr>\n",
       "      <th>0</th>\n",
       "      <td>1</td>\n",
       "      <td>30574</td>\n",
       "      <td>167697</td>\n",
       "    </tr>\n",
       "    <tr>\n",
       "      <th>1</th>\n",
       "      <td>1</td>\n",
       "      <td>11305</td>\n",
       "      <td>37174</td>\n",
       "    </tr>\n",
       "    <tr>\n",
       "      <th>2</th>\n",
       "      <td>1</td>\n",
       "      <td>11557</td>\n",
       "      <td>34173</td>\n",
       "    </tr>\n",
       "  </tbody>\n",
       "</table>\n",
       "</div>"
      ],
      "text/plain": [
       "   gr_book_id  tag_id   count\n",
       "0           1   30574  167697\n",
       "1           1   11305   37174\n",
       "2           1   11557   34173"
      ]
     },
     "execution_count": 8,
     "metadata": {},
     "output_type": "execute_result"
    }
   ],
   "source": [
    "df_book_tags.head(3)"
   ]
  },
  {
   "cell_type": "markdown",
   "metadata": {},
   "source": [
    "<font color=\"#00586D\"> <i class=\"fa fa-pencil-square-o\" aria-hidden=\"true\" style=\"color:#00586D\"></i></font> Incorporar el campo `tag_name` de `df_tags` a `df_book_tags`, sustituyendo el campo `tag_id` por la etiqueta (_String_) correspondiente. Para ello, fundir los dos _DataFrame_ y, posteriormente, eliminar las columnas `count` y `tag_id`."
   ]
  },
  {
   "cell_type": "code",
   "execution_count": 9,
   "metadata": {},
   "outputs": [
    {
     "data": {
      "text/html": [
       "<div>\n",
       "<style scoped>\n",
       "    .dataframe tbody tr th:only-of-type {\n",
       "        vertical-align: middle;\n",
       "    }\n",
       "\n",
       "    .dataframe tbody tr th {\n",
       "        vertical-align: top;\n",
       "    }\n",
       "\n",
       "    .dataframe thead th {\n",
       "        text-align: right;\n",
       "    }\n",
       "</style>\n",
       "<table border=\"1\" class=\"dataframe\">\n",
       "  <thead>\n",
       "    <tr style=\"text-align: right;\">\n",
       "      <th></th>\n",
       "      <th>gr_book_id</th>\n",
       "      <th>tag_name</th>\n",
       "    </tr>\n",
       "  </thead>\n",
       "  <tbody>\n",
       "    <tr>\n",
       "      <th>999907</th>\n",
       "      <td>31538635</td>\n",
       "      <td>hogwarts</td>\n",
       "    </tr>\n",
       "    <tr>\n",
       "      <th>999908</th>\n",
       "      <td>32848471</td>\n",
       "      <td>jan-2017</td>\n",
       "    </tr>\n",
       "    <tr>\n",
       "      <th>999909</th>\n",
       "      <td>33288638</td>\n",
       "      <td>single-mom</td>\n",
       "    </tr>\n",
       "    <tr>\n",
       "      <th>999910</th>\n",
       "      <td>33288638</td>\n",
       "      <td>fave-author</td>\n",
       "    </tr>\n",
       "    <tr>\n",
       "      <th>999911</th>\n",
       "      <td>33288638</td>\n",
       "      <td>slowburn</td>\n",
       "    </tr>\n",
       "  </tbody>\n",
       "</table>\n",
       "</div>"
      ],
      "text/plain": [
       "        gr_book_id     tag_name\n",
       "999907    31538635     hogwarts\n",
       "999908    32848471     jan-2017\n",
       "999909    33288638   single-mom\n",
       "999910    33288638  fave-author\n",
       "999911    33288638     slowburn"
      ]
     },
     "execution_count": 9,
     "metadata": {},
     "output_type": "execute_result"
    }
   ],
   "source": [
    "df_book_tags = df_book_tags.merge(df_tags, on='tag_id')\n",
    "df_book_tags.drop(['count', 'tag_id'], axis=1, inplace=True)\n",
    "df_book_tags.tail()"
   ]
  },
  {
   "cell_type": "markdown",
   "metadata": {},
   "source": [
    "<div><font size=3 color=#00586D> <i class=\"fa fa-check-square-o\" aria-hidden=\"true\"></i></font></div>\n",
    "\n",
    "<!--comment -->"
   ]
  },
  {
   "cell_type": "markdown",
   "metadata": {},
   "source": [
    "<font color=\"#00586D\"> <i class=\"fa fa-pencil-square-o\" aria-hidden=\"true\" style=\"color:#00586D\"></i></font> Inspeccionar las etiquetas que aparecen en `df_book_tags` y el número de veces que aparece cada una. ¿Deberían eliminarse algunas?"
   ]
  },
  {
   "cell_type": "code",
   "execution_count": 10,
   "metadata": {},
   "outputs": [
    {
     "data": {
      "text/plain": [
       "to-read               9983\n",
       "favorites             9881\n",
       "owned                 9858\n",
       "books-i-own           9799\n",
       "currently-reading     9776\n",
       "                      ... \n",
       "prose-literature         1\n",
       "best-reads-2016          1\n",
       "on-the-stack             1\n",
       "beautiful-pictures       1\n",
       "slowburn                 1\n",
       "Name: tag_name, Length: 34252, dtype: int64"
      ]
     },
     "execution_count": 10,
     "metadata": {},
     "output_type": "execute_result"
    }
   ],
   "source": [
    "df_book_tags['tag_name'].value_counts()"
   ]
  },
  {
   "cell_type": "markdown",
   "metadata": {},
   "source": [
    "<div><font size=3 color=#00586D> <i class=\"fa fa-check-square-o\" aria-hidden=\"true\"></i></font></div>\n",
    "\n",
    "<!--comment -->"
   ]
  },
  {
   "cell_type": "markdown",
   "metadata": {},
   "source": [
    "Una de las cosas que se observan es que hay un alto número de etiquetas que aparecen una vez, y que son irrelevantes, por lo que es mejor ignorarlas. "
   ]
  },
  {
   "cell_type": "markdown",
   "metadata": {},
   "source": [
    "\n",
    "<font color=\"#00586D\"> <i class=\"fa fa-pencil-square-o\" aria-hidden=\"true\" style=\"color:#00586D\"></i></font> Eliminar todas las etiquetas que aparezcan menos de 20 veces. \n",
    "\n",
    "<div class=\"alert alert-block alert-warning\">\n",
    "    \n",
    "<i class=\"fa fa-exclamation-circle\" aria-hidden=\"true\"></i> Este ejercicio se puede hacer de varias formas. Una de ellas, consiste en agrupar por `tag_name`, mediante `groupby`, y filtrar con `filter` los grupos con tamaño >=20.\n",
    "</div>"
   ]
  },
  {
   "cell_type": "code",
   "execution_count": 11,
   "metadata": {},
   "outputs": [],
   "source": [
    "df_book_tags = df_book_tags.groupby('tag_name').filter(lambda x: len(x) >= 20)"
   ]
  },
  {
   "cell_type": "markdown",
   "metadata": {},
   "source": [
    "<div><font size=3 color=#00586D> <i class=\"fa fa-check-square-o\" aria-hidden=\"true\"></i></font></div>\n",
    "\n",
    "<!--comment -->"
   ]
  },
  {
   "cell_type": "markdown",
   "metadata": {},
   "source": [
    "Otro de los problemas que se aprecian es que algunas etiquetas son genéricas, y no corresponden a libros concretos. Por ejemplo palabras como `read-readings` o `favourites`. "
   ]
  },
  {
   "cell_type": "code",
   "execution_count": 12,
   "metadata": {},
   "outputs": [
    {
     "data": {
      "text/plain": [
       "to-read              9983\n",
       "favorites            9881\n",
       "owned                9858\n",
       "books-i-own          9799\n",
       "currently-reading    9776\n",
       "library              9415\n",
       "owned-books          9221\n",
       "fiction              9097\n",
       "to-buy               8692\n",
       "kindle               8316\n",
       "default              8239\n",
       "ebook                8054\n",
       "my-books             7561\n",
       "audiobook            7242\n",
       "ebooks               7203\n",
       "wish-list            7192\n",
       "my-library           7000\n",
       "audiobooks           6862\n",
       "i-own                6670\n",
       "adult                6604\n",
       "audio                6548\n",
       "favourites           6422\n",
       "novels               5665\n",
       "own-it               5514\n",
       "contemporary         5287\n",
       "Name: tag_name, dtype: int64"
      ]
     },
     "execution_count": 12,
     "metadata": {},
     "output_type": "execute_result"
    }
   ],
   "source": [
    "df_book_tags['tag_name'].value_counts().nlargest(25)"
   ]
  },
  {
   "cell_type": "markdown",
   "metadata": {},
   "source": [
    "<font color=\"#00586D\"> <i class=\"fa fa-pencil-square-o\" aria-hidden=\"true\" style=\"color:#00586D\"></i></font> Eliminar todas las etiquetas que contengan estos términos (los términos de la lista `target_tags`).  \n",
    "\n",
    "<div class=\"alert alert-block alert-warning\">\n",
    "\n",
    "<i class=\"fa fa-exclamation-circle\" aria-hidden=\"true\"></i>\n",
    "En este caso, es recomendable no utilizar las etiquetas completas para eliminar así sus variantes también. Por otra parte, `Series.str.contains` acepta expresiones regulares.\n",
    "</div>"
   ]
  },
  {
   "cell_type": "code",
   "execution_count": 13,
   "metadata": {},
   "outputs": [
    {
     "data": {
      "text/html": [
       "<div>\n",
       "<style scoped>\n",
       "    .dataframe tbody tr th:only-of-type {\n",
       "        vertical-align: middle;\n",
       "    }\n",
       "\n",
       "    .dataframe tbody tr th {\n",
       "        vertical-align: top;\n",
       "    }\n",
       "\n",
       "    .dataframe thead th {\n",
       "        text-align: right;\n",
       "    }\n",
       "</style>\n",
       "<table border=\"1\" class=\"dataframe\">\n",
       "  <thead>\n",
       "    <tr style=\"text-align: right;\">\n",
       "      <th></th>\n",
       "      <th>gr_book_id</th>\n",
       "      <th>tag_name</th>\n",
       "    </tr>\n",
       "  </thead>\n",
       "  <tbody>\n",
       "    <tr>\n",
       "      <th>9983</th>\n",
       "      <td>1</td>\n",
       "      <td>fantasy</td>\n",
       "    </tr>\n",
       "    <tr>\n",
       "      <th>9984</th>\n",
       "      <td>2</td>\n",
       "      <td>fantasy</td>\n",
       "    </tr>\n",
       "    <tr>\n",
       "      <th>9985</th>\n",
       "      <td>3</td>\n",
       "      <td>fantasy</td>\n",
       "    </tr>\n",
       "    <tr>\n",
       "      <th>9986</th>\n",
       "      <td>5</td>\n",
       "      <td>fantasy</td>\n",
       "    </tr>\n",
       "    <tr>\n",
       "      <th>9987</th>\n",
       "      <td>6</td>\n",
       "      <td>fantasy</td>\n",
       "    </tr>\n",
       "    <tr>\n",
       "      <th>...</th>\n",
       "      <td>...</td>\n",
       "      <td>...</td>\n",
       "    </tr>\n",
       "    <tr>\n",
       "      <th>997632</th>\n",
       "      <td>29430013</td>\n",
       "      <td>best-of-2016</td>\n",
       "    </tr>\n",
       "    <tr>\n",
       "      <th>997633</th>\n",
       "      <td>29519514</td>\n",
       "      <td>best-of-2016</td>\n",
       "    </tr>\n",
       "    <tr>\n",
       "      <th>997634</th>\n",
       "      <td>30008702</td>\n",
       "      <td>best-of-2016</td>\n",
       "    </tr>\n",
       "    <tr>\n",
       "      <th>997635</th>\n",
       "      <td>30364931</td>\n",
       "      <td>best-of-2016</td>\n",
       "    </tr>\n",
       "    <tr>\n",
       "      <th>997636</th>\n",
       "      <td>30555488</td>\n",
       "      <td>best-of-2016</td>\n",
       "    </tr>\n",
       "  </tbody>\n",
       "</table>\n",
       "<p>551043 rows × 2 columns</p>\n",
       "</div>"
      ],
      "text/plain": [
       "        gr_book_id      tag_name\n",
       "9983             1       fantasy\n",
       "9984             2       fantasy\n",
       "9985             3       fantasy\n",
       "9986             5       fantasy\n",
       "9987             6       fantasy\n",
       "...            ...           ...\n",
       "997632    29430013  best-of-2016\n",
       "997633    29519514  best-of-2016\n",
       "997634    30008702  best-of-2016\n",
       "997635    30364931  best-of-2016\n",
       "997636    30555488  best-of-2016\n",
       "\n",
       "[551043 rows x 2 columns]"
      ]
     },
     "execution_count": 13,
     "metadata": {},
     "output_type": "execute_result"
    }
   ],
   "source": [
    "import re\n",
    "target_tags = ['read', 'favo', 'own', 'top', 'book', 'librar', 'kindle', 'list']\n",
    "pattern = '|'.join(target_tags)\n",
    "df_book_tags = df_book_tags[~df_book_tags['tag_name'].str.contains(pattern, flags=re.IGNORECASE)]\n",
    "df_book_tags"
   ]
  },
  {
   "cell_type": "markdown",
   "metadata": {},
   "source": [
    "<div><font size=3 color=#00586D> <i class=\"fa fa-check-square-o\" aria-hidden=\"true\"></i></font></div>\n",
    "\n",
    "<!--comment -->"
   ]
  },
  {
   "cell_type": "markdown",
   "metadata": {},
   "source": [
    "Por último,  se creará un `DataFrame` denominado `df_book_tag_text` en el que, para cada libro (indicado por su código `goodreads_book_id`), se añadirá una columna con _un solo campo de texto_, resultado de unir las etiquetas correspondientes.  \n",
    "\n",
    "<font color=\"#00586D\"> <i class=\"fa fa-pencil-square-o\" aria-hidden=\"true\" style=\"color:#00586D\"></i></font> Agrupar las entradas `DataFrame` en `df_book_tags` en función del campo `goodreads_book_id` y unir todas las etiquetas de cada grupo mediante `join`. Almacenar el resultado en un `DataFrame` denominado `df_book_tag_text`.\n",
    "\n",
    "<div class=\"alert alert-block alert-warning\">\n",
    "\n",
    "<i class=\"fa fa-exclamation-circle\" aria-hidden=\"true\"></i>\n",
    "Para pasos posteriores es necesario convertir el resultado resultante, una `Serie`, en un `DataFrame`, mediante `Series.to_frame()`. \n",
    "</div>"
   ]
  },
  {
   "cell_type": "code",
   "execution_count": 14,
   "metadata": {},
   "outputs": [
    {
     "data": {
      "text/html": [
       "<div>\n",
       "<style scoped>\n",
       "    .dataframe tbody tr th:only-of-type {\n",
       "        vertical-align: middle;\n",
       "    }\n",
       "\n",
       "    .dataframe tbody tr th {\n",
       "        vertical-align: top;\n",
       "    }\n",
       "\n",
       "    .dataframe thead th {\n",
       "        text-align: right;\n",
       "    }\n",
       "</style>\n",
       "<table border=\"1\" class=\"dataframe\">\n",
       "  <thead>\n",
       "    <tr style=\"text-align: right;\">\n",
       "      <th></th>\n",
       "      <th>gr_book_id</th>\n",
       "      <th>tag_name</th>\n",
       "    </tr>\n",
       "  </thead>\n",
       "  <tbody>\n",
       "    <tr>\n",
       "      <th>0</th>\n",
       "      <td>1</td>\n",
       "      <td>fantasy, young-adult, fiction, harry-potter, y...</td>\n",
       "    </tr>\n",
       "    <tr>\n",
       "      <th>1</th>\n",
       "      <td>2</td>\n",
       "      <td>fantasy, young-adult, fiction, harry-potter, y...</td>\n",
       "    </tr>\n",
       "    <tr>\n",
       "      <th>2</th>\n",
       "      <td>3</td>\n",
       "      <td>fantasy, young-adult, fiction, harry-potter, y...</td>\n",
       "    </tr>\n",
       "    <tr>\n",
       "      <th>3</th>\n",
       "      <td>5</td>\n",
       "      <td>fantasy, young-adult, fiction, harry-potter, y...</td>\n",
       "    </tr>\n",
       "    <tr>\n",
       "      <th>4</th>\n",
       "      <td>6</td>\n",
       "      <td>fantasy, young-adult, fiction, harry-potter, y...</td>\n",
       "    </tr>\n",
       "  </tbody>\n",
       "</table>\n",
       "</div>"
      ],
      "text/plain": [
       "   gr_book_id                                           tag_name\n",
       "0           1  fantasy, young-adult, fiction, harry-potter, y...\n",
       "1           2  fantasy, young-adult, fiction, harry-potter, y...\n",
       "2           3  fantasy, young-adult, fiction, harry-potter, y...\n",
       "3           5  fantasy, young-adult, fiction, harry-potter, y...\n",
       "4           6  fantasy, young-adult, fiction, harry-potter, y..."
      ]
     },
     "execution_count": 14,
     "metadata": {},
     "output_type": "execute_result"
    }
   ],
   "source": [
    "df_book_tag_text = df_book_tags.groupby('gr_book_id')['tag_name'].apply(', '.join).reset_index()\n",
    "\n",
    "df_book_tag_text.head()"
   ]
  },
  {
   "cell_type": "markdown",
   "metadata": {},
   "source": [
    "<div><font size=3 color=#00586D> <i class=\"fa fa-check-square-o\" aria-hidden=\"true\"></i></font></div>\n",
    "\n",
    "<!--comment -->"
   ]
  },
  {
   "cell_type": "markdown",
   "metadata": {},
   "source": [
    "<font color=\"#00586D\"> <i class=\"fa fa-pencil-square-o\" aria-hidden=\"true\" style=\"color:#00586D\"></i></font> Renombrar la columna `tag_name` de `df_book_tags` a `text_tags`. Rellenar los valores perdidos con un String vacío (\"\")."
   ]
  },
  {
   "cell_type": "code",
   "execution_count": 15,
   "metadata": {},
   "outputs": [
    {
     "data": {
      "text/html": [
       "<div>\n",
       "<style scoped>\n",
       "    .dataframe tbody tr th:only-of-type {\n",
       "        vertical-align: middle;\n",
       "    }\n",
       "\n",
       "    .dataframe tbody tr th {\n",
       "        vertical-align: top;\n",
       "    }\n",
       "\n",
       "    .dataframe thead th {\n",
       "        text-align: right;\n",
       "    }\n",
       "</style>\n",
       "<table border=\"1\" class=\"dataframe\">\n",
       "  <thead>\n",
       "    <tr style=\"text-align: right;\">\n",
       "      <th></th>\n",
       "      <th>gr_book_id</th>\n",
       "      <th>text_tags</th>\n",
       "    </tr>\n",
       "  </thead>\n",
       "  <tbody>\n",
       "    <tr>\n",
       "      <th>0</th>\n",
       "      <td>1</td>\n",
       "      <td>fantasy, young-adult, fiction, harry-potter, y...</td>\n",
       "    </tr>\n",
       "    <tr>\n",
       "      <th>1</th>\n",
       "      <td>2</td>\n",
       "      <td>fantasy, young-adult, fiction, harry-potter, y...</td>\n",
       "    </tr>\n",
       "    <tr>\n",
       "      <th>2</th>\n",
       "      <td>3</td>\n",
       "      <td>fantasy, young-adult, fiction, harry-potter, y...</td>\n",
       "    </tr>\n",
       "    <tr>\n",
       "      <th>3</th>\n",
       "      <td>5</td>\n",
       "      <td>fantasy, young-adult, fiction, harry-potter, y...</td>\n",
       "    </tr>\n",
       "    <tr>\n",
       "      <th>4</th>\n",
       "      <td>6</td>\n",
       "      <td>fantasy, young-adult, fiction, harry-potter, y...</td>\n",
       "    </tr>\n",
       "  </tbody>\n",
       "</table>\n",
       "</div>"
      ],
      "text/plain": [
       "   gr_book_id                                          text_tags\n",
       "0           1  fantasy, young-adult, fiction, harry-potter, y...\n",
       "1           2  fantasy, young-adult, fiction, harry-potter, y...\n",
       "2           3  fantasy, young-adult, fiction, harry-potter, y...\n",
       "3           5  fantasy, young-adult, fiction, harry-potter, y...\n",
       "4           6  fantasy, young-adult, fiction, harry-potter, y..."
      ]
     },
     "execution_count": 15,
     "metadata": {},
     "output_type": "execute_result"
    }
   ],
   "source": [
    "df_book_tag_text = df_book_tag_text.rename(columns={'tag_name': 'text_tags'})\n",
    "\n",
    "df_book_tag_text['text_tags'].fillna(\"\", inplace=True)\n",
    "\n",
    "df_book_tag_text.head()"
   ]
  },
  {
   "cell_type": "markdown",
   "metadata": {},
   "source": [
    "<div><font size=3 color=#00586D> <i class=\"fa fa-check-square-o\" aria-hidden=\"true\"></i></font></div>\n",
    "\n",
    "<!--comment -->"
   ]
  },
  {
   "cell_type": "markdown",
   "metadata": {},
   "source": [
    "<font color=\"#00586D\"> <i class=\"fa fa-pencil-square-o\" aria-hidden=\"true\" style=\"color:#00586D\"></i></font> Incorporar la información del texto de las etiquetas, es decir, la columna `text_tags`, al `DataFrame` principal `df_goodreads` (utilizar _merge_)."
   ]
  },
  {
   "cell_type": "code",
   "execution_count": 16,
   "metadata": {},
   "outputs": [
    {
     "data": {
      "text/html": [
       "<div>\n",
       "<style scoped>\n",
       "    .dataframe tbody tr th:only-of-type {\n",
       "        vertical-align: middle;\n",
       "    }\n",
       "\n",
       "    .dataframe tbody tr th {\n",
       "        vertical-align: top;\n",
       "    }\n",
       "\n",
       "    .dataframe thead th {\n",
       "        text-align: right;\n",
       "    }\n",
       "</style>\n",
       "<table border=\"1\" class=\"dataframe\">\n",
       "  <thead>\n",
       "    <tr style=\"text-align: right;\">\n",
       "      <th></th>\n",
       "      <th>gr_book_id</th>\n",
       "      <th>gr_best_book_id</th>\n",
       "      <th>work_id</th>\n",
       "      <th>books_count</th>\n",
       "      <th>isbn</th>\n",
       "      <th>isbn13</th>\n",
       "      <th>authors</th>\n",
       "      <th>original_publication_year</th>\n",
       "      <th>original_title</th>\n",
       "      <th>title</th>\n",
       "      <th>...</th>\n",
       "      <th>work_text_reviews_count</th>\n",
       "      <th>ratings_1</th>\n",
       "      <th>ratings_2</th>\n",
       "      <th>ratings_3</th>\n",
       "      <th>ratings_4</th>\n",
       "      <th>ratings_5</th>\n",
       "      <th>image_url</th>\n",
       "      <th>small_image_url</th>\n",
       "      <th>overview</th>\n",
       "      <th>text_tags</th>\n",
       "    </tr>\n",
       "  </thead>\n",
       "  <tbody>\n",
       "    <tr>\n",
       "      <th>0</th>\n",
       "      <td>2767052</td>\n",
       "      <td>2767052</td>\n",
       "      <td>2792775</td>\n",
       "      <td>272</td>\n",
       "      <td>439023483</td>\n",
       "      <td>9.780439e+12</td>\n",
       "      <td>Suzanne Collins</td>\n",
       "      <td>2008.0</td>\n",
       "      <td>The Hunger Games</td>\n",
       "      <td>The Hunger Games (The Hunger Games, #1)</td>\n",
       "      <td>...</td>\n",
       "      <td>155254</td>\n",
       "      <td>66715</td>\n",
       "      <td>127936</td>\n",
       "      <td>560092</td>\n",
       "      <td>1481305</td>\n",
       "      <td>2706317</td>\n",
       "      <td>https://images.gr-assets.com/books/1447303603m...</td>\n",
       "      <td>https://images.gr-assets.com/books/1447303603s...</td>\n",
       "      <td>Winning will make you famous. Losing means cer...</td>\n",
       "      <td>fantasy, young-adult, fiction, ya, series, adv...</td>\n",
       "    </tr>\n",
       "    <tr>\n",
       "      <th>1</th>\n",
       "      <td>3</td>\n",
       "      <td>3</td>\n",
       "      <td>4640799</td>\n",
       "      <td>491</td>\n",
       "      <td>439554934</td>\n",
       "      <td>9.780440e+12</td>\n",
       "      <td>J.K. Rowling, Mary GrandPré</td>\n",
       "      <td>1997.0</td>\n",
       "      <td>Harry Potter and the Philosopher's Stone</td>\n",
       "      <td>Harry Potter and the Sorcerer's Stone (Harry P...</td>\n",
       "      <td>...</td>\n",
       "      <td>75867</td>\n",
       "      <td>75504</td>\n",
       "      <td>101676</td>\n",
       "      <td>455024</td>\n",
       "      <td>1156318</td>\n",
       "      <td>3011543</td>\n",
       "      <td>https://images.gr-assets.com/books/1474154022m...</td>\n",
       "      <td>https://images.gr-assets.com/books/1474154022s...</td>\n",
       "      <td>Harry Potter's life is miserable. His parents ...</td>\n",
       "      <td>fantasy, young-adult, fiction, harry-potter, y...</td>\n",
       "    </tr>\n",
       "  </tbody>\n",
       "</table>\n",
       "<p>2 rows × 24 columns</p>\n",
       "</div>"
      ],
      "text/plain": [
       "   gr_book_id  gr_best_book_id  work_id  books_count       isbn        isbn13  \\\n",
       "0     2767052          2767052  2792775          272  439023483  9.780439e+12   \n",
       "1           3                3  4640799          491  439554934  9.780440e+12   \n",
       "\n",
       "                       authors  original_publication_year  \\\n",
       "0              Suzanne Collins                     2008.0   \n",
       "1  J.K. Rowling, Mary GrandPré                     1997.0   \n",
       "\n",
       "                             original_title  \\\n",
       "0                          The Hunger Games   \n",
       "1  Harry Potter and the Philosopher's Stone   \n",
       "\n",
       "                                               title  ...  \\\n",
       "0            The Hunger Games (The Hunger Games, #1)  ...   \n",
       "1  Harry Potter and the Sorcerer's Stone (Harry P...  ...   \n",
       "\n",
       "  work_text_reviews_count  ratings_1  ratings_2  ratings_3  ratings_4  \\\n",
       "0                  155254      66715     127936     560092    1481305   \n",
       "1                   75867      75504     101676     455024    1156318   \n",
       "\n",
       "   ratings_5                                          image_url  \\\n",
       "0    2706317  https://images.gr-assets.com/books/1447303603m...   \n",
       "1    3011543  https://images.gr-assets.com/books/1474154022m...   \n",
       "\n",
       "                                     small_image_url  \\\n",
       "0  https://images.gr-assets.com/books/1447303603s...   \n",
       "1  https://images.gr-assets.com/books/1474154022s...   \n",
       "\n",
       "                                            overview  \\\n",
       "0  Winning will make you famous. Losing means cer...   \n",
       "1  Harry Potter's life is miserable. His parents ...   \n",
       "\n",
       "                                           text_tags  \n",
       "0  fantasy, young-adult, fiction, ya, series, adv...  \n",
       "1  fantasy, young-adult, fiction, harry-potter, y...  \n",
       "\n",
       "[2 rows x 24 columns]"
      ]
     },
     "execution_count": 16,
     "metadata": {},
     "output_type": "execute_result"
    }
   ],
   "source": [
    "df_goodreads = df_goodreads.merge(df_book_tag_text[['gr_book_id', 'text_tags']], on='gr_book_id', how='left')\n",
    "\n",
    "df_goodreads.head(2)"
   ]
  },
  {
   "cell_type": "markdown",
   "metadata": {},
   "source": [
    "<div><font size=3 color=#00586D> <i class=\"fa fa-check-square-o\" aria-hidden=\"true\"></i></font></div>\n",
    "\n",
    "<!--comment -->"
   ]
  },
  {
   "cell_type": "markdown",
   "metadata": {},
   "source": [
    "<div style=\"text-align: right\">\n",
    "<a href=\"#indice\"><font size=5><i class=\"fa fa-arrow-circle-up\" aria-hidden=\"true\" style=\"color:#00586D\"></i></font></a>\n",
    "</div>\n",
    "\n",
    "---\n",
    "\n",
    "<a id=\"section2\"></a> \n",
    "## <font color=\"#00586D\"> 2. Limpieza y preparación del texto </font>\n",
    "<br>\n",
    "\n",
    "En este proyecto, el contenido (texto) asociado a cada libro se representa mediante un modelo de bolsa de palabras. Como se ha explicado a lo largo del módulo, cuando se trabaja con este tipo de representación es recomendable limpiar el texto y eliminar información irrelevante. Para ello se utilizará la librería `spacy`.  En primer lugar, se utilizará el modelo de lenguaje `en_core_web_sm`. Aunque no es el modelo con mejor rendimiento, es suficiente para este contexto, y es más eficiente que `en_core_web_trf`(basado en *transformers*, y que es el que mejor funciona)."
   ]
  },
  {
   "cell_type": "code",
   "execution_count": null,
   "metadata": {},
   "outputs": [],
   "source": [
    "#! python -m spacy download es_dep_news_trf\n",
    "#! python -m spacy download en_core_web_sm # Solo se utilizará este\n",
    "#! python -m spacy download en_core_web_trf "
   ]
  },
  {
   "cell_type": "code",
   "execution_count": 17,
   "metadata": {
    "scrolled": true,
    "tags": []
   },
   "outputs": [
    {
     "name": "stdout",
     "output_type": "stream",
     "text": [
      "Collecting en-core-web-sm==3.5.0\n",
      "  Downloading https://github.com/explosion/spacy-models/releases/download/en_core_web_sm-3.5.0/en_core_web_sm-3.5.0-py3-none-any.whl (12.8 MB)\n",
      "Requirement already satisfied: spacy<3.6.0,>=3.5.0 in c:\\users\\sergio\\anaconda3\\lib\\site-packages (from en-core-web-sm==3.5.0) (3.5.3)\n",
      "Requirement already satisfied: setuptools in c:\\users\\sergio\\anaconda3\\lib\\site-packages (from spacy<3.6.0,>=3.5.0->en-core-web-sm==3.5.0) (61.2.0)\n",
      "Requirement already satisfied: tqdm<5.0.0,>=4.38.0 in c:\\users\\sergio\\appdata\\roaming\\python\\python39\\site-packages (from spacy<3.6.0,>=3.5.0->en-core-web-sm==3.5.0) (4.61.0)\n",
      "Requirement already satisfied: pathy>=0.10.0 in c:\\users\\sergio\\anaconda3\\lib\\site-packages (from spacy<3.6.0,>=3.5.0->en-core-web-sm==3.5.0) (0.10.2)\n",
      "Requirement already satisfied: cymem<2.1.0,>=2.0.2 in c:\\users\\sergio\\anaconda3\\lib\\site-packages (from spacy<3.6.0,>=3.5.0->en-core-web-sm==3.5.0) (2.0.7)\n",
      "Requirement already satisfied: langcodes<4.0.0,>=3.2.0 in c:\\users\\sergio\\anaconda3\\lib\\site-packages (from spacy<3.6.0,>=3.5.0->en-core-web-sm==3.5.0) (3.3.0)\n",
      "Requirement already satisfied: spacy-legacy<3.1.0,>=3.0.11 in c:\\users\\sergio\\anaconda3\\lib\\site-packages (from spacy<3.6.0,>=3.5.0->en-core-web-sm==3.5.0) (3.0.12)\n",
      "Requirement already satisfied: packaging>=20.0 in c:\\users\\sergio\\anaconda3\\lib\\site-packages (from spacy<3.6.0,>=3.5.0->en-core-web-sm==3.5.0) (21.3)\n",
      "Requirement already satisfied: murmurhash<1.1.0,>=0.28.0 in c:\\users\\sergio\\anaconda3\\lib\\site-packages (from spacy<3.6.0,>=3.5.0->en-core-web-sm==3.5.0) (1.0.9)\n",
      "Requirement already satisfied: srsly<3.0.0,>=2.4.3 in c:\\users\\sergio\\anaconda3\\lib\\site-packages (from spacy<3.6.0,>=3.5.0->en-core-web-sm==3.5.0) (2.4.6)\n",
      "Requirement already satisfied: spacy-loggers<2.0.0,>=1.0.0 in c:\\users\\sergio\\anaconda3\\lib\\site-packages (from spacy<3.6.0,>=3.5.0->en-core-web-sm==3.5.0) (1.0.4)\n",
      "Requirement already satisfied: numpy>=1.15.0 in c:\\users\\sergio\\anaconda3\\lib\\site-packages (from spacy<3.6.0,>=3.5.0->en-core-web-sm==3.5.0) (1.21.5)\n",
      "Requirement already satisfied: thinc<8.2.0,>=8.1.8 in c:\\users\\sergio\\anaconda3\\lib\\site-packages (from spacy<3.6.0,>=3.5.0->en-core-web-sm==3.5.0) (8.1.10)\n",
      "Requirement already satisfied: smart-open<7.0.0,>=5.2.1 in c:\\users\\sergio\\anaconda3\\lib\\site-packages (from spacy<3.6.0,>=3.5.0->en-core-web-sm==3.5.0) (6.3.0)\n",
      "Requirement already satisfied: preshed<3.1.0,>=3.0.2 in c:\\users\\sergio\\anaconda3\\lib\\site-packages (from spacy<3.6.0,>=3.5.0->en-core-web-sm==3.5.0) (3.0.8)\n",
      "Requirement already satisfied: jinja2 in c:\\users\\sergio\\appdata\\roaming\\python\\python39\\site-packages (from spacy<3.6.0,>=3.5.0->en-core-web-sm==3.5.0) (3.1.2)\n",
      "Requirement already satisfied: typer<0.8.0,>=0.3.0 in c:\\users\\sergio\\anaconda3\\lib\\site-packages (from spacy<3.6.0,>=3.5.0->en-core-web-sm==3.5.0) (0.7.0)\n",
      "Requirement already satisfied: wasabi<1.2.0,>=0.9.1 in c:\\users\\sergio\\anaconda3\\lib\\site-packages (from spacy<3.6.0,>=3.5.0->en-core-web-sm==3.5.0) (1.1.2)\n",
      "Requirement already satisfied: catalogue<2.1.0,>=2.0.6 in c:\\users\\sergio\\anaconda3\\lib\\site-packages (from spacy<3.6.0,>=3.5.0->en-core-web-sm==3.5.0) (2.0.8)\n",
      "Requirement already satisfied: pydantic!=1.8,!=1.8.1,<1.11.0,>=1.7.4 in c:\\users\\sergio\\anaconda3\\lib\\site-packages (from spacy<3.6.0,>=3.5.0->en-core-web-sm==3.5.0) (1.10.9)\n",
      "Requirement already satisfied: requests<3.0.0,>=2.13.0 in c:\\users\\sergio\\anaconda3\\lib\\site-packages (from spacy<3.6.0,>=3.5.0->en-core-web-sm==3.5.0) (2.27.1)\n",
      "Requirement already satisfied: pyparsing!=3.0.5,>=2.0.2 in c:\\users\\sergio\\anaconda3\\lib\\site-packages (from packaging>=20.0->spacy<3.6.0,>=3.5.0->en-core-web-sm==3.5.0) (3.0.4)\n",
      "Requirement already satisfied: typing-extensions>=4.2.0 in c:\\users\\sergio\\appdata\\roaming\\python\\python39\\site-packages (from pydantic!=1.8,!=1.8.1,<1.11.0,>=1.7.4->spacy<3.6.0,>=3.5.0->en-core-web-sm==3.5.0) (4.5.0)\n",
      "Requirement already satisfied: charset-normalizer~=2.0.0 in c:\\users\\sergio\\anaconda3\\lib\\site-packages (from requests<3.0.0,>=2.13.0->spacy<3.6.0,>=3.5.0->en-core-web-sm==3.5.0) (2.0.4)\n",
      "Requirement already satisfied: urllib3<1.27,>=1.21.1 in c:\\users\\sergio\\anaconda3\\lib\\site-packages (from requests<3.0.0,>=2.13.0->spacy<3.6.0,>=3.5.0->en-core-web-sm==3.5.0) (1.26.9)\n",
      "Requirement already satisfied: idna<4,>=2.5 in c:\\users\\sergio\\anaconda3\\lib\\site-packages (from requests<3.0.0,>=2.13.0->spacy<3.6.0,>=3.5.0->en-core-web-sm==3.5.0) (3.3)\n",
      "Requirement already satisfied: certifi>=2017.4.17 in c:\\users\\sergio\\anaconda3\\lib\\site-packages (from requests<3.0.0,>=2.13.0->spacy<3.6.0,>=3.5.0->en-core-web-sm==3.5.0) (2021.10.8)\n",
      "Requirement already satisfied: blis<0.8.0,>=0.7.8 in c:\\users\\sergio\\anaconda3\\lib\\site-packages (from thinc<8.2.0,>=8.1.8->spacy<3.6.0,>=3.5.0->en-core-web-sm==3.5.0) (0.7.9)\n",
      "Requirement already satisfied: confection<1.0.0,>=0.0.1 in c:\\users\\sergio\\anaconda3\\lib\\site-packages (from thinc<8.2.0,>=8.1.8->spacy<3.6.0,>=3.5.0->en-core-web-sm==3.5.0) (0.0.4)\n",
      "Requirement already satisfied: click<9.0.0,>=7.1.1 in c:\\users\\sergio\\anaconda3\\lib\\site-packages (from typer<0.8.0,>=0.3.0->spacy<3.6.0,>=3.5.0->en-core-web-sm==3.5.0) (8.0.4)\n",
      "Requirement already satisfied: colorama in c:\\users\\sergio\\anaconda3\\lib\\site-packages (from click<9.0.0,>=7.1.1->typer<0.8.0,>=0.3.0->spacy<3.6.0,>=3.5.0->en-core-web-sm==3.5.0) (0.4.6)\n",
      "Requirement already satisfied: MarkupSafe>=2.0 in c:\\users\\sergio\\anaconda3\\lib\\site-packages (from jinja2->spacy<3.6.0,>=3.5.0->en-core-web-sm==3.5.0) (2.0.1)\n",
      "\u001b[38;5;2m[+] Download and installation successful\u001b[0m\n",
      "You can now load the package via spacy.load('en_core_web_sm')\n"
     ]
    }
   ],
   "source": [
    "! python -m spacy download en_core_web_sm"
   ]
  },
  {
   "cell_type": "code",
   "execution_count": 18,
   "metadata": {},
   "outputs": [
    {
     "data": {
      "text/plain": [
       "['tok2vec', 'tagger', 'parser', 'attribute_ruler', 'lemmatizer', 'ner']"
      ]
     },
     "execution_count": 18,
     "metadata": {},
     "output_type": "execute_result"
    }
   ],
   "source": [
    "import spacy \n",
    "\n",
    "# Crea un objeto con el pipeline\n",
    "nlp = spacy.load(\"en_core_web_sm\")\n",
    "nlp.pipe_names"
   ]
  },
  {
   "cell_type": "markdown",
   "metadata": {
    "tags": []
   },
   "source": [
    "<font color=\"#00586D\"> <i class=\"fa fa-pencil-square-o\" aria-hidden=\"true\" style=\"color:#00586D\"></i></font> Crear una función denominada `clean` que acepte un texto, lo convierta en un documento (`spacy`) y devuelva un *String* compuesto por los lemas correspondientes a cada token, en minúscula, y descartando los tokens que no sean alfanuméricos, o los que correspondan a *stopwords*."
   ]
  },
  {
   "cell_type": "code",
   "execution_count": 19,
   "metadata": {},
   "outputs": [
    {
     "data": {
      "text/plain": [
       "'win famous lose mean certain death nation panem form post apocalyptic north america country consist wealthy capitol region surround poor district early history rebellion lead district capitol result destruction creation annual televise event know hunger games punishment reminder power grace capitol district yield boy girl age lottery system participate game tribute choose annual reaping force fight death leave survivor claim victory year old katniss young sister prim select district female representative katniss volunteer place male counterpart peeta pit big strong representative train life see death sentence katniss close death survival second nature'"
      ]
     },
     "execution_count": 19,
     "metadata": {},
     "output_type": "execute_result"
    }
   ],
   "source": [
    "from spacy.lang.en.stop_words import STOP_WORDS\n",
    "\n",
    "def clean(overview):\n",
    "    \n",
    "    # Procesar el texto con spaCy\n",
    "    doc = nlp(overview)\n",
    "    \n",
    "    # Lista para almacenar los lemas limpios\n",
    "    clean_tokens = []\n",
    "    \n",
    "    # Recorrer cada token del documento\n",
    "    for token in doc:\n",
    "        # Verificar si el token es alfanumérico y no es una stop word\n",
    "        if token.is_alpha and not token.is_stop:\n",
    "            # Obtener el lema en minúscula y agregarlo a la lista\n",
    "            clean_tokens.append(token.lemma_.lower())\n",
    "    \n",
    "    # Unir los lemas en un solo String separados por espacios\n",
    "    clean_text = ' '.join(clean_tokens)\n",
    "    \n",
    "    return clean_text\n",
    "    \n",
    "overview = df_goodreads.iloc[0]['overview']\n",
    "clean(overview)"
   ]
  },
  {
   "cell_type": "markdown",
   "metadata": {},
   "source": [
    "<div><font size=3 color=#00586D> <i class=\"fa fa-check-square-o\" aria-hidden=\"true\"></i></font></div>\n",
    "\n",
    "<!--comment -->"
   ]
  },
  {
   "cell_type": "markdown",
   "metadata": {},
   "source": [
    "<font color=\"#00586D\"> <i class=\"fa fa-pencil-square-o\" aria-hidden=\"true\" style=\"color:#00586D\"></i></font>Aplicar la función `clean` sobre cada texto almacenado en la columna `df_goodreads['overview']`para preprocesarlo, almacenando el resultado en la propia columna."
   ]
  },
  {
   "cell_type": "markdown",
   "metadata": {},
   "source": [
    "\n",
    "<div class=\"alert alert-block alert-warning\">\n",
    "\n",
    "<i class=\"fa fa-exclamation-circle\" aria-hidden=\"true\"></i>\n",
    "Este ejercicio tarda unos cinco minutos en ejecutarse. Se ha planteado así (sin utilizar `nlp.pipe`) porque es más sencillo, y en este caso tarda prácticamente lo mismo.\n",
    "</div>"
   ]
  },
  {
   "cell_type": "code",
   "execution_count": 20,
   "metadata": {},
   "outputs": [],
   "source": [
    "#df_goodreads['overview'] = df_goodreads['overview'].map(clean).to_frame()\n",
    "df_goodreads['overview'] = df_goodreads['overview'].apply(lambda x: clean(x))"
   ]
  },
  {
   "cell_type": "markdown",
   "metadata": {},
   "source": [
    "<div><font size=3 color=#00586D> <i class=\"fa fa-check-square-o\" aria-hidden=\"true\"></i></font></div>\n",
    "\n",
    "<!--comment -->"
   ]
  },
  {
   "cell_type": "markdown",
   "metadata": {},
   "source": [
    "<div style=\"text-align: right\">\n",
    "<a href=\"#indice\"><font size=5><i class=\"fa fa-arrow-circle-up\" aria-hidden=\"true\" style=\"color:#004D7F\"></i></font></a>\n",
    "</div>\n",
    "\n",
    "---\n",
    "\n",
    "<a id=\"section13\"></a> \n",
    "###  <font color=\"#00586D\"> Preparación de datos </font>\n",
    "<br>\n",
    "\n",
    "Una vez incorporada la información relativa a resúmenes y etiquetas, y puesto que el texto se tratará simplemente como una bolsa de palabras, esta se fundirá, constituyendo el contenido de cada libro. \n",
    "\n",
    "\n",
    "<font color=\"#00586D\"> <i class=\"fa fa-pencil-square-o\" aria-hidden=\"true\" style=\"color:#113D68\"></i></font> \n",
    "Fundir las columnas `overview` y `text_tags` de `df_goodreads` en otra columna llamada`text`. Eliminar las columnas en las que `text` tenga longitud 0."
   ]
  },
  {
   "cell_type": "code",
   "execution_count": 22,
   "metadata": {},
   "outputs": [
    {
     "data": {
      "text/plain": [
       "(10000, 23)"
      ]
     },
     "execution_count": 22,
     "metadata": {},
     "output_type": "execute_result"
    }
   ],
   "source": [
    "df_goodreads['text'] = df_goodreads['overview'] + ' ' + df_goodreads['text_tags']\n",
    "\n",
    "df_goodreads = df_goodreads[df_goodreads['text'].str.len() > 0]\n",
    "\n",
    "df_goodreads = df_goodreads.drop(['overview', 'text_tags'], axis=1)\n",
    "\n",
    "df_goodreads.shape"
   ]
  },
  {
   "cell_type": "markdown",
   "metadata": {},
   "source": [
    "<div><font size=3 color=#00586D> <i class=\"fa fa-check-square-o\" aria-hidden=\"true\"></i></font></div>\n",
    "\n",
    "<!--comment -->"
   ]
  },
  {
   "cell_type": "code",
   "execution_count": 23,
   "metadata": {},
   "outputs": [],
   "source": [
    "data_books = df_goodreads['text']"
   ]
  },
  {
   "cell_type": "markdown",
   "metadata": {},
   "source": [
    "####  <font color=\"#00586D\"> Selección de cinco libros para pruebas </font>\n",
    "\n",
    "\n",
    "A continuación, se eligen cinco libros, que serán almacenados en el `DataFrame` `df_books_test`\n",
    "\n",
    "<div class=\"alert alert-block alert-warning\">\n",
    "\n",
    "<i class=\"fa fa-exclamation-circle\" aria-hidden=\"true\"></i>\n",
    "Como no vamos a hacer predicción, no pasa nada porque los libros estén en dos sitios. \n",
    "</div>"
   ]
  },
  {
   "cell_type": "code",
   "execution_count": 24,
   "metadata": {},
   "outputs": [
    {
     "data": {
      "text/html": [
       "<div>\n",
       "<style scoped>\n",
       "    .dataframe tbody tr th:only-of-type {\n",
       "        vertical-align: middle;\n",
       "    }\n",
       "\n",
       "    .dataframe tbody tr th {\n",
       "        vertical-align: top;\n",
       "    }\n",
       "\n",
       "    .dataframe thead th {\n",
       "        text-align: right;\n",
       "    }\n",
       "</style>\n",
       "<table border=\"1\" class=\"dataframe\">\n",
       "  <thead>\n",
       "    <tr style=\"text-align: right;\">\n",
       "      <th></th>\n",
       "      <th>gr_book_id</th>\n",
       "      <th>gr_best_book_id</th>\n",
       "      <th>work_id</th>\n",
       "      <th>books_count</th>\n",
       "      <th>isbn</th>\n",
       "      <th>isbn13</th>\n",
       "      <th>authors</th>\n",
       "      <th>original_publication_year</th>\n",
       "      <th>original_title</th>\n",
       "      <th>title</th>\n",
       "      <th>...</th>\n",
       "      <th>work_ratings_count</th>\n",
       "      <th>work_text_reviews_count</th>\n",
       "      <th>ratings_1</th>\n",
       "      <th>ratings_2</th>\n",
       "      <th>ratings_3</th>\n",
       "      <th>ratings_4</th>\n",
       "      <th>ratings_5</th>\n",
       "      <th>image_url</th>\n",
       "      <th>small_image_url</th>\n",
       "      <th>text</th>\n",
       "    </tr>\n",
       "  </thead>\n",
       "  <tbody>\n",
       "    <tr>\n",
       "      <th>2</th>\n",
       "      <td>41865</td>\n",
       "      <td>41865</td>\n",
       "      <td>3212258</td>\n",
       "      <td>226</td>\n",
       "      <td>316015849</td>\n",
       "      <td>9.780316e+12</td>\n",
       "      <td>Stephenie Meyer</td>\n",
       "      <td>2005.0</td>\n",
       "      <td>Twilight</td>\n",
       "      <td>Twilight (Twilight, #1)</td>\n",
       "      <td>...</td>\n",
       "      <td>3916824</td>\n",
       "      <td>95009</td>\n",
       "      <td>456191</td>\n",
       "      <td>436802</td>\n",
       "      <td>793319</td>\n",
       "      <td>875073</td>\n",
       "      <td>1355439</td>\n",
       "      <td>https://images.gr-assets.com/books/1361039443m...</td>\n",
       "      <td>https://images.gr-assets.com/books/1361039443s...</td>\n",
       "      <td>thing absolutely positive edward vampire secon...</td>\n",
       "    </tr>\n",
       "    <tr>\n",
       "      <th>4</th>\n",
       "      <td>4671</td>\n",
       "      <td>4671</td>\n",
       "      <td>245494</td>\n",
       "      <td>1356</td>\n",
       "      <td>743273567</td>\n",
       "      <td>9.780743e+12</td>\n",
       "      <td>F. Scott Fitzgerald</td>\n",
       "      <td>1925.0</td>\n",
       "      <td>The Great Gatsby</td>\n",
       "      <td>The Great Gatsby</td>\n",
       "      <td>...</td>\n",
       "      <td>2773745</td>\n",
       "      <td>51992</td>\n",
       "      <td>86236</td>\n",
       "      <td>197621</td>\n",
       "      <td>606158</td>\n",
       "      <td>936012</td>\n",
       "      <td>947718</td>\n",
       "      <td>https://images.gr-assets.com/books/1490528560m...</td>\n",
       "      <td>https://images.gr-assets.com/books/1490528560s...</td>\n",
       "      <td>publication great gatsby largely dismiss light...</td>\n",
       "    </tr>\n",
       "    <tr>\n",
       "      <th>7</th>\n",
       "      <td>5107</td>\n",
       "      <td>5107</td>\n",
       "      <td>3036731</td>\n",
       "      <td>360</td>\n",
       "      <td>316769177</td>\n",
       "      <td>9.780317e+12</td>\n",
       "      <td>J.D. Salinger</td>\n",
       "      <td>1951.0</td>\n",
       "      <td>The Catcher in the Rye</td>\n",
       "      <td>The Catcher in the Rye</td>\n",
       "      <td>...</td>\n",
       "      <td>2120637</td>\n",
       "      <td>44920</td>\n",
       "      <td>109383</td>\n",
       "      <td>185520</td>\n",
       "      <td>455042</td>\n",
       "      <td>661516</td>\n",
       "      <td>709176</td>\n",
       "      <td>https://images.gr-assets.com/books/1398034300m...</td>\n",
       "      <td>https://images.gr-assets.com/books/1398034300s...</td>\n",
       "      <td>hero narrator catcher rye ancient child sixtee...</td>\n",
       "    </tr>\n",
       "    <tr>\n",
       "      <th>9</th>\n",
       "      <td>1885</td>\n",
       "      <td>1885</td>\n",
       "      <td>3060926</td>\n",
       "      <td>3455</td>\n",
       "      <td>679783261</td>\n",
       "      <td>9.780680e+12</td>\n",
       "      <td>Jane Austen</td>\n",
       "      <td>1813.0</td>\n",
       "      <td>Pride and Prejudice</td>\n",
       "      <td>Pride and Prejudice</td>\n",
       "      <td>...</td>\n",
       "      <td>2191465</td>\n",
       "      <td>49152</td>\n",
       "      <td>54700</td>\n",
       "      <td>86485</td>\n",
       "      <td>284852</td>\n",
       "      <td>609755</td>\n",
       "      <td>1155673</td>\n",
       "      <td>https://images.gr-assets.com/books/1320399351m...</td>\n",
       "      <td>https://images.gr-assets.com/books/1320399351s...</td>\n",
       "      <td>truth universally acknowledge single man posse...</td>\n",
       "    </tr>\n",
       "    <tr>\n",
       "      <th>12</th>\n",
       "      <td>5470</td>\n",
       "      <td>5470</td>\n",
       "      <td>153313</td>\n",
       "      <td>995</td>\n",
       "      <td>451524934</td>\n",
       "      <td>9.780452e+12</td>\n",
       "      <td>George Orwell, Erich Fromm, Celâl Üster</td>\n",
       "      <td>1949.0</td>\n",
       "      <td>Nineteen Eighty-Four</td>\n",
       "      <td>1984</td>\n",
       "      <td>...</td>\n",
       "      <td>2053394</td>\n",
       "      <td>45518</td>\n",
       "      <td>41845</td>\n",
       "      <td>86425</td>\n",
       "      <td>324874</td>\n",
       "      <td>692021</td>\n",
       "      <td>908229</td>\n",
       "      <td>https://images.gr-assets.com/books/1348990566m...</td>\n",
       "      <td>https://images.gr-assets.com/books/1348990566s...</td>\n",
       "      <td>seminal text century nineteen eighty rare work...</td>\n",
       "    </tr>\n",
       "  </tbody>\n",
       "</table>\n",
       "<p>5 rows × 23 columns</p>\n",
       "</div>"
      ],
      "text/plain": [
       "    gr_book_id  gr_best_book_id  work_id  books_count       isbn  \\\n",
       "2        41865            41865  3212258          226  316015849   \n",
       "4         4671             4671   245494         1356  743273567   \n",
       "7         5107             5107  3036731          360  316769177   \n",
       "9         1885             1885  3060926         3455  679783261   \n",
       "12        5470             5470   153313          995  451524934   \n",
       "\n",
       "          isbn13                                  authors  \\\n",
       "2   9.780316e+12                          Stephenie Meyer   \n",
       "4   9.780743e+12                      F. Scott Fitzgerald   \n",
       "7   9.780317e+12                            J.D. Salinger   \n",
       "9   9.780680e+12                              Jane Austen   \n",
       "12  9.780452e+12  George Orwell, Erich Fromm, Celâl Üster   \n",
       "\n",
       "    original_publication_year          original_title  \\\n",
       "2                      2005.0                Twilight   \n",
       "4                      1925.0        The Great Gatsby   \n",
       "7                      1951.0  The Catcher in the Rye   \n",
       "9                      1813.0     Pride and Prejudice   \n",
       "12                     1949.0    Nineteen Eighty-Four   \n",
       "\n",
       "                      title  ... work_ratings_count  work_text_reviews_count  \\\n",
       "2   Twilight (Twilight, #1)  ...            3916824                    95009   \n",
       "4          The Great Gatsby  ...            2773745                    51992   \n",
       "7    The Catcher in the Rye  ...            2120637                    44920   \n",
       "9       Pride and Prejudice  ...            2191465                    49152   \n",
       "12                     1984  ...            2053394                    45518   \n",
       "\n",
       "    ratings_1  ratings_2  ratings_3  ratings_4  ratings_5  \\\n",
       "2      456191     436802     793319     875073    1355439   \n",
       "4       86236     197621     606158     936012     947718   \n",
       "7      109383     185520     455042     661516     709176   \n",
       "9       54700      86485     284852     609755    1155673   \n",
       "12      41845      86425     324874     692021     908229   \n",
       "\n",
       "                                            image_url  \\\n",
       "2   https://images.gr-assets.com/books/1361039443m...   \n",
       "4   https://images.gr-assets.com/books/1490528560m...   \n",
       "7   https://images.gr-assets.com/books/1398034300m...   \n",
       "9   https://images.gr-assets.com/books/1320399351m...   \n",
       "12  https://images.gr-assets.com/books/1348990566m...   \n",
       "\n",
       "                                      small_image_url  \\\n",
       "2   https://images.gr-assets.com/books/1361039443s...   \n",
       "4   https://images.gr-assets.com/books/1490528560s...   \n",
       "7   https://images.gr-assets.com/books/1398034300s...   \n",
       "9   https://images.gr-assets.com/books/1320399351s...   \n",
       "12  https://images.gr-assets.com/books/1348990566s...   \n",
       "\n",
       "                                                 text  \n",
       "2   thing absolutely positive edward vampire secon...  \n",
       "4   publication great gatsby largely dismiss light...  \n",
       "7   hero narrator catcher rye ancient child sixtee...  \n",
       "9   truth universally acknowledge single man posse...  \n",
       "12  seminal text century nineteen eighty rare work...  \n",
       "\n",
       "[5 rows x 23 columns]"
      ]
     },
     "execution_count": 24,
     "metadata": {},
     "output_type": "execute_result"
    }
   ],
   "source": [
    "test_pos = np.array([2,4,7,9,12]) # Sugerencia. Podéis cambiarlos. \n",
    "\n",
    "df_books_test = df_goodreads.iloc[test_pos].copy()\n",
    "df_books_test"
   ]
  },
  {
   "cell_type": "markdown",
   "metadata": {},
   "source": [
    "<div style=\"text-align: right\">\n",
    "<a href=\"#indice\"><font size=5><i class=\"fa fa-arrow-circle-up\" aria-hidden=\"true\" style=\"color:#00586D\"></i></font></a>\n",
    "</div>\n",
    "\n",
    "\n",
    "---\n",
    "\n",
    "<a id=\"section3\"></a> \n",
    "## <font color=\"#00586D\"> 3. Búsqueda por similaridad de la representación tf-idf </font>\n",
    "<br>\n",
    "\n",
    "La información _tf-idf_ es muy útil de cara a clasificar y comparar documentos. Cada texto se representa  mediante un vector de valores _tf-idf_, y la búsqueda de documentos se apoya en una medida de similaridad, la _similaridad coseno_, para esta representación.\n",
    "\n",
    "<font color=\"#00586D\"> <i class=\"fa fa-pencil-square-o\" aria-hidden=\"true\" style=\"color:#113D68\"></i></font> Crear un objeto `TfidfVectorizer` de `sklearn`, denominado `tfidf_vect`, que represente un máximo de 20000 términos. Obtener la matriz _tf-idf_ de los datos almacenados en `data_books` y almacenarla en una variable denominada `data_books_tfidf`. Extraer los términos considerados en `tfidf_vect`, y almacenarlos en la variable `terms`."
   ]
  },
  {
   "cell_type": "code",
   "execution_count": 25,
   "metadata": {},
   "outputs": [],
   "source": [
    "from sklearn.feature_extraction.text import TfidfVectorizer\n",
    "\n",
    "tfidf_vect = TfidfVectorizer(max_features=20000)\n",
    "data_books_tfidf = tfidf_vect.fit_transform(data_books)\n",
    "terms = tfidf_vect.get_feature_names()"
   ]
  },
  {
   "cell_type": "markdown",
   "metadata": {},
   "source": [
    "<div><font size=3 color=#00586D> <i class=\"fa fa-check-square-o\" aria-hidden=\"true\"></i></font></div>\n",
    "\n",
    "<!--comment -->"
   ]
  },
  {
   "cell_type": "markdown",
   "metadata": {},
   "source": [
    "#### <font color=\"#00586D\"> Búsqueda del libro más similar </font>\n",
    "\n",
    "Se tomará un libro incluído en el conjunto de datos `df_books_test`. Por ejemplo, el primero."
   ]
  },
  {
   "cell_type": "code",
   "execution_count": 26,
   "metadata": {},
   "outputs": [
    {
     "name": "stdout",
     "output_type": "stream",
     "text": [
      "gr_book_id                                                               41865\n",
      "gr_best_book_id                                                          41865\n",
      "work_id                                                                3212258\n",
      "books_count                                                                226\n",
      "isbn                                                                 316015849\n",
      "isbn13                                                         9780316015840.0\n",
      "authors                                                        Stephenie Meyer\n",
      "original_publication_year                                               2005.0\n",
      "original_title                                                        Twilight\n",
      "title                                                  Twilight (Twilight, #1)\n",
      "language_code                                                            en-US\n",
      "average_rating                                                            3.57\n",
      "ratings_count                                                          3866839\n",
      "work_ratings_count                                                     3916824\n",
      "work_text_reviews_count                                                  95009\n",
      "ratings_1                                                               456191\n",
      "ratings_2                                                               436802\n",
      "ratings_3                                                               793319\n",
      "ratings_4                                                               875073\n",
      "ratings_5                                                              1355439\n",
      "image_url                    https://images.gr-assets.com/books/1361039443m...\n",
      "small_image_url              https://images.gr-assets.com/books/1361039443s...\n",
      "text                         thing absolutely positive edward vampire secon...\n",
      "Name: 2, dtype: object\n"
     ]
    },
    {
     "data": {
      "text/plain": [
       "'thing absolutely positive edward vampire second know dominant thirst blood unconditionally irrevocably love book twilight saga internationally bestselle author stephenie meyer introduce bella swan edward cullen pair star cross lover forbidden relationship ripen backdrop small town suspicion mysterious coven vampire love story bite fantasy, young-adult, fiction, ya, sci-fi-fantasy, default, 5-stars, novels, fantasy-sci-fi, paranormal, ya-fantasy, teen, english, urban-fantasy, supernatural, ya-fiction, young-adult-fiction, scifi-fantasy, faves, contemporary, on-my-shelf, have, movie, finished, sci-fi, ya-lit, werewolves, séries, love, science-fiction, finished-series, youngadult, abandoned, did-not-finish, dnf, american, movies, drama, high-school, romantic, horror, chick-lit, first-in-series, teen-fiction, meh, young-adults, guilty-pleasures, guilty-pleasure, paranormal-romance, ya-paranormal, ya-romance, vampires, vampire, completed-series, never-again, vamps, paranormal-fantasy, fantasy-paranormal, pnr, love-triangle'"
      ]
     },
     "execution_count": 26,
     "metadata": {},
     "output_type": "execute_result"
    }
   ],
   "source": [
    "print(df_books_test.iloc[0])\n",
    "text_query = df_books_test.iloc[0].text\n",
    "text_query"
   ]
  },
  {
   "cell_type": "markdown",
   "metadata": {},
   "source": [
    "Para poder buscar otro libro por similaridad, es necesario transformar el texto de consulta a la representación _tf-idf_. Previamente, ha de ser preprocesado (limpiado con la función `clean`).\n",
    "\n",
    "<font color=\"#00586D\"> <i class=\"fa fa-pencil-square-o\" aria-hidden=\"true\" style=\"color:#00586D\"></i></font> Transformar el documento `text_query` a formato _tf-idf_ y almacenar el resultado en `text_query_tfidf`.\n",
    "\n",
    "<div class=\"alert alert-block alert-warning\">\n",
    "    \n",
    "<i class=\"fa fa-exclamation-circle\" aria-hidden=\"true\"></i>\n",
    "Esta sería la manera de proceder con libros nuevos. No obstante, en este caso concreto, ___como el libro ya estaba en el corpus y se ha obtenido su representación___, se podría obtener el vector directamente desde `data_books_tfidf`.\n",
    "\n",
    "</div>"
   ]
  },
  {
   "cell_type": "code",
   "execution_count": 27,
   "metadata": {},
   "outputs": [],
   "source": [
    "text_query_tfidf = tfidf_vect.transform([text_query])"
   ]
  },
  {
   "cell_type": "markdown",
   "metadata": {},
   "source": [
    "<div><font size=3 color=#00586D> <i class=\"fa fa-check-square-o\" aria-hidden=\"true\"></i></font></div>\n",
    "\n",
    "<!--comment -->"
   ]
  },
  {
   "cell_type": "markdown",
   "metadata": {},
   "source": [
    "<font color=\"#00586D\"> <i class=\"fa fa-pencil-square-o\" aria-hidden=\"true\" style=\"color:#00586D\"></i></font> Mostrar los 10 términos más relevantes (con mayor valor _tf-idf_) para el documento `text_query`."
   ]
  },
  {
   "cell_type": "code",
   "execution_count": 28,
   "metadata": {},
   "outputs": [
    {
     "name": "stdout",
     "output_type": "stream",
     "text": [
      "[('fantasy', 0.2749114583763695), ('ya', 0.24929228052190971), ('paranormal', 0.24642903905803745), ('edward', 0.2224611745881107), ('vampire', 0.21616951393387168), ('unconditionally', 0.16122867408803035), ('ripen', 0.16122867408803035), ('love', 0.15426499249841885), ('stephenie', 0.1464487765751139), ('coven', 0.14192811298195399)]\n"
     ]
    }
   ],
   "source": [
    "# Obtenemos los índices de los términos en el vector tf-idf\n",
    "indices = text_query_tfidf.indices\n",
    "# Obtenemos los valores tf-idf correspondientes a cada término\n",
    "tfidf_values = text_query_tfidf.data\n",
    "# Creamos una lista de tuplas combinando los índices y los valores tf-idf\n",
    "tfidf_tuples = list(zip(indices, tfidf_values))\n",
    "# Ordenamos la lista de tuplas en orden descendente según los valores tf-idf\n",
    "tfidf_tuples.sort(key=lambda x: x[1], reverse=True)\n",
    "# Creamos una lista de las 10 mejores tuplas que contienen los términos más relevantes junto con sus valores tf-idf\n",
    "top_terms = [(tfidf_vect.get_feature_names()[index], value) for index, value in tfidf_tuples[:10]]\n",
    "print(top_terms)"
   ]
  },
  {
   "cell_type": "markdown",
   "metadata": {},
   "source": [
    "<div><font size=3 color=#00586D> <i class=\"fa fa-check-square-o\" aria-hidden=\"true\"></i></font></div>\n",
    "\n",
    "<!--comment -->"
   ]
  },
  {
   "cell_type": "markdown",
   "metadata": {},
   "source": [
    "<font color=\"#00586D\"> <i class=\"fa fa-pencil-square-o\" aria-hidden=\"true\" style=\"color:#00586D\"></i></font> Calcular las similaridades (similaridad coseno) del documento `text_query_tfidf` con el resto de documentos en la matriz `data_books_tfidf`, y almacenarlas en un vector denominado `similarities_tfidf`.\n",
    "\n",
    "<div class=\"alert alert-block alert-warning\">\n",
    "    \n",
    "<i class=\"fa fa-exclamation-circle\" aria-hidden=\"true\"></i>\n",
    "La función `cosine_similarity` toma como argumentos dos matrices y devuelve una matriz (aunque sea unidimensional). Para obtener un vector unidemensional, y operar posteriormente con más agilidad, `similarities_tfidf` ha de almacenar el elemento cero de la matriz devuelta por la función, o transformar esta matriz en un vector. \n",
    "</div>"
   ]
  },
  {
   "cell_type": "code",
   "execution_count": 29,
   "metadata": {},
   "outputs": [],
   "source": [
    "from sklearn.metrics.pairwise import  cosine_similarity\n",
    "\n",
    "similarities_tfidf = cosine_similarity(text_query_tfidf, data_books_tfidf).flatten()"
   ]
  },
  {
   "cell_type": "markdown",
   "metadata": {},
   "source": [
    "<font color=\"#00586D\"> <i class=\"fa fa-pencil-square-o\" aria-hidden=\"true\" style=\"color:#00586D\"></i></font> Obtener los índices de los 6 libros más similares a `text_query` (obviamente, el más similar será el propio libro).\n",
    "\n"
   ]
  },
  {
   "cell_type": "code",
   "execution_count": 30,
   "metadata": {},
   "outputs": [
    {
     "data": {
      "text/plain": [
       "2                  Twilight (Twilight, #1)\n",
       "48                 New Moon (Twilight, #2)\n",
       "51                  Eclipse (Twilight, #3)\n",
       "991     The Twilight Saga (Twilight, #1-4)\n",
       "1559                 Switched (Trylle, #1)\n",
       "8807        Wisdom (My Blood Approves, #4)\n",
       "Name: title, dtype: object"
      ]
     },
     "execution_count": 30,
     "metadata": {},
     "output_type": "execute_result"
    }
   ],
   "source": [
    "top_similarities = similarities_tfidf.argsort()[::-1][:6]\n",
    "\n",
    "df_goodreads.iloc[top_similarities]['title']"
   ]
  },
  {
   "cell_type": "markdown",
   "metadata": {},
   "source": [
    "<div><font size=3 color=#00586D> <i class=\"fa fa-check-square-o\" aria-hidden=\"true\"></i></font></div>\n",
    "\n",
    "<!--comment -->"
   ]
  },
  {
   "cell_type": "markdown",
   "metadata": {},
   "source": [
    "Se aprecia que, efectivamente, los libros son muy similares. De hecho, todos corresponden a la saga. Esto puede deverse al uso de palabras clave muy concretas como _\"Twilight\"_."
   ]
  },
  {
   "cell_type": "markdown",
   "metadata": {},
   "source": [
    "<div style=\"text-align: right\">\n",
    "<a href=\"#indice\"><font size=5><i class=\"fa fa-arrow-circle-up\" aria-hidden=\"true\" style=\"color:#00586D\"></i></font></a>\n",
    "</div>\n",
    "\n",
    "\n",
    "---\n",
    "\n",
    "<a id=\"section4\"></a> \n",
    "## <font color=\"#00586D\"> 4. Recomendación basada en contenido </font>\n",
    "<br>\n",
    "\n",
    "Existen muchas posibilidades en la implementación de sistemas de recomendación basados en contenido. En general, todas requieren:\n",
    "\n",
    "* Determinar qué ítems prefiere el usuario\n",
    "* Encontrar ítems similares\n",
    "* Priorizar esos ítems\n",
    "\n",
    "\n",
    "Para ilustrar el funcionamiento de este tipo de sistemas, se tomarán los datos relativos a la actividad de un usuario escogido al azar, y se devolverá un conjunto de libros recomendados. \n",
    "\n",
    "\n",
    "El archivo `'./data/ratings.csv` contiene las valoraciones hechas por más de 53000 usuarios a los 10000 libros. En total, contiene cerca de un millón de entradas en formato (`user_id`, `book_id`, `rating`). El tamaño de la base de datos dificulta el trabajo con una matriz, aunque sea dispersa, ya que el proceso de elaboración (mediante `pivot` es muy lento). "
   ]
  },
  {
   "cell_type": "code",
   "execution_count": 31,
   "metadata": {},
   "outputs": [
    {
     "data": {
      "text/html": [
       "<div>\n",
       "<style scoped>\n",
       "    .dataframe tbody tr th:only-of-type {\n",
       "        vertical-align: middle;\n",
       "    }\n",
       "\n",
       "    .dataframe tbody tr th {\n",
       "        vertical-align: top;\n",
       "    }\n",
       "\n",
       "    .dataframe thead th {\n",
       "        text-align: right;\n",
       "    }\n",
       "</style>\n",
       "<table border=\"1\" class=\"dataframe\">\n",
       "  <thead>\n",
       "    <tr style=\"text-align: right;\">\n",
       "      <th></th>\n",
       "      <th>user_id</th>\n",
       "      <th>book_id</th>\n",
       "      <th>rating</th>\n",
       "    </tr>\n",
       "  </thead>\n",
       "  <tbody>\n",
       "    <tr>\n",
       "      <th>0</th>\n",
       "      <td>313</td>\n",
       "      <td>0</td>\n",
       "      <td>5</td>\n",
       "    </tr>\n",
       "    <tr>\n",
       "      <th>1</th>\n",
       "      <td>438</td>\n",
       "      <td>0</td>\n",
       "      <td>3</td>\n",
       "    </tr>\n",
       "    <tr>\n",
       "      <th>2</th>\n",
       "      <td>587</td>\n",
       "      <td>0</td>\n",
       "      <td>5</td>\n",
       "    </tr>\n",
       "    <tr>\n",
       "      <th>3</th>\n",
       "      <td>1168</td>\n",
       "      <td>0</td>\n",
       "      <td>4</td>\n",
       "    </tr>\n",
       "    <tr>\n",
       "      <th>4</th>\n",
       "      <td>1184</td>\n",
       "      <td>0</td>\n",
       "      <td>4</td>\n",
       "    </tr>\n",
       "  </tbody>\n",
       "</table>\n",
       "</div>"
      ],
      "text/plain": [
       "   user_id  book_id  rating\n",
       "0      313        0       5\n",
       "1      438        0       3\n",
       "2      587        0       5\n",
       "3     1168        0       4\n",
       "4     1184        0       4"
      ]
     },
     "metadata": {},
     "output_type": "display_data"
    },
    {
     "data": {
      "text/plain": [
       "(981756, 3)"
      ]
     },
     "execution_count": 31,
     "metadata": {},
     "output_type": "execute_result"
    }
   ],
   "source": [
    "df_ratings = pd.read_csv('./data/ratings.csv', sep=',')\n",
    "\n",
    "display(df_ratings.head())\n",
    "df_ratings.shape"
   ]
  },
  {
   "cell_type": "markdown",
   "metadata": {},
   "source": [
    "<div style=\"text-align: right\">\n",
    "<a href=\"#indice\"><font size=5><i class=\"fa fa-arrow-circle-up\" aria-hidden=\"true\" style=\"color:#004D7F\"></i></font></a>\n",
    "</div>\n",
    "\n",
    "\n",
    "---\n",
    "\n",
    "<a id=\"section41\"></a> \n",
    "### <font color=\"#00586D\"> Selección de libros preferidos por el usuario </font>\n",
    "<br>\n",
    "\n",
    "El primer paso de la recomendación consiste en determinar qué libros prefiere el usuario.  Una posibilidad consiste en seleccionar aquellos para los que éste ha otorgado una puntuación mayor que tres. \n",
    "\n",
    "<font color=\"#00586D\"> <i class=\"fa fa-pencil-square-o\" aria-hidden=\"true\" style=\"color:#00586D\"></i></font> Tomar un usuario al azar y devolver las entradas correspondientes a los libros que ha votado. Almacenarlas en el `DataFrame` `ratings_user`. Descartar de `ratings_user` todos los libros con puntuación menor que cuatro. "
   ]
  },
  {
   "cell_type": "code",
   "execution_count": 32,
   "metadata": {},
   "outputs": [
    {
     "data": {
      "text/html": [
       "<div>\n",
       "<style scoped>\n",
       "    .dataframe tbody tr th:only-of-type {\n",
       "        vertical-align: middle;\n",
       "    }\n",
       "\n",
       "    .dataframe tbody tr th {\n",
       "        vertical-align: top;\n",
       "    }\n",
       "\n",
       "    .dataframe thead th {\n",
       "        text-align: right;\n",
       "    }\n",
       "</style>\n",
       "<table border=\"1\" class=\"dataframe\">\n",
       "  <thead>\n",
       "    <tr style=\"text-align: right;\">\n",
       "      <th></th>\n",
       "      <th>user_id</th>\n",
       "      <th>book_id</th>\n",
       "      <th>rating</th>\n",
       "    </tr>\n",
       "  </thead>\n",
       "  <tbody>\n",
       "    <tr>\n",
       "      <th>53101</th>\n",
       "      <td>2732</td>\n",
       "      <td>531</td>\n",
       "      <td>5</td>\n",
       "    </tr>\n",
       "    <tr>\n",
       "      <th>209776</th>\n",
       "      <td>2732</td>\n",
       "      <td>2099</td>\n",
       "      <td>5</td>\n",
       "    </tr>\n",
       "    <tr>\n",
       "      <th>214080</th>\n",
       "      <td>2732</td>\n",
       "      <td>2142</td>\n",
       "      <td>5</td>\n",
       "    </tr>\n",
       "    <tr>\n",
       "      <th>242344</th>\n",
       "      <td>2732</td>\n",
       "      <td>2425</td>\n",
       "      <td>4</td>\n",
       "    </tr>\n",
       "    <tr>\n",
       "      <th>369792</th>\n",
       "      <td>2732</td>\n",
       "      <td>3702</td>\n",
       "      <td>4</td>\n",
       "    </tr>\n",
       "    <tr>\n",
       "      <th>401262</th>\n",
       "      <td>2732</td>\n",
       "      <td>4018</td>\n",
       "      <td>4</td>\n",
       "    </tr>\n",
       "    <tr>\n",
       "      <th>425738</th>\n",
       "      <td>2732</td>\n",
       "      <td>4264</td>\n",
       "      <td>5</td>\n",
       "    </tr>\n",
       "    <tr>\n",
       "      <th>476351</th>\n",
       "      <td>2732</td>\n",
       "      <td>4773</td>\n",
       "      <td>4</td>\n",
       "    </tr>\n",
       "    <tr>\n",
       "      <th>524632</th>\n",
       "      <td>2732</td>\n",
       "      <td>5262</td>\n",
       "      <td>5</td>\n",
       "    </tr>\n",
       "    <tr>\n",
       "      <th>543609</th>\n",
       "      <td>2732</td>\n",
       "      <td>5454</td>\n",
       "      <td>4</td>\n",
       "    </tr>\n",
       "    <tr>\n",
       "      <th>602404</th>\n",
       "      <td>2732</td>\n",
       "      <td>6048</td>\n",
       "      <td>5</td>\n",
       "    </tr>\n",
       "    <tr>\n",
       "      <th>627124</th>\n",
       "      <td>2732</td>\n",
       "      <td>6298</td>\n",
       "      <td>4</td>\n",
       "    </tr>\n",
       "    <tr>\n",
       "      <th>629500</th>\n",
       "      <td>2732</td>\n",
       "      <td>6322</td>\n",
       "      <td>5</td>\n",
       "    </tr>\n",
       "    <tr>\n",
       "      <th>755541</th>\n",
       "      <td>2732</td>\n",
       "      <td>7610</td>\n",
       "      <td>5</td>\n",
       "    </tr>\n",
       "  </tbody>\n",
       "</table>\n",
       "</div>"
      ],
      "text/plain": [
       "        user_id  book_id  rating\n",
       "53101      2732      531       5\n",
       "209776     2732     2099       5\n",
       "214080     2732     2142       5\n",
       "242344     2732     2425       4\n",
       "369792     2732     3702       4\n",
       "401262     2732     4018       4\n",
       "425738     2732     4264       5\n",
       "476351     2732     4773       4\n",
       "524632     2732     5262       5\n",
       "543609     2732     5454       4\n",
       "602404     2732     6048       5\n",
       "627124     2732     6298       4\n",
       "629500     2732     6322       5\n",
       "755541     2732     7610       5"
      ]
     },
     "execution_count": 32,
     "metadata": {},
     "output_type": "execute_result"
    }
   ],
   "source": [
    "np.random.seed(0)\n",
    "test_user = np.random.randint(max(df_ratings['user_id']))\n",
    "\n",
    "ratings_user = df_ratings[(df_ratings['user_id'] == test_user) & (df_ratings['rating'] >= 4)]\n",
    "ratings_user"
   ]
  },
  {
   "cell_type": "markdown",
   "metadata": {},
   "source": [
    "<div><font size=3 color=#00586D> <i class=\"fa fa-check-square-o\" aria-hidden=\"true\"></i></font></div>\n",
    "\n",
    "<!--comment -->"
   ]
  },
  {
   "cell_type": "markdown",
   "metadata": {},
   "source": [
    "<div style=\"text-align: right\">\n",
    "<a href=\"#indice\"><font size=5><i class=\"fa fa-arrow-circle-up\" aria-hidden=\"true\" style=\"color:#00586D\"></i></font></a>\n",
    "</div>\n",
    "\n",
    "\n",
    "---\n",
    "\n",
    "<a id=\"section42\"></a> \n",
    "### <font color=\"#00586D\"> Búsqueda de libros similares </font>\n",
    "<br>\n",
    "\n",
    "Una vez se dispone de la lista de libros, es necesario encontrar libros similares. \n",
    "\n",
    "<font color=\"#00586D\"> <i class=\"fa fa-pencil-square-o\" aria-hidden=\"true\" style=\"color:#00586D\"></i> </font>Extraer la representación de los libros relativos al usuario y copiarla en una matriz denominada `user_books_tfidf`. "
   ]
  },
  {
   "cell_type": "code",
   "execution_count": 33,
   "metadata": {},
   "outputs": [
    {
     "data": {
      "text/plain": [
       "(14, 20000)"
      ]
     },
     "execution_count": 33,
     "metadata": {},
     "output_type": "execute_result"
    }
   ],
   "source": [
    "user_books_tfidf = data_books_tfidf[ratings_user['book_id']]\n",
    "\n",
    "user_books_tfidf.shape"
   ]
  },
  {
   "cell_type": "markdown",
   "metadata": {},
   "source": [
    "<div><font size=3 color=#00586D> <i class=\"fa fa-check-square-o\" aria-hidden=\"true\"></i></font></div>\n",
    "\n",
    "<!--comment -->"
   ]
  },
  {
   "cell_type": "markdown",
   "metadata": {},
   "source": [
    "<font color=\"#00586D\"> <i class=\"fa fa-pencil-square-o\" aria-hidden=\"true\" style=\"color:#00586D\"></i> </font> Calcular la matriz de similaridades coseno entre `user_books_tfidf`, `data_books_tfidf`. Fijar las similaridades de los libros leídos con el usuario  (`books_user_id `) consigo mismos a -1 con el fin de descartarlos. "
   ]
  },
  {
   "cell_type": "code",
   "execution_count": 38,
   "metadata": {},
   "outputs": [
    {
     "data": {
      "text/plain": [
       "(14, 10000)"
      ]
     },
     "execution_count": 38,
     "metadata": {},
     "output_type": "execute_result"
    }
   ],
   "source": [
    "similarities_user = cosine_similarity(user_books_tfidf, data_books_tfidf)\n",
    "books_user_id = ratings_user['book_id'].tolist()\n",
    "similarities_user[:,books_user_id]=-1\n",
    "\n",
    "similarities_user.shape"
   ]
  },
  {
   "cell_type": "markdown",
   "metadata": {},
   "source": [
    "<div><font size=3 color=#00586D> <i class=\"fa fa-check-square-o\" aria-hidden=\"true\"></i></font></div>\n",
    "\n",
    "<!--comment -->"
   ]
  },
  {
   "cell_type": "markdown",
   "metadata": {},
   "source": [
    "<font color=\"#00586D\"> <i class=\"fa fa-pencil-square-o\" aria-hidden=\"true\" style=\"color:#00586D\"></i> </font> Obtener los 3 libros más similares _a cada uno_ de los leídos por el usuario y almacenarlos en la matriz `similar_books`.\n",
    "\n",
    "<div class=\"alert alert-block alert-info\">\n",
    "    \n",
    "<i class=\"fa fa-info-circle\" aria-hidden=\"true\"></i> La función `similarities_user.argsort(axis=1)` devuelve los índices ordenados (ascendentemente) para cada fila del array. Se trata de coger las 3 últimas columnas de `similarities_user`. \n",
    "    \n",
    "Por otra parte, el resultado de este ejercicio ha de ser un array ***unidimensional*** sin elementos repetidos.\n",
    "</div>"
   ]
  },
  {
   "cell_type": "code",
   "execution_count": 40,
   "metadata": {},
   "outputs": [
    {
     "name": "stdout",
     "output_type": "stream",
     "text": [
      "[ 175  304  357  387  865 1074 1311 1433 1687 1956 2109 2474 2513 3027\n",
      " 3273 3292 3362 4172 4937 5240 5825 6160 6335 6444 6754 6889 7457 7694\n",
      " 8249 8419 8626 8700 9600 9771 9778 9859] (36 libros distintos.)\n"
     ]
    }
   ],
   "source": [
    "similar_books = similarities_user.argsort(axis=1)[:, -3:].flatten()\n",
    "similar_books = np.unique(similar_books)\n",
    "\n",
    "print(similar_books, \"(\"+str(len(similar_books))+\" libros distintos.)\")"
   ]
  },
  {
   "cell_type": "markdown",
   "metadata": {},
   "source": [
    "<div><font size=3 color=#00586D> <i class=\"fa fa-check-square-o\" aria-hidden=\"true\"></i></font></div>\n",
    "\n",
    "<!--comment -->"
   ]
  },
  {
   "cell_type": "markdown",
   "metadata": {},
   "source": [
    "<div style=\"text-align: right\">\n",
    "<a href=\"#indice\"><font size=5><i class=\"fa fa-arrow-circle-up\" aria-hidden=\"true\" style=\"color:#00586D\"></i></font></a>\n",
    "</div>\n",
    "\n",
    "\n",
    "---\n",
    "\n",
    "<a id=\"section43\"></a> \n",
    "### <font color=\"#00586D\"> Priorización de resultados y recomendación</font>\n",
    "\n",
    "Llegados a este punto, se han obtenido los libros más similares a los leídos y valorados positivamente por el usuario. Una posibilidad a la hora de priorizar los resultados consistiría en dar más peso a aquellos libros similares que han aparecido más veces en la matriz `similar_books`. \n",
    "\n",
    "También es posible utilizar la información del `DataFrame` `df_goodreads` para priorizar los libros. En concreto, la columna `average_rating` contiene la valoración media de cada libro en la plataforma, y puede ser utilizada para priorizar. \n",
    "\n",
    "<font color=\"#00586D\"> <i class=\"fa fa-pencil-square-o\" aria-hidden=\"true\" style=\"color:#00586D\"></i> </font> Obtener los 10 libros con mayor `average_rating` de entre los más similares a los valorados positivamente por el usuario (`similar_books`). Almacenar sus índices en un array denominado `rec_books_user_id`."
   ]
  },
  {
   "cell_type": "code",
   "execution_count": 41,
   "metadata": {},
   "outputs": [
    {
     "data": {
      "text/plain": [
       "array([6444,  357, 6889, 2109, 8700,  175, 9600, 8626, 8249, 8419],\n",
       "      dtype=int64)"
      ]
     },
     "execution_count": 41,
     "metadata": {},
     "output_type": "execute_result"
    }
   ],
   "source": [
    "similar_books_data = df_goodreads.loc[similar_books].sort_values(by='average_rating', ascending=False).head(10)\n",
    "rec_books_user_id = similar_books_data.index.to_numpy()\n",
    "rec_books_user_id"
   ]
  },
  {
   "cell_type": "markdown",
   "metadata": {},
   "source": [
    "<div><font size=3 color=#00586D> <i class=\"fa fa-check-square-o\" aria-hidden=\"true\"></i></font></div>\n",
    "\n",
    "<!--comment -->"
   ]
  },
  {
   "cell_type": "markdown",
   "metadata": {},
   "source": [
    "Por último, se imprimen los nombres de los libros preferidos por el usuario, cuyos índices están almacenados en `books_user_id`, y la recomendación, cuyos índices están almacenados en `rec_books_user_id`."
   ]
  },
  {
   "cell_type": "code",
   "execution_count": 42,
   "metadata": {},
   "outputs": [
    {
     "name": "stdout",
     "output_type": "stream",
     "text": [
      "Libros preferidos por el usuario: \n",
      "----------------------------------\n",
      "Frank Miller, David Mazzucchelli, Richmond Lewis, Dennis O'Neil \n",
      "\t Batman: Year One\n",
      "Frank Miller \n",
      "\t Batman: The Dark Knight Returns #1\n",
      "Mark Waid, Alex Ross, Elliot S. Maggin \n",
      "\t Kingdom Come\n",
      "Frank Miller, Lynn Varley \n",
      "\t 300\n",
      "Philip Roth \n",
      "\t The Human Stain (The American Trilogy, #3)\n",
      "Kurt Busiek, Alex Ross \n",
      "\t Marvels\n",
      "A. Manette Ansay \n",
      "\t Vinegar Hill\n",
      "Michael Blake \n",
      "\t Dances with Wolves (Dances with Wolves, #1)\n",
      "Alexander McCall Smith \n",
      "\t The Full Cupboard of Life (No. 1 Ladies' Detective Agency, #5)\n",
      "Gary Paulsen \n",
      "\t Brian's Winter (Brian's Saga, #3)\n",
      "Richard Russo \n",
      "\t Bridge of Sighs\n",
      "Tracy Chevalier \n",
      "\t Falling Angels\n",
      "Stephen King \n",
      "\t Apt Pupil\n",
      "Dr. Seuss \n",
      "\t And to Think That I Saw it on Mulberry Street\n",
      "\n",
      "\n",
      "Recomendación: \n",
      "----------------------------------\n",
      "Katsuhiro Otomo, Yoko Umezawa, Linda M. York, Jo Duffy \n",
      "\t Akira, Vol. 1\n",
      "Dr. Seuss \n",
      "\t Oh, The Places You'll Go!\n",
      "Scott Snyder, Greg Capullo, Jonathan Glapion, James Tynion IV, Rafael Albuquerque, Jason Fabok, Becky Cloonan, Andy Clarke, Sandu Florea \n",
      "\t Batman, Volume 2: The City of Owls\n",
      "Bryan Lee O'Malley \n",
      "\t Scott Pilgrim, Volume 2: Scott Pilgrim vs. The World\n",
      "Frank Miller \n",
      "\t Sin City: Una Dura Despedida, #1 de 3\n",
      "Stephen King \n",
      "\t It\n",
      "Alan Moore, Curt Swan, George Pérez, Kurt Schaffenberger \n",
      "\t Superman: Whatever Happened to the Man of Tomorrow?\n",
      "Winston Graham \n",
      "\t Ross Poldark (Poldark, #1)\n",
      "Alexander McCall Smith \n",
      "\t Tea Time for the Traditionally Built (No. 1 Ladies' Detective Agency, #10)\n",
      "Jeph Loeb, Jim Lee, Scott Williams \n",
      "\t Batman: Hush, Vol. 1\n"
     ]
    }
   ],
   "source": [
    "print(\"Libros preferidos por el usuario: \")\n",
    "print(\"----------------------------------\")\n",
    "for book in df_goodreads.iloc[books_user_id][['title', 'authors']].itertuples():\n",
    "    print(book.authors, \"\\n\\t\",book.title)\n",
    "    \n",
    "print(\"\\n\\nRecomendación: \")\n",
    "print(\"----------------------------------\")\n",
    "for book in df_goodreads.iloc[rec_books_user_id][['title', 'authors']].itertuples():\n",
    "    print(book.authors, \"\\n\\t\",book.title)   "
   ]
  },
  {
   "cell_type": "markdown",
   "metadata": {},
   "source": [
    "Puede observarse que, efectivamente, los títulos recomendados guardan mucha relación con los títulos valorados positivamente por el usuario. "
   ]
  },
  {
   "cell_type": "markdown",
   "metadata": {},
   "source": [
    "<div style=\"text-align: right\">\n",
    "<a href=\"#indice\"><font size=5><i class=\"fa fa-arrow-circle-up\" aria-hidden=\"true\" style=\"color:#00586D\"></i></font></a>\n",
    "</div>\n",
    "\n",
    "\n",
    "---\n",
    "\n",
    "<a id=\"section5\"></a> \n",
    "##  <font color=\"#00586D\"> 5. Sistema híbrido de recomendación  </font>\n",
    "<br>\n",
    "\n",
    "<br> En el apartado anterior se ha utilizado la valoración media de cada libro para priorizar los vecinos más cercanos. Existe otra posibilidad, que consite en utilizar las valoraciones de los libros obtenidas mediante filtrado colaborativo. Esto constituye un sistema híbrido, ya que se mezclan las dos aproximaciones. Por una parte, se seleccionan libros basados en contenido, y de ellos, se muestra el conjunto para el que se predice una mayor puntuación por parte del usuario.\n",
    "<br>\n",
    "\n",
    "No existe mucho material disponible en relación a este tipo de modelos. Tampoco una librería de referencia, aunque va cobrando popularidad [surprise](http://surpriselib.com/). En primer lugar, se utilizará esta librería para obtener los scores mediante filtrado colaborativo. En concreto, se utilizará el algoritmo SVD (visto en clase). \n",
    "\n",
    "<div class=\"alert alert-block alert-info\">\n",
    "    \n",
    "<i class=\"fa fa-info-circle\" aria-hidden=\"true\"></i> El autor principal de la librería describe en en una serie de artículos [enlace](http://nicolas-hug.com/blog/) como funciona la versión básica de este algoritmo. La lectura es muy recomendable. \n",
    "</div>"
   ]
  },
  {
   "cell_type": "markdown",
   "metadata": {},
   "source": [
    "En la siguiente celda, se cargan los votos  en la estructura `ratings_data` (usada por `surprise`) y se aprende un modelo SVD."
   ]
  },
  {
   "cell_type": "code",
   "execution_count": 46,
   "metadata": {},
   "outputs": [],
   "source": [
    "#!pip install scikit-surprise"
   ]
  },
  {
   "cell_type": "code",
   "execution_count": 45,
   "metadata": {},
   "outputs": [],
   "source": [
    "from surprise import SVD, Dataset, Reader\n",
    "from surprise.model_selection.split import train_test_split\n",
    "\n",
    "reader = Reader()\n",
    "ratings_data = Dataset.load_from_df(df_ratings, reader).build_full_trainset()\n",
    "svd = SVD(n_factors=10)\n",
    "svd.fit(ratings_data);"
   ]
  },
  {
   "cell_type": "markdown",
   "metadata": {},
   "source": [
    "<font color=\"#00586D\"> <i class=\"fa fa-pencil-square-o\" aria-hidden=\"true\" style=\"color:#00586D\"></i> </font> Obtener uno a uno, las valoraciones de los libros similares a los preferidos por el usuario (`similar_books`), y tomar los 10 con más valoración. "
   ]
  },
  {
   "cell_type": "code",
   "execution_count": 47,
   "metadata": {},
   "outputs": [
    {
     "name": "stdout",
     "output_type": "stream",
     "text": [
      "\n",
      "\n",
      "Recomendación: \n",
      "----------------------------------\n",
      "Warren Ellis, Adi Granov \n",
      "\t Iron Man: Extremis\n",
      "Scott Snyder, Greg Capullo, Jonathan Glapion, James Tynion IV, Rafael Albuquerque, Jason Fabok, Becky Cloonan, Andy Clarke, Sandu Florea \n",
      "\t Batman, Volume 2: The City of Owls\n",
      "Larry McMurtry \n",
      "\t The Last Picture Show\n",
      "Alexander McCall Smith \n",
      "\t In the Company of Cheerful Ladies (No. 1 Ladies' Detective Agency, #6)\n",
      "Winston Graham \n",
      "\t Ross Poldark (Poldark, #1)\n",
      "Jean Craighead George \n",
      "\t My Side of the Mountain (Mountain, #1)\n",
      "Dr. Seuss \n",
      "\t Oh, The Places You'll Go!\n",
      "Bryan Lee O'Malley \n",
      "\t Scott Pilgrim, Volume 2: Scott Pilgrim vs. The World\n",
      "Alan Moore, Curt Swan, George Pérez, Kurt Schaffenberger \n",
      "\t Superman: Whatever Happened to the Man of Tomorrow?\n",
      "Katsuhiro Otomo, Yoko Umezawa, Linda M. York, Jo Duffy \n",
      "\t Akira, Vol. 1\n"
     ]
    }
   ],
   "source": [
    "scores = np.zeros(similar_books.shape)\n",
    "\n",
    "for i, book_id in enumerate(similar_books):\n",
    "    score = svd.predict(test_user, book_id).est\n",
    "    scores[i] = score\n",
    "\n",
    "top_10_books = np.argsort(scores)[-10:]\n",
    "    \n",
    "rec_books_user_id = similar_books[top_10_books]\n",
    "\n",
    "print(\"\\n\\nRecomendación: \")\n",
    "print(\"----------------------------------\")\n",
    "for book in df_goodreads.iloc[rec_books_user_id][['title', 'authors']].itertuples():\n",
    "    print(book.authors, \"\\n\\t\",book.title)    "
   ]
  },
  {
   "cell_type": "markdown",
   "metadata": {},
   "source": [
    "<div><font size=3 color=#00586D> <i class=\"fa fa-check-square-o\" aria-hidden=\"true\"></i></font></div>\n",
    "\n",
    "<!--comment -->"
   ]
  },
  {
   "cell_type": "markdown",
   "metadata": {},
   "source": [
    "<div style=\"text-align: right\">\n",
    "<a href=\"#indice\"><font size=5><i class=\"fa fa-arrow-circle-up\" aria-hidden=\"true\" style=\"color:#00586D\"></i></font></a>\n",
    "</div>\n",
    "\n",
    "\n",
    "---\n",
    "\n",
    "<a id=\"section6\"></a> \n",
    "## <font color=\"#00586D\"> 6. LDA y búsqueda por similaridad </font>\n",
    "<br>\n",
    "\n",
    "LDA permite modelar los grupos que dan lugar al corpus de documentos, de modo que cada documento se representa como una mixtura de las distribuciones de probabilidad de cada grupo, dada por un vector de pesos. Esta representación puede ser utilizada también para caracterizar el documento (en lugar de _tf-idf_) y permite cuantificar la similaridad con otros. Por tanto, también serviría para implementar un sistema de recomendación (basado en contenido o híbrido) similar al anterior.\n",
    "\n",
    "LDA trabaja con la matriz de frecuencias de  términos por documento (_term frecuency_). Por tanto, es necesario primero obtenerla. \n",
    "\n",
    "<font color=\"#00586D\"> <i class=\"fa fa-pencil-square-o\" aria-hidden=\"true\" style=\"color:#00586D\"></i></font> Construir un objeto `CountVectorizer` de `sklearn` y almacenarlo en la variable `cv_vect`.  Obtener la matriz `data_books_cv` a partir de los datos almacenados en `data_books`. Utilizar un tamaño máximo de vocabulario de 5000 (para que LDA no requiera demasiado tiempo y memoria). Almacenar el vocabulario generado en `cv_vect` en la variable `terms`. "
   ]
  },
  {
   "cell_type": "code",
   "execution_count": 48,
   "metadata": {},
   "outputs": [],
   "source": [
    "from sklearn.feature_extraction.text import CountVectorizer\n",
    "# Objeto CountVectorizer\n",
    "cv_vect = CountVectorizer(max_features=5000)\n",
    "# Matriz de frecuencias de terminos\n",
    "data_books_cv = cv_vect.fit_transform(data_books)\n",
    "# Vocabulario generado\n",
    "terms = cv_vect.get_feature_names()"
   ]
  },
  {
   "cell_type": "markdown",
   "metadata": {},
   "source": [
    "<div><font size=3 color=#00586D> <i class=\"fa fa-check-square-o\" aria-hidden=\"true\"></i></font></div>\n",
    "\n",
    "<!--comment -->"
   ]
  },
  {
   "cell_type": "markdown",
   "metadata": {},
   "source": [
    "Una vez construida la matriz de frecuencias, se ejecutará el algoritmo LDA, para representar los documentos mediante 20 grupos."
   ]
  },
  {
   "cell_type": "code",
   "execution_count": 49,
   "metadata": {},
   "outputs": [],
   "source": [
    "from sklearn.decomposition import LatentDirichletAllocation\n",
    "\n",
    "# Número de temas\n",
    "n_topics = 20\n",
    "\n",
    "lda = LatentDirichletAllocation(n_components=n_topics, max_iter=20, learning_method='online',\n",
    "                                learning_offset=50., random_state=0, n_jobs=-1)"
   ]
  },
  {
   "cell_type": "markdown",
   "metadata": {},
   "source": [
    "<font color=\"#00586D\"> <i class=\"fa fa-pencil-square-o\" aria-hidden=\"true\" style=\"color:#00586D\"></i></font> Construir el modelo LDA y almacenarlo en la variable `topic_term`. Guardar la representación de los documentos en la variable `data_books_lda`."
   ]
  },
  {
   "cell_type": "code",
   "execution_count": 50,
   "metadata": {},
   "outputs": [
    {
     "name": "stdout",
     "output_type": "stream",
     "text": [
      "Tiempo: 215.626s.\n",
      "Tamaño del modelo: (10000, 20)\n",
      "Tamaño del resultado de la transformación:  (10000,)\n"
     ]
    }
   ],
   "source": [
    "from time import time\n",
    "start = time()\n",
    "\n",
    "topic_term = lda.fit_transform(data_books_cv)\n",
    "\n",
    "data_books_lda = topic_term.argmax(axis=1)\n",
    "\n",
    "print(\"Tiempo: {:0.3f}s.\".format(time() - start))\n",
    "print(\"Tamaño del modelo:\", topic_term.shape)\n",
    "print(\"Tamaño del resultado de la transformación: \", data_books_lda.shape)"
   ]
  },
  {
   "cell_type": "markdown",
   "metadata": {},
   "source": [
    "<div><font size=3 color=#00586D> <i class=\"fa fa-check-square-o\" aria-hidden=\"true\"></i></font></div>\n",
    "\n",
    "<!--comment -->"
   ]
  },
  {
   "cell_type": "markdown",
   "metadata": {},
   "source": [
    "La siguiente función (de la práctica de LDA) imprime los términos y scores más importantes para cada grupo."
   ]
  },
  {
   "cell_type": "code",
   "execution_count": 51,
   "metadata": {},
   "outputs": [
    {
     "name": "stdout",
     "output_type": "stream",
     "text": [
      "Grupo:  0\n",
      "----------------------\n",
      "100:     \t0.4620\n",
      "1990s:     \t0.1973\n",
      "1000:     \t0.1856\n",
      "1900s:     \t0.0856\n",
      "1930s:     \t0.0387\n",
      "1980s:     \t0.0260\n",
      "1920s:     \t0.0003\n",
      "1996:     \t0.0003\n",
      "18th:     \t0.0003\n",
      "1950s:     \t0.0003\n",
      "----------------------\n",
      "\n"
     ]
    }
   ],
   "source": [
    "def topic_relevant_words(topic_id, model, terms, num_words):\n",
    "    print(\"Grupo: \", topic_id)\n",
    "    print(\"----------------------\")\n",
    "    # Extrae las posiciones de los mayores scores. \n",
    "    top_term_ids = model[topic_id,:].argsort()[:-num_words-1:-1]\n",
    "    # Extrae los términos de las posiciones correspondientes\n",
    "    top_terms = [terms[id_term] for id_term in top_term_ids]\n",
    "    # Extrae y calcula los scores\n",
    "    top_scores =  model[topic_id,top_term_ids] / np.sum(model[topic_id,:])\n",
    "    # Imprime los resultados\n",
    "    for term, score in zip(top_terms,top_scores):\n",
    "        print(\"{:s}:     \\t{:.4f}\".format(term,score))\n",
    "    print(\"----------------------\\n\")\n",
    "\n",
    "topic_relevant_words(0,topic_term, terms, 10)"
   ]
  },
  {
   "cell_type": "markdown",
   "metadata": {},
   "source": [
    "#### <font color=\"#00586D\"> Búsqueda del libro más similar </font>\n",
    "\n",
    "<font color=\"#00586D\"> <i class=\"fa fa-pencil-square-o\" aria-hidden=\"true\" style=\"color:#00586D\"></i></font>  Obtener la representación a partir del modelo `lda` del documento `text_query`. Almacenarla en la variable `text_query_lda`. "
   ]
  },
  {
   "cell_type": "code",
   "execution_count": 54,
   "metadata": {},
   "outputs": [
    {
     "data": {
      "text/plain": [
       "array([[2.90453424e-02, 5.74993806e-02, 5.86618895e-02, 3.78787885e-04,\n",
       "        3.78787880e-04, 3.78787880e-04, 3.78787879e-04, 3.78787890e-04,\n",
       "        9.09445397e-02, 3.78787879e-04, 4.95959704e-02, 3.78787882e-04,\n",
       "        3.78787879e-04, 3.78787888e-04, 3.78787885e-04, 3.78787880e-04,\n",
       "        3.78787883e-04, 7.08949847e-01, 3.78787887e-04, 3.78787881e-04]])"
      ]
     },
     "execution_count": 54,
     "metadata": {},
     "output_type": "execute_result"
    }
   ],
   "source": [
    "text_query_lda = lda.transform(cv_vect.transform([text_query]))\n",
    "text_query_lda"
   ]
  },
  {
   "cell_type": "markdown",
   "metadata": {},
   "source": [
    "<div><font size=3 color=#00586D> <i class=\"fa fa-check-square-o\" aria-hidden=\"true\"></i></font></div>\n",
    "\n",
    "<!--comment -->"
   ]
  },
  {
   "cell_type": "markdown",
   "metadata": {},
   "source": [
    "<font color=\"#00586D\"> <i class=\"fa fa-pencil-square-o\" aria-hidden=\"true\" style=\"color:#00586D\"></i></font> Mostrar las características de los tres grupos más relevantes en el texto `text_query`. "
   ]
  },
  {
   "cell_type": "code",
   "execution_count": 55,
   "metadata": {},
   "outputs": [
    {
     "name": "stdout",
     "output_type": "stream",
     "text": [
      "Grupo:  2\n",
      "----------------------\n",
      "1990s:     \t0.7089\n",
      "1900s:     \t0.0909\n",
      "1000:     \t0.0587\n",
      "100:     \t0.0575\n",
      "1920s:     \t0.0496\n",
      "02:     \t0.0290\n",
      "18th:     \t0.0004\n",
      "1950s:     \t0.0004\n",
      "1996:     \t0.0004\n",
      "1001:     \t0.0004\n",
      "----------------------\n",
      "\n",
      "Grupo:  8\n",
      "----------------------\n",
      "1980s:     \t0.5416\n",
      "1920s:     \t0.2393\n",
      "100:     \t0.0944\n",
      "1990s:     \t0.0551\n",
      "1950s:     \t0.0481\n",
      "1960s:     \t0.0122\n",
      "1910s:     \t0.0057\n",
      "1000:     \t0.0003\n",
      "18th:     \t0.0003\n",
      "1900s:     \t0.0003\n",
      "----------------------\n",
      "\n",
      "Grupo:  17\n",
      "----------------------\n",
      "1990s:     \t0.2796\n",
      "1996:     \t0.2173\n",
      "100:     \t0.1672\n",
      "18th:     \t0.1287\n",
      "1000:     \t0.1130\n",
      "1980s:     \t0.0334\n",
      "1900s:     \t0.0290\n",
      "1950s:     \t0.0280\n",
      "1930s:     \t0.0003\n",
      "1920s:     \t0.0003\n",
      "----------------------\n",
      "\n"
     ]
    }
   ],
   "source": [
    "# Indices de los tres grupos más relevantes en text_query\n",
    "top_topics = text_query_lda.argsort()[0][-3:]\n",
    "\n",
    "# Imprimir las características de los grupos más relevantes\n",
    "for topic_id in top_topics:\n",
    "    topic_relevant_words(topic_id, topic_term, terms, 10)"
   ]
  },
  {
   "cell_type": "markdown",
   "metadata": {},
   "source": [
    "<div><font size=3 color=#00586D> <i class=\"fa fa-check-square-o\" aria-hidden=\"true\"></i></font></div>\n",
    "\n",
    "<!--comment -->"
   ]
  },
  {
   "cell_type": "markdown",
   "metadata": {},
   "source": [
    "<font color=\"#00586D\"> <i class=\"fa fa-pencil-square-o\" aria-hidden=\"true\" style=\"color:#00586D\"></i></font> Calcular las similaridades (distancia_euclídea) del documento `text_query_lda` con el resto de documentos en la matriz `data_books_lda`, y almacenarlas en un vector denominado `similarities_lda`."
   ]
  },
  {
   "cell_type": "code",
   "execution_count": 72,
   "metadata": {},
   "outputs": [],
   "source": [
    "from sklearn.metrics.pairwise import euclidean_distances\n",
    "\n",
    "similarities_lda = euclidean_distances(text_query_lda.T, data_books_lda.reshape(-1, 1))"
   ]
  },
  {
   "cell_type": "raw",
   "metadata": {},
   "source": [
    "Tenia problemas por el tema de las dimensiones de las matrices para calcular las similaridades euclidianas.Para ello uso '.T' para realizar la transposición de text_query_lda (1,20) y pasa a tener una forma de (20, 1). Y uso reshape(-1, 1) para cambiar la forma de la matriz data_books_lda. Originalmente, data_books_lda tiene una forma de (10000,).Al aplicar reshape(-1, 1), la matriz se transforma en una forma de (10000, 1)."
   ]
  },
  {
   "cell_type": "markdown",
   "metadata": {},
   "source": [
    "<div><font size=3 color=#00586D> <i class=\"fa fa-check-square-o\" aria-hidden=\"true\"></i></font></div>\n",
    "\n",
    "<!--comment -->"
   ]
  },
  {
   "cell_type": "markdown",
   "metadata": {},
   "source": [
    "<font color=\"#00586D\"> <i class=\"fa fa-pencil-square-o\" aria-hidden=\"true\" style=\"color:#00586D\"></i></font> Obtener los índices de los 10 libros más similares a `text_query`. Hay que tener en cuenta que `euclidean_distances` devuelve distancias, no similaridades, por lo que hay que tomar los primeros índices. "
   ]
  },
  {
   "cell_type": "code",
   "execution_count": 75,
   "metadata": {},
   "outputs": [
    {
     "data": {
      "text/plain": [
       "9359     The Green Mile, Part 6: Coffey on the Mile\n",
       "348                                    'Salem's Lot\n",
       "1422                                    Rose Madder\n",
       "3819    The Call of Cthulhu and Other Weird Stories\n",
       "5902                                  Danse Macabre\n",
       "7209           The Necklace and Other Short Stories\n",
       "3204                          Cycle of the Werewolf\n",
       "669                                   The Dead Zone\n",
       "1716                      Essential Tales and Poems\n",
       "2364                        The Cask of Amontillado\n",
       "Name: title, dtype: object"
      ]
     },
     "execution_count": 75,
     "metadata": {},
     "output_type": "execute_result"
    }
   ],
   "source": [
    "top_similarities = np.argsort(similarities_lda[0])[:10]\n",
    "\n",
    "df_goodreads.iloc[top_similarities]['title']"
   ]
  },
  {
   "cell_type": "markdown",
   "metadata": {},
   "source": [
    "<div><font size=3 color=#00586D> <i class=\"fa fa-check-square-o\" aria-hidden=\"true\"></i></font></div>\n",
    "\n",
    "<!--comment -->"
   ]
  },
  {
   "cell_type": "markdown",
   "metadata": {},
   "source": [
    "En este caso las recomendaciones no son tan evidentes. Sin embargo, se aprecia que la temática es muy parecida a la de _\"Twilight\"_."
   ]
  },
  {
   "cell_type": "markdown",
   "metadata": {},
   "source": [
    "<div style=\"text-align: right\">\n",
    "<a href=\"#indice\"><font size=5><i class=\"fa fa-arrow-circle-up\" aria-hidden=\"true\" style=\"color:#00586D\"></i></font></a>\n",
    "</div>\n",
    "\n",
    "---\n",
    "\n",
    "<div style=\"text-align: right\"> <font size=6><i class=\"fa fa-coffee\" aria-hidden=\"true\" style=\"color:#00586D\"></i> </font></div>"
   ]
  }
 ],
 "metadata": {
  "kernelspec": {
   "display_name": "Python 3 (ipykernel)",
   "language": "python",
   "name": "python3"
  },
  "language_info": {
   "codemirror_mode": {
    "name": "ipython",
    "version": 3
   },
   "file_extension": ".py",
   "mimetype": "text/x-python",
   "name": "python",
   "nbconvert_exporter": "python",
   "pygments_lexer": "ipython3",
   "version": "3.9.12"
  }
 },
 "nbformat": 4,
 "nbformat_minor": 4
}
