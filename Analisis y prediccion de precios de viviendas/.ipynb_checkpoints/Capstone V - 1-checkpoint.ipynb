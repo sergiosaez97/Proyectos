{
 "cells": [
  {
   "cell_type": "markdown",
   "metadata": {},
   "source": [
    "<a id=\"inicio\"></a>\n",
    "<img src=\"http://www.cidaen.es/assets/img/mCIDaeNnb.png\" alt=\"Logo CiDAEN\" align=\"right\">\n",
    "\n",
    "\n",
    "\n",
    "\n",
    "<br><br><br>\n",
    "<h2><font color=\"#00586D\" size=4>Capstone V (Parte 1)</font></h2>\n",
    "\n",
    "<h1><font color=\"#00586D\" size=5>Análisis y predicción de un conjunto de datos sobre precios de viviendas</font></h1>\n",
    "<br><br><br>\n",
    "\n",
    "\n",
    "<div align=\"right\">\n",
    "<font color=\"#00586D\" size=3>Luis de la Ossa</font><br>\n",
    "<font color=\"#00586D\" size=3>Máster en Ciencia de Datos e Ingeniería de Datos en la Nube</font><br>\n",
    "<font color=\"#00586D\" size=3>Universidad de Castilla-La Mancha</font>\n",
    "\n",
    "</div>\n",
    "<br>"
   ]
  },
  {
   "cell_type": "code",
   "execution_count": null,
   "metadata": {},
   "outputs": [],
   "source": [
    "from IPython.display import display, HTML\n",
    "display(HTML(\"<style>.container { width:95% !important; }</style>\"))\n",
    "\n",
    "import numpy as np\n",
    "import pandas as pd\n",
    "\n",
    "%config InlineBackend.figure_format = 'retina'\n",
    "%matplotlib inline\n",
    "\n",
    "import matplotlib.pyplot as plt\n",
    "import seaborn as sns;\n",
    "sns.set()"
   ]
  },
  {
   "cell_type": "markdown",
   "metadata": {},
   "source": [
    "<a id=\"indice\"></a>\n",
    "<h2><font color=\"#00586D\" size=5>Índice</font></h2>\n",
    "\n",
    "#### <font color=\"#00586D\"> Notebook I</font>\n",
    "* [1. Introducción](#section1)\n",
    "* [2. Preparación de los datos](#section2)\n",
    "* [3. Exploración preliminar](#section3)\n",
    "\n",
    "#### <font color=\"#00586D\"> Notebook II</font>\n",
    "* [4. Predicción con modelos básicos](#section4)\n",
    "* [5. Ensembles](#section5)\n",
    "* [6. Explicabilidad](#section6)\n",
    "* [7. KNN](#section7)\n",
    "* [8. Construcción de características](#section8)\n",
    "* [9. Descarte de outliers](#section9)\n",
    "* [10. Aprendizaje no supervisado: PCA y EM](#section10)\n",
    "\n",
    "\n",
    "---\n",
    "\n",
    "<a id=\"section1\"></a>\n",
    "## <font color=\"#00586D\"> 1. Introducción</font>\n",
    "<br>\n",
    "\n",
    "En este proyecto se abordará un problema de análisis y predicción de precios de viviendas. El conjunto de datos original se ha obtenido de [Kaggle](https://www.kaggle.com/c/house-prices-advanced-regression-techniques/data), y es la base de un concurso que, a día de hoy, sigue abierto (aunque sin premio). Como se puede leer en la descripción del reto, este problema es adecuado para trabajar en la creación de características o el uso de ensembles. En este proyecto  abordaremos estas tareas, además de otras. \n",
    "\n",
    "Por último, a pesar de que en la web se pueden descargar un conjunto de entrenamiento y otro de test, éste último no está etiquetado. Por tanto se utilizará solamente el conjunto de entrenamiento y validación cruzada. No obstante, un ejercicio interesante consistiría en ampliar el proyecto y someter la predicción del test para comparar con otros resultados. También es muy interesante echar un vistazo a trabajos que ha hecho la gente con este mismo conjunto de datos, y que están disponibles en Kaggle.\n",
    "\n",
    "\n",
    "<div class=\"alert alert-block alert-info\">\n",
    "    \n",
    "<i class=\"fa fa-info-circle\" aria-hidden=\"true\"></i>  Esta primera libreta sólamente contiene la descripción del proceso de preparación de los datos. Por tanto, **se trata solamente de leerla, ya que no contiene ningún ejercicio.**\n",
    "</div>\n",
    "\n",
    "\n",
    "El archivo `data/houses.csv` contiene los datos con los que se trabajará. Como puede observarse tras una inspección previa, los valores perdidos se codifican con la etiqueta `NA`, aunque este punto se tratará con más detalle posteriormente."
   ]
  },
  {
   "cell_type": "code",
   "execution_count": null,
   "metadata": {},
   "outputs": [],
   "source": [
    "df_houses = pd.read_csv('data/houses.csv', index_col=0, na_values='NA')\n",
    "#df_houses.info()\n",
    "df_houses.sample(5)"
   ]
  },
  {
   "cell_type": "markdown",
   "metadata": {},
   "source": [
    "---\n",
    "\n",
    "<a id=\"section2\"></a>\n",
    "## <font color=\"#00586D\"> 2. Preparación</font>\n",
    "\n",
    "\n",
    "### <font color=\"#00586D\">Tipos de datos</font>\n",
    "\n",
    "\n",
    "Puede observarse que el conjunto de datos representa cada vivienda mediante 80 características cuya descripción puede encontrarse en el archivo `data/data_description.txt`. Esta información es interesante también de cara a determinar con qué tipo de datos se ha de representar cada una de ellas y, en algunos casos, qué valores pueden tomar. \n",
    "\n",
    "\n",
    "<div class=\"alert alert-block alert-info\">\n",
    "    \n",
    "<i class=\"fa fa-info-circle\" aria-hidden=\"true\"></i> Esta última circunstancia resulta de especial interés, ya que permite simplificar enormemente el *pipeline* de transformación, y dedicar el trabajo a la construcción de los modelos. No obstante, para procesar los datos de test y someter los resultados, sí que habría que construir un *pipeline*. Ese ejercicio se dejará como opcional. \n",
    "</div>\n",
    "\n",
    "\n",
    "Aunque cada característica se codifica con un tipo de datos, éste puede no corresponderse con el modo en que ha de ser tratada. Por ejemplo, la columna `MSSubClass` representa el tipo de vivienda mediante valores numéricos y, sin embargo, ha de tratarse como discreta. Por otra parte, existen características discretas en las que los posibles valores guardan una relación de orden, y no es conveniente perder esa información: éstas han de ser tratadas como ordinales (codificadas con categorías o con enteros). \n",
    "\n",
    "En esta celda se establecen los distintos tipos de características y se lleva a cabo la descripción de los valores ordinales. Este trabajo de inspección (algo árido) se ha llevado a cabo ***manualmente*** a partir de las descripciones proporcionadas en el archivo `data/data_description.txt` (se recomienda echarle un vistazo)."
   ]
  },
  {
   "cell_type": "code",
   "execution_count": null,
   "metadata": {},
   "outputs": [],
   "source": [
    "# Características numéricas\n",
    "numerical = ['LotFrontage', 'LotArea','OverallQual','OverallCond',\n",
    "             'YearBuilt','YearRemodAdd','MasVnrArea','BsmtFinSF1','BsmtFinSF2',\n",
    "             'BsmtUnfSF','TotalBsmtSF','1stFlrSF','2ndFlrSF','LowQualFinSF',\n",
    "             'GrLivArea','BsmtFullBath','BsmtHalfBath','FullBath','HalfBath',\n",
    "             'BedroomAbvGr','KitchenAbvGr','TotRmsAbvGrd','Fireplaces','GarageYrBlt',\n",
    "             'GarageCars','GarageArea','WoodDeckSF','OpenPorchSF','EnclosedPorch',\n",
    "             '3SsnPorch','ScreenPorch','PoolArea','MiscVal','MoSold','YrSold','SalePrice']\n",
    "\n",
    "# Características categóricas (discretas)\n",
    "discrete = ['MSSubClass','MSZoning','Street','Alley','LandContour', 'LotConfig',\n",
    "            'Neighborhood', 'Condition1', 'Condition2','BldgType','HouseStyle',\n",
    "            'RoofStyle','RoofMatl','Exterior1st','Exterior2nd','MasVnrType',\n",
    "            'Foundation','Heating','CentralAir','Electrical','GarageType','MiscFeature',\n",
    "            'SaleType','SaleCondition']\n",
    "\n",
    "# Características categóricas (ordinales)\n",
    "ordinal = ['LotShape','Utilities', 'LandSlope','ExterQual','ExterCond','BsmtQual',\n",
    "           'BsmtCond','BsmtExposure','BsmtFinType1','BsmtFinType2','HeatingQC',\n",
    "           'KitchenQual','Functional','FireplaceQu','GarageFinish','GarageQual',\n",
    "           'GarageCond','PavedDrive','PoolQC','Fence']"
   ]
  },
  {
   "cell_type": "markdown",
   "metadata": {},
   "source": [
    "<div class=\"alert alert-block alert-info\">\n",
    "    \n",
    "<i class=\"fa fa-info-circle\" aria-hidden=\"true\"></i> En el caso de las características ordinales, **es importante mantener la relación de orden de las etiquetas**.\n",
    "</div>\n",
    "\n",
    "\n",
    " Esto implica que, independientemente de cómo y donde se haga la codificación, hay que proporcionar dicho orden. En este caso, se recodificará el *DataFrame* inicial para simplificar el código posterior."
   ]
  },
  {
   "cell_type": "code",
   "execution_count": null,
   "metadata": {},
   "outputs": [],
   "source": [
    "df_houses['LotShape'].replace({'IR3':1,'IR2':2,'IR1':3,'Reg':4}, inplace=True)\n",
    "df_houses['Utilities'].replace({'ELO':1,'NoSeWa':2,'NoSewr':3,'AllPub':4}, inplace=True)\n",
    "df_houses['LandSlope'].replace({'Gtl':1,'Mod':2,'Sev':3}, inplace=True)\n",
    "df_houses['ExterQual'].replace({'Po':1, 'Fa':2,'TA':3, 'Gd':4, 'Ex':5}, inplace=True)\n",
    "df_houses['ExterCond'].replace({'Po':1, 'Fa':2,'TA':3, 'Gd':4, 'Ex':5}, inplace=True)\n",
    "df_houses['BsmtQual'].replace({'Po':1, 'Fa':2,'TA':3, 'Gd':4, 'Ex':5}, inplace=True)\n",
    "df_houses['BsmtCond'].replace({'Po':1, 'Fa':2,'TA':3, 'Gd':4, 'Ex':5}, inplace=True)\n",
    "df_houses['BsmtExposure'].replace({'No':1,'Mn':2,'Av':3, 'Gd':4}, inplace=True)\n",
    "df_houses['BsmtFinType1'].replace({'Unf':1,'LwQ':2,'Rec':3, 'BLQ':4, 'ALQ':5, 'GLQ':6}, inplace=True)\n",
    "df_houses['BsmtFinType2'].replace({'Unf':1,'LwQ':2,'Rec':3, 'BLQ':4, 'ALQ':5, 'GLQ':6}, inplace=True)\n",
    "df_houses['HeatingQC'].replace({'Po':1, 'Fa':2,'TA':3, 'Gd':4, 'Ex':5}, inplace=True)\n",
    "df_houses['KitchenQual'].replace({'Po':1, 'Fa':2,'TA':3, 'Gd':4, 'Ex':5}, inplace=True)\n",
    "df_houses['Functional'].replace({'Sal':1, 'Sev':2, 'Maj2':3, 'Maj1':4, 'Mod':5, 'Min2':6, 'Min1':7, 'Typ':8}, inplace=True)\n",
    "df_houses['FireplaceQu'].replace({'Po':1, 'Fa':2,'TA':3, 'Gd':4, 'Ex':5}, inplace=True)\n",
    "df_houses['GarageFinish'].replace({'Unf':1,'RFn':2,'Fin':3}, inplace=True)\n",
    "df_houses['GarageQual'].replace({'Po':1, 'Fa':2,'TA':3, 'Gd':4, 'Ex':5}, inplace=True)\n",
    "df_houses['GarageCond'].replace({'Po':1, 'Fa':2,'TA':3, 'Gd':4, 'Ex':5}, inplace=True)\n",
    "df_houses['PavedDrive'].replace({'N':1,'P':2,'Y':3}, inplace=True)\n",
    "df_houses['PoolQC'].replace({'Po':1, 'Fa':2,'TA':3, 'Gd':4, 'Ex':5}, inplace=True)\n",
    "df_houses['Fence'].replace({'MnWw':1,'GdWo':2,'MnPrv':3, 'GdPrv':4}, inplace=True)"
   ]
  },
  {
   "cell_type": "markdown",
   "metadata": {},
   "source": [
    "<div class=\"alert alert-block alert-warning\">\n",
    "    \n",
    "<i class=\"fa fa-exclamation-circle\" aria-hidden=\"true\"></i>\n",
    "__Importante__: Aunque todavía no hemos hecho la división en entrenamiento/test, ***no*** estamos incurriendo en errores de codificación o en *data leakage*, ya que estas categorías son predefinidas y, por tanto, **asumimos** que es el formato en que llegarían todos los datos, también los nuevos.\n",
    "</div>"
   ]
  },
  {
   "cell_type": "markdown",
   "metadata": {},
   "source": [
    "---\n",
    "\n",
    "### <font color=\"#00586D\">Valores nulos</font>\n",
    "\n",
    "El tratamiento de los valores perdidos en este conjunto de datos es especial debido a los distintos tipos de datos, y al uso que se hace del valor `NA` en el archivo original. Aunque el primer vistazo al conjunto de datos muestra que no contiene valores perdidos como tales, sino el símbolo `NA`, y que éste se ha tratado como *NaN*, un vistazo a los tipos de datos muestra que, para algunas características, `NA` **es informativo**. Por ejemplo, en el caso de `PoolQC`, que representa la calidad de la piscina, y que es la columna con más valores perdidos, `NA` representa que no existe piscina, y que `PoolArea` es igual a cero. Aunque se podría prescindir de esta columna `PoolQC` porque `PoolArea` nos proporciona información, podemos codificarla correctamente, de modo que los propios algoritmos determinen si la variable es o no relevante. \n",
    "\n",
    "Con el fin de tratar los valores nulos o perdidos, en primer lugar se observarán las columnas donde existen estos valores."
   ]
  },
  {
   "cell_type": "code",
   "execution_count": null,
   "metadata": {},
   "outputs": [],
   "source": [
    "missing_vals = df_houses.isna().sum().sort_values(ascending=False).where(lambda n: n>0).dropna()\n",
    "missing_vals"
   ]
  },
  {
   "cell_type": "markdown",
   "metadata": {},
   "source": [
    "Antes de proceder a tratarlos, es necesario que considerar que la aparición o no aparición de un valor aportar información de interés.  La librería `missingno` implementa algunas funciones de utilidad para llevar a cabo una inspección."
   ]
  },
  {
   "cell_type": "code",
   "execution_count": null,
   "metadata": {},
   "outputs": [],
   "source": [
    "#!pip install missingno\n",
    "\n",
    "import missingno as msno"
   ]
  },
  {
   "cell_type": "markdown",
   "metadata": {},
   "source": [
    "Mediante la función `msno.matrix()` puede visualizarse la aparición de valores perdidos en el DataFrame. En este caso, se visualizarán solamente las columnas que contienen valores perdidos. A veces, el ordenar alguna columna permite mejorar la visualización (en este caso no mucho)."
   ]
  },
  {
   "cell_type": "code",
   "execution_count": null,
   "metadata": {},
   "outputs": [],
   "source": [
    "#msno.matrix(df_houses[missing_vals.index].sort_values(by='LotFrontage'))\n",
    "msno.matrix(df_houses[missing_vals.index].sort_values(by='Fence'));"
   ]
  },
  {
   "cell_type": "markdown",
   "metadata": {},
   "source": [
    "En la gráfica se aprecia que, como era de esperar, existe relación en la aparición de valores perdidos para tres grupos de columnas: las relativas al garaje, al sótano, y las dos de la mampostrería. También se aprecia el número de valores conocidos para cada fila que oscila entre 4 y 18. \n",
    "\n",
    "Otro tipo de gráfica que puede ser interesante en este sentido es un mapa de calor con la correlación de las variables. En este caso se convierten los datos a binarios, indicando si se conoce el valor o no, y se calcula la correlación de estos valores."
   ]
  },
  {
   "cell_type": "code",
   "execution_count": null,
   "metadata": {},
   "outputs": [],
   "source": [
    "msno.heatmap(df_houses[missing_vals.index]);"
   ]
  },
  {
   "cell_type": "markdown",
   "metadata": {},
   "source": [
    "Se aprecia lo mismo que en la gráfica anterior. Además, se ve que hay cierta correlación entre la existencia de garaje o sótano. También entre la existencia de extintor en relación con estas dos últimas circunstancias.\n",
    "\n",
    "Puede apreciarse que existen 19 características para las que existen datos perdidos.  El tratamiento que se  dé a cada una de ellas depende de su categoría. Por ejemplo, en las ordinales, `NA` representa siempre la categoría más baja (según el archivo `data/data_description.txt`). Por tanto, se puede codificar como una categoría más. Como anteriormente se ha asignado el valor $1$ a la categoría más baja, se puede imputar el valor 0."
   ]
  },
  {
   "cell_type": "code",
   "execution_count": null,
   "metadata": {},
   "outputs": [],
   "source": [
    "df_houses[ordinal] = df_houses[ordinal].fillna(0)\n",
    "df_houses.isna().sum().sort_values(ascending=False).where(lambda n: n>0).dropna()"
   ]
  },
  {
   "cell_type": "markdown",
   "metadata": {},
   "source": [
    "En el caso de las columnas discretas, `NA` también constituye una categoría que, en general, representa la **inexistencia** de un elemento. "
   ]
  },
  {
   "cell_type": "code",
   "execution_count": null,
   "metadata": {},
   "outputs": [],
   "source": [
    "df_houses[discrete] = df_houses[discrete].fillna('None')\n",
    "df_houses.isna().sum().sort_values(ascending=False).where(lambda n: n>0).dropna()"
   ]
  },
  {
   "cell_type": "markdown",
   "metadata": {},
   "source": [
    "Una vez eliminados estos valores, quedan tres columnas numéricas que contienen valores perdidos. La primera de ellas, `LotFrontage`, es especial, ya que podría representar valores perdidos como tal o que no hay acceso a la calle. La descripción nos muestra que no hay ningún valor igual a cero entre los valores conocidos. "
   ]
  },
  {
   "cell_type": "code",
   "execution_count": null,
   "metadata": {},
   "outputs": [],
   "source": [
    "df_houses['LotFrontage'].describe()"
   ]
  },
  {
   "cell_type": "markdown",
   "metadata": {},
   "source": [
    "Es interesante observar los valores que toman algunas columnas relacionadas en los casos en los que `LotFrontage` es nula. "
   ]
  },
  {
   "cell_type": "code",
   "execution_count": null,
   "metadata": {},
   "outputs": [],
   "source": [
    "df_houses[df_houses['LotFrontage'].isna()][['LotFrontage','LotArea','MSZoning','Street','Alley']].sort_values(by='LotArea', ascending=False)"
   ]
  },
  {
   "cell_type": "markdown",
   "metadata": {},
   "source": [
    "No se aprecia nada extraño. También es interesante ver si  alguna vivienda corresponde a terreno agrícola (`MSZoning=A`)."
   ]
  },
  {
   "cell_type": "code",
   "execution_count": null,
   "metadata": {},
   "outputs": [],
   "source": [
    "df_houses[df_houses['LotFrontage'].isna()]['MSZoning'].value_counts()"
   ]
  },
  {
   "cell_type": "markdown",
   "metadata": {},
   "source": [
    "Puede observarse que sí que existen los valores relativos `LotArea` (área del solar) o del tipo de calle. Esto hace pensar que la mejor decisión es imputar el valor perdido. Una estrategia simple es utilizar la mediana de los valores. Sin embargo, podría pensarse que ha de existir cierta correlacion entre el área del solar `LotArea` y la longitud de la fachada que da a la calle `LotFrontage`."
   ]
  },
  {
   "cell_type": "code",
   "execution_count": null,
   "metadata": {},
   "outputs": [],
   "source": [
    "print(f\"Correlación: {df_houses['LotFrontage'].corr(df_houses['LotArea']):.2f}\")\n",
    "plt.figure(figsize=(8,6))\n",
    "sns.regplot(x=df_houses['LotFrontage'], y=df_houses['LotArea'],scatter_kws={'s':10, 'alpha':0.2});"
   ]
  },
  {
   "cell_type": "markdown",
   "metadata": {},
   "source": [
    "La gráfica muestra que efectivamente, y a pesar de los outliers, existe cierta correlación, aunque no es excesivamente alta (0.43).  Con ánimo de simplificar, y ya que la diferencia no será demasiado sustancial (y no estamos concursando), se podría utilizar la mediana para imputar los valores perdidos. "
   ]
  },
  {
   "cell_type": "code",
   "execution_count": null,
   "metadata": {},
   "outputs": [],
   "source": [
    "#df_houses['LotFrontage'] = df_houses['LotFrontage'].fillna(df_houses['LotFrontage'].median())"
   ]
  },
  {
   "cell_type": "markdown",
   "metadata": {},
   "source": [
    "<div class=\"alert alert-block alert-danger\">\n",
    "\n",
    "<i class=\"fa fa-info-circle\" aria-hidden=\"true\"></i> En realidad aquí, estrictramente hablando, incurrimos en una **fuga de datos**. Dado que se pretende imputar la mediana de todo el atributo antes de realizar el particionamiento en entrenamiento y test, en el pipeline de preparación / aprendizaje se estarían utilizado instancias que solo se pueden utilizar en el momento de la predicción y reporte de resultados.\n",
    "</div>"
   ]
  },
  {
   "cell_type": "markdown",
   "metadata": {},
   "source": [
    "La siguiente variable a estudiar es `GarageYrBlt`. El la presencia del valor es informativa, ya que está asociada a la existencia o no de un garaje. Puesto que esa información ya la proporcionan otras dos variables `GarageFinish` y `GarageType`, es conveniente distorsionar los datos lo menos posible. En este caso, podemos imputar el valor mínimo de la columna."
   ]
  },
  {
   "cell_type": "code",
   "execution_count": null,
   "metadata": {},
   "outputs": [],
   "source": [
    "#df_houses['GarageYrBlt'] = df_houses['GarageYrBlt'].fillna(df_houses['GarageYrBlt'].min())"
   ]
  },
  {
   "cell_type": "markdown",
   "metadata": {},
   "source": [
    "<div class=\"alert alert-block alert-danger\">\n",
    "\n",
    "<i class=\"fa fa-info-circle\" aria-hidden=\"true\"></i> Estrictamente hablando, aquí también (para calcular el mínimo).\n",
    "</div>"
   ]
  },
  {
   "cell_type": "markdown",
   "metadata": {},
   "source": [
    "La última variable, `MasVnrArea` corresponde al área de revestimiento de mampostrería. Un vistazo a los valores perdidos junto con la columna `MasVnrType` proporciona información con respecto a esa característica."
   ]
  },
  {
   "cell_type": "code",
   "execution_count": null,
   "metadata": {},
   "outputs": [],
   "source": [
    "df_houses[df_houses['MasVnrArea'].isna()][['MasVnrArea','MasVnrType']]"
   ]
  },
  {
   "cell_type": "markdown",
   "metadata": {},
   "source": [
    "Parece que los valores perdidos corresponden a la no existencia de mampostería. Por tanto, se imputará el valor 0."
   ]
  },
  {
   "cell_type": "code",
   "execution_count": null,
   "metadata": {},
   "outputs": [],
   "source": [
    "df_houses['MasVnrArea'] = df_houses['MasVnrArea'].fillna(0)"
   ]
  },
  {
   "cell_type": "markdown",
   "metadata": {},
   "source": [
    "<div class=\"alert alert-block alert-warning\">\n",
    "    \n",
    "<i class=\"fa fa-exclamation-circle\" aria-hidden=\"true\"></i>\n",
    "__Importante__: No está mal recordar que hemos trabajado con el conjunto de datos completo porque tenemos información precisa sobre los valores que puede tomar cada variable. En realidad (recordamos), habría que hacer estas transformaciones e imputaciones en un *pipeline* sobre el conjunto de entrenamiento para poder tratar los nuevos datos. Esta opción se plantea como opcional al final, pero hemos decidido plantear el capstone así para simplificar vuestro trabajo.\n",
    "<br><br>\n",
    "\n",
    "\n",
    "Hecha esta salvedad,  teniendo en cuenta que asumimos que datos de entrenamiento y test proceden de la misma distribución, que la repercusión de las partes donde hay fuga de datos es mínima, y también **con intención de simplificar vuestro trabajo**, imputaremos los valores de las dos columnas que habíamos dejado para después.\n",
    "</div>"
   ]
  },
  {
   "cell_type": "code",
   "execution_count": null,
   "metadata": {},
   "outputs": [],
   "source": [
    "df_houses['LotFrontage'] = df_houses['LotFrontage'].fillna(df_houses['LotFrontage'].median())\n",
    "df_houses['GarageYrBlt'] = df_houses['GarageYrBlt'].fillna(df_houses['GarageYrBlt'].min())"
   ]
  },
  {
   "cell_type": "markdown",
   "metadata": {},
   "source": [
    "<div align=\"right\">\n",
    "<a href=\"#indice\"><font size=5 color=\"#00586D\"><i class=\"fa fa-arrow-circle-up\" aria-hidden=\"true\"></i></font></a>\n",
    "</div>\n",
    "\n",
    "---\n",
    "\n",
    "<a id=\"section3\"></a>\n",
    "## <font color=\"#00586D\"> 3. Exploración preliminar</font>\n",
    "<br>\n",
    "\n",
    "\n",
    "Puesto que el objetivo último de este proyecto es la predicción, y el número de variables es alto, la exploración ha de girar entorno a la variable de clase. A continuación se muestra la distribución de la columna `SalePrice`. Se observa que la distribución está sesgada a la izquierda, y que existen valores extremos. Podría ser necesario tener en cuenta esta circunstancia a la hora de elaborar los modelos."
   ]
  },
  {
   "cell_type": "code",
   "execution_count": null,
   "metadata": {},
   "outputs": [],
   "source": [
    "plt.figure(figsize=(8,4))\n",
    "sns.histplot(x=df_houses['SalePrice'], kde=True);"
   ]
  },
  {
   "cell_type": "markdown",
   "metadata": {},
   "source": [
    "---\n",
    "\n",
    "### <font color=\"#00586D\">Exploración sobre variables relacionadas con el precio de la vivienda</font>\n",
    "<br>\n",
    "\n",
    "Como el número de variables elevado, y teniendo en cuenta el objetivo, nos detendremos inicialmente en aquellas más correlacionadas (positiva o negativamente) con el precio de venta `SalePrice`. En primer lugar, se explorarán las numéricas y ordinales. "
   ]
  },
  {
   "cell_type": "code",
   "execution_count": null,
   "metadata": {},
   "outputs": [],
   "source": [
    "(df_houses.corr()['SalePrice']).nlargest(20) # Positiva\n",
    "#(df_houses.corr()['SalePrice']).nsmallest(20) # Negativa"
   ]
  },
  {
   "cell_type": "markdown",
   "metadata": {},
   "source": [
    "Se considerarán, por ejemplo, las 20 con más correlación (positiva o negativa) utilizando el valor absoluto."
   ]
  },
  {
   "cell_type": "code",
   "execution_count": null,
   "metadata": {},
   "outputs": [],
   "source": [
    "relevant_num_feat = (df_houses.corr()['SalePrice']).map(np.abs).nlargest(20)\n",
    "relevant_num_feat"
   ]
  },
  {
   "cell_type": "markdown",
   "metadata": {},
   "source": [
    "Puede observarse que, las correlaciones más fuertes son positivas, y que la correlación está por encima de 0.5 en algunos casos. Se almacenarán sus nombres (excluyendo `SalePrice`) para un *posible* uso posterior."
   ]
  },
  {
   "cell_type": "code",
   "execution_count": null,
   "metadata": {},
   "outputs": [],
   "source": [
    "import pickle\n",
    "\n",
    "relevant_num_feat = relevant_num_feat[relevant_num_feat>0.5].index.to_list()[1:]#  Deja fuera `SalePrice`\n",
    "print(relevant_num_feat)\n",
    "\n",
    "# Guarda la información\n",
    "with open('data/relevant.pickle', 'wb') as file:\n",
    "    pickle.dump(relevant_num_feat, file)"
   ]
  },
  {
   "cell_type": "markdown",
   "metadata": {},
   "source": [
    "A continuación, se exploran las 5 primeras características de `relevant_num_feat` (las más correlacionadas) y `SalePrice` mediante una figura de tipo `PairPlot`. "
   ]
  },
  {
   "cell_type": "code",
   "execution_count": null,
   "metadata": {},
   "outputs": [],
   "source": [
    "sns.pairplot(df_houses[relevant_num_feat[0:5]+['SalePrice']], corner=True,  plot_kws={'s':5,'alpha':0.25});"
   ]
  },
  {
   "cell_type": "markdown",
   "metadata": {},
   "source": [
    "En la gráfica se aprecian algunos detalles, además de la correlación que se había obtenido anteriormente. Uno de ellos es que la distribución de valores de `GrLivArea` (el área de la casa sin contar el sótano) también está sesgada (ligeramente). Por otra parte, el valor del precio de venta varía más conforme aumenta el valor de otras variables como `OverallQual` o `GarageCars` (no se da la *homocedasticidad*)."
   ]
  },
  {
   "cell_type": "markdown",
   "metadata": {},
   "source": [
    "La relación entre `OverallQual` y `SalePrice` *parece que podría no ser*  lineal. La siguiente figura muestra esta relación,  y la relación de `OverallQual` con el logaritmo de `SalePrice`."
   ]
  },
  {
   "cell_type": "code",
   "execution_count": null,
   "metadata": {},
   "outputs": [],
   "source": [
    "f, axes_grid = plt.subplots(1,2, figsize=(8,4))\n",
    "sns.regplot(x=df_houses['OverallQual'], y=df_houses['SalePrice'], scatter_kws={'s':10, 'alpha':0.1}, ax = axes_grid[0]);\n",
    "sns.regplot(x=df_houses['OverallQual'], y=np.log(df_houses['SalePrice']), scatter_kws={'s':10, 'alpha':0.1}, ax = axes_grid[1]);\n",
    "axes_grid[0].set_title('SalePrice')\n",
    "axes_grid[1].set_title('log(SalePrice)')\n",
    "plt.subplots_adjust( wspace=0.5)"
   ]
  },
  {
   "cell_type": "markdown",
   "metadata": {},
   "source": [
    "Parece que, efectivamente, la segunda gráfica representa mejor la relación, aunque *la diferencia es muy sutil*."
   ]
  },
  {
   "cell_type": "markdown",
   "metadata": {},
   "source": [
    "En relación a las variables categóricas, el análisis puede ser más laborioso. A continuación se dibuja un gráfico de cajas para cada una de las variables categóricas con el fin de intuir alguna relación. Para apreciar las tendencias de manera más clara, pueden ordenarse las categorías por la mediana."
   ]
  },
  {
   "cell_type": "code",
   "execution_count": null,
   "metadata": {},
   "outputs": [],
   "source": [
    "f, axes_grid = plt.subplots(6,4, figsize=(24,24))\n",
    "\n",
    "for column,ax in zip(discrete,axes_grid.flatten()):\n",
    "    order = df_houses.groupby(column)['SalePrice'].median().sort_values().index.to_list()\n",
    "    sns.boxplot(data=df_houses, x=column, y='SalePrice', order=order, ax=ax)\n",
    "    ax.set_xticklabels(ax.get_xticklabels(), rotation = 60, fontsize=8)\n",
    "    ax.set_yticks([]) \n",
    "    \n",
    "plt.subplots_adjust(hspace=0.5, wspace=0.25)"
   ]
  },
  {
   "cell_type": "markdown",
   "metadata": {},
   "source": [
    "Aunque la variabilidad no permite apreciar con claridad las tendencias, sí que se aprecia claramente la influencia de la variable discreta en el precio para el caso de características como `Neighborhood`, `LandContour`, `MSZoning` u otras. En otros casos, como `SaleCondition`, no se aprecia diferencia salvo en una de las categorías (`Partial`). "
   ]
  },
  {
   "cell_type": "markdown",
   "metadata": {},
   "source": [
    "Otra forma de ver la influencia de las variables discretas con el precio, relacionada también con cómo se codifican en el modelo de aprendizaje, es haciendo una codificación *One Hot* (con pd.get_dummies) y calculando la correlación con `SalePrice`.\n",
    "\n"
   ]
  },
  {
   "cell_type": "code",
   "execution_count": null,
   "metadata": {},
   "outputs": [],
   "source": [
    "pd.concat([pd.get_dummies(df_houses[discrete]), df_houses['SalePrice']], axis=1).corr()['SalePrice'].nlargest(20)"
   ]
  },
  {
   "cell_type": "markdown",
   "metadata": {},
   "source": [
    "En este caso se ve que la correlación positiva corresponde a algunos valores, como la base de cemento (`Foundation_PConc`), un vecindario concreto (`Neighborhood_NridgHt`) o el tipo de venta (`SaleType_New`). No obstante, estas correlaciones no son excesivamente relevantes. Se pueden obtener también las que repercuten negativamente."
   ]
  },
  {
   "cell_type": "code",
   "execution_count": null,
   "metadata": {},
   "outputs": [],
   "source": [
    "pd.concat([pd.get_dummies(df_houses[discrete]), df_houses['SalePrice']], axis=1).corr()['SalePrice'].nsmallest(20)"
   ]
  },
  {
   "cell_type": "markdown",
   "metadata": {},
   "source": [
    "La ausencia de mampostrería (`MasVnrType_None`), el garaje separado (`GarageType_Detchd`), o algunos vecindarios repercuten negativamente en el precio de la vivienda.\n",
    "\n",
    "Como el número de variables binarias es muy elevado en relación al conjunto de datos, y se corre el riesgo de sobreajustar, nos quedaremos con las más relevantes (positiva o negativamente) y se almacenarán en `relevant_dum_feat` por si hubiese que utilizar esta información en algunas en fases posteriores."
   ]
  },
  {
   "cell_type": "code",
   "execution_count": null,
   "metadata": {
    "scrolled": true
   },
   "outputs": [],
   "source": [
    "relevant_dum_feat = (pd.concat([pd.get_dummies(df_houses[discrete]), df_houses['SalePrice']], axis=1)\n",
    "                   .corr()['SalePrice']\n",
    "                   .apply(np.abs)\n",
    "                   .nlargest(20)).index.to_list()[1:]\n",
    "\n",
    "print(relevant_dum_feat)\n",
    "\n",
    "# Guarda la información\n",
    "with open('data/relevant_oh.pickle', 'wb') as file:\n",
    "    pickle.dump(relevant_dum_feat, file)"
   ]
  },
  {
   "cell_type": "markdown",
   "metadata": {},
   "source": [
    "Para terminar se creará un conjunto de datos. La única transformación que se ha de hacer es la correspondiente a las variables discretas, para las que hay que hacer una transformación *One Hot*. El conjunto de datos resultante se almacenará en el archivo `data/houses_prep.csv`."
   ]
  },
  {
   "cell_type": "code",
   "execution_count": null,
   "metadata": {},
   "outputs": [],
   "source": [
    "data = pd.concat([df_houses[numerical+ordinal], pd.get_dummies(df_houses[discrete])], axis=1).copy()\n",
    "data.to_csv('data/houses_prep.csv')"
   ]
  },
  {
   "cell_type": "markdown",
   "metadata": {},
   "source": [
    "<div align=\"right\">\n",
    "<a href=\"#indice\"><font size=5 color=\"#00586D\"><i class=\"fa fa-arrow-circle-up\" aria-hidden=\"true\"></i></font></a>\n",
    "</div>\n",
    "\n",
    "---\n",
    "\n",
    "<div align=\"right\">\n",
    "<a href=\"#indice\"><font size=6 color=\"#00586D\"><i class=\"fa fa-coffee\" aria-hidden=\"true\"></i></font></a>\n",
    "</div>"
   ]
  }
 ],
 "metadata": {
  "kernelspec": {
   "display_name": "Python 3 (ipykernel)",
   "language": "python",
   "name": "python3"
  },
  "language_info": {
   "codemirror_mode": {
    "name": "ipython",
    "version": 3
   },
   "file_extension": ".py",
   "mimetype": "text/x-python",
   "name": "python",
   "nbconvert_exporter": "python",
   "pygments_lexer": "ipython3",
   "version": "3.9.10"
  }
 },
 "nbformat": 4,
 "nbformat_minor": 4
}
