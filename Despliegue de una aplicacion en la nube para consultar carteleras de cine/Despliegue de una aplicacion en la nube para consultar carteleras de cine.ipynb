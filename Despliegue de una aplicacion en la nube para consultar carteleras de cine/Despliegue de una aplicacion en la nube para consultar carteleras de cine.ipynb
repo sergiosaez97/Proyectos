{
 "cells": [
  {
   "cell_type": "markdown",
   "metadata": {},
   "source": [
    "<img src=\"http://www.cidaen.es/assets/img/mCIDaeNnb.png\" alt=\"Logo CiDAEN\" align=\"right\">\n",
    "\n",
    "<br><br><br>\n",
    "<h2><font color=\"#00586D\" size=5>Capstone XI: Servicios avanzados en la nube</font></h2>\n",
    "\n",
    "\n",
    "\n",
    "<h1><font color=\"#00586D\" size=6>Cartelera</font></h1>\n",
    "\n",
    "<br><br>\n",
    "<div style=\"text-align: right\">\n",
    "<font color=\"#00586D\" size=3>Juan Ignacio Alonso Barba, Jesus Martínez Gómez</font><br>\n",
    "<font color=\"#00586D\" size=3>Máster en Ciencia de Datos e Ingeniería de Datos en la Nube III </font><br>\n",
    "<font color=\"#00586D\" size=3>Universidad de Castilla-La Mancha</font>\n",
    "\n",
    "</div>"
   ]
  },
  {
   "cell_type": "markdown",
   "metadata": {},
   "source": [
    "---\n",
    "\n",
    "<a id=\"indice\"></a>\n",
    "<h2><font color=\"#00586D\" size=5>Índice</font></h2>\n",
    "\n",
    "\n",
    "* [1. Introducción](#section1)\n",
    "* [2. Presentación de la arquitectura](#section2)\n",
    "* [3. Acciones a realizar](#section3)\n",
    "\n",
    "---"
   ]
  },
  {
   "cell_type": "markdown",
   "metadata": {},
   "source": [
    "<a id=\"section1\"></a>\n",
    "# <font color=\"#00586D\"> 1. Introducción</font>\n",
    "\n",
    "El objetivo de este capstone es combinar de forma efectiva algunos de los conocimientos obtenidos en el módulo 11. \n",
    "\n",
    "El Capstone posee un enfoque decididamente práctico, de forma que su resolución permitirá a los/as alumnos/as desplegar una pequeña aplicación en la nube que, de manera recurrente, consulte el estado de las carteleras de cine a través de llamadas a un API de terceros. El resultado de dichas consultas será almacenado a través de los servicios de almacenamiento de AWS. Además, los datos más relevantes serán almacenados en una base de datos no relacional, la cual permitirá realizar futuras consultas a través de un API construida sobre funciones Lambda. \n",
    "\n",
    "La validación de la aplicación desarrollada se podrá realizar desde la libreta actual. \n",
    "\n",
    "Cualquier alumno/a puede sentirse libre de ampliar los objetivos del Capstone."
   ]
  },
  {
   "cell_type": "markdown",
   "metadata": {},
   "source": [
    "<div style=\"text-align: right\">\n",
    "<a href=\"#inicio\"><font size=5><i class=\"fa fa-arrow-circle-up\" aria-hidden=\"true\" style=\"color:#00586D\"></i></font></a>\n",
    "</div>\n",
    "\n",
    "---"
   ]
  },
  {
   "cell_type": "markdown",
   "metadata": {},
   "source": [
    "<a id=\"section2\"></a> \n",
    "# <font color=\"#00586D\"> 2. Presentación de la arquitectura</font>\n",
    "\n",
    "Durante el Capstone se desarrollará y desplegará una aplicación con la siguiente funcionalidad:\n",
    "<ol type=\"A\">\n",
    "    <li> Consultará datos a través de un API externa, que permite obtener información sobre las películas que actualmente se encuentran proyectadas en los cines. Inicialmente, las consultas se harán a través del uso de la librería request dentro de la libreta actual</li>\n",
    "    <li> Almacenará los datos obtenidos con cada llamada, en forma de ficheros .json, usando el servicio de almacenamiento AWS S3. Estos ficheros se organizarán a través de un nombrado que refleje la fecha en la que han sido obtenidos</li>\n",
    "    <li> Mantendrá actualizada una base de datos, creada en AWS DynamoDB, con una serie de datos clave para toda película de la que hayamos obtenido información. El proceso de actualización se iniciará ante la presencia de nuevos ficheros en AWS S3.\n",
    "    <li> Ofrecerá consultas a la base de datos que permitan obtener películas que cumplan determinadas condiciones </li>\n",
    "        <ol>\n",
    "            <li> Películas lanzadas en mes en concreto </li>\n",
    "            <li> Películas con una valoración por encima de un umbral</li>\n",
    "        </ol>    \n",
    "    <li> Automatizará las consultas a la API externa a través del despliegue de una función AWS Lambda</li>    \n",
    "    <li> Ofrecerá las consultas a la base de datos a través de un API desplegado con API Gateway + AWS Lambda</li>    \n",
    "</ol>\n",
    "\n",
    "La arquitectura de la aplicación se muestra en la siguiente imagen: \n",
    "  \n",
    "<img src=\"img/arquitectura.png\" alt=\"Arquitectura del capstone\">"
   ]
  },
  {
   "cell_type": "markdown",
   "metadata": {},
   "source": [
    "<div style=\"text-align: right\">\n",
    "<a href=\"#inicio\"><font size=5><i class=\"fa fa-arrow-circle-up\" aria-hidden=\"true\" style=\"color:#00586D\"></i></font></a>\n",
    "</div>\n",
    "\n",
    "---"
   ]
  },
  {
   "cell_type": "markdown",
   "metadata": {},
   "source": [
    "<a id=\"section3\"></a> \n",
    "# <font color=\"#00586D\" size=5> 3. Acciones a realizar </font>\n",
    "\n",
    "En esta sección se plantean una serie de ejercicios. Cada ejercicio amplía, de forma incremental, la funcionalidad de la aplicación."
   ]
  },
  {
   "cell_type": "markdown",
   "metadata": {},
   "source": [
    "<font color=\"#00586D\" size=3><b><i class=\"fa fa-pencil-square-o\" aria-hidden=\"true\" style=\"color:#113D68\"></i> EJERCICIO 0:</b></font> Uso del API \"The Movie Database API\"\n",
    "\n",
    "Tal y como se ha visto en otros módulos, para consumir el API debemos obtener un `API Key` que nos identifique durante nuestras consultas.\n",
    "\n",
    "La API de TMDb requiere auntentificación, por lo que para trabajar con ella es necesario, en primer lugar, disponer de un usuario. Una vez hecho el registro en el sitio, es necesario solicitar una clave para el uso de la API. Las instrucciones detalladas se muestran en esta página ([enlace](https://developers.themoviedb.org/3/getting-started/introduction)). Este proceso es sencillo, y básicamente consiste en 3 pasos:\n",
    "\n",
    "- Entrar en la configuración de la cuenta personal.\n",
    "- Entrar en el menú de la API.\n",
    "- Crear la API e identificar el token (lo usaremos como `API KEY`)\n",
    "\n",
    " \n",
    "Una vez obtenido el API, podemos utilizarlo para realizar cualquier consulta de las incluidas en la documentación (https://developers.themoviedb.org/3/movies). \n",
    "\n",
    "Durante el capstone, haremos uso de la llamada now_playing, la cual nos da los siguientes datos para cada película proyectada actualmente en cines:\n",
    "\n",
    "- poster_path: string con valores para generar una URL al poster de la película\n",
    "- adult: valor boolean que nos indica si es una película para adultos o no\n",
    "- overview: string con el resumen de la película\n",
    "- release_date: string con la fecha de lanzamiento\n",
    "- id: número entero que sirve de identificador único\n",
    "- popularity: número entero con la popularidad actual\n",
    "- vote_average: número entero con el valor medio de los votos realizados hasta la fecha\n",
    "- vote_count: número entero que indica el número de votos realizados\n",
    "- otros campos que podemos consultar desde https://developers.themoviedb.org/3/movies/get-now-playing\n",
    "\n"
   ]
  },
  {
   "cell_type": "markdown",
   "metadata": {},
   "source": [
    "<font color=\"#00586D\" size=3><b><i class=\"fa fa-pencil-square-o\" aria-hidden=\"true\" style=\"color:#113D68\"></i> VALIDACIÓN</b></font>\n",
    "\n",
    "Utilizando alguna herramienta tipo POSTMAN, realiza una llamada a la URL https://api.themoviedb.org/3/movie/now_playing?api_key=TU_CLAVE reemplazando TU_CLAVE por el API Key personal. \n",
    "\n",
    "Pegad los datos obtenidos para las 3 primeras películas en la siguiente celda:"
   ]
  },
  {
   "cell_type": "raw",
   "metadata": {},
   "source": [
    "\"results\": [{\"adult\": false,\n",
    "            \"backdrop_path\": \"/xDMIl84Qo5Tsu62c9DGWhmPI67A.jpg\",\n",
    "            \"genre_ids\": [28,12,878],\n",
    "            \"id\": 505642,\n",
    "            \"original_language\": \"en\",\n",
    "            \"original_title\": \"Black Panther: Wakanda Forever\",\n",
    "            \"overview\": \"Queen Ramonda, Shuri, M’Baku, Okoye and the Dora Milaje fight to protect their nation from intervening world powers in the wake of King T’Challa’s death.  As the Wakandans strive to embrace their next chapter, the heroes must band together with the help of War Dog Nakia and Everett Ross and forge a new path for the kingdom of Wakanda.\",\n",
    "            \"popularity\": 3945.363,\n",
    "            \"poster_path\": \"/sv1xJUazXeYqALzczSZ3O6nkH75.jpg\",\n",
    "            \"release_date\": \"2022-11-09\",\n",
    "            \"title\": \"Black Panther: Wakanda Forever\",\n",
    "            \"video\": false,\n",
    "            \"vote_average\": 7.4,\n",
    "            \"vote_count\": 3387},{\"adult\": false,\n",
    "            \"backdrop_path\": \"/9Rq14Eyrf7Tu1xk0Pl7VcNbNh1n.jpg\",\n",
    "            \"genre_ids\": [28,12,53],\n",
    "            \"id\": 646389,\n",
    "            \"original_language\": \"en\",\n",
    "            \"original_title\": \"Plane\",\n",
    "            \"overview\": \"After a heroic job of successfully landing his storm-damaged aircraft in a war zone, a fearless pilot finds himself between the agendas of multiple militias planning to take the plane and its passengers hostage.\",\n",
    "            \"popularity\": 2943.376,\n",
    "            \"poster_path\": \"/qi9r5xBgcc9KTxlOLjssEbDgO0J.jpg\",\n",
    "            \"release_date\": \"2023-01-13\",\n",
    "            \"title\": \"Plane\",\n",
    "            \"video\": false,\n",
    "            \"vote_average\": 6.8,\n",
    "            \"vote_count\": 511},{ \"adult\": false,\n",
    "            \"backdrop_path\": \"/b1Y8SUb12gPHCSSSNlbX4nB3IKy.jpg\",\n",
    "            \"genre_ids\": [16,12,35,10751,14],\n",
    "            \"id\": 315162,\n",
    "            \"original_language\": \"en\",\n",
    "            \"original_title\": \"Puss in Boots: The Last Wish\",\n",
    "            \"overview\": \"Puss in Boots discovers that his passion for adventure has taken its toll: He has burned through eight of his nine lives, leaving him with only one life left. Puss sets out on an epic journey to find the mythical Last Wish and restore his nine lives.\",\n",
    "            \"popularity\": 2887.698,\n",
    "            \"poster_path\": \"/kuf6dutpsT0vSVehic3EZIqkOBt.jpg\",\n",
    "            \"release_date\": \"2022-12-07\",\n",
    "            \"title\": \"Puss in Boots: The Last Wish\",\n",
    "            \"video\": false,\n",
    "            \"vote_average\": 8.5,\n",
    "            \"vote_count\": 3912}] # DATOS DE PELÍCULAS"
   ]
  },
  {
   "cell_type": "markdown",
   "metadata": {},
   "source": [
    "<font color=\"#00586D\" size=3><b><i class=\"fa fa-pencil-square-o\" aria-hidden=\"true\" style=\"color:#113D68\"></i> EJERCICIO 1:</b></font> Consulta a través de requests\n",
    "\n",
    "- Rellenad la celda de código a continuación para realizar una consulta a través del uso de la librería requests\n",
    "  -  Incluid el valor del API KEY previamente obtenido\n",
    "- Sabiendo que los datos se obtienen ordenados por popularidad, añadid un valor a cada resultado llamado rank con la posición de la película\n",
    "   - La película en la posición 0 del array tendrá el valor de ranking 1\n",
    "   - La película en la posición 1 del array tendrá el valor de ranking 2\n",
    "   - La película en la posición n-1 del array tendrá el valor de ranking n"
   ]
  },
  {
   "cell_type": "code",
   "execution_count": 11,
   "metadata": {
    "scrolled": true,
    "tags": []
   },
   "outputs": [],
   "source": [
    "import requests\n",
    "API_KEY = \"48d3ceb3beebe199b6af13cb558072a5\"\n",
    "response = requests.get(f\"https://api.themoviedb.org/3/movie/now_playing?api_key={API_KEY}\")\n",
    "if response.status_code == 200:\n",
    "    results = response.json()['results']\n",
    "    for i, result in enumerate(results):\n",
    "        result['rank'] = i + 1\n",
    "else:\n",
    "    print(\"Error: no se han obtenido datos de la pelicula\")"
   ]
  },
  {
   "cell_type": "code",
   "execution_count": 12,
   "metadata": {
    "scrolled": true,
    "tags": []
   },
   "outputs": [
    {
     "data": {
      "text/plain": [
       "[{'adult': False,\n",
       "  'backdrop_path': '/xDMIl84Qo5Tsu62c9DGWhmPI67A.jpg',\n",
       "  'genre_ids': [28, 12, 878],\n",
       "  'id': 505642,\n",
       "  'original_language': 'en',\n",
       "  'original_title': 'Black Panther: Wakanda Forever',\n",
       "  'overview': 'Queen Ramonda, Shuri, M’Baku, Okoye and the Dora Milaje fight to protect their nation from intervening world powers in the wake of King T’Challa’s death.  As the Wakandans strive to embrace their next chapter, the heroes must band together with the help of War Dog Nakia and Everett Ross and forge a new path for the kingdom of Wakanda.',\n",
       "  'popularity': 2723.956,\n",
       "  'poster_path': '/sv1xJUazXeYqALzczSZ3O6nkH75.jpg',\n",
       "  'release_date': '2022-11-09',\n",
       "  'title': 'Black Panther: Wakanda Forever',\n",
       "  'video': False,\n",
       "  'vote_average': 7.3,\n",
       "  'vote_count': 4037,\n",
       "  'rank': 1},\n",
       " {'adult': False,\n",
       "  'backdrop_path': '/jr8tSoJGj33XLgFBy6lmZhpGQNu.jpg',\n",
       "  'genre_ids': [16, 12, 35, 10751],\n",
       "  'id': 315162,\n",
       "  'original_language': 'en',\n",
       "  'original_title': 'Puss in Boots: The Last Wish',\n",
       "  'overview': 'Puss in Boots discovers that his passion for adventure has taken its toll: He has burned through eight of his nine lives, leaving him with only one life left. Puss sets out on an epic journey to find the mythical Last Wish and restore his nine lives.',\n",
       "  'popularity': 3180.495,\n",
       "  'poster_path': '/kuf6dutpsT0vSVehic3EZIqkOBt.jpg',\n",
       "  'release_date': '2022-12-07',\n",
       "  'title': 'Puss in Boots: The Last Wish',\n",
       "  'video': False,\n",
       "  'vote_average': 8.4,\n",
       "  'vote_count': 4496,\n",
       "  'rank': 2},\n",
       " {'adult': False,\n",
       "  'backdrop_path': '/pxJbfnMIQQxCrdeLD0zQnWr6ouL.jpg',\n",
       "  'genre_ids': [28, 35, 53],\n",
       "  'id': 1077280,\n",
       "  'original_language': 'en',\n",
       "  'original_title': 'Die Hart',\n",
       "  'overview': 'Kevin Hart - playing a version of himself - is on a death-defying quest to become an action star. And with a little help from John Travolta, Nathalie Emmanuel, and Josh Hartnett - he just might pull it off.',\n",
       "  'popularity': 2691.49,\n",
       "  'poster_path': '/1EnBjTJ5utgT1OXYBZ8YwByRCzP.jpg',\n",
       "  'release_date': '2023-02-22',\n",
       "  'title': 'Die Hart',\n",
       "  'video': False,\n",
       "  'vote_average': 6.3,\n",
       "  'vote_count': 161,\n",
       "  'rank': 3}]"
      ]
     },
     "execution_count": 12,
     "metadata": {},
     "output_type": "execute_result"
    }
   ],
   "source": [
    "results[:3]"
   ]
  },
  {
   "cell_type": "markdown",
   "metadata": {
    "tags": []
   },
   "source": [
    "<font color=\"#00586D\" size=3><b><i class=\"fa fa-pencil-square-o\" aria-hidden=\"true\" style=\"color:#113D68\"></i> VALIDACIÓN</b></font>\n",
    "\n",
    "Utilizando el código anterior, pegad los datos obtenidos para las 3 primeras películas (includo el campo rank) en la siguiente celda:"
   ]
  },
  {
   "cell_type": "raw",
   "metadata": {
    "tags": []
   },
   "source": [
    "\"results\": [{'adult': False,\n",
    "  'backdrop_path': '/irwQcdjwtjLnaA0iErabab9PrmG.jpg',\n",
    "  'genre_ids': [28, 12, 53],\n",
    "  'id': 646389,\n",
    "  'original_language': 'en',\n",
    "  'original_title': 'Plane',\n",
    "  'overview': 'After a heroic job of successfully landing his storm-damaged aircraft in a war zone, a fearless pilot finds himself between the agendas of multiple militias planning to take the plane and its passengers hostage.',\n",
    "  'popularity': 2277.913,\n",
    "  'poster_path': '/qi9r5xBgcc9KTxlOLjssEbDgO0J.jpg',\n",
    "  'release_date': '2023-01-12',\n",
    "  'title': 'Plane',\n",
    "  'video': False,\n",
    "  'vote_average': 6.9,\n",
    "  'vote_count': 683,\n",
    "  'rank': 1},{'adult': False,\n",
    "  'backdrop_path': '/xDMIl84Qo5Tsu62c9DGWhmPI67A.jpg',\n",
    "  'genre_ids': [28, 12, 878],\n",
    "  'id': 505642,\n",
    "  'original_language': 'en',\n",
    "  'original_title': 'Black Panther: Wakanda Forever',\n",
    "  'overview': 'Queen Ramonda, Shuri, M’Baku, Okoye and the Dora Milaje fight to protect their nation from intervening world powers in the wake of King T’Challa’s death.  As the Wakandans strive to embrace their next chapter, the heroes must band together with the help of War Dog Nakia and Everett Ross and forge a new path for the kingdom of Wakanda.',\n",
    "  'popularity': 2605.02,\n",
    "  'poster_path': '/sv1xJUazXeYqALzczSZ3O6nkH75.jpg',\n",
    "  'release_date': '2022-11-09',\n",
    "  'title': 'Black Panther: Wakanda Forever',\n",
    "  'video': False,\n",
    "  'vote_average': 7.4,\n",
    "  'vote_count': 3660,\n",
    "  'rank': 2},{'adult': False,\n",
    "  'backdrop_path': '/hegMHNsxYGlGgVgaGz9FqxPqImr.jpg',\n",
    "  'genre_ids': [27, 9648, 53],\n",
    "  'id': 631842,\n",
    "  'original_language': 'en',\n",
    "  'original_title': 'Knock at the Cabin',\n",
    "  'overview': 'While vacationing at a remote cabin, a young girl and her two fathers are taken hostage by four armed strangers who demand that the family make an unthinkable choice to avert the apocalypse. With limited access to the outside world, the family must decide what they believe before all is lost.',\n",
    "  'popularity': 3287.614,\n",
    "  'poster_path': '/dm06L9pxDOL9jNSK4Cb6y139rrG.jpg',\n",
    "  'release_date': '2023-02-01',\n",
    "  'title': 'Knock at the Cabin',\n",
    "  'video': False,\n",
    "  'vote_average': 6.5,\n",
    "  'vote_count': 608,\n",
    "  'rank': 3}] # DATOS DE PELÍCULAS"
   ]
  },
  {
   "cell_type": "markdown",
   "metadata": {},
   "source": [
    "<div style=\"text-align: right\"><font size=4> <i class=\"fa fa-check-square-o\" aria-hidden=\"true\" style=\"color:#113D68\"></i>\n",
    " </font></div>"
   ]
  },
  {
   "cell_type": "markdown",
   "metadata": {},
   "source": [
    "<font color=\"#00586D\" size=3><b><i class=\"fa fa-pencil-square-o\" aria-hidden=\"true\" style=\"color:#113D68\"></i> EJERCICIO 2:</b></font> Subida de datos a S3\n",
    "\n",
    "- Cread un bucket de S3 con el nombre `mcidaen3.capstone11.movies.raw.data.<tu-nombre>`.   \n",
    "  - Lo haremos desde la consola de AWS\n",
    "- Rellenad la celda de código a continuación para que, tras consultar datos al API de películas e incluir el campo rank, se genere un objeto por cada resultado\n",
    "- Path del objeto a crear /movies/ID_MOVIE/AÑO_MES_DIA.json\n",
    "  - ID_MOVIE se corresponde con el id de la película\n",
    "  - AÑO/MES/DÍA con la fecha de la consulta\n",
    "  \n",
    " Por ejemplo, si la consulta obtiene 4 películas, la ejecución de la celda debe generar 4 ficheros .json que se subirán, usando para ello la librería boto3, al bucket de S3 como objetos"
   ]
  },
  {
   "cell_type": "code",
   "execution_count": 40,
   "metadata": {
    "tags": []
   },
   "outputs": [
    {
     "name": "stdout",
     "output_type": "stream",
     "text": [
      "Carpeta creada correctamente\n",
      "Objeto subido correctamente: movies/502356/2023_05_02.json\n",
      "Objeto subido correctamente: movies/594767/2023_05_02.json\n",
      "Objeto subido correctamente: movies/934433/2023_05_02.json\n",
      "Objeto subido correctamente: movies/713704/2023_05_02.json\n",
      "Objeto subido correctamente: movies/315162/2023_05_02.json\n",
      "Objeto subido correctamente: movies/603692/2023_05_02.json\n",
      "Objeto subido correctamente: movies/1008005/2023_05_02.json\n",
      "Objeto subido correctamente: movies/804150/2023_05_02.json\n",
      "Objeto subido correctamente: movies/700391/2023_05_02.json\n",
      "Objeto subido correctamente: movies/758323/2023_05_02.json\n",
      "Objeto subido correctamente: movies/842945/2023_05_02.json\n",
      "Objeto subido correctamente: movies/980078/2023_05_02.json\n",
      "Objeto subido correctamente: movies/983768/2023_05_02.json\n",
      "Objeto subido correctamente: movies/816904/2023_05_02.json\n",
      "Objeto subido correctamente: movies/536554/2023_05_02.json\n",
      "Objeto subido correctamente: movies/646389/2023_05_02.json\n",
      "Objeto subido correctamente: movies/455476/2023_05_02.json\n",
      "Objeto subido correctamente: movies/840326/2023_05_02.json\n",
      "Objeto subido correctamente: movies/631842/2023_05_02.json\n",
      "Objeto subido correctamente: movies/758009/2023_05_02.json\n"
     ]
    }
   ],
   "source": [
    "import requests\n",
    "import json\n",
    "import boto3    \n",
    "from datetime import datetime\n",
    "\n",
    "NOMBRE_BUCKET = \"mcidaen3.capstone11.movies.raw.data.sergiosaez\" # Creado desde la consola de AWS \n",
    "now = datetime.now()\n",
    "year_month_day = now.strftime(\"%Y_%m_%d\") # Obtener dígitos del año, mes y día\n",
    "\n",
    "\n",
    "# 1.- OBTENER DATOS DEL API MOVIES DB (COPIAD DEL EJERCICIO 1)\n",
    "\n",
    "API_KEY = \"48d3ceb3beebe199b6af13cb558072a5\"\n",
    "response = requests.get(f\"https://api.themoviedb.org/3/movie/now_playing?api_key={API_KEY}\")\n",
    "if response.status_code == 200:\n",
    "    results = response.json()['results']\n",
    "    for i, result in enumerate(results):\n",
    "        result['rank'] = i + 1\n",
    "else:\n",
    "    print(\"Error: no se han obtenido datos de la pelicula\")\n",
    "    \n",
    "# 2.- CONFIGURAD EL CLIENTE Y RECURSO DE ACCESO A S3, Y VALIDAD SU USO (CREACIÓN DE CARPETA)\n",
    "    \n",
    "s3_client = boto3.client('s3', region_name='us-east-1')\n",
    "s3_resource = boto3.resource('s3', region_name='us-east-1')\n",
    "\n",
    "try:\n",
    "    s3_client.put_object(Bucket=NOMBRE_BUCKET, Key='movies/')\n",
    "    print('Carpeta creada correctamente')\n",
    "except Exception as e:\n",
    "    print(e) \n",
    "\n",
    "\n",
    "# 3.- SUBID A S3 UN OBJETO POR RESULTADO OBTENIDO EN EL PASO 1\n",
    "\n",
    "# COMPLETAD CON CODIGO\n",
    "for result in results:\n",
    "    movie_id = str(result['id'])\n",
    "    path = f\"movies/{movie_id}/{year_month_day}.json\"\n",
    "    data = json.dumps(result)\n",
    "\n",
    "    try:\n",
    "        s3_client.put_object(Bucket=NOMBRE_BUCKET, Key=path, Body=data)\n",
    "        print(f\"Objeto subido correctamente: {path}\")\n",
    "        \n",
    "    except Exception as e:\n",
    "        print(e)"
   ]
  },
  {
   "cell_type": "markdown",
   "metadata": {},
   "source": [
    "<font color=\"#00586D\" size=3><b><i class=\"fa fa-pencil-square-o\" aria-hidden=\"true\" style=\"color:#113D68\"></i> VALIDACIÓN</b></font>\n",
    "\n",
    "- Ejecutad el código anterior y comprobad que se han generado entradas en S3\n",
    "- Generad una imagen, con un pantallazo que muestre el contenido de la carpeta movies en S3, y guardadla en la ruta (junto al notebook) `/img/eje_2.png`"
   ]
  },
  {
   "cell_type": "markdown",
   "metadata": {},
   "source": [
    "<img src=\"img/eje_2.png\" alt=\"Validacion 2\">"
   ]
  },
  {
   "cell_type": "markdown",
   "metadata": {},
   "source": [
    "<div style=\"text-align: right\"><font size=4> <i class=\"fa fa-check-square-o\" aria-hidden=\"true\" style=\"color:#113D68\"></i>\n",
    " </font></div>"
   ]
  },
  {
   "cell_type": "markdown",
   "metadata": {},
   "source": [
    "<font color=\"#00586D\" size=3><b><i class=\"fa fa-pencil-square-o\" aria-hidden=\"true\" style=\"color:#113D68\"></i> EJERCICIO 3:</b></font> Almacenamiento de datos en DynamoDB\n",
    "\n",
    "Para facilitar futuras consultas, vamos a almacenar datos de las películas en una base de datos de DynamoDB. Para ello, crearemos una tabla de DynamoDB a través de la consola de AWS con la siguiente configuración:\n",
    "\n",
    "- Nombre: MoviesDB\n",
    "- Partition Key: id (string)\n",
    "- Global Secondary Index\n",
    "  - Partition Key: y_m (string)\n",
    "     - Representa la fecha de lanzamiento de la película (release_date)\n",
    "     - Compuesto por el año (4 dígitos) y mes (2 dígitos). Por ejemplo 2023_01\n",
    "  - Sort Key: val (número)\n",
    "\n",
    "Para validar la tabla creada, vamos a generar una entrada a través de boto3. Para ello, rellenad la celda de código 3.1 de forma que el primer resultado consultado desde el API pueda guardarse en DynamoDB"
   ]
  },
  {
   "cell_type": "code",
   "execution_count": 1,
   "metadata": {},
   "outputs": [
    {
     "data": {
      "text/plain": [
       "{'ResponseMetadata': {'RequestId': 'K5BN1M4E322HAD560IS9V4TFKRVV4KQNSO5AEMVJF66Q9ASUAAJG',\n",
       "  'HTTPStatusCode': 200,\n",
       "  'HTTPHeaders': {'server': 'Server',\n",
       "   'date': 'Mon, 13 Mar 2023 09:32:12 GMT',\n",
       "   'content-type': 'application/x-amz-json-1.0',\n",
       "   'content-length': '2',\n",
       "   'connection': 'keep-alive',\n",
       "   'x-amzn-requestid': 'K5BN1M4E322HAD560IS9V4TFKRVV4KQNSO5AEMVJF66Q9ASUAAJG',\n",
       "   'x-amz-crc32': '2745614147'},\n",
       "  'RetryAttempts': 0}}"
      ]
     },
     "execution_count": 1,
     "metadata": {},
     "output_type": "execute_result"
    }
   ],
   "source": [
    "# CELDA 3.1\n",
    "\n",
    "import requests\n",
    "import json\n",
    "import boto3    \n",
    "from decimal import Decimal\n",
    "\n",
    "NOMBRE_TABLA = \"MoviesDB\"\n",
    "\n",
    "# 1.- OBTENER DATOS DEL API MOVIES DB (COPIAD DEL EJERCICIO 1)\n",
    "\n",
    "API_KEY = \"48d3ceb3beebe199b6af13cb558072a5\"\n",
    "response = requests.get(f\"https://api.themoviedb.org/3/movie/now_playing?api_key={API_KEY}\")\n",
    "if response.status_code == 200:\n",
    "    results = response.json()['results']\n",
    "    for i, result in enumerate(results):\n",
    "        result['rank'] = i + 1\n",
    "else:\n",
    "    print(\"Error: no se han obtenido datos de la pelicula\")\n",
    "\n",
    "# 2.- CONFIGURAD EL RECURSO Y TABLA DE DYNAMO_DB\n",
    "    \n",
    "dynamodb_resource = boto3.resource('dynamodb', region_name='us-east-1')\n",
    "dybamodb_table = dynamodb_resource.Table(NOMBRE_TABLA)\n",
    "\n",
    "# 3.- MODIFICAD EL FORMATO DE LOS DATOS OBTENIDOS PARA QUE PUEDAN GUARDARSE EN DYNAMO_DB\n",
    "\n",
    "for result in results:\n",
    "    result['id'] = str(result['id'])\n",
    "    date = result['release_date']\n",
    "    year_month = date[0:7].replace('-', '_')\n",
    "    result['y_m'] = year_month\n",
    "    result['vote_average'] = result['vote_average']\n",
    "\n",
    "# 4.- GUARDAD UNA ÚNICA ENTRADA EN DYNAMO DB, USANDO EL MÉTODO A CONTINUACIÓN\n",
    "\n",
    "single_element = results[0]\n",
    "dybamodb_table.put_item(Item=json.loads(json.dumps(single_element), parse_float=Decimal))"
   ]
  },
  {
   "cell_type": "markdown",
   "metadata": {},
   "source": [
    "<font color=\"#00586D\" size=3><b><i class=\"fa fa-pencil-square-o\" aria-hidden=\"true\" style=\"color:#113D68\"></i> VALIDACIÓN</b></font>\n",
    "\n",
    "- Ejecutad el código anterior y comprobad que se ha generado una entradas en DynamoDB\n",
    "- Generad una imagen, con un pantallazo que muestre el contenido de la tabla movies en DynamoDB, y guardadla en la ruta (junto al notebook) `/img/eje_3.png`\n",
    "- Pegad el contenido final de la lambda en la celda 3.2"
   ]
  },
  {
   "cell_type": "raw",
   "metadata": {},
   "source": [
    "# CELDA 3.2"
   ]
  },
  {
   "cell_type": "markdown",
   "metadata": {},
   "source": [
    "<img src=\"img/eje_3.png\" alt=\"Validacion 3\">"
   ]
  },
  {
   "cell_type": "markdown",
   "metadata": {},
   "source": [
    "<div class=\"alert alert-block alert-info\">\n",
    "    \n",
    "<i class=\"fa fa-exclamation-triangle\" aria-hidden=\"true\"></i>\n",
    "    <b>NOTA:</b> Puede que necesitemos cambiar el tipo de algunos campos para que puedan utilizarse como claves de partición u ordenación.\n",
    "</div>"
   ]
  },
  {
   "cell_type": "markdown",
   "metadata": {},
   "source": [
    "<div style=\"text-align: right\"><font size=4> <i class=\"fa fa-check-square-o\" aria-hidden=\"true\" style=\"color:#113D68\"></i>\n",
    " </font></div>"
   ]
  },
  {
   "cell_type": "markdown",
   "metadata": {},
   "source": [
    "<font color=\"#00586D\" size=3><b><i class=\"fa fa-pencil-square-o\" aria-hidden=\"true\" style=\"color:#113D68\"></i> EJERCICIO 4:</b></font> Automatización del proceso\n",
    "\n",
    "Queremos automatizar el proceso de añadir/actualizar los datos en nuestra tabla de DynamoDB. Para ello, usaremos una función lambda con las siguientes características:\n",
    "\n",
    "- Debe ejecutarse tras la creación de cualquier objeto en el bucket de S3 creado con anterioridad, bajo la ruta /movies\n",
    "  - Lo conseguiremos a través de un disparador/trigger\n",
    "- En caso de que no exista ninguna entrada previa para la película, se creará una entrada una vez se hayan generado campos adecuados para las claves de partición y ordenación\n",
    "  - Clave de partición: id\n",
    "  - GSI\n",
    "      - Clave de partición: y_m\n",
    "      - Clave de ordenación: val\n",
    "      \n",
    "Además, tendrá dos campos \"especiales\" con las siguientes características:\n",
    "  - rank_hist\n",
    "    - Representará un diccionario con la evolución de la posición de la película en los rankings a lo largo de las semanas\n",
    "    - Para ello, tendrá una entrada por cada semana en la que se haya consultado con el valor obtenido, donde fecha tendrá el formato año_nSemana (número de la semana/año en la que se ha consultado el ranking). \n",
    "      - Año estará representado por 4 dígitos\n",
    "      - nSemana estará representado por 2 dígitos \n",
    "    - Si realizamos una petición a fecha 15 de Enero, estaremos en la semana 2, mientras que el 16 estaremos en la semana 3\n",
    "    - Para la película más popular, añadiremos la entrada\n",
    "        - rank_hist = {\"2023_02\", 1}\n",
    "  - until_date\n",
    "    - Nos ayudará para consultar el número de días que una película se ha estado proyectando\n",
    "    - Guardará la fecha de la consulta en el mismo formato que el campo release_date (proporcionado por el API MoviesDB)\n",
    "        - yyyy-mm-dd\n",
    "        \n",
    "- En caso de que ya exista una entrada, actualizaremos sus valores de forma que \"podamos\" tener los siguientes cambios\n",
    "    - Nuevo valor para la valoración actual\n",
    "      - Campo val\n",
    "    - Actualización del campo until_date\n",
    "    - Nueva entrada en el campo rank_hist con el valor de la semana actual \n",
    "\n",
    "Para ello, se deben realizar las siguientes acciones:\n",
    "\n",
    "- Desarrollad en la celda de código 4.1 el código que se encargue de crear/actualizar entradas en DynamoDB, usando datos obtenidos previamente\n",
    "- En la consola de AWS, cread una función lambda que se ejecute ante las acciones de S3 indicadas previamente\n",
    "    - Incluir un disparador de S3 ante la creación de cualquier objeto\n",
    "- Desplegad el código desarrollado en la celda 4.1 en la función lambda anterior\n",
    "- Modificad el código para que los datos se obtengan desde el evento de la lambda\n",
    "  - El evento incluye el Bucket y clave del objeto de S3 disparó la ejecución (fichero .json)\n",
    "  - Utilizad boto3 para leer el contenido del fichero\n",
    "  - La celda 4.2 incluye algún código que pueda servir de ayuda\n",
    "- Desplegad la función lambda tras los cambios\n",
    "- Ejecutad alguna celda anterior que genere entradas en S3 a partir de llamadas al API de películas y comprobad el resultado\n",
    "  - También podemos bajar y subir alguno de los .json que ya estén en el bcuket, usando la consola de AWS"
   ]
  },
  {
   "cell_type": "markdown",
   "metadata": {},
   "source": [
    "<div class=\"alert alert-block alert-info\">\n",
    "    \n",
    "<i class=\"fa fa-exclamation-triangle\" aria-hidden=\"true\">\n",
    "    </i>\n",
    "    <b>NOTA</b> Se valorará positivamente el uso de la función 'update_item' de boto3 con una 'update expression' que actualice los valores que pueden cambiar sin necesidad de hacer una 'query' previa de consulta.\n",
    "</div>"
   ]
  },
  {
   "cell_type": "code",
   "execution_count": null,
   "metadata": {},
   "outputs": [],
   "source": [
    "# CELDA 4.1\n",
    "\n",
    "import requests\n",
    "import json\n",
    "import boto3    \n",
    "from decimal import Decimal\n",
    "\n",
    "NOMBRE_TABLA = \"MoviesDB\"\n",
    "\n",
    "# 1.- OBTENER DATOS DEL API MOVIES DB (COPIAD DEL EJERCICIO 1)\n",
    "\n",
    "API_KEY = \"48d3ceb3beebe199b6af13cb558072a5\"\n",
    "response = requests.get(f\"https://api.themoviedb.org/3/movie/now_playing?api_key={API_KEY}\")\n",
    "if response.status_code == 200:\n",
    "    results = response.json()['results']\n",
    "    for i, result in enumerate(results):\n",
    "        result['rank'] = i + 1\n",
    "else:\n",
    "    print(\"Error: no se han obtenido datos de la pelicula\")\n",
    "\n",
    "# 2.- CONFIGURAD EL RECURSO Y TABLA DE DYNAMO_DB\n",
    "    \n",
    "dynamodb_resource = boto3.resource('dynamodb', region_name='us-east-1')\n",
    "dybamodb_table = dynamodb_resource.Table(NOMBRE_TABLA)\n",
    "\n",
    "# 3.- MODIFICAD EL FORMATO DE LOS DATOS OBTENIDOS PARA QUE PUEDAN GUARDARSE EN DYNAMO_DB\n",
    "\n",
    "for result in results:\n",
    "    result['id'] = str(result['id'])\n",
    "    date = result['release_date']\n",
    "    year_month_day = datetime.strptime(date, '%Y-%m-%d').strftime('%Y_%m_%d')\n",
    "    result['until_date'] = year_month_day\n",
    "    result['vote_average'] = result['vote_average']\n",
    "    item = dybamodb_table.get_item(Key={'id': result['id']})\n",
    "    if 'Item' in item:\n",
    "        # Entry already exists, update fields\n",
    "        update_expression = 'SET vote_average = :va, until_date = :ud'\n",
    "        expression_attribute_values = {\n",
    "            ':va': result['vote_average'],\n",
    "            ':ud': result['until_date']\n",
    "        }\n",
    "        rank_hist = item['Item'].get('rank_hist', {})\n",
    "        current_week = datetime.now().strftime(\"%Y_%W\")\n",
    "        rank_hist[current_week] = result['rank']\n",
    "        expression_attribute_values[':rh'] = rank_hist\n",
    "        update_expression += ', rank_hist = :rh'\n",
    "        dybamodb_table.update_item(\n",
    "            Key={'id': result['id']},\n",
    "            UpdateExpression=update_expression,\n",
    "            ExpressionAttributeValues=expression_attribute_values\n",
    "        )\n",
    "    else:\n",
    "        result['rank_hist'] = {datetime.now().strftime(\"%Y_%W\"): result['rank']}\n",
    "        result['until_date'] = now.strftime('%Y-%m-%d')\n",
    "        dybamodb_table.put_item(Item=result)\n",
    "        \n",
    "# 4.- GUARDAD UNA ÚNICA ENTRADA EN DYNAMO DB, USANDO EL MÉTODO A CONTINUACIÓN\n",
    "\n",
    "single_element = results[0]\n",
    "dybamodb_table.put_item(Item=json.loads(json.dumps(single_element), parse_float=Decimal))\n",
    "\n",
    "# COPIAD EL CÓDIGO DEL EJERCICIO 3 E INTEGRAD LA LÓGICA PARA CREAR (SI NO EXISTEN) O ACTUALIZAR (SI EXISTEN) ENTRADAS"
   ]
  },
  {
   "cell_type": "code",
   "execution_count": null,
   "metadata": {},
   "outputs": [],
   "source": [
    "# CELDA 4.2\n",
    "\n",
    "import boto3\n",
    "import json\n",
    "import botocore\n",
    "from decimal import Decimal\n",
    "from datetime import datetime\n",
    "\n",
    "\n",
    "def lambda_handler(event, context):\n",
    "    \n",
    "    s3_resource = boto3.resource('s3', region_name='us-east-1')\n",
    "    now = datetime.now()    \n",
    "    year_number = now.isocalendar()[0]\n",
    "    week_number = now.isocalendar()[1]    \n",
    "    year_week = f'{year_number}_{week_number}'\n",
    "    \n",
    "    NOMBRE_TABLA = \"MoviesDB\"\n",
    "    \n",
    "    for record in event.get('Records', []):\n",
    "        # 1 LEER DATOS DESDE S3\n",
    "        bucket = record[\"s3\"][\"bucket\"][\"name\"]\n",
    "        key = record[\"s3\"][\"object\"][\"key\"]\n",
    "        obj = s3_resource.Object(bucket, key)\n",
    "        element = json.load(obj.get()['Body'])                \n",
    "        # COMPLETAD CON CODIGO\n",
    "        ..."
   ]
  },
  {
   "cell_type": "markdown",
   "metadata": {},
   "source": [
    "<font color=\"#00586D\" size=3><b><i class=\"fa fa-pencil-square-o\" aria-hidden=\"true\" style=\"color:#113D68\"></i> VALIDACIÓN</b></font>\n",
    "\n",
    "- Comprobad que al subir un fichero a S3 con datos de una película se ejecuta la lambda que acabamos de desplegar\n",
    "- Comprobad que la función lambda se ejecuta sin errores\n",
    "- Forzad la generación de ficheros en S3 a través de la ejecución de celdas anteriores\n",
    "- Generad una imagen, con un pantallazo que muestre la monitorización de la función lambda durante los últimos 15 minutos, y guardadla en la ruta (junto al notebook) `/img/eje_4_a.png`\n",
    "- Generad una imagen, con un pantallazo que muestre las entradadas en la tabla de DynamoDB, y guardadla en la ruta (junto al notebook) `/img/eje_4_b.png`\n",
    "- Pegad el contenido final de la lambda en la celda 4.3"
   ]
  },
  {
   "cell_type": "raw",
   "metadata": {},
   "source": [
    "# CELDA 4.3\n",
    "import json\n",
    "import boto3\n",
    "from datetime import datetime\n",
    "from decimal import Decimal\n",
    "\n",
    "NOMBRE_TABLA = \"MoviesDB\"\n",
    "\n",
    "dynamodb = boto3.resource('dynamodb')\n",
    "dybamodb_table = dynamodb.Table(NOMBRE_TABLA)\n",
    "\n",
    "def lambda_handler(event, context):\n",
    "    \n",
    "    s3_resource = boto3.resource('s3', region_name='us-east-1')\n",
    "    now = datetime.now()    \n",
    "    year_number = now.isocalendar()[0]\n",
    "    week_number = now.isocalendar()[1]    \n",
    "    year_week = f'{year_number}_{week_number}'\n",
    "    \n",
    "    for record in event.get('Records', []):\n",
    "        # 1 LEER DATOS DESDE S3\n",
    "        bucket = record[\"s3\"][\"bucket\"][\"name\"]\n",
    "        key = record[\"s3\"][\"object\"][\"key\"]\n",
    "        obj = s3_resource.Object(bucket, key)\n",
    "        element = json.load(obj.get()['Body'])\n",
    "        # 2 CAMBIAR FORMATO DE DATOS\n",
    "        element['id'] = str(element['id'])\n",
    "        date = element['release_date']\n",
    "        year_month = date[0:7].replace('-', '_')\n",
    "        element['y_m'] = year_month\n",
    "        element['until_date'] = now.strftime('%Y-%m-%d')\n",
    "        element['vote_average'] = Decimal(str(element['vote_average']))\n",
    "        element['popularity'] = Decimal(str(element['popularity']))\n",
    "        item = dybamodb_table.get_item(Key={'id': element['id']})\n",
    "        # 3 ACTUALIZAR/CREAR ENTRADA EN BASE DE DATOS\n",
    "        if 'Item' in item:\n",
    "            # ACTUALIZAR ENTRADA EN BASE DE DATOS\n",
    "            update_expression = 'SET vote_average = :va, until_date = :ud'\n",
    "            expression_attribute_values = {\n",
    "                ':va': Decimal(str(element['vote_average'])),\n",
    "                ':ud': element['until_date']\n",
    "            }\n",
    "            rank_hist = item['Item'].get('rank_hist', {})\n",
    "            rank_hist[year_week] = Decimal(str(element['rank']))\n",
    "            expression_attribute_values[':rh'] = rank_hist\n",
    "            update_expression += ', rank_hist = :rh'\n",
    "            dybamodb_table.update_item(\n",
    "                Key={'id': element['id']},\n",
    "                UpdateExpression=update_expression,\n",
    "                ExpressionAttributeValues=expression_attribute_values\n",
    "            )\n",
    "        else:\n",
    "            # CREAR ENTRADA EN BASE DE DATOS\n",
    "            element['rank_hist'] = {year_week: element['rank']}\n",
    "            element['until_date'] = now.strftime('%Y-%m-%d')\n",
    "            dybamodb_table.put_item(Item=element)"
   ]
  },
  {
   "cell_type": "markdown",
   "metadata": {},
   "source": [
    "<img src=\"img/eje_4_a.png\" alt=\"Validacion 4a\">"
   ]
  },
  {
   "cell_type": "markdown",
   "metadata": {},
   "source": [
    "<img src=\"img/eje_4_b.png\" alt=\"Validacion 4b\">"
   ]
  },
  {
   "cell_type": "markdown",
   "metadata": {},
   "source": [
    "<div style=\"text-align: right\"><font size=4> <i class=\"fa fa-check-square-o\" aria-hidden=\"true\" style=\"color:#113D68\"></i>\n",
    " </font></div>"
   ]
  },
  {
   "cell_type": "markdown",
   "metadata": {},
   "source": [
    "<font color=\"#00586D\" size=3><b><i class=\"fa fa-pencil-square-o\" aria-hidden=\"true\" style=\"color:#113D68\"></i> EJERCICIO 5:</b></font> Automatización de la captura de datos\n",
    "\n",
    "Una vez tenemos todas las piezas del proceso, queremos proceder a automatizar la captura de datos, lo cual realizaremos a través de una función lambda desplegada en la nube.\n",
    "\n",
    "Esta función lambda tendrá un código similar al encargado de consultar el API de películas y generar nuevos objetos en S3. \n",
    "Una vez desplegada, nos encargaremos de añadir un _trigger_ que la ejecute cada 24 horas.\n",
    "\n",
    "Para que la función tenga un comportamiento correcto, necesitaremos que maneje dependencias adicionales para usar la librería _requests_, lo cual puede realizarse a través de una _layer_. Además, puede que necesitemos modificar los parámetros por defecto (timeout, memoria, ...)\n",
    "\n",
    "Se deben realizar las siguientes acciones:\n",
    "\n",
    "- Desplegad una función lambda, similar a la utilizada en el ejercicio 2, que consulte el API de películas y genere como resultado objetos .json en S3\n",
    "- Resolved los problemas que permitan utilizar la librería _requests_ a través del uso de la _layer_ \n",
    "- Modificad los parámetros de la lambda timeout/memoria en caso que de problemas de ejecución\n",
    "- Añadir un _trigger_ para que la función se ejecute cada día"
   ]
  },
  {
   "cell_type": "markdown",
   "metadata": {},
   "source": [
    "### Ejemplo de generación de la layer en linux/mac (revisad en Windows)\n",
    "\n",
    "```\n",
    "$ virtualenv --python=\"/usr/bin/python3.9\" .venv\n",
    "$ source .venv/\n",
    "$ source .venv/bin/activate\n",
    "$ mkdir python\n",
    "$ cd python/\n",
    "$ pip install requests -t ./\n",
    "$ cd ..\n",
    "$ zip -r python_modules.zip .\n",
    "```"
   ]
  },
  {
   "cell_type": "markdown",
   "metadata": {},
   "source": [
    "<font color=\"#00586D\" size=3><b><i class=\"fa fa-pencil-square-o\" aria-hidden=\"true\" style=\"color:#113D68\"></i> VALIDACIÓN</b></font>\n",
    "\n",
    "- Tras todos los pasos, comprobad que la función se ejecuta sin problemas\n",
    "- Modificad el trigger para que la función se ejecute cada minuto y esperad 5 minutos\n",
    "- Generad una imagen con un pantallazo que muestre la monitorización de la función lambda durante los últimos 5 minutos, y guardadla en la ruta (junto al notebook) `/img/eje_5.png`\n",
    "- Modificad el trigger para que la función se ejecute cada día"
   ]
  },
  {
   "cell_type": "markdown",
   "metadata": {},
   "source": [
    "<img src=\"img/eje_5.png\" alt=\"Validacion 5\">"
   ]
  },
  {
   "cell_type": "markdown",
   "metadata": {},
   "source": [
    "<div style=\"text-align: right\"><font size=4> <i class=\"fa fa-check-square-o\" aria-hidden=\"true\" style=\"color:#113D68\"></i>\n",
    " </font></div>"
   ]
  },
  {
   "cell_type": "markdown",
   "metadata": {
    "tags": []
   },
   "source": [
    "<font color=\"#00586D\" size=3><b><i class=\"fa fa-pencil-square-o\" aria-hidden=\"true\" style=\"color:#113D68\"></i> EJERCICIO 6:</b></font> API listado películas (dado mes y año)\n",
    "\n",
    "Durante este ejercicio, desarrollaremos una función lambda ejecutada tras la invocación de un endpoint de API Gateway. \n",
    "\n",
    "Para ello, generaremos una lambda que a partir de eventos con el siguiente formato: `{'pathParameters': {'month': '1', 'year': '2023'}}`, genere un listado adecuado. Dicho listado se obtiene a partir de una consulta a la base de datos DynamoDB usando las siguientes características:\n",
    "- Consulta de tipo _query_\n",
    "- Consulta realizada sobre el índice secundario global\n",
    "  - Se debe proporcionar un valor para el campo y_m para obtener los datos correctos\n",
    "- Ordenación descendente, de forma que se obtengan en las primeras posiciones las películas con mayor valoración\n",
    "- Limitar la consulta a 10 películas\n",
    "\n",
    "Para que el resultado (listado de películas) pueda interpretarse correctamente por API Gateway, lo incluiremos como json en la respuesta de la lambda, en concreto en el campo `body` (comprobad el contenido del código de la celda 6.1). \n",
    "\n",
    "Una vez desarrollada la lambda, la podemos validar en local realizando la siguiente llamada:\n",
    "\n",
    "`lambda_handler({'pathParameters': {'month': '12', 'year': '2022'}}, None)`\n",
    "\n",
    "Tras la validación de la lambda, desplegaremos un API a través de API Gateway que permita su invocación. Para ello, definiremos 1 recurso base llamado _/list_ sobre el cual añadiremos 1 subrecurso _/list/{year}_ y un (sub)subrecurso _/list/{year}/{month}_. Sobre el último subrecurso (_{month}_) añadiremos un método GET, el cual conectará las llamadas realizadas sobre `API_URL/stage/list/{year}/{month}` con la lambda anterior, donde _{year}_ y _{month}_ serán reemplazados por valores reales.\n",
    "\n",
    "El evento recibido por la lambda tendrá el formato previamente definido\n",
    "\n",
    "`{'pathParameters': {'month': 'MONTH', 'year': 'YEAR'}}`\n",
    "\n",
    "Se deben realizar las siguientes acciones:\n",
    "\n",
    "- Desarrollad una lambda a partir de la siguiente celda de código, de forma que al ejecutarla con el evento previamente definido, realice una consulta a DynamoDB\n",
    "- Validad la lambda desplegándola en AWS e invocándola con un evento compatible\n",
    "- Desplegad un API en API Gateway (API REST no privado) con los recursos/métodos ya definidos\n",
    "  - Arbol de recursos /list/{year}/{month}\n",
    "  - Método: GET sobre {month}, invocando la lambda previamente desplegada, y activando la opción _lambda proxy integration_\n",
    "- Validad el API de manera preliminar realizando llamadas a través de herramientas tipo POSTMAN\n",
    "    - Posteriormente validaremos el API al completo"
   ]
  },
  {
   "cell_type": "code",
   "execution_count": 1,
   "metadata": {
    "tags": []
   },
   "outputs": [],
   "source": [
    "# CELDA 6.1\n",
    "\n",
    "import boto3\n",
    "import decimal\n",
    "import json\n",
    "from boto3.dynamodb.conditions import Key\n",
    "\n",
    "NOMBRE_TABLA = \"MoviesDB\"\n",
    "dynamo_resource = boto3.resource('dynamodb', region_name='us-east-1')\n",
    "dynamo_table = dynamo_resource.Table(NOMBRE_TABLA)\n",
    "\n",
    "\n",
    "class DecimalEncoder(json.JSONEncoder):       # Necesario para manejar los tipos Decimal\n",
    "    def default(self, o):\n",
    "        if isinstance(o, decimal.Decimal):\n",
    "            return str(o)\n",
    "        return super(DecimalEncoder, self).default(o)\n",
    "    \n",
    "    \n",
    "def lambda_handler(event, context):\n",
    "    year = int(event['pathParameters']['year'])\n",
    "    month = int(event['pathParameters']['month'])\n",
    "    y_m = f'{year}_{month:02d}'\n",
    "    # REALIZAR CONSULTA A DYNAMO DB CON YEAR_MONTH, Y DEJAR EL RESULTADO (lista) EN LA VARIABLE ITEMS\n",
    "    response = dynamo_table.query(\n",
    "        IndexName='y_m',\n",
    "        KeyConditionExpression=Key('y_m').eq(y_m),\n",
    "        ScanIndexForward=False,\n",
    "        Limit=10\n",
    "    )\n",
    "    \n",
    "    items = response['Items']\n",
    "    \n",
    "    return {\n",
    "        'statusCode': 200,\n",
    "        'body': json.dumps(items, cls=DecimalEncoder)\n",
    "    } "
   ]
  },
  {
   "cell_type": "code",
   "execution_count": 2,
   "metadata": {},
   "outputs": [
    {
     "data": {
      "text/plain": [
       "{'statusCode': 200,\n",
       " 'body': '[{\"original_title\": \"Puss in Boots: The Last Wish\", \"genre_ids\": [\"16\", \"10751\", \"14\", \"12\", \"35\", \"18\"], \"adult\": false, \"y_m\": \"2022_12\", \"overview\": \"Puss in Boots discovers that his passion for adventure has taken its toll: He has burned through eight of his nine lives, leaving him with only one life left. Puss sets out on an epic journey to find the mythical Last Wish and restore his nine lives.\", \"vote_average\": \"8.3\", \"rank\": \"4\", \"rank_hist\": {\"2023_18\": \"5\", \"2023_17\": \"4\"}, \"popularity\": \"1347.259\", \"backdrop_path\": \"/ouB7hwclG7QI3INoYJHaZL4vOaa.jpg\", \"release_date\": \"2022-12-07\", \"original_language\": \"en\", \"vote_count\": \"5331\", \"until_date\": \"2023-05-02\", \"id\": \"315162\", \"poster_path\": \"/kuf6dutpsT0vSVehic3EZIqkOBt.jpg\", \"video\": false, \"title\": \"Puss in Boots: The Last Wish\"}, {\"original_title\": \"M3GAN\", \"genre_ids\": [\"878\", \"27\", \"35\"], \"adult\": false, \"y_m\": \"2022_12\", \"overview\": \"A brilliant toy company roboticist uses artificial intelligence to develop M3GAN, a life-like doll programmed to emotionally bond with her newly orphaned niece. But when the doll\\'s programming works too well, she becomes overprotective of her new friend with terrifying results.\", \"vote_average\": \"7.4\", \"rank\": \"15\", \"rank_hist\": {\"2023_18\": \"15\", \"2023_17\": \"14\"}, \"popularity\": \"715.958\", \"backdrop_path\": \"/dlrWhn0G3AtxYUx2D9P2bmzcsvF.jpg\", \"release_date\": \"2022-12-28\", \"original_language\": \"en\", \"vote_count\": \"2428\", \"until_date\": \"2023-05-02\", \"id\": \"536554\", \"poster_path\": \"/d9nBoowhjiiYc4FBNtQkPY7c11H.jpg\", \"video\": false, \"title\": \"M3GAN\"}, {\"genre_ids\": [\"16\", \"12\", \"35\", \"10751\", \"14\"], \"original_title\": \"The Amazing Maurice\", \"adult\": false, \"y_m\": \"2022_12\", \"overview\": \"Maurice is a streetwise ginger cat who comes up with a money-making scam by befriending a group of self-taught talking rats. When Maurice and the rodents meet a bookworm called Malicia, their little con soon goes down the drain.\", \"vote_average\": \"7\", \"rank\": \"17\", \"rank_hist\": {\"2023_18\": \"20\", \"2023_17\": \"13\"}, \"popularity\": \"515.629\", \"backdrop_path\": \"/70aVSo3fuZ94jyQ3rT64afEf8lV.jpg\", \"release_date\": \"2022-12-16\", \"original_language\": \"en\", \"vote_count\": \"61\", \"until_date\": \"2023-05-02\", \"id\": \"676710\", \"poster_path\": \"/ydhZeUjbzVEFclUpMhLfDZSavUY.jpg\", \"video\": false, \"title\": \"The Amazing Maurice\"}, {\"original_title\": \"Shotgun Wedding\", \"genre_ids\": [\"28\", \"35\", \"10749\"], \"adult\": false, \"y_m\": \"2022_12\", \"overview\": \"Darcy and Tom gather their families for the ultimate destination wedding but when the entire party is taken hostage, \\\\u201c\\\\u2019Til Death Do Us Part\\\\u201d takes on a whole new meaning in this hilarious, adrenaline-fueled adventure as Darcy and Tom must save their loved ones\\\\u2014if they don\\\\u2019t kill each other first.\", \"vote_average\": \"6.3\", \"rank\": \"18\", \"rank_hist\": {\"2023_17\": \"17\"}, \"popularity\": \"467.041\", \"backdrop_path\": \"/zGoZB4CboMzY1z4G3nU6BWnMDB2.jpg\", \"release_date\": \"2022-12-28\", \"original_language\": \"en\", \"vote_count\": \"775\", \"until_date\": \"2023-04-30\", \"id\": \"758009\", \"poster_path\": \"/t79ozwWnwekO0ADIzsFP1E5SkvR.jpg\", \"video\": false, \"title\": \"Shotgun Wedding\"}]'}"
      ]
     },
     "execution_count": 2,
     "metadata": {},
     "output_type": "execute_result"
    }
   ],
   "source": [
    "# VALIDACIÓN \n",
    "\n",
    "event = {'pathParameters': {'month': '12', 'year': '2022'}}\n",
    "lambda_handler(event, {})"
   ]
  },
  {
   "cell_type": "markdown",
   "metadata": {
    "tags": []
   },
   "source": [
    "<font color=\"#00586D\" size=3><b><i class=\"fa fa-pencil-square-o\" aria-hidden=\"true\" style=\"color:#113D68\"></i> EJERCICIO 7:</b></font> API detalles película (dado su id)\n",
    "\n",
    "Durante este ejercicio, desarrollaremos otra función lambda ejecutada tras la invocación de otro endpoint de API Gateway. \n",
    "\n",
    "Para ello, generaremos una lambda (desarrollada inicialmente en la celda 7.1) que a partir de eventos con el siguiente formato: `{'pathParameters': {'id': '76600'}}`, obtenga detalles para la película con el id proporcionado. Los detalles se obtienen a partir de una consulta a la base de datos DynamoDB usando las siguientes características:\n",
    "- Consulta de tipo _get_item()_\n",
    "- Consulta realizada sobre la tabla (usando la clave de partición)\n",
    "  - Se debe proporcionar un valor para el campo id\n",
    "\n",
    "Para que el resultado (detalles de la película) pueda interpretarse correctamente por API Gateway, lo incluiremos como json en la respuesta de la lambda, en concreto en el campo `body` (comprobad el contenido del código incluido). \n",
    "\n",
    "Una vez desarrollada la lambda, la podemos validar en local realizando la siguiente llamada:\n",
    "\n",
    "`lambda_handler({'pathParameters': {'id': '76600'}}, None)`\n",
    "\n",
    "Tras la validación de la lambda, desplegaremos un API a través de API Gateway que permita su invocación. Para ello, definiremos 1 nuevo recurso base llamado _/movies_ sobre el cual añadiremos 1 subrecurso _/movies/{id}_. Sobre el subrecurso (_{id}_) añadiremos un método GET, el cual conectará las llamadas realizadas sobre `API_URL/stage/movies/{id}` con la lambda anterior, donde _{id}_ será reemplazado por un valor real.\n",
    "\n",
    "El evento recibido por la lambda tendrá el formato previamente definido\n",
    "\n",
    "`{'pathParameters': {'id': 'MOVIE_ID'}}`\n",
    "\n",
    "Se deben realizar las siguientes acciones:\n",
    "\n",
    "- Desarrollad una lambda a partir de la siguiente celda de código, de forma que al ejecutarla con el evento previamente definido, realice una consulta a DynamoDB\n",
    "- Validad la lambda desplegándola en AWS e invocándola con un evento compatible\n",
    "- Cread los nuevos recursos/métodos sobre el API de API Gateway previamente desplegado\n",
    "  - Arbol de recursos /movies/{id}\n",
    "  - Método: GET sobre {id}, invocando la lambda previamente desplegada, y activando la opción _lambda proxy integration_\n",
    "- Desplegad de nuevo el API usando la opción implementar API\n",
    "- Validad el API de manera preliminar realizando llamadas a través de herramientas tipo POSTMAN\n",
    "    - Posteriormente validaremos el API al completo"
   ]
  },
  {
   "cell_type": "code",
   "execution_count": 3,
   "metadata": {
    "tags": []
   },
   "outputs": [],
   "source": [
    "# CELDA 7.1\n",
    "\n",
    "import boto3\n",
    "import decimal\n",
    "import json\n",
    "from boto3.dynamodb.conditions import Key\n",
    "\n",
    "NOMBRE_TABLA = \"MoviesDB\"\n",
    "dynamo_resource = boto3.resource('dynamodb', region_name='us-east-1')\n",
    "dynamo_table = dynamo_resource.Table(NOMBRE_TABLA)\n",
    "\n",
    "\n",
    "class DecimalEncoder(json.JSONEncoder):       # Necesario para manejar los tipos Decimal\n",
    "    def default(self, o):\n",
    "        if isinstance(o, decimal.Decimal):\n",
    "            return str(o)\n",
    "        return super(DecimalEncoder, self).default(o)\n",
    "    \n",
    "    \n",
    "def lambda_handler(event, context):\n",
    "    movie_id = event['pathParameters']['id']\n",
    "    # REALIZAR CONSULTA A DYNAMO DB CON movie_id, Y DEJAR EL RESULTADO (DICT) EN LA VARIABLE ITEM\n",
    "    response = dynamo_table.get_item(Key={'id': movie_id})\n",
    "    item = response['Item']\n",
    "    return {\n",
    "        'statusCode': 200,\n",
    "        'body': json.dumps(item, cls=DecimalEncoder)\n",
    "    } "
   ]
  },
  {
   "cell_type": "code",
   "execution_count": 6,
   "metadata": {},
   "outputs": [
    {
     "data": {
      "text/plain": [
       "{'statusCode': 200,\n",
       " 'body': '{\"genre_ids\": [\"27\", \"9648\", \"53\"], \"original_title\": \"Knock at the Cabin\", \"adult\": false, \"y_m\": \"2023_02\", \"overview\": \"While vacationing at a remote cabin, a young girl and her two fathers are taken hostage by four armed strangers who demand that the family make an unthinkable choice to avert the apocalypse. With limited access to the outside world, the family must decide what they believe before all is lost.\", \"vote_average\": \"6.4\", \"rank\": \"16\", \"popularity\": \"528.208\", \"rank_hist\": {\"2023_18\": \"19\", \"2023_17\": \"14\"}, \"backdrop_path\": \"/aHcWyh0n4YbBy9gxYCDlgsNVS3M.jpg\", \"release_date\": \"2023-02-01\", \"original_language\": \"en\", \"vote_count\": \"1337\", \"until_date\": \"2023-05-02\", \"id\": \"631842\", \"poster_path\": \"/dm06L9pxDOL9jNSK4Cb6y139rrG.jpg\", \"video\": false, \"title\": \"Knock at the Cabin\"}'}"
      ]
     },
     "execution_count": 6,
     "metadata": {},
     "output_type": "execute_result"
    }
   ],
   "source": [
    "# VALIDACIÓN \n",
    "\n",
    "event = {'pathParameters': {'id': '631842'}}\n",
    "lambda_handler(event, {})"
   ]
  },
  {
   "cell_type": "markdown",
   "metadata": {},
   "source": [
    "<font color=\"#00586D\" size=3><b><i class=\"fa fa-pencil-square-o\" aria-hidden=\"true\" style=\"color:#113D68\"></i> EJERCICIO 8:</b></font> Validación del API a través del uso de IPWidgets.\n",
    "\n",
    "Para validar que todo funciona correctamente, hemos incluido una serie de elementos visuales (widgets) que permiten realizar consultas al API previamente desplegado. Para ello, únicamente debemos incluir en la siguiente celda la URL del API desplegado, incluyendo la etapa/stage, la cual habremos usado en validaciones preliminares.\n",
    "\n",
    "Se deben realizar las siguientes acciones:\n",
    "\n",
    "- Verificad el funcionamiento de los widgets usando la URL ya proporcionada (solución)\n",
    "- Modificad la celda posterior para incluir la URL del API desplegado previamente\n",
    "- Verificad el funcionamiento de los widgets"
   ]
  },
  {
   "cell_type": "code",
   "execution_count": 12,
   "metadata": {},
   "outputs": [],
   "source": [
    "#BASE_URL = 'https://x525ljspii.execute-api.us-east-1.amazonaws.com/dev' # URL SOLUCIÓN --> PARA VALIDAR\n",
    "BASE_URL = 'https://tt78xeo4g4.execute-api.us-east-1.amazonaws.com/Prueba'"
   ]
  },
  {
   "cell_type": "code",
   "execution_count": 13,
   "metadata": {},
   "outputs": [
    {
     "data": {
      "application/vnd.jupyter.widget-view+json": {
       "model_id": "3acdd05763464d1d9d8ec4ac8cae9b25",
       "version_major": 2,
       "version_minor": 0
      },
      "text/plain": [
       "Dropdown(description='Año', options=(2022, 2023), value=2022)"
      ]
     },
     "metadata": {},
     "output_type": "display_data"
    },
    {
     "data": {
      "application/vnd.jupyter.widget-view+json": {
       "model_id": "e04eaf7a989e4a5eb20ef9f0a9445156",
       "version_major": 2,
       "version_minor": 0
      },
      "text/plain": [
       "Dropdown(description='Mes', options=(1, 2, 3, 4, 5, 6, 7, 8, 9, 10, 11, 12), value=1)"
      ]
     },
     "metadata": {},
     "output_type": "display_data"
    },
    {
     "data": {
      "application/vnd.jupyter.widget-view+json": {
       "model_id": "cf9be30ea81f4bd0b90eada9d3d5b927",
       "version_major": 2,
       "version_minor": 0
      },
      "text/plain": [
       "Output()"
      ]
     },
     "metadata": {},
     "output_type": "display_data"
    }
   ],
   "source": [
    "%matplotlib inline\n",
    "\n",
    "import requests\n",
    "import matplotlib.pyplot as plt\n",
    "import ipywidgets as widgets\n",
    "from IPython.display import display, HTML\n",
    "from matplotlib.ticker import MaxNLocator    \n",
    "    \n",
    "def display_movie_info(year, month):    \n",
    "    url = BASE_URL + f'/list/{year}/{month}'\n",
    "    res = requests.get(url)\n",
    "    data = res.json()\n",
    "    dropdown_movies = widgets.Dropdown(\n",
    "        options=[(x['title'], x['id']) for x in data],    \n",
    "        description='Pelicula'\n",
    "    )\n",
    "    display(dropdown_movies)\n",
    "    movie_data = widgets.interactive_output(display_movie, {'_id': dropdown_movies})\n",
    "    display(movie_data)\n",
    "    \n",
    "def display_movie(_id):\n",
    "    url = BASE_URL + f'/movies/{_id}'\n",
    "    res = requests.get(url)\n",
    "    data = res.json()\n",
    "    if data:\n",
    "        output1 = widgets.Output()\n",
    "        with output1:\n",
    "            poster_path = 'http://image.tmdb.org/t/p/w185'+data['poster_path']\n",
    "            html = HTML(f'''\n",
    "                <p>\n",
    "                    <b>Estreno:</b> {data[\"release_date\"]}</br>\n",
    "                    <b>Hasta:</b> {data[\"until_date\"]}</br>\n",
    "                    <b>Votos:</b> {data[\"vote_count\"]}</br>                    \n",
    "                    <b>Media:</b> {data[\"vote_average\"]}\n",
    "                </p>\n",
    "                <img src=\"{poster_path}\" style=max-width:185px;\"/>\n",
    "            ''')\n",
    "            display(html)\n",
    "\n",
    "        output2 = widgets.Output()\n",
    "        with output2:\n",
    "            ranks = [int(value) for value in data['rank_hist'].values()]\n",
    "            weeks = list(data['rank_hist'].keys())\n",
    "\n",
    "            # Configurar grafica\n",
    "            fig = plt.figure(figsize=(8, 5), dpi=100)\n",
    "            ax = fig.gca()\n",
    "            ax.yaxis.set_major_locator(MaxNLocator(integer=True))\n",
    "            plt.xticks(range(len(weeks)), weeks)\n",
    "            plt.ylim(0, max(ranks) + 1)\n",
    "\n",
    "            plt.title(\"Ranking semanal\")\n",
    "            plt.xlabel(\"Semana\")\n",
    "            plt.ylabel(\"Posición\")\n",
    "\n",
    "            # Dibujar grafica\n",
    "            plt.plot(ranks, marker='o', linewidth=2) \n",
    "            plt.show()\n",
    "\n",
    "        two_columns = widgets.HBox([output1, output2])\n",
    "        display(two_columns)\n",
    "\n",
    "\n",
    "dropdown_year = widgets.Dropdown(\n",
    "    options=[2022, 2023],    \n",
    "    description='Año'\n",
    ")\n",
    "\n",
    "dropdown_month = widgets.Dropdown(\n",
    "    options=range(1, 13),    \n",
    "    description='Mes'\n",
    ")\n",
    "movie_info = widgets.interactive_output(display_movie_info, {'year': dropdown_year, 'month': dropdown_month})\n",
    "\n",
    "display(dropdown_year)\n",
    "display(dropdown_month)\n",
    "display(movie_info)"
   ]
  },
  {
   "cell_type": "markdown",
   "metadata": {},
   "source": [
    "<font color=\"#00586D\" size=3><b><i class=\"fa fa-pencil-square-o\" aria-hidden=\"true\" style=\"color:#113D68\"></i> EJERCICIO 9 (OPCIONAL):</b></font> Monitorización a través de Cloudwatch.\n",
    "\n",
    "Si se desea profundizar/investigar sobre el uso de Cloudwatch, se propone un ejercicio opcional a tal efecto.\n",
    "\n",
    "AWS Cloudwatch es un servicio de monitorización que permite crear paneles/dashboards mostrando datos sobre el funcionamiento de otros servicios. Por ejemplo, podemos mostrar las invocaciones totales a las funciones lambda o las capacidades de lectura de una tabla de DynamoDB.\n",
    "\n",
    "El ejercicio propone la generación de un panel que muestre datos, que desde vuestro punto de vista, sean relevantes para la monitorización de la aplicación en su conjunto. Este ejercicio se realizará totalmente a través de la consola de AWS.\n"
   ]
  },
  {
   "cell_type": "markdown",
   "metadata": {},
   "source": [
    "<font color=\"#00586D\" size=3><b><i class=\"fa fa-pencil-square-o\" aria-hidden=\"true\" style=\"color:#113D68\"></i> VALIDACIÓN</b></font>\n",
    "\n",
    "- Generad una imagen con un pantallazo que muestre el panel de Cloudwatch desarrollado, y guardadla en la ruta (junto al notebook) `/img/eje_9.png`"
   ]
  },
  {
   "cell_type": "markdown",
   "metadata": {},
   "source": [
    "<img src=\"img/eje_9.png\" alt=\"Validacion 9\">"
   ]
  },
  {
   "cell_type": "markdown",
   "metadata": {},
   "source": [
    "<div style=\"text-align: right\"><font size=4> <i class=\"fa fa-check-square-o\" aria-hidden=\"true\" style=\"color:#113D68\"></i>\n",
    " </font></div>"
   ]
  },
  {
   "cell_type": "markdown",
   "metadata": {},
   "source": [
    "<div style=\"text-align: right\">\n",
    "<a href=\"#inicio\"><font size=5><i class=\"fa fa-arrow-circle-up\" aria-hidden=\"true\" style=\"color:#00586D\"></i></font></a>\n",
    "</div>\n",
    "\n",
    "---"
   ]
  },
  {
   "cell_type": "markdown",
   "metadata": {},
   "source": [
    "<div style=\"text-align: right\"> <font size=6><i class=\"fa fa-coffee\" aria-hidden=\"true\" style=\"color:#00586D\"></i> </font></div>"
   ]
  }
 ],
 "metadata": {
  "kernelspec": {
   "display_name": "Python 3 (ipykernel)",
   "language": "python",
   "name": "python3"
  },
  "language_info": {
   "codemirror_mode": {
    "name": "ipython",
    "version": 3
   },
   "file_extension": ".py",
   "mimetype": "text/x-python",
   "name": "python",
   "nbconvert_exporter": "python",
   "pygments_lexer": "ipython3",
   "version": "3.9.12"
  }
 },
 "nbformat": 4,
 "nbformat_minor": 4
}
