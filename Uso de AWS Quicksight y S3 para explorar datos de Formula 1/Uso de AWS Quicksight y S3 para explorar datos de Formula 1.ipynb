{
 "cells": [
  {
   "cell_type": "markdown",
   "metadata": {},
   "source": [
    "<img src=\"http://www.cidaen.es/assets/img/mCIDaeNnb.png\" alt=\"Logo CiDAEN\" align=\"right\">\n",
    "\n",
    "<br><br><br>\n",
    "<h2><font color=\"#00586D\" size=5>Capstone IX: Visualización y BI</font></h2>\n",
    "\n",
    "\n",
    "\n",
    "<h1><font color=\"#00586D\" size=6>Explorando datos de F1</font></h1>\n",
    "\n",
    "<br><br>\n",
    "<div style=\"text-align: right\">\n",
    "<font color=\"#00586D\" size=3>Jesus Martínez Gómez</font><br>\n",
    "<font color=\"#00586D\" size=3>Máster en Ciencia de Datos e Ingeniería de Datos en la Nube III </font><br>\n",
    "<font color=\"#00586D\" size=3>Universidad de Castilla-La Mancha</font>\n",
    "<a id=\"inicio\"></a>\n",
    "   \n",
    "    \n",
    "\n",
    "</div>"
   ]
  },
  {
   "cell_type": "markdown",
   "metadata": {},
   "source": [
    "---\n",
    "\n",
    "<a id=\"indice\"></a>\n",
    "<h2><font color=\"#00586D\" size=5>Índice</font></h2>\n",
    "\n",
    "\n",
    "* [1. Introducción](#section1)\n",
    "* [2. Generación de los conjuntos de datos](#section2)\n",
    "* [3. Análisis inicial](#section3)\n",
    "* [4. Análisis combinado](#section4)\n",
    "* [5. Paneles y alertas](#section5)\n",
    "\n",
    "---"
   ]
  },
  {
   "cell_type": "markdown",
   "metadata": {},
   "source": [
    "<a id=\"section1\"></a>\n",
    "# <font color=\"#00586D\"> 1. Introducción</font>\n",
    "\n",
    "Con este Capstone se pretende poner en práctica algunos de los conocimientos adquiridos durante el módulo 9. \n",
    "\n",
    "En concreto, se plantea el uso de la herramienta de Business Intelligence AWS Quicksight, la cual está totalmente gestionada por AWS, para lo que debe utilizarse el espacio de AWS creado a tal efecto (46336).\n",
    "\n",
    "El Capstone requiere un uso correcto de las herramientas vistas durante algunas de las sesiones del módulo, pero también se valorará la iniciativa a la hora de seleccionar los widgets que aporten más valor a los datos bajo estudio, así como la organización general de los mismos.\n",
    "\n",
    "Sobre todos los ejercicios propuestos, se valorará la correcta elección de:\n",
    "* Títulos\n",
    "* Leyendas\n",
    "* Ordenación\n",
    "* Organización"
   ]
  },
  {
   "cell_type": "markdown",
   "metadata": {},
   "source": [
    "<div style=\"text-align: right\">\n",
    "<a href=\"#inicio\"><font size=5><i class=\"fa fa-arrow-circle-up\" aria-hidden=\"true\" style=\"color:#00586D\"></i></font></a>\n",
    "</div>\n",
    "\n",
    "---"
   ]
  },
  {
   "cell_type": "markdown",
   "metadata": {
    "tags": []
   },
   "source": [
    "<a id=\"section2\"></a> \n",
    "# <font color=\"#00586D\"> 2. Generación de los conjuntos de datos.</font>\n",
    "\n",
    "Además del servicio AWS Quicksight, durante el Capstore haremos uso de S3 como servicio de AWS para el almacenamiento de objetos. \n",
    "\n",
    "En concreto, la primera acción a realizar consistirá en la carga de un subconjunto de los ficheros .csv incluidos en el reto F1 incluido en Kaggle: https://www.kaggle.com/datasets/rohanrao/formula-1-world-championship-1950-2020\n",
    "\n",
    "Los ficheros a subir son:\n",
    "* circuits.csv\n",
    "* drivers.csv\n",
    "* races.csv\n",
    "* results.csv\n",
    "\n",
    "Estos ficheros deben subirse a un Bucket de S3 creado previamente, y la localización final de los mismos queda a la elección del alumno, pudiendo optar por dejar todos los ficheros en el raíz o usar carpetas.\n",
    "\n",
    "Tras cargar los datos en S3, se debe acceder a AWS Quicksight y crear un conjunto de datos para los 3 primeros ficheros, creando así un conjunto de datos para circuitos, conductores y carreras, utilizando S3 como fuente de datos (por ahora no creamos el conjunto de datos de resultados).\n",
    "\n",
    "Si es la primera vez que utilizamos Quicksight, debemos inscribirnos siguiendo las opciones por defecto, salvo la elección de un rol de AWS ya existente (como vimos en las sesiones de clase).\n",
    "\n",
    "Para crear los conjuntos de datos iniciales (3 conjuntos diferentes), usaremos S3 como origen y crearemos un fichero manifest.json para realizar cada carga, donde se recoge la localización de los mismos. \n",
    "\n",
    "Tras validar la carga en la vista previa, programaremos una actualización semanal para cada uno de los conjuntos."
   ]
  },
  {
   "cell_type": "markdown",
   "metadata": {},
   "source": [
    "<font color=\"#00586D\" size=3><b><i class=\"fa fa-pencil-square-o\" aria-hidden=\"true\" style=\"color:#113D68\"></i> EJERCICIO 1:</b></font> Carga de datos\n",
    "\n",
    "- Cread 3 conjuntos de datos siguiendo las directrices anteriores, e indicad en la siguiente celda los siguientes datos:\n",
    " - Por cada conjunto de datos:\n",
    "      - Localización del fichero csv dentro del bucket de S3 \n",
    "      - Número de filas cargadas\n",
    "      - Número de filas omitidas\n",
    "          - Razón por la que se han omitido las filas"
   ]
  },
  {
   "cell_type": "markdown",
   "metadata": {},
   "source": [
    "- circuits.csv\n",
    "    - capstone9.datosf1.sergio.saez/circuits\n",
    "    - 77 filas cargadas \n",
    "    - 3 filas omitidas \n",
    "    - 3 filas en las que no se pudieron interpretar los valores numéricos del campo alt.    \n",
    "- races.csv\n",
    "    - capstone9.datosf1.sergio.saez/races\n",
    "    - 1102 filas cargadas\n",
    "- drivers.csv\n",
    "    - capstone9.datosf1.sergio.saez/drivers\n",
    "    - 857 filas cargadas"
   ]
  },
  {
   "cell_type": "markdown",
   "metadata": {},
   "source": [
    "<div style=\"text-align: right\">\n",
    "<a href=\"#inicio\"><font size=5><i class=\"fa fa-arrow-circle-up\" aria-hidden=\"true\" style=\"color:#00586D\"></i></font></a>\n",
    "</div>\n",
    "\n",
    "---"
   ]
  },
  {
   "cell_type": "markdown",
   "metadata": {},
   "source": [
    "<a id=\"section3\"></a> \n",
    "# <font color=\"#00586D\" size=5> 3. Analisis inicial de datos </font>\n",
    "\n",
    "En esta sección se plantea un análisis inicial de los datos cargados en el ejercicio anterior. A tal efecto, se creará un análisis en Quicksight llamado AnálisisS3 con una hoja por ejercicio, usando como nombre el fichero de datos usado en el ejercicio. Durante el análisis, únicamente añadiremos widgets/elementos visuales y, únicamente en caso de que se nos indique, añadiremos campos calculados.\n",
    "\n",
    "No se aplicarán filtros, parámetros o acciones.\n",
    "\n",
    "La validación de cada ejercicio se realizará exportando un pdf en la carpeta exports, y ejecutando la celda a continuación de cada ejercicio, tras reemplazar \"sample_export.pdf\" por el nombre adecuado."
   ]
  },
  {
   "cell_type": "markdown",
   "metadata": {},
   "source": [
    "<font color=\"#00586D\" size=3><b><i class=\"fa fa-pencil-square-o\" aria-hidden=\"true\" style=\"color:#113D68\"></i> EJERCICIO 2.1 CIRCUITOS:</b></font> \n",
    "- Cread una hoja dentro del análisis que permita explorar los siguientes datos de los circuitos:\n",
    "    - Países con mayor número de circuitos\n",
    "    - Localización de los circuitos en el mapa, mostrando su posición concreta\n",
    "    - Distribución de la altitud de los circuitos.\n",
    "- Exportad la hoja a un fichero llamado cirtuitos21.pdf y guardadlo en la carpeta exports\n",
    "    - Reemplazad sample_export.pdf por cirtuitos21.pdf en la siguiente celda de código \n",
    "- Rellenad la siguiente celda de texto con datos explicativos sobre la elección\n",
    "\n"
   ]
  },
  {
   "cell_type": "markdown",
   "metadata": {},
   "source": [
    "- He optado por los siguientes widgets\n",
    "    - 1 gráfico de barras para representar el número de circuitos por país. Este gráfico me permite visualizar de manera clara y concisa cuáles son los países con mayor presencia de circuitos.\n",
    "    - 1 gráfico de mapa interactivo con puntos para representar la latitud y longitud de cada circuito. Este tipo de visualización geoespacial me permite apreciar la ubicación precisa de cada circuito en el mapa mundial. Al pasar el cursor sobre los puntos, puedo ver información detallada como el nombre del circuito y sus coordenadas geográficas.\n",
    "    - 1 gráfico de histograma para representar la distribución de altitudes de los circuitos. Este tipo de gráfico me permite analizar la variabilidad de altitudes entre los circuitos. Cada barra en el histograma representa un rango de altitud y la altura indica la cantidad de circuitos que se encuentran dentro de ese rango."
   ]
  },
  {
   "cell_type": "code",
   "execution_count": 1,
   "metadata": {},
   "outputs": [
    {
     "data": {
      "text/html": [
       "\n",
       "        <iframe\n",
       "            width=\"640\"\n",
       "            height=\"480\"\n",
       "            src=\"./exports/circuitos21.pdf\"\n",
       "            frameborder=\"0\"\n",
       "            allowfullscreen\n",
       "            \n",
       "        ></iframe>\n",
       "        "
      ],
      "text/plain": [
       "<IPython.lib.display.IFrame at 0x27ba220ccd0>"
      ]
     },
     "execution_count": 1,
     "metadata": {},
     "output_type": "execute_result"
    }
   ],
   "source": [
    "from IPython.display import IFrame\n",
    "IFrame(\"./exports/circuitos21.pdf\", width=640, height=480) # REEMPLAZAR CON EL NOMBRE"
   ]
  },
  {
   "cell_type": "markdown",
   "metadata": {},
   "source": [
    "<font color=\"#00586D\" size=3><b><i class=\"fa fa-pencil-square-o\" aria-hidden=\"true\" style=\"color:#113D68\"></i> EJERCICIO 2.2 PILOTOS:</b></font> \n",
    "- Cread una hoja dentro del análisis que permita explorar los siguientes datos de los pilotos:\n",
    "    - Nacionalidades con mayor número de pilotos\n",
    "    - Preferencias de los pilotos por números par o impar\n",
    "        - Requerirá añadir un campo calculado\n",
    "    - Distribución de la edad de los pilotos (asumimos que todos siguen vivos).\n",
    "        - Requerirá añadir un campo calculado\n",
    "- Exportad la hoja a un fichero llamado pilotos22.pdf y guardadlo en la carpeta exports\n",
    "    - Reemplazad sample_export.pdf por pilotos22.pdf en la celda de código \n",
    "- Rellenad la siguiente celda de texto con datos explicativos sobre la elección"
   ]
  },
  {
   "cell_type": "markdown",
   "metadata": {},
   "source": [
    "- He optado por los siguientes widgets\n",
    "    - 1 gráfico de barras porque es ideal para visualizar de manera clara y concisa la cantidad de pilotos que provienen de cada país.\n",
    "    - 1 gráfico de barras horizontal, este tipo de gráfico permite comparar fácilmente las dos categorías y ver cuál de ellas tiene una mayor preferencia entre los pilotos.\n",
    "    - 1 histograma Cada barra representa un rango de edades y la altura de la barra indica la frecuencia o recuento de pilotos dentro de ese rango"
   ]
  },
  {
   "cell_type": "code",
   "execution_count": 4,
   "metadata": {},
   "outputs": [
    {
     "data": {
      "text/html": [
       "\n",
       "        <iframe\n",
       "            width=\"640\"\n",
       "            height=\"480\"\n",
       "            src=\"./exports/pilotos22.pdf\"\n",
       "            frameborder=\"0\"\n",
       "            allowfullscreen\n",
       "            \n",
       "        ></iframe>\n",
       "        "
      ],
      "text/plain": [
       "<IPython.lib.display.IFrame at 0x227f586edc0>"
      ]
     },
     "execution_count": 4,
     "metadata": {},
     "output_type": "execute_result"
    }
   ],
   "source": [
    "from IPython.display import IFrame\n",
    "IFrame(\"./exports/pilotos22.pdf\", width=640, height=480) # REEMPLAZAR CON EL NOMBRE"
   ]
  },
  {
   "cell_type": "markdown",
   "metadata": {},
   "source": [
    "<font color=\"#00586D\" size=3><b><i class=\"fa fa-pencil-square-o\" aria-hidden=\"true\" style=\"color:#113D68\"></i> EJERCICIO 2.3 CARRERAS:</b></font> \n",
    "- Cread una hoja dentro del análisis que permita explorar los siguientes datos de las carreras:\n",
    "    - Relaciones entre nombre la carrera (name) y ronda en la que se realizó (round)\n",
    "        - Requerirá añadir un campo calculado --> round como string\n",
    "    - Relación entre la ronda, veces que se ha corrido esa ronda, y número diferente de carreras en las que se ha realizado\n",
    "        - Esperamos que la ronda 1 se haya corrido siempre, pero no así la 20 o 21\n",
    "- Exportad la hoja a un fichero llamado carreras23.pdf y guardadlo en la carpeta exports\n",
    "    - Reemplazad sample_export.pdf por carreras23.pdf en la celda de código \n",
    "- Rellenad la siguiente celda de texto con datos explicativos sobre la elección"
   ]
  },
  {
   "cell_type": "markdown",
   "metadata": {},
   "source": [
    "- He optado por los siguientes widgets\n",
    "    - 1 gráfico de barras apiladas 100% permite visualizar de manera efectiva la relación entre el nombre de la carrera y la ronda en la que se llevó a cabo. Cada barra representa una carrera y está dividida en segmentos que corresponden a las diferentes rondas en las que se ha realizado dicha carrera. Esto nos permite comparar fácilmente las rondas en las que se ha disputado cada carrera y observar la distribución de las mismas.\n",
    "    \n",
    "    - 1 gráfico de barras apiladas útil para visualizar las relaciones entre la ronda, el recuento de veces que se ha corrido esa ronda y el número diferente de carreras en las que se ha realizado. Cada barra representa una ronda y está dividida en segmentos que muestran el recuento de carreras para esa ronda. Además, el color de cada segmento nos indica en cuántas carreras diferentes se ha disputado esa ronda. "
   ]
  },
  {
   "cell_type": "code",
   "execution_count": 2,
   "metadata": {},
   "outputs": [
    {
     "data": {
      "text/html": [
       "\n",
       "        <iframe\n",
       "            width=\"640\"\n",
       "            height=\"480\"\n",
       "            src=\"./exports/carreras23.pdf\"\n",
       "            frameborder=\"0\"\n",
       "            allowfullscreen\n",
       "            \n",
       "        ></iframe>\n",
       "        "
      ],
      "text/plain": [
       "<IPython.lib.display.IFrame at 0x27ba22a0940>"
      ]
     },
     "execution_count": 2,
     "metadata": {},
     "output_type": "execute_result"
    }
   ],
   "source": [
    "from IPython.display import IFrame\n",
    "IFrame(\"./exports/carreras23.pdf\", width=640, height=480) # REEMPLAZAR CON EL NOMBRE"
   ]
  },
  {
   "cell_type": "markdown",
   "metadata": {},
   "source": [
    "<a id=\"section4\"></a> \n",
    "# <font color=\"#00586D\" size=5> 4. Analisis combinado de datos </font>\n",
    "\n",
    "Una vez realizado el análisis inicial, vamos estudiar cómo combinar acciones y filtros sobre diferentes conjuntos de datos, para así poder realizar un mejor estudio de forma interactiva. Crearemos un nuevo análisis en Quicksight llamado AnálisisS4 y usaremos una hoja por ejercicio.\n",
    "\n",
    "La validación de cada ejercicio se realizará exportando un pdf en la carpeta exports, y ejecutando la celda a continuación de cada ejercicio, una vez se haya reemplazado \"sample_export.pdf\" por el nombre indicado."
   ]
  },
  {
   "cell_type": "markdown",
   "metadata": {},
   "source": [
    "<font color=\"#00586D\" size=3><b><i class=\"fa fa-pencil-square-o\" aria-hidden=\"true\" style=\"color:#113D68\"></i> EJERCICIO 3.1:</b></font> Conjuntos de datos separados\n",
    "\n",
    "Sobre AnálisisS4, crea una nueva hoja llamada \"Conjuntos de datos separados\".\n",
    "\n",
    "En la misma hoja, vamos a añadir 3 elementos visuales que permitan cierta funcionalidad:\n",
    " - Widget 1.- Elemento visual con datos de circuitos: mapa rellenado\n",
    " - Widget 2.- Elemento visual con datos de circuitos: puntos en el mapa\n",
    " - Widget 3.- Elemento visual con datos de carreras: tipo de elemento visual a elección\n",
    "\n",
    "Se deben añadir las acciones, filtros y/o parámetros necesarios para obtener la siguiente interactividad:\n",
    "- Al hacer clic sobre un país en Widget 1, se debe aplicar un filtro en el Widget 2 que muestre sólo los circuitos del país seleccionado\n",
    "- Al hacer clic sobre un circuito en el Widget 2, se debe aplicar un filtro en el Widget 3 que muestre sólo los datos de carreras realizadas en el circuito seleccionado\n",
    "\n",
    "Por ejemplo, si pulsamos en España sobre el Widget 1, y elegimos el circuito de Valencia en el Widget 2, el Widget 3 nos debe mostrar que se han realizado carreras en los años 2008, 2009, 2010, 2011 y 2012.\n",
    "\n",
    "Como ayuda, podemos usar acciones personalizadas de navegación que fijen un parámetro a usar como filtro por otros elementos visuales."
   ]
  },
  {
   "cell_type": "markdown",
   "metadata": {},
   "source": [
    "- Exportad la hoja a un fichero llamado datos_separados31.pdf y guardadlo en la carpeta exports\n",
    "    - Reemplazad sample_export.pdf por datos_separados31.pdf en la celda de código \n",
    "- Rellenad la siguiente celda de texto con datos explicativos sobre la elección"
   ]
  },
  {
   "cell_type": "markdown",
   "metadata": {},
   "source": [
    "- He optado por los siguientes widgets\n",
    "    - 1 mapa rellenado utilizando el campo 'country' para ubicar los países donde se encuentran los circuitos, y como valor el campo 'circuitId' para representar el número de circuitos en cada país.\n",
    "    - 1 widget de puntos en el mapa utilizando los campos 'lat' y 'long' para precisar la ubicación de cada circuito, y como color, nuevamente el campo 'circuitId' para diferenciar cada circuito.\n",
    "    - 1 gráfico de barras con el campo 'year' en el eje x, y como valor el campo 'raceId (Recuento)' para obtener el número de carreras y el año en el que se disputaron esos Grandes Premios."
   ]
  },
  {
   "cell_type": "code",
   "execution_count": 3,
   "metadata": {},
   "outputs": [
    {
     "data": {
      "text/html": [
       "\n",
       "        <iframe\n",
       "            width=\"640\"\n",
       "            height=\"480\"\n",
       "            src=\"./exports/datos_separados31.pdf\"\n",
       "            frameborder=\"0\"\n",
       "            allowfullscreen\n",
       "            \n",
       "        ></iframe>\n",
       "        "
      ],
      "text/plain": [
       "<IPython.lib.display.IFrame at 0x27ba22a0be0>"
      ]
     },
     "execution_count": 3,
     "metadata": {},
     "output_type": "execute_result"
    }
   ],
   "source": [
    "from IPython.display import IFrame\n",
    "IFrame(\"./exports/datos_separados31.pdf\", width=640, height=480) # REEMPLAZAR CON EL NOMBRE"
   ]
  },
  {
   "cell_type": "markdown",
   "metadata": {},
   "source": [
    "<font color=\"#00586D\" size=3><b><i class=\"fa fa-pencil-square-o\" aria-hidden=\"true\" style=\"color:#113D68\"></i> EJERCICIO 3.2:</b></font> Conjuntos de datos unidos\n",
    "\n",
    "Vamos a crear un nuevo conjunto de datos, llamado races_circuits, combinando 2 conjuntos creados previamente: carreras y circuitos.\n",
    "\n",
    "Para ello, debes realizar una unión (JOIN) sobre el campo circuitId.\n",
    "\n",
    "Sobre AnálisisS4, crea una nueva hoja llamada \"Conjuntos de datos unidos\", donde trabajaremos con el nuevo conjunto de datos.\n",
    "\n",
    "En la misma hoja, vamos a añadir 2 elementos visuales que permitan cierta funcionalidad:\n",
    " - Widget 1.- Elemento visual con datos de grandes premios: gráfico de rectángulos\n",
    " - Widget 2.- Elemento visual con nombres de circuitos: world cloud\n",
    " \n",
    "El Widget 1 debe mostrar mostrar, agrupando por el nombre del gran premio (name), el número total y distintivo de circuitos asociados a un gran premio. Por ejemplo, el gran premio de Italia se ha corrido 73 ocasiones, usando para ello 2 circuitos diferentes.\n",
    "\n",
    "Para evitar mostrar demasiadas entradas, el Widget 1 debe aplicar un filtro que muestre únicamente los 12 grandes premios disputados en más ocasiones.\n",
    "\n",
    "Se deben añadir las acciones, filtros y/o parámetros necesarios para obtener la siguiente interactividad:\n",
    "- Al hacer clic sobre un gran premio en el Widget 1, se debe aplicar un filtro en el Widget 2 para que se muestren solamente los nombres de los circuitos asociados al gran premio seleccionado.\n",
    "\n",
    "Por ejemplo, si pulsamos sobre el gran premio de Italia sobre el Widget 1, el Widget 2 nos debe mostrar solamente 2 nombres de circuitos: \"Monza\" y \"Enzo e Dino Ferrari\"\n",
    "\n",
    "Como ayuda, en este caso será suficiente con una acción personalizada que filtre elementos en la misma hoja."
   ]
  },
  {
   "cell_type": "markdown",
   "metadata": {},
   "source": [
    "- Exportad la hoja a un fichero llamado datos_combinados32.pdf y guardadlo en la carpeta exports\n",
    "    - Reemplazad sample_export.pdf por datos_combinados32.pdf en la celda de código \n",
    "- Rellenad la siguiente celda de texto con datos explicativos sobre la elección"
   ]
  },
  {
   "cell_type": "markdown",
   "metadata": {},
   "source": [
    "- He optado por los siguientes widgets\n",
    "    - 1 widget de tipo gráfico de rectángulos usando los campos 'name' para agrupar, 'circuitId (Recuento)' para el tamaño y 'circuitId (Recuento Distintivo)' para el color.\n",
    "    - 1 widget de tipo Word Cloud usando el campo name para mostrar el nombre de los circuitos.\n",
    "    \n",
    "    - Además, se ha establecido una interactividad entre ambos widgets. Al hacer clic en un gran premio en el Widget 1, se aplicará un filtro en el Widget 2 para mostrar únicamente los nombres de los circuitos asociados a ese gran premio seleccionado."
   ]
  },
  {
   "cell_type": "code",
   "execution_count": 4,
   "metadata": {},
   "outputs": [
    {
     "data": {
      "text/html": [
       "\n",
       "        <iframe\n",
       "            width=\"640\"\n",
       "            height=\"480\"\n",
       "            src=\"./exports/datos_combinados32.pdf\"\n",
       "            frameborder=\"0\"\n",
       "            allowfullscreen\n",
       "            \n",
       "        ></iframe>\n",
       "        "
      ],
      "text/plain": [
       "<IPython.lib.display.IFrame at 0x27ba22a0df0>"
      ]
     },
     "execution_count": 4,
     "metadata": {},
     "output_type": "execute_result"
    }
   ],
   "source": [
    "from IPython.display import IFrame\n",
    "IFrame(\"./exports/datos_combinados32.pdf\", width=640, height=480) # REPLACE WITH FINAL NAME"
   ]
  },
  {
   "cell_type": "markdown",
   "metadata": {},
   "source": [
    "<div style=\"text-align: right\"><font size=4> <i class=\"fa fa-check-square-o\" aria-hidden=\"true\" style=\"color:#113D68\"></i>\n",
    " </font></div>"
   ]
  },
  {
   "cell_type": "markdown",
   "metadata": {},
   "source": [
    "<font color=\"#00586D\" size=3><b><i class=\"fa fa-pencil-square-o\" aria-hidden=\"true\" style=\"color:#113D68\"></i> EJERCICIO 3.3:</b></font> Conjuntos de datos unidos B\n",
    "\n",
    "Vamos a crear un nuevo conjunto de datos combinado usando los 3 conjuntos creados previamente: carreras, circuitos y pilotos, y un nuevo conjunto de datos que crearemos ahora.\n",
    "\n",
    "El nuevo conjunto de datos se creará de la misma manera que los de carreras, circuitos y pilotos, usando S3 como origen y tras haber subido, si no se hizo al principio, el fichero results.csv. De nuevo, tras generar y validar el conjunto de datos estableceremos una actualización semanal. \n",
    "\n",
    "En este caso, a diferencia de los primeros conjuntos de datos, nos vamos a centrar únicamente en un subconjunto de campos, además de variar algunos tipos.\n",
    "\n",
    "En concreto, solamente vamos a añadir los siguientes campos con sus tipos asociados:\n",
    "- resultId: número\n",
    "- raceId: número\n",
    "- driverId: número\n",
    "- positionText: cambiamos tipo a cadena\n",
    "- statusId: cambiamos tipo a cadena\n",
    "\n",
    "Una vez generado, en la vista de conjuntos de datos, seleccionamos el conjunto de resultados e indicamos: utilizar en un nuevo conjunto de datos, que llamaremos combined_all.\n",
    "\n",
    "Sobre este nuevo conjunto llamado combined_all, añadiremos los 3 conjuntos de datos de circuitos, carreras y pilotos, usando los siguientes JOINS:\n",
    "\n",
    " - 1.- resultados <--> carreras unidos por raceId\n",
    " - 2.- resultados <--> pilotos unidos por driverId\n",
    " - 3.- carreras <--> circuitos unidos por circuitId\n",
    "\n",
    "Sobre AnálisisS4, crea una nueva hoja llamada \"Conjuntos de datos combinados B\", donde trabajaremos con el conjunto de datos combined_all.\n",
    "\n",
    "En esta hoja, tienes libertad absoluta para elegir elementos visuales, filtros, parámetros y acciones, siempre que permitan, al menos, las siguientes funcionalidades:\n",
    "\n",
    "- Mostrar todos los pilotos que hayan ganado alguna carrera (positionText es 1), de entre los nacidos (DoB) después de una fecha que pueda ser establecida. \n",
    "  - Por ejemplo, de los nacidos después de 1995, solamente han ganado 5 pilotos: Ocon, Verstappen, Leclerc, Russell y Gasly\n",
    "- Mostrar los pilotos ordenados por el número de colisiones (carreras que terminan con statusId=4)\n",
    "- Mostrar los países donde ha habido más resultados con accidente (carreras que terminan con statusId=3)\n",
    "- Cualquier otra información que sea útil desde tu punto de vista"
   ]
  },
  {
   "cell_type": "markdown",
   "metadata": {},
   "source": [
    "- Exportad la hoja a un fichero llamado datos_combinados33.pdf y guardadlo en la carpeta exports\n",
    "    - Reemplazad sample_export.pdf por datos_combinados33.pdf en la celda de código \n",
    "- Rellenad la siguiente celda de texto con datos explicativos sobre la elección"
   ]
  },
  {
   "cell_type": "markdown",
   "metadata": {},
   "source": [
    "- He optado por los siguientes widgets\n",
    "    - 1 widget de tipo gráfico de barras para mostrar todos los pilotos que hayan ganado alguna carrera, de entre los nacidos después de una fecha específica. Para el eje x, se utiliza el campo 'surname' que representa los apellidos de los pilotos, y para los valores, se utiliza el campo 'driverId (Recuento distintivo)' que cuenta el número de victorias de cada piloto. Además, se ha incluido un control en forma de cuadro de texto donde se puede ingresar una fecha y filtrar los pilotos nacidos después de esa fecha. Brindando la flexibilidad de ajustar la fecha de nacimiento para explorar diferentes períodos de tiempo.\n",
    "    \n",
    "    - 1 widget de tipo gráfico de barras para mostrar los pilotos ordenados por el número de colisiones. En el eje x se utiliza el campo 'surname' que representa los apellidos de los pilotos, y en los valores se utiliza el campo 'driverId (Recuento)' que cuenta el número de colisiones en las que ha estado involucrado cada piloto. Además, se ha aplicado un filtro sobre el campo 'statusId' para mostrar solo las colisiones ('statusId = 4'). Este widget permite identificar rápidamente los pilotos con mayor número de colisiones.\n",
    "    \n",
    "    - 1 widget de tipo mapa para mostrar los países donde ha habido más resultados con accidente. En el campo 'location' se utiliza 'country' para representar el país donde ocurrieron los resultados con accidente, y en el campo de color se utiliza 'resultId (Recuento)' para mostrar la cantidad de resultados con accidente en cada país."
   ]
  },
  {
   "cell_type": "code",
   "execution_count": 7,
   "metadata": {},
   "outputs": [
    {
     "data": {
      "text/html": [
       "\n",
       "        <iframe\n",
       "            width=\"640\"\n",
       "            height=\"480\"\n",
       "            src=\"./exports/datos_combinados33.pdf\"\n",
       "            frameborder=\"0\"\n",
       "            allowfullscreen\n",
       "            \n",
       "        ></iframe>\n",
       "        "
      ],
      "text/plain": [
       "<IPython.lib.display.IFrame at 0x27ba220c400>"
      ]
     },
     "execution_count": 7,
     "metadata": {},
     "output_type": "execute_result"
    }
   ],
   "source": [
    "from IPython.display import IFrame\n",
    "IFrame(\"./exports/datos_combinados33.pdf\", width=640, height=480) # REEMPLAZAR CON EL NOMBRE"
   ]
  },
  {
   "cell_type": "markdown",
   "metadata": {},
   "source": [
    "<a id=\"section5\"></a> \n",
    "# <font color=\"#00586D\" size=5> 5. Paneles y Alertas </font>\n",
    "\n",
    "<font color=\"#00586D\" size=3><b><i class=\"fa fa-pencil-square-o\" aria-hidden=\"true\" style=\"color:#113D68\"></i> EJERCICIO 4.1:</b></font> Exportar panel con acceso y alertas\n",
    "\n",
    "\n",
    "Vamos a crear un análisis que acabaremos exportando como panel, para lo cual creamos un análisis llamado AnálisisS5 usando el conjunto de datos combined_all, usado en el último apartado.\n",
    "\n",
    "Sobre AnálisisS5, usando una única hoja, añadiremos 3 elementos visuales:\n",
    "\n",
    "- Widget 1.- KPI con el número de victorias obtenidas por pilotos nacidos desde el año 2000\n",
    "- Widget 2.- Word cloud con los nombres de los pilotos nacidos desde el año 2000\n",
    "- Widget 3.- Gráfico de barras y líneas que muestre cómo ha evolucionado, año a año, el número de pilotos y nacionalidades diferentes, así como el número total de carreras por año\n",
    "    - Por ejemplo, en 2021, hubo 21 pilotos de 14 nacionalidades diferentes\n",
    "    \n",
    "Una vez generado el análisis, crearemos un panel llamado PanelS5 que compartiremos con otro usuario, para lo cual debemos invitarnos, usando un correo secundario que deseemos, a través de \"Administrar Quicksight\", desde la esquina superior derecha. \n",
    "\n",
    "Una vez invitado el usuario, dentro del panel, haremos clic en la esquina superior derecha, icono de compartir, compartir panel, e indicaremos el correo al cual hemos realizado la invitación.\n",
    "\n",
    "Sobre el panel generado, crearemos una alarma para que se nos informe (al usuario administrador) si ha ganado algún piloto nacido en los años 2000 (por ahora sólo participa Tsunoda).\n",
    "\n",
    "También programaremos el envío de un informe semanal, haciendo clic en la esquina superior derecha, icono del reloj, programaciones. Este informe semanal incluirá un fichero PDF, usando el usuario al que acabamos de dar acceso como destinatario."
   ]
  },
  {
   "cell_type": "markdown",
   "metadata": {},
   "source": [
    "- Exportad la hoja del análisis a un fichero llamado datos_analisis4.pdf y guardadlo en la carpeta exports\n",
    "    - Reemplazad sample_export.pdf por datos_analisis4.pdf en la celda de código "
   ]
  },
  {
   "cell_type": "code",
   "execution_count": 9,
   "metadata": {},
   "outputs": [
    {
     "data": {
      "text/html": [
       "\n",
       "        <iframe\n",
       "            width=\"640\"\n",
       "            height=\"480\"\n",
       "            src=\"./exports/datos_analisis4.pdf\"\n",
       "            frameborder=\"0\"\n",
       "            allowfullscreen\n",
       "            \n",
       "        ></iframe>\n",
       "        "
      ],
      "text/plain": [
       "<IPython.lib.display.IFrame at 0x27ba22a0c40>"
      ]
     },
     "execution_count": 9,
     "metadata": {},
     "output_type": "execute_result"
    }
   ],
   "source": [
    "from IPython.display import IFrame\n",
    "IFrame(\"./exports/datos_analisis4.pdf\", width=640, height=480) # REEMPLAZAR CON EL NOMBRE"
   ]
  },
  {
   "cell_type": "markdown",
   "metadata": {},
   "source": [
    "- Guardad el PDF recibido en el correo del usuario secundario como datos_correo4.pdf y guardadlo en la carpeta exports\n",
    "    - Reemplazad sample_export.pdf por datos_correo4.pdf en la celda de código "
   ]
  },
  {
   "cell_type": "code",
   "execution_count": 10,
   "metadata": {},
   "outputs": [
    {
     "data": {
      "text/html": [
       "\n",
       "        <iframe\n",
       "            width=\"640\"\n",
       "            height=\"480\"\n",
       "            src=\"./exports/datos_correo4.pdf\"\n",
       "            frameborder=\"0\"\n",
       "            allowfullscreen\n",
       "            \n",
       "        ></iframe>\n",
       "        "
      ],
      "text/plain": [
       "<IPython.lib.display.IFrame at 0x27ba220c190>"
      ]
     },
     "execution_count": 10,
     "metadata": {},
     "output_type": "execute_result"
    }
   ],
   "source": [
    "from IPython.display import IFrame\n",
    "IFrame(\"./exports/datos_correo4.pdf\", width=640, height=480) # REEMPLAZAR CON EL NOMBRE"
   ]
  },
  {
   "cell_type": "markdown",
   "metadata": {},
   "source": [
    "<div style=\"text-align: right\">\n",
    "<a href=\"#inicio\"><font size=5><i class=\"fa fa-arrow-circle-up\" aria-hidden=\"true\" style=\"color:#00586D\"></i></font></a>\n",
    "</div>\n",
    "\n",
    "---"
   ]
  },
  {
   "cell_type": "markdown",
   "metadata": {},
   "source": [
    "<div style=\"text-align: right\"> <font size=6><i class=\"fa fa-coffee\" aria-hidden=\"true\" style=\"color:#00586D\"></i> </font></div>"
   ]
  }
 ],
 "metadata": {
  "kernelspec": {
   "display_name": "Python 3 (ipykernel)",
   "language": "python",
   "name": "python3"
  },
  "language_info": {
   "codemirror_mode": {
    "name": "ipython",
    "version": 3
   },
   "file_extension": ".py",
   "mimetype": "text/x-python",
   "name": "python",
   "nbconvert_exporter": "python",
   "pygments_lexer": "ipython3",
   "version": "3.9.12"
  }
 },
 "nbformat": 4,
 "nbformat_minor": 4
}
