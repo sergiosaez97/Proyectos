{
 "cells": [
  {
   "cell_type": "markdown",
   "id": "5c2829b2",
   "metadata": {},
   "source": [
    "<img src=\"http://www.cidaen.es/assets/img/mCIDaeNnb.png\" alt=\"Logo CiDAEN\" align=\"right\">\n",
    "\n",
    "\n",
    "<br><br><br>\n",
    "<h2><font color=\"#00586D\" size=4>Módulo 12: Arquitecturas y procesos Big Data</font></h2>\n",
    "\n",
    "\n",
    "\n",
    "<h1><font color=\"#00586D\" size=5>Capstone 12. Parte 1: Modelo de <i>sentiment</i> sobre Amazon Reviews</font></h1>\n",
    "\n",
    "<br><br><br>\n",
    "<div style=\"text-align: right\">\n",
    "<font color=\"#00586D\" size=3>Enrique González, Jacinto Arias</font><br>\n",
    "<font color=\"#00586D\" size=3>Máster en Ciencia de Datos e Ingeniería de Datos en la Nube</font><br>\n",
    "<font color=\"#00586D\" size=3>Universidad de Castilla-La Mancha</font>\n",
    "\n",
    "\n",
    "\n",
    "\n",
    "</div>"
   ]
  },
  {
   "cell_type": "markdown",
   "id": "890eb90f",
   "metadata": {},
   "source": [
    "<a id=\"indice\"></a>\n",
    "<h2><font color=\"#00586D\" size=5>Índice</font></h2>\n",
    "\n",
    "\n",
    "* [1. Introducción](#section1)\n",
    "* [2. Análisis exploratorio](#section2)\n",
    "* [3. Modelado](#section3)"
   ]
  },
  {
   "cell_type": "code",
   "execution_count": 1,
   "id": "69c3d12e",
   "metadata": {},
   "outputs": [
    {
     "data": {
      "application/vnd.jupyter.widget-view+json": {
       "model_id": "904374f9f4074970bbf74f55828ca08d",
       "version_major": 2,
       "version_minor": 0
      },
      "text/plain": [
       "VBox()"
      ]
     },
     "metadata": {},
     "output_type": "display_data"
    },
    {
     "name": "stdout",
     "output_type": "stream",
     "text": [
      "Starting Spark application\n"
     ]
    },
    {
     "data": {
      "text/html": [
       "<table>\n",
       "<tr><th>ID</th><th>YARN Application ID</th><th>Kind</th><th>State</th><th>Spark UI</th><th>Driver log</th><th>User</th><th>Current session?</th></tr><tr><td>0</td><td>application_1686241920156_0001</td><td>pyspark</td><td>idle</td><td><a target=\"_blank\" href=\"http://ip-172-31-95-198.ec2.internal:20888/proxy/application_1686241920156_0001/\" class=\"emr-proxy-link\" emr-resource=\"j-16YP4QVD8DK9S\n",
       "\" application-id=\"application_1686241920156_0001\">Link</a></td><td><a target=\"_blank\" href=\"http://ip-172-31-83-200.ec2.internal:8042/node/containerlogs/container_1686241920156_0001_01_000001/livy\" >Link</a></td><td>None</td><td>✔</td></tr></table>"
      ],
      "text/plain": [
       "<IPython.core.display.HTML object>"
      ]
     },
     "metadata": {},
     "output_type": "display_data"
    },
    {
     "data": {
      "application/vnd.jupyter.widget-view+json": {
       "model_id": "",
       "version_major": 2,
       "version_minor": 0
      },
      "text/plain": [
       "FloatProgress(value=0.0, bar_style='info', description='Progress:', layout=Layout(height='25px', width='50%'),…"
      ]
     },
     "metadata": {},
     "output_type": "display_data"
    },
    {
     "name": "stdout",
     "output_type": "stream",
     "text": [
      "SparkSession available as 'spark'.\n"
     ]
    },
    {
     "data": {
      "application/vnd.jupyter.widget-view+json": {
       "model_id": "",
       "version_major": 2,
       "version_minor": 0
      },
      "text/plain": [
       "FloatProgress(value=0.0, bar_style='info', description='Progress:', layout=Layout(height='25px', width='50%'),…"
      ]
     },
     "metadata": {},
     "output_type": "display_data"
    }
   ],
   "source": [
    "# Instalamos algunas librerías útiles para la práctica\n",
    "\n",
    "import pyspark.sql.functions as sqlf\n",
    "from pyspark.ml.pipeline import PipelineModel\n",
    "from pyspark.ml.evaluation import BinaryClassificationEvaluator"
   ]
  },
  {
   "cell_type": "code",
   "execution_count": 2,
   "id": "72445479",
   "metadata": {
    "scrolled": true
   },
   "outputs": [
    {
     "data": {
      "application/vnd.jupyter.widget-view+json": {
       "model_id": "69ad8fb026f44382a918bce0cb638106",
       "version_major": 2,
       "version_minor": 0
      },
      "text/plain": [
       "VBox()"
      ]
     },
     "metadata": {},
     "output_type": "display_data"
    },
    {
     "data": {
      "application/vnd.jupyter.widget-view+json": {
       "model_id": "",
       "version_major": 2,
       "version_minor": 0
      },
      "text/plain": [
       "FloatProgress(value=0.0, bar_style='info', description='Progress:', layout=Layout(height='25px', width='50%'),…"
      ]
     },
     "metadata": {},
     "output_type": "display_data"
    },
    {
     "name": "stdout",
     "output_type": "stream",
     "text": [
      "Collecting pandas\n",
      "  Downloading pandas-1.3.5-cp37-cp37m-manylinux_2_17_x86_64.manylinux2014_x86_64.whl (11.3 MB)\n",
      "Collecting python-dateutil>=2.7.3\n",
      "  Downloading python_dateutil-2.8.2-py2.py3-none-any.whl (247 kB)\n",
      "Requirement already satisfied: numpy>=1.17.3; platform_machine != \"aarch64\" and platform_machine != \"arm64\" and python_version < \"3.10\" in /usr/local/lib64/python3.7/site-packages (from pandas) (1.20.0)\n",
      "Requirement already satisfied: pytz>=2017.3 in /usr/local/lib/python3.7/site-packages (from pandas) (2022.7)\n",
      "Requirement already satisfied: six>=1.5 in /usr/local/lib/python3.7/site-packages (from python-dateutil>=2.7.3->pandas) (1.13.0)\n",
      "Installing collected packages: python-dateutil, pandas\n",
      "Successfully installed pandas-1.3.5 python-dateutil-2.8.2\n",
      "\n",
      "Collecting seaborn\n",
      "  Downloading seaborn-0.12.2-py3-none-any.whl (293 kB)\n",
      "Requirement already satisfied: pandas>=0.25 in ./tmp/1686242177321-0/lib/python3.7/site-packages (from seaborn) (1.3.5)\n",
      "Requirement already satisfied: numpy!=1.24.0,>=1.17 in /usr/local/lib64/python3.7/site-packages (from seaborn) (1.20.0)\n",
      "Collecting typing_extensions; python_version < \"3.8\"\n",
      "  Downloading typing_extensions-4.6.3-py3-none-any.whl (31 kB)\n",
      "Collecting matplotlib!=3.6.1,>=3.1\n",
      "  Downloading matplotlib-3.5.3-cp37-cp37m-manylinux_2_5_x86_64.manylinux1_x86_64.whl (11.2 MB)\n",
      "Requirement already satisfied: python-dateutil>=2.7.3 in ./tmp/1686242177321-0/lib/python3.7/site-packages (from pandas>=0.25->seaborn) (2.8.2)\n",
      "Requirement already satisfied: pytz>=2017.3 in /usr/local/lib/python3.7/site-packages (from pandas>=0.25->seaborn) (2022.7)\n",
      "Collecting packaging>=20.0\n",
      "  Downloading packaging-23.1-py3-none-any.whl (48 kB)\n",
      "Collecting pyparsing>=2.2.1\n",
      "  Downloading pyparsing-3.0.9-py3-none-any.whl (98 kB)\n",
      "Collecting cycler>=0.10\n",
      "  Downloading cycler-0.11.0-py3-none-any.whl (6.4 kB)\n",
      "Collecting kiwisolver>=1.0.1\n",
      "  Downloading kiwisolver-1.4.4-cp37-cp37m-manylinux_2_5_x86_64.manylinux1_x86_64.whl (1.1 MB)\n",
      "Collecting pillow>=6.2.0\n",
      "  Downloading Pillow-9.5.0-cp37-cp37m-manylinux_2_17_x86_64.manylinux2014_x86_64.whl (3.3 MB)\n",
      "Collecting fonttools>=4.22.0\n",
      "  Downloading fonttools-4.38.0-py3-none-any.whl (965 kB)\n",
      "Requirement already satisfied: six>=1.5 in /usr/local/lib/python3.7/site-packages (from python-dateutil>=2.7.3->pandas>=0.25->seaborn) (1.13.0)\n",
      "Installing collected packages: typing-extensions, packaging, pyparsing, cycler, kiwisolver, pillow, fonttools, matplotlib, seaborn\n",
      "Successfully installed cycler-0.11.0 fonttools-4.38.0 kiwisolver-1.4.4 matplotlib-3.5.3 packaging-23.1 pillow-9.5.0 pyparsing-3.0.9 seaborn-0.12.2 typing-extensions-4.6.3\n",
      "\n",
      "Collecting tabulate\n",
      "  Downloading tabulate-0.9.0-py3-none-any.whl (35 kB)\n",
      "Installing collected packages: tabulate\n",
      "Successfully installed tabulate-0.9.0\n",
      "\n",
      "WARNING: The directory '/home/.cache/pip' or its parent directory is not owned or is not writable by the current user. The cache has been disabled. Check the permissions and owner of that directory. If executing pip with sudo, you may want sudo's -H flag.\n",
      "\n",
      "WARNING: The directory '/home/.cache/pip' or its parent directory is not owned or is not writable by the current user. The cache has been disabled. Check the permissions and owner of that directory. If executing pip with sudo, you may want sudo's -H flag.\n",
      "\n",
      "WARNING: The directory '/home/.cache/pip' or its parent directory is not owned or is not writable by the current user. The cache has been disabled. Check the permissions and owner of that directory. If executing pip with sudo, you may want sudo's -H flag."
     ]
    }
   ],
   "source": [
    "sc.install_pypi_package('pandas')\n",
    "sc.install_pypi_package('seaborn')\n",
    "sc.install_pypi_package('tabulate')"
   ]
  },
  {
   "cell_type": "code",
   "execution_count": 3,
   "id": "8c1e0ed3",
   "metadata": {},
   "outputs": [
    {
     "data": {
      "application/vnd.jupyter.widget-view+json": {
       "model_id": "1fec8499be964c3d91e24a9e5850f0bf",
       "version_major": 2,
       "version_minor": 0
      },
      "text/plain": [
       "VBox()"
      ]
     },
     "metadata": {},
     "output_type": "display_data"
    },
    {
     "data": {
      "application/vnd.jupyter.widget-view+json": {
       "model_id": "",
       "version_major": 2,
       "version_minor": 0
      },
      "text/plain": [
       "FloatProgress(value=0.0, bar_style='info', description='Progress:', layout=Layout(height='25px', width='50%'),…"
      ]
     },
     "metadata": {},
     "output_type": "display_data"
    },
    {
     "name": "stdout",
     "output_type": "stream",
     "text": [
      "Package                    Version\n",
      "-------------------------- ----------\n",
      "aws-cfn-bootstrap          2.0\n",
      "beautifulsoup4             4.9.3\n",
      "boto                       2.49.0\n",
      "click                      8.1.3\n",
      "cycler                     0.11.0\n",
      "docutils                   0.14\n",
      "fonttools                  4.38.0\n",
      "jmespath                   1.0.1\n",
      "joblib                     1.2.0\n",
      "kiwisolver                 1.4.4\n",
      "lockfile                   0.11.0\n",
      "lxml                       4.9.2\n",
      "matplotlib                 3.5.3\n",
      "mysqlclient                1.4.2\n",
      "nltk                       3.8\n",
      "nose                       1.3.4\n",
      "numpy                      1.20.0\n",
      "packaging                  23.1\n",
      "pandas                     1.3.5\n",
      "Pillow                     9.5.0\n",
      "pip                        20.2.2\n",
      "py-dateutil                2.2\n",
      "pyparsing                  3.0.9\n",
      "pystache                   0.5.4\n",
      "python-daemon              2.2.3\n",
      "python-dateutil            2.8.2\n",
      "python37-sagemaker-pyspark 1.4.2\n",
      "pytz                       2022.7\n",
      "PyYAML                     5.4.1\n",
      "regex                      2021.11.10\n",
      "seaborn                    0.12.2\n",
      "setuptools                 28.8.0\n",
      "simplejson                 3.2.0\n",
      "six                        1.13.0\n",
      "tabulate                   0.9.0\n",
      "tqdm                       4.64.1\n",
      "typing-extensions          4.6.3\n",
      "wheel                      0.29.0\n",
      "windmill                   1.6\n",
      "\n",
      "WARNING: The directory '/home/.cache/pip' or its parent directory is not owned or is not writable by the current user. The cache has been disabled. Check the permissions and owner of that directory. If executing pip with sudo, you may want sudo's -H flag."
     ]
    }
   ],
   "source": [
    "# Los siguientes packetes están disponibles en el cluster\n",
    "sc.list_packages()"
   ]
  },
  {
   "cell_type": "markdown",
   "id": "6204360a",
   "metadata": {},
   "source": [
    "---\n",
    "\n",
    "<a id=\"section1\"></a>\n",
    "## <font color=\"#00586D\"> 1. Introducción</font>\n",
    "<br>"
   ]
  },
  {
   "cell_type": "markdown",
   "id": "ac76b38b",
   "metadata": {},
   "source": [
    "En este capstone vamos a aprender un modelo de detección del sentimiento utilizando MLlib y EMR. Una vez aprendido ampliaremos el proyecto serializando este modelo y comparándolo con el modelo de detección de sentimiento disponible en AWS. \n",
    "\n",
    "Para ello utilizaremos el dataset de __amazon reviews__ que está disponible de manera pública\n",
    "\n",
    "https://s3.amazonaws.com/amazon-reviews-pds/readme.html\n",
    "\n",
    "Este dataset tiene dos versiones una en tsv y otra en parquet. Nosotros usaremos la que está en parquet que está disponible a través de la ruta de s3: `s3://amazon-reviews-pds/parquet`. \n",
    "\n",
    "Este dataset tiene las siguientes columnas (de su diccionario de datos):\n",
    "```\n",
    "marketplace       - 2 letter country code of the marketplace where the review was written.\n",
    "customer_id       - Random identifier that can be used to aggregate reviews written by a single author.\n",
    "review_id         - The unique ID of the review.\n",
    "product_id        - The unique Product ID the review pertains to. In the multilingual dataset the reviews\n",
    "                    for the same product in different countries can be grouped by the same product_id.\n",
    "product_parent    - Random identifier that can be used to aggregate reviews for the same product.\n",
    "product_title     - Title of the product.\n",
    "product_category  - Broad product category that can be used to group reviews \n",
    "                    (also used to group the dataset into coherent parts).\n",
    "star_rating       - The 1-5 star rating of the review.\n",
    "helpful_votes     - Number of helpful votes.\n",
    "total_votes       - Number of total votes the review received.\n",
    "vine              - Review was written as part of the Vine program.\n",
    "verified_purchase - The review is on a verified purchase.\n",
    "review_headline   - The title of the review.\n",
    "review_body       - The review text.\n",
    "review_date       - The date the review was written.\n",
    "```\n",
    "\n",
    "De estas, la columna `product_category` se usa como clave de partición. Podéis encontrar toda la información en el enlace que os proporcionamos más arriba. "
   ]
  },
  {
   "cell_type": "markdown",
   "id": "12c25b56",
   "metadata": {},
   "source": [
    "---\n",
    "\n",
    "<a id=\"section2\"></a>\n",
    "## <font color=\"#00586D\"> 2. Análisis exploratorio</font>\n",
    "<br>"
   ]
  },
  {
   "cell_type": "markdown",
   "id": "a6b4fa06",
   "metadata": {},
   "source": [
    "Antes de empezar con el modelado exploraremos los datos minimamente para poder estudiar sus propiedades."
   ]
  },
  {
   "cell_type": "markdown",
   "id": "096b1366",
   "metadata": {},
   "source": [
    "---\n",
    "### <font color=\"#004D7F\"> <i class=\"fa fa-pencil-square-o\" aria-hidden=\"true\" style=\"color:#004D7F\"></i> Tarea 1: Carga de datos </font>\n",
    "<br>\n",
    "\n",
    "Carga el dataset completo en formato parquet y cuenta sus registros. De momento, no lo persistas. \n",
    "\n",
    "\n"
   ]
  },
  {
   "cell_type": "code",
   "execution_count": 4,
   "id": "1291bb1a",
   "metadata": {},
   "outputs": [
    {
     "data": {
      "application/vnd.jupyter.widget-view+json": {
       "model_id": "805309f18d284f9b990f22766f1071c6",
       "version_major": 2,
       "version_minor": 0
      },
      "text/plain": [
       "VBox()"
      ]
     },
     "metadata": {},
     "output_type": "display_data"
    },
    {
     "data": {
      "application/vnd.jupyter.widget-view+json": {
       "model_id": "",
       "version_major": 2,
       "version_minor": 0
      },
      "text/plain": [
       "FloatProgress(value=0.0, bar_style='info', description='Progress:', layout=Layout(height='25px', width='50%'),…"
      ]
     },
     "metadata": {},
     "output_type": "display_data"
    },
    {
     "name": "stdout",
     "output_type": "stream",
     "text": [
      "<pyspark.sql.session.SparkSession object at 0x7f1328478650>"
     ]
    }
   ],
   "source": [
    "spark"
   ]
  },
  {
   "cell_type": "code",
   "execution_count": 5,
   "id": "52ca06f8",
   "metadata": {},
   "outputs": [
    {
     "data": {
      "application/vnd.jupyter.widget-view+json": {
       "model_id": "80422c072f5b40e78f18d72c5044d0c4",
       "version_major": 2,
       "version_minor": 0
      },
      "text/plain": [
       "VBox()"
      ]
     },
     "metadata": {},
     "output_type": "display_data"
    },
    {
     "data": {
      "application/vnd.jupyter.widget-view+json": {
       "model_id": "",
       "version_major": 2,
       "version_minor": 0
      },
      "text/plain": [
       "FloatProgress(value=0.0, bar_style='info', description='Progress:', layout=Layout(height='25px', width='50%'),…"
      ]
     },
     "metadata": {},
     "output_type": "display_data"
    }
   ],
   "source": [
    "# Prepara la lectura de datos en la siguiente variable\n",
    "df = spark.read.format(\"parquet\").load(\"s3://amazon-reviews-pds/parquet\")"
   ]
  },
  {
   "cell_type": "code",
   "execution_count": 6,
   "id": "e52c4ba8",
   "metadata": {},
   "outputs": [
    {
     "data": {
      "application/vnd.jupyter.widget-view+json": {
       "model_id": "c489c2b3a9a84ad1857ecd12ab3dcbc5",
       "version_major": 2,
       "version_minor": 0
      },
      "text/plain": [
       "VBox()"
      ]
     },
     "metadata": {},
     "output_type": "display_data"
    },
    {
     "data": {
      "application/vnd.jupyter.widget-view+json": {
       "model_id": "",
       "version_major": 2,
       "version_minor": 0
      },
      "text/plain": [
       "FloatProgress(value=0.0, bar_style='info', description='Progress:', layout=Layout(height='25px', width='50%'),…"
      ]
     },
     "metadata": {},
     "output_type": "display_data"
    },
    {
     "name": "stdout",
     "output_type": "stream",
     "text": [
      "160796570"
     ]
    }
   ],
   "source": [
    "# Cuenta los registros del dataset\n",
    "df.count()"
   ]
  },
  {
   "cell_type": "markdown",
   "id": "ef64ab8a",
   "metadata": {},
   "source": [
    "**Resultado esperado**: 160796570 registros\n",
    "\n",
    "<div style=\"text-align: right\"><font size=4> <i class=\"fa fa-check-square-o\" aria-hidden=\"true\" style=\"color:#00586D\"></i></font></div>\n"
   ]
  },
  {
   "cell_type": "markdown",
   "id": "cf872e82",
   "metadata": {},
   "source": [
    "---\n",
    "### <font color=\"#004D7F\"> <i class=\"fa fa-pencil-square-o\" aria-hidden=\"true\" style=\"color:#004D7F\"></i> Tarea 2: Filtrado </font>\n",
    "<br>\n",
    "\n",
    "\n",
    "Como el dataset es masivo para entrenar el modelo de sentiment vamos a trabajar únicamente con una partición. Concretamente utilizaremos la partición de `Electronics`. Filtra los datos para quedarte con esta partición y cuenta ahora el total de elementos de este nuevo dataset. No cachees este dataset. \n",
    "\n"
   ]
  },
  {
   "cell_type": "code",
   "execution_count": 8,
   "id": "a699fb47",
   "metadata": {},
   "outputs": [
    {
     "data": {
      "application/vnd.jupyter.widget-view+json": {
       "model_id": "939463cde82c41669e9a1755460e6a01",
       "version_major": 2,
       "version_minor": 0
      },
      "text/plain": [
       "VBox()"
      ]
     },
     "metadata": {},
     "output_type": "display_data"
    },
    {
     "data": {
      "application/vnd.jupyter.widget-view+json": {
       "model_id": "",
       "version_major": 2,
       "version_minor": 0
      },
      "text/plain": [
       "FloatProgress(value=0.0, bar_style='info', description='Progress:', layout=Layout(height='25px', width='50%'),…"
      ]
     },
     "metadata": {},
     "output_type": "display_data"
    },
    {
     "name": "stdout",
     "output_type": "stream",
     "text": [
      "3120938"
     ]
    }
   ],
   "source": [
    "# Solución\n",
    "(df\n",
    "    .where(sqlf.col(\"product_category\") == \"Electronics\")\n",
    "    .count()\n",
    ")"
   ]
  },
  {
   "cell_type": "markdown",
   "id": "a8b41c33",
   "metadata": {},
   "source": [
    "**Resultado esperado**: 3120938 registros\n",
    "\n",
    "<div style=\"text-align: right\"><font size=4> <i class=\"fa fa-check-square-o\" aria-hidden=\"true\" style=\"color:#00586D\"></i></font></div>\n"
   ]
  },
  {
   "cell_type": "markdown",
   "id": "a0d8e091",
   "metadata": {},
   "source": [
    "---\n",
    "### <font color=\"#004D7F\"> <i class=\"fa fa-pencil-square-o\" aria-hidden=\"true\" style=\"color:#004D7F\"></i> Tarea 3: Almacenamiento </font>\n",
    "<br>\n",
    "\n",
    "\n",
    "Para no seguir trabajando con los datos públicos, vamos a escribir los datos en un bucket de S3 en nuestra cuenta. Para ello, crea un bucket the S3 para este capstone y escribe los datos dentro del bucket en el directorio `electronics`. Utiliza repartition para tener 32 particiones. Tras esto, vuelve a cargar el dataset y cachéalo. \n",
    "\n"
   ]
  },
  {
   "cell_type": "code",
   "execution_count": 10,
   "id": "65812e5f",
   "metadata": {},
   "outputs": [
    {
     "data": {
      "application/vnd.jupyter.widget-view+json": {
       "model_id": "b7eb0bca04474f16bbd5ed5f2deeb849",
       "version_major": 2,
       "version_minor": 0
      },
      "text/plain": [
       "VBox()"
      ]
     },
     "metadata": {},
     "output_type": "display_data"
    },
    {
     "data": {
      "application/vnd.jupyter.widget-view+json": {
       "model_id": "",
       "version_major": 2,
       "version_minor": 0
      },
      "text/plain": [
       "FloatProgress(value=0.0, bar_style='info', description='Progress:', layout=Layout(height='25px', width='50%'),…"
      ]
     },
     "metadata": {},
     "output_type": "display_data"
    }
   ],
   "source": [
    "# Solución\n",
    "(df\n",
    "    .where(sqlf.col(\"product_category\") == \"Electronics\")\n",
    "    .repartition(32)\n",
    "    .write\n",
    "    .format(\"parquet\")\n",
    "    .save(\"s3a://sergio-saez-capstone12/electronics\")\n",
    ")\n",
    "\n",
    "df_electronics = (\n",
    "    spark.read\n",
    "        .format(\"parquet\")\n",
    "        .load(\"s3a://sergio-saez-capstone12/electronics\")\n",
    "        .cache()\n",
    ")"
   ]
  },
  {
   "cell_type": "markdown",
   "id": "3244edd3",
   "metadata": {},
   "source": [
    "\n",
    "\n",
    "<div style=\"text-align: right\"><font size=4> <i class=\"fa fa-check-square-o\" aria-hidden=\"true\" style=\"color:#00586D\"></i></font></div>\n"
   ]
  },
  {
   "cell_type": "markdown",
   "id": "c1c2fd26",
   "metadata": {},
   "source": [
    "---\n",
    "### <font color=\"#004D7F\"> <i class=\"fa fa-pencil-square-o\" aria-hidden=\"true\" style=\"color:#004D7F\"></i> Tarea 4: Almacenamiento </font>\n",
    "<br>\n",
    "\n",
    "Obten los siguiente resultados del dataset que acabáis de cargar:\n",
    "\n",
    "1. Muestra el total de reviews para cada posible número de estrellas recibidas (*star_rating*)\n",
    "2. Obtén los 10 productos con mayor número de votos (*total_votes*) mostrando su nombre, numero de votos y valoración media (*star_rating*)\n",
    "3. Obtén la cantidad de reviews (1 registro de dataset -> 1 review) y la valoración media (*star_rating*) por mes y año. Obten los últimos 15 registros ordenador por año y mes.  "
   ]
  },
  {
   "cell_type": "code",
   "execution_count": 35,
   "id": "89d5a1a1",
   "metadata": {},
   "outputs": [
    {
     "data": {
      "application/vnd.jupyter.widget-view+json": {
       "model_id": "9409a10a52044088a669e720cd22c142",
       "version_major": 2,
       "version_minor": 0
      },
      "text/plain": [
       "VBox()"
      ]
     },
     "metadata": {},
     "output_type": "display_data"
    },
    {
     "data": {
      "application/vnd.jupyter.widget-view+json": {
       "model_id": "",
       "version_major": 2,
       "version_minor": 0
      },
      "text/plain": [
       "FloatProgress(value=0.0, bar_style='info', description='Progress:', layout=Layout(height='25px', width='50%'),…"
      ]
     },
     "metadata": {},
     "output_type": "display_data"
    }
   ],
   "source": [
    "from pyspark.sql.functions import count, avg, desc, col, month, round"
   ]
  },
  {
   "cell_type": "code",
   "execution_count": 38,
   "id": "d385f8a3",
   "metadata": {},
   "outputs": [
    {
     "data": {
      "application/vnd.jupyter.widget-view+json": {
       "model_id": "7340f38348ca462db8cdfca12cbcf061",
       "version_major": 2,
       "version_minor": 0
      },
      "text/plain": [
       "VBox()"
      ]
     },
     "metadata": {},
     "output_type": "display_data"
    },
    {
     "data": {
      "application/vnd.jupyter.widget-view+json": {
       "model_id": "",
       "version_major": 2,
       "version_minor": 0
      },
      "text/plain": [
       "FloatProgress(value=0.0, bar_style='info', description='Progress:', layout=Layout(height='25px', width='50%'),…"
      ]
     },
     "metadata": {},
     "output_type": "display_data"
    },
    {
     "name": "stdout",
     "output_type": "stream",
     "text": [
      "+-----------+-------+\n",
      "|star_rating|  count|\n",
      "+-----------+-------+\n",
      "|          1| 360558|\n",
      "|          2| 180668|\n",
      "|          3| 240859|\n",
      "|          4| 542181|\n",
      "|          5|1796672|\n",
      "+-----------+-------+\n",
      "\n",
      "+--------------------+-----------+-----------+\n",
      "|       product_title|total_votes|star_rating|\n",
      "+--------------------+-----------+-----------+\n",
      "|Panasonic ErgoFit...|      24833|          4|\n",
      "|AmazonBasics High...|      16163|          5|\n",
      "|Mediabridge ULTRA...|      15675|          5|\n",
      "|Clip Plus 4 GB MP...|      11779|          4|\n",
      "|High Speed HDMI C...|      11177|          4|\n",
      "|AmazonBasics High...|      10740|          5|\n",
      "|VideoSecu ML531BE...|      10216|          5|\n",
      "|CABTE High speed ...|       9923|          5|\n",
      "|Cheetah APTMM2B T...|       9365|          4|\n",
      "|Sennheiser On-Ear...|       9104|          4|\n",
      "+--------------------+-----------+-----------+\n",
      "\n",
      "+----+-----+------------+------------------+\n",
      "|year|month|review_count|  mean_star_rating|\n",
      "+----+-----+------------+------------------+\n",
      "|2015|    1|      120852| 4.152268890874789|\n",
      "|2015|    2|      107623| 4.117920890515967|\n",
      "|2015|    3|      109175|4.1156858255095035|\n",
      "|2015|    4|       93469| 4.102825535739122|\n",
      "|2015|    5|       89676| 4.100483964494402|\n",
      "|2015|    6|       91815| 4.093296302347111|\n",
      "|2015|    7|      100128| 4.086149728347715|\n",
      "|2015|    8|      103336|4.0944104668266625|\n",
      "|2014|    1|       74741| 4.060743099503619|\n",
      "|2014|    2|       56799|4.0293315023151814|\n",
      "|2014|    3|       57728|  4.02747366962306|\n",
      "|2014|    4|       49811| 4.019292927265062|\n",
      "|2014|    5|       47396| 4.032365600472613|\n",
      "|2014|    6|       48707| 4.015726692261892|\n",
      "|2014|    7|       79816| 4.117582940763756|\n",
      "|2014|    8|       82550| 4.116026650514839|\n",
      "|2014|    9|       78126| 4.115928116120114|\n",
      "|2014|   10|       78519| 4.113870528152422|\n",
      "|2014|   11|       77844| 4.107843892914033|\n",
      "|2014|   12|      108294| 4.120302140469462|\n",
      "+----+-----+------------+------------------+\n",
      "only showing top 20 rows"
     ]
    }
   ],
   "source": [
    "# Solución\n",
    "df_electronics.groupBy(\"star_rating\").count().orderBy(\"star_rating\").show()\n",
    "\n",
    "df_electronics \\\n",
    "    .groupBy(\"product_title\") \\\n",
    "    .agg(\n",
    "        count(\"*\").alias(\"total_votes\"),\n",
    "        round(avg(\"star_rating\")).cast(\"int\").alias(\"star_rating\")\n",
    "        #He hecho un round puesto que en el ejemplo sale la valoracion media con numero exacto\n",
    "        #Si fuera valoracion media seria solo avg(\"star_rating\").alias(\"star_rating\")\n",
    "    ) \\\n",
    "    .orderBy(desc(\"total_votes\")) \\\n",
    "    .limit(10) \\\n",
    "    .show()\n",
    "\n",
    "df_electronics \\\n",
    "    .withColumn(\"month\", month(\"review_date\")) \\\n",
    "    .groupBy(\"year\", \"month\") \\\n",
    "    .agg(\n",
    "        count(\"*\").alias(\"review_count\"),\n",
    "        avg(\"star_rating\").alias(\"mean_star_rating\")\n",
    "    ) \\\n",
    "    .orderBy(desc(\"year\"), \"month\") \\\n",
    "    .show()"
   ]
  },
  {
   "cell_type": "markdown",
   "id": "b06238b7",
   "metadata": {},
   "source": [
    "**Resultados esperados**:\n",
    "1. Muestra el total de reviews para cada posible número de estrellas recibidas (*star_rating*)\n",
    "\n",
    "|   star_rating |            count |\n",
    "|--------------:|-----------------:|\n",
    "|             1 | 360558           |\n",
    "|             3 | 240859           |\n",
    "|             4 | 542181           |\n",
    "|             5 | 1796672          |\n",
    "|             2 | 180668           |\n",
    "\n",
    "2. Obtén los 10 productos con mayor número de votos (*total_votes*) mostrando su nombre, numero de votos y valoración media (*star_rating*)\n",
    "\n",
    "| product_title                                                                                    |   total_votes |   star_rating |\n",
    "|:-------------------------------------------------------------------------------------------------|--------------:|--------------:|\n",
    "| Denon AKDL1 Dedicated Link Cable (Discontinued by Manufacturer)                                  |         12944 |             3 |\n",
    "| AudioQuest K2 Terminated Speaker Cable - UST 2.44 m Plugs 8' Pair (Discontinued by Manufacturer) |          9072 |             1 |\n",
    "| Panasonic ErgoFit In-Ear Earbud Headphone                                                        |          8680 |             5 |\n",
    "| Apple iPod touch 8GB (4th Generation)                                                            |          6353 |             5 |\n",
    "| Denon AKDL1 Dedicated Link Cable (Discontinued by Manufacturer)                                  |          5546 |             1 |\n",
    "| Apple iPod touch 8 GB 2nd Generation                                                             |          4595 |             5 |\n",
    "| Bose QuietComfort 15 Acoustic Noise Cancelling Headphones (Discontinued by Manufacturer)         |          4556 |             4 |\n",
    "| Panasonic ErgoFit In-Ear Earbud Headphone                                                        |          4341 |             5 |\n",
    "| X-Mini II XAM4-B Portable Capsule Speaker, Mono                                                  |          4260 |             1 |\n",
    "| Denon AKDL1 Dedicated Link Cable (Discontinued by Manufacturer)                                  |          4242 |             2 |\n",
    "\n",
    "3. Obtén la cantidad de reviews (1 registro de dataset -> 1 review) y la valoración media (*star_rating*) por mes y año. Obten los últimos 15 registros ordenador por año y mes. \n",
    "\n",
    "|   year |   month |   review_count |   mean_star_rating |\n",
    "|-------:|--------:|---------------:|-------------------:|\n",
    "|   2015 |       8 |         103336 |            4.09441 |\n",
    "|   2015 |       7 |         100128 |            4.08615 |\n",
    "|   2015 |       6 |          91815 |            4.0933  |\n",
    "|   2015 |       5 |          89676 |            4.10048 |\n",
    "|   2015 |       4 |          93469 |            4.10283 |\n",
    "|   2015 |       3 |         109175 |            4.11569 |\n",
    "|   2015 |       2 |         107623 |            4.11792 |\n",
    "|   2015 |       1 |         120852 |            4.15227 |\n",
    "|   2014 |      12 |         108294 |            4.1203  |\n",
    "|   2014 |      11 |          77844 |            4.10784 |\n",
    "|   2014 |      10 |          78519 |            4.11387 |\n",
    "|   2014 |       9 |          78126 |            4.11593 |\n",
    "|   2014 |       8 |          82550 |            4.11603 |\n",
    "|   2014 |       7 |          79816 |            4.11758 |\n",
    "|   2014 |       6 |          48707 |            4.01573 |\n",
    "\n",
    "\n",
    "<div style=\"text-align: right\"><font size=4> <i class=\"fa fa-check-square-o\" aria-hidden=\"true\" style=\"color:#00586D\"></i></font></div>\n",
    "\n",
    "--- "
   ]
  },
  {
   "cell_type": "markdown",
   "id": "b21dc035",
   "metadata": {},
   "source": [
    "---\n",
    "\n",
    "<a id=\"section3\"></a>\n",
    "## <font color=\"#00586D\"> 3. Modelado</font>\n",
    "<br>"
   ]
  },
  {
   "cell_type": "markdown",
   "id": "b5fb323e",
   "metadata": {},
   "source": [
    "Como paso previo al modelado realizaremos dos procesos de limpieza sobre los datos:\n"
   ]
  },
  {
   "cell_type": "markdown",
   "id": "654e055b",
   "metadata": {},
   "source": [
    "---\n",
    "### <font color=\"#004D7F\"> <i class=\"fa fa-pencil-square-o\" aria-hidden=\"true\" style=\"color:#004D7F\"></i> Tarea 6: Preparación del texto </font>\n",
    "<br>\n",
    "\n",
    "Limpiead el texto de las reviews (`review_body`) utilizando expresiones sobre strings o expresiones regulares\n",
    " - Pasar todo el texto a minusculas.\n",
    " - Eliminar números y signos de puntuacion.\n",
    " - Si existen, elimina los registros con valores nulos en el body con las transformaciones anteriores. \n",
    " \n",
    "Muestra los resultados para las primeras 10 filas del dataframe ordenadas por `review_id`"
   ]
  },
  {
   "cell_type": "code",
   "execution_count": 43,
   "id": "6635fefd",
   "metadata": {},
   "outputs": [
    {
     "data": {
      "application/vnd.jupyter.widget-view+json": {
       "model_id": "20ffc7b86c2a4818be88095b36e533a3",
       "version_major": 2,
       "version_minor": 0
      },
      "text/plain": [
       "VBox()"
      ]
     },
     "metadata": {},
     "output_type": "display_data"
    },
    {
     "data": {
      "application/vnd.jupyter.widget-view+json": {
       "model_id": "",
       "version_major": 2,
       "version_minor": 0
      },
      "text/plain": [
       "FloatProgress(value=0.0, bar_style='info', description='Progress:', layout=Layout(height='25px', width='50%'),…"
      ]
     },
     "metadata": {},
     "output_type": "display_data"
    },
    {
     "name": "stdout",
     "output_type": "stream",
     "text": [
      "+--------------+--------------------+--------------------+\n",
      "|     review_id|         review_body|   clean_review_body|\n",
      "+--------------+--------------------+--------------------+\n",
      "|R10000WMGXS51T|Great little emer...|great little emer...|\n",
      "|R10001L4QTCA84|Lives up to its c...|lives up to its c...|\n",
      "|R10003OLR2P5UE|I've gone through...|ive gone through ...|\n",
      "|R10005O193PJ6W|stopped working a...|stopped working a...|\n",
      "|R10008LR7CU84N|I ordered this ca...|i ordered this ca...|\n",
      "|R10009JN2UWOJC|Have not owned it...|have not owned it...|\n",
      "|R1000AMVKPW32O|Bought for a gift...|bought for a gift...|\n",
      "|R1000CJMO2L8X4| Perfect for the gym| perfect for the gym|\n",
      "|R1000EDGJUU3CU|Love these !!! Th...|love these  the s...|\n",
      "|R1000EG9XXBLXT|I have had good s...|i have had good s...|\n",
      "+--------------+--------------------+--------------------+\n",
      "only showing top 10 rows"
     ]
    }
   ],
   "source": [
    "# Solución\n",
    "from pyspark.sql.functions import lower, regexp_replace, col\n",
    "\n",
    "df_review_clean = df_electronics.withColumn(\"clean_review_body\", lower(col(\"review_body\")))\n",
    "df_review_clean = df_review_clean.withColumn(\"clean_review_body\", regexp_replace(col(\"clean_review_body\"), \"[^a-zA-Z ]\", \"\"))\n",
    "df_review_clean = df_review_clean.filter(col(\"clean_review_body\").isNotNull())\n",
    "df_review_clean.select(\"review_id\", \"review_body\", \"clean_review_body\").orderBy(\"review_id\").show(10, truncate=True)"
   ]
  },
  {
   "cell_type": "markdown",
   "id": "19c20f25",
   "metadata": {},
   "source": [
    "**Resultado esperado**:\n",
    "\n",
    "| review_id      | review_body                                                                                                                                                                                                                                                                                                                                                                                                                                                                                                                                                                                                                                                                                                                                                                                                                                                                                                                                                                                                                                                                                                                                                                                                                                                                                                             | clean_review_body                                                                                                                                                                                                                                                                                                                                                                                                                                                                                                                                                                                                                                                                                                                                                                                                                                                                                                                                                                                                                                                                                                                                                                                                                                          |\n",
    "|:---------------|:------------------------------------------------------------------------------------------------------------------------------------------------------------------------------------------------------------------------------------------------------------------------------------------------------------------------------------------------------------------------------------------------------------------------------------------------------------------------------------------------------------------------------------------------------------------------------------------------------------------------------------------------------------------------------------------------------------------------------------------------------------------------------------------------------------------------------------------------------------------------------------------------------------------------------------------------------------------------------------------------------------------------------------------------------------------------------------------------------------------------------------------------------------------------------------------------------------------------------------------------------------------------------------------------------------------------|:-----------------------------------------------------------------------------------------------------------------------------------------------------------------------------------------------------------------------------------------------------------------------------------------------------------------------------------------------------------------------------------------------------------------------------------------------------------------------------------------------------------------------------------------------------------------------------------------------------------------------------------------------------------------------------------------------------------------------------------------------------------------------------------------------------------------------------------------------------------------------------------------------------------------------------------------------------------------------------------------------------------------------------------------------------------------------------------------------------------------------------------------------------------------------------------------------------------------------------------------------------------|\n",
    "| R10000WMGXS51T | Great little emergency radio.  Very good reception.  The<br />weather band is a feature.  Can't beat the quality for this price/                                                                                                                                                                                                                                                                                                                                                                                                                                                                                                                                                                                                                                                                                                                                                                                                                                                                                                                                                                                                                                                                                                                                                                                        | great little emergency radio  very good reception  thebr weather band is a feature  cant beat the quality for this price                                                                                                                                                                                                                                                                                                                                                                                                                                                                                                                                                                                                                                                                                                                                                                                                                                                                                                                                                                                                                                                                                                                                   |\n",
    "| R10001L4QTCA84 | Lives up to its claim, and really does fit bulky phone cases. Braided cable is sturdy but flexible. I think it stays a little more flexible in the cold weather, which is nice. Definitely getting a few more in the future!                                                                                                                                                                                                                                                                                                                                                                                                                                                                                                                                                                                                                                                                                                                                                                                                                                                                                                                                                                                                                                                                                            | lives up to its claim and really does fit bulky phone cases braided cable is sturdy but flexible i think it stays a little more flexible in the cold weather which is nice definitely getting a few more in the future                                                                                                                                                                                                                                                                                                                                                                                                                                                                                                                                                                                                                                                                                                                                                                                                                                                                                                                                                                                                                                     |\n",
    "| R10003OLR2P5UE | I've gone through three pairs of these in the last two years. I am in love with the sound quality, and even though I know it's not the best I particularly love how the bass sounds. They're comfortable to wear and very isolating. With these headphones, you don't even need noise canceling. There is very little sound leak, unless you like to listen to music ridiculously loud. All in all, I was very impressed with these. They're without a doubt the best sounding headphones I've ever owned.<br /><br />Now, the problem: The wires are thin and stringy, and do NOT last. On my first pair, the part of the wire that connected to the left cup came apart. I'm not an abuser of headphones, either. On the other two pairs, they wire at the base next to the adapter came apart. I went at them with a soldering iron, desperately trying to make them last as long as I could, but they'd always crap out on me again. The sound quality distorts over time, and the foam around the cups is cheap and wears out quickly.<br /><br />They aren't worth the price for such bad quality. I'd suggest looking around for other pairs, Sony, Denon, and Sennheiser all have superior headphones for a similar price. I myself just ordered a pair of Denon AHD1001's, and here's hoping they last longer! | ive gone through three pairs of these in the last two years i am in love with the sound quality and even though i know its not the best i particularly love how the bass sounds theyre comfortable to wear and very isolating with these headphones you dont even need noise canceling there is very little sound leak unless you like to listen to music ridiculously loud all in all i was very impressed with these theyre without a doubt the best sounding headphones ive ever ownedbr br now the problem the wires are thin and stringy and do not last on my first pair the part of the wire that connected to the left cup came apart im not an abuser of headphones either on the other two pairs they wire at the base next to the adapter came apart i went at them with a soldering iron desperately trying to make them last as long as i could but theyd always crap out on me again the sound quality distorts over time and the foam around the cups is cheap and wears out quicklybr br they arent worth the price for such bad quality id suggest looking around for other pairs sony denon and sennheiser all have superior headphones for a similar price i myself just ordered a pair of denon ahds and heres hoping they last longer |\n",
    "| R10005O193PJ6W | stopped working after a while, changed batteries, it worked for a few days, then it quit                                                                                                                                                                                                                                                                                                                                                                                                                                                                                                                                                                                                                                                                                                                                                                                                                                                                                                                                                                                                                                                                                                                                                                                                                                | stopped working after a while changed batteries it worked for a few days then it quit                                                                                                                                                                                                                                                                                                                                                                                                                                                                                                                                                                                                                                                                                                                                                                                                                                                                                                                                                                                                                                                                                                                                                                      |\n",
    "| R10008LR7CU84N | I ordered this cable and it doesn't work when I contacted them they told me I was doing something wrong. I then had my dad who it a certified computer tech look at it and there is something wrong with the cable. When I told them they never responded to me again.                                                                                                                                                                                                                                                                                                                                                                                                                                                                                                                                                                                                                                                                                                                                                                                                                                                                                                                                                                                                                                                  | i ordered this cable and it doesnt work when i contacted them they told me i was doing something wrong i then had my dad who it a certified computer tech look at it and there is something wrong with the cable when i told them they never responded to me again                                                                                                                                                                                                                                                                                                                                                                                                                                                                                                                                                                                                                                                                                                                                                                                                                                                                                                                                                                                         |\n",
    "| R10009JN2UWOJC | Have not owned it that long however it has the features , feel and works like a quality unit that would be at a much higher price point                                                                                                                                                                                                                                                                                                                                                                                                                                                                                                                                                                                                                                                                                                                                                                                                                                                                                                                                                                                                                                                                                                                                                                                 | have not owned it that long however it has the features  feel and works like a quality unit that would be at a much higher price point                                                                                                                                                                                                                                                                                                                                                                                                                                                                                                                                                                                                                                                                                                                                                                                                                                                                                                                                                                                                                                                                                                                     |\n",
    "| R1000AMVKPW32O | Bought for a gift and it is just what was needed to mount the new 32&#34; TV outdoors. The fact that it has full motion swing makes it even better because we can move it around to see it from different angles and still have a sturdy mount.                                                                                                                                                                                                                                                                                                                                                                                                                                                                                                                                                                                                                                                                                                                                                                                                                                                                                                                                                                                                                                                                         | bought for a gift and it is just what was needed to mount the new  tv outdoors the fact that it has full motion swing makes it even better because we can move it around to see it from different angles and still have a sturdy mount                                                                                                                                                                                                                                                                                                                                                                                                                                                                                                                                                                                                                                                                                                                                                                                                                                                                                                                                                                                                                     |\n",
    "| R1000CJMO2L8X4 | Perfect for the gym                                                                                                                                                                                                                                                                                                                                                                                                                                                                                                                                                                                                                                                                                                                                                                                                                                                                                                                                                                                                                                                                                                                                                                                                                                                                                                     | perfect for the gym                                                                                                                                                                                                                                                                                                                                                                                                                                                                                                                                                                                                                                                                                                                                                                                                                                                                                                                                                                                                                                                                                                                                                                                                                                        |\n",
    "| R1000EDGJUU3CU | Love these !!! The sound quality is amazing ! The price was amazing especially for the quality.                                                                                                                                                                                                                                                                                                                                                                                                                                                                                                                                                                                                                                                                                                                                                                                                                                                                                                                                                                                                                                                                                                                                                                                                                         | love these  the sound quality is amazing  the price was amazing especially for the quality                                                                                                                                                                                                                                                                                                                                                                                                                                                                                                                                                                                                                                                                                                                                                                                                                                                                                                                                                                                                                                                                                                                                                                 |\n",
    "| R1000EG9XXBLXT | I have had good success with these disks, and have used hundreds of them successfully on both computers and a dedicated Panosonic DVD recorder. They seem very reliable, and the lines on the disk label help to keep labeling neat and straight.                                                                                                                                                                                                                                                                                                                                                                                                                                                                                                                                                                                                                                                                                                                                                                                                                                                                                                                                                                                                                                                                       | i have had good success with these disks and have used hundreds of them successfully on both computers and a dedicated panosonic dvd recorder they seem very reliable and the lines on the disk label help to keep labeling neat and straight                                                                                                                                                                                                                                                                                                                                                                                                                                                                                                                                                                                                                                                                                                                                                                                                                                                                                                                                                                                                              |\n",
    "\n",
    "<div style=\"text-align: right\"><font size=4> <i class=\"fa fa-check-square-o\" aria-hidden=\"true\" style=\"color:#00586D\"></i></font></div>\n"
   ]
  },
  {
   "cell_type": "markdown",
   "id": "2301ed8a",
   "metadata": {},
   "source": [
    "---\n",
    "### <font color=\"#004D7F\"> <i class=\"fa fa-pencil-square-o\" aria-hidden=\"true\" style=\"color:#004D7F\"></i> Tarea 7: Obtención del sentiment </font>\n",
    "<br>\n",
    "\n",
    "Cread la variable `sentiment` en función del número de estrellas asumiendo que una review de menos (<) de 3 estrellas es negativa, usando 1 para el sentiment positivo y 0 para el negativo. Para poder generar la variable que determine el sentiment a partir del número de estrellas podéis utilizar la función de spark `when`. Muestra el resultado para las primeras 10 reviews ordenadas por `review_id`. "
   ]
  },
  {
   "cell_type": "code",
   "execution_count": 48,
   "id": "81c01b5e",
   "metadata": {},
   "outputs": [
    {
     "data": {
      "application/vnd.jupyter.widget-view+json": {
       "model_id": "0761e5229f95440ab285727ab4386c51",
       "version_major": 2,
       "version_minor": 0
      },
      "text/plain": [
       "VBox()"
      ]
     },
     "metadata": {},
     "output_type": "display_data"
    },
    {
     "data": {
      "application/vnd.jupyter.widget-view+json": {
       "model_id": "",
       "version_major": 2,
       "version_minor": 0
      },
      "text/plain": [
       "FloatProgress(value=0.0, bar_style='info', description='Progress:', layout=Layout(height='25px', width='50%'),…"
      ]
     },
     "metadata": {},
     "output_type": "display_data"
    },
    {
     "name": "stdout",
     "output_type": "stream",
     "text": [
      "+--------------+--------------------+-----------+---------+\n",
      "|     review_id|         review_body|star_rating|sentiment|\n",
      "+--------------+--------------------+-----------+---------+\n",
      "|R10000WMGXS51T|Great little emer...|          5|        1|\n",
      "|R10001L4QTCA84|Lives up to its c...|          5|        1|\n",
      "|R10003OLR2P5UE|I've gone through...|          3|        1|\n",
      "|R10005O193PJ6W|stopped working a...|          3|        1|\n",
      "|R10008LR7CU84N|I ordered this ca...|          1|        0|\n",
      "|R10009JN2UWOJC|Have not owned it...|          5|        1|\n",
      "|R1000AMVKPW32O|Bought for a gift...|          5|        1|\n",
      "|R1000CJMO2L8X4| Perfect for the gym|          5|        1|\n",
      "|R1000EDGJUU3CU|Love these !!! Th...|          5|        1|\n",
      "|R1000EG9XXBLXT|I have had good s...|          5|        1|\n",
      "+--------------+--------------------+-----------+---------+\n",
      "only showing top 10 rows"
     ]
    }
   ],
   "source": [
    "# Solución\n",
    "from pyspark.sql.functions import when\n",
    "\n",
    "df_sentiment = df_review_clean.withColumn(\"sentiment\", when(col(\"star_rating\")<3, 0).otherwise(1))\n",
    "df_sentiment.select(\"review_id\",\"review_body\",\"star_rating\",\"sentiment\").orderBy(\"review_id\").show(10, truncate=True)"
   ]
  },
  {
   "cell_type": "markdown",
   "id": "7d0bfea8",
   "metadata": {},
   "source": [
    "**Resultado esperado**:\n",
    "\n",
    "| review_id      | review_body                                                                                                                                                                                                                                                                                                                                                                                                                                                                                                                                                                                                                                                                                                                                                                                                                                                                                                                                                                                                                                                                                                                                                                                                                                                                                                             |   star_rating |   sentiment |\n",
    "|:---------------|:------------------------------------------------------------------------------------------------------------------------------------------------------------------------------------------------------------------------------------------------------------------------------------------------------------------------------------------------------------------------------------------------------------------------------------------------------------------------------------------------------------------------------------------------------------------------------------------------------------------------------------------------------------------------------------------------------------------------------------------------------------------------------------------------------------------------------------------------------------------------------------------------------------------------------------------------------------------------------------------------------------------------------------------------------------------------------------------------------------------------------------------------------------------------------------------------------------------------------------------------------------------------------------------------------------------------|--------------:|------------:|\n",
    "| R10000WMGXS51T | Great little emergency radio.  Very good reception.  The<br />weather band is a feature.  Can't beat the quality for this price/                                                                                                                                                                                                                                                                                                                                                                                                                                                                                                                                                                                                                                                                                                                                                                                                                                                                                                                                                                                                                                                                                                                                                                                        |             5 |           1 |\n",
    "| R10001L4QTCA84 | Lives up to its claim, and really does fit bulky phone cases. Braided cable is sturdy but flexible. I think it stays a little more flexible in the cold weather, which is nice. Definitely getting a few more in the future!                                                                                                                                                                                                                                                                                                                                                                                                                                                                                                                                                                                                                                                                                                                                                                                                                                                                                                                                                                                                                                                                                            |             5 |           1 |\n",
    "| R10003OLR2P5UE | I've gone through three pairs of these in the last two years. I am in love with the sound quality, and even though I know it's not the best I particularly love how the bass sounds. They're comfortable to wear and very isolating. With these headphones, you don't even need noise canceling. There is very little sound leak, unless you like to listen to music ridiculously loud. All in all, I was very impressed with these. They're without a doubt the best sounding headphones I've ever owned.<br /><br />Now, the problem: The wires are thin and stringy, and do NOT last. On my first pair, the part of the wire that connected to the left cup came apart. I'm not an abuser of headphones, either. On the other two pairs, they wire at the base next to the adapter came apart. I went at them with a soldering iron, desperately trying to make them last as long as I could, but they'd always crap out on me again. The sound quality distorts over time, and the foam around the cups is cheap and wears out quickly.<br /><br />They aren't worth the price for such bad quality. I'd suggest looking around for other pairs, Sony, Denon, and Sennheiser all have superior headphones for a similar price. I myself just ordered a pair of Denon AHD1001's, and here's hoping they last longer! |             3 |           1 |\n",
    "| R10005O193PJ6W | stopped working after a while, changed batteries, it worked for a few days, then it quit                                                                                                                                                                                                                                                                                                                                                                                                                                                                                                                                                                                                                                                                                                                                                                                                                                                                                                                                                                                                                                                                                                                                                                                                                                |             3 |           1 |\n",
    "| R10008LR7CU84N | I ordered this cable and it doesn't work when I contacted them they told me I was doing something wrong. I then had my dad who it a certified computer tech look at it and there is something wrong with the cable. When I told them they never responded to me again.                                                                                                                                                                                                                                                                                                                                                                                                                                                                                                                                                                                                                                                                                                                                                                                                                                                                                                                                                                                                                                                  |             1 |           0 |\n",
    "| R10009JN2UWOJC | Have not owned it that long however it has the features , feel and works like a quality unit that would be at a much higher price point                                                                                                                                                                                                                                                                                                                                                                                                                                                                                                                                                                                                                                                                                                                                                                                                                                                                                                                                                                                                                                                                                                                                                                                 |             5 |           1 |\n",
    "| R1000AMVKPW32O | Bought for a gift and it is just what was needed to mount the new 32&#34; TV outdoors. The fact that it has full motion swing makes it even better because we can move it around to see it from different angles and still have a sturdy mount.                                                                                                                                                                                                                                                                                                                                                                                                                                                                                                                                                                                                                                                                                                                                                                                                                                                                                                                                                                                                                                                                         |             5 |           1 |\n",
    "| R1000CJMO2L8X4 | Perfect for the gym                                                                                                                                                                                                                                                                                                                                                                                                                                                                                                                                                                                                                                                                                                                                                                                                                                                                                                                                                                                                                                                                                                                                                                                                                                                                                                     |             5 |           1 |\n",
    "| R1000EDGJUU3CU | Love these !!! The sound quality is amazing ! The price was amazing especially for the quality.                                                                                                                                                                                                                                                                                                                                                                                                                                                                                                                                                                                                                                                                                                                                                                                                                                                                                                                                                                                                                                                                                                                                                                                                                         |             5 |           1 |\n",
    "| R1000EG9XXBLXT | I have had good success with these disks, and have used hundreds of them successfully on both computers and a dedicated Panosonic DVD recorder. They seem very reliable, and the lines on the disk label help to keep labeling neat and straight.                                                                                                                                                                                                                                                                                                                                                                                                                                                                                                                                                                                                                                                                                                                                                                                                                                                                                                                                                                                                                                                                       |             5 |           1 |\n",
    "\n",
    "\n",
    "\n",
    "\n",
    "\n",
    "\n",
    "\n",
    "<div style=\"text-align: right\"><font size=4> <i class=\"fa fa-check-square-o\" aria-hidden=\"true\" style=\"color:#00586D\"></i></font></div>\n",
    "\n",
    "-----"
   ]
  },
  {
   "cell_type": "markdown",
   "id": "ea3eb4e7",
   "metadata": {},
   "source": [
    "### <font color=\"#004D7F\"> <i class=\"fa fa-pencil-square-o\" aria-hidden=\"true\" style=\"color:#004D7F\"></i> Tarea 8: División del conjunto de datos </font>\n",
    "<br>\n",
    "\n",
    "Divide el conjunto de datos en entrenamiento (70% de los datos) y test (30% de los datos). Una vez hecho esto, guarda los datos de test en el bucket the s3 previamente creado (usa el nombre `electronics_test`)"
   ]
  },
  {
   "cell_type": "code",
   "execution_count": 49,
   "id": "b4ca164b",
   "metadata": {},
   "outputs": [
    {
     "data": {
      "application/vnd.jupyter.widget-view+json": {
       "model_id": "a1deeeb8570b4739b6892ed1b8584f3b",
       "version_major": 2,
       "version_minor": 0
      },
      "text/plain": [
       "VBox()"
      ]
     },
     "metadata": {},
     "output_type": "display_data"
    },
    {
     "data": {
      "application/vnd.jupyter.widget-view+json": {
       "model_id": "",
       "version_major": 2,
       "version_minor": 0
      },
      "text/plain": [
       "FloatProgress(value=0.0, bar_style='info', description='Progress:', layout=Layout(height='25px', width='50%'),…"
      ]
     },
     "metadata": {},
     "output_type": "display_data"
    }
   ],
   "source": [
    "# Solución\n",
    "df_train, df_test = df_sentiment.randomSplit([0.7, 0.3], seed=42)\n",
    "\n",
    "df_test.write.format(\"parquet\").mode(\"overwrite\").save(\"s3a://sergio-saez-capstone12/electronics/electronics_test\")"
   ]
  },
  {
   "cell_type": "markdown",
   "id": "9f77c5df",
   "metadata": {},
   "source": [
    "\n",
    "\n",
    "<div style=\"text-align: right\"><font size=4> <i class=\"fa fa-check-square-o\" aria-hidden=\"true\" style=\"color:#00586D\"></i></font></div>\n",
    "\n",
    "-----"
   ]
  },
  {
   "cell_type": "markdown",
   "id": "6a7bbf12",
   "metadata": {},
   "source": [
    "A continuación vamos a entrenar el modelo, para ello utilizaremos diferentes opciones de preprocesamiento. Para poder entrenar un clasificador de sentimiento necesitamos contruir una representación del texto que nos permita entrenar el modelo. Para ello utilizaremos podemos utilizar algoritmos de extracción de características como TF-IDF o Word2Vec que vienen implementados en Spark MLlib y que nos permitirá transformar una cadena de texto a un vector para utilizarlo como datos de entrenamiento de un clasificador.  Una vez implementado el modelo, lo serializaremos y guardaremos en S3 para la parte 2"
   ]
  },
  {
   "cell_type": "markdown",
   "id": "0d83bdaa",
   "metadata": {},
   "source": [
    "---\n",
    "### <font color=\"#004D7F\"> <i class=\"fa fa-pencil-square-o\" aria-hidden=\"true\" style=\"color:#004D7F\"></i> Tarea 8: Modelo de sentiment </font>\n",
    "<br>\n",
    "\n",
    "Construye un **pipeline** de entrenamiento de un modelo de sentiment a partir de los datos preparados anteriormente. Deberas utilizar una secuencia de diferentes  **transformadores** y **estimadores**:\n",
    "- `Tokenizer` nos permitirá construir un vector de palabras a partir de nuestras sentencias\n",
    "- `StopWordsRemover` nos permitirá limpiar de nuestros vectores de palabras las de menor significado\n",
    "\n",
    "- Construcción de características dos alternativas:\n",
    "    -  Modelo TF-IDF usando `HashingTF` e `IDF`\n",
    "    - `Word2Vec` nos permitirá crear un vector a partir de la lista de palabras\n",
    "\n",
    "- Clasificación binaria, basada en la variable sentiment que hemos utilizado, aplica un clasificador (LogisticRegregession, DecisionTree) evita ensembles por su alto tiempo de aprendizaje.\n",
    "\n",
    "Buscando en la documentación, encuentra los distintos elementos y conectalos en un pipeline junto a un algorimo de clasificación\n",
    "\n",
    "- Recomendamos utilizar una muestra (método `sample`) pues el tiempo puede ser excesivo\n",
    "- Es posible ajustar hiperparámetros, pero igualmente puede ser bastante lento\n",
    "\n",
    "**Valida el modelo con el conjunto de test anterior usando el area bajo la curva ROC**"
   ]
  },
  {
   "cell_type": "code",
   "execution_count": 51,
   "id": "4bb11fed",
   "metadata": {},
   "outputs": [
    {
     "data": {
      "application/vnd.jupyter.widget-view+json": {
       "model_id": "4b8baa61a1ff49b48ce898ad5fcdb5a0",
       "version_major": 2,
       "version_minor": 0
      },
      "text/plain": [
       "VBox()"
      ]
     },
     "metadata": {},
     "output_type": "display_data"
    },
    {
     "data": {
      "application/vnd.jupyter.widget-view+json": {
       "model_id": "",
       "version_major": 2,
       "version_minor": 0
      },
      "text/plain": [
       "FloatProgress(value=0.0, bar_style='info', description='Progress:', layout=Layout(height='25px', width='50%'),…"
      ]
     },
     "metadata": {},
     "output_type": "display_data"
    },
    {
     "name": "stdout",
     "output_type": "stream",
     "text": [
      "+--------------+---------+----------+\n",
      "|     review_id|sentiment|prediction|\n",
      "+--------------+---------+----------+\n",
      "| RM4JRCDO1MD98|        1|       1.0|\n",
      "|R2LNIV0NWI9FEJ|        1|       1.0|\n",
      "|R1HHV9ZLB1OFKW|        1|       1.0|\n",
      "|R3QR1GBTJE0A36|        1|       1.0|\n",
      "|R26B63MDTPIBEG|        1|       1.0|\n",
      "|R3HYO5EBQ5Q9X1|        1|       1.0|\n",
      "|R2JMWZGV14FU8N|        1|       1.0|\n",
      "|R1TMNS08MNM0G1|        1|       1.0|\n",
      "| RCQ8W0Y1WJ4Z3|        1|       1.0|\n",
      "| RMK15V38NXTFC|        1|       1.0|\n",
      "+--------------+---------+----------+\n",
      "only showing top 10 rows\n",
      "\n",
      "?rea bajo la curva ROC: 0.6953657789508558"
     ]
    }
   ],
   "source": [
    "# Solución\n",
    "from pyspark.ml import Pipeline\n",
    "from pyspark.ml.feature import Tokenizer, StopWordsRemover, HashingTF, IDF\n",
    "from pyspark.ml.classification import LogisticRegression\n",
    "from pyspark.ml.evaluation import BinaryClassificationEvaluator\n",
    "\n",
    "#Definimos los transformadores\n",
    "tokenizer = Tokenizer(inputCol=\"clean_review_body\", outputCol=\"words\")\n",
    "remover = StopWordsRemover(inputCol=\"words\",outputCol=\"filtered_words\")\n",
    "hashingTF = HashingTF(inputCol=\"filtered_words\",outputCol=\"rawFeatures\", numFeatures=1000)\n",
    "idf = IDF(inputCol=\"rawFeatures\", outputCol=\"features\")\n",
    "classifier = LogisticRegression(featuresCol=\"features\", labelCol=\"sentiment\")\n",
    "\n",
    "#Creamos el pipeline\n",
    "pipeline = Pipeline(stages=[tokenizer, remover, hashingTF, idf, classifier])\n",
    "\n",
    "#Entrenamos el modelo con una muestra del conjunto de entrenamiento\n",
    "model = pipeline.fit(df_train.sample(0.1, seed=42))\n",
    "\n",
    "#Realizamos las predicciones con el conjunto de test\n",
    "predictions = model.transform(df_test)\n",
    "predictions.select(\"review_id\", \"sentiment\", \"prediction\").show(10)\n",
    "\n",
    "#Creamos el evaluador de clasificación binaria\n",
    "evaluator = BinaryClassificationEvaluator(labelCol=\"sentiment\", rawPredictionCol=\"prediction\")\n",
    "\n",
    "# Calculamos el área bajo la curva ROC para las predicciones\n",
    "roc_auc = evaluator.evaluate(predictions)\n",
    "print(\"Área bajo la curva ROC:\", roc_auc)"
   ]
  },
  {
   "cell_type": "markdown",
   "id": "2ffc3708",
   "metadata": {},
   "source": [
    "\n",
    "\n",
    "<div style=\"text-align: right\"><font size=4> <i class=\"fa fa-check-square-o\" aria-hidden=\"true\" style=\"color:#00586D\"></i></font></div>"
   ]
  },
  {
   "cell_type": "markdown",
   "id": "6c40fb21",
   "metadata": {},
   "source": [
    "---\n",
    "### <font color=\"#004D7F\"> <i class=\"fa fa-pencil-square-o\" aria-hidden=\"true\" style=\"color:#004D7F\"></i> Tarea 9: Serialización </font>\n",
    "<br>\n",
    "\n",
    "Guarda el modelo entrenado en S3 (al bucket que creaste anteriormente) utilizando la opción nativa de Spark. "
   ]
  },
  {
   "cell_type": "code",
   "execution_count": null,
   "id": "8df4da92",
   "metadata": {
    "tags": []
   },
   "outputs": [],
   "source": [
    "# Solución"
   ]
  },
  {
   "cell_type": "code",
   "execution_count": 52,
   "id": "974882fc",
   "metadata": {},
   "outputs": [
    {
     "data": {
      "application/vnd.jupyter.widget-view+json": {
       "model_id": "65c10cfdcf8c49ecb4e26ef07ace8a84",
       "version_major": 2,
       "version_minor": 0
      },
      "text/plain": [
       "VBox()"
      ]
     },
     "metadata": {},
     "output_type": "display_data"
    },
    {
     "data": {
      "application/vnd.jupyter.widget-view+json": {
       "model_id": "",
       "version_major": 2,
       "version_minor": 0
      },
      "text/plain": [
       "FloatProgress(value=0.0, bar_style='info', description='Progress:', layout=Layout(height='25px', width='50%'),…"
      ]
     },
     "metadata": {},
     "output_type": "display_data"
    }
   ],
   "source": [
    "model_path = \"s3a://sergio-saez-capstone12/pipeline_model\"\n",
    "model.save(model_path)"
   ]
  }
 ],
 "metadata": {
  "kernelspec": {
   "display_name": "PySpark",
   "language": "python",
   "name": "pysparkkernel"
  },
  "language_info": {
   "codemirror_mode": {
    "name": "python",
    "version": 3
   },
   "file_extension": ".py",
   "mimetype": "text/x-python",
   "name": "pyspark",
   "pygments_lexer": "python3"
  }
 },
 "nbformat": 4,
 "nbformat_minor": 5
}
